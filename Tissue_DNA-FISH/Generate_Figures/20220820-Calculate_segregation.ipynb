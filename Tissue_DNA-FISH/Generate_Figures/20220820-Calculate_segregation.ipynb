{
 "cells": [
  {
   "cell_type": "code",
   "execution_count": 1,
   "id": "59acc262",
   "metadata": {},
   "outputs": [
    {
     "name": "stdout",
     "output_type": "stream",
     "text": [
      "24412\n"
     ]
    }
   ],
   "source": [
    "%run \"..\\..\\Startup_py3.py\"\n",
    "sys.path.append(r\"..\\..\\..\\..\\Documents\")\n",
    "\n",
    "import ImageAnalysis3 as ia\n",
    "%matplotlib notebook\n",
    "\n",
    "from ImageAnalysis3 import *\n",
    "print(os.getpid())\n",
    "\n",
    "import h5py\n",
    "from ImageAnalysis3.classes import _allowed_kwds\n",
    "import ast"
   ]
  },
  {
   "cell_type": "code",
   "execution_count": 2,
   "id": "3c8ca106",
   "metadata": {},
   "outputs": [
    {
     "name": "stdout",
     "output_type": "stream",
     "text": [
      "Use contact_figure_folder: \\\\10.245.74.158\\Chromatin_NAS_8\\Analyzed_data\\20220803-Figures\\LongRangeContacts\n",
      "Use comp_figure_folder: \\\\10.245.74.158\\Chromatin_NAS_8\\Analyzed_data\\20220803-Figures\\AB_compartments\n"
     ]
    }
   ],
   "source": [
    "from matplotlib.colors import LogNorm\n",
    "from ImageAnalysis3.figure_tools import _dpi,_single_col_width,_double_col_width,_single_row_height,_ref_bar_length, _ticklabel_size,_ticklabel_width,_font_size\n",
    "plt.style.use('dark_background')\n",
    "\n",
    "figure_master_folder = r'\\\\10.245.74.158\\Chromatin_NAS_8\\Analyzed_data\\20220803-Figures'\n",
    "contact_figure_folder = os.path.join(figure_master_folder, 'LongRangeContacts')\n",
    "if not os.path.exists(contact_figure_folder):\n",
    "    print(f\"Create contact_figure_folder: {contact_figure_folder}\")\n",
    "    os.makedirs(contact_figure_folder)\n",
    "else:\n",
    "    print(f\"Use contact_figure_folder: {contact_figure_folder}\")\n",
    "comp_figure_folder = os.path.join(figure_master_folder, 'AB_compartments')\n",
    "if not os.path.exists(comp_figure_folder):\n",
    "    print(f\"Create comp_figure_folder: {comp_figure_folder}\")\n",
    "    os.makedirs(comp_figure_folder)\n",
    "else:\n",
    "    print(f\"Use comp_figure_folder: {comp_figure_folder}\")"
   ]
  },
  {
   "cell_type": "code",
   "execution_count": null,
   "id": "50233e6d",
   "metadata": {},
   "outputs": [],
   "source": []
  }
 ],
 "metadata": {
  "kernelspec": {
   "display_name": "ia3_postanalysis",
   "language": "python",
   "name": "ia3_postanalysis"
  },
  "language_info": {
   "codemirror_mode": {
    "name": "ipython",
    "version": 3
   },
   "file_extension": ".py",
   "mimetype": "text/x-python",
   "name": "python",
   "nbconvert_exporter": "python",
   "pygments_lexer": "ipython3",
   "version": "3.9.12"
  }
 },
 "nbformat": 4,
 "nbformat_minor": 5
}
