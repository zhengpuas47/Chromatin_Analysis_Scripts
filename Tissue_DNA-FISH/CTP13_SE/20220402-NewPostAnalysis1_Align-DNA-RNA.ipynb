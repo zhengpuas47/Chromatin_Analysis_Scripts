{
 "cells": [
  {
   "cell_type": "markdown",
   "id": "adae19b9",
   "metadata": {},
   "source": [
    "# Analysis of DNA-MERFISH for CTP11,12,13\n",
    "\n",
    "by Pu Zheng\n",
    "\n",
    "2022.07.07\n",
    "\n",
    "analysis for dataset:\n",
    "\n",
    "dna_data_folder = r'\\\\10.245.74.158\\Chromatin_NAS_4\\20220402-P_brain_CTP11-13_from_0329'\n",
    "\n",
    "rna_data_folder = r'\\\\10.245.74.158\\Chromatin_NAS_0\\20220329-P_brain_M1_nonclear_adaptors'\n",
    "\n",
    "save_folder = r'\\\\10.245.74.158\\Chromatin_NAS_8\\Analyzed_data\\20220402-P_brain_CTP11-13_from_0329_warp'"
   ]
  },
  {
   "cell_type": "code",
   "execution_count": 2,
   "id": "eab9ec2f",
   "metadata": {},
   "outputs": [
    {
     "name": "stdout",
     "output_type": "stream",
     "text": [
      "4128\n"
     ]
    }
   ],
   "source": [
    "%run \"..\\..\\Startup_py3.py\"\n",
    "sys.path.append(r\"..\\..\\..\\..\\Documents\")\n",
    "\n",
    "import ImageAnalysis3 as ia\n",
    "%matplotlib notebook\n",
    "\n",
    "from ImageAnalysis3 import *\n",
    "print(os.getpid())\n",
    "\n",
    "import h5py\n",
    "from ImageAnalysis3.classes import _allowed_kwds\n",
    "import ast"
   ]
  },
  {
   "cell_type": "markdown",
   "id": "1a88aef2",
   "metadata": {},
   "source": [
    "## 0.1 Folders"
   ]
  },
  {
   "cell_type": "code",
   "execution_count": 3,
   "id": "ff01699a",
   "metadata": {},
   "outputs": [
    {
     "name": "stdout",
     "output_type": "stream",
     "text": [
      "161 fovs detected\n",
      "Creating segmentation_folder: \\\\10.245.74.158\\Chromatin_NAS_8\\Analyzed_data\\20220402-P_brain_CTP11-13_from_0329_warp\\Analysis_0709\\Segmentation\n",
      "Creating cand_spot_folder: \\\\10.245.74.158\\Chromatin_NAS_8\\Analyzed_data\\20220402-P_brain_CTP11-13_from_0329_warp\\Analysis_0709\\CandSpots\n",
      "Creating decoder_folder: \\\\10.245.74.158\\Chromatin_NAS_8\\Analyzed_data\\20220402-P_brain_CTP11-13_from_0329_warp\\Analysis_0709\\Decoder\n",
      "Creating picked_folder: \\\\10.245.74.158\\Chromatin_NAS_8\\Analyzed_data\\20220402-P_brain_CTP11-13_from_0329_warp\\Analysis_0709\\Picked_v0\n"
     ]
    }
   ],
   "source": [
    "save_folder = r'\\\\10.245.74.158\\Chromatin_NAS_8\\Analyzed_data\\20220402-P_brain_CTP11-13_from_0329_warp'\n",
    "save_filenames = [os.path.join(save_folder, _fl) for _fl in os.listdir(save_folder)\n",
    "                  if _fl.split(os.extsep)[-1]=='hdf5']\n",
    "# extract fov_id\n",
    "save_fov_ids = [int(os.path.basename(_fl).split('.hdf5')[0].split('_')[-1]) for _fl in save_filenames]\n",
    "\n",
    "debug = False\n",
    "\n",
    "print(f\"{len(save_filenames)} fovs detected\")\n",
    "\n",
    "analysis_folder = os.path.join(save_folder, 'Analysis_0709')\n",
    "\n",
    "segmentation_folder = os.path.join(analysis_folder, 'Segmentation')\n",
    "if not os.path.exists(segmentation_folder):\n",
    "    os.makedirs(segmentation_folder)\n",
    "    print(f\"Creating segmentation_folder: {segmentation_folder}\")\n",
    "else:\n",
    "    print(f\"Use segmentation_folder: {segmentation_folder}\")\n",
    "\n",
    "cand_spot_folder = os.path.join(analysis_folder, 'CandSpots')\n",
    "if not os.path.exists(cand_spot_folder):\n",
    "    os.makedirs(cand_spot_folder)\n",
    "    print(f\"Creating cand_spot_folder: {cand_spot_folder}\")\n",
    "else:\n",
    "    print(f\"Use cand_spot_folder: {cand_spot_folder}\")\n",
    "\n",
    "decoder_folder = cand_spot_folder.replace('CandSpots', 'Decoder')\n",
    "if debug:\n",
    "    _version = 0\n",
    "    while os.path.exists(os.path.join(decoder_folder, f'v{_version}')):\n",
    "        _version += 1\n",
    "    decoder_folder = os.path.join(decoder_folder, f'v{_version}')\n",
    "if not os.path.exists(decoder_folder):\n",
    "    os.makedirs(decoder_folder)\n",
    "    print(f\"Creating decoder_folder: {decoder_folder}\")\n",
    "else:\n",
    "    print(f\"Use decoder_folder: {decoder_folder}\")\n",
    "    \n",
    "picked_folder = os.path.join(analysis_folder, 'Picked_v0')\n",
    "if not os.path.exists(picked_folder):\n",
    "    os.makedirs(picked_folder)\n",
    "    print(f\"Creating picked_folder: {picked_folder}\")\n",
    "else:\n",
    "    print(f\"Use picked_folder: {picked_folder}\")"
   ]
  },
  {
   "cell_type": "markdown",
   "id": "9fcaa7d8",
   "metadata": {},
   "source": [
    "pixel_sizes = np.array([250,108,108])\n",
    "single_im_size = np.array([50,2048,2048])"
   ]
  },
  {
   "cell_type": "markdown",
   "id": "6892fe61",
   "metadata": {},
   "source": [
    "# 1. Translate segmentation"
   ]
  },
  {
   "cell_type": "markdown",
   "id": "e5c3c625",
   "metadata": {},
   "source": [
    "## 1.1 load rotation"
   ]
  },
  {
   "cell_type": "code",
   "execution_count": 4,
   "id": "cdb21adf",
   "metadata": {},
   "outputs": [
    {
     "name": "stdout",
     "output_type": "stream",
     "text": [
      "\\\\10.245.74.158\\Chromatin_NAS_0\\20220329-P_brain_M1_nonclear_adaptors\\Alignment\\10x_positions_before.txt \n",
      " \\\\10.245.74.158\\Chromatin_NAS_4\\20220402-P_brain_CTP11-13_from_0329\\Alignment\\10x_positions_after.txt\n",
      "True True\n",
      "- Manually picked points aligned, rotation:\n",
      "[[ 0.99998841 -0.00481543]\n",
      " [ 0.00481543  0.99998841]],\n",
      " translation:[ 412.64412197 -655.60133037]\n",
      "-- rotation matrix saved to file:\\\\10.245.74.158\\Chromatin_NAS_8\\Analyzed_data\\20220402-P_brain_CTP11-13_from_0329_warp\\rotation\n",
      "-- translation matrix saved to file:\\\\10.245.74.158\\Chromatin_NAS_8\\Analyzed_data\\20220402-P_brain_CTP11-13_from_0329_warp\\translation\n"
     ]
    }
   ],
   "source": [
    "# generate alignment\n",
    "dna_data_folder = r'\\\\10.245.74.158\\Chromatin_NAS_4\\20220402-P_brain_CTP11-13_from_0329'\n",
    "rna_data_folder = r'\\\\10.245.74.158\\Chromatin_NAS_0\\20220329-P_brain_M1_nonclear_adaptors'\n",
    "\n",
    "rna_alignment_file = os.path.join(rna_data_folder, 'Alignment', '10x_positions_before.txt')\n",
    "dna_alignment_file = os.path.join(dna_data_folder, 'Alignment', '10x_positions_after.txt')\n",
    "print(rna_alignment_file, '\\n', dna_alignment_file)\n",
    "print(os.path.exists(rna_alignment_file), os.path.exists(dna_alignment_file))\n",
    "R, t = ia.correction_tools.alignment.align_manual_points(rna_alignment_file, dna_alignment_file,\n",
    "                                                         save_folder=save_folder)"
   ]
  },
  {
   "cell_type": "markdown",
   "id": "134608aa",
   "metadata": {},
   "source": [
    "# 1.2 save DAPI image for RNA"
   ]
  },
  {
   "cell_type": "code",
   "execution_count": 5,
   "id": "f535d80d",
   "metadata": {},
   "outputs": [
    {
     "name": "stdout",
     "output_type": "stream",
     "text": [
      "\\\\10.245.74.158\\Chromatin_NAS_8\\Analyzed_data\\20220402-P_brain_CTP11-13_from_0329_warp\\Analysis_0709\\Merfish_DAPI\n"
     ]
    }
   ],
   "source": [
    "# MERFISH segmentation info\n",
    "merfish_segmentation_folder = r'\\\\10.245.74.158\\Chromatin_NAS_8\\MERFISH\\v2\\20220329-storm6_M1\\CellPoseSegment\\features'\n",
    "merfish_dapi_folder = os.path.join(analysis_folder, 'Merfish_DAPI')\n",
    "if not os.path.exists(merfish_dapi_folder):\n",
    "    print(merfish_dapi_folder)\n",
    "    os.makedirs(merfish_dapi_folder)"
   ]
  },
  {
   "cell_type": "code",
   "execution_count": 6,
   "id": "79ec969f",
   "metadata": {},
   "outputs": [
    {
     "name": "stdout",
     "output_type": "stream",
     "text": [
      "Get Folder Names: (ia.get_img_info.get_folders)\n",
      "- Number of folders: 12\n",
      "- Number of field of views: 161\n"
     ]
    }
   ],
   "source": [
    "from tqdm import tqdm\n",
    "rna_fds, rna_fovs = ia.io_tools.data.get_folders(rna_data_folder)\n",
    "ref_fd = rna_fds[0]"
   ]
  },
  {
   "cell_type": "code",
   "execution_count": 7,
   "id": "4c14549b",
   "metadata": {},
   "outputs": [
    {
     "data": {
      "text/plain": [
       "<module 'ImageAnalysis3.classes.preprocess' from 'E:\\\\Users\\\\puzheng\\\\Documents\\\\ImageAnalysis3\\\\classes\\\\preprocess.py'>"
      ]
     },
     "execution_count": 7,
     "metadata": {},
     "output_type": "execute_result"
    }
   ],
   "source": [
    "reload(ia.classes.preprocess)"
   ]
  },
  {
   "cell_type": "code",
   "execution_count": 8,
   "id": "7b0ac5e9",
   "metadata": {
    "scrolled": true
   },
   "outputs": [
    {
     "name": "stderr",
     "output_type": "stream",
     "text": [
      "\r",
      "  0%|                                                                                          | 0/161 [00:00<?, ?it/s]"
     ]
    },
    {
     "name": "stdout",
     "output_type": "stream",
     "text": [
      "Initialize DaxProcesser for file:\\\\10.245.74.158\\Chromatin_NAS_0\\20220329-P_brain_M1_nonclear_adaptors\\H0M1\\Conv_zscan_000.dax\n",
      "-- all used channels: ['750', '647', '488', '405']\n",
      "-- single image size: [  50 2048 2048]\n",
      "- Loaded images for channels:['405'] in 4.795s.\n",
      "- Correct illumination for channels: ['405']\n",
      "-- Keep channels: ['405'] for corr_illumination.\n",
      "-- loading illumination correction profile from file:\n",
      "\t 405 illumination_correction_405_2048x2048.npy\n",
      "-- corrected illumination for channel 405 in 8.072s.\n",
      "- Finished illumination correction in 8.164s.\n"
     ]
    },
    {
     "name": "stderr",
     "output_type": "stream",
     "text": [
      "\r",
      "  1%|▌                                                                                 | 1/161 [00:13<36:50, 13.81s/it]"
     ]
    },
    {
     "name": "stdout",
     "output_type": "stream",
     "text": [
      "Initialize DaxProcesser for file:\\\\10.245.74.158\\Chromatin_NAS_0\\20220329-P_brain_M1_nonclear_adaptors\\H0M1\\Conv_zscan_001.dax\n",
      "-- all used channels: ['750', '647', '488', '405']\n",
      "-- single image size: [  50 2048 2048]\n",
      "- Loaded images for channels:['405'] in 5.377s.\n",
      "- Correct illumination for channels: ['405']\n",
      "-- Keep channels: ['405'] for corr_illumination.\n",
      "-- loading illumination correction profile from file:\n",
      "\t 405 illumination_correction_405_2048x2048.npy\n",
      "-- corrected illumination for channel 405 in 8.120s.\n",
      "- Finished illumination correction in 8.223s.\n"
     ]
    },
    {
     "name": "stderr",
     "output_type": "stream",
     "text": [
      "\r",
      "  1%|█                                                                                 | 2/161 [00:28<37:46, 14.26s/it]"
     ]
    },
    {
     "name": "stdout",
     "output_type": "stream",
     "text": [
      "Initialize DaxProcesser for file:\\\\10.245.74.158\\Chromatin_NAS_0\\20220329-P_brain_M1_nonclear_adaptors\\H0M1\\Conv_zscan_002.dax\n",
      "-- all used channels: ['750', '647', '488', '405']\n",
      "-- single image size: [  50 2048 2048]\n",
      "- Loaded images for channels:['405'] in 5.110s.\n",
      "- Correct illumination for channels: ['405']\n",
      "-- Keep channels: ['405'] for corr_illumination.\n",
      "-- loading illumination correction profile from file:\n",
      "\t 405 illumination_correction_405_2048x2048.npy\n",
      "-- corrected illumination for channel 405 in 8.032s.\n",
      "- Finished illumination correction in 8.115s.\n"
     ]
    },
    {
     "name": "stderr",
     "output_type": "stream",
     "text": [
      "\r",
      "  2%|█▌                                                                                | 3/161 [00:42<37:29, 14.24s/it]"
     ]
    },
    {
     "name": "stdout",
     "output_type": "stream",
     "text": [
      "Initialize DaxProcesser for file:\\\\10.245.74.158\\Chromatin_NAS_0\\20220329-P_brain_M1_nonclear_adaptors\\H0M1\\Conv_zscan_003.dax\n",
      "-- all used channels: ['750', '647', '488', '405']\n",
      "-- single image size: [  50 2048 2048]\n",
      "- Loaded images for channels:['405'] in 4.398s.\n",
      "- Correct illumination for channels: ['405']\n",
      "-- Keep channels: ['405'] for corr_illumination.\n",
      "-- loading illumination correction profile from file:\n",
      "\t 405 illumination_correction_405_2048x2048.npy\n",
      "-- corrected illumination for channel 405 in 7.979s.\n",
      "- Finished illumination correction in 8.064s.\n"
     ]
    },
    {
     "name": "stderr",
     "output_type": "stream",
     "text": [
      "\r",
      "  2%|██                                                                                | 4/161 [00:56<36:27, 13.93s/it]"
     ]
    },
    {
     "name": "stdout",
     "output_type": "stream",
     "text": [
      "Initialize DaxProcesser for file:\\\\10.245.74.158\\Chromatin_NAS_0\\20220329-P_brain_M1_nonclear_adaptors\\H0M1\\Conv_zscan_004.dax\n",
      "-- all used channels: ['750', '647', '488', '405']\n",
      "-- single image size: [  50 2048 2048]\n",
      "- Loaded images for channels:['405'] in 4.701s.\n",
      "- Correct illumination for channels: ['405']\n",
      "-- Keep channels: ['405'] for corr_illumination.\n",
      "-- loading illumination correction profile from file:\n",
      "\t 405 illumination_correction_405_2048x2048.npy\n",
      "-- corrected illumination for channel 405 in 8.116s.\n",
      "- Finished illumination correction in 8.247s.\n"
     ]
    },
    {
     "name": "stderr",
     "output_type": "stream",
     "text": [
      "\r",
      "  3%|██▌                                                                               | 5/161 [01:09<36:07, 13.89s/it]"
     ]
    },
    {
     "name": "stdout",
     "output_type": "stream",
     "text": [
      "Initialize DaxProcesser for file:\\\\10.245.74.158\\Chromatin_NAS_0\\20220329-P_brain_M1_nonclear_adaptors\\H0M1\\Conv_zscan_005.dax\n",
      "-- all used channels: ['750', '647', '488', '405']\n",
      "-- single image size: [  50 2048 2048]\n",
      "- Loaded images for channels:['405'] in 6.345s.\n",
      "- Correct illumination for channels: ['405']\n",
      "-- Keep channels: ['405'] for corr_illumination.\n",
      "-- loading illumination correction profile from file:\n",
      "\t 405 illumination_correction_405_2048x2048.npy\n",
      "-- corrected illumination for channel 405 in 8.085s.\n",
      "- Finished illumination correction in 8.182s.\n"
     ]
    },
    {
     "name": "stderr",
     "output_type": "stream",
     "text": [
      "\r",
      "  4%|███                                                                               | 6/161 [01:25<37:18, 14.44s/it]"
     ]
    },
    {
     "name": "stdout",
     "output_type": "stream",
     "text": [
      "Initialize DaxProcesser for file:\\\\10.245.74.158\\Chromatin_NAS_0\\20220329-P_brain_M1_nonclear_adaptors\\H0M1\\Conv_zscan_006.dax\n",
      "-- all used channels: ['750', '647', '488', '405']\n",
      "-- single image size: [  50 2048 2048]\n",
      "- Loaded images for channels:['405'] in 4.837s.\n",
      "- Correct illumination for channels: ['405']\n",
      "-- Keep channels: ['405'] for corr_illumination.\n",
      "-- loading illumination correction profile from file:\n",
      "\t 405 illumination_correction_405_2048x2048.npy\n",
      "-- corrected illumination for channel 405 in 8.086s.\n",
      "- Finished illumination correction in 8.180s.\n"
     ]
    },
    {
     "name": "stderr",
     "output_type": "stream",
     "text": [
      "\r",
      "  4%|███▌                                                                              | 7/161 [01:39<36:44, 14.32s/it]"
     ]
    },
    {
     "name": "stdout",
     "output_type": "stream",
     "text": [
      "Initialize DaxProcesser for file:\\\\10.245.74.158\\Chromatin_NAS_0\\20220329-P_brain_M1_nonclear_adaptors\\H0M1\\Conv_zscan_007.dax\n",
      "-- all used channels: ['750', '647', '488', '405']\n",
      "-- single image size: [  50 2048 2048]\n",
      "- Loaded images for channels:['405'] in 5.350s.\n",
      "- Correct illumination for channels: ['405']\n",
      "-- Keep channels: ['405'] for corr_illumination.\n",
      "-- loading illumination correction profile from file:\n",
      "\t 405 illumination_correction_405_2048x2048.npy\n",
      "-- corrected illumination for channel 405 in 8.043s.\n",
      "- Finished illumination correction in 8.148s.\n"
     ]
    },
    {
     "name": "stderr",
     "output_type": "stream",
     "text": [
      "\r",
      "  5%|████                                                                              | 8/161 [01:53<36:35, 14.35s/it]"
     ]
    },
    {
     "name": "stdout",
     "output_type": "stream",
     "text": [
      "Initialize DaxProcesser for file:\\\\10.245.74.158\\Chromatin_NAS_0\\20220329-P_brain_M1_nonclear_adaptors\\H0M1\\Conv_zscan_008.dax\n",
      "-- all used channels: ['750', '647', '488', '405']\n",
      "-- single image size: [  50 2048 2048]\n",
      "- Loaded images for channels:['405'] in 4.817s.\n",
      "- Correct illumination for channels: ['405']\n",
      "-- Keep channels: ['405'] for corr_illumination.\n",
      "-- loading illumination correction profile from file:\n",
      "\t 405 illumination_correction_405_2048x2048.npy\n",
      "-- corrected illumination for channel 405 in 7.871s.\n",
      "- Finished illumination correction in 7.966s.\n"
     ]
    },
    {
     "name": "stderr",
     "output_type": "stream",
     "text": [
      "\r",
      "  6%|████▌                                                                             | 9/161 [02:07<35:46, 14.12s/it]"
     ]
    },
    {
     "name": "stdout",
     "output_type": "stream",
     "text": [
      "Initialize DaxProcesser for file:\\\\10.245.74.158\\Chromatin_NAS_0\\20220329-P_brain_M1_nonclear_adaptors\\H0M1\\Conv_zscan_009.dax\n",
      "-- all used channels: ['750', '647', '488', '405']\n",
      "-- single image size: [  50 2048 2048]\n",
      "- Loaded images for channels:['405'] in 5.090s.\n",
      "- Correct illumination for channels: ['405']\n",
      "-- Keep channels: ['405'] for corr_illumination.\n",
      "-- loading illumination correction profile from file:\n",
      "\t 405 illumination_correction_405_2048x2048.npy\n",
      "-- corrected illumination for channel 405 in 8.015s.\n",
      "- Finished illumination correction in 8.104s.\n"
     ]
    },
    {
     "name": "stderr",
     "output_type": "stream",
     "text": [
      "\r",
      "  6%|█████                                                                            | 10/161 [02:21<35:33, 14.13s/it]"
     ]
    },
    {
     "name": "stdout",
     "output_type": "stream",
     "text": [
      "Initialize DaxProcesser for file:\\\\10.245.74.158\\Chromatin_NAS_0\\20220329-P_brain_M1_nonclear_adaptors\\H0M1\\Conv_zscan_010.dax\n",
      "-- all used channels: ['750', '647', '488', '405']\n",
      "-- single image size: [  50 2048 2048]\n",
      "- Loaded images for channels:['405'] in 5.669s.\n",
      "- Correct illumination for channels: ['405']\n",
      "-- Keep channels: ['405'] for corr_illumination.\n",
      "-- loading illumination correction profile from file:\n",
      "\t 405 illumination_correction_405_2048x2048.npy\n",
      "-- corrected illumination for channel 405 in 8.082s.\n",
      "- Finished illumination correction in 8.211s.\n"
     ]
    },
    {
     "name": "stderr",
     "output_type": "stream",
     "text": [
      "\r",
      "  7%|█████▌                                                                           | 11/161 [02:36<35:50, 14.34s/it]"
     ]
    },
    {
     "name": "stdout",
     "output_type": "stream",
     "text": [
      "Initialize DaxProcesser for file:\\\\10.245.74.158\\Chromatin_NAS_0\\20220329-P_brain_M1_nonclear_adaptors\\H0M1\\Conv_zscan_011.dax\n",
      "-- all used channels: ['750', '647', '488', '405']\n",
      "-- single image size: [  50 2048 2048]\n",
      "- Loaded images for channels:['405'] in 5.021s.\n",
      "- Correct illumination for channels: ['405']\n",
      "-- Keep channels: ['405'] for corr_illumination.\n",
      "-- loading illumination correction profile from file:\n",
      "\t 405 illumination_correction_405_2048x2048.npy\n",
      "-- corrected illumination for channel 405 in 7.984s.\n",
      "- Finished illumination correction in 8.081s.\n"
     ]
    },
    {
     "name": "stderr",
     "output_type": "stream",
     "text": [
      "\r",
      "  7%|██████                                                                           | 12/161 [02:50<35:18, 14.22s/it]"
     ]
    },
    {
     "name": "stdout",
     "output_type": "stream",
     "text": [
      "Initialize DaxProcesser for file:\\\\10.245.74.158\\Chromatin_NAS_0\\20220329-P_brain_M1_nonclear_adaptors\\H0M1\\Conv_zscan_012.dax\n",
      "-- all used channels: ['750', '647', '488', '405']\n",
      "-- single image size: [  50 2048 2048]\n",
      "- Loaded images for channels:['405'] in 5.568s.\n",
      "- Correct illumination for channels: ['405']\n",
      "-- Keep channels: ['405'] for corr_illumination.\n",
      "-- loading illumination correction profile from file:\n",
      "\t 405 illumination_correction_405_2048x2048.npy\n",
      "-- corrected illumination for channel 405 in 8.077s.\n",
      "- Finished illumination correction in 8.172s.\n"
     ]
    },
    {
     "name": "stderr",
     "output_type": "stream",
     "text": [
      "\r",
      "  8%|██████▌                                                                          | 13/161 [03:05<35:37, 14.44s/it]"
     ]
    },
    {
     "name": "stdout",
     "output_type": "stream",
     "text": [
      "Initialize DaxProcesser for file:\\\\10.245.74.158\\Chromatin_NAS_0\\20220329-P_brain_M1_nonclear_adaptors\\H0M1\\Conv_zscan_013.dax\n",
      "-- all used channels: ['750', '647', '488', '405']\n",
      "-- single image size: [  50 2048 2048]\n",
      "- Loaded images for channels:['405'] in 5.392s.\n",
      "- Correct illumination for channels: ['405']\n",
      "-- Keep channels: ['405'] for corr_illumination.\n",
      "-- loading illumination correction profile from file:\n",
      "\t 405 illumination_correction_405_2048x2048.npy\n",
      "-- corrected illumination for channel 405 in 7.867s.\n",
      "- Finished illumination correction in 7.962s.\n"
     ]
    },
    {
     "name": "stderr",
     "output_type": "stream",
     "text": [
      "\r",
      "  9%|███████                                                                          | 14/161 [03:19<35:16, 14.40s/it]"
     ]
    },
    {
     "name": "stdout",
     "output_type": "stream",
     "text": [
      "Initialize DaxProcesser for file:\\\\10.245.74.158\\Chromatin_NAS_0\\20220329-P_brain_M1_nonclear_adaptors\\H0M1\\Conv_zscan_014.dax\n",
      "-- all used channels: ['750', '647', '488', '405']\n",
      "-- single image size: [  50 2048 2048]\n",
      "- Loaded images for channels:['405'] in 4.966s.\n",
      "- Correct illumination for channels: ['405']\n",
      "-- Keep channels: ['405'] for corr_illumination.\n",
      "-- loading illumination correction profile from file:\n",
      "\t 405 illumination_correction_405_2048x2048.npy\n",
      "-- corrected illumination for channel 405 in 8.012s.\n",
      "- Finished illumination correction in 8.105s.\n"
     ]
    },
    {
     "name": "stderr",
     "output_type": "stream",
     "text": [
      "\r",
      "  9%|███████▌                                                                         | 15/161 [03:33<34:45, 14.29s/it]"
     ]
    },
    {
     "name": "stdout",
     "output_type": "stream",
     "text": [
      "Initialize DaxProcesser for file:\\\\10.245.74.158\\Chromatin_NAS_0\\20220329-P_brain_M1_nonclear_adaptors\\H0M1\\Conv_zscan_015.dax\n",
      "-- all used channels: ['750', '647', '488', '405']\n",
      "-- single image size: [  50 2048 2048]\n",
      "- Loaded images for channels:['405'] in 4.830s.\n",
      "- Correct illumination for channels: ['405']\n",
      "-- Keep channels: ['405'] for corr_illumination.\n",
      "-- loading illumination correction profile from file:\n",
      "\t 405 illumination_correction_405_2048x2048.npy\n",
      "-- corrected illumination for channel 405 in 8.003s.\n",
      "- Finished illumination correction in 8.028s.\n"
     ]
    },
    {
     "name": "stderr",
     "output_type": "stream",
     "text": [
      "\r",
      " 10%|████████                                                                         | 16/161 [03:47<34:07, 14.12s/it]"
     ]
    },
    {
     "name": "stdout",
     "output_type": "stream",
     "text": [
      "Initialize DaxProcesser for file:\\\\10.245.74.158\\Chromatin_NAS_0\\20220329-P_brain_M1_nonclear_adaptors\\H0M1\\Conv_zscan_016.dax\n",
      "-- all used channels: ['750', '647', '488', '405']\n",
      "-- single image size: [  50 2048 2048]\n",
      "- Loaded images for channels:['405'] in 5.026s.\n",
      "- Correct illumination for channels: ['405']\n",
      "-- Keep channels: ['405'] for corr_illumination.\n",
      "-- loading illumination correction profile from file:\n",
      "\t 405 illumination_correction_405_2048x2048.npy\n",
      "-- corrected illumination for channel 405 in 8.022s.\n",
      "- Finished illumination correction in 8.157s.\n"
     ]
    },
    {
     "name": "stderr",
     "output_type": "stream",
     "text": [
      "\r",
      " 11%|████████▌                                                                        | 17/161 [04:01<33:53, 14.12s/it]"
     ]
    },
    {
     "name": "stdout",
     "output_type": "stream",
     "text": [
      "Initialize DaxProcesser for file:\\\\10.245.74.158\\Chromatin_NAS_0\\20220329-P_brain_M1_nonclear_adaptors\\H0M1\\Conv_zscan_017.dax\n",
      "-- all used channels: ['750', '647', '488', '405']\n",
      "-- single image size: [  50 2048 2048]\n",
      "- Loaded images for channels:['405'] in 4.489s.\n",
      "- Correct illumination for channels: ['405']\n",
      "-- Keep channels: ['405'] for corr_illumination.\n",
      "-- loading illumination correction profile from file:\n",
      "\t 405 illumination_correction_405_2048x2048.npy\n",
      "-- corrected illumination for channel 405 in 8.080s.\n",
      "- Finished illumination correction in 8.101s.\n"
     ]
    },
    {
     "name": "stderr",
     "output_type": "stream",
     "text": [
      "\r",
      " 11%|█████████                                                                        | 18/161 [04:15<33:15, 13.96s/it]"
     ]
    },
    {
     "name": "stdout",
     "output_type": "stream",
     "text": [
      "Initialize DaxProcesser for file:\\\\10.245.74.158\\Chromatin_NAS_0\\20220329-P_brain_M1_nonclear_adaptors\\H0M1\\Conv_zscan_018.dax\n",
      "-- all used channels: ['750', '647', '488', '405']\n",
      "-- single image size: [  50 2048 2048]\n",
      "- Loaded images for channels:['405'] in 4.458s.\n",
      "- Correct illumination for channels: ['405']\n",
      "-- Keep channels: ['405'] for corr_illumination.\n",
      "-- loading illumination correction profile from file:\n",
      "\t 405 illumination_correction_405_2048x2048.npy\n",
      "-- corrected illumination for channel 405 in 8.085s.\n",
      "- Finished illumination correction in 8.168s.\n"
     ]
    },
    {
     "name": "stderr",
     "output_type": "stream",
     "text": [
      "\r",
      " 12%|█████████▌                                                                       | 19/161 [04:28<32:46, 13.85s/it]"
     ]
    },
    {
     "name": "stdout",
     "output_type": "stream",
     "text": [
      "Initialize DaxProcesser for file:\\\\10.245.74.158\\Chromatin_NAS_0\\20220329-P_brain_M1_nonclear_adaptors\\H0M1\\Conv_zscan_019.dax\n",
      "-- all used channels: ['750', '647', '488', '405']\n",
      "-- single image size: [  50 2048 2048]\n",
      "- Loaded images for channels:['405'] in 5.156s.\n",
      "- Correct illumination for channels: ['405']\n",
      "-- Keep channels: ['405'] for corr_illumination.\n",
      "-- loading illumination correction profile from file:\n",
      "\t 405 illumination_correction_405_2048x2048.npy\n",
      "-- corrected illumination for channel 405 in 8.081s.\n",
      "- Finished illumination correction in 8.107s.\n"
     ]
    },
    {
     "name": "stderr",
     "output_type": "stream",
     "text": [
      "\r",
      " 12%|██████████                                                                       | 20/161 [04:42<32:49, 13.96s/it]"
     ]
    },
    {
     "name": "stdout",
     "output_type": "stream",
     "text": [
      "Initialize DaxProcesser for file:\\\\10.245.74.158\\Chromatin_NAS_0\\20220329-P_brain_M1_nonclear_adaptors\\H0M1\\Conv_zscan_020.dax\n",
      "-- all used channels: ['750', '647', '488', '405']\n",
      "-- single image size: [  50 2048 2048]\n",
      "- Loaded images for channels:['405'] in 5.227s.\n",
      "- Correct illumination for channels: ['405']\n",
      "-- Keep channels: ['405'] for corr_illumination.\n",
      "-- loading illumination correction profile from file:\n",
      "\t 405 illumination_correction_405_2048x2048.npy\n",
      "-- corrected illumination for channel 405 in 7.976s.\n",
      "- Finished illumination correction in 8.067s.\n"
     ]
    },
    {
     "name": "stderr",
     "output_type": "stream",
     "text": [
      "\r",
      " 13%|██████████▌                                                                      | 21/161 [04:57<32:45, 14.04s/it]"
     ]
    },
    {
     "name": "stdout",
     "output_type": "stream",
     "text": [
      "Initialize DaxProcesser for file:\\\\10.245.74.158\\Chromatin_NAS_0\\20220329-P_brain_M1_nonclear_adaptors\\H0M1\\Conv_zscan_021.dax\n",
      "-- all used channels: ['750', '647', '488', '405']\n",
      "-- single image size: [  50 2048 2048]\n",
      "- Loaded images for channels:['405'] in 4.907s.\n",
      "- Correct illumination for channels: ['405']\n",
      "-- Keep channels: ['405'] for corr_illumination.\n",
      "-- loading illumination correction profile from file:\n",
      "\t 405 illumination_correction_405_2048x2048.npy\n",
      "-- corrected illumination for channel 405 in 7.910s.\n",
      "- Finished illumination correction in 8.020s.\n"
     ]
    },
    {
     "name": "stderr",
     "output_type": "stream",
     "text": [
      "\r",
      " 14%|███████████                                                                      | 22/161 [05:11<32:29, 14.03s/it]"
     ]
    },
    {
     "name": "stdout",
     "output_type": "stream",
     "text": [
      "Initialize DaxProcesser for file:\\\\10.245.74.158\\Chromatin_NAS_0\\20220329-P_brain_M1_nonclear_adaptors\\H0M1\\Conv_zscan_022.dax\n",
      "-- all used channels: ['750', '647', '488', '405']\n",
      "-- single image size: [  50 2048 2048]\n",
      "- Loaded images for channels:['405'] in 4.923s.\n",
      "- Correct illumination for channels: ['405']\n",
      "-- Keep channels: ['405'] for corr_illumination.\n",
      "-- loading illumination correction profile from file:\n",
      "\t 405 illumination_correction_405_2048x2048.npy\n",
      "-- corrected illumination for channel 405 in 8.090s.\n",
      "- Finished illumination correction in 8.207s.\n"
     ]
    },
    {
     "name": "stderr",
     "output_type": "stream",
     "text": [
      "\r",
      " 14%|███████████▌                                                                     | 23/161 [05:25<32:22, 14.08s/it]"
     ]
    },
    {
     "name": "stdout",
     "output_type": "stream",
     "text": [
      "Initialize DaxProcesser for file:\\\\10.245.74.158\\Chromatin_NAS_0\\20220329-P_brain_M1_nonclear_adaptors\\H0M1\\Conv_zscan_023.dax\n",
      "-- all used channels: ['750', '647', '488', '405']\n",
      "-- single image size: [  50 2048 2048]\n",
      "- Loaded images for channels:['405'] in 10.723s.\n",
      "- Correct illumination for channels: ['405']\n",
      "-- Keep channels: ['405'] for corr_illumination.\n",
      "-- loading illumination correction profile from file:\n",
      "\t 405 illumination_correction_405_2048x2048.npy\n",
      "-- corrected illumination for channel 405 in 8.034s.\n",
      "- Finished illumination correction in 8.130s.\n"
     ]
    },
    {
     "name": "stderr",
     "output_type": "stream",
     "text": [
      "\r",
      " 15%|████████████                                                                     | 24/161 [05:45<36:07, 15.82s/it]"
     ]
    },
    {
     "name": "stdout",
     "output_type": "stream",
     "text": [
      "Initialize DaxProcesser for file:\\\\10.245.74.158\\Chromatin_NAS_0\\20220329-P_brain_M1_nonclear_adaptors\\H0M1\\Conv_zscan_024.dax\n",
      "-- all used channels: ['750', '647', '488', '405']\n",
      "-- single image size: [  50 2048 2048]\n",
      "- Loaded images for channels:['405'] in 5.361s.\n",
      "- Correct illumination for channels: ['405']\n",
      "-- Keep channels: ['405'] for corr_illumination.\n",
      "-- loading illumination correction profile from file:\n",
      "\t 405 illumination_correction_405_2048x2048.npy\n",
      "-- corrected illumination for channel 405 in 8.072s.\n",
      "- Finished illumination correction in 8.091s.\n"
     ]
    },
    {
     "name": "stderr",
     "output_type": "stream",
     "text": [
      "\r",
      " 16%|████████████▌                                                                    | 25/161 [05:59<34:50, 15.37s/it]"
     ]
    },
    {
     "name": "stdout",
     "output_type": "stream",
     "text": [
      "Initialize DaxProcesser for file:\\\\10.245.74.158\\Chromatin_NAS_0\\20220329-P_brain_M1_nonclear_adaptors\\H0M1\\Conv_zscan_025.dax\n",
      "-- all used channels: ['750', '647', '488', '405']\n",
      "-- single image size: [  50 2048 2048]\n",
      "- Loaded images for channels:['405'] in 5.409s.\n",
      "- Correct illumination for channels: ['405']\n",
      "-- Keep channels: ['405'] for corr_illumination.\n",
      "-- loading illumination correction profile from file:\n",
      "\t 405 illumination_correction_405_2048x2048.npy\n",
      "-- corrected illumination for channel 405 in 8.026s.\n",
      "- Finished illumination correction in 8.122s.\n"
     ]
    },
    {
     "name": "stderr",
     "output_type": "stream",
     "text": [
      "\r",
      " 16%|█████████████                                                                    | 26/161 [06:14<33:57, 15.09s/it]"
     ]
    },
    {
     "name": "stdout",
     "output_type": "stream",
     "text": [
      "Initialize DaxProcesser for file:\\\\10.245.74.158\\Chromatin_NAS_0\\20220329-P_brain_M1_nonclear_adaptors\\H0M1\\Conv_zscan_026.dax\n",
      "-- all used channels: ['750', '647', '488', '405']\n",
      "-- single image size: [  50 2048 2048]\n",
      "- Loaded images for channels:['405'] in 5.301s.\n",
      "- Correct illumination for channels: ['405']\n",
      "-- Keep channels: ['405'] for corr_illumination.\n",
      "-- loading illumination correction profile from file:\n",
      "\t 405 illumination_correction_405_2048x2048.npy\n",
      "-- corrected illumination for channel 405 in 8.066s.\n",
      "- Finished illumination correction in 8.176s.\n"
     ]
    },
    {
     "name": "stderr",
     "output_type": "stream",
     "text": [
      "\r",
      " 17%|█████████████▌                                                                   | 27/161 [06:28<33:20, 14.93s/it]"
     ]
    },
    {
     "name": "stdout",
     "output_type": "stream",
     "text": [
      "Initialize DaxProcesser for file:\\\\10.245.74.158\\Chromatin_NAS_0\\20220329-P_brain_M1_nonclear_adaptors\\H0M1\\Conv_zscan_027.dax\n",
      "-- all used channels: ['750', '647', '488', '405']\n",
      "-- single image size: [  50 2048 2048]\n",
      "- Loaded images for channels:['405'] in 5.397s.\n",
      "- Correct illumination for channels: ['405']\n",
      "-- Keep channels: ['405'] for corr_illumination.\n",
      "-- loading illumination correction profile from file:\n",
      "\t 405 illumination_correction_405_2048x2048.npy\n",
      "-- corrected illumination for channel 405 in 7.829s.\n",
      "- Finished illumination correction in 7.962s.\n"
     ]
    },
    {
     "name": "stderr",
     "output_type": "stream",
     "text": [
      "\r",
      " 17%|██████████████                                                                   | 28/161 [06:42<32:41, 14.75s/it]"
     ]
    },
    {
     "name": "stdout",
     "output_type": "stream",
     "text": [
      "Initialize DaxProcesser for file:\\\\10.245.74.158\\Chromatin_NAS_0\\20220329-P_brain_M1_nonclear_adaptors\\H0M1\\Conv_zscan_028.dax\n",
      "-- all used channels: ['750', '647', '488', '405']\n",
      "-- single image size: [  50 2048 2048]\n",
      "- Loaded images for channels:['405'] in 5.136s.\n",
      "- Correct illumination for channels: ['405']\n",
      "-- Keep channels: ['405'] for corr_illumination.\n",
      "-- loading illumination correction profile from file:\n",
      "\t 405 illumination_correction_405_2048x2048.npy\n",
      "-- corrected illumination for channel 405 in 8.058s.\n",
      "- Finished illumination correction in 8.155s.\n"
     ]
    },
    {
     "name": "stderr",
     "output_type": "stream",
     "text": [
      "\r",
      " 18%|██████████████▌                                                                  | 29/161 [06:57<32:05, 14.59s/it]"
     ]
    },
    {
     "name": "stdout",
     "output_type": "stream",
     "text": [
      "Initialize DaxProcesser for file:\\\\10.245.74.158\\Chromatin_NAS_0\\20220329-P_brain_M1_nonclear_adaptors\\H0M1\\Conv_zscan_029.dax\n",
      "-- all used channels: ['750', '647', '488', '405']\n",
      "-- single image size: [  50 2048 2048]\n",
      "- Loaded images for channels:['405'] in 5.097s.\n",
      "- Correct illumination for channels: ['405']\n",
      "-- Keep channels: ['405'] for corr_illumination.\n",
      "-- loading illumination correction profile from file:\n",
      "\t 405 illumination_correction_405_2048x2048.npy\n",
      "-- corrected illumination for channel 405 in 8.216s.\n",
      "- Finished illumination correction in 8.234s.\n"
     ]
    },
    {
     "name": "stderr",
     "output_type": "stream",
     "text": [
      "\r",
      " 19%|███████████████                                                                  | 30/161 [07:11<31:39, 14.50s/it]"
     ]
    },
    {
     "name": "stdout",
     "output_type": "stream",
     "text": [
      "Initialize DaxProcesser for file:\\\\10.245.74.158\\Chromatin_NAS_0\\20220329-P_brain_M1_nonclear_adaptors\\H0M1\\Conv_zscan_030.dax\n",
      "-- all used channels: ['750', '647', '488', '405']\n",
      "-- single image size: [  50 2048 2048]\n",
      "- Loaded images for channels:['405'] in 5.719s.\n",
      "- Correct illumination for channels: ['405']\n",
      "-- Keep channels: ['405'] for corr_illumination.\n",
      "-- loading illumination correction profile from file:\n",
      "\t 405 illumination_correction_405_2048x2048.npy\n",
      "-- corrected illumination for channel 405 in 8.046s.\n",
      "- Finished illumination correction in 8.128s.\n"
     ]
    },
    {
     "name": "stderr",
     "output_type": "stream",
     "text": [
      "\r",
      " 19%|███████████████▌                                                                 | 31/161 [07:26<31:40, 14.62s/it]"
     ]
    },
    {
     "name": "stdout",
     "output_type": "stream",
     "text": [
      "Initialize DaxProcesser for file:\\\\10.245.74.158\\Chromatin_NAS_0\\20220329-P_brain_M1_nonclear_adaptors\\H0M1\\Conv_zscan_031.dax\n",
      "-- all used channels: ['750', '647', '488', '405']\n",
      "-- single image size: [  50 2048 2048]\n",
      "- Loaded images for channels:['405'] in 5.198s.\n",
      "- Correct illumination for channels: ['405']\n",
      "-- Keep channels: ['405'] for corr_illumination.\n",
      "-- loading illumination correction profile from file:\n",
      "\t 405 illumination_correction_405_2048x2048.npy\n",
      "-- corrected illumination for channel 405 in 8.022s.\n",
      "- Finished illumination correction in 8.116s.\n"
     ]
    },
    {
     "name": "stderr",
     "output_type": "stream",
     "text": [
      "\r",
      " 20%|████████████████                                                                 | 32/161 [07:40<31:07, 14.48s/it]"
     ]
    },
    {
     "name": "stdout",
     "output_type": "stream",
     "text": [
      "Initialize DaxProcesser for file:\\\\10.245.74.158\\Chromatin_NAS_0\\20220329-P_brain_M1_nonclear_adaptors\\H0M1\\Conv_zscan_032.dax\n",
      "-- all used channels: ['750', '647', '488', '405']\n",
      "-- single image size: [  50 2048 2048]\n",
      "- Loaded images for channels:['405'] in 5.492s.\n",
      "- Correct illumination for channels: ['405']\n",
      "-- Keep channels: ['405'] for corr_illumination.\n",
      "-- loading illumination correction profile from file:\n",
      "\t 405 illumination_correction_405_2048x2048.npy\n",
      "-- corrected illumination for channel 405 in 7.891s.\n",
      "- Finished illumination correction in 7.974s.\n"
     ]
    },
    {
     "name": "stderr",
     "output_type": "stream",
     "text": [
      "\r",
      " 20%|████████████████▌                                                                | 33/161 [07:54<30:49, 14.45s/it]"
     ]
    },
    {
     "name": "stdout",
     "output_type": "stream",
     "text": [
      "Initialize DaxProcesser for file:\\\\10.245.74.158\\Chromatin_NAS_0\\20220329-P_brain_M1_nonclear_adaptors\\H0M1\\Conv_zscan_033.dax\n",
      "-- all used channels: ['750', '647', '488', '405']\n",
      "-- single image size: [  50 2048 2048]\n",
      "- Loaded images for channels:['405'] in 5.443s.\n",
      "- Correct illumination for channels: ['405']\n",
      "-- Keep channels: ['405'] for corr_illumination.\n",
      "-- loading illumination correction profile from file:\n",
      "\t 405 illumination_correction_405_2048x2048.npy\n",
      "-- corrected illumination for channel 405 in 7.998s.\n",
      "- Finished illumination correction in 8.089s.\n"
     ]
    },
    {
     "name": "stderr",
     "output_type": "stream",
     "text": [
      "\r",
      " 21%|█████████████████                                                                | 34/161 [08:09<30:37, 14.47s/it]"
     ]
    },
    {
     "name": "stdout",
     "output_type": "stream",
     "text": [
      "Initialize DaxProcesser for file:\\\\10.245.74.158\\Chromatin_NAS_0\\20220329-P_brain_M1_nonclear_adaptors\\H0M1\\Conv_zscan_034.dax\n",
      "-- all used channels: ['750', '647', '488', '405']\n",
      "-- single image size: [  50 2048 2048]\n",
      "- Loaded images for channels:['405'] in 4.554s.\n",
      "- Correct illumination for channels: ['405']\n",
      "-- Keep channels: ['405'] for corr_illumination.\n",
      "-- loading illumination correction profile from file:\n",
      "\t 405 illumination_correction_405_2048x2048.npy\n",
      "-- corrected illumination for channel 405 in 8.114s.\n",
      "- Finished illumination correction in 8.135s.\n"
     ]
    },
    {
     "name": "stderr",
     "output_type": "stream",
     "text": [
      "\r",
      " 22%|█████████████████▌                                                               | 35/161 [08:22<29:52, 14.23s/it]"
     ]
    },
    {
     "name": "stdout",
     "output_type": "stream",
     "text": [
      "Initialize DaxProcesser for file:\\\\10.245.74.158\\Chromatin_NAS_0\\20220329-P_brain_M1_nonclear_adaptors\\H0M1\\Conv_zscan_035.dax\n",
      "-- all used channels: ['750', '647', '488', '405']\n",
      "-- single image size: [  50 2048 2048]\n",
      "- Loaded images for channels:['405'] in 5.076s.\n",
      "- Correct illumination for channels: ['405']\n",
      "-- Keep channels: ['405'] for corr_illumination.\n",
      "-- loading illumination correction profile from file:\n",
      "\t 405 illumination_correction_405_2048x2048.npy\n",
      "-- corrected illumination for channel 405 in 8.146s.\n",
      "- Finished illumination correction in 8.234s.\n"
     ]
    },
    {
     "name": "stderr",
     "output_type": "stream",
     "text": [
      "\r",
      " 22%|██████████████████                                                               | 36/161 [08:37<29:42, 14.26s/it]"
     ]
    },
    {
     "name": "stdout",
     "output_type": "stream",
     "text": [
      "Initialize DaxProcesser for file:\\\\10.245.74.158\\Chromatin_NAS_0\\20220329-P_brain_M1_nonclear_adaptors\\H0M1\\Conv_zscan_036.dax\n",
      "-- all used channels: ['750', '647', '488', '405']\n",
      "-- single image size: [  50 2048 2048]\n",
      "- Loaded images for channels:['405'] in 5.066s.\n",
      "- Correct illumination for channels: ['405']\n",
      "-- Keep channels: ['405'] for corr_illumination.\n",
      "-- loading illumination correction profile from file:\n",
      "\t 405 illumination_correction_405_2048x2048.npy\n",
      "-- corrected illumination for channel 405 in 8.094s.\n",
      "- Finished illumination correction in 8.194s.\n"
     ]
    },
    {
     "name": "stderr",
     "output_type": "stream",
     "text": [
      "\r",
      " 23%|██████████████████▌                                                              | 37/161 [08:51<29:26, 14.24s/it]"
     ]
    },
    {
     "name": "stdout",
     "output_type": "stream",
     "text": [
      "Initialize DaxProcesser for file:\\\\10.245.74.158\\Chromatin_NAS_0\\20220329-P_brain_M1_nonclear_adaptors\\H0M1\\Conv_zscan_037.dax\n",
      "-- all used channels: ['750', '647', '488', '405']\n",
      "-- single image size: [  50 2048 2048]\n",
      "- Loaded images for channels:['405'] in 5.263s.\n",
      "- Correct illumination for channels: ['405']\n",
      "-- Keep channels: ['405'] for corr_illumination.\n",
      "-- loading illumination correction profile from file:\n",
      "\t 405 illumination_correction_405_2048x2048.npy\n",
      "-- corrected illumination for channel 405 in 8.055s.\n",
      "- Finished illumination correction in 8.137s.\n"
     ]
    },
    {
     "name": "stderr",
     "output_type": "stream",
     "text": [
      "\r",
      " 24%|███████████████████                                                              | 38/161 [09:05<29:15, 14.27s/it]"
     ]
    },
    {
     "name": "stdout",
     "output_type": "stream",
     "text": [
      "Initialize DaxProcesser for file:\\\\10.245.74.158\\Chromatin_NAS_0\\20220329-P_brain_M1_nonclear_adaptors\\H0M1\\Conv_zscan_038.dax\n",
      "-- all used channels: ['750', '647', '488', '405']\n",
      "-- single image size: [  50 2048 2048]\n",
      "- Loaded images for channels:['405'] in 5.393s.\n",
      "- Correct illumination for channels: ['405']\n",
      "-- Keep channels: ['405'] for corr_illumination.\n",
      "-- loading illumination correction profile from file:\n",
      "\t 405 illumination_correction_405_2048x2048.npy\n",
      "-- corrected illumination for channel 405 in 7.857s.\n",
      "- Finished illumination correction in 7.981s.\n"
     ]
    },
    {
     "name": "stderr",
     "output_type": "stream",
     "text": [
      "\r",
      " 24%|███████████████████▌                                                             | 39/161 [09:20<29:04, 14.30s/it]"
     ]
    },
    {
     "name": "stdout",
     "output_type": "stream",
     "text": [
      "Initialize DaxProcesser for file:\\\\10.245.74.158\\Chromatin_NAS_0\\20220329-P_brain_M1_nonclear_adaptors\\H0M1\\Conv_zscan_039.dax\n",
      "-- all used channels: ['750', '647', '488', '405']\n",
      "-- single image size: [  50 2048 2048]\n",
      "- Loaded images for channels:['405'] in 5.420s.\n",
      "- Correct illumination for channels: ['405']\n",
      "-- Keep channels: ['405'] for corr_illumination.\n",
      "-- loading illumination correction profile from file:\n",
      "\t 405 illumination_correction_405_2048x2048.npy\n",
      "-- corrected illumination for channel 405 in 8.210s.\n",
      "- Finished illumination correction in 8.228s.\n"
     ]
    },
    {
     "name": "stderr",
     "output_type": "stream",
     "text": [
      "\r",
      " 25%|████████████████████                                                             | 40/161 [09:34<28:56, 14.35s/it]"
     ]
    },
    {
     "name": "stdout",
     "output_type": "stream",
     "text": [
      "Initialize DaxProcesser for file:\\\\10.245.74.158\\Chromatin_NAS_0\\20220329-P_brain_M1_nonclear_adaptors\\H0M1\\Conv_zscan_040.dax\n",
      "-- all used channels: ['750', '647', '488', '405']\n",
      "-- single image size: [  50 2048 2048]\n",
      "- Loaded images for channels:['405'] in 5.083s.\n",
      "- Correct illumination for channels: ['405']\n",
      "-- Keep channels: ['405'] for corr_illumination.\n",
      "-- loading illumination correction profile from file:\n",
      "\t 405 illumination_correction_405_2048x2048.npy\n",
      "-- corrected illumination for channel 405 in 8.024s.\n",
      "- Finished illumination correction in 8.123s.\n"
     ]
    },
    {
     "name": "stderr",
     "output_type": "stream",
     "text": [
      "\r",
      " 25%|████████████████████▋                                                            | 41/161 [09:48<28:31, 14.26s/it]"
     ]
    },
    {
     "name": "stdout",
     "output_type": "stream",
     "text": [
      "Initialize DaxProcesser for file:\\\\10.245.74.158\\Chromatin_NAS_0\\20220329-P_brain_M1_nonclear_adaptors\\H0M1\\Conv_zscan_041.dax\n",
      "-- all used channels: ['750', '647', '488', '405']\n",
      "-- single image size: [  50 2048 2048]\n",
      "- Loaded images for channels:['405'] in 5.267s.\n",
      "- Correct illumination for channels: ['405']\n",
      "-- Keep channels: ['405'] for corr_illumination.\n",
      "-- loading illumination correction profile from file:\n",
      "\t 405 illumination_correction_405_2048x2048.npy\n",
      "-- corrected illumination for channel 405 in 7.972s.\n",
      "- Finished illumination correction in 8.066s.\n"
     ]
    },
    {
     "name": "stderr",
     "output_type": "stream",
     "text": [
      "\r",
      " 26%|█████████████████████▏                                                           | 42/161 [10:02<28:14, 14.24s/it]"
     ]
    },
    {
     "name": "stdout",
     "output_type": "stream",
     "text": [
      "Initialize DaxProcesser for file:\\\\10.245.74.158\\Chromatin_NAS_0\\20220329-P_brain_M1_nonclear_adaptors\\H0M1\\Conv_zscan_042.dax\n",
      "-- all used channels: ['750', '647', '488', '405']\n",
      "-- single image size: [  50 2048 2048]\n",
      "- Loaded images for channels:['405'] in 9.407s.\n",
      "- Correct illumination for channels: ['405']\n",
      "-- Keep channels: ['405'] for corr_illumination.\n",
      "-- loading illumination correction profile from file:\n",
      "\t 405 illumination_correction_405_2048x2048.npy\n",
      "-- corrected illumination for channel 405 in 8.018s.\n",
      "- Finished illumination correction in 8.111s.\n"
     ]
    },
    {
     "name": "stderr",
     "output_type": "stream",
     "text": [
      "\r",
      " 27%|█████████████████████▋                                                           | 43/161 [10:21<30:26, 15.48s/it]"
     ]
    },
    {
     "name": "stdout",
     "output_type": "stream",
     "text": [
      "Initialize DaxProcesser for file:\\\\10.245.74.158\\Chromatin_NAS_0\\20220329-P_brain_M1_nonclear_adaptors\\H0M1\\Conv_zscan_043.dax\n",
      "-- all used channels: ['750', '647', '488', '405']\n",
      "-- single image size: [  50 2048 2048]\n",
      "- Loaded images for channels:['405'] in 4.861s.\n",
      "- Correct illumination for channels: ['405']\n",
      "-- Keep channels: ['405'] for corr_illumination.\n",
      "-- loading illumination correction profile from file:\n",
      "\t 405 illumination_correction_405_2048x2048.npy\n",
      "-- corrected illumination for channel 405 in 8.030s.\n",
      "- Finished illumination correction in 8.055s.\n"
     ]
    },
    {
     "name": "stderr",
     "output_type": "stream",
     "text": [
      "\r",
      " 27%|██████████████████████▏                                                          | 44/161 [10:35<29:16, 15.02s/it]"
     ]
    },
    {
     "name": "stdout",
     "output_type": "stream",
     "text": [
      "Initialize DaxProcesser for file:\\\\10.245.74.158\\Chromatin_NAS_0\\20220329-P_brain_M1_nonclear_adaptors\\H0M1\\Conv_zscan_044.dax\n",
      "-- all used channels: ['750', '647', '488', '405']\n",
      "-- single image size: [  50 2048 2048]\n",
      "- Loaded images for channels:['405'] in 4.943s.\n",
      "- Correct illumination for channels: ['405']\n",
      "-- Keep channels: ['405'] for corr_illumination.\n",
      "-- loading illumination correction profile from file:\n",
      "\t 405 illumination_correction_405_2048x2048.npy\n",
      "-- corrected illumination for channel 405 in 8.027s.\n",
      "- Finished illumination correction in 8.139s.\n"
     ]
    },
    {
     "name": "stderr",
     "output_type": "stream",
     "text": [
      "\r",
      " 28%|██████████████████████▋                                                          | 45/161 [10:49<28:25, 14.70s/it]"
     ]
    },
    {
     "name": "stdout",
     "output_type": "stream",
     "text": [
      "Initialize DaxProcesser for file:\\\\10.245.74.158\\Chromatin_NAS_0\\20220329-P_brain_M1_nonclear_adaptors\\H0M1\\Conv_zscan_045.dax\n",
      "-- all used channels: ['750', '647', '488', '405']\n",
      "-- single image size: [  50 2048 2048]\n",
      "- Loaded images for channels:['405'] in 5.239s.\n",
      "- Correct illumination for channels: ['405']\n",
      "-- Keep channels: ['405'] for corr_illumination.\n",
      "-- loading illumination correction profile from file:\n",
      "\t 405 illumination_correction_405_2048x2048.npy\n",
      "-- corrected illumination for channel 405 in 8.124s.\n",
      "- Finished illumination correction in 8.212s.\n"
     ]
    },
    {
     "name": "stderr",
     "output_type": "stream",
     "text": [
      "\r",
      " 29%|███████████████████████▏                                                         | 46/161 [11:03<28:01, 14.62s/it]"
     ]
    },
    {
     "name": "stdout",
     "output_type": "stream",
     "text": [
      "Initialize DaxProcesser for file:\\\\10.245.74.158\\Chromatin_NAS_0\\20220329-P_brain_M1_nonclear_adaptors\\H0M1\\Conv_zscan_046.dax\n",
      "-- all used channels: ['750', '647', '488', '405']\n",
      "-- single image size: [  50 2048 2048]\n",
      "- Loaded images for channels:['405'] in 4.992s.\n",
      "- Correct illumination for channels: ['405']\n",
      "-- Keep channels: ['405'] for corr_illumination.\n",
      "-- loading illumination correction profile from file:\n",
      "\t 405 illumination_correction_405_2048x2048.npy\n",
      "-- corrected illumination for channel 405 in 8.032s.\n",
      "- Finished illumination correction in 8.122s.\n"
     ]
    },
    {
     "name": "stderr",
     "output_type": "stream",
     "text": [
      "\r",
      " 29%|███████████████████████▋                                                         | 47/161 [11:17<27:26, 14.44s/it]"
     ]
    },
    {
     "name": "stdout",
     "output_type": "stream",
     "text": [
      "Initialize DaxProcesser for file:\\\\10.245.74.158\\Chromatin_NAS_0\\20220329-P_brain_M1_nonclear_adaptors\\H0M1\\Conv_zscan_047.dax\n",
      "-- all used channels: ['750', '647', '488', '405']\n",
      "-- single image size: [  50 2048 2048]\n",
      "- Loaded images for channels:['405'] in 5.395s.\n",
      "- Correct illumination for channels: ['405']\n",
      "-- Keep channels: ['405'] for corr_illumination.\n",
      "-- loading illumination correction profile from file:\n",
      "\t 405 illumination_correction_405_2048x2048.npy\n",
      "-- corrected illumination for channel 405 in 7.897s.\n",
      "- Finished illumination correction in 7.994s.\n"
     ]
    },
    {
     "name": "stderr",
     "output_type": "stream",
     "text": [
      "\r",
      " 30%|████████████████████████▏                                                        | 48/161 [11:31<27:04, 14.38s/it]"
     ]
    },
    {
     "name": "stdout",
     "output_type": "stream",
     "text": [
      "Initialize DaxProcesser for file:\\\\10.245.74.158\\Chromatin_NAS_0\\20220329-P_brain_M1_nonclear_adaptors\\H0M1\\Conv_zscan_048.dax\n",
      "-- all used channels: ['750', '647', '488', '405']\n",
      "-- single image size: [  50 2048 2048]\n",
      "- Loaded images for channels:['405'] in 5.413s.\n",
      "- Correct illumination for channels: ['405']\n",
      "-- Keep channels: ['405'] for corr_illumination.\n",
      "-- loading illumination correction profile from file:\n",
      "\t 405 illumination_correction_405_2048x2048.npy\n",
      "-- corrected illumination for channel 405 in 8.057s.\n",
      "- Finished illumination correction in 8.080s.\n"
     ]
    },
    {
     "name": "stderr",
     "output_type": "stream",
     "text": [
      "\r",
      " 30%|████████████████████████▋                                                        | 49/161 [11:46<27:01, 14.48s/it]"
     ]
    },
    {
     "name": "stdout",
     "output_type": "stream",
     "text": [
      "Initialize DaxProcesser for file:\\\\10.245.74.158\\Chromatin_NAS_0\\20220329-P_brain_M1_nonclear_adaptors\\H0M1\\Conv_zscan_049.dax\n",
      "-- all used channels: ['750', '647', '488', '405']\n",
      "-- single image size: [  50 2048 2048]\n",
      "- Loaded images for channels:['405'] in 5.479s.\n",
      "- Correct illumination for channels: ['405']\n",
      "-- Keep channels: ['405'] for corr_illumination.\n",
      "-- loading illumination correction profile from file:\n",
      "\t 405 illumination_correction_405_2048x2048.npy\n",
      "-- corrected illumination for channel 405 in 7.947s.\n",
      "- Finished illumination correction in 8.083s.\n"
     ]
    },
    {
     "name": "stderr",
     "output_type": "stream",
     "text": [
      "\r",
      " 31%|█████████████████████████▏                                                       | 50/161 [12:01<26:46, 14.47s/it]"
     ]
    },
    {
     "name": "stdout",
     "output_type": "stream",
     "text": [
      "Initialize DaxProcesser for file:\\\\10.245.74.158\\Chromatin_NAS_0\\20220329-P_brain_M1_nonclear_adaptors\\H0M1\\Conv_zscan_050.dax\n",
      "-- all used channels: ['750', '647', '488', '405']\n",
      "-- single image size: [  50 2048 2048]\n",
      "- Loaded images for channels:['405'] in 4.855s.\n",
      "- Correct illumination for channels: ['405']\n",
      "-- Keep channels: ['405'] for corr_illumination.\n",
      "-- loading illumination correction profile from file:\n",
      "\t 405 illumination_correction_405_2048x2048.npy\n",
      "-- corrected illumination for channel 405 in 8.024s.\n",
      "- Finished illumination correction in 8.137s.\n"
     ]
    },
    {
     "name": "stderr",
     "output_type": "stream",
     "text": [
      "\r",
      " 32%|█████████████████████████▋                                                       | 51/161 [12:15<26:22, 14.39s/it]"
     ]
    },
    {
     "name": "stdout",
     "output_type": "stream",
     "text": [
      "Initialize DaxProcesser for file:\\\\10.245.74.158\\Chromatin_NAS_0\\20220329-P_brain_M1_nonclear_adaptors\\H0M1\\Conv_zscan_051.dax\n",
      "-- all used channels: ['750', '647', '488', '405']\n",
      "-- single image size: [  50 2048 2048]\n",
      "- Loaded images for channels:['405'] in 10.802s.\n",
      "- Correct illumination for channels: ['405']\n",
      "-- Keep channels: ['405'] for corr_illumination.\n",
      "-- loading illumination correction profile from file:\n",
      "\t 405 illumination_correction_405_2048x2048.npy\n",
      "-- corrected illumination for channel 405 in 7.999s.\n",
      "- Finished illumination correction in 8.093s.\n"
     ]
    },
    {
     "name": "stderr",
     "output_type": "stream",
     "text": [
      "\r",
      " 32%|██████████████████████████▏                                                      | 52/161 [12:35<29:06, 16.02s/it]"
     ]
    },
    {
     "name": "stdout",
     "output_type": "stream",
     "text": [
      "Initialize DaxProcesser for file:\\\\10.245.74.158\\Chromatin_NAS_0\\20220329-P_brain_M1_nonclear_adaptors\\H0M1\\Conv_zscan_052.dax\n",
      "-- all used channels: ['750', '647', '488', '405']\n",
      "-- single image size: [  50 2048 2048]\n",
      "- Loaded images for channels:['405'] in 4.630s.\n",
      "- Correct illumination for channels: ['405']\n",
      "-- Keep channels: ['405'] for corr_illumination.\n",
      "-- loading illumination correction profile from file:\n",
      "\t 405 illumination_correction_405_2048x2048.npy\n",
      "-- corrected illumination for channel 405 in 8.058s.\n",
      "- Finished illumination correction in 8.157s.\n"
     ]
    },
    {
     "name": "stderr",
     "output_type": "stream",
     "text": [
      "\r",
      " 33%|██████████████████████████▋                                                      | 53/161 [12:48<27:34, 15.32s/it]"
     ]
    },
    {
     "name": "stdout",
     "output_type": "stream",
     "text": [
      "Initialize DaxProcesser for file:\\\\10.245.74.158\\Chromatin_NAS_0\\20220329-P_brain_M1_nonclear_adaptors\\H0M1\\Conv_zscan_053.dax\n",
      "-- all used channels: ['750', '647', '488', '405']\n",
      "-- single image size: [  50 2048 2048]\n",
      "- Loaded images for channels:['405'] in 5.030s.\n",
      "- Correct illumination for channels: ['405']\n",
      "-- Keep channels: ['405'] for corr_illumination.\n",
      "-- loading illumination correction profile from file:\n",
      "\t 405 illumination_correction_405_2048x2048.npy\n",
      "-- corrected illumination for channel 405 in 8.227s.\n",
      "- Finished illumination correction in 8.253s.\n"
     ]
    },
    {
     "name": "stderr",
     "output_type": "stream",
     "text": [
      "\r",
      " 34%|███████████████████████████▏                                                     | 54/161 [13:03<26:44, 14.99s/it]"
     ]
    },
    {
     "name": "stdout",
     "output_type": "stream",
     "text": [
      "Initialize DaxProcesser for file:\\\\10.245.74.158\\Chromatin_NAS_0\\20220329-P_brain_M1_nonclear_adaptors\\H0M1\\Conv_zscan_054.dax\n",
      "-- all used channels: ['750', '647', '488', '405']\n",
      "-- single image size: [  50 2048 2048]\n",
      "- Loaded images for channels:['405'] in 4.675s.\n",
      "- Correct illumination for channels: ['405']\n",
      "-- Keep channels: ['405'] for corr_illumination.\n",
      "-- loading illumination correction profile from file:\n",
      "\t 405 illumination_correction_405_2048x2048.npy\n",
      "-- corrected illumination for channel 405 in 8.139s.\n",
      "- Finished illumination correction in 8.270s.\n"
     ]
    },
    {
     "name": "stderr",
     "output_type": "stream",
     "text": [
      "\r",
      " 34%|███████████████████████████▋                                                     | 55/161 [13:16<25:52, 14.64s/it]"
     ]
    },
    {
     "name": "stdout",
     "output_type": "stream",
     "text": [
      "Initialize DaxProcesser for file:\\\\10.245.74.158\\Chromatin_NAS_0\\20220329-P_brain_M1_nonclear_adaptors\\H0M1\\Conv_zscan_055.dax\n",
      "-- all used channels: ['750', '647', '488', '405']\n",
      "-- single image size: [  50 2048 2048]\n",
      "- Loaded images for channels:['405'] in 4.798s.\n",
      "- Correct illumination for channels: ['405']\n",
      "-- Keep channels: ['405'] for corr_illumination.\n",
      "-- loading illumination correction profile from file:\n",
      "\t 405 illumination_correction_405_2048x2048.npy\n",
      "-- corrected illumination for channel 405 in 7.997s.\n",
      "- Finished illumination correction in 8.017s.\n"
     ]
    },
    {
     "name": "stderr",
     "output_type": "stream",
     "text": [
      "\r",
      " 35%|████████████████████████████▏                                                    | 56/161 [13:30<25:07, 14.36s/it]"
     ]
    },
    {
     "name": "stdout",
     "output_type": "stream",
     "text": [
      "Initialize DaxProcesser for file:\\\\10.245.74.158\\Chromatin_NAS_0\\20220329-P_brain_M1_nonclear_adaptors\\H0M1\\Conv_zscan_056.dax\n",
      "-- all used channels: ['750', '647', '488', '405']\n",
      "-- single image size: [  50 2048 2048]\n",
      "- Loaded images for channels:['405'] in 4.975s.\n",
      "- Correct illumination for channels: ['405']\n",
      "-- Keep channels: ['405'] for corr_illumination.\n",
      "-- loading illumination correction profile from file:\n",
      "\t 405 illumination_correction_405_2048x2048.npy\n",
      "-- corrected illumination for channel 405 in 8.107s.\n",
      "- Finished illumination correction in 8.199s.\n"
     ]
    },
    {
     "name": "stderr",
     "output_type": "stream",
     "text": [
      "\r",
      " 35%|████████████████████████████▋                                                    | 57/161 [13:44<24:49, 14.32s/it]"
     ]
    },
    {
     "name": "stdout",
     "output_type": "stream",
     "text": [
      "Initialize DaxProcesser for file:\\\\10.245.74.158\\Chromatin_NAS_0\\20220329-P_brain_M1_nonclear_adaptors\\H0M1\\Conv_zscan_057.dax\n",
      "-- all used channels: ['750', '647', '488', '405']\n",
      "-- single image size: [  50 2048 2048]\n",
      "- Loaded images for channels:['405'] in 5.197s.\n",
      "- Correct illumination for channels: ['405']\n",
      "-- Keep channels: ['405'] for corr_illumination.\n",
      "-- loading illumination correction profile from file:\n",
      "\t 405 illumination_correction_405_2048x2048.npy\n",
      "-- corrected illumination for channel 405 in 7.993s.\n",
      "- Finished illumination correction in 8.084s.\n"
     ]
    },
    {
     "name": "stderr",
     "output_type": "stream",
     "text": [
      "\r",
      " 36%|█████████████████████████████▏                                                   | 58/161 [13:58<24:30, 14.28s/it]"
     ]
    },
    {
     "name": "stdout",
     "output_type": "stream",
     "text": [
      "Initialize DaxProcesser for file:\\\\10.245.74.158\\Chromatin_NAS_0\\20220329-P_brain_M1_nonclear_adaptors\\H0M1\\Conv_zscan_058.dax\n",
      "-- all used channels: ['750', '647', '488', '405']\n",
      "-- single image size: [  50 2048 2048]\n",
      "- Loaded images for channels:['405'] in 5.331s.\n",
      "- Correct illumination for channels: ['405']\n",
      "-- Keep channels: ['405'] for corr_illumination.\n",
      "-- loading illumination correction profile from file:\n",
      "\t 405 illumination_correction_405_2048x2048.npy\n",
      "-- corrected illumination for channel 405 in 7.849s.\n",
      "- Finished illumination correction in 7.941s.\n"
     ]
    },
    {
     "name": "stderr",
     "output_type": "stream",
     "text": [
      "\r",
      " 37%|█████████████████████████████▋                                                   | 59/161 [14:13<24:11, 14.23s/it]"
     ]
    },
    {
     "name": "stdout",
     "output_type": "stream",
     "text": [
      "Initialize DaxProcesser for file:\\\\10.245.74.158\\Chromatin_NAS_0\\20220329-P_brain_M1_nonclear_adaptors\\H0M1\\Conv_zscan_059.dax\n",
      "-- all used channels: ['750', '647', '488', '405']\n",
      "-- single image size: [  50 2048 2048]\n",
      "- Loaded images for channels:['405'] in 4.491s.\n",
      "- Correct illumination for channels: ['405']\n",
      "-- Keep channels: ['405'] for corr_illumination.\n",
      "-- loading illumination correction profile from file:\n",
      "\t 405 illumination_correction_405_2048x2048.npy\n",
      "-- corrected illumination for channel 405 in 8.128s.\n",
      "- Finished illumination correction in 8.275s.\n"
     ]
    },
    {
     "name": "stderr",
     "output_type": "stream",
     "text": [
      "\r",
      " 37%|██████████████████████████████▏                                                  | 60/161 [14:26<23:46, 14.12s/it]"
     ]
    },
    {
     "name": "stdout",
     "output_type": "stream",
     "text": [
      "Initialize DaxProcesser for file:\\\\10.245.74.158\\Chromatin_NAS_0\\20220329-P_brain_M1_nonclear_adaptors\\H0M1\\Conv_zscan_060.dax\n",
      "-- all used channels: ['750', '647', '488', '405']\n",
      "-- single image size: [  50 2048 2048]\n",
      "- Loaded images for channels:['405'] in 5.440s.\n",
      "- Correct illumination for channels: ['405']\n",
      "-- Keep channels: ['405'] for corr_illumination.\n",
      "-- loading illumination correction profile from file:\n",
      "\t 405 illumination_correction_405_2048x2048.npy\n",
      "-- corrected illumination for channel 405 in 8.057s.\n",
      "- Finished illumination correction in 8.151s.\n"
     ]
    },
    {
     "name": "stderr",
     "output_type": "stream",
     "text": [
      "\r",
      " 38%|██████████████████████████████▋                                                  | 61/161 [14:41<23:43, 14.23s/it]"
     ]
    },
    {
     "name": "stdout",
     "output_type": "stream",
     "text": [
      "Initialize DaxProcesser for file:\\\\10.245.74.158\\Chromatin_NAS_0\\20220329-P_brain_M1_nonclear_adaptors\\H0M1\\Conv_zscan_061.dax\n",
      "-- all used channels: ['750', '647', '488', '405']\n",
      "-- single image size: [  50 2048 2048]\n",
      "- Loaded images for channels:['405'] in 5.098s.\n",
      "- Correct illumination for channels: ['405']\n",
      "-- Keep channels: ['405'] for corr_illumination.\n",
      "-- loading illumination correction profile from file:\n",
      "\t 405 illumination_correction_405_2048x2048.npy\n",
      "-- corrected illumination for channel 405 in 8.038s.\n",
      "- Finished illumination correction in 8.137s.\n"
     ]
    },
    {
     "name": "stderr",
     "output_type": "stream",
     "text": [
      "\r",
      " 39%|███████████████████████████████▏                                                 | 62/161 [14:55<23:28, 14.23s/it]"
     ]
    },
    {
     "name": "stdout",
     "output_type": "stream",
     "text": [
      "Initialize DaxProcesser for file:\\\\10.245.74.158\\Chromatin_NAS_0\\20220329-P_brain_M1_nonclear_adaptors\\H0M1\\Conv_zscan_062.dax\n",
      "-- all used channels: ['750', '647', '488', '405']\n",
      "-- single image size: [  50 2048 2048]\n",
      "- Loaded images for channels:['405'] in 5.351s.\n",
      "- Correct illumination for channels: ['405']\n",
      "-- Keep channels: ['405'] for corr_illumination.\n",
      "-- loading illumination correction profile from file:\n",
      "\t 405 illumination_correction_405_2048x2048.npy\n",
      "-- corrected illumination for channel 405 in 8.062s.\n",
      "- Finished illumination correction in 8.149s.\n"
     ]
    },
    {
     "name": "stderr",
     "output_type": "stream",
     "text": [
      "\r",
      " 39%|███████████████████████████████▋                                                 | 63/161 [15:10<23:21, 14.30s/it]"
     ]
    },
    {
     "name": "stdout",
     "output_type": "stream",
     "text": [
      "Initialize DaxProcesser for file:\\\\10.245.74.158\\Chromatin_NAS_0\\20220329-P_brain_M1_nonclear_adaptors\\H0M1\\Conv_zscan_063.dax\n",
      "-- all used channels: ['750', '647', '488', '405']\n",
      "-- single image size: [  50 2048 2048]\n",
      "- Loaded images for channels:['405'] in 5.261s.\n",
      "- Correct illumination for channels: ['405']\n",
      "-- Keep channels: ['405'] for corr_illumination.\n",
      "-- loading illumination correction profile from file:\n",
      "\t 405 illumination_correction_405_2048x2048.npy\n",
      "-- corrected illumination for channel 405 in 7.816s.\n",
      "- Finished illumination correction in 7.940s.\n"
     ]
    },
    {
     "name": "stderr",
     "output_type": "stream",
     "text": [
      "\r",
      " 40%|████████████████████████████████▏                                                | 64/161 [15:24<22:59, 14.22s/it]"
     ]
    },
    {
     "name": "stdout",
     "output_type": "stream",
     "text": [
      "Initialize DaxProcesser for file:\\\\10.245.74.158\\Chromatin_NAS_0\\20220329-P_brain_M1_nonclear_adaptors\\H0M1\\Conv_zscan_064.dax\n",
      "-- all used channels: ['750', '647', '488', '405']\n",
      "-- single image size: [  50 2048 2048]\n",
      "- Loaded images for channels:['405'] in 5.095s.\n",
      "- Correct illumination for channels: ['405']\n",
      "-- Keep channels: ['405'] for corr_illumination.\n",
      "-- loading illumination correction profile from file:\n",
      "\t 405 illumination_correction_405_2048x2048.npy\n",
      "-- corrected illumination for channel 405 in 7.846s.\n",
      "- Finished illumination correction in 7.945s.\n"
     ]
    },
    {
     "name": "stderr",
     "output_type": "stream",
     "text": [
      "\r",
      " 40%|████████████████████████████████▋                                                | 65/161 [15:38<22:37, 14.14s/it]"
     ]
    },
    {
     "name": "stdout",
     "output_type": "stream",
     "text": [
      "Initialize DaxProcesser for file:\\\\10.245.74.158\\Chromatin_NAS_0\\20220329-P_brain_M1_nonclear_adaptors\\H0M1\\Conv_zscan_065.dax\n",
      "-- all used channels: ['750', '647', '488', '405']\n",
      "-- single image size: [  50 2048 2048]\n",
      "- Loaded images for channels:['405'] in 5.152s.\n",
      "- Correct illumination for channels: ['405']\n",
      "-- Keep channels: ['405'] for corr_illumination.\n",
      "-- loading illumination correction profile from file:\n",
      "\t 405 illumination_correction_405_2048x2048.npy\n",
      "-- corrected illumination for channel 405 in 7.857s.\n",
      "- Finished illumination correction in 7.944s.\n"
     ]
    },
    {
     "name": "stderr",
     "output_type": "stream",
     "text": [
      "\r",
      " 41%|█████████████████████████████████▏                                               | 66/161 [15:52<22:21, 14.12s/it]"
     ]
    },
    {
     "name": "stdout",
     "output_type": "stream",
     "text": [
      "Initialize DaxProcesser for file:\\\\10.245.74.158\\Chromatin_NAS_0\\20220329-P_brain_M1_nonclear_adaptors\\H0M1\\Conv_zscan_066.dax\n",
      "-- all used channels: ['750', '647', '488', '405']\n",
      "-- single image size: [  50 2048 2048]\n",
      "- Loaded images for channels:['405'] in 5.601s.\n",
      "- Correct illumination for channels: ['405']\n",
      "-- Keep channels: ['405'] for corr_illumination.\n",
      "-- loading illumination correction profile from file:\n",
      "\t 405 illumination_correction_405_2048x2048.npy\n",
      "-- corrected illumination for channel 405 in 8.175s.\n",
      "- Finished illumination correction in 8.273s.\n"
     ]
    },
    {
     "name": "stderr",
     "output_type": "stream",
     "text": [
      "\r",
      " 42%|█████████████████████████████████▋                                               | 67/161 [16:07<22:28, 14.34s/it]"
     ]
    },
    {
     "name": "stdout",
     "output_type": "stream",
     "text": [
      "Initialize DaxProcesser for file:\\\\10.245.74.158\\Chromatin_NAS_0\\20220329-P_brain_M1_nonclear_adaptors\\H0M1\\Conv_zscan_067.dax\n",
      "-- all used channels: ['750', '647', '488', '405']\n",
      "-- single image size: [  50 2048 2048]\n",
      "- Loaded images for channels:['405'] in 5.176s.\n",
      "- Correct illumination for channels: ['405']\n",
      "-- Keep channels: ['405'] for corr_illumination.\n",
      "-- loading illumination correction profile from file:\n",
      "\t 405 illumination_correction_405_2048x2048.npy\n",
      "-- corrected illumination for channel 405 in 7.950s.\n",
      "- Finished illumination correction in 8.041s.\n"
     ]
    },
    {
     "name": "stderr",
     "output_type": "stream",
     "text": [
      "\r",
      " 42%|██████████████████████████████████▏                                              | 68/161 [16:21<22:10, 14.30s/it]"
     ]
    },
    {
     "name": "stdout",
     "output_type": "stream",
     "text": [
      "Initialize DaxProcesser for file:\\\\10.245.74.158\\Chromatin_NAS_0\\20220329-P_brain_M1_nonclear_adaptors\\H0M1\\Conv_zscan_068.dax\n",
      "-- all used channels: ['750', '647', '488', '405']\n",
      "-- single image size: [  50 2048 2048]\n",
      "- Loaded images for channels:['405'] in 4.467s.\n",
      "- Correct illumination for channels: ['405']\n",
      "-- Keep channels: ['405'] for corr_illumination.\n",
      "-- loading illumination correction profile from file:\n",
      "\t 405 illumination_correction_405_2048x2048.npy\n",
      "-- corrected illumination for channel 405 in 8.023s.\n",
      "- Finished illumination correction in 8.145s.\n"
     ]
    },
    {
     "name": "stderr",
     "output_type": "stream",
     "text": [
      "\r",
      " 43%|██████████████████████████████████▋                                              | 69/161 [16:34<21:36, 14.09s/it]"
     ]
    },
    {
     "name": "stdout",
     "output_type": "stream",
     "text": [
      "Initialize DaxProcesser for file:\\\\10.245.74.158\\Chromatin_NAS_0\\20220329-P_brain_M1_nonclear_adaptors\\H0M1\\Conv_zscan_069.dax\n",
      "-- all used channels: ['750', '647', '488', '405']\n",
      "-- single image size: [  50 2048 2048]\n",
      "- Loaded images for channels:['405'] in 10.114s.\n",
      "- Correct illumination for channels: ['405']\n",
      "-- Keep channels: ['405'] for corr_illumination.\n",
      "-- loading illumination correction profile from file:\n",
      "\t 405 illumination_correction_405_2048x2048.npy\n",
      "-- corrected illumination for channel 405 in 8.072s.\n",
      "- Finished illumination correction in 8.159s.\n"
     ]
    },
    {
     "name": "stderr",
     "output_type": "stream",
     "text": [
      "\r",
      " 43%|███████████████████████████████████▏                                             | 70/161 [16:54<23:41, 15.63s/it]"
     ]
    },
    {
     "name": "stdout",
     "output_type": "stream",
     "text": [
      "Initialize DaxProcesser for file:\\\\10.245.74.158\\Chromatin_NAS_0\\20220329-P_brain_M1_nonclear_adaptors\\H0M1\\Conv_zscan_070.dax\n",
      "-- all used channels: ['750', '647', '488', '405']\n",
      "-- single image size: [  50 2048 2048]\n",
      "- Loaded images for channels:['405'] in 5.262s.\n",
      "- Correct illumination for channels: ['405']\n",
      "-- Keep channels: ['405'] for corr_illumination.\n",
      "-- loading illumination correction profile from file:\n",
      "\t 405 illumination_correction_405_2048x2048.npy\n",
      "-- corrected illumination for channel 405 in 8.022s.\n",
      "- Finished illumination correction in 8.122s.\n"
     ]
    },
    {
     "name": "stderr",
     "output_type": "stream",
     "text": [
      "\r",
      " 44%|███████████████████████████████████▋                                             | 71/161 [17:08<22:49, 15.22s/it]"
     ]
    },
    {
     "name": "stdout",
     "output_type": "stream",
     "text": [
      "Initialize DaxProcesser for file:\\\\10.245.74.158\\Chromatin_NAS_0\\20220329-P_brain_M1_nonclear_adaptors\\H0M1\\Conv_zscan_071.dax\n",
      "-- all used channels: ['750', '647', '488', '405']\n",
      "-- single image size: [  50 2048 2048]\n",
      "- Loaded images for channels:['405'] in 4.802s.\n",
      "- Correct illumination for channels: ['405']\n",
      "-- Keep channels: ['405'] for corr_illumination.\n",
      "-- loading illumination correction profile from file:\n",
      "\t 405 illumination_correction_405_2048x2048.npy\n",
      "-- corrected illumination for channel 405 in 8.013s.\n",
      "- Finished illumination correction in 8.123s.\n"
     ]
    },
    {
     "name": "stderr",
     "output_type": "stream",
     "text": [
      "\r",
      " 45%|████████████████████████████████████▏                                            | 72/161 [17:22<21:57, 14.80s/it]"
     ]
    },
    {
     "name": "stdout",
     "output_type": "stream",
     "text": [
      "Initialize DaxProcesser for file:\\\\10.245.74.158\\Chromatin_NAS_0\\20220329-P_brain_M1_nonclear_adaptors\\H0M1\\Conv_zscan_072.dax\n",
      "-- all used channels: ['750', '647', '488', '405']\n",
      "-- single image size: [  50 2048 2048]\n",
      "- Loaded images for channels:['405'] in 5.596s.\n",
      "- Correct illumination for channels: ['405']\n",
      "-- Keep channels: ['405'] for corr_illumination.\n",
      "-- loading illumination correction profile from file:\n",
      "\t 405 illumination_correction_405_2048x2048.npy\n",
      "-- corrected illumination for channel 405 in 8.106s.\n",
      "- Finished illumination correction in 8.224s.\n"
     ]
    },
    {
     "name": "stderr",
     "output_type": "stream",
     "text": [
      "\r",
      " 45%|████████████████████████████████████▋                                            | 73/161 [17:36<21:40, 14.77s/it]"
     ]
    },
    {
     "name": "stdout",
     "output_type": "stream",
     "text": [
      "Initialize DaxProcesser for file:\\\\10.245.74.158\\Chromatin_NAS_0\\20220329-P_brain_M1_nonclear_adaptors\\H0M1\\Conv_zscan_073.dax\n",
      "-- all used channels: ['750', '647', '488', '405']\n",
      "-- single image size: [  50 2048 2048]\n",
      "- Loaded images for channels:['405'] in 5.032s.\n",
      "- Correct illumination for channels: ['405']\n",
      "-- Keep channels: ['405'] for corr_illumination.\n",
      "-- loading illumination correction profile from file:\n",
      "\t 405 illumination_correction_405_2048x2048.npy\n",
      "-- corrected illumination for channel 405 in 8.036s.\n",
      "- Finished illumination correction in 8.135s.\n"
     ]
    },
    {
     "name": "stderr",
     "output_type": "stream",
     "text": [
      "\r",
      " 46%|█████████████████████████████████████▏                                           | 74/161 [17:50<21:07, 14.57s/it]"
     ]
    },
    {
     "name": "stdout",
     "output_type": "stream",
     "text": [
      "Initialize DaxProcesser for file:\\\\10.245.74.158\\Chromatin_NAS_0\\20220329-P_brain_M1_nonclear_adaptors\\H0M1\\Conv_zscan_074.dax\n",
      "-- all used channels: ['750', '647', '488', '405']\n",
      "-- single image size: [  50 2048 2048]\n",
      "- Loaded images for channels:['405'] in 5.542s.\n",
      "- Correct illumination for channels: ['405']\n",
      "-- Keep channels: ['405'] for corr_illumination.\n",
      "-- loading illumination correction profile from file:\n",
      "\t 405 illumination_correction_405_2048x2048.npy\n",
      "-- corrected illumination for channel 405 in 8.147s.\n",
      "- Finished illumination correction in 8.236s.\n"
     ]
    },
    {
     "name": "stderr",
     "output_type": "stream",
     "text": [
      "\r",
      " 47%|█████████████████████████████████████▋                                           | 75/161 [18:05<20:56, 14.61s/it]"
     ]
    },
    {
     "name": "stdout",
     "output_type": "stream",
     "text": [
      "Initialize DaxProcesser for file:\\\\10.245.74.158\\Chromatin_NAS_0\\20220329-P_brain_M1_nonclear_adaptors\\H0M1\\Conv_zscan_075.dax\n",
      "-- all used channels: ['750', '647', '488', '405']\n",
      "-- single image size: [  50 2048 2048]\n",
      "- Loaded images for channels:['405'] in 5.252s.\n",
      "- Correct illumination for channels: ['405']\n",
      "-- Keep channels: ['405'] for corr_illumination.\n",
      "-- loading illumination correction profile from file:\n",
      "\t 405 illumination_correction_405_2048x2048.npy\n",
      "-- corrected illumination for channel 405 in 8.038s.\n",
      "- Finished illumination correction in 8.126s.\n"
     ]
    },
    {
     "name": "stderr",
     "output_type": "stream",
     "text": [
      "\r",
      " 47%|██████████████████████████████████████▏                                          | 76/161 [18:19<20:33, 14.51s/it]"
     ]
    },
    {
     "name": "stdout",
     "output_type": "stream",
     "text": [
      "Initialize DaxProcesser for file:\\\\10.245.74.158\\Chromatin_NAS_0\\20220329-P_brain_M1_nonclear_adaptors\\H0M1\\Conv_zscan_076.dax\n",
      "-- all used channels: ['750', '647', '488', '405']\n",
      "-- single image size: [  50 2048 2048]\n",
      "- Loaded images for channels:['405'] in 4.539s.\n",
      "- Correct illumination for channels: ['405']\n",
      "-- Keep channels: ['405'] for corr_illumination.\n",
      "-- loading illumination correction profile from file:\n",
      "\t 405 illumination_correction_405_2048x2048.npy\n",
      "-- corrected illumination for channel 405 in 8.065s.\n",
      "- Finished illumination correction in 8.152s.\n"
     ]
    },
    {
     "name": "stderr",
     "output_type": "stream",
     "text": [
      "\r",
      " 48%|██████████████████████████████████████▋                                          | 77/161 [18:33<19:55, 14.23s/it]"
     ]
    },
    {
     "name": "stdout",
     "output_type": "stream",
     "text": [
      "Initialize DaxProcesser for file:\\\\10.245.74.158\\Chromatin_NAS_0\\20220329-P_brain_M1_nonclear_adaptors\\H0M1\\Conv_zscan_077.dax\n",
      "-- all used channels: ['750', '647', '488', '405']\n",
      "-- single image size: [  50 2048 2048]\n",
      "- Loaded images for channels:['405'] in 4.863s.\n",
      "- Correct illumination for channels: ['405']\n",
      "-- Keep channels: ['405'] for corr_illumination.\n",
      "-- loading illumination correction profile from file:\n",
      "\t 405 illumination_correction_405_2048x2048.npy\n",
      "-- corrected illumination for channel 405 in 7.906s.\n",
      "- Finished illumination correction in 8.042s.\n"
     ]
    },
    {
     "name": "stderr",
     "output_type": "stream",
     "text": [
      "\r",
      " 48%|███████████████████████████████████████▏                                         | 78/161 [18:47<19:30, 14.10s/it]"
     ]
    },
    {
     "name": "stdout",
     "output_type": "stream",
     "text": [
      "Initialize DaxProcesser for file:\\\\10.245.74.158\\Chromatin_NAS_0\\20220329-P_brain_M1_nonclear_adaptors\\H0M1\\Conv_zscan_078.dax\n",
      "-- all used channels: ['750', '647', '488', '405']\n",
      "-- single image size: [  50 2048 2048]\n",
      "- Loaded images for channels:['405'] in 5.250s.\n",
      "- Correct illumination for channels: ['405']\n",
      "-- Keep channels: ['405'] for corr_illumination.\n",
      "-- loading illumination correction profile from file:\n",
      "\t 405 illumination_correction_405_2048x2048.npy\n",
      "-- corrected illumination for channel 405 in 8.031s.\n",
      "- Finished illumination correction in 8.121s.\n"
     ]
    },
    {
     "name": "stderr",
     "output_type": "stream",
     "text": [
      "\r",
      " 49%|███████████████████████████████████████▋                                         | 79/161 [19:01<19:21, 14.16s/it]"
     ]
    },
    {
     "name": "stdout",
     "output_type": "stream",
     "text": [
      "Initialize DaxProcesser for file:\\\\10.245.74.158\\Chromatin_NAS_0\\20220329-P_brain_M1_nonclear_adaptors\\H0M1\\Conv_zscan_079.dax\n",
      "-- all used channels: ['750', '647', '488', '405']\n",
      "-- single image size: [  50 2048 2048]\n",
      "- Loaded images for channels:['405'] in 8.327s.\n",
      "- Correct illumination for channels: ['405']\n",
      "-- Keep channels: ['405'] for corr_illumination.\n",
      "-- loading illumination correction profile from file:\n",
      "\t 405 illumination_correction_405_2048x2048.npy\n",
      "-- corrected illumination for channel 405 in 8.084s.\n",
      "- Finished illumination correction in 8.190s.\n"
     ]
    },
    {
     "name": "stderr",
     "output_type": "stream",
     "text": [
      "\r",
      " 50%|████████████████████████████████████████▏                                        | 80/161 [19:19<20:25, 15.13s/it]"
     ]
    },
    {
     "name": "stdout",
     "output_type": "stream",
     "text": [
      "Initialize DaxProcesser for file:\\\\10.245.74.158\\Chromatin_NAS_0\\20220329-P_brain_M1_nonclear_adaptors\\H0M1\\Conv_zscan_080.dax\n",
      "-- all used channels: ['750', '647', '488', '405']\n",
      "-- single image size: [  50 2048 2048]\n",
      "- Loaded images for channels:['405'] in 5.156s.\n",
      "- Correct illumination for channels: ['405']\n",
      "-- Keep channels: ['405'] for corr_illumination.\n",
      "-- loading illumination correction profile from file:\n",
      "\t 405 illumination_correction_405_2048x2048.npy\n",
      "-- corrected illumination for channel 405 in 8.011s.\n",
      "- Finished illumination correction in 8.102s.\n"
     ]
    },
    {
     "name": "stderr",
     "output_type": "stream",
     "text": [
      "\r",
      " 50%|████████████████████████████████████████▊                                        | 81/161 [19:33<19:48, 14.86s/it]"
     ]
    },
    {
     "name": "stdout",
     "output_type": "stream",
     "text": [
      "Initialize DaxProcesser for file:\\\\10.245.74.158\\Chromatin_NAS_0\\20220329-P_brain_M1_nonclear_adaptors\\H0M1\\Conv_zscan_081.dax\n",
      "-- all used channels: ['750', '647', '488', '405']\n",
      "-- single image size: [  50 2048 2048]\n",
      "- Loaded images for channels:['405'] in 5.056s.\n",
      "- Correct illumination for channels: ['405']\n",
      "-- Keep channels: ['405'] for corr_illumination.\n",
      "-- loading illumination correction profile from file:\n",
      "\t 405 illumination_correction_405_2048x2048.npy\n",
      "-- corrected illumination for channel 405 in 8.092s.\n",
      "- Finished illumination correction in 8.210s.\n"
     ]
    },
    {
     "name": "stderr",
     "output_type": "stream",
     "text": [
      "\r",
      " 51%|█████████████████████████████████████████▎                                       | 82/161 [19:47<19:19, 14.67s/it]"
     ]
    },
    {
     "name": "stdout",
     "output_type": "stream",
     "text": [
      "Initialize DaxProcesser for file:\\\\10.245.74.158\\Chromatin_NAS_0\\20220329-P_brain_M1_nonclear_adaptors\\H0M1\\Conv_zscan_082.dax\n",
      "-- all used channels: ['750', '647', '488', '405']\n",
      "-- single image size: [  50 2048 2048]\n",
      "- Loaded images for channels:['405'] in 5.335s.\n",
      "- Correct illumination for channels: ['405']\n",
      "-- Keep channels: ['405'] for corr_illumination.\n",
      "-- loading illumination correction profile from file:\n",
      "\t 405 illumination_correction_405_2048x2048.npy\n",
      "-- corrected illumination for channel 405 in 8.017s.\n",
      "- Finished illumination correction in 8.109s.\n"
     ]
    },
    {
     "name": "stderr",
     "output_type": "stream",
     "text": [
      "\r",
      " 52%|█████████████████████████████████████████▊                                       | 83/161 [20:01<18:56, 14.57s/it]"
     ]
    },
    {
     "name": "stdout",
     "output_type": "stream",
     "text": [
      "Initialize DaxProcesser for file:\\\\10.245.74.158\\Chromatin_NAS_0\\20220329-P_brain_M1_nonclear_adaptors\\H0M1\\Conv_zscan_083.dax\n",
      "-- all used channels: ['750', '647', '488', '405']\n",
      "-- single image size: [  50 2048 2048]\n",
      "- Loaded images for channels:['405'] in 5.133s.\n",
      "- Correct illumination for channels: ['405']\n",
      "-- Keep channels: ['405'] for corr_illumination.\n",
      "-- loading illumination correction profile from file:\n",
      "\t 405 illumination_correction_405_2048x2048.npy\n",
      "-- corrected illumination for channel 405 in 7.854s.\n",
      "- Finished illumination correction in 7.879s.\n"
     ]
    },
    {
     "name": "stderr",
     "output_type": "stream",
     "text": [
      "\r",
      " 52%|██████████████████████████████████████████▎                                      | 84/161 [20:15<18:26, 14.37s/it]"
     ]
    },
    {
     "name": "stdout",
     "output_type": "stream",
     "text": [
      "Initialize DaxProcesser for file:\\\\10.245.74.158\\Chromatin_NAS_0\\20220329-P_brain_M1_nonclear_adaptors\\H0M1\\Conv_zscan_084.dax\n",
      "-- all used channels: ['750', '647', '488', '405']\n",
      "-- single image size: [  50 2048 2048]\n",
      "- Loaded images for channels:['405'] in 4.512s.\n",
      "- Correct illumination for channels: ['405']\n",
      "-- Keep channels: ['405'] for corr_illumination.\n",
      "-- loading illumination correction profile from file:\n",
      "\t 405 illumination_correction_405_2048x2048.npy\n",
      "-- corrected illumination for channel 405 in 7.983s.\n",
      "- Finished illumination correction in 8.075s.\n"
     ]
    },
    {
     "name": "stderr",
     "output_type": "stream",
     "text": [
      "\r",
      " 53%|██████████████████████████████████████████▊                                      | 85/161 [20:29<17:53, 14.12s/it]"
     ]
    },
    {
     "name": "stdout",
     "output_type": "stream",
     "text": [
      "Initialize DaxProcesser for file:\\\\10.245.74.158\\Chromatin_NAS_0\\20220329-P_brain_M1_nonclear_adaptors\\H0M1\\Conv_zscan_085.dax\n",
      "-- all used channels: ['750', '647', '488', '405']\n",
      "-- single image size: [  50 2048 2048]\n",
      "- Loaded images for channels:['405'] in 5.014s.\n",
      "- Correct illumination for channels: ['405']\n",
      "-- Keep channels: ['405'] for corr_illumination.\n",
      "-- loading illumination correction profile from file:\n",
      "\t 405 illumination_correction_405_2048x2048.npy\n",
      "-- corrected illumination for channel 405 in 8.115s.\n",
      "- Finished illumination correction in 8.132s.\n"
     ]
    },
    {
     "name": "stderr",
     "output_type": "stream",
     "text": [
      "\r",
      " 53%|███████████████████████████████████████████▎                                     | 86/161 [20:43<17:38, 14.11s/it]"
     ]
    },
    {
     "name": "stdout",
     "output_type": "stream",
     "text": [
      "Initialize DaxProcesser for file:\\\\10.245.74.158\\Chromatin_NAS_0\\20220329-P_brain_M1_nonclear_adaptors\\H0M1\\Conv_zscan_086.dax\n",
      "-- all used channels: ['750', '647', '488', '405']\n",
      "-- single image size: [  50 2048 2048]\n",
      "- Loaded images for channels:['405'] in 4.956s.\n",
      "- Correct illumination for channels: ['405']\n",
      "-- Keep channels: ['405'] for corr_illumination.\n",
      "-- loading illumination correction profile from file:\n",
      "\t 405 illumination_correction_405_2048x2048.npy\n",
      "-- corrected illumination for channel 405 in 8.096s.\n",
      "- Finished illumination correction in 8.229s.\n"
     ]
    },
    {
     "name": "stderr",
     "output_type": "stream",
     "text": [
      "\r",
      " 54%|███████████████████████████████████████████▊                                     | 87/161 [20:57<17:23, 14.10s/it]"
     ]
    },
    {
     "name": "stdout",
     "output_type": "stream",
     "text": [
      "Initialize DaxProcesser for file:\\\\10.245.74.158\\Chromatin_NAS_0\\20220329-P_brain_M1_nonclear_adaptors\\H0M1\\Conv_zscan_087.dax\n",
      "-- all used channels: ['750', '647', '488', '405']\n",
      "-- single image size: [  50 2048 2048]\n",
      "- Loaded images for channels:['405'] in 5.225s.\n",
      "- Correct illumination for channels: ['405']\n",
      "-- Keep channels: ['405'] for corr_illumination.\n",
      "-- loading illumination correction profile from file:\n",
      "\t 405 illumination_correction_405_2048x2048.npy\n",
      "-- corrected illumination for channel 405 in 7.982s.\n",
      "- Finished illumination correction in 8.070s.\n"
     ]
    },
    {
     "name": "stderr",
     "output_type": "stream",
     "text": [
      "\r",
      " 55%|████████████████████████████████████████████▎                                    | 88/161 [21:11<17:15, 14.18s/it]"
     ]
    },
    {
     "name": "stdout",
     "output_type": "stream",
     "text": [
      "Initialize DaxProcesser for file:\\\\10.245.74.158\\Chromatin_NAS_0\\20220329-P_brain_M1_nonclear_adaptors\\H0M1\\Conv_zscan_088.dax\n",
      "-- all used channels: ['750', '647', '488', '405']\n",
      "-- single image size: [  50 2048 2048]\n",
      "- Loaded images for channels:['405'] in 4.860s.\n",
      "- Correct illumination for channels: ['405']\n",
      "-- Keep channels: ['405'] for corr_illumination.\n",
      "-- loading illumination correction profile from file:\n",
      "\t 405 illumination_correction_405_2048x2048.npy\n",
      "-- corrected illumination for channel 405 in 8.068s.\n",
      "- Finished illumination correction in 8.162s.\n"
     ]
    },
    {
     "name": "stderr",
     "output_type": "stream",
     "text": [
      "\r",
      " 55%|████████████████████████████████████████████▊                                    | 89/161 [21:25<16:56, 14.11s/it]"
     ]
    },
    {
     "name": "stdout",
     "output_type": "stream",
     "text": [
      "Initialize DaxProcesser for file:\\\\10.245.74.158\\Chromatin_NAS_0\\20220329-P_brain_M1_nonclear_adaptors\\H0M1\\Conv_zscan_089.dax\n",
      "-- all used channels: ['750', '647', '488', '405']\n",
      "-- single image size: [  50 2048 2048]\n",
      "- Loaded images for channels:['405'] in 5.329s.\n",
      "- Correct illumination for channels: ['405']\n",
      "-- Keep channels: ['405'] for corr_illumination.\n",
      "-- loading illumination correction profile from file:\n",
      "\t 405 illumination_correction_405_2048x2048.npy\n",
      "-- corrected illumination for channel 405 in 8.043s.\n",
      "- Finished illumination correction in 8.144s.\n"
     ]
    },
    {
     "name": "stderr",
     "output_type": "stream",
     "text": [
      "\r",
      " 56%|█████████████████████████████████████████████▎                                   | 90/161 [21:40<16:48, 14.20s/it]"
     ]
    },
    {
     "name": "stdout",
     "output_type": "stream",
     "text": [
      "Initialize DaxProcesser for file:\\\\10.245.74.158\\Chromatin_NAS_0\\20220329-P_brain_M1_nonclear_adaptors\\H0M1\\Conv_zscan_090.dax\n",
      "-- all used channels: ['750', '647', '488', '405']\n",
      "-- single image size: [  50 2048 2048]\n",
      "- Loaded images for channels:['405'] in 9.479s.\n",
      "- Correct illumination for channels: ['405']\n",
      "-- Keep channels: ['405'] for corr_illumination.\n",
      "-- loading illumination correction profile from file:\n",
      "\t 405 illumination_correction_405_2048x2048.npy\n",
      "-- corrected illumination for channel 405 in 8.095s.\n",
      "- Finished illumination correction in 8.372s.\n"
     ]
    },
    {
     "name": "stderr",
     "output_type": "stream",
     "text": [
      "\r",
      " 57%|█████████████████████████████████████████████▊                                   | 91/161 [21:58<18:10, 15.58s/it]"
     ]
    },
    {
     "name": "stdout",
     "output_type": "stream",
     "text": [
      "Initialize DaxProcesser for file:\\\\10.245.74.158\\Chromatin_NAS_0\\20220329-P_brain_M1_nonclear_adaptors\\H0M1\\Conv_zscan_091.dax\n",
      "-- all used channels: ['750', '647', '488', '405']\n",
      "-- single image size: [  50 2048 2048]\n",
      "- Loaded images for channels:['405'] in 5.419s.\n",
      "- Correct illumination for channels: ['405']\n",
      "-- Keep channels: ['405'] for corr_illumination.\n",
      "-- loading illumination correction profile from file:\n",
      "\t 405 illumination_correction_405_2048x2048.npy\n",
      "-- corrected illumination for channel 405 in 8.084s.\n",
      "- Finished illumination correction in 8.175s.\n"
     ]
    },
    {
     "name": "stderr",
     "output_type": "stream",
     "text": [
      "\r",
      " 57%|██████████████████████████████████████████████▎                                  | 92/161 [22:13<17:30, 15.23s/it]"
     ]
    },
    {
     "name": "stdout",
     "output_type": "stream",
     "text": [
      "Initialize DaxProcesser for file:\\\\10.245.74.158\\Chromatin_NAS_0\\20220329-P_brain_M1_nonclear_adaptors\\H0M1\\Conv_zscan_092.dax\n",
      "-- all used channels: ['750', '647', '488', '405']\n",
      "-- single image size: [  50 2048 2048]\n",
      "- Loaded images for channels:['405'] in 4.729s.\n",
      "- Correct illumination for channels: ['405']\n",
      "-- Keep channels: ['405'] for corr_illumination.\n",
      "-- loading illumination correction profile from file:\n",
      "\t 405 illumination_correction_405_2048x2048.npy\n",
      "-- corrected illumination for channel 405 in 8.095s.\n",
      "- Finished illumination correction in 8.113s.\n"
     ]
    },
    {
     "name": "stderr",
     "output_type": "stream",
     "text": [
      "\r",
      " 58%|██████████████████████████████████████████████▊                                  | 93/161 [22:27<16:47, 14.82s/it]"
     ]
    },
    {
     "name": "stdout",
     "output_type": "stream",
     "text": [
      "Initialize DaxProcesser for file:\\\\10.245.74.158\\Chromatin_NAS_0\\20220329-P_brain_M1_nonclear_adaptors\\H0M1\\Conv_zscan_093.dax\n",
      "-- all used channels: ['750', '647', '488', '405']\n",
      "-- single image size: [  50 2048 2048]\n",
      "- Loaded images for channels:['405'] in 4.795s.\n",
      "- Correct illumination for channels: ['405']\n",
      "-- Keep channels: ['405'] for corr_illumination.\n",
      "-- loading illumination correction profile from file:\n",
      "\t 405 illumination_correction_405_2048x2048.npy\n",
      "-- corrected illumination for channel 405 in 8.088s.\n",
      "- Finished illumination correction in 8.169s.\n"
     ]
    },
    {
     "name": "stderr",
     "output_type": "stream",
     "text": [
      "\r",
      " 58%|███████████████████████████████████████████████▎                                 | 94/161 [22:41<16:12, 14.52s/it]"
     ]
    },
    {
     "name": "stdout",
     "output_type": "stream",
     "text": [
      "Initialize DaxProcesser for file:\\\\10.245.74.158\\Chromatin_NAS_0\\20220329-P_brain_M1_nonclear_adaptors\\H0M1\\Conv_zscan_094.dax\n",
      "-- all used channels: ['750', '647', '488', '405']\n",
      "-- single image size: [  50 2048 2048]\n",
      "- Loaded images for channels:['405'] in 4.406s.\n",
      "- Correct illumination for channels: ['405']\n",
      "-- Keep channels: ['405'] for corr_illumination.\n",
      "-- loading illumination correction profile from file:\n",
      "\t 405 illumination_correction_405_2048x2048.npy\n",
      "-- corrected illumination for channel 405 in 8.110s.\n",
      "- Finished illumination correction in 8.132s.\n"
     ]
    },
    {
     "name": "stderr",
     "output_type": "stream",
     "text": [
      "\r",
      " 59%|███████████████████████████████████████████████▊                                 | 95/161 [22:54<15:38, 14.22s/it]"
     ]
    },
    {
     "name": "stdout",
     "output_type": "stream",
     "text": [
      "Initialize DaxProcesser for file:\\\\10.245.74.158\\Chromatin_NAS_0\\20220329-P_brain_M1_nonclear_adaptors\\H0M1\\Conv_zscan_095.dax\n",
      "-- all used channels: ['750', '647', '488', '405']\n",
      "-- single image size: [  50 2048 2048]\n",
      "- Loaded images for channels:['405'] in 5.416s.\n",
      "- Correct illumination for channels: ['405']\n",
      "-- Keep channels: ['405'] for corr_illumination.\n",
      "-- loading illumination correction profile from file:\n",
      "\t 405 illumination_correction_405_2048x2048.npy\n",
      "-- corrected illumination for channel 405 in 8.009s.\n",
      "- Finished illumination correction in 8.144s.\n"
     ]
    },
    {
     "name": "stderr",
     "output_type": "stream",
     "text": [
      "\r",
      " 60%|████████████████████████████████████████████████▎                                | 96/161 [23:09<15:30, 14.31s/it]"
     ]
    },
    {
     "name": "stdout",
     "output_type": "stream",
     "text": [
      "Initialize DaxProcesser for file:\\\\10.245.74.158\\Chromatin_NAS_0\\20220329-P_brain_M1_nonclear_adaptors\\H0M1\\Conv_zscan_096.dax\n",
      "-- all used channels: ['750', '647', '488', '405']\n",
      "-- single image size: [  50 2048 2048]\n",
      "- Loaded images for channels:['405'] in 5.675s.\n",
      "- Correct illumination for channels: ['405']\n",
      "-- Keep channels: ['405'] for corr_illumination.\n",
      "-- loading illumination correction profile from file:\n",
      "\t 405 illumination_correction_405_2048x2048.npy\n",
      "-- corrected illumination for channel 405 in 8.110s.\n",
      "- Finished illumination correction in 8.216s.\n"
     ]
    },
    {
     "name": "stderr",
     "output_type": "stream",
     "text": [
      "\r",
      " 60%|████████████████████████████████████████████████▊                                | 97/161 [23:24<15:27, 14.50s/it]"
     ]
    },
    {
     "name": "stdout",
     "output_type": "stream",
     "text": [
      "Initialize DaxProcesser for file:\\\\10.245.74.158\\Chromatin_NAS_0\\20220329-P_brain_M1_nonclear_adaptors\\H0M1\\Conv_zscan_097.dax\n",
      "-- all used channels: ['750', '647', '488', '405']\n",
      "-- single image size: [  50 2048 2048]\n",
      "- Loaded images for channels:['405'] in 5.456s.\n",
      "- Correct illumination for channels: ['405']\n",
      "-- Keep channels: ['405'] for corr_illumination.\n",
      "-- loading illumination correction profile from file:\n",
      "\t 405 illumination_correction_405_2048x2048.npy\n",
      "-- corrected illumination for channel 405 in 8.070s.\n",
      "- Finished illumination correction in 8.161s.\n"
     ]
    },
    {
     "name": "stderr",
     "output_type": "stream",
     "text": [
      "\r",
      " 61%|█████████████████████████████████████████████████▎                               | 98/161 [23:38<15:12, 14.49s/it]"
     ]
    },
    {
     "name": "stdout",
     "output_type": "stream",
     "text": [
      "Initialize DaxProcesser for file:\\\\10.245.74.158\\Chromatin_NAS_0\\20220329-P_brain_M1_nonclear_adaptors\\H0M1\\Conv_zscan_098.dax\n",
      "-- all used channels: ['750', '647', '488', '405']\n",
      "-- single image size: [  50 2048 2048]\n",
      "- Loaded images for channels:['405'] in 4.877s.\n",
      "- Correct illumination for channels: ['405']\n",
      "-- Keep channels: ['405'] for corr_illumination.\n",
      "-- loading illumination correction profile from file:\n",
      "\t 405 illumination_correction_405_2048x2048.npy\n",
      "-- corrected illumination for channel 405 in 8.004s.\n",
      "- Finished illumination correction in 8.097s.\n"
     ]
    },
    {
     "name": "stderr",
     "output_type": "stream",
     "text": [
      "\r",
      " 61%|█████████████████████████████████████████████████▊                               | 99/161 [23:52<14:45, 14.28s/it]"
     ]
    },
    {
     "name": "stdout",
     "output_type": "stream",
     "text": [
      "Initialize DaxProcesser for file:\\\\10.245.74.158\\Chromatin_NAS_0\\20220329-P_brain_M1_nonclear_adaptors\\H0M1\\Conv_zscan_099.dax\n",
      "-- all used channels: ['750', '647', '488', '405']\n",
      "-- single image size: [  50 2048 2048]\n",
      "- Loaded images for channels:['405'] in 4.660s.\n",
      "- Correct illumination for channels: ['405']\n",
      "-- Keep channels: ['405'] for corr_illumination.\n",
      "-- loading illumination correction profile from file:\n",
      "\t 405 illumination_correction_405_2048x2048.npy\n",
      "-- corrected illumination for channel 405 in 7.946s.\n",
      "- Finished illumination correction in 7.964s.\n"
     ]
    },
    {
     "name": "stderr",
     "output_type": "stream",
     "text": [
      "\r",
      " 62%|█████████████████████████████████████████████████▋                              | 100/161 [24:05<14:18, 14.08s/it]"
     ]
    },
    {
     "name": "stdout",
     "output_type": "stream",
     "text": [
      "Initialize DaxProcesser for file:\\\\10.245.74.158\\Chromatin_NAS_0\\20220329-P_brain_M1_nonclear_adaptors\\H0M1\\Conv_zscan_100.dax\n",
      "-- all used channels: ['750', '647', '488', '405']\n",
      "-- single image size: [  50 2048 2048]\n",
      "- Loaded images for channels:['405'] in 5.019s.\n",
      "- Correct illumination for channels: ['405']\n",
      "-- Keep channels: ['405'] for corr_illumination.\n",
      "-- loading illumination correction profile from file:\n",
      "\t 405 illumination_correction_405_2048x2048.npy\n",
      "-- corrected illumination for channel 405 in 8.011s.\n",
      "- Finished illumination correction in 8.129s.\n"
     ]
    },
    {
     "name": "stderr",
     "output_type": "stream",
     "text": [
      "\r",
      " 63%|██████████████████████████████████████████████████▏                             | 101/161 [24:19<14:04, 14.07s/it]"
     ]
    },
    {
     "name": "stdout",
     "output_type": "stream",
     "text": [
      "Initialize DaxProcesser for file:\\\\10.245.74.158\\Chromatin_NAS_0\\20220329-P_brain_M1_nonclear_adaptors\\H0M1\\Conv_zscan_101.dax\n",
      "-- all used channels: ['750', '647', '488', '405']\n",
      "-- single image size: [  50 2048 2048]\n",
      "- Loaded images for channels:['405'] in 6.704s.\n",
      "- Correct illumination for channels: ['405']\n",
      "-- Keep channels: ['405'] for corr_illumination.\n",
      "-- loading illumination correction profile from file:\n",
      "\t 405 illumination_correction_405_2048x2048.npy\n",
      "-- corrected illumination for channel 405 in 7.842s.\n",
      "- Finished illumination correction in 7.944s.\n"
     ]
    },
    {
     "name": "stderr",
     "output_type": "stream",
     "text": [
      "\r",
      " 63%|██████████████████████████████████████████████████▋                             | 102/161 [24:35<14:17, 14.54s/it]"
     ]
    },
    {
     "name": "stdout",
     "output_type": "stream",
     "text": [
      "Initialize DaxProcesser for file:\\\\10.245.74.158\\Chromatin_NAS_0\\20220329-P_brain_M1_nonclear_adaptors\\H0M1\\Conv_zscan_102.dax\n",
      "-- all used channels: ['750', '647', '488', '405']\n",
      "-- single image size: [  50 2048 2048]\n",
      "- Loaded images for channels:['405'] in 5.528s.\n",
      "- Correct illumination for channels: ['405']\n",
      "-- Keep channels: ['405'] for corr_illumination.\n",
      "-- loading illumination correction profile from file:\n",
      "\t 405 illumination_correction_405_2048x2048.npy\n",
      "-- corrected illumination for channel 405 in 8.076s.\n",
      "- Finished illumination correction in 8.094s.\n"
     ]
    },
    {
     "name": "stderr",
     "output_type": "stream",
     "text": [
      "\r",
      " 64%|███████████████████████████████████████████████████▏                            | 103/161 [24:50<14:05, 14.58s/it]"
     ]
    },
    {
     "name": "stdout",
     "output_type": "stream",
     "text": [
      "Initialize DaxProcesser for file:\\\\10.245.74.158\\Chromatin_NAS_0\\20220329-P_brain_M1_nonclear_adaptors\\H0M1\\Conv_zscan_103.dax\n",
      "-- all used channels: ['750', '647', '488', '405']\n",
      "-- single image size: [  50 2048 2048]\n",
      "- Loaded images for channels:['405'] in 5.030s.\n",
      "- Correct illumination for channels: ['405']\n",
      "-- Keep channels: ['405'] for corr_illumination.\n",
      "-- loading illumination correction profile from file:\n",
      "\t 405 illumination_correction_405_2048x2048.npy\n",
      "-- corrected illumination for channel 405 in 8.099s.\n",
      "- Finished illumination correction in 8.191s.\n"
     ]
    },
    {
     "name": "stderr",
     "output_type": "stream",
     "text": [
      "\r",
      " 65%|███████████████████████████████████████████████████▋                            | 104/161 [25:04<13:45, 14.48s/it]"
     ]
    },
    {
     "name": "stdout",
     "output_type": "stream",
     "text": [
      "Initialize DaxProcesser for file:\\\\10.245.74.158\\Chromatin_NAS_0\\20220329-P_brain_M1_nonclear_adaptors\\H0M1\\Conv_zscan_104.dax\n",
      "-- all used channels: ['750', '647', '488', '405']\n",
      "-- single image size: [  50 2048 2048]\n",
      "- Loaded images for channels:['405'] in 5.149s.\n",
      "- Correct illumination for channels: ['405']\n",
      "-- Keep channels: ['405'] for corr_illumination.\n",
      "-- loading illumination correction profile from file:\n",
      "\t 405 illumination_correction_405_2048x2048.npy\n",
      "-- corrected illumination for channel 405 in 7.920s.\n",
      "- Finished illumination correction in 8.058s.\n"
     ]
    },
    {
     "name": "stderr",
     "output_type": "stream",
     "text": [
      "\r",
      " 65%|████████████████████████████████████████████████████▏                           | 105/161 [25:18<13:26, 14.40s/it]"
     ]
    },
    {
     "name": "stdout",
     "output_type": "stream",
     "text": [
      "Initialize DaxProcesser for file:\\\\10.245.74.158\\Chromatin_NAS_0\\20220329-P_brain_M1_nonclear_adaptors\\H0M1\\Conv_zscan_105.dax\n",
      "-- all used channels: ['750', '647', '488', '405']\n",
      "-- single image size: [  50 2048 2048]\n",
      "- Loaded images for channels:['405'] in 5.237s.\n",
      "- Correct illumination for channels: ['405']\n",
      "-- Keep channels: ['405'] for corr_illumination.\n",
      "-- loading illumination correction profile from file:\n",
      "\t 405 illumination_correction_405_2048x2048.npy\n",
      "-- corrected illumination for channel 405 in 8.176s.\n",
      "- Finished illumination correction in 8.271s.\n"
     ]
    },
    {
     "name": "stderr",
     "output_type": "stream",
     "text": [
      "\r",
      " 66%|████████████████████████████████████████████████████▋                           | 106/161 [25:33<13:12, 14.41s/it]"
     ]
    },
    {
     "name": "stdout",
     "output_type": "stream",
     "text": [
      "Initialize DaxProcesser for file:\\\\10.245.74.158\\Chromatin_NAS_0\\20220329-P_brain_M1_nonclear_adaptors\\H0M1\\Conv_zscan_106.dax\n",
      "-- all used channels: ['750', '647', '488', '405']\n",
      "-- single image size: [  50 2048 2048]\n",
      "- Loaded images for channels:['405'] in 4.981s.\n",
      "- Correct illumination for channels: ['405']\n",
      "-- Keep channels: ['405'] for corr_illumination.\n",
      "-- loading illumination correction profile from file:\n",
      "\t 405 illumination_correction_405_2048x2048.npy\n",
      "-- corrected illumination for channel 405 in 7.903s.\n",
      "- Finished illumination correction in 8.007s.\n"
     ]
    },
    {
     "name": "stderr",
     "output_type": "stream",
     "text": [
      "\r",
      " 66%|█████████████████████████████████████████████████████▏                          | 107/161 [25:47<12:51, 14.29s/it]"
     ]
    },
    {
     "name": "stdout",
     "output_type": "stream",
     "text": [
      "Initialize DaxProcesser for file:\\\\10.245.74.158\\Chromatin_NAS_0\\20220329-P_brain_M1_nonclear_adaptors\\H0M1\\Conv_zscan_107.dax\n",
      "-- all used channels: ['750', '647', '488', '405']\n",
      "-- single image size: [  50 2048 2048]\n",
      "- Loaded images for channels:['405'] in 5.147s.\n",
      "- Correct illumination for channels: ['405']\n",
      "-- Keep channels: ['405'] for corr_illumination.\n",
      "-- loading illumination correction profile from file:\n",
      "\t 405 illumination_correction_405_2048x2048.npy\n",
      "-- corrected illumination for channel 405 in 8.124s.\n",
      "- Finished illumination correction in 8.203s.\n"
     ]
    },
    {
     "name": "stderr",
     "output_type": "stream",
     "text": [
      "\r",
      " 67%|█████████████████████████████████████████████████████▋                          | 108/161 [26:01<12:37, 14.30s/it]"
     ]
    },
    {
     "name": "stdout",
     "output_type": "stream",
     "text": [
      "Initialize DaxProcesser for file:\\\\10.245.74.158\\Chromatin_NAS_0\\20220329-P_brain_M1_nonclear_adaptors\\H0M1\\Conv_zscan_108.dax\n",
      "-- all used channels: ['750', '647', '488', '405']\n",
      "-- single image size: [  50 2048 2048]\n",
      "- Loaded images for channels:['405'] in 5.189s.\n",
      "- Correct illumination for channels: ['405']\n",
      "-- Keep channels: ['405'] for corr_illumination.\n",
      "-- loading illumination correction profile from file:\n",
      "\t 405 illumination_correction_405_2048x2048.npy\n",
      "-- corrected illumination for channel 405 in 8.034s.\n",
      "- Finished illumination correction in 8.119s.\n"
     ]
    },
    {
     "name": "stderr",
     "output_type": "stream",
     "text": [
      "\r",
      " 68%|██████████████████████████████████████████████████████▏                         | 109/161 [26:15<12:22, 14.28s/it]"
     ]
    },
    {
     "name": "stdout",
     "output_type": "stream",
     "text": [
      "Initialize DaxProcesser for file:\\\\10.245.74.158\\Chromatin_NAS_0\\20220329-P_brain_M1_nonclear_adaptors\\H0M1\\Conv_zscan_109.dax\n",
      "-- all used channels: ['750', '647', '488', '405']\n",
      "-- single image size: [  50 2048 2048]\n",
      "- Loaded images for channels:['405'] in 5.725s.\n",
      "- Correct illumination for channels: ['405']\n",
      "-- Keep channels: ['405'] for corr_illumination.\n",
      "-- loading illumination correction profile from file:\n",
      "\t 405 illumination_correction_405_2048x2048.npy\n",
      "-- corrected illumination for channel 405 in 8.083s.\n",
      "- Finished illumination correction in 8.189s.\n"
     ]
    },
    {
     "name": "stderr",
     "output_type": "stream",
     "text": [
      "\r",
      " 68%|██████████████████████████████████████████████████████▋                         | 110/161 [26:30<12:18, 14.49s/it]"
     ]
    },
    {
     "name": "stdout",
     "output_type": "stream",
     "text": [
      "Initialize DaxProcesser for file:\\\\10.245.74.158\\Chromatin_NAS_0\\20220329-P_brain_M1_nonclear_adaptors\\H0M1\\Conv_zscan_110.dax\n",
      "-- all used channels: ['750', '647', '488', '405']\n",
      "-- single image size: [  50 2048 2048]\n",
      "- Loaded images for channels:['405'] in 4.643s.\n",
      "- Correct illumination for channels: ['405']\n",
      "-- Keep channels: ['405'] for corr_illumination.\n",
      "-- loading illumination correction profile from file:\n",
      "\t 405 illumination_correction_405_2048x2048.npy\n",
      "-- corrected illumination for channel 405 in 8.157s.\n",
      "- Finished illumination correction in 8.258s.\n"
     ]
    },
    {
     "name": "stderr",
     "output_type": "stream",
     "text": [
      "\r",
      " 69%|███████████████████████████████████████████████████████▏                        | 111/161 [26:44<11:55, 14.31s/it]"
     ]
    },
    {
     "name": "stdout",
     "output_type": "stream",
     "text": [
      "Initialize DaxProcesser for file:\\\\10.245.74.158\\Chromatin_NAS_0\\20220329-P_brain_M1_nonclear_adaptors\\H0M1\\Conv_zscan_111.dax\n",
      "-- all used channels: ['750', '647', '488', '405']\n",
      "-- single image size: [  50 2048 2048]\n",
      "- Loaded images for channels:['405'] in 5.225s.\n",
      "- Correct illumination for channels: ['405']\n",
      "-- Keep channels: ['405'] for corr_illumination.\n",
      "-- loading illumination correction profile from file:\n",
      "\t 405 illumination_correction_405_2048x2048.npy\n",
      "-- corrected illumination for channel 405 in 7.877s.\n",
      "- Finished illumination correction in 7.967s.\n"
     ]
    },
    {
     "name": "stderr",
     "output_type": "stream",
     "text": [
      "\r",
      " 70%|███████████████████████████████████████████████████████▋                        | 112/161 [26:58<11:37, 14.23s/it]"
     ]
    },
    {
     "name": "stdout",
     "output_type": "stream",
     "text": [
      "Initialize DaxProcesser for file:\\\\10.245.74.158\\Chromatin_NAS_0\\20220329-P_brain_M1_nonclear_adaptors\\H0M1\\Conv_zscan_112.dax\n",
      "-- all used channels: ['750', '647', '488', '405']\n",
      "-- single image size: [  50 2048 2048]\n",
      "- Loaded images for channels:['405'] in 5.234s.\n",
      "- Correct illumination for channels: ['405']\n",
      "-- Keep channels: ['405'] for corr_illumination.\n",
      "-- loading illumination correction profile from file:\n",
      "\t 405 illumination_correction_405_2048x2048.npy\n",
      "-- corrected illumination for channel 405 in 7.886s.\n",
      "- Finished illumination correction in 7.981s.\n"
     ]
    },
    {
     "name": "stderr",
     "output_type": "stream",
     "text": [
      "\r",
      " 70%|████████████████████████████████████████████████████████▏                       | 113/161 [27:12<11:21, 14.21s/it]"
     ]
    },
    {
     "name": "stdout",
     "output_type": "stream",
     "text": [
      "Initialize DaxProcesser for file:\\\\10.245.74.158\\Chromatin_NAS_0\\20220329-P_brain_M1_nonclear_adaptors\\H0M1\\Conv_zscan_113.dax\n",
      "-- all used channels: ['750', '647', '488', '405']\n",
      "-- single image size: [  50 2048 2048]\n",
      "- Loaded images for channels:['405'] in 4.665s.\n",
      "- Correct illumination for channels: ['405']\n",
      "-- Keep channels: ['405'] for corr_illumination.\n",
      "-- loading illumination correction profile from file:\n",
      "\t 405 illumination_correction_405_2048x2048.npy\n",
      "-- corrected illumination for channel 405 in 8.103s.\n",
      "- Finished illumination correction in 8.232s.\n"
     ]
    },
    {
     "name": "stderr",
     "output_type": "stream",
     "text": [
      "\r",
      " 71%|████████████████████████████████████████████████████████▋                       | 114/161 [27:26<11:02, 14.09s/it]"
     ]
    },
    {
     "name": "stdout",
     "output_type": "stream",
     "text": [
      "Initialize DaxProcesser for file:\\\\10.245.74.158\\Chromatin_NAS_0\\20220329-P_brain_M1_nonclear_adaptors\\H0M1\\Conv_zscan_114.dax\n",
      "-- all used channels: ['750', '647', '488', '405']\n",
      "-- single image size: [  50 2048 2048]\n",
      "- Loaded images for channels:['405'] in 5.190s.\n",
      "- Correct illumination for channels: ['405']\n",
      "-- Keep channels: ['405'] for corr_illumination.\n",
      "-- loading illumination correction profile from file:\n",
      "\t 405 illumination_correction_405_2048x2048.npy\n",
      "-- corrected illumination for channel 405 in 7.850s.\n",
      "- Finished illumination correction in 7.953s.\n"
     ]
    },
    {
     "name": "stderr",
     "output_type": "stream",
     "text": [
      "\r",
      " 71%|█████████████████████████████████████████████████████████▏                      | 115/161 [27:40<10:46, 14.05s/it]"
     ]
    },
    {
     "name": "stdout",
     "output_type": "stream",
     "text": [
      "Initialize DaxProcesser for file:\\\\10.245.74.158\\Chromatin_NAS_0\\20220329-P_brain_M1_nonclear_adaptors\\H0M1\\Conv_zscan_115.dax\n",
      "-- all used channels: ['750', '647', '488', '405']\n",
      "-- single image size: [  50 2048 2048]\n",
      "- Loaded images for channels:['405'] in 4.610s.\n",
      "- Correct illumination for channels: ['405']\n",
      "-- Keep channels: ['405'] for corr_illumination.\n",
      "-- loading illumination correction profile from file:\n",
      "\t 405 illumination_correction_405_2048x2048.npy\n",
      "-- corrected illumination for channel 405 in 8.160s.\n",
      "- Finished illumination correction in 8.255s.\n"
     ]
    },
    {
     "name": "stderr",
     "output_type": "stream",
     "text": [
      "\r",
      " 72%|█████████████████████████████████████████████████████████▋                      | 116/161 [27:54<10:29, 14.00s/it]"
     ]
    },
    {
     "name": "stdout",
     "output_type": "stream",
     "text": [
      "Initialize DaxProcesser for file:\\\\10.245.74.158\\Chromatin_NAS_0\\20220329-P_brain_M1_nonclear_adaptors\\H0M1\\Conv_zscan_116.dax\n",
      "-- all used channels: ['750', '647', '488', '405']\n",
      "-- single image size: [  50 2048 2048]\n",
      "- Loaded images for channels:['405'] in 4.722s.\n",
      "- Correct illumination for channels: ['405']\n",
      "-- Keep channels: ['405'] for corr_illumination.\n",
      "-- loading illumination correction profile from file:\n",
      "\t 405 illumination_correction_405_2048x2048.npy\n",
      "-- corrected illumination for channel 405 in 8.171s.\n",
      "- Finished illumination correction in 8.189s.\n"
     ]
    },
    {
     "name": "stderr",
     "output_type": "stream",
     "text": [
      "\r",
      " 73%|██████████████████████████████████████████████████████████▏                     | 117/161 [28:08<10:13, 13.95s/it]"
     ]
    },
    {
     "name": "stdout",
     "output_type": "stream",
     "text": [
      "Initialize DaxProcesser for file:\\\\10.245.74.158\\Chromatin_NAS_0\\20220329-P_brain_M1_nonclear_adaptors\\H0M1\\Conv_zscan_117.dax\n",
      "-- all used channels: ['750', '647', '488', '405']\n",
      "-- single image size: [  50 2048 2048]\n",
      "- Loaded images for channels:['405'] in 4.767s.\n",
      "- Correct illumination for channels: ['405']\n",
      "-- Keep channels: ['405'] for corr_illumination.\n",
      "-- loading illumination correction profile from file:\n",
      "\t 405 illumination_correction_405_2048x2048.npy\n",
      "-- corrected illumination for channel 405 in 8.106s.\n",
      "- Finished illumination correction in 8.212s.\n"
     ]
    },
    {
     "name": "stderr",
     "output_type": "stream",
     "text": [
      "\r",
      " 73%|██████████████████████████████████████████████████████████▋                     | 118/161 [28:22<10:00, 13.97s/it]"
     ]
    },
    {
     "name": "stdout",
     "output_type": "stream",
     "text": [
      "Initialize DaxProcesser for file:\\\\10.245.74.158\\Chromatin_NAS_0\\20220329-P_brain_M1_nonclear_adaptors\\H0M1\\Conv_zscan_118.dax\n",
      "-- all used channels: ['750', '647', '488', '405']\n",
      "-- single image size: [  50 2048 2048]\n",
      "- Loaded images for channels:['405'] in 5.444s.\n",
      "- Correct illumination for channels: ['405']\n",
      "-- Keep channels: ['405'] for corr_illumination.\n",
      "-- loading illumination correction profile from file:\n",
      "\t 405 illumination_correction_405_2048x2048.npy\n",
      "-- corrected illumination for channel 405 in 8.015s.\n",
      "- Finished illumination correction in 8.036s.\n"
     ]
    },
    {
     "name": "stderr",
     "output_type": "stream",
     "text": [
      "\r",
      " 74%|███████████████████████████████████████████████████████████▏                    | 119/161 [28:36<09:52, 14.10s/it]"
     ]
    },
    {
     "name": "stdout",
     "output_type": "stream",
     "text": [
      "Initialize DaxProcesser for file:\\\\10.245.74.158\\Chromatin_NAS_0\\20220329-P_brain_M1_nonclear_adaptors\\H0M1\\Conv_zscan_119.dax\n",
      "-- all used channels: ['750', '647', '488', '405']\n",
      "-- single image size: [  50 2048 2048]\n",
      "- Loaded images for channels:['405'] in 5.387s.\n",
      "- Correct illumination for channels: ['405']\n",
      "-- Keep channels: ['405'] for corr_illumination.\n",
      "-- loading illumination correction profile from file:\n",
      "\t 405 illumination_correction_405_2048x2048.npy\n",
      "-- corrected illumination for channel 405 in 8.035s.\n",
      "- Finished illumination correction in 8.157s.\n"
     ]
    },
    {
     "name": "stderr",
     "output_type": "stream",
     "text": [
      "\r",
      " 75%|███████████████████████████████████████████████████████████▋                    | 120/161 [28:51<09:44, 14.25s/it]"
     ]
    },
    {
     "name": "stdout",
     "output_type": "stream",
     "text": [
      "Initialize DaxProcesser for file:\\\\10.245.74.158\\Chromatin_NAS_0\\20220329-P_brain_M1_nonclear_adaptors\\H0M1\\Conv_zscan_120.dax\n",
      "-- all used channels: ['750', '647', '488', '405']\n",
      "-- single image size: [  50 2048 2048]\n",
      "- Loaded images for channels:['405'] in 5.516s.\n",
      "- Correct illumination for channels: ['405']\n",
      "-- Keep channels: ['405'] for corr_illumination.\n",
      "-- loading illumination correction profile from file:\n",
      "\t 405 illumination_correction_405_2048x2048.npy\n",
      "-- corrected illumination for channel 405 in 8.039s.\n",
      "- Finished illumination correction in 8.126s.\n"
     ]
    },
    {
     "name": "stderr",
     "output_type": "stream",
     "text": [
      "\r",
      " 75%|████████████████████████████████████████████████████████████                    | 121/161 [29:05<09:33, 14.34s/it]"
     ]
    },
    {
     "name": "stdout",
     "output_type": "stream",
     "text": [
      "Initialize DaxProcesser for file:\\\\10.245.74.158\\Chromatin_NAS_0\\20220329-P_brain_M1_nonclear_adaptors\\H0M1\\Conv_zscan_121.dax\n",
      "-- all used channels: ['750', '647', '488', '405']\n",
      "-- single image size: [  50 2048 2048]\n",
      "- Loaded images for channels:['405'] in 5.071s.\n",
      "- Correct illumination for channels: ['405']\n",
      "-- Keep channels: ['405'] for corr_illumination.\n",
      "-- loading illumination correction profile from file:\n",
      "\t 405 illumination_correction_405_2048x2048.npy\n",
      "-- corrected illumination for channel 405 in 7.930s.\n",
      "- Finished illumination correction in 7.949s.\n"
     ]
    },
    {
     "name": "stderr",
     "output_type": "stream",
     "text": [
      "\r",
      " 76%|████████████████████████████████████████████████████████████▌                   | 122/161 [29:19<09:14, 14.21s/it]"
     ]
    },
    {
     "name": "stdout",
     "output_type": "stream",
     "text": [
      "Initialize DaxProcesser for file:\\\\10.245.74.158\\Chromatin_NAS_0\\20220329-P_brain_M1_nonclear_adaptors\\H0M1\\Conv_zscan_122.dax\n",
      "-- all used channels: ['750', '647', '488', '405']\n",
      "-- single image size: [  50 2048 2048]\n",
      "- Loaded images for channels:['405'] in 5.096s.\n",
      "- Correct illumination for channels: ['405']\n",
      "-- Keep channels: ['405'] for corr_illumination.\n",
      "-- loading illumination correction profile from file:\n",
      "\t 405 illumination_correction_405_2048x2048.npy\n",
      "-- corrected illumination for channel 405 in 8.009s.\n",
      "- Finished illumination correction in 8.098s.\n"
     ]
    },
    {
     "name": "stderr",
     "output_type": "stream",
     "text": [
      "\r",
      " 76%|█████████████████████████████████████████████████████████████                   | 123/161 [29:33<08:58, 14.18s/it]"
     ]
    },
    {
     "name": "stdout",
     "output_type": "stream",
     "text": [
      "Initialize DaxProcesser for file:\\\\10.245.74.158\\Chromatin_NAS_0\\20220329-P_brain_M1_nonclear_adaptors\\H0M1\\Conv_zscan_123.dax\n",
      "-- all used channels: ['750', '647', '488', '405']\n",
      "-- single image size: [  50 2048 2048]\n",
      "- Loaded images for channels:['405'] in 5.395s.\n",
      "- Correct illumination for channels: ['405']\n",
      "-- Keep channels: ['405'] for corr_illumination.\n",
      "-- loading illumination correction profile from file:\n",
      "\t 405 illumination_correction_405_2048x2048.npy\n",
      "-- corrected illumination for channel 405 in 8.029s.\n",
      "- Finished illumination correction in 8.126s.\n"
     ]
    },
    {
     "name": "stderr",
     "output_type": "stream",
     "text": [
      "\r",
      " 77%|█████████████████████████████████████████████████████████████▌                  | 124/161 [29:48<08:48, 14.28s/it]"
     ]
    },
    {
     "name": "stdout",
     "output_type": "stream",
     "text": [
      "Initialize DaxProcesser for file:\\\\10.245.74.158\\Chromatin_NAS_0\\20220329-P_brain_M1_nonclear_adaptors\\H0M1\\Conv_zscan_124.dax\n",
      "-- all used channels: ['750', '647', '488', '405']\n",
      "-- single image size: [  50 2048 2048]\n",
      "- Loaded images for channels:['405'] in 5.456s.\n",
      "- Correct illumination for channels: ['405']\n",
      "-- Keep channels: ['405'] for corr_illumination.\n",
      "-- loading illumination correction profile from file:\n",
      "\t 405 illumination_correction_405_2048x2048.npy\n",
      "-- corrected illumination for channel 405 in 8.030s.\n",
      "- Finished illumination correction in 8.126s.\n"
     ]
    },
    {
     "name": "stderr",
     "output_type": "stream",
     "text": [
      "\r",
      " 78%|██████████████████████████████████████████████████████████████                  | 125/161 [30:02<08:36, 14.34s/it]"
     ]
    },
    {
     "name": "stdout",
     "output_type": "stream",
     "text": [
      "Initialize DaxProcesser for file:\\\\10.245.74.158\\Chromatin_NAS_0\\20220329-P_brain_M1_nonclear_adaptors\\H0M1\\Conv_zscan_125.dax\n",
      "-- all used channels: ['750', '647', '488', '405']\n",
      "-- single image size: [  50 2048 2048]\n",
      "- Loaded images for channels:['405'] in 5.427s.\n",
      "- Correct illumination for channels: ['405']\n",
      "-- Keep channels: ['405'] for corr_illumination.\n",
      "-- loading illumination correction profile from file:\n",
      "\t 405 illumination_correction_405_2048x2048.npy\n",
      "-- corrected illumination for channel 405 in 7.927s.\n",
      "- Finished illumination correction in 8.023s.\n"
     ]
    },
    {
     "name": "stderr",
     "output_type": "stream",
     "text": [
      "\r",
      " 78%|██████████████████████████████████████████████████████████████▌                 | 126/161 [30:17<08:21, 14.34s/it]"
     ]
    },
    {
     "name": "stdout",
     "output_type": "stream",
     "text": [
      "Initialize DaxProcesser for file:\\\\10.245.74.158\\Chromatin_NAS_0\\20220329-P_brain_M1_nonclear_adaptors\\H0M1\\Conv_zscan_126.dax\n",
      "-- all used channels: ['750', '647', '488', '405']\n",
      "-- single image size: [  50 2048 2048]\n",
      "- Loaded images for channels:['405'] in 5.384s.\n",
      "- Correct illumination for channels: ['405']\n",
      "-- Keep channels: ['405'] for corr_illumination.\n",
      "-- loading illumination correction profile from file:\n",
      "\t 405 illumination_correction_405_2048x2048.npy\n",
      "-- corrected illumination for channel 405 in 8.103s.\n",
      "- Finished illumination correction in 8.243s.\n"
     ]
    },
    {
     "name": "stderr",
     "output_type": "stream",
     "text": [
      "\r",
      " 79%|███████████████████████████████████████████████████████████████                 | 127/161 [30:31<08:10, 14.42s/it]"
     ]
    },
    {
     "name": "stdout",
     "output_type": "stream",
     "text": [
      "Initialize DaxProcesser for file:\\\\10.245.74.158\\Chromatin_NAS_0\\20220329-P_brain_M1_nonclear_adaptors\\H0M1\\Conv_zscan_127.dax\n",
      "-- all used channels: ['750', '647', '488', '405']\n",
      "-- single image size: [  50 2048 2048]\n",
      "- Loaded images for channels:['405'] in 6.507s.\n",
      "- Correct illumination for channels: ['405']\n",
      "-- Keep channels: ['405'] for corr_illumination.\n",
      "-- loading illumination correction profile from file:\n",
      "\t 405 illumination_correction_405_2048x2048.npy\n",
      "-- corrected illumination for channel 405 in 8.162s.\n",
      "- Finished illumination correction in 8.250s.\n"
     ]
    },
    {
     "name": "stderr",
     "output_type": "stream",
     "text": [
      "\r",
      " 80%|███████████████████████████████████████████████████████████████▌                | 128/161 [30:47<08:08, 14.79s/it]"
     ]
    },
    {
     "name": "stdout",
     "output_type": "stream",
     "text": [
      "Initialize DaxProcesser for file:\\\\10.245.74.158\\Chromatin_NAS_0\\20220329-P_brain_M1_nonclear_adaptors\\H0M1\\Conv_zscan_128.dax\n",
      "-- all used channels: ['750', '647', '488', '405']\n",
      "-- single image size: [  50 2048 2048]\n",
      "- Loaded images for channels:['405'] in 5.721s.\n",
      "- Correct illumination for channels: ['405']\n",
      "-- Keep channels: ['405'] for corr_illumination.\n",
      "-- loading illumination correction profile from file:\n",
      "\t 405 illumination_correction_405_2048x2048.npy\n",
      "-- corrected illumination for channel 405 in 8.119s.\n",
      "- Finished illumination correction in 8.202s.\n"
     ]
    },
    {
     "name": "stderr",
     "output_type": "stream",
     "text": [
      "\r",
      " 80%|████████████████████████████████████████████████████████████████                | 129/161 [31:02<07:53, 14.81s/it]"
     ]
    },
    {
     "name": "stdout",
     "output_type": "stream",
     "text": [
      "Initialize DaxProcesser for file:\\\\10.245.74.158\\Chromatin_NAS_0\\20220329-P_brain_M1_nonclear_adaptors\\H0M1\\Conv_zscan_129.dax\n",
      "-- all used channels: ['750', '647', '488', '405']\n",
      "-- single image size: [  50 2048 2048]\n",
      "- Loaded images for channels:['405'] in 4.824s.\n",
      "- Correct illumination for channels: ['405']\n",
      "-- Keep channels: ['405'] for corr_illumination.\n",
      "-- loading illumination correction profile from file:\n",
      "\t 405 illumination_correction_405_2048x2048.npy\n",
      "-- corrected illumination for channel 405 in 8.100s.\n",
      "- Finished illumination correction in 8.201s.\n"
     ]
    },
    {
     "name": "stderr",
     "output_type": "stream",
     "text": [
      "\r",
      " 81%|████████████████████████████████████████████████████████████████▌               | 130/161 [31:16<07:32, 14.59s/it]"
     ]
    },
    {
     "name": "stdout",
     "output_type": "stream",
     "text": [
      "Initialize DaxProcesser for file:\\\\10.245.74.158\\Chromatin_NAS_0\\20220329-P_brain_M1_nonclear_adaptors\\H0M1\\Conv_zscan_130.dax\n",
      "-- all used channels: ['750', '647', '488', '405']\n",
      "-- single image size: [  50 2048 2048]\n",
      "- Loaded images for channels:['405'] in 5.265s.\n",
      "- Correct illumination for channels: ['405']\n",
      "-- Keep channels: ['405'] for corr_illumination.\n",
      "-- loading illumination correction profile from file:\n",
      "\t 405 illumination_correction_405_2048x2048.npy\n",
      "-- corrected illumination for channel 405 in 7.974s.\n",
      "- Finished illumination correction in 8.083s.\n"
     ]
    },
    {
     "name": "stderr",
     "output_type": "stream",
     "text": [
      "\r",
      " 81%|█████████████████████████████████████████████████████████████████               | 131/161 [31:30<07:14, 14.47s/it]"
     ]
    },
    {
     "name": "stdout",
     "output_type": "stream",
     "text": [
      "Initialize DaxProcesser for file:\\\\10.245.74.158\\Chromatin_NAS_0\\20220329-P_brain_M1_nonclear_adaptors\\H0M1\\Conv_zscan_131.dax\n",
      "-- all used channels: ['750', '647', '488', '405']\n",
      "-- single image size: [  50 2048 2048]\n",
      "- Loaded images for channels:['405'] in 10.652s.\n",
      "- Correct illumination for channels: ['405']\n",
      "-- Keep channels: ['405'] for corr_illumination.\n",
      "-- loading illumination correction profile from file:\n",
      "\t 405 illumination_correction_405_2048x2048.npy\n",
      "-- corrected illumination for channel 405 in 8.019s.\n",
      "- Finished illumination correction in 8.114s.\n"
     ]
    },
    {
     "name": "stderr",
     "output_type": "stream",
     "text": [
      "\r",
      " 82%|█████████████████████████████████████████████████████████████████▌              | 132/161 [31:50<07:45, 16.06s/it]"
     ]
    },
    {
     "name": "stdout",
     "output_type": "stream",
     "text": [
      "Initialize DaxProcesser for file:\\\\10.245.74.158\\Chromatin_NAS_0\\20220329-P_brain_M1_nonclear_adaptors\\H0M1\\Conv_zscan_132.dax\n",
      "-- all used channels: ['750', '647', '488', '405']\n",
      "-- single image size: [  50 2048 2048]\n",
      "- Loaded images for channels:['405'] in 5.445s.\n",
      "- Correct illumination for channels: ['405']\n",
      "-- Keep channels: ['405'] for corr_illumination.\n",
      "-- loading illumination correction profile from file:\n",
      "\t 405 illumination_correction_405_2048x2048.npy\n",
      "-- corrected illumination for channel 405 in 8.084s.\n",
      "- Finished illumination correction in 8.103s.\n"
     ]
    },
    {
     "name": "stderr",
     "output_type": "stream",
     "text": [
      "\r",
      " 83%|██████████████████████████████████████████████████████████████████              | 133/161 [32:04<07:16, 15.57s/it]"
     ]
    },
    {
     "name": "stdout",
     "output_type": "stream",
     "text": [
      "Initialize DaxProcesser for file:\\\\10.245.74.158\\Chromatin_NAS_0\\20220329-P_brain_M1_nonclear_adaptors\\H0M1\\Conv_zscan_133.dax\n",
      "-- all used channels: ['750', '647', '488', '405']\n",
      "-- single image size: [  50 2048 2048]\n",
      "- Loaded images for channels:['405'] in 5.039s.\n",
      "- Correct illumination for channels: ['405']\n",
      "-- Keep channels: ['405'] for corr_illumination.\n",
      "-- loading illumination correction profile from file:\n",
      "\t 405 illumination_correction_405_2048x2048.npy\n",
      "-- corrected illumination for channel 405 in 7.843s.\n",
      "- Finished illumination correction in 7.971s.\n"
     ]
    },
    {
     "name": "stderr",
     "output_type": "stream",
     "text": [
      "\r",
      " 83%|██████████████████████████████████████████████████████████████████▌             | 134/161 [32:18<06:47, 15.08s/it]"
     ]
    },
    {
     "name": "stdout",
     "output_type": "stream",
     "text": [
      "Initialize DaxProcesser for file:\\\\10.245.74.158\\Chromatin_NAS_0\\20220329-P_brain_M1_nonclear_adaptors\\H0M1\\Conv_zscan_134.dax\n",
      "-- all used channels: ['750', '647', '488', '405']\n",
      "-- single image size: [  50 2048 2048]\n",
      "- Loaded images for channels:['405'] in 5.140s.\n",
      "- Correct illumination for channels: ['405']\n",
      "-- Keep channels: ['405'] for corr_illumination.\n",
      "-- loading illumination correction profile from file:\n",
      "\t 405 illumination_correction_405_2048x2048.npy\n",
      "-- corrected illumination for channel 405 in 7.917s.\n",
      "- Finished illumination correction in 8.002s.\n"
     ]
    },
    {
     "name": "stderr",
     "output_type": "stream",
     "text": [
      "\r",
      " 84%|███████████████████████████████████████████████████████████████████             | 135/161 [32:32<06:24, 14.78s/it]"
     ]
    },
    {
     "name": "stdout",
     "output_type": "stream",
     "text": [
      "Initialize DaxProcesser for file:\\\\10.245.74.158\\Chromatin_NAS_0\\20220329-P_brain_M1_nonclear_adaptors\\H0M1\\Conv_zscan_135.dax\n",
      "-- all used channels: ['750', '647', '488', '405']\n",
      "-- single image size: [  50 2048 2048]\n",
      "- Loaded images for channels:['405'] in 4.990s.\n",
      "- Correct illumination for channels: ['405']\n",
      "-- Keep channels: ['405'] for corr_illumination.\n",
      "-- loading illumination correction profile from file:\n",
      "\t 405 illumination_correction_405_2048x2048.npy\n",
      "-- corrected illumination for channel 405 in 7.986s.\n",
      "- Finished illumination correction in 8.088s.\n"
     ]
    },
    {
     "name": "stderr",
     "output_type": "stream",
     "text": [
      "\r",
      " 84%|███████████████████████████████████████████████████████████████████▌            | 136/161 [32:46<06:03, 14.54s/it]"
     ]
    },
    {
     "name": "stdout",
     "output_type": "stream",
     "text": [
      "Initialize DaxProcesser for file:\\\\10.245.74.158\\Chromatin_NAS_0\\20220329-P_brain_M1_nonclear_adaptors\\H0M1\\Conv_zscan_136.dax\n",
      "-- all used channels: ['750', '647', '488', '405']\n",
      "-- single image size: [  50 2048 2048]\n",
      "- Loaded images for channels:['405'] in 5.194s.\n",
      "- Correct illumination for channels: ['405']\n",
      "-- Keep channels: ['405'] for corr_illumination.\n",
      "-- loading illumination correction profile from file:\n",
      "\t 405 illumination_correction_405_2048x2048.npy\n",
      "-- corrected illumination for channel 405 in 7.964s.\n",
      "- Finished illumination correction in 8.083s.\n"
     ]
    },
    {
     "name": "stderr",
     "output_type": "stream",
     "text": [
      "\r",
      " 85%|████████████████████████████████████████████████████████████████████            | 137/161 [33:00<05:46, 14.42s/it]"
     ]
    },
    {
     "name": "stdout",
     "output_type": "stream",
     "text": [
      "Initialize DaxProcesser for file:\\\\10.245.74.158\\Chromatin_NAS_0\\20220329-P_brain_M1_nonclear_adaptors\\H0M1\\Conv_zscan_137.dax\n",
      "-- all used channels: ['750', '647', '488', '405']\n",
      "-- single image size: [  50 2048 2048]\n",
      "- Loaded images for channels:['405'] in 6.822s.\n",
      "- Correct illumination for channels: ['405']\n",
      "-- Keep channels: ['405'] for corr_illumination.\n",
      "-- loading illumination correction profile from file:\n",
      "\t 405 illumination_correction_405_2048x2048.npy\n",
      "-- corrected illumination for channel 405 in 8.020s.\n",
      "- Finished illumination correction in 8.117s.\n"
     ]
    },
    {
     "name": "stderr",
     "output_type": "stream",
     "text": [
      "\r",
      " 86%|████████████████████████████████████████████████████████████████████▌           | 138/161 [33:16<05:42, 14.88s/it]"
     ]
    },
    {
     "name": "stdout",
     "output_type": "stream",
     "text": [
      "Initialize DaxProcesser for file:\\\\10.245.74.158\\Chromatin_NAS_0\\20220329-P_brain_M1_nonclear_adaptors\\H0M1\\Conv_zscan_138.dax\n",
      "-- all used channels: ['750', '647', '488', '405']\n",
      "-- single image size: [  50 2048 2048]\n",
      "- Loaded images for channels:['405'] in 5.496s.\n",
      "- Correct illumination for channels: ['405']\n",
      "-- Keep channels: ['405'] for corr_illumination.\n",
      "-- loading illumination correction profile from file:\n",
      "\t 405 illumination_correction_405_2048x2048.npy\n",
      "-- corrected illumination for channel 405 in 7.985s.\n",
      "- Finished illumination correction in 8.076s.\n"
     ]
    },
    {
     "name": "stderr",
     "output_type": "stream",
     "text": [
      "\r",
      " 86%|█████████████████████████████████████████████████████████████████████           | 139/161 [33:31<05:24, 14.75s/it]"
     ]
    },
    {
     "name": "stdout",
     "output_type": "stream",
     "text": [
      "Initialize DaxProcesser for file:\\\\10.245.74.158\\Chromatin_NAS_0\\20220329-P_brain_M1_nonclear_adaptors\\H0M1\\Conv_zscan_139.dax\n",
      "-- all used channels: ['750', '647', '488', '405']\n",
      "-- single image size: [  50 2048 2048]\n",
      "- Loaded images for channels:['405'] in 4.540s.\n",
      "- Correct illumination for channels: ['405']\n",
      "-- Keep channels: ['405'] for corr_illumination.\n",
      "-- loading illumination correction profile from file:\n",
      "\t 405 illumination_correction_405_2048x2048.npy\n",
      "-- corrected illumination for channel 405 in 8.011s.\n",
      "- Finished illumination correction in 8.095s.\n"
     ]
    },
    {
     "name": "stderr",
     "output_type": "stream",
     "text": [
      "\r",
      " 87%|█████████████████████████████████████████████████████████████████████▌          | 140/161 [33:44<05:02, 14.38s/it]"
     ]
    },
    {
     "name": "stdout",
     "output_type": "stream",
     "text": [
      "Initialize DaxProcesser for file:\\\\10.245.74.158\\Chromatin_NAS_0\\20220329-P_brain_M1_nonclear_adaptors\\H0M1\\Conv_zscan_140.dax\n",
      "-- all used channels: ['750', '647', '488', '405']\n",
      "-- single image size: [  50 2048 2048]\n",
      "- Loaded images for channels:['405'] in 4.632s.\n",
      "- Correct illumination for channels: ['405']\n",
      "-- Keep channels: ['405'] for corr_illumination.\n",
      "-- loading illumination correction profile from file:\n",
      "\t 405 illumination_correction_405_2048x2048.npy\n",
      "-- corrected illumination for channel 405 in 8.115s.\n",
      "- Finished illumination correction in 8.148s.\n"
     ]
    },
    {
     "name": "stderr",
     "output_type": "stream",
     "text": [
      "\r",
      " 88%|██████████████████████████████████████████████████████████████████████          | 141/161 [33:58<04:43, 14.16s/it]"
     ]
    },
    {
     "name": "stdout",
     "output_type": "stream",
     "text": [
      "Initialize DaxProcesser for file:\\\\10.245.74.158\\Chromatin_NAS_0\\20220329-P_brain_M1_nonclear_adaptors\\H0M1\\Conv_zscan_141.dax\n",
      "-- all used channels: ['750', '647', '488', '405']\n",
      "-- single image size: [  50 2048 2048]\n",
      "- Loaded images for channels:['405'] in 5.057s.\n",
      "- Correct illumination for channels: ['405']\n",
      "-- Keep channels: ['405'] for corr_illumination.\n",
      "-- loading illumination correction profile from file:\n",
      "\t 405 illumination_correction_405_2048x2048.npy\n",
      "-- corrected illumination for channel 405 in 8.070s.\n",
      "- Finished illumination correction in 8.184s.\n"
     ]
    },
    {
     "name": "stderr",
     "output_type": "stream",
     "text": [
      "\r",
      " 88%|██████████████████████████████████████████████████████████████████████▌         | 142/161 [34:12<04:29, 14.16s/it]"
     ]
    },
    {
     "name": "stdout",
     "output_type": "stream",
     "text": [
      "Initialize DaxProcesser for file:\\\\10.245.74.158\\Chromatin_NAS_0\\20220329-P_brain_M1_nonclear_adaptors\\H0M1\\Conv_zscan_142.dax\n",
      "-- all used channels: ['750', '647', '488', '405']\n",
      "-- single image size: [  50 2048 2048]\n",
      "- Loaded images for channels:['405'] in 4.747s.\n",
      "- Correct illumination for channels: ['405']\n",
      "-- Keep channels: ['405'] for corr_illumination.\n",
      "-- loading illumination correction profile from file:\n",
      "\t 405 illumination_correction_405_2048x2048.npy\n",
      "-- corrected illumination for channel 405 in 8.228s.\n",
      "- Finished illumination correction in 8.251s.\n"
     ]
    },
    {
     "name": "stderr",
     "output_type": "stream",
     "text": [
      "\r",
      " 89%|███████████████████████████████████████████████████████████████████████         | 143/161 [34:26<04:13, 14.10s/it]"
     ]
    },
    {
     "name": "stdout",
     "output_type": "stream",
     "text": [
      "Initialize DaxProcesser for file:\\\\10.245.74.158\\Chromatin_NAS_0\\20220329-P_brain_M1_nonclear_adaptors\\H0M1\\Conv_zscan_143.dax\n",
      "-- all used channels: ['750', '647', '488', '405']\n",
      "-- single image size: [  50 2048 2048]\n",
      "- Loaded images for channels:['405'] in 5.794s.\n",
      "- Correct illumination for channels: ['405']\n",
      "-- Keep channels: ['405'] for corr_illumination.\n",
      "-- loading illumination correction profile from file:\n",
      "\t 405 illumination_correction_405_2048x2048.npy\n",
      "-- corrected illumination for channel 405 in 8.018s.\n",
      "- Finished illumination correction in 8.112s.\n"
     ]
    },
    {
     "name": "stderr",
     "output_type": "stream",
     "text": [
      "\r",
      " 89%|███████████████████████████████████████████████████████████████████████▌        | 144/161 [34:41<04:03, 14.32s/it]"
     ]
    },
    {
     "name": "stdout",
     "output_type": "stream",
     "text": [
      "Initialize DaxProcesser for file:\\\\10.245.74.158\\Chromatin_NAS_0\\20220329-P_brain_M1_nonclear_adaptors\\H0M1\\Conv_zscan_144.dax\n",
      "-- all used channels: ['750', '647', '488', '405']\n",
      "-- single image size: [  50 2048 2048]\n",
      "- Loaded images for channels:['405'] in 10.430s.\n",
      "- Correct illumination for channels: ['405']\n",
      "-- Keep channels: ['405'] for corr_illumination.\n",
      "-- loading illumination correction profile from file:\n",
      "\t 405 illumination_correction_405_2048x2048.npy\n",
      "-- corrected illumination for channel 405 in 7.947s.\n",
      "- Finished illumination correction in 8.173s.\n"
     ]
    },
    {
     "name": "stderr",
     "output_type": "stream",
     "text": [
      "\r",
      " 90%|████████████████████████████████████████████████████████████████████████        | 145/161 [35:00<04:14, 15.89s/it]"
     ]
    },
    {
     "name": "stdout",
     "output_type": "stream",
     "text": [
      "Initialize DaxProcesser for file:\\\\10.245.74.158\\Chromatin_NAS_0\\20220329-P_brain_M1_nonclear_adaptors\\H0M1\\Conv_zscan_145.dax\n",
      "-- all used channels: ['750', '647', '488', '405']\n",
      "-- single image size: [  50 2048 2048]\n",
      "- Loaded images for channels:['405'] in 5.234s.\n",
      "- Correct illumination for channels: ['405']\n",
      "-- Keep channels: ['405'] for corr_illumination.\n",
      "-- loading illumination correction profile from file:\n",
      "\t 405 illumination_correction_405_2048x2048.npy\n",
      "-- corrected illumination for channel 405 in 8.108s.\n",
      "- Finished illumination correction in 8.205s.\n"
     ]
    },
    {
     "name": "stderr",
     "output_type": "stream",
     "text": [
      "\r",
      " 91%|████████████████████████████████████████████████████████████████████████▌       | 146/161 [35:15<03:51, 15.44s/it]"
     ]
    },
    {
     "name": "stdout",
     "output_type": "stream",
     "text": [
      "Initialize DaxProcesser for file:\\\\10.245.74.158\\Chromatin_NAS_0\\20220329-P_brain_M1_nonclear_adaptors\\H0M1\\Conv_zscan_146.dax\n",
      "-- all used channels: ['750', '647', '488', '405']\n",
      "-- single image size: [  50 2048 2048]\n",
      "- Loaded images for channels:['405'] in 4.636s.\n",
      "- Correct illumination for channels: ['405']\n",
      "-- Keep channels: ['405'] for corr_illumination.\n",
      "-- loading illumination correction profile from file:\n",
      "\t 405 illumination_correction_405_2048x2048.npy\n",
      "-- corrected illumination for channel 405 in 7.924s.\n",
      "- Finished illumination correction in 8.020s.\n"
     ]
    },
    {
     "name": "stderr",
     "output_type": "stream",
     "text": [
      "\r",
      " 91%|█████████████████████████████████████████████████████████████████████████       | 147/161 [35:28<03:27, 14.85s/it]"
     ]
    },
    {
     "name": "stdout",
     "output_type": "stream",
     "text": [
      "Initialize DaxProcesser for file:\\\\10.245.74.158\\Chromatin_NAS_0\\20220329-P_brain_M1_nonclear_adaptors\\H0M1\\Conv_zscan_147.dax\n",
      "-- all used channels: ['750', '647', '488', '405']\n",
      "-- single image size: [  50 2048 2048]\n",
      "- Loaded images for channels:['405'] in 5.345s.\n",
      "- Correct illumination for channels: ['405']\n",
      "-- Keep channels: ['405'] for corr_illumination.\n",
      "-- loading illumination correction profile from file:\n",
      "\t 405 illumination_correction_405_2048x2048.npy\n",
      "-- corrected illumination for channel 405 in 8.114s.\n",
      "- Finished illumination correction in 8.209s.\n"
     ]
    },
    {
     "name": "stderr",
     "output_type": "stream",
     "text": [
      "\r",
      " 92%|█████████████████████████████████████████████████████████████████████████▌      | 148/161 [35:43<03:12, 14.77s/it]"
     ]
    },
    {
     "name": "stdout",
     "output_type": "stream",
     "text": [
      "Initialize DaxProcesser for file:\\\\10.245.74.158\\Chromatin_NAS_0\\20220329-P_brain_M1_nonclear_adaptors\\H0M1\\Conv_zscan_148.dax\n",
      "-- all used channels: ['750', '647', '488', '405']\n",
      "-- single image size: [  50 2048 2048]\n",
      "- Loaded images for channels:['405'] in 5.020s.\n",
      "- Correct illumination for channels: ['405']\n",
      "-- Keep channels: ['405'] for corr_illumination.\n",
      "-- loading illumination correction profile from file:\n",
      "\t 405 illumination_correction_405_2048x2048.npy\n",
      "-- corrected illumination for channel 405 in 7.997s.\n",
      "- Finished illumination correction in 8.127s.\n"
     ]
    },
    {
     "name": "stderr",
     "output_type": "stream",
     "text": [
      "\r",
      " 93%|██████████████████████████████████████████████████████████████████████████      | 149/161 [35:57<02:54, 14.54s/it]"
     ]
    },
    {
     "name": "stdout",
     "output_type": "stream",
     "text": [
      "Initialize DaxProcesser for file:\\\\10.245.74.158\\Chromatin_NAS_0\\20220329-P_brain_M1_nonclear_adaptors\\H0M1\\Conv_zscan_149.dax\n",
      "-- all used channels: ['750', '647', '488', '405']\n",
      "-- single image size: [  50 2048 2048]\n",
      "- Loaded images for channels:['405'] in 5.652s.\n",
      "- Correct illumination for channels: ['405']\n",
      "-- Keep channels: ['405'] for corr_illumination.\n",
      "-- loading illumination correction profile from file:\n",
      "\t 405 illumination_correction_405_2048x2048.npy\n",
      "-- corrected illumination for channel 405 in 7.907s.\n",
      "- Finished illumination correction in 7.926s.\n"
     ]
    },
    {
     "name": "stderr",
     "output_type": "stream",
     "text": [
      "\r",
      " 93%|██████████████████████████████████████████████████████████████████████████▌     | 150/161 [36:11<02:39, 14.54s/it]"
     ]
    },
    {
     "name": "stdout",
     "output_type": "stream",
     "text": [
      "Initialize DaxProcesser for file:\\\\10.245.74.158\\Chromatin_NAS_0\\20220329-P_brain_M1_nonclear_adaptors\\H0M1\\Conv_zscan_150.dax\n",
      "-- all used channels: ['750', '647', '488', '405']\n",
      "-- single image size: [  50 2048 2048]\n",
      "- Loaded images for channels:['405'] in 4.578s.\n",
      "- Correct illumination for channels: ['405']\n",
      "-- Keep channels: ['405'] for corr_illumination.\n",
      "-- loading illumination correction profile from file:\n",
      "\t 405 illumination_correction_405_2048x2048.npy\n",
      "-- corrected illumination for channel 405 in 8.087s.\n",
      "- Finished illumination correction in 8.186s.\n"
     ]
    },
    {
     "name": "stderr",
     "output_type": "stream",
     "text": [
      "\r",
      " 94%|███████████████████████████████████████████████████████████████████████████     | 151/161 [36:25<02:22, 14.29s/it]"
     ]
    },
    {
     "name": "stdout",
     "output_type": "stream",
     "text": [
      "Initialize DaxProcesser for file:\\\\10.245.74.158\\Chromatin_NAS_0\\20220329-P_brain_M1_nonclear_adaptors\\H0M1\\Conv_zscan_151.dax\n",
      "-- all used channels: ['750', '647', '488', '405']\n",
      "-- single image size: [  50 2048 2048]\n",
      "- Loaded images for channels:['405'] in 5.524s.\n",
      "- Correct illumination for channels: ['405']\n",
      "-- Keep channels: ['405'] for corr_illumination.\n",
      "-- loading illumination correction profile from file:\n",
      "\t 405 illumination_correction_405_2048x2048.npy\n",
      "-- corrected illumination for channel 405 in 8.057s.\n",
      "- Finished illumination correction in 8.146s.\n"
     ]
    },
    {
     "name": "stderr",
     "output_type": "stream",
     "text": [
      "\r",
      " 94%|███████████████████████████████████████████████████████████████████████████▌    | 152/161 [36:40<02:09, 14.38s/it]"
     ]
    },
    {
     "name": "stdout",
     "output_type": "stream",
     "text": [
      "Initialize DaxProcesser for file:\\\\10.245.74.158\\Chromatin_NAS_0\\20220329-P_brain_M1_nonclear_adaptors\\H0M1\\Conv_zscan_152.dax\n",
      "-- all used channels: ['750', '647', '488', '405']\n",
      "-- single image size: [  50 2048 2048]\n",
      "- Loaded images for channels:['405'] in 5.313s.\n",
      "- Correct illumination for channels: ['405']\n",
      "-- Keep channels: ['405'] for corr_illumination.\n",
      "-- loading illumination correction profile from file:\n",
      "\t 405 illumination_correction_405_2048x2048.npy\n",
      "-- corrected illumination for channel 405 in 8.109s.\n",
      "- Finished illumination correction in 8.265s.\n"
     ]
    },
    {
     "name": "stderr",
     "output_type": "stream",
     "text": [
      "\r",
      " 95%|████████████████████████████████████████████████████████████████████████████    | 153/161 [36:54<01:55, 14.44s/it]"
     ]
    },
    {
     "name": "stdout",
     "output_type": "stream",
     "text": [
      "Initialize DaxProcesser for file:\\\\10.245.74.158\\Chromatin_NAS_0\\20220329-P_brain_M1_nonclear_adaptors\\H0M1\\Conv_zscan_153.dax\n",
      "-- all used channels: ['750', '647', '488', '405']\n",
      "-- single image size: [  50 2048 2048]\n",
      "- Loaded images for channels:['405'] in 5.452s.\n",
      "- Correct illumination for channels: ['405']\n",
      "-- Keep channels: ['405'] for corr_illumination.\n",
      "-- loading illumination correction profile from file:\n",
      "\t 405 illumination_correction_405_2048x2048.npy\n",
      "-- corrected illumination for channel 405 in 8.058s.\n",
      "- Finished illumination correction in 8.153s.\n"
     ]
    },
    {
     "name": "stderr",
     "output_type": "stream",
     "text": [
      "\r",
      " 96%|████████████████████████████████████████████████████████████████████████████▌   | 154/161 [37:09<01:41, 14.49s/it]"
     ]
    },
    {
     "name": "stdout",
     "output_type": "stream",
     "text": [
      "Initialize DaxProcesser for file:\\\\10.245.74.158\\Chromatin_NAS_0\\20220329-P_brain_M1_nonclear_adaptors\\H0M1\\Conv_zscan_154.dax\n",
      "-- all used channels: ['750', '647', '488', '405']\n",
      "-- single image size: [  50 2048 2048]\n",
      "- Loaded images for channels:['405'] in 4.970s.\n",
      "- Correct illumination for channels: ['405']\n",
      "-- Keep channels: ['405'] for corr_illumination.\n",
      "-- loading illumination correction profile from file:\n",
      "\t 405 illumination_correction_405_2048x2048.npy\n",
      "-- corrected illumination for channel 405 in 8.015s.\n",
      "- Finished illumination correction in 8.120s.\n"
     ]
    },
    {
     "name": "stderr",
     "output_type": "stream",
     "text": [
      "\r",
      " 96%|█████████████████████████████████████████████████████████████████████████████   | 155/161 [37:23<01:27, 14.50s/it]"
     ]
    },
    {
     "name": "stdout",
     "output_type": "stream",
     "text": [
      "Initialize DaxProcesser for file:\\\\10.245.74.158\\Chromatin_NAS_0\\20220329-P_brain_M1_nonclear_adaptors\\H0M1\\Conv_zscan_155.dax\n",
      "-- all used channels: ['750', '647', '488', '405']\n",
      "-- single image size: [  50 2048 2048]\n",
      "- Loaded images for channels:['405'] in 9.067s.\n",
      "- Correct illumination for channels: ['405']\n",
      "-- Keep channels: ['405'] for corr_illumination.\n",
      "-- loading illumination correction profile from file:\n",
      "\t 405 illumination_correction_405_2048x2048.npy\n",
      "-- corrected illumination for channel 405 in 7.991s.\n",
      "- Finished illumination correction in 8.082s.\n"
     ]
    },
    {
     "name": "stderr",
     "output_type": "stream",
     "text": [
      "\r",
      " 97%|█████████████████████████████████████████████████████████████████████████████▌  | 156/161 [37:41<01:17, 15.55s/it]"
     ]
    },
    {
     "name": "stdout",
     "output_type": "stream",
     "text": [
      "Initialize DaxProcesser for file:\\\\10.245.74.158\\Chromatin_NAS_0\\20220329-P_brain_M1_nonclear_adaptors\\H0M1\\Conv_zscan_156.dax\n",
      "-- all used channels: ['750', '647', '488', '405']\n",
      "-- single image size: [  50 2048 2048]\n",
      "- Loaded images for channels:['405'] in 4.555s.\n",
      "- Correct illumination for channels: ['405']\n",
      "-- Keep channels: ['405'] for corr_illumination.\n",
      "-- loading illumination correction profile from file:\n",
      "\t 405 illumination_correction_405_2048x2048.npy\n",
      "-- corrected illumination for channel 405 in 8.003s.\n",
      "- Finished illumination correction in 8.029s.\n"
     ]
    },
    {
     "name": "stderr",
     "output_type": "stream",
     "text": [
      "\r",
      " 98%|██████████████████████████████████████████████████████████████████████████████  | 157/161 [37:55<00:59, 14.95s/it]"
     ]
    },
    {
     "name": "stdout",
     "output_type": "stream",
     "text": [
      "Initialize DaxProcesser for file:\\\\10.245.74.158\\Chromatin_NAS_0\\20220329-P_brain_M1_nonclear_adaptors\\H0M1\\Conv_zscan_157.dax\n",
      "-- all used channels: ['750', '647', '488', '405']\n",
      "-- single image size: [  50 2048 2048]\n",
      "- Loaded images for channels:['405'] in 5.439s.\n",
      "- Correct illumination for channels: ['405']\n",
      "-- Keep channels: ['405'] for corr_illumination.\n",
      "-- loading illumination correction profile from file:\n",
      "\t 405 illumination_correction_405_2048x2048.npy\n",
      "-- corrected illumination for channel 405 in 7.991s.\n",
      "- Finished illumination correction in 8.089s.\n"
     ]
    },
    {
     "name": "stderr",
     "output_type": "stream",
     "text": [
      "\r",
      " 98%|██████████████████████████████████████████████████████████████████████████████▌ | 158/161 [38:09<00:44, 14.77s/it]"
     ]
    },
    {
     "name": "stdout",
     "output_type": "stream",
     "text": [
      "Initialize DaxProcesser for file:\\\\10.245.74.158\\Chromatin_NAS_0\\20220329-P_brain_M1_nonclear_adaptors\\H0M1\\Conv_zscan_158.dax\n",
      "-- all used channels: ['750', '647', '488', '405']\n",
      "-- single image size: [  50 2048 2048]\n",
      "- Loaded images for channels:['405'] in 5.267s.\n",
      "- Correct illumination for channels: ['405']\n",
      "-- Keep channels: ['405'] for corr_illumination.\n",
      "-- loading illumination correction profile from file:\n",
      "\t 405 illumination_correction_405_2048x2048.npy\n",
      "-- corrected illumination for channel 405 in 7.921s.\n",
      "- Finished illumination correction in 8.013s.\n"
     ]
    },
    {
     "name": "stderr",
     "output_type": "stream",
     "text": [
      "\r",
      " 99%|███████████████████████████████████████████████████████████████████████████████ | 159/161 [38:24<00:29, 14.60s/it]"
     ]
    },
    {
     "name": "stdout",
     "output_type": "stream",
     "text": [
      "Initialize DaxProcesser for file:\\\\10.245.74.158\\Chromatin_NAS_0\\20220329-P_brain_M1_nonclear_adaptors\\H0M1\\Conv_zscan_159.dax\n",
      "-- all used channels: ['750', '647', '488', '405']\n",
      "-- single image size: [  50 2048 2048]\n",
      "- Loaded images for channels:['405'] in 5.357s.\n",
      "- Correct illumination for channels: ['405']\n",
      "-- Keep channels: ['405'] for corr_illumination.\n",
      "-- loading illumination correction profile from file:\n",
      "\t 405 illumination_correction_405_2048x2048.npy\n",
      "-- corrected illumination for channel 405 in 8.119s.\n",
      "- Finished illumination correction in 8.238s.\n"
     ]
    },
    {
     "name": "stderr",
     "output_type": "stream",
     "text": [
      "\r",
      " 99%|███████████████████████████████████████████████████████████████████████████████▌| 160/161 [38:38<00:14, 14.60s/it]"
     ]
    },
    {
     "name": "stdout",
     "output_type": "stream",
     "text": [
      "Initialize DaxProcesser for file:\\\\10.245.74.158\\Chromatin_NAS_0\\20220329-P_brain_M1_nonclear_adaptors\\H0M1\\Conv_zscan_160.dax\n",
      "-- all used channels: ['750', '647', '488', '405']\n",
      "-- single image size: [  50 2048 2048]\n",
      "- Loaded images for channels:['405'] in 5.244s.\n",
      "- Correct illumination for channels: ['405']\n",
      "-- Keep channels: ['405'] for corr_illumination.\n",
      "-- loading illumination correction profile from file:\n",
      "\t 405 illumination_correction_405_2048x2048.npy\n",
      "-- corrected illumination for channel 405 in 7.987s.\n",
      "- Finished illumination correction in 8.089s.\n"
     ]
    },
    {
     "name": "stderr",
     "output_type": "stream",
     "text": [
      "100%|████████████████████████████████████████████████████████████████████████████████| 161/161 [38:52<00:00, 14.49s/it]\n"
     ]
    }
   ],
   "source": [
    "overwrite_dapi = True\n",
    "correction_folder = r'\\\\10.245.74.158\\Chromatin_NAS_0\\Corrections\\20210621-Corrections_lumencor_from_60_to_50'\n",
    "\n",
    "for _fov_id in tqdm(save_fov_ids):\n",
    "    _dapi_savefile = os.path.join(merfish_dapi_folder, rna_fovs[_fov_id].replace('.dax', '_Dapi.npy'))\n",
    "    if overwrite_dapi or not os.path.exists(_dapi_savefile):\n",
    "        # load \n",
    "        _dapi_filename = os.path.join(ref_fd, rna_fovs[_fov_id])\n",
    "        _ref_cls = ia.classes.preprocess.DaxProcesser(_dapi_filename, \n",
    "                                                      CorrectionFolder=correction_folder, DriftChannel=488, DapiChannel=405)\n",
    "        _ref_cls._load_image(sel_channels=[405])\n",
    "        _ref_cls._corr_illumination(correction_channels=[405])\n",
    "        _dapi_im = _ref_cls.im_405\n",
    "        # save\n",
    "        np.save(_dapi_savefile.split('.npy')[0], _dapi_im)"
   ]
  },
  {
   "cell_type": "markdown",
   "id": "d8dcb667",
   "metadata": {},
   "source": [
    "## 1.3 Prepare args"
   ]
  },
  {
   "cell_type": "code",
   "execution_count": 9,
   "id": "973aee7b",
   "metadata": {},
   "outputs": [],
   "source": [
    "import multiprocessing as mp\n",
    "# savefile for segmentations\n",
    "#_total_seg_save_file = os.path.join(segmentation_folder, 'full_segmentation.hdf5')\n",
    "# required parameters\n",
    "rna_microscope_file = r'\\\\mendel\\pu_documents\\Merfish_analysis\\Merfish_Analysis_Scripts\\merlin_parameters\\microscope\\storm6_microscope.json'\n",
    "dna_microscope_file = r'\\\\mendel\\pu_documents\\Merfish_analysis\\Merfish_Analysis_Scripts\\merlin_parameters\\microscope\\storm6_microscope.json'\n",
    "Zcoords = np.arange(0,12.5,0.25) # z-coordinates of all z-planes in this experiment\n",
    "seg_align_params = {}\n",
    "overwrite_segmentation = False\n",
    "plot_segmentation = True"
   ]
  },
  {
   "cell_type": "code",
   "execution_count": 10,
   "id": "6659260f",
   "metadata": {},
   "outputs": [
    {
     "name": "stdout",
     "output_type": "stream",
     "text": [
      "161\n",
      "Wall time: 381 ms\n"
     ]
    }
   ],
   "source": [
    "%%time\n",
    "# initiate locks\n",
    "_manager = mp.Manager()\n",
    "# savefile lock\n",
    "#_segmentation_savefile_lock = _manager.RLock()\n",
    "_segmentation_savefile_lock = None # do not use lock if saved in multiple files\n",
    "_seg_align_args = []\n",
    "# prepare kwargs\n",
    "for _fov_id, _save_filename in zip(save_fov_ids, save_filenames):\n",
    "    # segmentation filename\n",
    "    _segmentation_savefile = os.path.join(segmentation_folder, \n",
    "        os.path.basename(_save_filename).replace('.hdf5', '_Segmentation.hdf5') )\n",
    "    _rna_feature_filename = os.path.join(merfish_segmentation_folder, f\"feature_data_{_fov_id}.hdf5\")\n",
    "    _rna_dapi_filename = os.path.join(merfish_dapi_folder, \n",
    "                                      os.path.basename(_save_filename).replace('.hdf5', '_Dapi.npy'))\n",
    "    _args = (_fov_id, Zcoords, _rna_feature_filename, _rna_dapi_filename,\n",
    "             _save_filename, rna_microscope_file, dna_microscope_file, R, \n",
    "             _segmentation_savefile, True, _segmentation_savefile_lock, \n",
    "             seg_align_params, plot_segmentation, overwrite_segmentation, False, False, True,\n",
    "             )\n",
    "    _seg_align_args.append(_args)\n",
    "print(len(_seg_align_args))"
   ]
  },
  {
   "cell_type": "markdown",
   "id": "a1822f24",
   "metadata": {},
   "source": [
    "## 1.4 test run and plot"
   ]
  },
  {
   "cell_type": "code",
   "execution_count": 11,
   "id": "138a6b19",
   "metadata": {},
   "outputs": [
    {
     "name": "stdout",
     "output_type": "stream",
     "text": [
      "- reconstruct 50 layers\n",
      "-- start calculating drift with rotation between images\n",
      "-- start aligning given source image to given reference image.\n",
      "-- drift 0: [  0.   87.2 -38.5] in 1.791s.\n",
      "-- drift 1: [ -0.3  78.1 -48.9] in 1.526s.\n",
      "-- drift 2: [ -0.1  78.8 -40.3] in 1.542s.\n",
      "-- drift 3: [ -0.2  72.8 -47.2] in 1.520s.\n",
      "-- drift 4: [ -0.2  81.5 -51.3] in 1.626s.\n",
      "-- drift 5: [ -0.1  69.4 -49.5] in 1.546s.\n",
      "-- drift 6: [-0.1 10.5 -4.5] in 1.557s.\n",
      "-- drift 7: [ -0.2  81.4 -50.5] in 1.590s.\n",
      "-- return a sub-optimal drift\n",
      "--- drift: [ -0.23  80.33 -50.23] pixels\n",
      "- generate rotation matrix\n",
      "- rotate segmentation label with rotation matrix\n"
     ]
    }
   ],
   "source": [
    "import ImageAnalysis3.segmentation_tools.cell\n",
    "sel_fov = 0\n",
    "_seg_cls = ia.segmentation_tools.cell.Align_Segmentation(\n",
    "    _seg_align_args[sel_fov][2],_seg_align_args[sel_fov][3],_seg_align_args[sel_fov][4],\n",
    "    rna_microscope_file, dna_microscope_file, R, debug=True, \n",
    ")\n",
    "\n",
    "dna_mask, _full_rna_mask, _rna_dapi, _rot_dna_dapi, _dna_dapi = _seg_cls._generate_dna_mask(_seg_align_args[sel_fov][1]) "
   ]
  },
  {
   "cell_type": "code",
   "execution_count": 13,
   "id": "62b532c6",
   "metadata": {},
   "outputs": [
    {
     "data": {
      "application/javascript": [
       "/* Put everything inside the global mpl namespace */\n",
       "/* global mpl */\n",
       "window.mpl = {};\n",
       "\n",
       "mpl.get_websocket_type = function () {\n",
       "    if (typeof WebSocket !== 'undefined') {\n",
       "        return WebSocket;\n",
       "    } else if (typeof MozWebSocket !== 'undefined') {\n",
       "        return MozWebSocket;\n",
       "    } else {\n",
       "        alert(\n",
       "            'Your browser does not have WebSocket support. ' +\n",
       "                'Please try Chrome, Safari or Firefox ≥ 6. ' +\n",
       "                'Firefox 4 and 5 are also supported but you ' +\n",
       "                'have to enable WebSockets in about:config.'\n",
       "        );\n",
       "    }\n",
       "};\n",
       "\n",
       "mpl.figure = function (figure_id, websocket, ondownload, parent_element) {\n",
       "    this.id = figure_id;\n",
       "\n",
       "    this.ws = websocket;\n",
       "\n",
       "    this.supports_binary = this.ws.binaryType !== undefined;\n",
       "\n",
       "    if (!this.supports_binary) {\n",
       "        var warnings = document.getElementById('mpl-warnings');\n",
       "        if (warnings) {\n",
       "            warnings.style.display = 'block';\n",
       "            warnings.textContent =\n",
       "                'This browser does not support binary websocket messages. ' +\n",
       "                'Performance may be slow.';\n",
       "        }\n",
       "    }\n",
       "\n",
       "    this.imageObj = new Image();\n",
       "\n",
       "    this.context = undefined;\n",
       "    this.message = undefined;\n",
       "    this.canvas = undefined;\n",
       "    this.rubberband_canvas = undefined;\n",
       "    this.rubberband_context = undefined;\n",
       "    this.format_dropdown = undefined;\n",
       "\n",
       "    this.image_mode = 'full';\n",
       "\n",
       "    this.root = document.createElement('div');\n",
       "    this.root.setAttribute('style', 'display: inline-block');\n",
       "    this._root_extra_style(this.root);\n",
       "\n",
       "    parent_element.appendChild(this.root);\n",
       "\n",
       "    this._init_header(this);\n",
       "    this._init_canvas(this);\n",
       "    this._init_toolbar(this);\n",
       "\n",
       "    var fig = this;\n",
       "\n",
       "    this.waiting = false;\n",
       "\n",
       "    this.ws.onopen = function () {\n",
       "        fig.send_message('supports_binary', { value: fig.supports_binary });\n",
       "        fig.send_message('send_image_mode', {});\n",
       "        if (fig.ratio !== 1) {\n",
       "            fig.send_message('set_dpi_ratio', { dpi_ratio: fig.ratio });\n",
       "        }\n",
       "        fig.send_message('refresh', {});\n",
       "    };\n",
       "\n",
       "    this.imageObj.onload = function () {\n",
       "        if (fig.image_mode === 'full') {\n",
       "            // Full images could contain transparency (where diff images\n",
       "            // almost always do), so we need to clear the canvas so that\n",
       "            // there is no ghosting.\n",
       "            fig.context.clearRect(0, 0, fig.canvas.width, fig.canvas.height);\n",
       "        }\n",
       "        fig.context.drawImage(fig.imageObj, 0, 0);\n",
       "    };\n",
       "\n",
       "    this.imageObj.onunload = function () {\n",
       "        fig.ws.close();\n",
       "    };\n",
       "\n",
       "    this.ws.onmessage = this._make_on_message_function(this);\n",
       "\n",
       "    this.ondownload = ondownload;\n",
       "};\n",
       "\n",
       "mpl.figure.prototype._init_header = function () {\n",
       "    var titlebar = document.createElement('div');\n",
       "    titlebar.classList =\n",
       "        'ui-dialog-titlebar ui-widget-header ui-corner-all ui-helper-clearfix';\n",
       "    var titletext = document.createElement('div');\n",
       "    titletext.classList = 'ui-dialog-title';\n",
       "    titletext.setAttribute(\n",
       "        'style',\n",
       "        'width: 100%; text-align: center; padding: 3px;'\n",
       "    );\n",
       "    titlebar.appendChild(titletext);\n",
       "    this.root.appendChild(titlebar);\n",
       "    this.header = titletext;\n",
       "};\n",
       "\n",
       "mpl.figure.prototype._canvas_extra_style = function (_canvas_div) {};\n",
       "\n",
       "mpl.figure.prototype._root_extra_style = function (_canvas_div) {};\n",
       "\n",
       "mpl.figure.prototype._init_canvas = function () {\n",
       "    var fig = this;\n",
       "\n",
       "    var canvas_div = (this.canvas_div = document.createElement('div'));\n",
       "    canvas_div.setAttribute(\n",
       "        'style',\n",
       "        'border: 1px solid #ddd;' +\n",
       "            'box-sizing: content-box;' +\n",
       "            'clear: both;' +\n",
       "            'min-height: 1px;' +\n",
       "            'min-width: 1px;' +\n",
       "            'outline: 0;' +\n",
       "            'overflow: hidden;' +\n",
       "            'position: relative;' +\n",
       "            'resize: both;'\n",
       "    );\n",
       "\n",
       "    function on_keyboard_event_closure(name) {\n",
       "        return function (event) {\n",
       "            return fig.key_event(event, name);\n",
       "        };\n",
       "    }\n",
       "\n",
       "    canvas_div.addEventListener(\n",
       "        'keydown',\n",
       "        on_keyboard_event_closure('key_press')\n",
       "    );\n",
       "    canvas_div.addEventListener(\n",
       "        'keyup',\n",
       "        on_keyboard_event_closure('key_release')\n",
       "    );\n",
       "\n",
       "    this._canvas_extra_style(canvas_div);\n",
       "    this.root.appendChild(canvas_div);\n",
       "\n",
       "    var canvas = (this.canvas = document.createElement('canvas'));\n",
       "    canvas.classList.add('mpl-canvas');\n",
       "    canvas.setAttribute('style', 'box-sizing: content-box;');\n",
       "\n",
       "    this.context = canvas.getContext('2d');\n",
       "\n",
       "    var backingStore =\n",
       "        this.context.backingStorePixelRatio ||\n",
       "        this.context.webkitBackingStorePixelRatio ||\n",
       "        this.context.mozBackingStorePixelRatio ||\n",
       "        this.context.msBackingStorePixelRatio ||\n",
       "        this.context.oBackingStorePixelRatio ||\n",
       "        this.context.backingStorePixelRatio ||\n",
       "        1;\n",
       "\n",
       "    this.ratio = (window.devicePixelRatio || 1) / backingStore;\n",
       "\n",
       "    var rubberband_canvas = (this.rubberband_canvas = document.createElement(\n",
       "        'canvas'\n",
       "    ));\n",
       "    rubberband_canvas.setAttribute(\n",
       "        'style',\n",
       "        'box-sizing: content-box; position: absolute; left: 0; top: 0; z-index: 1;'\n",
       "    );\n",
       "\n",
       "    // Apply a ponyfill if ResizeObserver is not implemented by browser.\n",
       "    if (this.ResizeObserver === undefined) {\n",
       "        if (window.ResizeObserver !== undefined) {\n",
       "            this.ResizeObserver = window.ResizeObserver;\n",
       "        } else {\n",
       "            var obs = _JSXTOOLS_RESIZE_OBSERVER({});\n",
       "            this.ResizeObserver = obs.ResizeObserver;\n",
       "        }\n",
       "    }\n",
       "\n",
       "    this.resizeObserverInstance = new this.ResizeObserver(function (entries) {\n",
       "        var nentries = entries.length;\n",
       "        for (var i = 0; i < nentries; i++) {\n",
       "            var entry = entries[i];\n",
       "            var width, height;\n",
       "            if (entry.contentBoxSize) {\n",
       "                if (entry.contentBoxSize instanceof Array) {\n",
       "                    // Chrome 84 implements new version of spec.\n",
       "                    width = entry.contentBoxSize[0].inlineSize;\n",
       "                    height = entry.contentBoxSize[0].blockSize;\n",
       "                } else {\n",
       "                    // Firefox implements old version of spec.\n",
       "                    width = entry.contentBoxSize.inlineSize;\n",
       "                    height = entry.contentBoxSize.blockSize;\n",
       "                }\n",
       "            } else {\n",
       "                // Chrome <84 implements even older version of spec.\n",
       "                width = entry.contentRect.width;\n",
       "                height = entry.contentRect.height;\n",
       "            }\n",
       "\n",
       "            // Keep the size of the canvas and rubber band canvas in sync with\n",
       "            // the canvas container.\n",
       "            if (entry.devicePixelContentBoxSize) {\n",
       "                // Chrome 84 implements new version of spec.\n",
       "                canvas.setAttribute(\n",
       "                    'width',\n",
       "                    entry.devicePixelContentBoxSize[0].inlineSize\n",
       "                );\n",
       "                canvas.setAttribute(\n",
       "                    'height',\n",
       "                    entry.devicePixelContentBoxSize[0].blockSize\n",
       "                );\n",
       "            } else {\n",
       "                canvas.setAttribute('width', width * fig.ratio);\n",
       "                canvas.setAttribute('height', height * fig.ratio);\n",
       "            }\n",
       "            canvas.setAttribute(\n",
       "                'style',\n",
       "                'width: ' + width + 'px; height: ' + height + 'px;'\n",
       "            );\n",
       "\n",
       "            rubberband_canvas.setAttribute('width', width);\n",
       "            rubberband_canvas.setAttribute('height', height);\n",
       "\n",
       "            // And update the size in Python. We ignore the initial 0/0 size\n",
       "            // that occurs as the element is placed into the DOM, which should\n",
       "            // otherwise not happen due to the minimum size styling.\n",
       "            if (fig.ws.readyState == 1 && width != 0 && height != 0) {\n",
       "                fig.request_resize(width, height);\n",
       "            }\n",
       "        }\n",
       "    });\n",
       "    this.resizeObserverInstance.observe(canvas_div);\n",
       "\n",
       "    function on_mouse_event_closure(name) {\n",
       "        return function (event) {\n",
       "            return fig.mouse_event(event, name);\n",
       "        };\n",
       "    }\n",
       "\n",
       "    rubberband_canvas.addEventListener(\n",
       "        'mousedown',\n",
       "        on_mouse_event_closure('button_press')\n",
       "    );\n",
       "    rubberband_canvas.addEventListener(\n",
       "        'mouseup',\n",
       "        on_mouse_event_closure('button_release')\n",
       "    );\n",
       "    rubberband_canvas.addEventListener(\n",
       "        'dblclick',\n",
       "        on_mouse_event_closure('dblclick')\n",
       "    );\n",
       "    // Throttle sequential mouse events to 1 every 20ms.\n",
       "    rubberband_canvas.addEventListener(\n",
       "        'mousemove',\n",
       "        on_mouse_event_closure('motion_notify')\n",
       "    );\n",
       "\n",
       "    rubberband_canvas.addEventListener(\n",
       "        'mouseenter',\n",
       "        on_mouse_event_closure('figure_enter')\n",
       "    );\n",
       "    rubberband_canvas.addEventListener(\n",
       "        'mouseleave',\n",
       "        on_mouse_event_closure('figure_leave')\n",
       "    );\n",
       "\n",
       "    canvas_div.addEventListener('wheel', function (event) {\n",
       "        if (event.deltaY < 0) {\n",
       "            event.step = 1;\n",
       "        } else {\n",
       "            event.step = -1;\n",
       "        }\n",
       "        on_mouse_event_closure('scroll')(event);\n",
       "    });\n",
       "\n",
       "    canvas_div.appendChild(canvas);\n",
       "    canvas_div.appendChild(rubberband_canvas);\n",
       "\n",
       "    this.rubberband_context = rubberband_canvas.getContext('2d');\n",
       "    this.rubberband_context.strokeStyle = '#000000';\n",
       "\n",
       "    this._resize_canvas = function (width, height, forward) {\n",
       "        if (forward) {\n",
       "            canvas_div.style.width = width + 'px';\n",
       "            canvas_div.style.height = height + 'px';\n",
       "        }\n",
       "    };\n",
       "\n",
       "    // Disable right mouse context menu.\n",
       "    this.rubberband_canvas.addEventListener('contextmenu', function (_e) {\n",
       "        event.preventDefault();\n",
       "        return false;\n",
       "    });\n",
       "\n",
       "    function set_focus() {\n",
       "        canvas.focus();\n",
       "        canvas_div.focus();\n",
       "    }\n",
       "\n",
       "    window.setTimeout(set_focus, 100);\n",
       "};\n",
       "\n",
       "mpl.figure.prototype._init_toolbar = function () {\n",
       "    var fig = this;\n",
       "\n",
       "    var toolbar = document.createElement('div');\n",
       "    toolbar.classList = 'mpl-toolbar';\n",
       "    this.root.appendChild(toolbar);\n",
       "\n",
       "    function on_click_closure(name) {\n",
       "        return function (_event) {\n",
       "            return fig.toolbar_button_onclick(name);\n",
       "        };\n",
       "    }\n",
       "\n",
       "    function on_mouseover_closure(tooltip) {\n",
       "        return function (event) {\n",
       "            if (!event.currentTarget.disabled) {\n",
       "                return fig.toolbar_button_onmouseover(tooltip);\n",
       "            }\n",
       "        };\n",
       "    }\n",
       "\n",
       "    fig.buttons = {};\n",
       "    var buttonGroup = document.createElement('div');\n",
       "    buttonGroup.classList = 'mpl-button-group';\n",
       "    for (var toolbar_ind in mpl.toolbar_items) {\n",
       "        var name = mpl.toolbar_items[toolbar_ind][0];\n",
       "        var tooltip = mpl.toolbar_items[toolbar_ind][1];\n",
       "        var image = mpl.toolbar_items[toolbar_ind][2];\n",
       "        var method_name = mpl.toolbar_items[toolbar_ind][3];\n",
       "\n",
       "        if (!name) {\n",
       "            /* Instead of a spacer, we start a new button group. */\n",
       "            if (buttonGroup.hasChildNodes()) {\n",
       "                toolbar.appendChild(buttonGroup);\n",
       "            }\n",
       "            buttonGroup = document.createElement('div');\n",
       "            buttonGroup.classList = 'mpl-button-group';\n",
       "            continue;\n",
       "        }\n",
       "\n",
       "        var button = (fig.buttons[name] = document.createElement('button'));\n",
       "        button.classList = 'mpl-widget';\n",
       "        button.setAttribute('role', 'button');\n",
       "        button.setAttribute('aria-disabled', 'false');\n",
       "        button.addEventListener('click', on_click_closure(method_name));\n",
       "        button.addEventListener('mouseover', on_mouseover_closure(tooltip));\n",
       "\n",
       "        var icon_img = document.createElement('img');\n",
       "        icon_img.src = '_images/' + image + '.png';\n",
       "        icon_img.srcset = '_images/' + image + '_large.png 2x';\n",
       "        icon_img.alt = tooltip;\n",
       "        button.appendChild(icon_img);\n",
       "\n",
       "        buttonGroup.appendChild(button);\n",
       "    }\n",
       "\n",
       "    if (buttonGroup.hasChildNodes()) {\n",
       "        toolbar.appendChild(buttonGroup);\n",
       "    }\n",
       "\n",
       "    var fmt_picker = document.createElement('select');\n",
       "    fmt_picker.classList = 'mpl-widget';\n",
       "    toolbar.appendChild(fmt_picker);\n",
       "    this.format_dropdown = fmt_picker;\n",
       "\n",
       "    for (var ind in mpl.extensions) {\n",
       "        var fmt = mpl.extensions[ind];\n",
       "        var option = document.createElement('option');\n",
       "        option.selected = fmt === mpl.default_extension;\n",
       "        option.innerHTML = fmt;\n",
       "        fmt_picker.appendChild(option);\n",
       "    }\n",
       "\n",
       "    var status_bar = document.createElement('span');\n",
       "    status_bar.classList = 'mpl-message';\n",
       "    toolbar.appendChild(status_bar);\n",
       "    this.message = status_bar;\n",
       "};\n",
       "\n",
       "mpl.figure.prototype.request_resize = function (x_pixels, y_pixels) {\n",
       "    // Request matplotlib to resize the figure. Matplotlib will then trigger a resize in the client,\n",
       "    // which will in turn request a refresh of the image.\n",
       "    this.send_message('resize', { width: x_pixels, height: y_pixels });\n",
       "};\n",
       "\n",
       "mpl.figure.prototype.send_message = function (type, properties) {\n",
       "    properties['type'] = type;\n",
       "    properties['figure_id'] = this.id;\n",
       "    this.ws.send(JSON.stringify(properties));\n",
       "};\n",
       "\n",
       "mpl.figure.prototype.send_draw_message = function () {\n",
       "    if (!this.waiting) {\n",
       "        this.waiting = true;\n",
       "        this.ws.send(JSON.stringify({ type: 'draw', figure_id: this.id }));\n",
       "    }\n",
       "};\n",
       "\n",
       "mpl.figure.prototype.handle_save = function (fig, _msg) {\n",
       "    var format_dropdown = fig.format_dropdown;\n",
       "    var format = format_dropdown.options[format_dropdown.selectedIndex].value;\n",
       "    fig.ondownload(fig, format);\n",
       "};\n",
       "\n",
       "mpl.figure.prototype.handle_resize = function (fig, msg) {\n",
       "    var size = msg['size'];\n",
       "    if (size[0] !== fig.canvas.width || size[1] !== fig.canvas.height) {\n",
       "        fig._resize_canvas(size[0], size[1], msg['forward']);\n",
       "        fig.send_message('refresh', {});\n",
       "    }\n",
       "};\n",
       "\n",
       "mpl.figure.prototype.handle_rubberband = function (fig, msg) {\n",
       "    var x0 = msg['x0'] / fig.ratio;\n",
       "    var y0 = (fig.canvas.height - msg['y0']) / fig.ratio;\n",
       "    var x1 = msg['x1'] / fig.ratio;\n",
       "    var y1 = (fig.canvas.height - msg['y1']) / fig.ratio;\n",
       "    x0 = Math.floor(x0) + 0.5;\n",
       "    y0 = Math.floor(y0) + 0.5;\n",
       "    x1 = Math.floor(x1) + 0.5;\n",
       "    y1 = Math.floor(y1) + 0.5;\n",
       "    var min_x = Math.min(x0, x1);\n",
       "    var min_y = Math.min(y0, y1);\n",
       "    var width = Math.abs(x1 - x0);\n",
       "    var height = Math.abs(y1 - y0);\n",
       "\n",
       "    fig.rubberband_context.clearRect(\n",
       "        0,\n",
       "        0,\n",
       "        fig.canvas.width / fig.ratio,\n",
       "        fig.canvas.height / fig.ratio\n",
       "    );\n",
       "\n",
       "    fig.rubberband_context.strokeRect(min_x, min_y, width, height);\n",
       "};\n",
       "\n",
       "mpl.figure.prototype.handle_figure_label = function (fig, msg) {\n",
       "    // Updates the figure title.\n",
       "    fig.header.textContent = msg['label'];\n",
       "};\n",
       "\n",
       "mpl.figure.prototype.handle_cursor = function (fig, msg) {\n",
       "    var cursor = msg['cursor'];\n",
       "    switch (cursor) {\n",
       "        case 0:\n",
       "            cursor = 'pointer';\n",
       "            break;\n",
       "        case 1:\n",
       "            cursor = 'default';\n",
       "            break;\n",
       "        case 2:\n",
       "            cursor = 'crosshair';\n",
       "            break;\n",
       "        case 3:\n",
       "            cursor = 'move';\n",
       "            break;\n",
       "    }\n",
       "    fig.rubberband_canvas.style.cursor = cursor;\n",
       "};\n",
       "\n",
       "mpl.figure.prototype.handle_message = function (fig, msg) {\n",
       "    fig.message.textContent = msg['message'];\n",
       "};\n",
       "\n",
       "mpl.figure.prototype.handle_draw = function (fig, _msg) {\n",
       "    // Request the server to send over a new figure.\n",
       "    fig.send_draw_message();\n",
       "};\n",
       "\n",
       "mpl.figure.prototype.handle_image_mode = function (fig, msg) {\n",
       "    fig.image_mode = msg['mode'];\n",
       "};\n",
       "\n",
       "mpl.figure.prototype.handle_history_buttons = function (fig, msg) {\n",
       "    for (var key in msg) {\n",
       "        if (!(key in fig.buttons)) {\n",
       "            continue;\n",
       "        }\n",
       "        fig.buttons[key].disabled = !msg[key];\n",
       "        fig.buttons[key].setAttribute('aria-disabled', !msg[key]);\n",
       "    }\n",
       "};\n",
       "\n",
       "mpl.figure.prototype.handle_navigate_mode = function (fig, msg) {\n",
       "    if (msg['mode'] === 'PAN') {\n",
       "        fig.buttons['Pan'].classList.add('active');\n",
       "        fig.buttons['Zoom'].classList.remove('active');\n",
       "    } else if (msg['mode'] === 'ZOOM') {\n",
       "        fig.buttons['Pan'].classList.remove('active');\n",
       "        fig.buttons['Zoom'].classList.add('active');\n",
       "    } else {\n",
       "        fig.buttons['Pan'].classList.remove('active');\n",
       "        fig.buttons['Zoom'].classList.remove('active');\n",
       "    }\n",
       "};\n",
       "\n",
       "mpl.figure.prototype.updated_canvas_event = function () {\n",
       "    // Called whenever the canvas gets updated.\n",
       "    this.send_message('ack', {});\n",
       "};\n",
       "\n",
       "// A function to construct a web socket function for onmessage handling.\n",
       "// Called in the figure constructor.\n",
       "mpl.figure.prototype._make_on_message_function = function (fig) {\n",
       "    return function socket_on_message(evt) {\n",
       "        if (evt.data instanceof Blob) {\n",
       "            var img = evt.data;\n",
       "            if (img.type !== 'image/png') {\n",
       "                /* FIXME: We get \"Resource interpreted as Image but\n",
       "                 * transferred with MIME type text/plain:\" errors on\n",
       "                 * Chrome.  But how to set the MIME type?  It doesn't seem\n",
       "                 * to be part of the websocket stream */\n",
       "                img.type = 'image/png';\n",
       "            }\n",
       "\n",
       "            /* Free the memory for the previous frames */\n",
       "            if (fig.imageObj.src) {\n",
       "                (window.URL || window.webkitURL).revokeObjectURL(\n",
       "                    fig.imageObj.src\n",
       "                );\n",
       "            }\n",
       "\n",
       "            fig.imageObj.src = (window.URL || window.webkitURL).createObjectURL(\n",
       "                img\n",
       "            );\n",
       "            fig.updated_canvas_event();\n",
       "            fig.waiting = false;\n",
       "            return;\n",
       "        } else if (\n",
       "            typeof evt.data === 'string' &&\n",
       "            evt.data.slice(0, 21) === 'data:image/png;base64'\n",
       "        ) {\n",
       "            fig.imageObj.src = evt.data;\n",
       "            fig.updated_canvas_event();\n",
       "            fig.waiting = false;\n",
       "            return;\n",
       "        }\n",
       "\n",
       "        var msg = JSON.parse(evt.data);\n",
       "        var msg_type = msg['type'];\n",
       "\n",
       "        // Call the  \"handle_{type}\" callback, which takes\n",
       "        // the figure and JSON message as its only arguments.\n",
       "        try {\n",
       "            var callback = fig['handle_' + msg_type];\n",
       "        } catch (e) {\n",
       "            console.log(\n",
       "                \"No handler for the '\" + msg_type + \"' message type: \",\n",
       "                msg\n",
       "            );\n",
       "            return;\n",
       "        }\n",
       "\n",
       "        if (callback) {\n",
       "            try {\n",
       "                // console.log(\"Handling '\" + msg_type + \"' message: \", msg);\n",
       "                callback(fig, msg);\n",
       "            } catch (e) {\n",
       "                console.log(\n",
       "                    \"Exception inside the 'handler_\" + msg_type + \"' callback:\",\n",
       "                    e,\n",
       "                    e.stack,\n",
       "                    msg\n",
       "                );\n",
       "            }\n",
       "        }\n",
       "    };\n",
       "};\n",
       "\n",
       "// from http://stackoverflow.com/questions/1114465/getting-mouse-location-in-canvas\n",
       "mpl.findpos = function (e) {\n",
       "    //this section is from http://www.quirksmode.org/js/events_properties.html\n",
       "    var targ;\n",
       "    if (!e) {\n",
       "        e = window.event;\n",
       "    }\n",
       "    if (e.target) {\n",
       "        targ = e.target;\n",
       "    } else if (e.srcElement) {\n",
       "        targ = e.srcElement;\n",
       "    }\n",
       "    if (targ.nodeType === 3) {\n",
       "        // defeat Safari bug\n",
       "        targ = targ.parentNode;\n",
       "    }\n",
       "\n",
       "    // pageX,Y are the mouse positions relative to the document\n",
       "    var boundingRect = targ.getBoundingClientRect();\n",
       "    var x = e.pageX - (boundingRect.left + document.body.scrollLeft);\n",
       "    var y = e.pageY - (boundingRect.top + document.body.scrollTop);\n",
       "\n",
       "    return { x: x, y: y };\n",
       "};\n",
       "\n",
       "/*\n",
       " * return a copy of an object with only non-object keys\n",
       " * we need this to avoid circular references\n",
       " * http://stackoverflow.com/a/24161582/3208463\n",
       " */\n",
       "function simpleKeys(original) {\n",
       "    return Object.keys(original).reduce(function (obj, key) {\n",
       "        if (typeof original[key] !== 'object') {\n",
       "            obj[key] = original[key];\n",
       "        }\n",
       "        return obj;\n",
       "    }, {});\n",
       "}\n",
       "\n",
       "mpl.figure.prototype.mouse_event = function (event, name) {\n",
       "    var canvas_pos = mpl.findpos(event);\n",
       "\n",
       "    if (name === 'button_press') {\n",
       "        this.canvas.focus();\n",
       "        this.canvas_div.focus();\n",
       "    }\n",
       "\n",
       "    var x = canvas_pos.x * this.ratio;\n",
       "    var y = canvas_pos.y * this.ratio;\n",
       "\n",
       "    this.send_message(name, {\n",
       "        x: x,\n",
       "        y: y,\n",
       "        button: event.button,\n",
       "        step: event.step,\n",
       "        guiEvent: simpleKeys(event),\n",
       "    });\n",
       "\n",
       "    /* This prevents the web browser from automatically changing to\n",
       "     * the text insertion cursor when the button is pressed.  We want\n",
       "     * to control all of the cursor setting manually through the\n",
       "     * 'cursor' event from matplotlib */\n",
       "    event.preventDefault();\n",
       "    return false;\n",
       "};\n",
       "\n",
       "mpl.figure.prototype._key_event_extra = function (_event, _name) {\n",
       "    // Handle any extra behaviour associated with a key event\n",
       "};\n",
       "\n",
       "mpl.figure.prototype.key_event = function (event, name) {\n",
       "    // Prevent repeat events\n",
       "    if (name === 'key_press') {\n",
       "        if (event.key === this._key) {\n",
       "            return;\n",
       "        } else {\n",
       "            this._key = event.key;\n",
       "        }\n",
       "    }\n",
       "    if (name === 'key_release') {\n",
       "        this._key = null;\n",
       "    }\n",
       "\n",
       "    var value = '';\n",
       "    if (event.ctrlKey && event.key !== 'Control') {\n",
       "        value += 'ctrl+';\n",
       "    }\n",
       "    else if (event.altKey && event.key !== 'Alt') {\n",
       "        value += 'alt+';\n",
       "    }\n",
       "    else if (event.shiftKey && event.key !== 'Shift') {\n",
       "        value += 'shift+';\n",
       "    }\n",
       "\n",
       "    value += 'k' + event.key;\n",
       "\n",
       "    this._key_event_extra(event, name);\n",
       "\n",
       "    this.send_message(name, { key: value, guiEvent: simpleKeys(event) });\n",
       "    return false;\n",
       "};\n",
       "\n",
       "mpl.figure.prototype.toolbar_button_onclick = function (name) {\n",
       "    if (name === 'download') {\n",
       "        this.handle_save(this, null);\n",
       "    } else {\n",
       "        this.send_message('toolbar_button', { name: name });\n",
       "    }\n",
       "};\n",
       "\n",
       "mpl.figure.prototype.toolbar_button_onmouseover = function (tooltip) {\n",
       "    this.message.textContent = tooltip;\n",
       "};\n",
       "\n",
       "///////////////// REMAINING CONTENT GENERATED BY embed_js.py /////////////////\n",
       "// prettier-ignore\n",
       "var _JSXTOOLS_RESIZE_OBSERVER=function(A){var t,i=new WeakMap,n=new WeakMap,a=new WeakMap,r=new WeakMap,o=new Set;function s(e){if(!(this instanceof s))throw new TypeError(\"Constructor requires 'new' operator\");i.set(this,e)}function h(){throw new TypeError(\"Function is not a constructor\")}function c(e,t,i,n){e=0 in arguments?Number(arguments[0]):0,t=1 in arguments?Number(arguments[1]):0,i=2 in arguments?Number(arguments[2]):0,n=3 in arguments?Number(arguments[3]):0,this.right=(this.x=this.left=e)+(this.width=i),this.bottom=(this.y=this.top=t)+(this.height=n),Object.freeze(this)}function d(){t=requestAnimationFrame(d);var s=new WeakMap,p=new Set;o.forEach((function(t){r.get(t).forEach((function(i){var r=t instanceof window.SVGElement,o=a.get(t),d=r?0:parseFloat(o.paddingTop),f=r?0:parseFloat(o.paddingRight),l=r?0:parseFloat(o.paddingBottom),u=r?0:parseFloat(o.paddingLeft),g=r?0:parseFloat(o.borderTopWidth),m=r?0:parseFloat(o.borderRightWidth),w=r?0:parseFloat(o.borderBottomWidth),b=u+f,F=d+l,v=(r?0:parseFloat(o.borderLeftWidth))+m,W=g+w,y=r?0:t.offsetHeight-W-t.clientHeight,E=r?0:t.offsetWidth-v-t.clientWidth,R=b+v,z=F+W,M=r?t.width:parseFloat(o.width)-R-E,O=r?t.height:parseFloat(o.height)-z-y;if(n.has(t)){var k=n.get(t);if(k[0]===M&&k[1]===O)return}n.set(t,[M,O]);var S=Object.create(h.prototype);S.target=t,S.contentRect=new c(u,d,M,O),s.has(i)||(s.set(i,[]),p.add(i)),s.get(i).push(S)}))})),p.forEach((function(e){i.get(e).call(e,s.get(e),e)}))}return s.prototype.observe=function(i){if(i instanceof window.Element){r.has(i)||(r.set(i,new Set),o.add(i),a.set(i,window.getComputedStyle(i)));var n=r.get(i);n.has(this)||n.add(this),cancelAnimationFrame(t),t=requestAnimationFrame(d)}},s.prototype.unobserve=function(i){if(i instanceof window.Element&&r.has(i)){var n=r.get(i);n.has(this)&&(n.delete(this),n.size||(r.delete(i),o.delete(i))),n.size||r.delete(i),o.size||cancelAnimationFrame(t)}},A.DOMRectReadOnly=c,A.ResizeObserver=s,A.ResizeObserverEntry=h,A}; // eslint-disable-line\n",
       "mpl.toolbar_items = [[\"Home\", \"Reset original view\", \"fa fa-home icon-home\", \"home\"], [\"Back\", \"Back to previous view\", \"fa fa-arrow-left icon-arrow-left\", \"back\"], [\"Forward\", \"Forward to next view\", \"fa fa-arrow-right icon-arrow-right\", \"forward\"], [\"\", \"\", \"\", \"\"], [\"Pan\", \"Left button pans, Right button zooms\\nx/y fixes axis, CTRL fixes aspect\", \"fa fa-arrows icon-move\", \"pan\"], [\"Zoom\", \"Zoom to rectangle\\nx/y fixes axis, CTRL fixes aspect\", \"fa fa-square-o icon-check-empty\", \"zoom\"], [\"\", \"\", \"\", \"\"], [\"Download\", \"Download plot\", \"fa fa-floppy-o icon-save\", \"download\"]];\n",
       "\n",
       "mpl.extensions = [\"eps\", \"jpeg\", \"pgf\", \"pdf\", \"png\", \"ps\", \"raw\", \"svg\", \"tif\"];\n",
       "\n",
       "mpl.default_extension = \"png\";/* global mpl */\n",
       "\n",
       "var comm_websocket_adapter = function (comm) {\n",
       "    // Create a \"websocket\"-like object which calls the given IPython comm\n",
       "    // object with the appropriate methods. Currently this is a non binary\n",
       "    // socket, so there is still some room for performance tuning.\n",
       "    var ws = {};\n",
       "\n",
       "    ws.binaryType = comm.kernel.ws.binaryType;\n",
       "    ws.readyState = comm.kernel.ws.readyState;\n",
       "    function updateReadyState(_event) {\n",
       "        if (comm.kernel.ws) {\n",
       "            ws.readyState = comm.kernel.ws.readyState;\n",
       "        } else {\n",
       "            ws.readyState = 3; // Closed state.\n",
       "        }\n",
       "    }\n",
       "    comm.kernel.ws.addEventListener('open', updateReadyState);\n",
       "    comm.kernel.ws.addEventListener('close', updateReadyState);\n",
       "    comm.kernel.ws.addEventListener('error', updateReadyState);\n",
       "\n",
       "    ws.close = function () {\n",
       "        comm.close();\n",
       "    };\n",
       "    ws.send = function (m) {\n",
       "        //console.log('sending', m);\n",
       "        comm.send(m);\n",
       "    };\n",
       "    // Register the callback with on_msg.\n",
       "    comm.on_msg(function (msg) {\n",
       "        //console.log('receiving', msg['content']['data'], msg);\n",
       "        var data = msg['content']['data'];\n",
       "        if (data['blob'] !== undefined) {\n",
       "            data = {\n",
       "                data: new Blob(msg['buffers'], { type: data['blob'] }),\n",
       "            };\n",
       "        }\n",
       "        // Pass the mpl event to the overridden (by mpl) onmessage function.\n",
       "        ws.onmessage(data);\n",
       "    });\n",
       "    return ws;\n",
       "};\n",
       "\n",
       "mpl.mpl_figure_comm = function (comm, msg) {\n",
       "    // This is the function which gets called when the mpl process\n",
       "    // starts-up an IPython Comm through the \"matplotlib\" channel.\n",
       "\n",
       "    var id = msg.content.data.id;\n",
       "    // Get hold of the div created by the display call when the Comm\n",
       "    // socket was opened in Python.\n",
       "    var element = document.getElementById(id);\n",
       "    var ws_proxy = comm_websocket_adapter(comm);\n",
       "\n",
       "    function ondownload(figure, _format) {\n",
       "        window.open(figure.canvas.toDataURL());\n",
       "    }\n",
       "\n",
       "    var fig = new mpl.figure(id, ws_proxy, ondownload, element);\n",
       "\n",
       "    // Call onopen now - mpl needs it, as it is assuming we've passed it a real\n",
       "    // web socket which is closed, not our websocket->open comm proxy.\n",
       "    ws_proxy.onopen();\n",
       "\n",
       "    fig.parent_element = element;\n",
       "    fig.cell_info = mpl.find_output_cell(\"<div id='\" + id + \"'></div>\");\n",
       "    if (!fig.cell_info) {\n",
       "        console.error('Failed to find cell for figure', id, fig);\n",
       "        return;\n",
       "    }\n",
       "    fig.cell_info[0].output_area.element.on(\n",
       "        'cleared',\n",
       "        { fig: fig },\n",
       "        fig._remove_fig_handler\n",
       "    );\n",
       "};\n",
       "\n",
       "mpl.figure.prototype.handle_close = function (fig, msg) {\n",
       "    var width = fig.canvas.width / fig.ratio;\n",
       "    fig.cell_info[0].output_area.element.off(\n",
       "        'cleared',\n",
       "        fig._remove_fig_handler\n",
       "    );\n",
       "    fig.resizeObserverInstance.unobserve(fig.canvas_div);\n",
       "\n",
       "    // Update the output cell to use the data from the current canvas.\n",
       "    fig.push_to_output();\n",
       "    var dataURL = fig.canvas.toDataURL();\n",
       "    // Re-enable the keyboard manager in IPython - without this line, in FF,\n",
       "    // the notebook keyboard shortcuts fail.\n",
       "    IPython.keyboard_manager.enable();\n",
       "    fig.parent_element.innerHTML =\n",
       "        '<img src=\"' + dataURL + '\" width=\"' + width + '\">';\n",
       "    fig.close_ws(fig, msg);\n",
       "};\n",
       "\n",
       "mpl.figure.prototype.close_ws = function (fig, msg) {\n",
       "    fig.send_message('closing', msg);\n",
       "    // fig.ws.close()\n",
       "};\n",
       "\n",
       "mpl.figure.prototype.push_to_output = function (_remove_interactive) {\n",
       "    // Turn the data on the canvas into data in the output cell.\n",
       "    var width = this.canvas.width / this.ratio;\n",
       "    var dataURL = this.canvas.toDataURL();\n",
       "    this.cell_info[1]['text/html'] =\n",
       "        '<img src=\"' + dataURL + '\" width=\"' + width + '\">';\n",
       "};\n",
       "\n",
       "mpl.figure.prototype.updated_canvas_event = function () {\n",
       "    // Tell IPython that the notebook contents must change.\n",
       "    IPython.notebook.set_dirty(true);\n",
       "    this.send_message('ack', {});\n",
       "    var fig = this;\n",
       "    // Wait a second, then push the new image to the DOM so\n",
       "    // that it is saved nicely (might be nice to debounce this).\n",
       "    setTimeout(function () {\n",
       "        fig.push_to_output();\n",
       "    }, 1000);\n",
       "};\n",
       "\n",
       "mpl.figure.prototype._init_toolbar = function () {\n",
       "    var fig = this;\n",
       "\n",
       "    var toolbar = document.createElement('div');\n",
       "    toolbar.classList = 'btn-toolbar';\n",
       "    this.root.appendChild(toolbar);\n",
       "\n",
       "    function on_click_closure(name) {\n",
       "        return function (_event) {\n",
       "            return fig.toolbar_button_onclick(name);\n",
       "        };\n",
       "    }\n",
       "\n",
       "    function on_mouseover_closure(tooltip) {\n",
       "        return function (event) {\n",
       "            if (!event.currentTarget.disabled) {\n",
       "                return fig.toolbar_button_onmouseover(tooltip);\n",
       "            }\n",
       "        };\n",
       "    }\n",
       "\n",
       "    fig.buttons = {};\n",
       "    var buttonGroup = document.createElement('div');\n",
       "    buttonGroup.classList = 'btn-group';\n",
       "    var button;\n",
       "    for (var toolbar_ind in mpl.toolbar_items) {\n",
       "        var name = mpl.toolbar_items[toolbar_ind][0];\n",
       "        var tooltip = mpl.toolbar_items[toolbar_ind][1];\n",
       "        var image = mpl.toolbar_items[toolbar_ind][2];\n",
       "        var method_name = mpl.toolbar_items[toolbar_ind][3];\n",
       "\n",
       "        if (!name) {\n",
       "            /* Instead of a spacer, we start a new button group. */\n",
       "            if (buttonGroup.hasChildNodes()) {\n",
       "                toolbar.appendChild(buttonGroup);\n",
       "            }\n",
       "            buttonGroup = document.createElement('div');\n",
       "            buttonGroup.classList = 'btn-group';\n",
       "            continue;\n",
       "        }\n",
       "\n",
       "        button = fig.buttons[name] = document.createElement('button');\n",
       "        button.classList = 'btn btn-default';\n",
       "        button.href = '#';\n",
       "        button.title = name;\n",
       "        button.innerHTML = '<i class=\"fa ' + image + ' fa-lg\"></i>';\n",
       "        button.addEventListener('click', on_click_closure(method_name));\n",
       "        button.addEventListener('mouseover', on_mouseover_closure(tooltip));\n",
       "        buttonGroup.appendChild(button);\n",
       "    }\n",
       "\n",
       "    if (buttonGroup.hasChildNodes()) {\n",
       "        toolbar.appendChild(buttonGroup);\n",
       "    }\n",
       "\n",
       "    // Add the status bar.\n",
       "    var status_bar = document.createElement('span');\n",
       "    status_bar.classList = 'mpl-message pull-right';\n",
       "    toolbar.appendChild(status_bar);\n",
       "    this.message = status_bar;\n",
       "\n",
       "    // Add the close button to the window.\n",
       "    var buttongrp = document.createElement('div');\n",
       "    buttongrp.classList = 'btn-group inline pull-right';\n",
       "    button = document.createElement('button');\n",
       "    button.classList = 'btn btn-mini btn-primary';\n",
       "    button.href = '#';\n",
       "    button.title = 'Stop Interaction';\n",
       "    button.innerHTML = '<i class=\"fa fa-power-off icon-remove icon-large\"></i>';\n",
       "    button.addEventListener('click', function (_evt) {\n",
       "        fig.handle_close(fig, {});\n",
       "    });\n",
       "    button.addEventListener(\n",
       "        'mouseover',\n",
       "        on_mouseover_closure('Stop Interaction')\n",
       "    );\n",
       "    buttongrp.appendChild(button);\n",
       "    var titlebar = this.root.querySelector('.ui-dialog-titlebar');\n",
       "    titlebar.insertBefore(buttongrp, titlebar.firstChild);\n",
       "};\n",
       "\n",
       "mpl.figure.prototype._remove_fig_handler = function (event) {\n",
       "    var fig = event.data.fig;\n",
       "    if (event.target !== this) {\n",
       "        // Ignore bubbled events from children.\n",
       "        return;\n",
       "    }\n",
       "    fig.close_ws(fig, {});\n",
       "};\n",
       "\n",
       "mpl.figure.prototype._root_extra_style = function (el) {\n",
       "    el.style.boxSizing = 'content-box'; // override notebook setting of border-box.\n",
       "};\n",
       "\n",
       "mpl.figure.prototype._canvas_extra_style = function (el) {\n",
       "    // this is important to make the div 'focusable\n",
       "    el.setAttribute('tabindex', 0);\n",
       "    // reach out to IPython and tell the keyboard manager to turn it's self\n",
       "    // off when our div gets focus\n",
       "\n",
       "    // location in version 3\n",
       "    if (IPython.notebook.keyboard_manager) {\n",
       "        IPython.notebook.keyboard_manager.register_events(el);\n",
       "    } else {\n",
       "        // location in version 2\n",
       "        IPython.keyboard_manager.register_events(el);\n",
       "    }\n",
       "};\n",
       "\n",
       "mpl.figure.prototype._key_event_extra = function (event, _name) {\n",
       "    var manager = IPython.notebook.keyboard_manager;\n",
       "    if (!manager) {\n",
       "        manager = IPython.keyboard_manager;\n",
       "    }\n",
       "\n",
       "    // Check for shift+enter\n",
       "    if (event.shiftKey && event.which === 13) {\n",
       "        this.canvas_div.blur();\n",
       "        // select the cell after this one\n",
       "        var index = IPython.notebook.find_cell_index(this.cell_info[0]);\n",
       "        IPython.notebook.select(index + 1);\n",
       "    }\n",
       "};\n",
       "\n",
       "mpl.figure.prototype.handle_save = function (fig, _msg) {\n",
       "    fig.ondownload(fig, null);\n",
       "};\n",
       "\n",
       "mpl.find_output_cell = function (html_output) {\n",
       "    // Return the cell and output element which can be found *uniquely* in the notebook.\n",
       "    // Note - this is a bit hacky, but it is done because the \"notebook_saving.Notebook\"\n",
       "    // IPython event is triggered only after the cells have been serialised, which for\n",
       "    // our purposes (turning an active figure into a static one), is too late.\n",
       "    var cells = IPython.notebook.get_cells();\n",
       "    var ncells = cells.length;\n",
       "    for (var i = 0; i < ncells; i++) {\n",
       "        var cell = cells[i];\n",
       "        if (cell.cell_type === 'code') {\n",
       "            for (var j = 0; j < cell.output_area.outputs.length; j++) {\n",
       "                var data = cell.output_area.outputs[j];\n",
       "                if (data.data) {\n",
       "                    // IPython >= 3 moved mimebundle to data attribute of output\n",
       "                    data = data.data;\n",
       "                }\n",
       "                if (data['text/html'] === html_output) {\n",
       "                    return [cell, data, j];\n",
       "                }\n",
       "            }\n",
       "        }\n",
       "    }\n",
       "};\n",
       "\n",
       "// Register the function which deals with the matplotlib target/channel.\n",
       "// The kernel may be null if the page has been refreshed.\n",
       "if (IPython.notebook.kernel !== null) {\n",
       "    IPython.notebook.kernel.comm_manager.register_target(\n",
       "        'matplotlib',\n",
       "        mpl.mpl_figure_comm\n",
       "    );\n",
       "}\n"
      ],
      "text/plain": [
       "<IPython.core.display.Javascript object>"
      ]
     },
     "metadata": {},
     "output_type": "display_data"
    },
    {
     "data": {
      "text/html": [
       "<img src=\"data:image/png;base64,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\" width=\"400\">"
      ],
      "text/plain": [
       "<IPython.core.display.HTML object>"
      ]
     },
     "metadata": {},
     "output_type": "display_data"
    },
    {
     "data": {
      "text/plain": [
       "<ImageAnalysis3.visual_tools.imshow_mark_3d_v2 at 0x297033cd3a0>"
      ]
     },
     "execution_count": 13,
     "metadata": {},
     "output_type": "execute_result"
    }
   ],
   "source": [
    "%matplotlib notebook\n",
    "visual_tools.imshow_mark_3d_v2([_dna_dapi, dna_mask])"
   ]
  },
  {
   "cell_type": "code",
   "execution_count": 15,
   "id": "d3adc389",
   "metadata": {},
   "outputs": [
    {
     "data": {
      "application/javascript": [
       "/* Put everything inside the global mpl namespace */\n",
       "/* global mpl */\n",
       "window.mpl = {};\n",
       "\n",
       "mpl.get_websocket_type = function () {\n",
       "    if (typeof WebSocket !== 'undefined') {\n",
       "        return WebSocket;\n",
       "    } else if (typeof MozWebSocket !== 'undefined') {\n",
       "        return MozWebSocket;\n",
       "    } else {\n",
       "        alert(\n",
       "            'Your browser does not have WebSocket support. ' +\n",
       "                'Please try Chrome, Safari or Firefox ≥ 6. ' +\n",
       "                'Firefox 4 and 5 are also supported but you ' +\n",
       "                'have to enable WebSockets in about:config.'\n",
       "        );\n",
       "    }\n",
       "};\n",
       "\n",
       "mpl.figure = function (figure_id, websocket, ondownload, parent_element) {\n",
       "    this.id = figure_id;\n",
       "\n",
       "    this.ws = websocket;\n",
       "\n",
       "    this.supports_binary = this.ws.binaryType !== undefined;\n",
       "\n",
       "    if (!this.supports_binary) {\n",
       "        var warnings = document.getElementById('mpl-warnings');\n",
       "        if (warnings) {\n",
       "            warnings.style.display = 'block';\n",
       "            warnings.textContent =\n",
       "                'This browser does not support binary websocket messages. ' +\n",
       "                'Performance may be slow.';\n",
       "        }\n",
       "    }\n",
       "\n",
       "    this.imageObj = new Image();\n",
       "\n",
       "    this.context = undefined;\n",
       "    this.message = undefined;\n",
       "    this.canvas = undefined;\n",
       "    this.rubberband_canvas = undefined;\n",
       "    this.rubberband_context = undefined;\n",
       "    this.format_dropdown = undefined;\n",
       "\n",
       "    this.image_mode = 'full';\n",
       "\n",
       "    this.root = document.createElement('div');\n",
       "    this.root.setAttribute('style', 'display: inline-block');\n",
       "    this._root_extra_style(this.root);\n",
       "\n",
       "    parent_element.appendChild(this.root);\n",
       "\n",
       "    this._init_header(this);\n",
       "    this._init_canvas(this);\n",
       "    this._init_toolbar(this);\n",
       "\n",
       "    var fig = this;\n",
       "\n",
       "    this.waiting = false;\n",
       "\n",
       "    this.ws.onopen = function () {\n",
       "        fig.send_message('supports_binary', { value: fig.supports_binary });\n",
       "        fig.send_message('send_image_mode', {});\n",
       "        if (fig.ratio !== 1) {\n",
       "            fig.send_message('set_dpi_ratio', { dpi_ratio: fig.ratio });\n",
       "        }\n",
       "        fig.send_message('refresh', {});\n",
       "    };\n",
       "\n",
       "    this.imageObj.onload = function () {\n",
       "        if (fig.image_mode === 'full') {\n",
       "            // Full images could contain transparency (where diff images\n",
       "            // almost always do), so we need to clear the canvas so that\n",
       "            // there is no ghosting.\n",
       "            fig.context.clearRect(0, 0, fig.canvas.width, fig.canvas.height);\n",
       "        }\n",
       "        fig.context.drawImage(fig.imageObj, 0, 0);\n",
       "    };\n",
       "\n",
       "    this.imageObj.onunload = function () {\n",
       "        fig.ws.close();\n",
       "    };\n",
       "\n",
       "    this.ws.onmessage = this._make_on_message_function(this);\n",
       "\n",
       "    this.ondownload = ondownload;\n",
       "};\n",
       "\n",
       "mpl.figure.prototype._init_header = function () {\n",
       "    var titlebar = document.createElement('div');\n",
       "    titlebar.classList =\n",
       "        'ui-dialog-titlebar ui-widget-header ui-corner-all ui-helper-clearfix';\n",
       "    var titletext = document.createElement('div');\n",
       "    titletext.classList = 'ui-dialog-title';\n",
       "    titletext.setAttribute(\n",
       "        'style',\n",
       "        'width: 100%; text-align: center; padding: 3px;'\n",
       "    );\n",
       "    titlebar.appendChild(titletext);\n",
       "    this.root.appendChild(titlebar);\n",
       "    this.header = titletext;\n",
       "};\n",
       "\n",
       "mpl.figure.prototype._canvas_extra_style = function (_canvas_div) {};\n",
       "\n",
       "mpl.figure.prototype._root_extra_style = function (_canvas_div) {};\n",
       "\n",
       "mpl.figure.prototype._init_canvas = function () {\n",
       "    var fig = this;\n",
       "\n",
       "    var canvas_div = (this.canvas_div = document.createElement('div'));\n",
       "    canvas_div.setAttribute(\n",
       "        'style',\n",
       "        'border: 1px solid #ddd;' +\n",
       "            'box-sizing: content-box;' +\n",
       "            'clear: both;' +\n",
       "            'min-height: 1px;' +\n",
       "            'min-width: 1px;' +\n",
       "            'outline: 0;' +\n",
       "            'overflow: hidden;' +\n",
       "            'position: relative;' +\n",
       "            'resize: both;'\n",
       "    );\n",
       "\n",
       "    function on_keyboard_event_closure(name) {\n",
       "        return function (event) {\n",
       "            return fig.key_event(event, name);\n",
       "        };\n",
       "    }\n",
       "\n",
       "    canvas_div.addEventListener(\n",
       "        'keydown',\n",
       "        on_keyboard_event_closure('key_press')\n",
       "    );\n",
       "    canvas_div.addEventListener(\n",
       "        'keyup',\n",
       "        on_keyboard_event_closure('key_release')\n",
       "    );\n",
       "\n",
       "    this._canvas_extra_style(canvas_div);\n",
       "    this.root.appendChild(canvas_div);\n",
       "\n",
       "    var canvas = (this.canvas = document.createElement('canvas'));\n",
       "    canvas.classList.add('mpl-canvas');\n",
       "    canvas.setAttribute('style', 'box-sizing: content-box;');\n",
       "\n",
       "    this.context = canvas.getContext('2d');\n",
       "\n",
       "    var backingStore =\n",
       "        this.context.backingStorePixelRatio ||\n",
       "        this.context.webkitBackingStorePixelRatio ||\n",
       "        this.context.mozBackingStorePixelRatio ||\n",
       "        this.context.msBackingStorePixelRatio ||\n",
       "        this.context.oBackingStorePixelRatio ||\n",
       "        this.context.backingStorePixelRatio ||\n",
       "        1;\n",
       "\n",
       "    this.ratio = (window.devicePixelRatio || 1) / backingStore;\n",
       "\n",
       "    var rubberband_canvas = (this.rubberband_canvas = document.createElement(\n",
       "        'canvas'\n",
       "    ));\n",
       "    rubberband_canvas.setAttribute(\n",
       "        'style',\n",
       "        'box-sizing: content-box; position: absolute; left: 0; top: 0; z-index: 1;'\n",
       "    );\n",
       "\n",
       "    // Apply a ponyfill if ResizeObserver is not implemented by browser.\n",
       "    if (this.ResizeObserver === undefined) {\n",
       "        if (window.ResizeObserver !== undefined) {\n",
       "            this.ResizeObserver = window.ResizeObserver;\n",
       "        } else {\n",
       "            var obs = _JSXTOOLS_RESIZE_OBSERVER({});\n",
       "            this.ResizeObserver = obs.ResizeObserver;\n",
       "        }\n",
       "    }\n",
       "\n",
       "    this.resizeObserverInstance = new this.ResizeObserver(function (entries) {\n",
       "        var nentries = entries.length;\n",
       "        for (var i = 0; i < nentries; i++) {\n",
       "            var entry = entries[i];\n",
       "            var width, height;\n",
       "            if (entry.contentBoxSize) {\n",
       "                if (entry.contentBoxSize instanceof Array) {\n",
       "                    // Chrome 84 implements new version of spec.\n",
       "                    width = entry.contentBoxSize[0].inlineSize;\n",
       "                    height = entry.contentBoxSize[0].blockSize;\n",
       "                } else {\n",
       "                    // Firefox implements old version of spec.\n",
       "                    width = entry.contentBoxSize.inlineSize;\n",
       "                    height = entry.contentBoxSize.blockSize;\n",
       "                }\n",
       "            } else {\n",
       "                // Chrome <84 implements even older version of spec.\n",
       "                width = entry.contentRect.width;\n",
       "                height = entry.contentRect.height;\n",
       "            }\n",
       "\n",
       "            // Keep the size of the canvas and rubber band canvas in sync with\n",
       "            // the canvas container.\n",
       "            if (entry.devicePixelContentBoxSize) {\n",
       "                // Chrome 84 implements new version of spec.\n",
       "                canvas.setAttribute(\n",
       "                    'width',\n",
       "                    entry.devicePixelContentBoxSize[0].inlineSize\n",
       "                );\n",
       "                canvas.setAttribute(\n",
       "                    'height',\n",
       "                    entry.devicePixelContentBoxSize[0].blockSize\n",
       "                );\n",
       "            } else {\n",
       "                canvas.setAttribute('width', width * fig.ratio);\n",
       "                canvas.setAttribute('height', height * fig.ratio);\n",
       "            }\n",
       "            canvas.setAttribute(\n",
       "                'style',\n",
       "                'width: ' + width + 'px; height: ' + height + 'px;'\n",
       "            );\n",
       "\n",
       "            rubberband_canvas.setAttribute('width', width);\n",
       "            rubberband_canvas.setAttribute('height', height);\n",
       "\n",
       "            // And update the size in Python. We ignore the initial 0/0 size\n",
       "            // that occurs as the element is placed into the DOM, which should\n",
       "            // otherwise not happen due to the minimum size styling.\n",
       "            if (fig.ws.readyState == 1 && width != 0 && height != 0) {\n",
       "                fig.request_resize(width, height);\n",
       "            }\n",
       "        }\n",
       "    });\n",
       "    this.resizeObserverInstance.observe(canvas_div);\n",
       "\n",
       "    function on_mouse_event_closure(name) {\n",
       "        return function (event) {\n",
       "            return fig.mouse_event(event, name);\n",
       "        };\n",
       "    }\n",
       "\n",
       "    rubberband_canvas.addEventListener(\n",
       "        'mousedown',\n",
       "        on_mouse_event_closure('button_press')\n",
       "    );\n",
       "    rubberband_canvas.addEventListener(\n",
       "        'mouseup',\n",
       "        on_mouse_event_closure('button_release')\n",
       "    );\n",
       "    rubberband_canvas.addEventListener(\n",
       "        'dblclick',\n",
       "        on_mouse_event_closure('dblclick')\n",
       "    );\n",
       "    // Throttle sequential mouse events to 1 every 20ms.\n",
       "    rubberband_canvas.addEventListener(\n",
       "        'mousemove',\n",
       "        on_mouse_event_closure('motion_notify')\n",
       "    );\n",
       "\n",
       "    rubberband_canvas.addEventListener(\n",
       "        'mouseenter',\n",
       "        on_mouse_event_closure('figure_enter')\n",
       "    );\n",
       "    rubberband_canvas.addEventListener(\n",
       "        'mouseleave',\n",
       "        on_mouse_event_closure('figure_leave')\n",
       "    );\n",
       "\n",
       "    canvas_div.addEventListener('wheel', function (event) {\n",
       "        if (event.deltaY < 0) {\n",
       "            event.step = 1;\n",
       "        } else {\n",
       "            event.step = -1;\n",
       "        }\n",
       "        on_mouse_event_closure('scroll')(event);\n",
       "    });\n",
       "\n",
       "    canvas_div.appendChild(canvas);\n",
       "    canvas_div.appendChild(rubberband_canvas);\n",
       "\n",
       "    this.rubberband_context = rubberband_canvas.getContext('2d');\n",
       "    this.rubberband_context.strokeStyle = '#000000';\n",
       "\n",
       "    this._resize_canvas = function (width, height, forward) {\n",
       "        if (forward) {\n",
       "            canvas_div.style.width = width + 'px';\n",
       "            canvas_div.style.height = height + 'px';\n",
       "        }\n",
       "    };\n",
       "\n",
       "    // Disable right mouse context menu.\n",
       "    this.rubberband_canvas.addEventListener('contextmenu', function (_e) {\n",
       "        event.preventDefault();\n",
       "        return false;\n",
       "    });\n",
       "\n",
       "    function set_focus() {\n",
       "        canvas.focus();\n",
       "        canvas_div.focus();\n",
       "    }\n",
       "\n",
       "    window.setTimeout(set_focus, 100);\n",
       "};\n",
       "\n",
       "mpl.figure.prototype._init_toolbar = function () {\n",
       "    var fig = this;\n",
       "\n",
       "    var toolbar = document.createElement('div');\n",
       "    toolbar.classList = 'mpl-toolbar';\n",
       "    this.root.appendChild(toolbar);\n",
       "\n",
       "    function on_click_closure(name) {\n",
       "        return function (_event) {\n",
       "            return fig.toolbar_button_onclick(name);\n",
       "        };\n",
       "    }\n",
       "\n",
       "    function on_mouseover_closure(tooltip) {\n",
       "        return function (event) {\n",
       "            if (!event.currentTarget.disabled) {\n",
       "                return fig.toolbar_button_onmouseover(tooltip);\n",
       "            }\n",
       "        };\n",
       "    }\n",
       "\n",
       "    fig.buttons = {};\n",
       "    var buttonGroup = document.createElement('div');\n",
       "    buttonGroup.classList = 'mpl-button-group';\n",
       "    for (var toolbar_ind in mpl.toolbar_items) {\n",
       "        var name = mpl.toolbar_items[toolbar_ind][0];\n",
       "        var tooltip = mpl.toolbar_items[toolbar_ind][1];\n",
       "        var image = mpl.toolbar_items[toolbar_ind][2];\n",
       "        var method_name = mpl.toolbar_items[toolbar_ind][3];\n",
       "\n",
       "        if (!name) {\n",
       "            /* Instead of a spacer, we start a new button group. */\n",
       "            if (buttonGroup.hasChildNodes()) {\n",
       "                toolbar.appendChild(buttonGroup);\n",
       "            }\n",
       "            buttonGroup = document.createElement('div');\n",
       "            buttonGroup.classList = 'mpl-button-group';\n",
       "            continue;\n",
       "        }\n",
       "\n",
       "        var button = (fig.buttons[name] = document.createElement('button'));\n",
       "        button.classList = 'mpl-widget';\n",
       "        button.setAttribute('role', 'button');\n",
       "        button.setAttribute('aria-disabled', 'false');\n",
       "        button.addEventListener('click', on_click_closure(method_name));\n",
       "        button.addEventListener('mouseover', on_mouseover_closure(tooltip));\n",
       "\n",
       "        var icon_img = document.createElement('img');\n",
       "        icon_img.src = '_images/' + image + '.png';\n",
       "        icon_img.srcset = '_images/' + image + '_large.png 2x';\n",
       "        icon_img.alt = tooltip;\n",
       "        button.appendChild(icon_img);\n",
       "\n",
       "        buttonGroup.appendChild(button);\n",
       "    }\n",
       "\n",
       "    if (buttonGroup.hasChildNodes()) {\n",
       "        toolbar.appendChild(buttonGroup);\n",
       "    }\n",
       "\n",
       "    var fmt_picker = document.createElement('select');\n",
       "    fmt_picker.classList = 'mpl-widget';\n",
       "    toolbar.appendChild(fmt_picker);\n",
       "    this.format_dropdown = fmt_picker;\n",
       "\n",
       "    for (var ind in mpl.extensions) {\n",
       "        var fmt = mpl.extensions[ind];\n",
       "        var option = document.createElement('option');\n",
       "        option.selected = fmt === mpl.default_extension;\n",
       "        option.innerHTML = fmt;\n",
       "        fmt_picker.appendChild(option);\n",
       "    }\n",
       "\n",
       "    var status_bar = document.createElement('span');\n",
       "    status_bar.classList = 'mpl-message';\n",
       "    toolbar.appendChild(status_bar);\n",
       "    this.message = status_bar;\n",
       "};\n",
       "\n",
       "mpl.figure.prototype.request_resize = function (x_pixels, y_pixels) {\n",
       "    // Request matplotlib to resize the figure. Matplotlib will then trigger a resize in the client,\n",
       "    // which will in turn request a refresh of the image.\n",
       "    this.send_message('resize', { width: x_pixels, height: y_pixels });\n",
       "};\n",
       "\n",
       "mpl.figure.prototype.send_message = function (type, properties) {\n",
       "    properties['type'] = type;\n",
       "    properties['figure_id'] = this.id;\n",
       "    this.ws.send(JSON.stringify(properties));\n",
       "};\n",
       "\n",
       "mpl.figure.prototype.send_draw_message = function () {\n",
       "    if (!this.waiting) {\n",
       "        this.waiting = true;\n",
       "        this.ws.send(JSON.stringify({ type: 'draw', figure_id: this.id }));\n",
       "    }\n",
       "};\n",
       "\n",
       "mpl.figure.prototype.handle_save = function (fig, _msg) {\n",
       "    var format_dropdown = fig.format_dropdown;\n",
       "    var format = format_dropdown.options[format_dropdown.selectedIndex].value;\n",
       "    fig.ondownload(fig, format);\n",
       "};\n",
       "\n",
       "mpl.figure.prototype.handle_resize = function (fig, msg) {\n",
       "    var size = msg['size'];\n",
       "    if (size[0] !== fig.canvas.width || size[1] !== fig.canvas.height) {\n",
       "        fig._resize_canvas(size[0], size[1], msg['forward']);\n",
       "        fig.send_message('refresh', {});\n",
       "    }\n",
       "};\n",
       "\n",
       "mpl.figure.prototype.handle_rubberband = function (fig, msg) {\n",
       "    var x0 = msg['x0'] / fig.ratio;\n",
       "    var y0 = (fig.canvas.height - msg['y0']) / fig.ratio;\n",
       "    var x1 = msg['x1'] / fig.ratio;\n",
       "    var y1 = (fig.canvas.height - msg['y1']) / fig.ratio;\n",
       "    x0 = Math.floor(x0) + 0.5;\n",
       "    y0 = Math.floor(y0) + 0.5;\n",
       "    x1 = Math.floor(x1) + 0.5;\n",
       "    y1 = Math.floor(y1) + 0.5;\n",
       "    var min_x = Math.min(x0, x1);\n",
       "    var min_y = Math.min(y0, y1);\n",
       "    var width = Math.abs(x1 - x0);\n",
       "    var height = Math.abs(y1 - y0);\n",
       "\n",
       "    fig.rubberband_context.clearRect(\n",
       "        0,\n",
       "        0,\n",
       "        fig.canvas.width / fig.ratio,\n",
       "        fig.canvas.height / fig.ratio\n",
       "    );\n",
       "\n",
       "    fig.rubberband_context.strokeRect(min_x, min_y, width, height);\n",
       "};\n",
       "\n",
       "mpl.figure.prototype.handle_figure_label = function (fig, msg) {\n",
       "    // Updates the figure title.\n",
       "    fig.header.textContent = msg['label'];\n",
       "};\n",
       "\n",
       "mpl.figure.prototype.handle_cursor = function (fig, msg) {\n",
       "    var cursor = msg['cursor'];\n",
       "    switch (cursor) {\n",
       "        case 0:\n",
       "            cursor = 'pointer';\n",
       "            break;\n",
       "        case 1:\n",
       "            cursor = 'default';\n",
       "            break;\n",
       "        case 2:\n",
       "            cursor = 'crosshair';\n",
       "            break;\n",
       "        case 3:\n",
       "            cursor = 'move';\n",
       "            break;\n",
       "    }\n",
       "    fig.rubberband_canvas.style.cursor = cursor;\n",
       "};\n",
       "\n",
       "mpl.figure.prototype.handle_message = function (fig, msg) {\n",
       "    fig.message.textContent = msg['message'];\n",
       "};\n",
       "\n",
       "mpl.figure.prototype.handle_draw = function (fig, _msg) {\n",
       "    // Request the server to send over a new figure.\n",
       "    fig.send_draw_message();\n",
       "};\n",
       "\n",
       "mpl.figure.prototype.handle_image_mode = function (fig, msg) {\n",
       "    fig.image_mode = msg['mode'];\n",
       "};\n",
       "\n",
       "mpl.figure.prototype.handle_history_buttons = function (fig, msg) {\n",
       "    for (var key in msg) {\n",
       "        if (!(key in fig.buttons)) {\n",
       "            continue;\n",
       "        }\n",
       "        fig.buttons[key].disabled = !msg[key];\n",
       "        fig.buttons[key].setAttribute('aria-disabled', !msg[key]);\n",
       "    }\n",
       "};\n",
       "\n",
       "mpl.figure.prototype.handle_navigate_mode = function (fig, msg) {\n",
       "    if (msg['mode'] === 'PAN') {\n",
       "        fig.buttons['Pan'].classList.add('active');\n",
       "        fig.buttons['Zoom'].classList.remove('active');\n",
       "    } else if (msg['mode'] === 'ZOOM') {\n",
       "        fig.buttons['Pan'].classList.remove('active');\n",
       "        fig.buttons['Zoom'].classList.add('active');\n",
       "    } else {\n",
       "        fig.buttons['Pan'].classList.remove('active');\n",
       "        fig.buttons['Zoom'].classList.remove('active');\n",
       "    }\n",
       "};\n",
       "\n",
       "mpl.figure.prototype.updated_canvas_event = function () {\n",
       "    // Called whenever the canvas gets updated.\n",
       "    this.send_message('ack', {});\n",
       "};\n",
       "\n",
       "// A function to construct a web socket function for onmessage handling.\n",
       "// Called in the figure constructor.\n",
       "mpl.figure.prototype._make_on_message_function = function (fig) {\n",
       "    return function socket_on_message(evt) {\n",
       "        if (evt.data instanceof Blob) {\n",
       "            var img = evt.data;\n",
       "            if (img.type !== 'image/png') {\n",
       "                /* FIXME: We get \"Resource interpreted as Image but\n",
       "                 * transferred with MIME type text/plain:\" errors on\n",
       "                 * Chrome.  But how to set the MIME type?  It doesn't seem\n",
       "                 * to be part of the websocket stream */\n",
       "                img.type = 'image/png';\n",
       "            }\n",
       "\n",
       "            /* Free the memory for the previous frames */\n",
       "            if (fig.imageObj.src) {\n",
       "                (window.URL || window.webkitURL).revokeObjectURL(\n",
       "                    fig.imageObj.src\n",
       "                );\n",
       "            }\n",
       "\n",
       "            fig.imageObj.src = (window.URL || window.webkitURL).createObjectURL(\n",
       "                img\n",
       "            );\n",
       "            fig.updated_canvas_event();\n",
       "            fig.waiting = false;\n",
       "            return;\n",
       "        } else if (\n",
       "            typeof evt.data === 'string' &&\n",
       "            evt.data.slice(0, 21) === 'data:image/png;base64'\n",
       "        ) {\n",
       "            fig.imageObj.src = evt.data;\n",
       "            fig.updated_canvas_event();\n",
       "            fig.waiting = false;\n",
       "            return;\n",
       "        }\n",
       "\n",
       "        var msg = JSON.parse(evt.data);\n",
       "        var msg_type = msg['type'];\n",
       "\n",
       "        // Call the  \"handle_{type}\" callback, which takes\n",
       "        // the figure and JSON message as its only arguments.\n",
       "        try {\n",
       "            var callback = fig['handle_' + msg_type];\n",
       "        } catch (e) {\n",
       "            console.log(\n",
       "                \"No handler for the '\" + msg_type + \"' message type: \",\n",
       "                msg\n",
       "            );\n",
       "            return;\n",
       "        }\n",
       "\n",
       "        if (callback) {\n",
       "            try {\n",
       "                // console.log(\"Handling '\" + msg_type + \"' message: \", msg);\n",
       "                callback(fig, msg);\n",
       "            } catch (e) {\n",
       "                console.log(\n",
       "                    \"Exception inside the 'handler_\" + msg_type + \"' callback:\",\n",
       "                    e,\n",
       "                    e.stack,\n",
       "                    msg\n",
       "                );\n",
       "            }\n",
       "        }\n",
       "    };\n",
       "};\n",
       "\n",
       "// from http://stackoverflow.com/questions/1114465/getting-mouse-location-in-canvas\n",
       "mpl.findpos = function (e) {\n",
       "    //this section is from http://www.quirksmode.org/js/events_properties.html\n",
       "    var targ;\n",
       "    if (!e) {\n",
       "        e = window.event;\n",
       "    }\n",
       "    if (e.target) {\n",
       "        targ = e.target;\n",
       "    } else if (e.srcElement) {\n",
       "        targ = e.srcElement;\n",
       "    }\n",
       "    if (targ.nodeType === 3) {\n",
       "        // defeat Safari bug\n",
       "        targ = targ.parentNode;\n",
       "    }\n",
       "\n",
       "    // pageX,Y are the mouse positions relative to the document\n",
       "    var boundingRect = targ.getBoundingClientRect();\n",
       "    var x = e.pageX - (boundingRect.left + document.body.scrollLeft);\n",
       "    var y = e.pageY - (boundingRect.top + document.body.scrollTop);\n",
       "\n",
       "    return { x: x, y: y };\n",
       "};\n",
       "\n",
       "/*\n",
       " * return a copy of an object with only non-object keys\n",
       " * we need this to avoid circular references\n",
       " * http://stackoverflow.com/a/24161582/3208463\n",
       " */\n",
       "function simpleKeys(original) {\n",
       "    return Object.keys(original).reduce(function (obj, key) {\n",
       "        if (typeof original[key] !== 'object') {\n",
       "            obj[key] = original[key];\n",
       "        }\n",
       "        return obj;\n",
       "    }, {});\n",
       "}\n",
       "\n",
       "mpl.figure.prototype.mouse_event = function (event, name) {\n",
       "    var canvas_pos = mpl.findpos(event);\n",
       "\n",
       "    if (name === 'button_press') {\n",
       "        this.canvas.focus();\n",
       "        this.canvas_div.focus();\n",
       "    }\n",
       "\n",
       "    var x = canvas_pos.x * this.ratio;\n",
       "    var y = canvas_pos.y * this.ratio;\n",
       "\n",
       "    this.send_message(name, {\n",
       "        x: x,\n",
       "        y: y,\n",
       "        button: event.button,\n",
       "        step: event.step,\n",
       "        guiEvent: simpleKeys(event),\n",
       "    });\n",
       "\n",
       "    /* This prevents the web browser from automatically changing to\n",
       "     * the text insertion cursor when the button is pressed.  We want\n",
       "     * to control all of the cursor setting manually through the\n",
       "     * 'cursor' event from matplotlib */\n",
       "    event.preventDefault();\n",
       "    return false;\n",
       "};\n",
       "\n",
       "mpl.figure.prototype._key_event_extra = function (_event, _name) {\n",
       "    // Handle any extra behaviour associated with a key event\n",
       "};\n",
       "\n",
       "mpl.figure.prototype.key_event = function (event, name) {\n",
       "    // Prevent repeat events\n",
       "    if (name === 'key_press') {\n",
       "        if (event.key === this._key) {\n",
       "            return;\n",
       "        } else {\n",
       "            this._key = event.key;\n",
       "        }\n",
       "    }\n",
       "    if (name === 'key_release') {\n",
       "        this._key = null;\n",
       "    }\n",
       "\n",
       "    var value = '';\n",
       "    if (event.ctrlKey && event.key !== 'Control') {\n",
       "        value += 'ctrl+';\n",
       "    }\n",
       "    else if (event.altKey && event.key !== 'Alt') {\n",
       "        value += 'alt+';\n",
       "    }\n",
       "    else if (event.shiftKey && event.key !== 'Shift') {\n",
       "        value += 'shift+';\n",
       "    }\n",
       "\n",
       "    value += 'k' + event.key;\n",
       "\n",
       "    this._key_event_extra(event, name);\n",
       "\n",
       "    this.send_message(name, { key: value, guiEvent: simpleKeys(event) });\n",
       "    return false;\n",
       "};\n",
       "\n",
       "mpl.figure.prototype.toolbar_button_onclick = function (name) {\n",
       "    if (name === 'download') {\n",
       "        this.handle_save(this, null);\n",
       "    } else {\n",
       "        this.send_message('toolbar_button', { name: name });\n",
       "    }\n",
       "};\n",
       "\n",
       "mpl.figure.prototype.toolbar_button_onmouseover = function (tooltip) {\n",
       "    this.message.textContent = tooltip;\n",
       "};\n",
       "\n",
       "///////////////// REMAINING CONTENT GENERATED BY embed_js.py /////////////////\n",
       "// prettier-ignore\n",
       "var _JSXTOOLS_RESIZE_OBSERVER=function(A){var t,i=new WeakMap,n=new WeakMap,a=new WeakMap,r=new WeakMap,o=new Set;function s(e){if(!(this instanceof s))throw new TypeError(\"Constructor requires 'new' operator\");i.set(this,e)}function h(){throw new TypeError(\"Function is not a constructor\")}function c(e,t,i,n){e=0 in arguments?Number(arguments[0]):0,t=1 in arguments?Number(arguments[1]):0,i=2 in arguments?Number(arguments[2]):0,n=3 in arguments?Number(arguments[3]):0,this.right=(this.x=this.left=e)+(this.width=i),this.bottom=(this.y=this.top=t)+(this.height=n),Object.freeze(this)}function d(){t=requestAnimationFrame(d);var s=new WeakMap,p=new Set;o.forEach((function(t){r.get(t).forEach((function(i){var r=t instanceof window.SVGElement,o=a.get(t),d=r?0:parseFloat(o.paddingTop),f=r?0:parseFloat(o.paddingRight),l=r?0:parseFloat(o.paddingBottom),u=r?0:parseFloat(o.paddingLeft),g=r?0:parseFloat(o.borderTopWidth),m=r?0:parseFloat(o.borderRightWidth),w=r?0:parseFloat(o.borderBottomWidth),b=u+f,F=d+l,v=(r?0:parseFloat(o.borderLeftWidth))+m,W=g+w,y=r?0:t.offsetHeight-W-t.clientHeight,E=r?0:t.offsetWidth-v-t.clientWidth,R=b+v,z=F+W,M=r?t.width:parseFloat(o.width)-R-E,O=r?t.height:parseFloat(o.height)-z-y;if(n.has(t)){var k=n.get(t);if(k[0]===M&&k[1]===O)return}n.set(t,[M,O]);var S=Object.create(h.prototype);S.target=t,S.contentRect=new c(u,d,M,O),s.has(i)||(s.set(i,[]),p.add(i)),s.get(i).push(S)}))})),p.forEach((function(e){i.get(e).call(e,s.get(e),e)}))}return s.prototype.observe=function(i){if(i instanceof window.Element){r.has(i)||(r.set(i,new Set),o.add(i),a.set(i,window.getComputedStyle(i)));var n=r.get(i);n.has(this)||n.add(this),cancelAnimationFrame(t),t=requestAnimationFrame(d)}},s.prototype.unobserve=function(i){if(i instanceof window.Element&&r.has(i)){var n=r.get(i);n.has(this)&&(n.delete(this),n.size||(r.delete(i),o.delete(i))),n.size||r.delete(i),o.size||cancelAnimationFrame(t)}},A.DOMRectReadOnly=c,A.ResizeObserver=s,A.ResizeObserverEntry=h,A}; // eslint-disable-line\n",
       "mpl.toolbar_items = [[\"Home\", \"Reset original view\", \"fa fa-home icon-home\", \"home\"], [\"Back\", \"Back to previous view\", \"fa fa-arrow-left icon-arrow-left\", \"back\"], [\"Forward\", \"Forward to next view\", \"fa fa-arrow-right icon-arrow-right\", \"forward\"], [\"\", \"\", \"\", \"\"], [\"Pan\", \"Left button pans, Right button zooms\\nx/y fixes axis, CTRL fixes aspect\", \"fa fa-arrows icon-move\", \"pan\"], [\"Zoom\", \"Zoom to rectangle\\nx/y fixes axis, CTRL fixes aspect\", \"fa fa-square-o icon-check-empty\", \"zoom\"], [\"\", \"\", \"\", \"\"], [\"Download\", \"Download plot\", \"fa fa-floppy-o icon-save\", \"download\"]];\n",
       "\n",
       "mpl.extensions = [\"eps\", \"jpeg\", \"pgf\", \"pdf\", \"png\", \"ps\", \"raw\", \"svg\", \"tif\"];\n",
       "\n",
       "mpl.default_extension = \"png\";/* global mpl */\n",
       "\n",
       "var comm_websocket_adapter = function (comm) {\n",
       "    // Create a \"websocket\"-like object which calls the given IPython comm\n",
       "    // object with the appropriate methods. Currently this is a non binary\n",
       "    // socket, so there is still some room for performance tuning.\n",
       "    var ws = {};\n",
       "\n",
       "    ws.binaryType = comm.kernel.ws.binaryType;\n",
       "    ws.readyState = comm.kernel.ws.readyState;\n",
       "    function updateReadyState(_event) {\n",
       "        if (comm.kernel.ws) {\n",
       "            ws.readyState = comm.kernel.ws.readyState;\n",
       "        } else {\n",
       "            ws.readyState = 3; // Closed state.\n",
       "        }\n",
       "    }\n",
       "    comm.kernel.ws.addEventListener('open', updateReadyState);\n",
       "    comm.kernel.ws.addEventListener('close', updateReadyState);\n",
       "    comm.kernel.ws.addEventListener('error', updateReadyState);\n",
       "\n",
       "    ws.close = function () {\n",
       "        comm.close();\n",
       "    };\n",
       "    ws.send = function (m) {\n",
       "        //console.log('sending', m);\n",
       "        comm.send(m);\n",
       "    };\n",
       "    // Register the callback with on_msg.\n",
       "    comm.on_msg(function (msg) {\n",
       "        //console.log('receiving', msg['content']['data'], msg);\n",
       "        var data = msg['content']['data'];\n",
       "        if (data['blob'] !== undefined) {\n",
       "            data = {\n",
       "                data: new Blob(msg['buffers'], { type: data['blob'] }),\n",
       "            };\n",
       "        }\n",
       "        // Pass the mpl event to the overridden (by mpl) onmessage function.\n",
       "        ws.onmessage(data);\n",
       "    });\n",
       "    return ws;\n",
       "};\n",
       "\n",
       "mpl.mpl_figure_comm = function (comm, msg) {\n",
       "    // This is the function which gets called when the mpl process\n",
       "    // starts-up an IPython Comm through the \"matplotlib\" channel.\n",
       "\n",
       "    var id = msg.content.data.id;\n",
       "    // Get hold of the div created by the display call when the Comm\n",
       "    // socket was opened in Python.\n",
       "    var element = document.getElementById(id);\n",
       "    var ws_proxy = comm_websocket_adapter(comm);\n",
       "\n",
       "    function ondownload(figure, _format) {\n",
       "        window.open(figure.canvas.toDataURL());\n",
       "    }\n",
       "\n",
       "    var fig = new mpl.figure(id, ws_proxy, ondownload, element);\n",
       "\n",
       "    // Call onopen now - mpl needs it, as it is assuming we've passed it a real\n",
       "    // web socket which is closed, not our websocket->open comm proxy.\n",
       "    ws_proxy.onopen();\n",
       "\n",
       "    fig.parent_element = element;\n",
       "    fig.cell_info = mpl.find_output_cell(\"<div id='\" + id + \"'></div>\");\n",
       "    if (!fig.cell_info) {\n",
       "        console.error('Failed to find cell for figure', id, fig);\n",
       "        return;\n",
       "    }\n",
       "    fig.cell_info[0].output_area.element.on(\n",
       "        'cleared',\n",
       "        { fig: fig },\n",
       "        fig._remove_fig_handler\n",
       "    );\n",
       "};\n",
       "\n",
       "mpl.figure.prototype.handle_close = function (fig, msg) {\n",
       "    var width = fig.canvas.width / fig.ratio;\n",
       "    fig.cell_info[0].output_area.element.off(\n",
       "        'cleared',\n",
       "        fig._remove_fig_handler\n",
       "    );\n",
       "    fig.resizeObserverInstance.unobserve(fig.canvas_div);\n",
       "\n",
       "    // Update the output cell to use the data from the current canvas.\n",
       "    fig.push_to_output();\n",
       "    var dataURL = fig.canvas.toDataURL();\n",
       "    // Re-enable the keyboard manager in IPython - without this line, in FF,\n",
       "    // the notebook keyboard shortcuts fail.\n",
       "    IPython.keyboard_manager.enable();\n",
       "    fig.parent_element.innerHTML =\n",
       "        '<img src=\"' + dataURL + '\" width=\"' + width + '\">';\n",
       "    fig.close_ws(fig, msg);\n",
       "};\n",
       "\n",
       "mpl.figure.prototype.close_ws = function (fig, msg) {\n",
       "    fig.send_message('closing', msg);\n",
       "    // fig.ws.close()\n",
       "};\n",
       "\n",
       "mpl.figure.prototype.push_to_output = function (_remove_interactive) {\n",
       "    // Turn the data on the canvas into data in the output cell.\n",
       "    var width = this.canvas.width / this.ratio;\n",
       "    var dataURL = this.canvas.toDataURL();\n",
       "    this.cell_info[1]['text/html'] =\n",
       "        '<img src=\"' + dataURL + '\" width=\"' + width + '\">';\n",
       "};\n",
       "\n",
       "mpl.figure.prototype.updated_canvas_event = function () {\n",
       "    // Tell IPython that the notebook contents must change.\n",
       "    IPython.notebook.set_dirty(true);\n",
       "    this.send_message('ack', {});\n",
       "    var fig = this;\n",
       "    // Wait a second, then push the new image to the DOM so\n",
       "    // that it is saved nicely (might be nice to debounce this).\n",
       "    setTimeout(function () {\n",
       "        fig.push_to_output();\n",
       "    }, 1000);\n",
       "};\n",
       "\n",
       "mpl.figure.prototype._init_toolbar = function () {\n",
       "    var fig = this;\n",
       "\n",
       "    var toolbar = document.createElement('div');\n",
       "    toolbar.classList = 'btn-toolbar';\n",
       "    this.root.appendChild(toolbar);\n",
       "\n",
       "    function on_click_closure(name) {\n",
       "        return function (_event) {\n",
       "            return fig.toolbar_button_onclick(name);\n",
       "        };\n",
       "    }\n",
       "\n",
       "    function on_mouseover_closure(tooltip) {\n",
       "        return function (event) {\n",
       "            if (!event.currentTarget.disabled) {\n",
       "                return fig.toolbar_button_onmouseover(tooltip);\n",
       "            }\n",
       "        };\n",
       "    }\n",
       "\n",
       "    fig.buttons = {};\n",
       "    var buttonGroup = document.createElement('div');\n",
       "    buttonGroup.classList = 'btn-group';\n",
       "    var button;\n",
       "    for (var toolbar_ind in mpl.toolbar_items) {\n",
       "        var name = mpl.toolbar_items[toolbar_ind][0];\n",
       "        var tooltip = mpl.toolbar_items[toolbar_ind][1];\n",
       "        var image = mpl.toolbar_items[toolbar_ind][2];\n",
       "        var method_name = mpl.toolbar_items[toolbar_ind][3];\n",
       "\n",
       "        if (!name) {\n",
       "            /* Instead of a spacer, we start a new button group. */\n",
       "            if (buttonGroup.hasChildNodes()) {\n",
       "                toolbar.appendChild(buttonGroup);\n",
       "            }\n",
       "            buttonGroup = document.createElement('div');\n",
       "            buttonGroup.classList = 'btn-group';\n",
       "            continue;\n",
       "        }\n",
       "\n",
       "        button = fig.buttons[name] = document.createElement('button');\n",
       "        button.classList = 'btn btn-default';\n",
       "        button.href = '#';\n",
       "        button.title = name;\n",
       "        button.innerHTML = '<i class=\"fa ' + image + ' fa-lg\"></i>';\n",
       "        button.addEventListener('click', on_click_closure(method_name));\n",
       "        button.addEventListener('mouseover', on_mouseover_closure(tooltip));\n",
       "        buttonGroup.appendChild(button);\n",
       "    }\n",
       "\n",
       "    if (buttonGroup.hasChildNodes()) {\n",
       "        toolbar.appendChild(buttonGroup);\n",
       "    }\n",
       "\n",
       "    // Add the status bar.\n",
       "    var status_bar = document.createElement('span');\n",
       "    status_bar.classList = 'mpl-message pull-right';\n",
       "    toolbar.appendChild(status_bar);\n",
       "    this.message = status_bar;\n",
       "\n",
       "    // Add the close button to the window.\n",
       "    var buttongrp = document.createElement('div');\n",
       "    buttongrp.classList = 'btn-group inline pull-right';\n",
       "    button = document.createElement('button');\n",
       "    button.classList = 'btn btn-mini btn-primary';\n",
       "    button.href = '#';\n",
       "    button.title = 'Stop Interaction';\n",
       "    button.innerHTML = '<i class=\"fa fa-power-off icon-remove icon-large\"></i>';\n",
       "    button.addEventListener('click', function (_evt) {\n",
       "        fig.handle_close(fig, {});\n",
       "    });\n",
       "    button.addEventListener(\n",
       "        'mouseover',\n",
       "        on_mouseover_closure('Stop Interaction')\n",
       "    );\n",
       "    buttongrp.appendChild(button);\n",
       "    var titlebar = this.root.querySelector('.ui-dialog-titlebar');\n",
       "    titlebar.insertBefore(buttongrp, titlebar.firstChild);\n",
       "};\n",
       "\n",
       "mpl.figure.prototype._remove_fig_handler = function (event) {\n",
       "    var fig = event.data.fig;\n",
       "    if (event.target !== this) {\n",
       "        // Ignore bubbled events from children.\n",
       "        return;\n",
       "    }\n",
       "    fig.close_ws(fig, {});\n",
       "};\n",
       "\n",
       "mpl.figure.prototype._root_extra_style = function (el) {\n",
       "    el.style.boxSizing = 'content-box'; // override notebook setting of border-box.\n",
       "};\n",
       "\n",
       "mpl.figure.prototype._canvas_extra_style = function (el) {\n",
       "    // this is important to make the div 'focusable\n",
       "    el.setAttribute('tabindex', 0);\n",
       "    // reach out to IPython and tell the keyboard manager to turn it's self\n",
       "    // off when our div gets focus\n",
       "\n",
       "    // location in version 3\n",
       "    if (IPython.notebook.keyboard_manager) {\n",
       "        IPython.notebook.keyboard_manager.register_events(el);\n",
       "    } else {\n",
       "        // location in version 2\n",
       "        IPython.keyboard_manager.register_events(el);\n",
       "    }\n",
       "};\n",
       "\n",
       "mpl.figure.prototype._key_event_extra = function (event, _name) {\n",
       "    var manager = IPython.notebook.keyboard_manager;\n",
       "    if (!manager) {\n",
       "        manager = IPython.keyboard_manager;\n",
       "    }\n",
       "\n",
       "    // Check for shift+enter\n",
       "    if (event.shiftKey && event.which === 13) {\n",
       "        this.canvas_div.blur();\n",
       "        // select the cell after this one\n",
       "        var index = IPython.notebook.find_cell_index(this.cell_info[0]);\n",
       "        IPython.notebook.select(index + 1);\n",
       "    }\n",
       "};\n",
       "\n",
       "mpl.figure.prototype.handle_save = function (fig, _msg) {\n",
       "    fig.ondownload(fig, null);\n",
       "};\n",
       "\n",
       "mpl.find_output_cell = function (html_output) {\n",
       "    // Return the cell and output element which can be found *uniquely* in the notebook.\n",
       "    // Note - this is a bit hacky, but it is done because the \"notebook_saving.Notebook\"\n",
       "    // IPython event is triggered only after the cells have been serialised, which for\n",
       "    // our purposes (turning an active figure into a static one), is too late.\n",
       "    var cells = IPython.notebook.get_cells();\n",
       "    var ncells = cells.length;\n",
       "    for (var i = 0; i < ncells; i++) {\n",
       "        var cell = cells[i];\n",
       "        if (cell.cell_type === 'code') {\n",
       "            for (var j = 0; j < cell.output_area.outputs.length; j++) {\n",
       "                var data = cell.output_area.outputs[j];\n",
       "                if (data.data) {\n",
       "                    // IPython >= 3 moved mimebundle to data attribute of output\n",
       "                    data = data.data;\n",
       "                }\n",
       "                if (data['text/html'] === html_output) {\n",
       "                    return [cell, data, j];\n",
       "                }\n",
       "            }\n",
       "        }\n",
       "    }\n",
       "};\n",
       "\n",
       "// Register the function which deals with the matplotlib target/channel.\n",
       "// The kernel may be null if the page has been refreshed.\n",
       "if (IPython.notebook.kernel !== null) {\n",
       "    IPython.notebook.kernel.comm_manager.register_target(\n",
       "        'matplotlib',\n",
       "        mpl.mpl_figure_comm\n",
       "    );\n",
       "}\n"
      ],
      "text/plain": [
       "<IPython.core.display.Javascript object>"
      ]
     },
     "metadata": {},
     "output_type": "display_data"
    },
    {
     "data": {
      "text/html": [
       "<img src=\"data:image/png;base64,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\" width=\"400\">"
      ],
      "text/plain": [
       "<IPython.core.display.HTML object>"
      ]
     },
     "metadata": {},
     "output_type": "display_data"
    }
   ],
   "source": [
    "%matplotlib notebook\n",
    "plt.style.use('dark_background')\n",
    "_vis = ia.visual_tools.imshow_mark_3d_v2([_dna_dapi, _rna_dapi, _rot_dna_dapi], \n",
    "                                         #min_max_default=[10000,50000], \n",
    "                                         image_names=['DNA DAPI', 'RNA DAPI', 'Rotated DNA DAPI'])\n",
    "#_vis.f.savefig(os.path.join(segmentation_folder, 'test_dna_dapi.png'), transparent=True)"
   ]
  },
  {
   "cell_type": "markdown",
   "id": "b784a1c6",
   "metadata": {},
   "source": [
    "## 1.5 batch run translation"
   ]
  },
  {
   "cell_type": "code",
   "execution_count": 16,
   "id": "c61a28c9",
   "metadata": {},
   "outputs": [
    {
     "name": "stdout",
     "output_type": "stream",
     "text": [
      "- Start multiprocessing segmentation alignment finish in 2404.419s. \n",
      "Wall time: 40min 4s\n"
     ]
    }
   ],
   "source": [
    "%%time\n",
    "from ImageAnalysis3.segmentation_tools.cell import _batch_align_segmentation\n",
    "# Multiprocessing\n",
    "print(f\"- Start multiprocessing segmentation alignment\", end=' ')\n",
    "_start_time = time.time()\n",
    "with mp.Pool(12) as _seg_pool: # 6 cores recommended because of RAM comsumption\n",
    "    # start multiprocessing\n",
    "    _seg_pool.starmap(_batch_align_segmentation, _seg_align_args, chunksize=1)\n",
    "    # close multiprocessing\n",
    "    _seg_pool.close()\n",
    "    _seg_pool.join()\n",
    "    _seg_pool.terminate()\n",
    "print(f\"finish in {time.time()-_start_time:.3f}s. \")"
   ]
  },
  {
   "cell_type": "markdown",
   "id": "14b41b6b",
   "metadata": {},
   "source": [
    "### 1.5.2 non-parallel version"
   ]
  },
  {
   "cell_type": "code",
   "execution_count": 73,
   "id": "19fae294",
   "metadata": {},
   "outputs": [
    {
     "data": {
      "text/plain": [
       "<module 'ImageAnalysis3.segmentation_tools.cell' from 'E:\\\\Users\\\\puzheng\\\\Documents\\\\ImageAnalysis3\\\\segmentation_tools\\\\cell.py'>"
      ]
     },
     "execution_count": 73,
     "metadata": {},
     "output_type": "execute_result"
    }
   ],
   "source": [
    "reload(ia.segmentation_tools.cell)"
   ]
  },
  {
   "cell_type": "code",
   "execution_count": null,
   "id": "cafc27b8",
   "metadata": {},
   "outputs": [],
   "source": [
    "%matplotlib inline\n",
    "reload(ia.segmentation_tools.cell)\n",
    "reload(correction_tools.alignment)\n",
    "from ImageAnalysis3.segmentation_tools.cell import _batch_align_segmentation\n",
    "for _args in _seg_align_args:\n",
    "    _outputs = _batch_align_segmentation(*_args)"
   ]
  },
  {
   "cell_type": "code",
   "execution_count": null,
   "id": "f99da0a0",
   "metadata": {},
   "outputs": [],
   "source": []
  }
 ],
 "metadata": {
  "kernelspec": {
   "display_name": "ia3_postanalysis",
   "language": "python",
   "name": "ia3_postanalysis"
  },
  "language_info": {
   "codemirror_mode": {
    "name": "ipython",
    "version": 3
   },
   "file_extension": ".py",
   "mimetype": "text/x-python",
   "name": "python",
   "nbconvert_exporter": "python",
   "pygments_lexer": "ipython3",
   "version": "3.9.7"
  }
 },
 "nbformat": 4,
 "nbformat_minor": 5
}
