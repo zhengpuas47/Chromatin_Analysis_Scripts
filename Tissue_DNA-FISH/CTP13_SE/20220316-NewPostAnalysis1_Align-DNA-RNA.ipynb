{
 "cells": [
  {
   "cell_type": "markdown",
   "id": "adae19b9",
   "metadata": {},
   "source": [
    "# Analysis of DNA-MERFISH for CTP11,12,13\n",
    "\n",
    "by Pu Zheng\n",
    "\n",
    "2022.07.07\n",
    "\n",
    "analysis for dataset:\n",
    "\n",
    "dna_data_folder = r'\\\\10.245.74.158\\Chromatin_NAS_4\\20220316-P_brain_CTP11-12-13_from_0304'\n",
    "\n",
    "rna_data_folder = r'\\\\10.245.74.158\\Chromatin_NAS_0\\20220304-P_brain_M1_nonclear_adaptors'\n",
    "\n",
    "save_folder = r'\\\\10.245.74.158\\Chromatin_NAS_8\\Analyzed_data\\20220316-P_brain_CTP11-12-13_from_0304'"
   ]
  },
  {
   "cell_type": "code",
   "execution_count": 2,
   "id": "eab9ec2f",
   "metadata": {},
   "outputs": [
    {
     "name": "stdout",
     "output_type": "stream",
     "text": [
      "42836\n"
     ]
    }
   ],
   "source": [
    "%run \"..\\..\\Startup_py3.py\"\n",
    "sys.path.append(r\"..\\..\\..\\..\\Documents\")\n",
    "\n",
    "import ImageAnalysis3 as ia\n",
    "%matplotlib notebook\n",
    "\n",
    "from ImageAnalysis3 import *\n",
    "print(os.getpid())\n",
    "\n",
    "import h5py\n",
    "from ImageAnalysis3.classes import _allowed_kwds\n",
    "import ast"
   ]
  },
  {
   "cell_type": "markdown",
   "id": "1a88aef2",
   "metadata": {},
   "source": [
    "## 0.1 Folders"
   ]
  },
  {
   "cell_type": "code",
   "execution_count": 3,
   "id": "ff01699a",
   "metadata": {},
   "outputs": [
    {
     "name": "stdout",
     "output_type": "stream",
     "text": [
      "168 fovs detected\n",
      "Creating segmentation_folder: \\\\10.245.74.158\\Chromatin_NAS_8\\Analyzed_data\\20220316-P_brain_CTP11-12-13_from_0304\\Analysis_0706\\Segmentation\n",
      "Creating cand_spot_folder: \\\\10.245.74.158\\Chromatin_NAS_8\\Analyzed_data\\20220316-P_brain_CTP11-12-13_from_0304\\Analysis_0706\\CandSpots\n",
      "Creating decoder_folder: \\\\10.245.74.158\\Chromatin_NAS_8\\Analyzed_data\\20220316-P_brain_CTP11-12-13_from_0304\\Analysis_0706\\Decoder\n"
     ]
    }
   ],
   "source": [
    "save_folder = r'\\\\10.245.74.158\\Chromatin_NAS_8\\Analyzed_data\\20220316-P_brain_CTP11-12-13_from_0304'\n",
    "save_filenames = [os.path.join(save_folder, _fl) for _fl in os.listdir(save_folder)\n",
    "                  if _fl.split(os.extsep)[-1]=='hdf5']\n",
    "# extract fov_id\n",
    "save_fov_ids = [int(os.path.basename(_fl).split('.hdf5')[0].split('_')[-1]) for _fl in save_filenames]\n",
    "\n",
    "debug = False\n",
    "\n",
    "print(f\"{len(save_filenames)} fovs detected\")\n",
    "\n",
    "analysis_folder = os.path.join(save_folder, 'Analysis_0706')\n",
    "\n",
    "segmentation_folder = os.path.join(analysis_folder, 'Segmentation')\n",
    "if not os.path.exists(segmentation_folder):\n",
    "    os.makedirs(segmentation_folder)\n",
    "    print(f\"Creating segmentation_folder: {segmentation_folder}\")\n",
    "else:\n",
    "    print(f\"Use segmentation_folder: {segmentation_folder}\")\n",
    "\n",
    "cand_spot_folder = os.path.join(analysis_folder, 'CandSpots')\n",
    "if not os.path.exists(cand_spot_folder):\n",
    "    os.makedirs(cand_spot_folder)\n",
    "    print(f\"Creating cand_spot_folder: {cand_spot_folder}\")\n",
    "else:\n",
    "    print(f\"Use cand_spot_folder: {cand_spot_folder}\")\n",
    "\n",
    "decoder_folder = cand_spot_folder.replace('CandSpots', 'Decoder')\n",
    "if debug:\n",
    "    _version = 0\n",
    "    while os.path.exists(os.path.join(decoder_folder, f'v{_version}')):\n",
    "        _version += 1\n",
    "    decoder_folder = os.path.join(decoder_folder, f'v{_version}')\n",
    "if not os.path.exists(decoder_folder):\n",
    "    os.makedirs(decoder_folder)\n",
    "    print(f\"Creating decoder_folder: {decoder_folder}\")\n",
    "else:\n",
    "    print(f\"Use decoder_folder: {decoder_folder}\")"
   ]
  },
  {
   "cell_type": "code",
   "execution_count": 4,
   "id": "3e4bd6e8",
   "metadata": {},
   "outputs": [],
   "source": [
    "pixel_sizes = np.array([250,108,108])\n",
    "single_im_size = np.array([50,2048,2048])"
   ]
  },
  {
   "cell_type": "markdown",
   "id": "6892fe61",
   "metadata": {},
   "source": [
    "# 1. Translate segmentation"
   ]
  },
  {
   "cell_type": "markdown",
   "id": "e5c3c625",
   "metadata": {},
   "source": [
    "## 1.1 load rotation"
   ]
  },
  {
   "cell_type": "code",
   "execution_count": 6,
   "id": "cdb21adf",
   "metadata": {},
   "outputs": [
    {
     "name": "stdout",
     "output_type": "stream",
     "text": [
      "\\\\10.245.74.158\\Chromatin_NAS_0\\20220304-P_brain_M1_nonclear_adaptors\\Alignment\\10x_positions_before.txt \n",
      " \\\\10.245.74.158\\Chromatin_NAS_4\\20220316-P_brain_CTP11-12-13_from_0304\\Alignment\\10x_positions_after.txt\n",
      "True True\n",
      "- Manually picked points aligned, rotation:\n",
      "[[ 0.99997433 -0.00716481]\n",
      " [ 0.00716481  0.99997433]],\n",
      " translation:[-238.54348979 -722.53301093]\n",
      "-- rotation matrix saved to file:\\\\10.245.74.158\\Chromatin_NAS_8\\Analyzed_data\\20220316-P_brain_CTP11-12-13_from_0304\\rotation\n",
      "-- translation matrix saved to file:\\\\10.245.74.158\\Chromatin_NAS_8\\Analyzed_data\\20220316-P_brain_CTP11-12-13_from_0304\\translation\n"
     ]
    }
   ],
   "source": [
    "# generate alignment\n",
    "dna_data_folder = r'\\\\10.245.74.158\\Chromatin_NAS_4\\20220316-P_brain_CTP11-12-13_from_0304'\n",
    "rna_data_folder = r'\\\\10.245.74.158\\Chromatin_NAS_0\\20220304-P_brain_M1_nonclear_adaptors'\n",
    "\n",
    "rna_alignment_file = os.path.join(rna_data_folder, 'Alignment', '10x_positions_before.txt')\n",
    "dna_alignment_file = os.path.join(dna_data_folder, 'Alignment', '10x_positions_after.txt')\n",
    "print(rna_alignment_file, '\\n', dna_alignment_file)\n",
    "print(os.path.exists(rna_alignment_file), os.path.exists(dna_alignment_file))\n",
    "R, t = ia.correction_tools.alignment.align_manual_points(rna_alignment_file, dna_alignment_file,\n",
    "                                                         save_folder=save_folder)"
   ]
  },
  {
   "cell_type": "markdown",
   "id": "134608aa",
   "metadata": {},
   "source": [
    "# 1.2 save DAPI image for RNA"
   ]
  },
  {
   "cell_type": "code",
   "execution_count": 9,
   "id": "f535d80d",
   "metadata": {},
   "outputs": [
    {
     "name": "stdout",
     "output_type": "stream",
     "text": [
      "\\\\10.245.74.158\\Chromatin_NAS_8\\Analyzed_data\\20220316-P_brain_CTP11-12-13_from_0304\\Analysis_0706\\Merfish_DAPI\n"
     ]
    }
   ],
   "source": [
    "# MERFISH segmentation info\n",
    "merfish_segmentation_folder = r'\\\\10.245.74.158\\Chromatin_NAS_8\\MERFISH\\v2\\20220304-storm6_M1\\CellPoseSegment\\features'\n",
    "merfish_dapi_folder = os.path.join(analysis_folder, 'Merfish_DAPI')\n",
    "if not os.path.exists(merfish_dapi_folder):\n",
    "    print(merfish_dapi_folder)\n",
    "    os.makedirs(merfish_dapi_folder)"
   ]
  },
  {
   "cell_type": "code",
   "execution_count": 7,
   "id": "79ec969f",
   "metadata": {},
   "outputs": [
    {
     "name": "stdout",
     "output_type": "stream",
     "text": [
      "Get Folder Names: (ia.get_img_info.get_folders)\n",
      "- Number of folders: 11\n",
      "- Number of field of views: 168\n"
     ]
    }
   ],
   "source": [
    "from tqdm import tqdm\n",
    "rna_fds, rna_fovs = ia.io_tools.data.get_folders(rna_data_folder)\n",
    "ref_fd = rna_fds[0]"
   ]
  },
  {
   "cell_type": "code",
   "execution_count": 16,
   "id": "4c14549b",
   "metadata": {},
   "outputs": [
    {
     "data": {
      "text/plain": [
       "<module 'ImageAnalysis3.classes.preprocess' from 'E:\\\\Users\\\\puzheng\\\\Documents\\\\ImageAnalysis3\\\\classes\\\\preprocess.py'>"
      ]
     },
     "execution_count": 16,
     "metadata": {},
     "output_type": "execute_result"
    }
   ],
   "source": [
    "reload(ia.classes.preprocess)"
   ]
  },
  {
   "cell_type": "code",
   "execution_count": 17,
   "id": "7b0ac5e9",
   "metadata": {
    "scrolled": true
   },
   "outputs": [
    {
     "name": "stderr",
     "output_type": "stream",
     "text": [
      "\r",
      "  0%|                                                                                          | 0/168 [00:00<?, ?it/s]"
     ]
    },
    {
     "name": "stdout",
     "output_type": "stream",
     "text": [
      "Initialize DaxProcesser for file:\\\\10.245.74.158\\Chromatin_NAS_0\\20220304-P_brain_M1_nonclear_adaptors\\H0M1\\Conv_zscan_000.dax\n",
      "-- all used channels: ['750', '647', '561', '488', '405']\n",
      "-- single image size: [  50 2048 2048]\n",
      "- Loaded images for channels:['405'] in 5.642s.\n",
      "- Correct illumination for channels: ['405']\n",
      "-- Keep channels: ['405'] for corr_illumination.\n",
      "-- loading illumination correction profile from file:\n",
      "\t 405 illumination_correction_405_2048x2048.npy\n",
      "-- corrected illumination for channel 405 in 7.417s.\n",
      "- Finished illumination correction in 7.604s.\n"
     ]
    },
    {
     "name": "stderr",
     "output_type": "stream",
     "text": [
      "\r",
      "  1%|▍                                                                                 | 1/168 [00:14<40:48, 14.66s/it]"
     ]
    },
    {
     "name": "stdout",
     "output_type": "stream",
     "text": [
      "Initialize DaxProcesser for file:\\\\10.245.74.158\\Chromatin_NAS_0\\20220304-P_brain_M1_nonclear_adaptors\\H0M1\\Conv_zscan_001.dax\n",
      "-- all used channels: ['750', '647', '561', '488', '405']\n",
      "-- single image size: [  50 2048 2048]\n",
      "- Loaded images for channels:['405'] in 6.416s.\n",
      "- Correct illumination for channels: ['405']\n",
      "-- Keep channels: ['405'] for corr_illumination.\n",
      "-- loading illumination correction profile from file:\n",
      "\t 405 illumination_correction_405_2048x2048.npy\n",
      "-- corrected illumination for channel 405 in 7.236s.\n",
      "- Finished illumination correction in 7.320s.\n"
     ]
    },
    {
     "name": "stderr",
     "output_type": "stream",
     "text": [
      "\r",
      "  1%|▉                                                                                 | 2/168 [00:29<40:28, 14.63s/it]"
     ]
    },
    {
     "name": "stdout",
     "output_type": "stream",
     "text": [
      "Initialize DaxProcesser for file:\\\\10.245.74.158\\Chromatin_NAS_0\\20220304-P_brain_M1_nonclear_adaptors\\H0M1\\Conv_zscan_002.dax\n",
      "-- all used channels: ['750', '647', '561', '488', '405']\n",
      "-- single image size: [  50 2048 2048]\n",
      "- Loaded images for channels:['405'] in 6.692s.\n",
      "- Correct illumination for channels: ['405']\n",
      "-- Keep channels: ['405'] for corr_illumination.\n",
      "-- loading illumination correction profile from file:\n",
      "\t 405 illumination_correction_405_2048x2048.npy\n",
      "-- corrected illumination for channel 405 in 7.344s.\n",
      "- Finished illumination correction in 7.445s.\n"
     ]
    },
    {
     "name": "stderr",
     "output_type": "stream",
     "text": [
      "\r",
      "  2%|█▍                                                                                | 3/168 [00:44<40:38, 14.78s/it]"
     ]
    },
    {
     "name": "stdout",
     "output_type": "stream",
     "text": [
      "Initialize DaxProcesser for file:\\\\10.245.74.158\\Chromatin_NAS_0\\20220304-P_brain_M1_nonclear_adaptors\\H0M1\\Conv_zscan_003.dax\n",
      "-- all used channels: ['750', '647', '561', '488', '405']\n",
      "-- single image size: [  50 2048 2048]\n",
      "- Loaded images for channels:['405'] in 6.761s.\n",
      "- Correct illumination for channels: ['405']\n",
      "-- Keep channels: ['405'] for corr_illumination.\n",
      "-- loading illumination correction profile from file:\n",
      "\t 405 illumination_correction_405_2048x2048.npy\n",
      "-- corrected illumination for channel 405 in 7.525s.\n",
      "- Finished illumination correction in 7.618s.\n"
     ]
    },
    {
     "name": "stderr",
     "output_type": "stream",
     "text": [
      "\r",
      "  2%|█▉                                                                                | 4/168 [00:59<40:55, 14.97s/it]"
     ]
    },
    {
     "name": "stdout",
     "output_type": "stream",
     "text": [
      "Initialize DaxProcesser for file:\\\\10.245.74.158\\Chromatin_NAS_0\\20220304-P_brain_M1_nonclear_adaptors\\H0M1\\Conv_zscan_004.dax\n",
      "-- all used channels: ['750', '647', '561', '488', '405']\n",
      "-- single image size: [  50 2048 2048]\n",
      "- Loaded images for channels:['405'] in 6.683s.\n",
      "- Correct illumination for channels: ['405']\n",
      "-- Keep channels: ['405'] for corr_illumination.\n",
      "-- loading illumination correction profile from file:\n",
      "\t 405 illumination_correction_405_2048x2048.npy\n",
      "-- corrected illumination for channel 405 in 7.810s.\n",
      "- Finished illumination correction in 7.830s.\n"
     ]
    },
    {
     "name": "stderr",
     "output_type": "stream",
     "text": [
      "\r",
      "  3%|██▍                                                                               | 5/168 [01:15<41:11, 15.17s/it]"
     ]
    },
    {
     "name": "stdout",
     "output_type": "stream",
     "text": [
      "Initialize DaxProcesser for file:\\\\10.245.74.158\\Chromatin_NAS_0\\20220304-P_brain_M1_nonclear_adaptors\\H0M1\\Conv_zscan_005.dax\n",
      "-- all used channels: ['750', '647', '561', '488', '405']\n",
      "-- single image size: [  50 2048 2048]\n",
      "- Loaded images for channels:['405'] in 7.629s.\n",
      "- Correct illumination for channels: ['405']\n",
      "-- Keep channels: ['405'] for corr_illumination.\n",
      "-- loading illumination correction profile from file:\n",
      "\t 405 illumination_correction_405_2048x2048.npy\n",
      "-- corrected illumination for channel 405 in 7.870s.\n",
      "- Finished illumination correction in 7.972s.\n"
     ]
    },
    {
     "name": "stderr",
     "output_type": "stream",
     "text": [
      "\r",
      "  4%|██▉                                                                               | 6/168 [01:31<42:17, 15.66s/it]"
     ]
    },
    {
     "name": "stdout",
     "output_type": "stream",
     "text": [
      "Initialize DaxProcesser for file:\\\\10.245.74.158\\Chromatin_NAS_0\\20220304-P_brain_M1_nonclear_adaptors\\H0M1\\Conv_zscan_006.dax\n",
      "-- all used channels: ['750', '647', '561', '488', '405']\n",
      "-- single image size: [  50 2048 2048]\n",
      "- Loaded images for channels:['405'] in 6.737s.\n",
      "- Correct illumination for channels: ['405']\n",
      "-- Keep channels: ['405'] for corr_illumination.\n",
      "-- loading illumination correction profile from file:\n",
      "\t 405 illumination_correction_405_2048x2048.npy\n",
      "-- corrected illumination for channel 405 in 7.730s.\n",
      "- Finished illumination correction in 7.837s.\n"
     ]
    },
    {
     "name": "stderr",
     "output_type": "stream",
     "text": [
      "\r",
      "  4%|███▍                                                                              | 7/168 [01:47<41:52, 15.61s/it]"
     ]
    },
    {
     "name": "stdout",
     "output_type": "stream",
     "text": [
      "Initialize DaxProcesser for file:\\\\10.245.74.158\\Chromatin_NAS_0\\20220304-P_brain_M1_nonclear_adaptors\\H0M1\\Conv_zscan_007.dax\n",
      "-- all used channels: ['750', '647', '561', '488', '405']\n",
      "-- single image size: [  50 2048 2048]\n",
      "- Loaded images for channels:['405'] in 7.431s.\n",
      "- Correct illumination for channels: ['405']\n",
      "-- Keep channels: ['405'] for corr_illumination.\n",
      "-- loading illumination correction profile from file:\n",
      "\t 405 illumination_correction_405_2048x2048.npy\n",
      "-- corrected illumination for channel 405 in 7.721s.\n",
      "- Finished illumination correction in 7.807s.\n"
     ]
    },
    {
     "name": "stderr",
     "output_type": "stream",
     "text": [
      "\r",
      "  5%|███▉                                                                              | 8/168 [02:03<42:02, 15.76s/it]"
     ]
    },
    {
     "name": "stdout",
     "output_type": "stream",
     "text": [
      "Initialize DaxProcesser for file:\\\\10.245.74.158\\Chromatin_NAS_0\\20220304-P_brain_M1_nonclear_adaptors\\H0M1\\Conv_zscan_008.dax\n",
      "-- all used channels: ['750', '647', '561', '488', '405']\n",
      "-- single image size: [  50 2048 2048]\n",
      "- Loaded images for channels:['405'] in 6.635s.\n",
      "- Correct illumination for channels: ['405']\n",
      "-- Keep channels: ['405'] for corr_illumination.\n",
      "-- loading illumination correction profile from file:\n",
      "\t 405 illumination_correction_405_2048x2048.npy\n",
      "-- corrected illumination for channel 405 in 7.733s.\n",
      "- Finished illumination correction in 7.828s.\n"
     ]
    },
    {
     "name": "stderr",
     "output_type": "stream",
     "text": [
      "\r",
      "  5%|████▍                                                                             | 9/168 [02:18<41:30, 15.66s/it]"
     ]
    },
    {
     "name": "stdout",
     "output_type": "stream",
     "text": [
      "Initialize DaxProcesser for file:\\\\10.245.74.158\\Chromatin_NAS_0\\20220304-P_brain_M1_nonclear_adaptors\\H0M1\\Conv_zscan_009.dax\n",
      "-- all used channels: ['750', '647', '561', '488', '405']\n",
      "-- single image size: [  50 2048 2048]\n",
      "- Loaded images for channels:['405'] in 6.657s.\n",
      "- Correct illumination for channels: ['405']\n",
      "-- Keep channels: ['405'] for corr_illumination.\n",
      "-- loading illumination correction profile from file:\n",
      "\t 405 illumination_correction_405_2048x2048.npy\n",
      "-- corrected illumination for channel 405 in 7.893s.\n",
      "- Finished illumination correction in 7.979s.\n"
     ]
    },
    {
     "name": "stderr",
     "output_type": "stream",
     "text": [
      "\r",
      "  6%|████▊                                                                            | 10/168 [02:34<41:15, 15.67s/it]"
     ]
    },
    {
     "name": "stdout",
     "output_type": "stream",
     "text": [
      "Initialize DaxProcesser for file:\\\\10.245.74.158\\Chromatin_NAS_0\\20220304-P_brain_M1_nonclear_adaptors\\H0M1\\Conv_zscan_010.dax\n",
      "-- all used channels: ['750', '647', '561', '488', '405']\n",
      "-- single image size: [  50 2048 2048]\n",
      "- Loaded images for channels:['405'] in 6.639s.\n",
      "- Correct illumination for channels: ['405']\n",
      "-- Keep channels: ['405'] for corr_illumination.\n",
      "-- loading illumination correction profile from file:\n",
      "\t 405 illumination_correction_405_2048x2048.npy\n",
      "-- corrected illumination for channel 405 in 7.995s.\n",
      "- Finished illumination correction in 8.081s.\n"
     ]
    },
    {
     "name": "stderr",
     "output_type": "stream",
     "text": [
      "\r",
      "  7%|█████▎                                                                           | 11/168 [02:49<40:58, 15.66s/it]"
     ]
    },
    {
     "name": "stdout",
     "output_type": "stream",
     "text": [
      "Initialize DaxProcesser for file:\\\\10.245.74.158\\Chromatin_NAS_0\\20220304-P_brain_M1_nonclear_adaptors\\H0M1\\Conv_zscan_011.dax\n",
      "-- all used channels: ['750', '647', '561', '488', '405']\n",
      "-- single image size: [  50 2048 2048]\n",
      "- Loaded images for channels:['405'] in 7.014s.\n",
      "- Correct illumination for channels: ['405']\n",
      "-- Keep channels: ['405'] for corr_illumination.\n",
      "-- loading illumination correction profile from file:\n",
      "\t 405 illumination_correction_405_2048x2048.npy\n",
      "-- corrected illumination for channel 405 in 7.767s.\n",
      "- Finished illumination correction in 7.895s.\n"
     ]
    },
    {
     "name": "stderr",
     "output_type": "stream",
     "text": [
      "\r",
      "  7%|█████▊                                                                           | 12/168 [03:05<40:54, 15.74s/it]"
     ]
    },
    {
     "name": "stdout",
     "output_type": "stream",
     "text": [
      "Initialize DaxProcesser for file:\\\\10.245.74.158\\Chromatin_NAS_0\\20220304-P_brain_M1_nonclear_adaptors\\H0M1\\Conv_zscan_012.dax\n",
      "-- all used channels: ['750', '647', '561', '488', '405']\n",
      "-- single image size: [  50 2048 2048]\n",
      "- Loaded images for channels:['405'] in 6.761s.\n",
      "- Correct illumination for channels: ['405']\n",
      "-- Keep channels: ['405'] for corr_illumination.\n",
      "-- loading illumination correction profile from file:\n",
      "\t 405 illumination_correction_405_2048x2048.npy\n",
      "-- corrected illumination for channel 405 in 8.246s.\n",
      "- Finished illumination correction in 8.350s.\n"
     ]
    },
    {
     "name": "stderr",
     "output_type": "stream",
     "text": [
      "\r",
      "  8%|██████▎                                                                          | 13/168 [03:21<40:51, 15.82s/it]"
     ]
    },
    {
     "name": "stdout",
     "output_type": "stream",
     "text": [
      "Initialize DaxProcesser for file:\\\\10.245.74.158\\Chromatin_NAS_0\\20220304-P_brain_M1_nonclear_adaptors\\H0M1\\Conv_zscan_013.dax\n",
      "-- all used channels: ['750', '647', '561', '488', '405']\n",
      "-- single image size: [  50 2048 2048]\n",
      "- Loaded images for channels:['405'] in 7.038s.\n",
      "- Correct illumination for channels: ['405']\n",
      "-- Keep channels: ['405'] for corr_illumination.\n",
      "-- loading illumination correction profile from file:\n",
      "\t 405 illumination_correction_405_2048x2048.npy\n",
      "-- corrected illumination for channel 405 in 7.841s.\n",
      "- Finished illumination correction in 7.936s.\n"
     ]
    },
    {
     "name": "stderr",
     "output_type": "stream",
     "text": [
      "\r",
      "  8%|██████▊                                                                          | 14/168 [03:37<40:42, 15.86s/it]"
     ]
    },
    {
     "name": "stdout",
     "output_type": "stream",
     "text": [
      "Initialize DaxProcesser for file:\\\\10.245.74.158\\Chromatin_NAS_0\\20220304-P_brain_M1_nonclear_adaptors\\H0M1\\Conv_zscan_014.dax\n",
      "-- all used channels: ['750', '647', '561', '488', '405']\n",
      "-- single image size: [  50 2048 2048]\n",
      "- Loaded images for channels:['405'] in 6.871s.\n",
      "- Correct illumination for channels: ['405']\n",
      "-- Keep channels: ['405'] for corr_illumination.\n",
      "-- loading illumination correction profile from file:\n",
      "\t 405 illumination_correction_405_2048x2048.npy\n",
      "-- corrected illumination for channel 405 in 8.000s.\n",
      "- Finished illumination correction in 8.096s.\n"
     ]
    },
    {
     "name": "stderr",
     "output_type": "stream",
     "text": [
      "\r",
      "  9%|███████▏                                                                         | 15/168 [03:53<40:32, 15.90s/it]"
     ]
    },
    {
     "name": "stdout",
     "output_type": "stream",
     "text": [
      "Initialize DaxProcesser for file:\\\\10.245.74.158\\Chromatin_NAS_0\\20220304-P_brain_M1_nonclear_adaptors\\H0M1\\Conv_zscan_015.dax\n",
      "-- all used channels: ['750', '647', '561', '488', '405']\n",
      "-- single image size: [  50 2048 2048]\n",
      "- Loaded images for channels:['405'] in 7.628s.\n",
      "- Correct illumination for channels: ['405']\n",
      "-- Keep channels: ['405'] for corr_illumination.\n",
      "-- loading illumination correction profile from file:\n",
      "\t 405 illumination_correction_405_2048x2048.npy\n",
      "-- corrected illumination for channel 405 in 8.166s.\n",
      "- Finished illumination correction in 8.265s.\n"
     ]
    },
    {
     "name": "stderr",
     "output_type": "stream",
     "text": [
      "\r",
      " 10%|███████▋                                                                         | 16/168 [04:10<41:05, 16.22s/it]"
     ]
    },
    {
     "name": "stdout",
     "output_type": "stream",
     "text": [
      "Initialize DaxProcesser for file:\\\\10.245.74.158\\Chromatin_NAS_0\\20220304-P_brain_M1_nonclear_adaptors\\H0M1\\Conv_zscan_016.dax\n",
      "-- all used channels: ['750', '647', '561', '488', '405']\n",
      "-- single image size: [  50 2048 2048]\n",
      "- Loaded images for channels:['405'] in 7.189s.\n",
      "- Correct illumination for channels: ['405']\n",
      "-- Keep channels: ['405'] for corr_illumination.\n",
      "-- loading illumination correction profile from file:\n",
      "\t 405 illumination_correction_405_2048x2048.npy\n",
      "-- corrected illumination for channel 405 in 8.378s.\n",
      "- Finished illumination correction in 8.498s.\n"
     ]
    },
    {
     "name": "stderr",
     "output_type": "stream",
     "text": [
      "\r",
      " 10%|████████▏                                                                        | 17/168 [04:27<41:13, 16.38s/it]"
     ]
    },
    {
     "name": "stdout",
     "output_type": "stream",
     "text": [
      "Initialize DaxProcesser for file:\\\\10.245.74.158\\Chromatin_NAS_0\\20220304-P_brain_M1_nonclear_adaptors\\H0M1\\Conv_zscan_017.dax\n",
      "-- all used channels: ['750', '647', '561', '488', '405']\n",
      "-- single image size: [  50 2048 2048]\n",
      "- Loaded images for channels:['405'] in 6.908s.\n",
      "- Correct illumination for channels: ['405']\n",
      "-- Keep channels: ['405'] for corr_illumination.\n",
      "-- loading illumination correction profile from file:\n",
      "\t 405 illumination_correction_405_2048x2048.npy\n",
      "-- corrected illumination for channel 405 in 8.204s.\n",
      "- Finished illumination correction in 8.301s.\n"
     ]
    },
    {
     "name": "stderr",
     "output_type": "stream",
     "text": [
      "\r",
      " 11%|████████▋                                                                        | 18/168 [04:43<40:51, 16.34s/it]"
     ]
    },
    {
     "name": "stdout",
     "output_type": "stream",
     "text": [
      "Initialize DaxProcesser for file:\\\\10.245.74.158\\Chromatin_NAS_0\\20220304-P_brain_M1_nonclear_adaptors\\H0M1\\Conv_zscan_018.dax\n",
      "-- all used channels: ['750', '647', '561', '488', '405']\n",
      "-- single image size: [  50 2048 2048]\n",
      "- Loaded images for channels:['405'] in 7.747s.\n",
      "- Correct illumination for channels: ['405']\n",
      "-- Keep channels: ['405'] for corr_illumination.\n",
      "-- loading illumination correction profile from file:\n",
      "\t 405 illumination_correction_405_2048x2048.npy\n",
      "-- corrected illumination for channel 405 in 8.164s.\n",
      "- Finished illumination correction in 8.259s.\n"
     ]
    },
    {
     "name": "stderr",
     "output_type": "stream",
     "text": [
      "\r",
      " 11%|█████████▏                                                                       | 19/168 [05:00<41:01, 16.52s/it]"
     ]
    },
    {
     "name": "stdout",
     "output_type": "stream",
     "text": [
      "Initialize DaxProcesser for file:\\\\10.245.74.158\\Chromatin_NAS_0\\20220304-P_brain_M1_nonclear_adaptors\\H0M1\\Conv_zscan_019.dax\n",
      "-- all used channels: ['750', '647', '561', '488', '405']\n",
      "-- single image size: [  50 2048 2048]\n",
      "- Loaded images for channels:['405'] in 6.291s.\n",
      "- Correct illumination for channels: ['405']\n",
      "-- Keep channels: ['405'] for corr_illumination.\n",
      "-- loading illumination correction profile from file:\n",
      "\t 405 illumination_correction_405_2048x2048.npy\n",
      "-- corrected illumination for channel 405 in 7.938s.\n",
      "- Finished illumination correction in 8.034s.\n"
     ]
    },
    {
     "name": "stderr",
     "output_type": "stream",
     "text": [
      "\r",
      " 12%|█████████▋                                                                       | 20/168 [05:16<39:51, 16.16s/it]"
     ]
    },
    {
     "name": "stdout",
     "output_type": "stream",
     "text": [
      "Initialize DaxProcesser for file:\\\\10.245.74.158\\Chromatin_NAS_0\\20220304-P_brain_M1_nonclear_adaptors\\H0M1\\Conv_zscan_020.dax\n",
      "-- all used channels: ['750', '647', '561', '488', '405']\n",
      "-- single image size: [  50 2048 2048]\n",
      "- Loaded images for channels:['405'] in 6.778s.\n",
      "- Correct illumination for channels: ['405']\n",
      "-- Keep channels: ['405'] for corr_illumination.\n",
      "-- loading illumination correction profile from file:\n",
      "\t 405 illumination_correction_405_2048x2048.npy\n",
      "-- corrected illumination for channel 405 in 8.079s.\n",
      "- Finished illumination correction in 8.167s.\n"
     ]
    },
    {
     "name": "stderr",
     "output_type": "stream",
     "text": [
      "\r",
      " 12%|██████████▏                                                                      | 21/168 [05:32<39:27, 16.10s/it]"
     ]
    },
    {
     "name": "stdout",
     "output_type": "stream",
     "text": [
      "Initialize DaxProcesser for file:\\\\10.245.74.158\\Chromatin_NAS_0\\20220304-P_brain_M1_nonclear_adaptors\\H0M1\\Conv_zscan_021.dax\n",
      "-- all used channels: ['750', '647', '561', '488', '405']\n",
      "-- single image size: [  50 2048 2048]\n",
      "- Loaded images for channels:['405'] in 7.167s.\n",
      "- Correct illumination for channels: ['405']\n",
      "-- Keep channels: ['405'] for corr_illumination.\n",
      "-- loading illumination correction profile from file:\n",
      "\t 405 illumination_correction_405_2048x2048.npy\n",
      "-- corrected illumination for channel 405 in 8.091s.\n",
      "- Finished illumination correction in 8.228s.\n"
     ]
    },
    {
     "name": "stderr",
     "output_type": "stream",
     "text": [
      "\r",
      " 13%|██████████▌                                                                      | 22/168 [05:48<39:18, 16.15s/it]"
     ]
    },
    {
     "name": "stdout",
     "output_type": "stream",
     "text": [
      "Initialize DaxProcesser for file:\\\\10.245.74.158\\Chromatin_NAS_0\\20220304-P_brain_M1_nonclear_adaptors\\H0M1\\Conv_zscan_022.dax\n",
      "-- all used channels: ['750', '647', '561', '488', '405']\n",
      "-- single image size: [  50 2048 2048]\n",
      "- Loaded images for channels:['405'] in 6.535s.\n",
      "- Correct illumination for channels: ['405']\n",
      "-- Keep channels: ['405'] for corr_illumination.\n",
      "-- loading illumination correction profile from file:\n",
      "\t 405 illumination_correction_405_2048x2048.npy\n",
      "-- corrected illumination for channel 405 in 7.965s.\n",
      "- Finished illumination correction in 8.065s.\n"
     ]
    },
    {
     "name": "stderr",
     "output_type": "stream",
     "text": [
      "\r",
      " 14%|███████████                                                                      | 23/168 [06:03<38:39, 16.00s/it]"
     ]
    },
    {
     "name": "stdout",
     "output_type": "stream",
     "text": [
      "Initialize DaxProcesser for file:\\\\10.245.74.158\\Chromatin_NAS_0\\20220304-P_brain_M1_nonclear_adaptors\\H0M1\\Conv_zscan_023.dax\n",
      "-- all used channels: ['750', '647', '561', '488', '405']\n",
      "-- single image size: [  50 2048 2048]\n",
      "- Loaded images for channels:['405'] in 6.842s.\n",
      "- Correct illumination for channels: ['405']\n",
      "-- Keep channels: ['405'] for corr_illumination.\n",
      "-- loading illumination correction profile from file:\n",
      "\t 405 illumination_correction_405_2048x2048.npy\n",
      "-- corrected illumination for channel 405 in 8.057s.\n",
      "- Finished illumination correction in 8.148s.\n"
     ]
    },
    {
     "name": "stderr",
     "output_type": "stream",
     "text": [
      "\r",
      " 14%|███████████▌                                                                     | 24/168 [06:19<38:21, 15.98s/it]"
     ]
    },
    {
     "name": "stdout",
     "output_type": "stream",
     "text": [
      "Initialize DaxProcesser for file:\\\\10.245.74.158\\Chromatin_NAS_0\\20220304-P_brain_M1_nonclear_adaptors\\H0M1\\Conv_zscan_024.dax\n",
      "-- all used channels: ['750', '647', '561', '488', '405']\n",
      "-- single image size: [  50 2048 2048]\n",
      "- Loaded images for channels:['405'] in 6.875s.\n",
      "- Correct illumination for channels: ['405']\n",
      "-- Keep channels: ['405'] for corr_illumination.\n",
      "-- loading illumination correction profile from file:\n",
      "\t 405 illumination_correction_405_2048x2048.npy\n",
      "-- corrected illumination for channel 405 in 8.121s.\n",
      "- Finished illumination correction in 8.214s.\n"
     ]
    },
    {
     "name": "stderr",
     "output_type": "stream",
     "text": [
      "\r",
      " 15%|████████████                                                                     | 25/168 [06:36<38:12, 16.03s/it]"
     ]
    },
    {
     "name": "stdout",
     "output_type": "stream",
     "text": [
      "Initialize DaxProcesser for file:\\\\10.245.74.158\\Chromatin_NAS_0\\20220304-P_brain_M1_nonclear_adaptors\\H0M1\\Conv_zscan_025.dax\n",
      "-- all used channels: ['750', '647', '561', '488', '405']\n",
      "-- single image size: [  50 2048 2048]\n",
      "- Loaded images for channels:['405'] in 6.308s.\n",
      "- Correct illumination for channels: ['405']\n",
      "-- Keep channels: ['405'] for corr_illumination.\n",
      "-- loading illumination correction profile from file:\n",
      "\t 405 illumination_correction_405_2048x2048.npy\n",
      "-- corrected illumination for channel 405 in 8.399s.\n",
      "- Finished illumination correction in 8.494s.\n"
     ]
    },
    {
     "name": "stderr",
     "output_type": "stream",
     "text": [
      "\r",
      " 15%|████████████▌                                                                    | 26/168 [06:51<37:49, 15.99s/it]"
     ]
    },
    {
     "name": "stdout",
     "output_type": "stream",
     "text": [
      "Initialize DaxProcesser for file:\\\\10.245.74.158\\Chromatin_NAS_0\\20220304-P_brain_M1_nonclear_adaptors\\H0M1\\Conv_zscan_026.dax\n",
      "-- all used channels: ['750', '647', '561', '488', '405']\n",
      "-- single image size: [  50 2048 2048]\n",
      "- Loaded images for channels:['405'] in 7.466s.\n",
      "- Correct illumination for channels: ['405']\n",
      "-- Keep channels: ['405'] for corr_illumination.\n",
      "-- loading illumination correction profile from file:\n",
      "\t 405 illumination_correction_405_2048x2048.npy\n",
      "-- corrected illumination for channel 405 in 7.912s.\n",
      "- Finished illumination correction in 8.044s.\n"
     ]
    },
    {
     "name": "stderr",
     "output_type": "stream",
     "text": [
      "\r",
      " 16%|█████████████                                                                    | 27/168 [07:08<37:53, 16.12s/it]"
     ]
    },
    {
     "name": "stdout",
     "output_type": "stream",
     "text": [
      "Initialize DaxProcesser for file:\\\\10.245.74.158\\Chromatin_NAS_0\\20220304-P_brain_M1_nonclear_adaptors\\H0M1\\Conv_zscan_027.dax\n",
      "-- all used channels: ['750', '647', '561', '488', '405']\n",
      "-- single image size: [  50 2048 2048]\n",
      "- Loaded images for channels:['405'] in 7.618s.\n",
      "- Correct illumination for channels: ['405']\n",
      "-- Keep channels: ['405'] for corr_illumination.\n",
      "-- loading illumination correction profile from file:\n",
      "\t 405 illumination_correction_405_2048x2048.npy\n",
      "-- corrected illumination for channel 405 in 8.602s.\n",
      "- Finished illumination correction in 8.699s.\n"
     ]
    },
    {
     "name": "stderr",
     "output_type": "stream",
     "text": [
      "\r",
      " 17%|█████████████▌                                                                   | 28/168 [07:25<38:25, 16.47s/it]"
     ]
    },
    {
     "name": "stdout",
     "output_type": "stream",
     "text": [
      "Initialize DaxProcesser for file:\\\\10.245.74.158\\Chromatin_NAS_0\\20220304-P_brain_M1_nonclear_adaptors\\H0M1\\Conv_zscan_028.dax\n",
      "-- all used channels: ['750', '647', '561', '488', '405']\n",
      "-- single image size: [  50 2048 2048]\n",
      "- Loaded images for channels:['405'] in 6.844s.\n",
      "- Correct illumination for channels: ['405']\n",
      "-- Keep channels: ['405'] for corr_illumination.\n",
      "-- loading illumination correction profile from file:\n",
      "\t 405 illumination_correction_405_2048x2048.npy\n",
      "-- corrected illumination for channel 405 in 8.123s.\n",
      "- Finished illumination correction in 8.215s.\n"
     ]
    },
    {
     "name": "stderr",
     "output_type": "stream",
     "text": [
      "\r",
      " 17%|█████████████▉                                                                   | 29/168 [07:41<37:49, 16.33s/it]"
     ]
    },
    {
     "name": "stdout",
     "output_type": "stream",
     "text": [
      "Initialize DaxProcesser for file:\\\\10.245.74.158\\Chromatin_NAS_0\\20220304-P_brain_M1_nonclear_adaptors\\H0M1\\Conv_zscan_029.dax\n",
      "-- all used channels: ['750', '647', '561', '488', '405']\n",
      "-- single image size: [  50 2048 2048]\n",
      "- Loaded images for channels:['405'] in 7.319s.\n",
      "- Correct illumination for channels: ['405']\n",
      "-- Keep channels: ['405'] for corr_illumination.\n",
      "-- loading illumination correction profile from file:\n",
      "\t 405 illumination_correction_405_2048x2048.npy\n",
      "-- corrected illumination for channel 405 in 7.846s.\n",
      "- Finished illumination correction in 7.934s.\n"
     ]
    },
    {
     "name": "stderr",
     "output_type": "stream",
     "text": [
      "\r",
      " 18%|██████████████▍                                                                  | 30/168 [07:57<37:28, 16.30s/it]"
     ]
    },
    {
     "name": "stdout",
     "output_type": "stream",
     "text": [
      "Initialize DaxProcesser for file:\\\\10.245.74.158\\Chromatin_NAS_0\\20220304-P_brain_M1_nonclear_adaptors\\H0M1\\Conv_zscan_030.dax\n",
      "-- all used channels: ['750', '647', '561', '488', '405']\n",
      "-- single image size: [  50 2048 2048]\n",
      "- Loaded images for channels:['405'] in 7.255s.\n",
      "- Correct illumination for channels: ['405']\n",
      "-- Keep channels: ['405'] for corr_illumination.\n",
      "-- loading illumination correction profile from file:\n",
      "\t 405 illumination_correction_405_2048x2048.npy\n",
      "-- corrected illumination for channel 405 in 7.966s.\n",
      "- Finished illumination correction in 8.068s.\n"
     ]
    },
    {
     "name": "stderr",
     "output_type": "stream",
     "text": [
      "\r",
      " 18%|██████████████▉                                                                  | 31/168 [08:14<37:10, 16.28s/it]"
     ]
    },
    {
     "name": "stdout",
     "output_type": "stream",
     "text": [
      "Initialize DaxProcesser for file:\\\\10.245.74.158\\Chromatin_NAS_0\\20220304-P_brain_M1_nonclear_adaptors\\H0M1\\Conv_zscan_031.dax\n",
      "-- all used channels: ['750', '647', '561', '488', '405']\n",
      "-- single image size: [  50 2048 2048]\n",
      "- Loaded images for channels:['405'] in 6.852s.\n",
      "- Correct illumination for channels: ['405']\n",
      "-- Keep channels: ['405'] for corr_illumination.\n",
      "-- loading illumination correction profile from file:\n",
      "\t 405 illumination_correction_405_2048x2048.npy\n",
      "-- corrected illumination for channel 405 in 7.824s.\n",
      "- Finished illumination correction in 7.940s.\n"
     ]
    },
    {
     "name": "stderr",
     "output_type": "stream",
     "text": [
      "\r",
      " 19%|███████████████▍                                                                 | 32/168 [08:29<36:33, 16.13s/it]"
     ]
    },
    {
     "name": "stdout",
     "output_type": "stream",
     "text": [
      "Initialize DaxProcesser for file:\\\\10.245.74.158\\Chromatin_NAS_0\\20220304-P_brain_M1_nonclear_adaptors\\H0M1\\Conv_zscan_032.dax\n",
      "-- all used channels: ['750', '647', '561', '488', '405']\n",
      "-- single image size: [  50 2048 2048]\n",
      "- Loaded images for channels:['405'] in 7.775s.\n",
      "- Correct illumination for channels: ['405']\n",
      "-- Keep channels: ['405'] for corr_illumination.\n",
      "-- loading illumination correction profile from file:\n",
      "\t 405 illumination_correction_405_2048x2048.npy\n",
      "-- corrected illumination for channel 405 in 7.950s.\n",
      "- Finished illumination correction in 8.037s.\n"
     ]
    },
    {
     "name": "stderr",
     "output_type": "stream",
     "text": [
      "\r",
      " 20%|███████████████▉                                                                 | 33/168 [08:46<36:41, 16.31s/it]"
     ]
    },
    {
     "name": "stdout",
     "output_type": "stream",
     "text": [
      "Initialize DaxProcesser for file:\\\\10.245.74.158\\Chromatin_NAS_0\\20220304-P_brain_M1_nonclear_adaptors\\H0M1\\Conv_zscan_033.dax\n",
      "-- all used channels: ['750', '647', '561', '488', '405']\n",
      "-- single image size: [  50 2048 2048]\n",
      "- Loaded images for channels:['405'] in 7.367s.\n",
      "- Correct illumination for channels: ['405']\n",
      "-- Keep channels: ['405'] for corr_illumination.\n",
      "-- loading illumination correction profile from file:\n",
      "\t 405 illumination_correction_405_2048x2048.npy\n",
      "-- corrected illumination for channel 405 in 8.010s.\n",
      "- Finished illumination correction in 8.104s.\n"
     ]
    },
    {
     "name": "stderr",
     "output_type": "stream",
     "text": [
      "\r",
      " 20%|████████████████▍                                                                | 34/168 [09:03<36:32, 16.36s/it]"
     ]
    },
    {
     "name": "stdout",
     "output_type": "stream",
     "text": [
      "Initialize DaxProcesser for file:\\\\10.245.74.158\\Chromatin_NAS_0\\20220304-P_brain_M1_nonclear_adaptors\\H0M1\\Conv_zscan_034.dax\n",
      "-- all used channels: ['750', '647', '561', '488', '405']\n",
      "-- single image size: [  50 2048 2048]\n",
      "- Loaded images for channels:['405'] in 5.989s.\n",
      "- Correct illumination for channels: ['405']\n",
      "-- Keep channels: ['405'] for corr_illumination.\n",
      "-- loading illumination correction profile from file:\n",
      "\t 405 illumination_correction_405_2048x2048.npy\n",
      "-- corrected illumination for channel 405 in 7.986s.\n",
      "- Finished illumination correction in 8.008s.\n"
     ]
    },
    {
     "name": "stderr",
     "output_type": "stream",
     "text": [
      "\r",
      " 21%|████████████████▉                                                                | 35/168 [09:18<35:28, 16.00s/it]"
     ]
    },
    {
     "name": "stdout",
     "output_type": "stream",
     "text": [
      "Initialize DaxProcesser for file:\\\\10.245.74.158\\Chromatin_NAS_0\\20220304-P_brain_M1_nonclear_adaptors\\H0M1\\Conv_zscan_035.dax\n",
      "-- all used channels: ['750', '647', '561', '488', '405']\n",
      "-- single image size: [  50 2048 2048]\n",
      "- Loaded images for channels:['405'] in 6.681s.\n",
      "- Correct illumination for channels: ['405']\n",
      "-- Keep channels: ['405'] for corr_illumination.\n",
      "-- loading illumination correction profile from file:\n",
      "\t 405 illumination_correction_405_2048x2048.npy\n",
      "-- corrected illumination for channel 405 in 7.905s.\n",
      "- Finished illumination correction in 7.998s.\n"
     ]
    },
    {
     "name": "stderr",
     "output_type": "stream",
     "text": [
      "\r",
      " 21%|█████████████████▎                                                               | 36/168 [09:33<34:55, 15.88s/it]"
     ]
    },
    {
     "name": "stdout",
     "output_type": "stream",
     "text": [
      "Initialize DaxProcesser for file:\\\\10.245.74.158\\Chromatin_NAS_0\\20220304-P_brain_M1_nonclear_adaptors\\H0M1\\Conv_zscan_036.dax\n",
      "-- all used channels: ['750', '647', '561', '488', '405']\n",
      "-- single image size: [  50 2048 2048]\n",
      "- Loaded images for channels:['405'] in 6.849s.\n",
      "- Correct illumination for channels: ['405']\n",
      "-- Keep channels: ['405'] for corr_illumination.\n",
      "-- loading illumination correction profile from file:\n",
      "\t 405 illumination_correction_405_2048x2048.npy\n",
      "-- corrected illumination for channel 405 in 8.245s.\n",
      "- Finished illumination correction in 8.372s.\n"
     ]
    },
    {
     "name": "stderr",
     "output_type": "stream",
     "text": [
      "\r",
      " 22%|█████████████████▊                                                               | 37/168 [09:50<34:51, 15.96s/it]"
     ]
    },
    {
     "name": "stdout",
     "output_type": "stream",
     "text": [
      "Initialize DaxProcesser for file:\\\\10.245.74.158\\Chromatin_NAS_0\\20220304-P_brain_M1_nonclear_adaptors\\H0M1\\Conv_zscan_037.dax\n",
      "-- all used channels: ['750', '647', '561', '488', '405']\n",
      "-- single image size: [  50 2048 2048]\n",
      "- Loaded images for channels:['405'] in 6.845s.\n",
      "- Correct illumination for channels: ['405']\n",
      "-- Keep channels: ['405'] for corr_illumination.\n",
      "-- loading illumination correction profile from file:\n",
      "\t 405 illumination_correction_405_2048x2048.npy\n",
      "-- corrected illumination for channel 405 in 8.232s.\n",
      "- Finished illumination correction in 8.326s.\n"
     ]
    },
    {
     "name": "stderr",
     "output_type": "stream",
     "text": [
      "\r",
      " 23%|██████████████████▎                                                              | 38/168 [10:06<34:44, 16.03s/it]"
     ]
    },
    {
     "name": "stdout",
     "output_type": "stream",
     "text": [
      "Initialize DaxProcesser for file:\\\\10.245.74.158\\Chromatin_NAS_0\\20220304-P_brain_M1_nonclear_adaptors\\H0M1\\Conv_zscan_038.dax\n",
      "-- all used channels: ['750', '647', '561', '488', '405']\n",
      "-- single image size: [  50 2048 2048]\n",
      "- Loaded images for channels:['405'] in 6.179s.\n",
      "- Correct illumination for channels: ['405']\n",
      "-- Keep channels: ['405'] for corr_illumination.\n",
      "-- loading illumination correction profile from file:\n",
      "\t 405 illumination_correction_405_2048x2048.npy\n",
      "-- corrected illumination for channel 405 in 8.307s.\n",
      "- Finished illumination correction in 8.405s.\n"
     ]
    },
    {
     "name": "stderr",
     "output_type": "stream",
     "text": [
      "\r",
      " 23%|██████████████████▊                                                              | 39/168 [10:21<34:09, 15.89s/it]"
     ]
    },
    {
     "name": "stdout",
     "output_type": "stream",
     "text": [
      "Initialize DaxProcesser for file:\\\\10.245.74.158\\Chromatin_NAS_0\\20220304-P_brain_M1_nonclear_adaptors\\H0M1\\Conv_zscan_039.dax\n",
      "-- all used channels: ['750', '647', '561', '488', '405']\n",
      "-- single image size: [  50 2048 2048]\n",
      "- Loaded images for channels:['405'] in 6.841s.\n",
      "- Correct illumination for channels: ['405']\n",
      "-- Keep channels: ['405'] for corr_illumination.\n",
      "-- loading illumination correction profile from file:\n",
      "\t 405 illumination_correction_405_2048x2048.npy\n",
      "-- corrected illumination for channel 405 in 7.823s.\n",
      "- Finished illumination correction in 7.915s.\n"
     ]
    },
    {
     "name": "stderr",
     "output_type": "stream",
     "text": [
      "\r",
      " 24%|███████████████████▎                                                             | 40/168 [10:37<33:43, 15.81s/it]"
     ]
    },
    {
     "name": "stdout",
     "output_type": "stream",
     "text": [
      "Initialize DaxProcesser for file:\\\\10.245.74.158\\Chromatin_NAS_0\\20220304-P_brain_M1_nonclear_adaptors\\H0M1\\Conv_zscan_040.dax\n",
      "-- all used channels: ['750', '647', '561', '488', '405']\n",
      "-- single image size: [  50 2048 2048]\n",
      "- Loaded images for channels:['405'] in 6.401s.\n",
      "- Correct illumination for channels: ['405']\n",
      "-- Keep channels: ['405'] for corr_illumination.\n",
      "-- loading illumination correction profile from file:\n",
      "\t 405 illumination_correction_405_2048x2048.npy\n",
      "-- corrected illumination for channel 405 in 7.904s.\n",
      "- Finished illumination correction in 7.997s.\n"
     ]
    },
    {
     "name": "stderr",
     "output_type": "stream",
     "text": [
      "\r",
      " 24%|███████████████████▊                                                             | 41/168 [10:52<33:10, 15.67s/it]"
     ]
    },
    {
     "name": "stdout",
     "output_type": "stream",
     "text": [
      "Initialize DaxProcesser for file:\\\\10.245.74.158\\Chromatin_NAS_0\\20220304-P_brain_M1_nonclear_adaptors\\H0M1\\Conv_zscan_041.dax\n",
      "-- all used channels: ['750', '647', '561', '488', '405']\n",
      "-- single image size: [  50 2048 2048]\n",
      "- Loaded images for channels:['405'] in 6.687s.\n",
      "- Correct illumination for channels: ['405']\n",
      "-- Keep channels: ['405'] for corr_illumination.\n",
      "-- loading illumination correction profile from file:\n",
      "\t 405 illumination_correction_405_2048x2048.npy\n",
      "-- corrected illumination for channel 405 in 8.021s.\n",
      "- Finished illumination correction in 8.153s.\n"
     ]
    },
    {
     "name": "stderr",
     "output_type": "stream",
     "text": [
      "\r",
      " 25%|████████████████████▎                                                            | 42/168 [11:08<33:02, 15.74s/it]"
     ]
    },
    {
     "name": "stdout",
     "output_type": "stream",
     "text": [
      "Initialize DaxProcesser for file:\\\\10.245.74.158\\Chromatin_NAS_0\\20220304-P_brain_M1_nonclear_adaptors\\H0M1\\Conv_zscan_042.dax\n",
      "-- all used channels: ['750', '647', '561', '488', '405']\n",
      "-- single image size: [  50 2048 2048]\n",
      "- Loaded images for channels:['405'] in 7.006s.\n",
      "- Correct illumination for channels: ['405']\n",
      "-- Keep channels: ['405'] for corr_illumination.\n",
      "-- loading illumination correction profile from file:\n",
      "\t 405 illumination_correction_405_2048x2048.npy\n",
      "-- corrected illumination for channel 405 in 7.836s.\n",
      "- Finished illumination correction in 7.935s.\n"
     ]
    },
    {
     "name": "stderr",
     "output_type": "stream",
     "text": [
      "\r",
      " 26%|████████████████████▋                                                            | 43/168 [11:24<32:55, 15.80s/it]"
     ]
    },
    {
     "name": "stdout",
     "output_type": "stream",
     "text": [
      "Initialize DaxProcesser for file:\\\\10.245.74.158\\Chromatin_NAS_0\\20220304-P_brain_M1_nonclear_adaptors\\H0M1\\Conv_zscan_043.dax\n",
      "-- all used channels: ['750', '647', '561', '488', '405']\n",
      "-- single image size: [  50 2048 2048]\n",
      "- Loaded images for channels:['405'] in 5.828s.\n",
      "- Correct illumination for channels: ['405']\n",
      "-- Keep channels: ['405'] for corr_illumination.\n",
      "-- loading illumination correction profile from file:\n",
      "\t 405 illumination_correction_405_2048x2048.npy\n",
      "-- corrected illumination for channel 405 in 7.915s.\n",
      "- Finished illumination correction in 8.012s.\n"
     ]
    },
    {
     "name": "stderr",
     "output_type": "stream",
     "text": [
      "\r",
      " 26%|█████████████████████▏                                                           | 44/168 [11:39<32:01, 15.50s/it]"
     ]
    },
    {
     "name": "stdout",
     "output_type": "stream",
     "text": [
      "Initialize DaxProcesser for file:\\\\10.245.74.158\\Chromatin_NAS_0\\20220304-P_brain_M1_nonclear_adaptors\\H0M1\\Conv_zscan_044.dax\n",
      "-- all used channels: ['750', '647', '561', '488', '405']\n",
      "-- single image size: [  50 2048 2048]\n",
      "- Loaded images for channels:['405'] in 6.659s.\n",
      "- Correct illumination for channels: ['405']\n",
      "-- Keep channels: ['405'] for corr_illumination.\n",
      "-- loading illumination correction profile from file:\n",
      "\t 405 illumination_correction_405_2048x2048.npy\n",
      "-- corrected illumination for channel 405 in 7.913s.\n",
      "- Finished illumination correction in 8.008s.\n"
     ]
    },
    {
     "name": "stderr",
     "output_type": "stream",
     "text": [
      "\r",
      " 27%|█████████████████████▋                                                           | 45/168 [11:55<31:54, 15.56s/it]"
     ]
    },
    {
     "name": "stdout",
     "output_type": "stream",
     "text": [
      "Initialize DaxProcesser for file:\\\\10.245.74.158\\Chromatin_NAS_0\\20220304-P_brain_M1_nonclear_adaptors\\H0M1\\Conv_zscan_045.dax\n",
      "-- all used channels: ['750', '647', '561', '488', '405']\n",
      "-- single image size: [  50 2048 2048]\n",
      "- Loaded images for channels:['405'] in 7.328s.\n",
      "- Correct illumination for channels: ['405']\n",
      "-- Keep channels: ['405'] for corr_illumination.\n",
      "-- loading illumination correction profile from file:\n",
      "\t 405 illumination_correction_405_2048x2048.npy\n",
      "-- corrected illumination for channel 405 in 7.819s.\n",
      "- Finished illumination correction in 7.922s.\n"
     ]
    },
    {
     "name": "stderr",
     "output_type": "stream",
     "text": [
      "\r",
      " 27%|██████████████████████▏                                                          | 46/168 [12:11<32:01, 15.75s/it]"
     ]
    },
    {
     "name": "stdout",
     "output_type": "stream",
     "text": [
      "Initialize DaxProcesser for file:\\\\10.245.74.158\\Chromatin_NAS_0\\20220304-P_brain_M1_nonclear_adaptors\\H0M1\\Conv_zscan_046.dax\n",
      "-- all used channels: ['750', '647', '561', '488', '405']\n",
      "-- single image size: [  50 2048 2048]\n",
      "- Loaded images for channels:['405'] in 6.634s.\n",
      "- Correct illumination for channels: ['405']\n",
      "-- Keep channels: ['405'] for corr_illumination.\n",
      "-- loading illumination correction profile from file:\n",
      "\t 405 illumination_correction_405_2048x2048.npy\n",
      "-- corrected illumination for channel 405 in 7.880s.\n",
      "- Finished illumination correction in 8.010s.\n"
     ]
    },
    {
     "name": "stderr",
     "output_type": "stream",
     "text": [
      "\r",
      " 28%|██████████████████████▋                                                          | 47/168 [12:26<31:43, 15.73s/it]"
     ]
    },
    {
     "name": "stdout",
     "output_type": "stream",
     "text": [
      "Initialize DaxProcesser for file:\\\\10.245.74.158\\Chromatin_NAS_0\\20220304-P_brain_M1_nonclear_adaptors\\H0M1\\Conv_zscan_047.dax\n",
      "-- all used channels: ['750', '647', '561', '488', '405']\n",
      "-- single image size: [  50 2048 2048]\n",
      "- Loaded images for channels:['405'] in 6.138s.\n",
      "- Correct illumination for channels: ['405']\n",
      "-- Keep channels: ['405'] for corr_illumination.\n",
      "-- loading illumination correction profile from file:\n",
      "\t 405 illumination_correction_405_2048x2048.npy\n",
      "-- corrected illumination for channel 405 in 7.999s.\n",
      "- Finished illumination correction in 8.096s.\n"
     ]
    },
    {
     "name": "stderr",
     "output_type": "stream",
     "text": [
      "\r",
      " 29%|███████████████████████▏                                                         | 48/168 [12:42<31:11, 15.59s/it]"
     ]
    },
    {
     "name": "stdout",
     "output_type": "stream",
     "text": [
      "Initialize DaxProcesser for file:\\\\10.245.74.158\\Chromatin_NAS_0\\20220304-P_brain_M1_nonclear_adaptors\\H0M1\\Conv_zscan_048.dax\n",
      "-- all used channels: ['750', '647', '561', '488', '405']\n",
      "-- single image size: [  50 2048 2048]\n",
      "- Loaded images for channels:['405'] in 6.647s.\n",
      "- Correct illumination for channels: ['405']\n",
      "-- Keep channels: ['405'] for corr_illumination.\n",
      "-- loading illumination correction profile from file:\n",
      "\t 405 illumination_correction_405_2048x2048.npy\n",
      "-- corrected illumination for channel 405 in 7.863s.\n",
      "- Finished illumination correction in 7.961s.\n"
     ]
    },
    {
     "name": "stderr",
     "output_type": "stream",
     "text": [
      "\r",
      " 29%|███████████████████████▋                                                         | 49/168 [12:57<30:56, 15.60s/it]"
     ]
    },
    {
     "name": "stdout",
     "output_type": "stream",
     "text": [
      "Initialize DaxProcesser for file:\\\\10.245.74.158\\Chromatin_NAS_0\\20220304-P_brain_M1_nonclear_adaptors\\H0M1\\Conv_zscan_049.dax\n",
      "-- all used channels: ['750', '647', '561', '488', '405']\n",
      "-- single image size: [  50 2048 2048]\n",
      "- Loaded images for channels:['405'] in 7.856s.\n",
      "- Correct illumination for channels: ['405']\n",
      "-- Keep channels: ['405'] for corr_illumination.\n",
      "-- loading illumination correction profile from file:\n",
      "\t 405 illumination_correction_405_2048x2048.npy\n",
      "-- corrected illumination for channel 405 in 7.802s.\n",
      "- Finished illumination correction in 7.913s.\n"
     ]
    },
    {
     "name": "stderr",
     "output_type": "stream",
     "text": [
      "\r",
      " 30%|████████████████████████                                                         | 50/168 [13:14<31:22, 15.96s/it]"
     ]
    },
    {
     "name": "stdout",
     "output_type": "stream",
     "text": [
      "Initialize DaxProcesser for file:\\\\10.245.74.158\\Chromatin_NAS_0\\20220304-P_brain_M1_nonclear_adaptors\\H0M1\\Conv_zscan_050.dax\n",
      "-- all used channels: ['750', '647', '561', '488', '405']\n",
      "-- single image size: [  50 2048 2048]\n",
      "- Loaded images for channels:['405'] in 5.971s.\n",
      "- Correct illumination for channels: ['405']\n",
      "-- Keep channels: ['405'] for corr_illumination.\n",
      "-- loading illumination correction profile from file:\n",
      "\t 405 illumination_correction_405_2048x2048.npy\n",
      "-- corrected illumination for channel 405 in 7.790s.\n",
      "- Finished illumination correction in 7.883s.\n"
     ]
    },
    {
     "name": "stderr",
     "output_type": "stream",
     "text": [
      "\r",
      " 30%|████████████████████████▌                                                        | 51/168 [13:29<30:24, 15.60s/it]"
     ]
    },
    {
     "name": "stdout",
     "output_type": "stream",
     "text": [
      "Initialize DaxProcesser for file:\\\\10.245.74.158\\Chromatin_NAS_0\\20220304-P_brain_M1_nonclear_adaptors\\H0M1\\Conv_zscan_051.dax\n",
      "-- all used channels: ['750', '647', '561', '488', '405']\n",
      "-- single image size: [  50 2048 2048]\n",
      "- Loaded images for channels:['405'] in 7.058s.\n",
      "- Correct illumination for channels: ['405']\n",
      "-- Keep channels: ['405'] for corr_illumination.\n",
      "-- loading illumination correction profile from file:\n",
      "\t 405 illumination_correction_405_2048x2048.npy\n",
      "-- corrected illumination for channel 405 in 7.878s.\n",
      "- Finished illumination correction in 7.999s.\n"
     ]
    },
    {
     "name": "stderr",
     "output_type": "stream",
     "text": [
      "\r",
      " 31%|█████████████████████████                                                        | 52/168 [13:45<30:20, 15.70s/it]"
     ]
    },
    {
     "name": "stdout",
     "output_type": "stream",
     "text": [
      "Initialize DaxProcesser for file:\\\\10.245.74.158\\Chromatin_NAS_0\\20220304-P_brain_M1_nonclear_adaptors\\H0M1\\Conv_zscan_052.dax\n",
      "-- all used channels: ['750', '647', '561', '488', '405']\n",
      "-- single image size: [  50 2048 2048]\n",
      "- Loaded images for channels:['405'] in 5.858s.\n",
      "- Correct illumination for channels: ['405']\n",
      "-- Keep channels: ['405'] for corr_illumination.\n",
      "-- loading illumination correction profile from file:\n",
      "\t 405 illumination_correction_405_2048x2048.npy\n",
      "-- corrected illumination for channel 405 in 7.821s.\n",
      "- Finished illumination correction in 7.916s.\n"
     ]
    },
    {
     "name": "stderr",
     "output_type": "stream",
     "text": [
      "\r",
      " 32%|█████████████████████████▌                                                       | 53/168 [14:00<29:34, 15.43s/it]"
     ]
    },
    {
     "name": "stdout",
     "output_type": "stream",
     "text": [
      "Initialize DaxProcesser for file:\\\\10.245.74.158\\Chromatin_NAS_0\\20220304-P_brain_M1_nonclear_adaptors\\H0M1\\Conv_zscan_053.dax\n",
      "-- all used channels: ['750', '647', '561', '488', '405']\n",
      "-- single image size: [  50 2048 2048]\n",
      "- Loaded images for channels:['405'] in 6.254s.\n",
      "- Correct illumination for channels: ['405']\n",
      "-- Keep channels: ['405'] for corr_illumination.\n",
      "-- loading illumination correction profile from file:\n",
      "\t 405 illumination_correction_405_2048x2048.npy\n",
      "-- corrected illumination for channel 405 in 7.941s.\n",
      "- Finished illumination correction in 8.033s.\n"
     ]
    },
    {
     "name": "stderr",
     "output_type": "stream",
     "text": [
      "\r",
      " 32%|██████████████████████████                                                       | 54/168 [14:15<29:15, 15.40s/it]"
     ]
    },
    {
     "name": "stdout",
     "output_type": "stream",
     "text": [
      "Initialize DaxProcesser for file:\\\\10.245.74.158\\Chromatin_NAS_0\\20220304-P_brain_M1_nonclear_adaptors\\H0M1\\Conv_zscan_054.dax\n",
      "-- all used channels: ['750', '647', '561', '488', '405']\n",
      "-- single image size: [  50 2048 2048]\n",
      "- Loaded images for channels:['405'] in 7.165s.\n",
      "- Correct illumination for channels: ['405']\n",
      "-- Keep channels: ['405'] for corr_illumination.\n",
      "-- loading illumination correction profile from file:\n",
      "\t 405 illumination_correction_405_2048x2048.npy\n",
      "-- corrected illumination for channel 405 in 8.112s.\n",
      "- Finished illumination correction in 8.200s.\n"
     ]
    },
    {
     "name": "stderr",
     "output_type": "stream",
     "text": [
      "\r",
      " 33%|██████████████████████████▌                                                      | 55/168 [14:31<29:35, 15.71s/it]"
     ]
    },
    {
     "name": "stdout",
     "output_type": "stream",
     "text": [
      "Initialize DaxProcesser for file:\\\\10.245.74.158\\Chromatin_NAS_0\\20220304-P_brain_M1_nonclear_adaptors\\H0M1\\Conv_zscan_055.dax\n",
      "-- all used channels: ['750', '647', '561', '488', '405']\n",
      "-- single image size: [  50 2048 2048]\n",
      "- Loaded images for channels:['405'] in 7.134s.\n",
      "- Correct illumination for channels: ['405']\n",
      "-- Keep channels: ['405'] for corr_illumination.\n",
      "-- loading illumination correction profile from file:\n",
      "\t 405 illumination_correction_405_2048x2048.npy\n",
      "-- corrected illumination for channel 405 in 7.991s.\n",
      "- Finished illumination correction in 8.078s.\n"
     ]
    },
    {
     "name": "stderr",
     "output_type": "stream",
     "text": [
      "\r",
      " 33%|███████████████████████████                                                      | 56/168 [14:48<29:35, 15.86s/it]"
     ]
    },
    {
     "name": "stdout",
     "output_type": "stream",
     "text": [
      "Initialize DaxProcesser for file:\\\\10.245.74.158\\Chromatin_NAS_0\\20220304-P_brain_M1_nonclear_adaptors\\H0M1\\Conv_zscan_056.dax\n",
      "-- all used channels: ['750', '647', '561', '488', '405']\n",
      "-- single image size: [  50 2048 2048]\n",
      "- Loaded images for channels:['405'] in 6.147s.\n",
      "- Correct illumination for channels: ['405']\n",
      "-- Keep channels: ['405'] for corr_illumination.\n",
      "-- loading illumination correction profile from file:\n",
      "\t 405 illumination_correction_405_2048x2048.npy\n",
      "-- corrected illumination for channel 405 in 8.005s.\n",
      "- Finished illumination correction in 8.119s.\n"
     ]
    },
    {
     "name": "stderr",
     "output_type": "stream",
     "text": [
      "\r",
      " 34%|███████████████████████████▍                                                     | 57/168 [15:03<28:56, 15.65s/it]"
     ]
    },
    {
     "name": "stdout",
     "output_type": "stream",
     "text": [
      "Initialize DaxProcesser for file:\\\\10.245.74.158\\Chromatin_NAS_0\\20220304-P_brain_M1_nonclear_adaptors\\H0M1\\Conv_zscan_057.dax\n",
      "-- all used channels: ['750', '647', '561', '488', '405']\n",
      "-- single image size: [  50 2048 2048]\n",
      "- Loaded images for channels:['405'] in 6.211s.\n",
      "- Correct illumination for channels: ['405']\n",
      "-- Keep channels: ['405'] for corr_illumination.\n",
      "-- loading illumination correction profile from file:\n",
      "\t 405 illumination_correction_405_2048x2048.npy\n",
      "-- corrected illumination for channel 405 in 7.972s.\n",
      "- Finished illumination correction in 8.069s.\n"
     ]
    },
    {
     "name": "stderr",
     "output_type": "stream",
     "text": [
      "\r",
      " 35%|███████████████████████████▉                                                     | 58/168 [15:18<28:27, 15.52s/it]"
     ]
    },
    {
     "name": "stdout",
     "output_type": "stream",
     "text": [
      "Initialize DaxProcesser for file:\\\\10.245.74.158\\Chromatin_NAS_0\\20220304-P_brain_M1_nonclear_adaptors\\H0M1\\Conv_zscan_058.dax\n",
      "-- all used channels: ['750', '647', '561', '488', '405']\n",
      "-- single image size: [  50 2048 2048]\n",
      "- Loaded images for channels:['405'] in 6.377s.\n",
      "- Correct illumination for channels: ['405']\n",
      "-- Keep channels: ['405'] for corr_illumination.\n",
      "-- loading illumination correction profile from file:\n",
      "\t 405 illumination_correction_405_2048x2048.npy\n",
      "-- corrected illumination for channel 405 in 7.911s.\n",
      "- Finished illumination correction in 8.010s.\n"
     ]
    },
    {
     "name": "stderr",
     "output_type": "stream",
     "text": [
      "\r",
      " 35%|████████████████████████████▍                                                    | 59/168 [15:33<28:03, 15.44s/it]"
     ]
    },
    {
     "name": "stdout",
     "output_type": "stream",
     "text": [
      "Initialize DaxProcesser for file:\\\\10.245.74.158\\Chromatin_NAS_0\\20220304-P_brain_M1_nonclear_adaptors\\H0M1\\Conv_zscan_059.dax\n",
      "-- all used channels: ['750', '647', '561', '488', '405']\n",
      "-- single image size: [  50 2048 2048]\n",
      "- Loaded images for channels:['405'] in 6.060s.\n",
      "- Correct illumination for channels: ['405']\n",
      "-- Keep channels: ['405'] for corr_illumination.\n",
      "-- loading illumination correction profile from file:\n",
      "\t 405 illumination_correction_405_2048x2048.npy\n",
      "-- corrected illumination for channel 405 in 7.966s.\n",
      "- Finished illumination correction in 8.057s.\n"
     ]
    },
    {
     "name": "stderr",
     "output_type": "stream",
     "text": [
      "\r",
      " 36%|████████████████████████████▉                                                    | 60/168 [15:48<27:34, 15.32s/it]"
     ]
    },
    {
     "name": "stdout",
     "output_type": "stream",
     "text": [
      "Initialize DaxProcesser for file:\\\\10.245.74.158\\Chromatin_NAS_0\\20220304-P_brain_M1_nonclear_adaptors\\H0M1\\Conv_zscan_060.dax\n",
      "-- all used channels: ['750', '647', '561', '488', '405']\n",
      "-- single image size: [  50 2048 2048]\n",
      "- Loaded images for channels:['405'] in 6.496s.\n",
      "- Correct illumination for channels: ['405']\n",
      "-- Keep channels: ['405'] for corr_illumination.\n",
      "-- loading illumination correction profile from file:\n",
      "\t 405 illumination_correction_405_2048x2048.npy\n",
      "-- corrected illumination for channel 405 in 7.777s.\n",
      "- Finished illumination correction in 7.886s.\n"
     ]
    },
    {
     "name": "stderr",
     "output_type": "stream",
     "text": [
      "\r",
      " 36%|█████████████████████████████▍                                                   | 61/168 [16:04<27:17, 15.30s/it]"
     ]
    },
    {
     "name": "stdout",
     "output_type": "stream",
     "text": [
      "Initialize DaxProcesser for file:\\\\10.245.74.158\\Chromatin_NAS_0\\20220304-P_brain_M1_nonclear_adaptors\\H0M1\\Conv_zscan_061.dax\n",
      "-- all used channels: ['750', '647', '561', '488', '405']\n",
      "-- single image size: [  50 2048 2048]\n",
      "- Loaded images for channels:['405'] in 6.887s.\n",
      "- Correct illumination for channels: ['405']\n",
      "-- Keep channels: ['405'] for corr_illumination.\n",
      "-- loading illumination correction profile from file:\n",
      "\t 405 illumination_correction_405_2048x2048.npy\n",
      "-- corrected illumination for channel 405 in 7.952s.\n",
      "- Finished illumination correction in 8.085s.\n"
     ]
    },
    {
     "name": "stderr",
     "output_type": "stream",
     "text": [
      "\r",
      " 37%|█████████████████████████████▉                                                   | 62/168 [16:19<27:21, 15.49s/it]"
     ]
    },
    {
     "name": "stdout",
     "output_type": "stream",
     "text": [
      "Initialize DaxProcesser for file:\\\\10.245.74.158\\Chromatin_NAS_0\\20220304-P_brain_M1_nonclear_adaptors\\H0M1\\Conv_zscan_062.dax\n",
      "-- all used channels: ['750', '647', '561', '488', '405']\n",
      "-- single image size: [  50 2048 2048]\n",
      "- Loaded images for channels:['405'] in 6.098s.\n",
      "- Correct illumination for channels: ['405']\n",
      "-- Keep channels: ['405'] for corr_illumination.\n",
      "-- loading illumination correction profile from file:\n",
      "\t 405 illumination_correction_405_2048x2048.npy\n",
      "-- corrected illumination for channel 405 in 7.979s.\n",
      "- Finished illumination correction in 8.071s.\n"
     ]
    },
    {
     "name": "stderr",
     "output_type": "stream",
     "text": [
      "\r",
      " 38%|██████████████████████████████▍                                                  | 63/168 [16:35<26:56, 15.39s/it]"
     ]
    },
    {
     "name": "stdout",
     "output_type": "stream",
     "text": [
      "Initialize DaxProcesser for file:\\\\10.245.74.158\\Chromatin_NAS_0\\20220304-P_brain_M1_nonclear_adaptors\\H0M1\\Conv_zscan_063.dax\n",
      "-- all used channels: ['750', '647', '561', '488', '405']\n",
      "-- single image size: [  50 2048 2048]\n",
      "- Loaded images for channels:['405'] in 6.621s.\n",
      "- Correct illumination for channels: ['405']\n",
      "-- Keep channels: ['405'] for corr_illumination.\n",
      "-- loading illumination correction profile from file:\n",
      "\t 405 illumination_correction_405_2048x2048.npy\n",
      "-- corrected illumination for channel 405 in 8.043s.\n",
      "- Finished illumination correction in 8.133s.\n"
     ]
    },
    {
     "name": "stderr",
     "output_type": "stream",
     "text": [
      "\r",
      " 38%|██████████████████████████████▊                                                  | 64/168 [16:50<26:48, 15.47s/it]"
     ]
    },
    {
     "name": "stdout",
     "output_type": "stream",
     "text": [
      "Initialize DaxProcesser for file:\\\\10.245.74.158\\Chromatin_NAS_0\\20220304-P_brain_M1_nonclear_adaptors\\H0M1\\Conv_zscan_064.dax\n",
      "-- all used channels: ['750', '647', '561', '488', '405']\n",
      "-- single image size: [  50 2048 2048]\n",
      "- Loaded images for channels:['405'] in 7.928s.\n",
      "- Correct illumination for channels: ['405']\n",
      "-- Keep channels: ['405'] for corr_illumination.\n",
      "-- loading illumination correction profile from file:\n",
      "\t 405 illumination_correction_405_2048x2048.npy\n",
      "-- corrected illumination for channel 405 in 7.905s.\n",
      "- Finished illumination correction in 8.016s.\n"
     ]
    },
    {
     "name": "stderr",
     "output_type": "stream",
     "text": [
      "\r",
      " 39%|███████████████████████████████▎                                                 | 65/168 [17:07<27:19, 15.92s/it]"
     ]
    },
    {
     "name": "stdout",
     "output_type": "stream",
     "text": [
      "Initialize DaxProcesser for file:\\\\10.245.74.158\\Chromatin_NAS_0\\20220304-P_brain_M1_nonclear_adaptors\\H0M1\\Conv_zscan_065.dax\n",
      "-- all used channels: ['750', '647', '561', '488', '405']\n",
      "-- single image size: [  50 2048 2048]\n",
      "- Loaded images for channels:['405'] in 7.461s.\n",
      "- Correct illumination for channels: ['405']\n",
      "-- Keep channels: ['405'] for corr_illumination.\n",
      "-- loading illumination correction profile from file:\n",
      "\t 405 illumination_correction_405_2048x2048.npy\n",
      "-- corrected illumination for channel 405 in 7.798s.\n",
      "- Finished illumination correction in 7.892s.\n"
     ]
    },
    {
     "name": "stderr",
     "output_type": "stream",
     "text": [
      "\r",
      " 39%|███████████████████████████████▊                                                 | 66/168 [17:23<27:14, 16.02s/it]"
     ]
    },
    {
     "name": "stdout",
     "output_type": "stream",
     "text": [
      "Initialize DaxProcesser for file:\\\\10.245.74.158\\Chromatin_NAS_0\\20220304-P_brain_M1_nonclear_adaptors\\H0M1\\Conv_zscan_066.dax\n",
      "-- all used channels: ['750', '647', '561', '488', '405']\n",
      "-- single image size: [  50 2048 2048]\n",
      "- Loaded images for channels:['405'] in 5.569s.\n",
      "- Correct illumination for channels: ['405']\n",
      "-- Keep channels: ['405'] for corr_illumination.\n",
      "-- loading illumination correction profile from file:\n",
      "\t 405 illumination_correction_405_2048x2048.npy\n",
      "-- corrected illumination for channel 405 in 7.838s.\n",
      "- Finished illumination correction in 7.969s.\n"
     ]
    },
    {
     "name": "stderr",
     "output_type": "stream",
     "text": [
      "\r",
      " 40%|████████████████████████████████▎                                                | 67/168 [17:38<26:16, 15.61s/it]"
     ]
    },
    {
     "name": "stdout",
     "output_type": "stream",
     "text": [
      "Initialize DaxProcesser for file:\\\\10.245.74.158\\Chromatin_NAS_0\\20220304-P_brain_M1_nonclear_adaptors\\H0M1\\Conv_zscan_067.dax\n",
      "-- all used channels: ['750', '647', '561', '488', '405']\n",
      "-- single image size: [  50 2048 2048]\n",
      "- Loaded images for channels:['405'] in 7.201s.\n",
      "- Correct illumination for channels: ['405']\n",
      "-- Keep channels: ['405'] for corr_illumination.\n",
      "-- loading illumination correction profile from file:\n",
      "\t 405 illumination_correction_405_2048x2048.npy\n",
      "-- corrected illumination for channel 405 in 7.893s.\n",
      "- Finished illumination correction in 7.985s.\n"
     ]
    },
    {
     "name": "stderr",
     "output_type": "stream",
     "text": [
      "\r",
      " 40%|████████████████████████████████▊                                                | 68/168 [17:54<26:14, 15.75s/it]"
     ]
    },
    {
     "name": "stdout",
     "output_type": "stream",
     "text": [
      "Initialize DaxProcesser for file:\\\\10.245.74.158\\Chromatin_NAS_0\\20220304-P_brain_M1_nonclear_adaptors\\H0M1\\Conv_zscan_068.dax\n",
      "-- all used channels: ['750', '647', '561', '488', '405']\n",
      "-- single image size: [  50 2048 2048]\n",
      "- Loaded images for channels:['405'] in 7.252s.\n",
      "- Correct illumination for channels: ['405']\n",
      "-- Keep channels: ['405'] for corr_illumination.\n",
      "-- loading illumination correction profile from file:\n",
      "\t 405 illumination_correction_405_2048x2048.npy\n",
      "-- corrected illumination for channel 405 in 8.016s.\n",
      "- Finished illumination correction in 8.110s.\n"
     ]
    },
    {
     "name": "stderr",
     "output_type": "stream",
     "text": [
      "\r",
      " 41%|█████████████████████████████████▎                                               | 69/168 [18:11<26:17, 15.94s/it]"
     ]
    },
    {
     "name": "stdout",
     "output_type": "stream",
     "text": [
      "Initialize DaxProcesser for file:\\\\10.245.74.158\\Chromatin_NAS_0\\20220304-P_brain_M1_nonclear_adaptors\\H0M1\\Conv_zscan_069.dax\n",
      "-- all used channels: ['750', '647', '561', '488', '405']\n",
      "-- single image size: [  50 2048 2048]\n",
      "- Loaded images for channels:['405'] in 7.110s.\n",
      "- Correct illumination for channels: ['405']\n",
      "-- Keep channels: ['405'] for corr_illumination.\n",
      "-- loading illumination correction profile from file:\n",
      "\t 405 illumination_correction_405_2048x2048.npy\n",
      "-- corrected illumination for channel 405 in 7.968s.\n",
      "- Finished illumination correction in 8.072s.\n"
     ]
    },
    {
     "name": "stderr",
     "output_type": "stream",
     "text": [
      "\r",
      " 42%|█████████████████████████████████▊                                               | 70/168 [18:27<26:09, 16.01s/it]"
     ]
    },
    {
     "name": "stdout",
     "output_type": "stream",
     "text": [
      "Initialize DaxProcesser for file:\\\\10.245.74.158\\Chromatin_NAS_0\\20220304-P_brain_M1_nonclear_adaptors\\H0M1\\Conv_zscan_070.dax\n",
      "-- all used channels: ['750', '647', '561', '488', '405']\n",
      "-- single image size: [  50 2048 2048]\n",
      "- Loaded images for channels:['405'] in 7.174s.\n",
      "- Correct illumination for channels: ['405']\n",
      "-- Keep channels: ['405'] for corr_illumination.\n",
      "-- loading illumination correction profile from file:\n",
      "\t 405 illumination_correction_405_2048x2048.npy\n",
      "-- corrected illumination for channel 405 in 7.921s.\n",
      "- Finished illumination correction in 8.014s.\n"
     ]
    },
    {
     "name": "stderr",
     "output_type": "stream",
     "text": [
      "\r",
      " 42%|██████████████████████████████████▏                                              | 71/168 [18:43<25:56, 16.04s/it]"
     ]
    },
    {
     "name": "stdout",
     "output_type": "stream",
     "text": [
      "Initialize DaxProcesser for file:\\\\10.245.74.158\\Chromatin_NAS_0\\20220304-P_brain_M1_nonclear_adaptors\\H0M1\\Conv_zscan_071.dax\n",
      "-- all used channels: ['750', '647', '561', '488', '405']\n",
      "-- single image size: [  50 2048 2048]\n",
      "- Loaded images for channels:['405'] in 6.270s.\n",
      "- Correct illumination for channels: ['405']\n",
      "-- Keep channels: ['405'] for corr_illumination.\n",
      "-- loading illumination correction profile from file:\n",
      "\t 405 illumination_correction_405_2048x2048.npy\n",
      "-- corrected illumination for channel 405 in 8.014s.\n",
      "- Finished illumination correction in 8.138s.\n"
     ]
    },
    {
     "name": "stderr",
     "output_type": "stream",
     "text": [
      "\r",
      " 43%|██████████████████████████████████▋                                              | 72/168 [18:58<25:19, 15.83s/it]"
     ]
    },
    {
     "name": "stdout",
     "output_type": "stream",
     "text": [
      "Initialize DaxProcesser for file:\\\\10.245.74.158\\Chromatin_NAS_0\\20220304-P_brain_M1_nonclear_adaptors\\H0M1\\Conv_zscan_072.dax\n",
      "-- all used channels: ['750', '647', '561', '488', '405']\n",
      "-- single image size: [  50 2048 2048]\n",
      "- Loaded images for channels:['405'] in 6.900s.\n",
      "- Correct illumination for channels: ['405']\n",
      "-- Keep channels: ['405'] for corr_illumination.\n",
      "-- loading illumination correction profile from file:\n",
      "\t 405 illumination_correction_405_2048x2048.npy\n",
      "-- corrected illumination for channel 405 in 7.753s.\n",
      "- Finished illumination correction in 7.841s.\n"
     ]
    },
    {
     "name": "stderr",
     "output_type": "stream",
     "text": [
      "\r",
      " 43%|███████████████████████████████████▏                                             | 73/168 [19:14<24:59, 15.79s/it]"
     ]
    },
    {
     "name": "stdout",
     "output_type": "stream",
     "text": [
      "Initialize DaxProcesser for file:\\\\10.245.74.158\\Chromatin_NAS_0\\20220304-P_brain_M1_nonclear_adaptors\\H0M1\\Conv_zscan_073.dax\n",
      "-- all used channels: ['750', '647', '561', '488', '405']\n",
      "-- single image size: [  50 2048 2048]\n",
      "- Loaded images for channels:['405'] in 6.864s.\n",
      "- Correct illumination for channels: ['405']\n",
      "-- Keep channels: ['405'] for corr_illumination.\n",
      "-- loading illumination correction profile from file:\n",
      "\t 405 illumination_correction_405_2048x2048.npy\n",
      "-- corrected illumination for channel 405 in 7.908s.\n",
      "- Finished illumination correction in 7.996s.\n"
     ]
    },
    {
     "name": "stderr",
     "output_type": "stream",
     "text": [
      "\r",
      " 44%|███████████████████████████████████▋                                             | 74/168 [19:30<24:44, 15.80s/it]"
     ]
    },
    {
     "name": "stdout",
     "output_type": "stream",
     "text": [
      "Initialize DaxProcesser for file:\\\\10.245.74.158\\Chromatin_NAS_0\\20220304-P_brain_M1_nonclear_adaptors\\H0M1\\Conv_zscan_074.dax\n",
      "-- all used channels: ['750', '647', '561', '488', '405']\n",
      "-- single image size: [  50 2048 2048]\n",
      "- Loaded images for channels:['405'] in 6.590s.\n",
      "- Correct illumination for channels: ['405']\n",
      "-- Keep channels: ['405'] for corr_illumination.\n",
      "-- loading illumination correction profile from file:\n",
      "\t 405 illumination_correction_405_2048x2048.npy\n",
      "-- corrected illumination for channel 405 in 7.946s.\n",
      "- Finished illumination correction in 8.032s.\n"
     ]
    },
    {
     "name": "stderr",
     "output_type": "stream",
     "text": [
      "\r",
      " 45%|████████████████████████████████████▏                                            | 75/168 [19:45<24:21, 15.71s/it]"
     ]
    },
    {
     "name": "stdout",
     "output_type": "stream",
     "text": [
      "Initialize DaxProcesser for file:\\\\10.245.74.158\\Chromatin_NAS_0\\20220304-P_brain_M1_nonclear_adaptors\\H0M1\\Conv_zscan_075.dax\n",
      "-- all used channels: ['750', '647', '561', '488', '405']\n",
      "-- single image size: [  50 2048 2048]\n",
      "- Loaded images for channels:['405'] in 6.903s.\n",
      "- Correct illumination for channels: ['405']\n",
      "-- Keep channels: ['405'] for corr_illumination.\n",
      "-- loading illumination correction profile from file:\n",
      "\t 405 illumination_correction_405_2048x2048.npy\n",
      "-- corrected illumination for channel 405 in 8.055s.\n",
      "- Finished illumination correction in 8.166s.\n"
     ]
    },
    {
     "name": "stderr",
     "output_type": "stream",
     "text": [
      "\r",
      " 45%|████████████████████████████████████▋                                            | 76/168 [20:01<24:16, 15.83s/it]"
     ]
    },
    {
     "name": "stdout",
     "output_type": "stream",
     "text": [
      "Initialize DaxProcesser for file:\\\\10.245.74.158\\Chromatin_NAS_0\\20220304-P_brain_M1_nonclear_adaptors\\H0M1\\Conv_zscan_076.dax\n",
      "-- all used channels: ['750', '647', '561', '488', '405']\n",
      "-- single image size: [  50 2048 2048]\n",
      "- Loaded images for channels:['405'] in 6.769s.\n",
      "- Correct illumination for channels: ['405']\n",
      "-- Keep channels: ['405'] for corr_illumination.\n",
      "-- loading illumination correction profile from file:\n",
      "\t 405 illumination_correction_405_2048x2048.npy\n",
      "-- corrected illumination for channel 405 in 7.986s.\n",
      "- Finished illumination correction in 8.081s.\n"
     ]
    },
    {
     "name": "stderr",
     "output_type": "stream",
     "text": [
      "\r",
      " 46%|█████████████████████████████████████▏                                           | 77/168 [20:17<24:00, 15.83s/it]"
     ]
    },
    {
     "name": "stdout",
     "output_type": "stream",
     "text": [
      "Initialize DaxProcesser for file:\\\\10.245.74.158\\Chromatin_NAS_0\\20220304-P_brain_M1_nonclear_adaptors\\H0M1\\Conv_zscan_077.dax\n",
      "-- all used channels: ['750', '647', '561', '488', '405']\n",
      "-- single image size: [  50 2048 2048]\n",
      "- Loaded images for channels:['405'] in 6.490s.\n",
      "- Correct illumination for channels: ['405']\n",
      "-- Keep channels: ['405'] for corr_illumination.\n",
      "-- loading illumination correction profile from file:\n",
      "\t 405 illumination_correction_405_2048x2048.npy\n",
      "-- corrected illumination for channel 405 in 7.929s.\n",
      "- Finished illumination correction in 8.015s.\n"
     ]
    },
    {
     "name": "stderr",
     "output_type": "stream",
     "text": [
      "\r",
      " 46%|█████████████████████████████████████▌                                           | 78/168 [20:33<23:34, 15.71s/it]"
     ]
    },
    {
     "name": "stdout",
     "output_type": "stream",
     "text": [
      "Initialize DaxProcesser for file:\\\\10.245.74.158\\Chromatin_NAS_0\\20220304-P_brain_M1_nonclear_adaptors\\H0M1\\Conv_zscan_078.dax\n",
      "-- all used channels: ['750', '647', '561', '488', '405']\n",
      "-- single image size: [  50 2048 2048]\n",
      "- Loaded images for channels:['405'] in 6.776s.\n",
      "- Correct illumination for channels: ['405']\n",
      "-- Keep channels: ['405'] for corr_illumination.\n",
      "-- loading illumination correction profile from file:\n",
      "\t 405 illumination_correction_405_2048x2048.npy\n",
      "-- corrected illumination for channel 405 in 7.805s.\n",
      "- Finished illumination correction in 7.909s.\n"
     ]
    },
    {
     "name": "stderr",
     "output_type": "stream",
     "text": [
      "\r",
      " 47%|██████████████████████████████████████                                           | 79/168 [20:48<23:13, 15.66s/it]"
     ]
    },
    {
     "name": "stdout",
     "output_type": "stream",
     "text": [
      "Initialize DaxProcesser for file:\\\\10.245.74.158\\Chromatin_NAS_0\\20220304-P_brain_M1_nonclear_adaptors\\H0M1\\Conv_zscan_079.dax\n",
      "-- all used channels: ['750', '647', '561', '488', '405']\n",
      "-- single image size: [  50 2048 2048]\n",
      "- Loaded images for channels:['405'] in 7.176s.\n",
      "- Correct illumination for channels: ['405']\n",
      "-- Keep channels: ['405'] for corr_illumination.\n",
      "-- loading illumination correction profile from file:\n",
      "\t 405 illumination_correction_405_2048x2048.npy\n",
      "-- corrected illumination for channel 405 in 7.919s.\n",
      "- Finished illumination correction in 8.034s.\n"
     ]
    },
    {
     "name": "stderr",
     "output_type": "stream",
     "text": [
      "\r",
      " 48%|██████████████████████████████████████▌                                          | 80/168 [21:04<23:10, 15.80s/it]"
     ]
    },
    {
     "name": "stdout",
     "output_type": "stream",
     "text": [
      "Initialize DaxProcesser for file:\\\\10.245.74.158\\Chromatin_NAS_0\\20220304-P_brain_M1_nonclear_adaptors\\H0M1\\Conv_zscan_080.dax\n",
      "-- all used channels: ['750', '647', '561', '488', '405']\n",
      "-- single image size: [  50 2048 2048]\n",
      "- Loaded images for channels:['405'] in 6.325s.\n",
      "- Correct illumination for channels: ['405']\n",
      "-- Keep channels: ['405'] for corr_illumination.\n",
      "-- loading illumination correction profile from file:\n",
      "\t 405 illumination_correction_405_2048x2048.npy\n",
      "-- corrected illumination for channel 405 in 7.998s.\n",
      "- Finished illumination correction in 8.098s.\n"
     ]
    },
    {
     "name": "stderr",
     "output_type": "stream",
     "text": [
      "\r",
      " 48%|███████████████████████████████████████                                          | 81/168 [21:20<22:42, 15.66s/it]"
     ]
    },
    {
     "name": "stdout",
     "output_type": "stream",
     "text": [
      "Initialize DaxProcesser for file:\\\\10.245.74.158\\Chromatin_NAS_0\\20220304-P_brain_M1_nonclear_adaptors\\H0M1\\Conv_zscan_081.dax\n",
      "-- all used channels: ['750', '647', '561', '488', '405']\n",
      "-- single image size: [  50 2048 2048]\n",
      "- Loaded images for channels:['405'] in 6.720s.\n",
      "- Correct illumination for channels: ['405']\n",
      "-- Keep channels: ['405'] for corr_illumination.\n",
      "-- loading illumination correction profile from file:\n",
      "\t 405 illumination_correction_405_2048x2048.npy\n",
      "-- corrected illumination for channel 405 in 7.824s.\n",
      "- Finished illumination correction in 7.914s.\n"
     ]
    },
    {
     "name": "stderr",
     "output_type": "stream",
     "text": [
      "\r",
      " 49%|███████████████████████████████████████▌                                         | 82/168 [21:35<22:24, 15.63s/it]"
     ]
    },
    {
     "name": "stdout",
     "output_type": "stream",
     "text": [
      "Initialize DaxProcesser for file:\\\\10.245.74.158\\Chromatin_NAS_0\\20220304-P_brain_M1_nonclear_adaptors\\H0M1\\Conv_zscan_082.dax\n",
      "-- all used channels: ['750', '647', '561', '488', '405']\n",
      "-- single image size: [  50 2048 2048]\n",
      "- Loaded images for channels:['405'] in 6.575s.\n",
      "- Correct illumination for channels: ['405']\n",
      "-- Keep channels: ['405'] for corr_illumination.\n",
      "-- loading illumination correction profile from file:\n",
      "\t 405 illumination_correction_405_2048x2048.npy\n",
      "-- corrected illumination for channel 405 in 8.041s.\n",
      "- Finished illumination correction in 8.129s.\n"
     ]
    },
    {
     "name": "stderr",
     "output_type": "stream",
     "text": [
      "\r",
      " 49%|████████████████████████████████████████                                         | 83/168 [21:51<22:13, 15.69s/it]"
     ]
    },
    {
     "name": "stdout",
     "output_type": "stream",
     "text": [
      "Initialize DaxProcesser for file:\\\\10.245.74.158\\Chromatin_NAS_0\\20220304-P_brain_M1_nonclear_adaptors\\H0M1\\Conv_zscan_083.dax\n",
      "-- all used channels: ['750', '647', '561', '488', '405']\n",
      "-- single image size: [  50 2048 2048]\n",
      "- Loaded images for channels:['405'] in 6.237s.\n",
      "- Correct illumination for channels: ['405']\n",
      "-- Keep channels: ['405'] for corr_illumination.\n",
      "-- loading illumination correction profile from file:\n",
      "\t 405 illumination_correction_405_2048x2048.npy\n",
      "-- corrected illumination for channel 405 in 7.892s.\n",
      "- Finished illumination correction in 8.016s.\n"
     ]
    },
    {
     "name": "stderr",
     "output_type": "stream",
     "text": [
      "\r",
      " 50%|████████████████████████████████████████▌                                        | 84/168 [22:06<21:44, 15.53s/it]"
     ]
    },
    {
     "name": "stdout",
     "output_type": "stream",
     "text": [
      "Initialize DaxProcesser for file:\\\\10.245.74.158\\Chromatin_NAS_0\\20220304-P_brain_M1_nonclear_adaptors\\H0M1\\Conv_zscan_084.dax\n",
      "-- all used channels: ['750', '647', '561', '488', '405']\n",
      "-- single image size: [  50 2048 2048]\n",
      "- Loaded images for channels:['405'] in 6.767s.\n",
      "- Correct illumination for channels: ['405']\n",
      "-- Keep channels: ['405'] for corr_illumination.\n",
      "-- loading illumination correction profile from file:\n",
      "\t 405 illumination_correction_405_2048x2048.npy\n",
      "-- corrected illumination for channel 405 in 7.598s.\n",
      "- Finished illumination correction in 7.716s.\n"
     ]
    },
    {
     "name": "stderr",
     "output_type": "stream",
     "text": [
      "\r",
      " 51%|████████████████████████████████████████▉                                        | 85/168 [22:22<21:28, 15.53s/it]"
     ]
    },
    {
     "name": "stdout",
     "output_type": "stream",
     "text": [
      "Initialize DaxProcesser for file:\\\\10.245.74.158\\Chromatin_NAS_0\\20220304-P_brain_M1_nonclear_adaptors\\H0M1\\Conv_zscan_085.dax\n",
      "-- all used channels: ['750', '647', '561', '488', '405']\n",
      "-- single image size: [  50 2048 2048]\n",
      "- Loaded images for channels:['405'] in 5.951s.\n",
      "- Correct illumination for channels: ['405']\n",
      "-- Keep channels: ['405'] for corr_illumination.\n",
      "-- loading illumination correction profile from file:\n",
      "\t 405 illumination_correction_405_2048x2048.npy\n",
      "-- corrected illumination for channel 405 in 7.973s.\n",
      "- Finished illumination correction in 8.057s.\n"
     ]
    },
    {
     "name": "stderr",
     "output_type": "stream",
     "text": [
      "\r",
      " 51%|█████████████████████████████████████████▍                                       | 86/168 [22:37<20:58, 15.34s/it]"
     ]
    },
    {
     "name": "stdout",
     "output_type": "stream",
     "text": [
      "Initialize DaxProcesser for file:\\\\10.245.74.158\\Chromatin_NAS_0\\20220304-P_brain_M1_nonclear_adaptors\\H0M1\\Conv_zscan_086.dax\n",
      "-- all used channels: ['750', '647', '561', '488', '405']\n",
      "-- single image size: [  50 2048 2048]\n",
      "- Loaded images for channels:['405'] in 7.084s.\n",
      "- Correct illumination for channels: ['405']\n",
      "-- Keep channels: ['405'] for corr_illumination.\n",
      "-- loading illumination correction profile from file:\n",
      "\t 405 illumination_correction_405_2048x2048.npy\n",
      "-- corrected illumination for channel 405 in 8.028s.\n",
      "- Finished illumination correction in 8.120s.\n"
     ]
    },
    {
     "name": "stderr",
     "output_type": "stream",
     "text": [
      "\r",
      " 52%|█████████████████████████████████████████▉                                       | 87/168 [22:53<21:03, 15.59s/it]"
     ]
    },
    {
     "name": "stdout",
     "output_type": "stream",
     "text": [
      "Initialize DaxProcesser for file:\\\\10.245.74.158\\Chromatin_NAS_0\\20220304-P_brain_M1_nonclear_adaptors\\H0M1\\Conv_zscan_087.dax\n",
      "-- all used channels: ['750', '647', '561', '488', '405']\n",
      "-- single image size: [  50 2048 2048]\n",
      "- Loaded images for channels:['405'] in 6.707s.\n",
      "- Correct illumination for channels: ['405']\n",
      "-- Keep channels: ['405'] for corr_illumination.\n",
      "-- loading illumination correction profile from file:\n",
      "\t 405 illumination_correction_405_2048x2048.npy\n",
      "-- corrected illumination for channel 405 in 7.937s.\n",
      "- Finished illumination correction in 8.053s.\n"
     ]
    },
    {
     "name": "stderr",
     "output_type": "stream",
     "text": [
      "\r",
      " 52%|██████████████████████████████████████████▍                                      | 88/168 [23:08<20:48, 15.61s/it]"
     ]
    },
    {
     "name": "stdout",
     "output_type": "stream",
     "text": [
      "Initialize DaxProcesser for file:\\\\10.245.74.158\\Chromatin_NAS_0\\20220304-P_brain_M1_nonclear_adaptors\\H0M1\\Conv_zscan_088.dax\n",
      "-- all used channels: ['750', '647', '561', '488', '405']\n",
      "-- single image size: [  50 2048 2048]\n",
      "- Loaded images for channels:['405'] in 7.098s.\n",
      "- Correct illumination for channels: ['405']\n",
      "-- Keep channels: ['405'] for corr_illumination.\n",
      "-- loading illumination correction profile from file:\n",
      "\t 405 illumination_correction_405_2048x2048.npy\n",
      "-- corrected illumination for channel 405 in 7.753s.\n",
      "- Finished illumination correction in 7.856s.\n"
     ]
    },
    {
     "name": "stderr",
     "output_type": "stream",
     "text": [
      "\r",
      " 53%|██████████████████████████████████████████▉                                      | 89/168 [23:24<20:37, 15.67s/it]"
     ]
    },
    {
     "name": "stdout",
     "output_type": "stream",
     "text": [
      "Initialize DaxProcesser for file:\\\\10.245.74.158\\Chromatin_NAS_0\\20220304-P_brain_M1_nonclear_adaptors\\H0M1\\Conv_zscan_089.dax\n",
      "-- all used channels: ['750', '647', '561', '488', '405']\n",
      "-- single image size: [  50 2048 2048]\n",
      "- Loaded images for channels:['405'] in 5.965s.\n",
      "- Correct illumination for channels: ['405']\n",
      "-- Keep channels: ['405'] for corr_illumination.\n",
      "-- loading illumination correction profile from file:\n",
      "\t 405 illumination_correction_405_2048x2048.npy\n",
      "-- corrected illumination for channel 405 in 8.019s.\n",
      "- Finished illumination correction in 8.038s.\n"
     ]
    },
    {
     "name": "stderr",
     "output_type": "stream",
     "text": [
      "\r",
      " 54%|███████████████████████████████████████████▍                                     | 90/168 [23:39<20:04, 15.45s/it]"
     ]
    },
    {
     "name": "stdout",
     "output_type": "stream",
     "text": [
      "Initialize DaxProcesser for file:\\\\10.245.74.158\\Chromatin_NAS_0\\20220304-P_brain_M1_nonclear_adaptors\\H0M1\\Conv_zscan_090.dax\n",
      "-- all used channels: ['750', '647', '561', '488', '405']\n",
      "-- single image size: [  50 2048 2048]\n",
      "- Loaded images for channels:['405'] in 6.036s.\n",
      "- Correct illumination for channels: ['405']\n",
      "-- Keep channels: ['405'] for corr_illumination.\n",
      "-- loading illumination correction profile from file:\n",
      "\t 405 illumination_correction_405_2048x2048.npy\n",
      "-- corrected illumination for channel 405 in 7.990s.\n",
      "- Finished illumination correction in 8.081s.\n"
     ]
    },
    {
     "name": "stderr",
     "output_type": "stream",
     "text": [
      "\r",
      " 54%|███████████████████████████████████████████▉                                     | 91/168 [23:54<19:39, 15.32s/it]"
     ]
    },
    {
     "name": "stdout",
     "output_type": "stream",
     "text": [
      "Initialize DaxProcesser for file:\\\\10.245.74.158\\Chromatin_NAS_0\\20220304-P_brain_M1_nonclear_adaptors\\H0M1\\Conv_zscan_091.dax\n",
      "-- all used channels: ['750', '647', '561', '488', '405']\n",
      "-- single image size: [  50 2048 2048]\n",
      "- Loaded images for channels:['405'] in 6.691s.\n",
      "- Correct illumination for channels: ['405']\n",
      "-- Keep channels: ['405'] for corr_illumination.\n",
      "-- loading illumination correction profile from file:\n",
      "\t 405 illumination_correction_405_2048x2048.npy\n",
      "-- corrected illumination for channel 405 in 7.885s.\n",
      "- Finished illumination correction in 7.990s.\n"
     ]
    },
    {
     "name": "stderr",
     "output_type": "stream",
     "text": [
      "\r",
      " 55%|████████████████████████████████████████████▎                                    | 92/168 [24:10<19:32, 15.42s/it]"
     ]
    },
    {
     "name": "stdout",
     "output_type": "stream",
     "text": [
      "Initialize DaxProcesser for file:\\\\10.245.74.158\\Chromatin_NAS_0\\20220304-P_brain_M1_nonclear_adaptors\\H0M1\\Conv_zscan_092.dax\n",
      "-- all used channels: ['750', '647', '561', '488', '405']\n",
      "-- single image size: [  50 2048 2048]\n",
      "- Loaded images for channels:['405'] in 6.729s.\n",
      "- Correct illumination for channels: ['405']\n",
      "-- Keep channels: ['405'] for corr_illumination.\n",
      "-- loading illumination correction profile from file:\n",
      "\t 405 illumination_correction_405_2048x2048.npy\n",
      "-- corrected illumination for channel 405 in 8.016s.\n",
      "- Finished illumination correction in 8.112s.\n"
     ]
    },
    {
     "name": "stderr",
     "output_type": "stream",
     "text": [
      "\r",
      " 55%|████████████████████████████████████████████▊                                    | 93/168 [24:26<19:26, 15.56s/it]"
     ]
    },
    {
     "name": "stdout",
     "output_type": "stream",
     "text": [
      "Initialize DaxProcesser for file:\\\\10.245.74.158\\Chromatin_NAS_0\\20220304-P_brain_M1_nonclear_adaptors\\H0M1\\Conv_zscan_093.dax\n",
      "-- all used channels: ['750', '647', '561', '488', '405']\n",
      "-- single image size: [  50 2048 2048]\n",
      "- Loaded images for channels:['405'] in 7.106s.\n",
      "- Correct illumination for channels: ['405']\n",
      "-- Keep channels: ['405'] for corr_illumination.\n",
      "-- loading illumination correction profile from file:\n",
      "\t 405 illumination_correction_405_2048x2048.npy\n",
      "-- corrected illumination for channel 405 in 8.175s.\n",
      "- Finished illumination correction in 8.267s.\n"
     ]
    },
    {
     "name": "stderr",
     "output_type": "stream",
     "text": [
      "\r",
      " 56%|█████████████████████████████████████████████▎                                   | 94/168 [24:42<19:30, 15.82s/it]"
     ]
    },
    {
     "name": "stdout",
     "output_type": "stream",
     "text": [
      "Initialize DaxProcesser for file:\\\\10.245.74.158\\Chromatin_NAS_0\\20220304-P_brain_M1_nonclear_adaptors\\H0M1\\Conv_zscan_094.dax\n",
      "-- all used channels: ['750', '647', '561', '488', '405']\n",
      "-- single image size: [  50 2048 2048]\n",
      "- Loaded images for channels:['405'] in 6.934s.\n",
      "- Correct illumination for channels: ['405']\n",
      "-- Keep channels: ['405'] for corr_illumination.\n",
      "-- loading illumination correction profile from file:\n",
      "\t 405 illumination_correction_405_2048x2048.npy\n",
      "-- corrected illumination for channel 405 in 7.987s.\n",
      "- Finished illumination correction in 8.081s.\n"
     ]
    },
    {
     "name": "stderr",
     "output_type": "stream",
     "text": [
      "\r",
      " 57%|█████████████████████████████████████████████▊                                   | 95/168 [24:58<19:17, 15.86s/it]"
     ]
    },
    {
     "name": "stdout",
     "output_type": "stream",
     "text": [
      "Initialize DaxProcesser for file:\\\\10.245.74.158\\Chromatin_NAS_0\\20220304-P_brain_M1_nonclear_adaptors\\H0M1\\Conv_zscan_095.dax\n",
      "-- all used channels: ['750', '647', '561', '488', '405']\n",
      "-- single image size: [  50 2048 2048]\n",
      "- Loaded images for channels:['405'] in 7.478s.\n",
      "- Correct illumination for channels: ['405']\n",
      "-- Keep channels: ['405'] for corr_illumination.\n",
      "-- loading illumination correction profile from file:\n",
      "\t 405 illumination_correction_405_2048x2048.npy\n",
      "-- corrected illumination for channel 405 in 8.003s.\n",
      "- Finished illumination correction in 8.121s.\n"
     ]
    },
    {
     "name": "stderr",
     "output_type": "stream",
     "text": [
      "\r",
      " 57%|██████████████████████████████████████████████▎                                  | 96/168 [25:15<19:18, 16.09s/it]"
     ]
    },
    {
     "name": "stdout",
     "output_type": "stream",
     "text": [
      "Initialize DaxProcesser for file:\\\\10.245.74.158\\Chromatin_NAS_0\\20220304-P_brain_M1_nonclear_adaptors\\H0M1\\Conv_zscan_096.dax\n",
      "-- all used channels: ['750', '647', '561', '488', '405']\n",
      "-- single image size: [  50 2048 2048]\n",
      "- Loaded images for channels:['405'] in 7.007s.\n",
      "- Correct illumination for channels: ['405']\n",
      "-- Keep channels: ['405'] for corr_illumination.\n",
      "-- loading illumination correction profile from file:\n",
      "\t 405 illumination_correction_405_2048x2048.npy\n",
      "-- corrected illumination for channel 405 in 7.856s.\n",
      "- Finished illumination correction in 7.970s.\n"
     ]
    },
    {
     "name": "stderr",
     "output_type": "stream",
     "text": [
      "\r",
      " 58%|██████████████████████████████████████████████▊                                  | 97/168 [25:31<18:59, 16.05s/it]"
     ]
    },
    {
     "name": "stdout",
     "output_type": "stream",
     "text": [
      "Initialize DaxProcesser for file:\\\\10.245.74.158\\Chromatin_NAS_0\\20220304-P_brain_M1_nonclear_adaptors\\H0M1\\Conv_zscan_097.dax\n",
      "-- all used channels: ['750', '647', '561', '488', '405']\n",
      "-- single image size: [  50 2048 2048]\n",
      "- Loaded images for channels:['405'] in 6.509s.\n",
      "- Correct illumination for channels: ['405']\n",
      "-- Keep channels: ['405'] for corr_illumination.\n",
      "-- loading illumination correction profile from file:\n",
      "\t 405 illumination_correction_405_2048x2048.npy\n",
      "-- corrected illumination for channel 405 in 7.998s.\n",
      "- Finished illumination correction in 8.095s.\n"
     ]
    },
    {
     "name": "stderr",
     "output_type": "stream",
     "text": [
      "\r",
      " 58%|███████████████████████████████████████████████▎                                 | 98/168 [25:46<18:34, 15.92s/it]"
     ]
    },
    {
     "name": "stdout",
     "output_type": "stream",
     "text": [
      "Initialize DaxProcesser for file:\\\\10.245.74.158\\Chromatin_NAS_0\\20220304-P_brain_M1_nonclear_adaptors\\H0M1\\Conv_zscan_098.dax\n",
      "-- all used channels: ['750', '647', '561', '488', '405']\n",
      "-- single image size: [  50 2048 2048]\n",
      "- Loaded images for channels:['405'] in 6.643s.\n",
      "- Correct illumination for channels: ['405']\n",
      "-- Keep channels: ['405'] for corr_illumination.\n",
      "-- loading illumination correction profile from file:\n",
      "\t 405 illumination_correction_405_2048x2048.npy\n",
      "-- corrected illumination for channel 405 in 7.797s.\n",
      "- Finished illumination correction in 7.890s.\n"
     ]
    },
    {
     "name": "stderr",
     "output_type": "stream",
     "text": [
      "\r",
      " 59%|███████████████████████████████████████████████▋                                 | 99/168 [26:02<18:08, 15.78s/it]"
     ]
    },
    {
     "name": "stdout",
     "output_type": "stream",
     "text": [
      "Initialize DaxProcesser for file:\\\\10.245.74.158\\Chromatin_NAS_0\\20220304-P_brain_M1_nonclear_adaptors\\H0M1\\Conv_zscan_099.dax\n",
      "-- all used channels: ['750', '647', '561', '488', '405']\n",
      "-- single image size: [  50 2048 2048]\n",
      "- Loaded images for channels:['405'] in 7.236s.\n",
      "- Correct illumination for channels: ['405']\n",
      "-- Keep channels: ['405'] for corr_illumination.\n",
      "-- loading illumination correction profile from file:\n",
      "\t 405 illumination_correction_405_2048x2048.npy\n",
      "-- corrected illumination for channel 405 in 7.942s.\n",
      "- Finished illumination correction in 8.051s.\n"
     ]
    },
    {
     "name": "stderr",
     "output_type": "stream",
     "text": [
      "\r",
      " 60%|███████████████████████████████████████████████▌                                | 100/168 [26:18<18:03, 15.93s/it]"
     ]
    },
    {
     "name": "stdout",
     "output_type": "stream",
     "text": [
      "Initialize DaxProcesser for file:\\\\10.245.74.158\\Chromatin_NAS_0\\20220304-P_brain_M1_nonclear_adaptors\\H0M1\\Conv_zscan_100.dax\n",
      "-- all used channels: ['750', '647', '561', '488', '405']\n",
      "-- single image size: [  50 2048 2048]\n",
      "- Loaded images for channels:['405'] in 6.678s.\n",
      "- Correct illumination for channels: ['405']\n",
      "-- Keep channels: ['405'] for corr_illumination.\n",
      "-- loading illumination correction profile from file:\n",
      "\t 405 illumination_correction_405_2048x2048.npy\n",
      "-- corrected illumination for channel 405 in 7.796s.\n",
      "- Finished illumination correction in 7.907s.\n"
     ]
    },
    {
     "name": "stderr",
     "output_type": "stream",
     "text": [
      "\r",
      " 60%|████████████████████████████████████████████████                                | 101/168 [26:33<17:37, 15.78s/it]"
     ]
    },
    {
     "name": "stdout",
     "output_type": "stream",
     "text": [
      "Initialize DaxProcesser for file:\\\\10.245.74.158\\Chromatin_NAS_0\\20220304-P_brain_M1_nonclear_adaptors\\H0M1\\Conv_zscan_101.dax\n",
      "-- all used channels: ['750', '647', '561', '488', '405']\n",
      "-- single image size: [  50 2048 2048]\n",
      "- Loaded images for channels:['405'] in 8.466s.\n",
      "- Correct illumination for channels: ['405']\n",
      "-- Keep channels: ['405'] for corr_illumination.\n",
      "-- loading illumination correction profile from file:\n",
      "\t 405 illumination_correction_405_2048x2048.npy\n",
      "-- corrected illumination for channel 405 in 8.131s.\n",
      "- Finished illumination correction in 8.231s.\n"
     ]
    },
    {
     "name": "stderr",
     "output_type": "stream",
     "text": [
      "\r",
      " 61%|████████████████████████████████████████████████▌                               | 102/168 [26:51<17:58, 16.34s/it]"
     ]
    },
    {
     "name": "stdout",
     "output_type": "stream",
     "text": [
      "Initialize DaxProcesser for file:\\\\10.245.74.158\\Chromatin_NAS_0\\20220304-P_brain_M1_nonclear_adaptors\\H0M1\\Conv_zscan_102.dax\n",
      "-- all used channels: ['750', '647', '561', '488', '405']\n",
      "-- single image size: [  50 2048 2048]\n",
      "- Loaded images for channels:['405'] in 6.907s.\n",
      "- Correct illumination for channels: ['405']\n",
      "-- Keep channels: ['405'] for corr_illumination.\n",
      "-- loading illumination correction profile from file:\n",
      "\t 405 illumination_correction_405_2048x2048.npy\n",
      "-- corrected illumination for channel 405 in 7.968s.\n",
      "- Finished illumination correction in 8.074s.\n"
     ]
    },
    {
     "name": "stderr",
     "output_type": "stream",
     "text": [
      "\r",
      " 61%|█████████████████████████████████████████████████                               | 103/168 [27:07<17:35, 16.24s/it]"
     ]
    },
    {
     "name": "stdout",
     "output_type": "stream",
     "text": [
      "Initialize DaxProcesser for file:\\\\10.245.74.158\\Chromatin_NAS_0\\20220304-P_brain_M1_nonclear_adaptors\\H0M1\\Conv_zscan_103.dax\n",
      "-- all used channels: ['750', '647', '561', '488', '405']\n",
      "-- single image size: [  50 2048 2048]\n",
      "- Loaded images for channels:['405'] in 7.402s.\n",
      "- Correct illumination for channels: ['405']\n",
      "-- Keep channels: ['405'] for corr_illumination.\n",
      "-- loading illumination correction profile from file:\n",
      "\t 405 illumination_correction_405_2048x2048.npy\n",
      "-- corrected illumination for channel 405 in 7.903s.\n",
      "- Finished illumination correction in 8.036s.\n"
     ]
    },
    {
     "name": "stderr",
     "output_type": "stream",
     "text": [
      "\r",
      " 62%|█████████████████████████████████████████████████▌                              | 104/168 [27:23<17:21, 16.28s/it]"
     ]
    },
    {
     "name": "stdout",
     "output_type": "stream",
     "text": [
      "Initialize DaxProcesser for file:\\\\10.245.74.158\\Chromatin_NAS_0\\20220304-P_brain_M1_nonclear_adaptors\\H0M1\\Conv_zscan_104.dax\n",
      "-- all used channels: ['750', '647', '561', '488', '405']\n",
      "-- single image size: [  50 2048 2048]\n",
      "- Loaded images for channels:['405'] in 7.060s.\n",
      "- Correct illumination for channels: ['405']\n",
      "-- Keep channels: ['405'] for corr_illumination.\n",
      "-- loading illumination correction profile from file:\n",
      "\t 405 illumination_correction_405_2048x2048.npy\n",
      "-- corrected illumination for channel 405 in 7.965s.\n",
      "- Finished illumination correction in 8.082s.\n"
     ]
    },
    {
     "name": "stderr",
     "output_type": "stream",
     "text": [
      "\r",
      " 62%|██████████████████████████████████████████████████                              | 105/168 [27:40<17:02, 16.23s/it]"
     ]
    },
    {
     "name": "stdout",
     "output_type": "stream",
     "text": [
      "Initialize DaxProcesser for file:\\\\10.245.74.158\\Chromatin_NAS_0\\20220304-P_brain_M1_nonclear_adaptors\\H0M1\\Conv_zscan_105.dax\n",
      "-- all used channels: ['750', '647', '561', '488', '405']\n",
      "-- single image size: [  50 2048 2048]\n",
      "- Loaded images for channels:['405'] in 5.591s.\n",
      "- Correct illumination for channels: ['405']\n",
      "-- Keep channels: ['405'] for corr_illumination.\n",
      "-- loading illumination correction profile from file:\n",
      "\t 405 illumination_correction_405_2048x2048.npy\n",
      "-- corrected illumination for channel 405 in 7.992s.\n",
      "- Finished illumination correction in 8.086s.\n"
     ]
    },
    {
     "name": "stderr",
     "output_type": "stream",
     "text": [
      "\r",
      " 63%|██████████████████████████████████████████████████▍                             | 106/168 [27:54<16:17, 15.77s/it]"
     ]
    },
    {
     "name": "stdout",
     "output_type": "stream",
     "text": [
      "Initialize DaxProcesser for file:\\\\10.245.74.158\\Chromatin_NAS_0\\20220304-P_brain_M1_nonclear_adaptors\\H0M1\\Conv_zscan_106.dax\n",
      "-- all used channels: ['750', '647', '561', '488', '405']\n",
      "-- single image size: [  50 2048 2048]\n",
      "- Loaded images for channels:['405'] in 7.015s.\n",
      "- Correct illumination for channels: ['405']\n",
      "-- Keep channels: ['405'] for corr_illumination.\n",
      "-- loading illumination correction profile from file:\n",
      "\t 405 illumination_correction_405_2048x2048.npy\n",
      "-- corrected illumination for channel 405 in 8.002s.\n",
      "- Finished illumination correction in 8.090s.\n"
     ]
    },
    {
     "name": "stderr",
     "output_type": "stream",
     "text": [
      "\r",
      " 64%|██████████████████████████████████████████████████▉                             | 107/168 [28:10<16:07, 15.87s/it]"
     ]
    },
    {
     "name": "stdout",
     "output_type": "stream",
     "text": [
      "Initialize DaxProcesser for file:\\\\10.245.74.158\\Chromatin_NAS_0\\20220304-P_brain_M1_nonclear_adaptors\\H0M1\\Conv_zscan_107.dax\n",
      "-- all used channels: ['750', '647', '561', '488', '405']\n",
      "-- single image size: [  50 2048 2048]\n",
      "- Loaded images for channels:['405'] in 6.201s.\n",
      "- Correct illumination for channels: ['405']\n",
      "-- Keep channels: ['405'] for corr_illumination.\n",
      "-- loading illumination correction profile from file:\n",
      "\t 405 illumination_correction_405_2048x2048.npy\n",
      "-- corrected illumination for channel 405 in 7.971s.\n",
      "- Finished illumination correction in 8.087s.\n"
     ]
    },
    {
     "name": "stderr",
     "output_type": "stream",
     "text": [
      "\r",
      " 64%|███████████████████████████████████████████████████▍                            | 108/168 [28:26<15:40, 15.68s/it]"
     ]
    },
    {
     "name": "stdout",
     "output_type": "stream",
     "text": [
      "Initialize DaxProcesser for file:\\\\10.245.74.158\\Chromatin_NAS_0\\20220304-P_brain_M1_nonclear_adaptors\\H0M1\\Conv_zscan_108.dax\n",
      "-- all used channels: ['750', '647', '561', '488', '405']\n",
      "-- single image size: [  50 2048 2048]\n",
      "- Loaded images for channels:['405'] in 8.479s.\n",
      "- Correct illumination for channels: ['405']\n",
      "-- Keep channels: ['405'] for corr_illumination.\n",
      "-- loading illumination correction profile from file:\n",
      "\t 405 illumination_correction_405_2048x2048.npy\n",
      "-- corrected illumination for channel 405 in 8.041s.\n",
      "- Finished illumination correction in 8.144s.\n"
     ]
    },
    {
     "name": "stderr",
     "output_type": "stream",
     "text": [
      "\r",
      " 65%|███████████████████████████████████████████████████▉                            | 109/168 [28:43<15:59, 16.26s/it]"
     ]
    },
    {
     "name": "stdout",
     "output_type": "stream",
     "text": [
      "Initialize DaxProcesser for file:\\\\10.245.74.158\\Chromatin_NAS_0\\20220304-P_brain_M1_nonclear_adaptors\\H0M1\\Conv_zscan_109.dax\n",
      "-- all used channels: ['750', '647', '561', '488', '405']\n",
      "-- single image size: [  50 2048 2048]\n",
      "- Loaded images for channels:['405'] in 6.592s.\n",
      "- Correct illumination for channels: ['405']\n",
      "-- Keep channels: ['405'] for corr_illumination.\n",
      "-- loading illumination correction profile from file:\n",
      "\t 405 illumination_correction_405_2048x2048.npy\n",
      "-- corrected illumination for channel 405 in 7.860s.\n",
      "- Finished illumination correction in 7.960s.\n"
     ]
    },
    {
     "name": "stderr",
     "output_type": "stream",
     "text": [
      "\r",
      " 65%|████████████████████████████████████████████████████▍                           | 110/168 [28:59<15:29, 16.02s/it]"
     ]
    },
    {
     "name": "stdout",
     "output_type": "stream",
     "text": [
      "Initialize DaxProcesser for file:\\\\10.245.74.158\\Chromatin_NAS_0\\20220304-P_brain_M1_nonclear_adaptors\\H0M1\\Conv_zscan_110.dax\n",
      "-- all used channels: ['750', '647', '561', '488', '405']\n",
      "-- single image size: [  50 2048 2048]\n",
      "- Loaded images for channels:['405'] in 6.491s.\n",
      "- Correct illumination for channels: ['405']\n",
      "-- Keep channels: ['405'] for corr_illumination.\n",
      "-- loading illumination correction profile from file:\n",
      "\t 405 illumination_correction_405_2048x2048.npy\n",
      "-- corrected illumination for channel 405 in 8.054s.\n",
      "- Finished illumination correction in 8.147s.\n"
     ]
    },
    {
     "name": "stderr",
     "output_type": "stream",
     "text": [
      "\r",
      " 66%|████████████████████████████████████████████████████▊                           | 111/168 [29:14<15:06, 15.91s/it]"
     ]
    },
    {
     "name": "stdout",
     "output_type": "stream",
     "text": [
      "Initialize DaxProcesser for file:\\\\10.245.74.158\\Chromatin_NAS_0\\20220304-P_brain_M1_nonclear_adaptors\\H0M1\\Conv_zscan_111.dax\n",
      "-- all used channels: ['750', '647', '561', '488', '405']\n",
      "-- single image size: [  50 2048 2048]\n",
      "- Loaded images for channels:['405'] in 6.750s.\n",
      "- Correct illumination for channels: ['405']\n",
      "-- Keep channels: ['405'] for corr_illumination.\n",
      "-- loading illumination correction profile from file:\n",
      "\t 405 illumination_correction_405_2048x2048.npy\n",
      "-- corrected illumination for channel 405 in 7.979s.\n",
      "- Finished illumination correction in 8.095s.\n"
     ]
    },
    {
     "name": "stderr",
     "output_type": "stream",
     "text": [
      "\r",
      " 67%|█████████████████████████████████████████████████████▎                          | 112/168 [29:30<14:48, 15.87s/it]"
     ]
    },
    {
     "name": "stdout",
     "output_type": "stream",
     "text": [
      "Initialize DaxProcesser for file:\\\\10.245.74.158\\Chromatin_NAS_0\\20220304-P_brain_M1_nonclear_adaptors\\H0M1\\Conv_zscan_112.dax\n",
      "-- all used channels: ['750', '647', '561', '488', '405']\n",
      "-- single image size: [  50 2048 2048]\n",
      "- Loaded images for channels:['405'] in 7.241s.\n",
      "- Correct illumination for channels: ['405']\n",
      "-- Keep channels: ['405'] for corr_illumination.\n",
      "-- loading illumination correction profile from file:\n",
      "\t 405 illumination_correction_405_2048x2048.npy\n",
      "-- corrected illumination for channel 405 in 7.911s.\n",
      "- Finished illumination correction in 8.022s.\n"
     ]
    },
    {
     "name": "stderr",
     "output_type": "stream",
     "text": [
      "\r",
      " 67%|█████████████████████████████████████████████████████▊                          | 113/168 [29:46<14:38, 15.98s/it]"
     ]
    },
    {
     "name": "stdout",
     "output_type": "stream",
     "text": [
      "Initialize DaxProcesser for file:\\\\10.245.74.158\\Chromatin_NAS_0\\20220304-P_brain_M1_nonclear_adaptors\\H0M1\\Conv_zscan_113.dax\n",
      "-- all used channels: ['750', '647', '561', '488', '405']\n",
      "-- single image size: [  50 2048 2048]\n",
      "- Loaded images for channels:['405'] in 6.252s.\n",
      "- Correct illumination for channels: ['405']\n",
      "-- Keep channels: ['405'] for corr_illumination.\n",
      "-- loading illumination correction profile from file:\n",
      "\t 405 illumination_correction_405_2048x2048.npy\n",
      "-- corrected illumination for channel 405 in 7.884s.\n",
      "- Finished illumination correction in 7.983s.\n"
     ]
    },
    {
     "name": "stderr",
     "output_type": "stream",
     "text": [
      "\r",
      " 68%|██████████████████████████████████████████████████████▎                         | 114/168 [30:02<14:09, 15.74s/it]"
     ]
    },
    {
     "name": "stdout",
     "output_type": "stream",
     "text": [
      "Initialize DaxProcesser for file:\\\\10.245.74.158\\Chromatin_NAS_0\\20220304-P_brain_M1_nonclear_adaptors\\H0M1\\Conv_zscan_114.dax\n",
      "-- all used channels: ['750', '647', '561', '488', '405']\n",
      "-- single image size: [  50 2048 2048]\n",
      "- Loaded images for channels:['405'] in 6.752s.\n",
      "- Correct illumination for channels: ['405']\n",
      "-- Keep channels: ['405'] for corr_illumination.\n",
      "-- loading illumination correction profile from file:\n",
      "\t 405 illumination_correction_405_2048x2048.npy\n",
      "-- corrected illumination for channel 405 in 7.935s.\n",
      "- Finished illumination correction in 8.037s.\n"
     ]
    },
    {
     "name": "stderr",
     "output_type": "stream",
     "text": [
      "\r",
      " 68%|██████████████████████████████████████████████████████▊                         | 115/168 [30:17<13:54, 15.74s/it]"
     ]
    },
    {
     "name": "stdout",
     "output_type": "stream",
     "text": [
      "Initialize DaxProcesser for file:\\\\10.245.74.158\\Chromatin_NAS_0\\20220304-P_brain_M1_nonclear_adaptors\\H0M1\\Conv_zscan_115.dax\n",
      "-- all used channels: ['750', '647', '561', '488', '405']\n",
      "-- single image size: [  50 2048 2048]\n",
      "- Loaded images for channels:['405'] in 6.120s.\n",
      "- Correct illumination for channels: ['405']\n",
      "-- Keep channels: ['405'] for corr_illumination.\n",
      "-- loading illumination correction profile from file:\n",
      "\t 405 illumination_correction_405_2048x2048.npy\n",
      "-- corrected illumination for channel 405 in 7.833s.\n",
      "- Finished illumination correction in 7.879s.\n"
     ]
    },
    {
     "name": "stderr",
     "output_type": "stream",
     "text": [
      "\r",
      " 69%|███████████████████████████████████████████████████████▏                        | 116/168 [30:32<13:28, 15.54s/it]"
     ]
    },
    {
     "name": "stdout",
     "output_type": "stream",
     "text": [
      "Initialize DaxProcesser for file:\\\\10.245.74.158\\Chromatin_NAS_0\\20220304-P_brain_M1_nonclear_adaptors\\H0M1\\Conv_zscan_116.dax\n",
      "-- all used channels: ['750', '647', '561', '488', '405']\n",
      "-- single image size: [  50 2048 2048]\n",
      "- Loaded images for channels:['405'] in 7.033s.\n",
      "- Correct illumination for channels: ['405']\n",
      "-- Keep channels: ['405'] for corr_illumination.\n",
      "-- loading illumination correction profile from file:\n",
      "\t 405 illumination_correction_405_2048x2048.npy\n",
      "-- corrected illumination for channel 405 in 8.056s.\n",
      "- Finished illumination correction in 8.193s.\n"
     ]
    },
    {
     "name": "stderr",
     "output_type": "stream",
     "text": [
      "\r",
      " 70%|███████████████████████████████████████████████████████▋                        | 117/168 [30:49<13:21, 15.71s/it]"
     ]
    },
    {
     "name": "stdout",
     "output_type": "stream",
     "text": [
      "Initialize DaxProcesser for file:\\\\10.245.74.158\\Chromatin_NAS_0\\20220304-P_brain_M1_nonclear_adaptors\\H0M1\\Conv_zscan_117.dax\n",
      "-- all used channels: ['750', '647', '561', '488', '405']\n",
      "-- single image size: [  50 2048 2048]\n",
      "- Loaded images for channels:['405'] in 5.921s.\n",
      "- Correct illumination for channels: ['405']\n",
      "-- Keep channels: ['405'] for corr_illumination.\n",
      "-- loading illumination correction profile from file:\n",
      "\t 405 illumination_correction_405_2048x2048.npy\n",
      "-- corrected illumination for channel 405 in 7.923s.\n",
      "- Finished illumination correction in 8.015s.\n"
     ]
    },
    {
     "name": "stderr",
     "output_type": "stream",
     "text": [
      "\r",
      " 70%|████████████████████████████████████████████████████████▏                       | 118/168 [31:03<12:53, 15.48s/it]"
     ]
    },
    {
     "name": "stdout",
     "output_type": "stream",
     "text": [
      "Initialize DaxProcesser for file:\\\\10.245.74.158\\Chromatin_NAS_0\\20220304-P_brain_M1_nonclear_adaptors\\H0M1\\Conv_zscan_118.dax\n",
      "-- all used channels: ['750', '647', '561', '488', '405']\n",
      "-- single image size: [  50 2048 2048]\n",
      "- Loaded images for channels:['405'] in 6.300s.\n",
      "- Correct illumination for channels: ['405']\n",
      "-- Keep channels: ['405'] for corr_illumination.\n",
      "-- loading illumination correction profile from file:\n",
      "\t 405 illumination_correction_405_2048x2048.npy\n",
      "-- corrected illumination for channel 405 in 8.008s.\n",
      "- Finished illumination correction in 8.098s.\n"
     ]
    },
    {
     "name": "stderr",
     "output_type": "stream",
     "text": [
      "\r",
      " 71%|████████████████████████████████████████████████████████▋                       | 119/168 [31:19<12:36, 15.43s/it]"
     ]
    },
    {
     "name": "stdout",
     "output_type": "stream",
     "text": [
      "Initialize DaxProcesser for file:\\\\10.245.74.158\\Chromatin_NAS_0\\20220304-P_brain_M1_nonclear_adaptors\\H0M1\\Conv_zscan_119.dax\n",
      "-- all used channels: ['750', '647', '561', '488', '405']\n",
      "-- single image size: [  50 2048 2048]\n",
      "- Loaded images for channels:['405'] in 7.583s.\n",
      "- Correct illumination for channels: ['405']\n",
      "-- Keep channels: ['405'] for corr_illumination.\n",
      "-- loading illumination correction profile from file:\n",
      "\t 405 illumination_correction_405_2048x2048.npy\n",
      "-- corrected illumination for channel 405 in 7.902s.\n",
      "- Finished illumination correction in 7.989s.\n"
     ]
    },
    {
     "name": "stderr",
     "output_type": "stream",
     "text": [
      "\r",
      " 71%|█████████████████████████████████████████████████████████▏                      | 120/168 [31:35<12:35, 15.73s/it]"
     ]
    },
    {
     "name": "stdout",
     "output_type": "stream",
     "text": [
      "Initialize DaxProcesser for file:\\\\10.245.74.158\\Chromatin_NAS_0\\20220304-P_brain_M1_nonclear_adaptors\\H0M1\\Conv_zscan_120.dax\n",
      "-- all used channels: ['750', '647', '561', '488', '405']\n",
      "-- single image size: [  50 2048 2048]\n",
      "- Loaded images for channels:['405'] in 6.880s.\n",
      "- Correct illumination for channels: ['405']\n",
      "-- Keep channels: ['405'] for corr_illumination.\n",
      "-- loading illumination correction profile from file:\n",
      "\t 405 illumination_correction_405_2048x2048.npy\n",
      "-- corrected illumination for channel 405 in 8.040s.\n",
      "- Finished illumination correction in 8.207s.\n"
     ]
    },
    {
     "name": "stderr",
     "output_type": "stream",
     "text": [
      "\r",
      " 72%|█████████████████████████████████████████████████████████▌                      | 121/168 [31:51<12:25, 15.87s/it]"
     ]
    },
    {
     "name": "stdout",
     "output_type": "stream",
     "text": [
      "Initialize DaxProcesser for file:\\\\10.245.74.158\\Chromatin_NAS_0\\20220304-P_brain_M1_nonclear_adaptors\\H0M1\\Conv_zscan_121.dax\n",
      "-- all used channels: ['750', '647', '561', '488', '405']\n",
      "-- single image size: [  50 2048 2048]\n",
      "- Loaded images for channels:['405'] in 6.543s.\n",
      "- Correct illumination for channels: ['405']\n",
      "-- Keep channels: ['405'] for corr_illumination.\n",
      "-- loading illumination correction profile from file:\n",
      "\t 405 illumination_correction_405_2048x2048.npy\n",
      "-- corrected illumination for channel 405 in 7.925s.\n",
      "- Finished illumination correction in 8.019s.\n"
     ]
    },
    {
     "name": "stderr",
     "output_type": "stream",
     "text": [
      "\r",
      " 73%|██████████████████████████████████████████████████████████                      | 122/168 [32:07<12:04, 15.75s/it]"
     ]
    },
    {
     "name": "stdout",
     "output_type": "stream",
     "text": [
      "Initialize DaxProcesser for file:\\\\10.245.74.158\\Chromatin_NAS_0\\20220304-P_brain_M1_nonclear_adaptors\\H0M1\\Conv_zscan_122.dax\n",
      "-- all used channels: ['750', '647', '561', '488', '405']\n",
      "-- single image size: [  50 2048 2048]\n",
      "- Loaded images for channels:['405'] in 6.379s.\n",
      "- Correct illumination for channels: ['405']\n",
      "-- Keep channels: ['405'] for corr_illumination.\n",
      "-- loading illumination correction profile from file:\n",
      "\t 405 illumination_correction_405_2048x2048.npy\n",
      "-- corrected illumination for channel 405 in 8.063s.\n",
      "- Finished illumination correction in 8.165s.\n"
     ]
    },
    {
     "name": "stderr",
     "output_type": "stream",
     "text": [
      "\r",
      " 73%|██████████████████████████████████████████████████████████▌                     | 123/168 [32:23<11:48, 15.75s/it]"
     ]
    },
    {
     "name": "stdout",
     "output_type": "stream",
     "text": [
      "Initialize DaxProcesser for file:\\\\10.245.74.158\\Chromatin_NAS_0\\20220304-P_brain_M1_nonclear_adaptors\\H0M1\\Conv_zscan_123.dax\n",
      "-- all used channels: ['750', '647', '561', '488', '405']\n",
      "-- single image size: [  50 2048 2048]\n",
      "- Loaded images for channels:['405'] in 6.027s.\n",
      "- Correct illumination for channels: ['405']\n",
      "-- Keep channels: ['405'] for corr_illumination.\n",
      "-- loading illumination correction profile from file:\n",
      "\t 405 illumination_correction_405_2048x2048.npy\n",
      "-- corrected illumination for channel 405 in 8.100s.\n",
      "- Finished illumination correction in 8.200s.\n"
     ]
    },
    {
     "name": "stderr",
     "output_type": "stream",
     "text": [
      "\r",
      " 74%|███████████████████████████████████████████████████████████                     | 124/168 [32:38<11:26, 15.59s/it]"
     ]
    },
    {
     "name": "stdout",
     "output_type": "stream",
     "text": [
      "Initialize DaxProcesser for file:\\\\10.245.74.158\\Chromatin_NAS_0\\20220304-P_brain_M1_nonclear_adaptors\\H0M1\\Conv_zscan_124.dax\n",
      "-- all used channels: ['750', '647', '561', '488', '405']\n",
      "-- single image size: [  50 2048 2048]\n",
      "- Loaded images for channels:['405'] in 6.808s.\n",
      "- Correct illumination for channels: ['405']\n",
      "-- Keep channels: ['405'] for corr_illumination.\n",
      "-- loading illumination correction profile from file:\n",
      "\t 405 illumination_correction_405_2048x2048.npy\n",
      "-- corrected illumination for channel 405 in 8.041s.\n",
      "- Finished illumination correction in 8.169s.\n"
     ]
    },
    {
     "name": "stderr",
     "output_type": "stream",
     "text": [
      "\r",
      " 74%|███████████████████████████████████████████████████████████▌                    | 125/168 [32:54<11:14, 15.69s/it]"
     ]
    },
    {
     "name": "stdout",
     "output_type": "stream",
     "text": [
      "Initialize DaxProcesser for file:\\\\10.245.74.158\\Chromatin_NAS_0\\20220304-P_brain_M1_nonclear_adaptors\\H0M1\\Conv_zscan_125.dax\n",
      "-- all used channels: ['750', '647', '561', '488', '405']\n",
      "-- single image size: [  50 2048 2048]\n",
      "- Loaded images for channels:['405'] in 6.892s.\n",
      "- Correct illumination for channels: ['405']\n",
      "-- Keep channels: ['405'] for corr_illumination.\n",
      "-- loading illumination correction profile from file:\n",
      "\t 405 illumination_correction_405_2048x2048.npy\n",
      "-- corrected illumination for channel 405 in 8.072s.\n",
      "- Finished illumination correction in 8.170s.\n"
     ]
    },
    {
     "name": "stderr",
     "output_type": "stream",
     "text": [
      "\r",
      " 75%|████████████████████████████████████████████████████████████                    | 126/168 [33:10<11:02, 15.77s/it]"
     ]
    },
    {
     "name": "stdout",
     "output_type": "stream",
     "text": [
      "Initialize DaxProcesser for file:\\\\10.245.74.158\\Chromatin_NAS_0\\20220304-P_brain_M1_nonclear_adaptors\\H0M1\\Conv_zscan_126.dax\n",
      "-- all used channels: ['750', '647', '561', '488', '405']\n",
      "-- single image size: [  50 2048 2048]\n",
      "- Loaded images for channels:['405'] in 7.006s.\n",
      "- Correct illumination for channels: ['405']\n",
      "-- Keep channels: ['405'] for corr_illumination.\n",
      "-- loading illumination correction profile from file:\n",
      "\t 405 illumination_correction_405_2048x2048.npy\n",
      "-- corrected illumination for channel 405 in 7.936s.\n",
      "- Finished illumination correction in 8.025s.\n"
     ]
    },
    {
     "name": "stderr",
     "output_type": "stream",
     "text": [
      "\r",
      " 76%|████████████████████████████████████████████████████████████▍                   | 127/168 [33:26<10:49, 15.84s/it]"
     ]
    },
    {
     "name": "stdout",
     "output_type": "stream",
     "text": [
      "Initialize DaxProcesser for file:\\\\10.245.74.158\\Chromatin_NAS_0\\20220304-P_brain_M1_nonclear_adaptors\\H0M1\\Conv_zscan_127.dax\n",
      "-- all used channels: ['750', '647', '561', '488', '405']\n",
      "-- single image size: [  50 2048 2048]\n",
      "- Loaded images for channels:['405'] in 5.758s.\n",
      "- Correct illumination for channels: ['405']\n",
      "-- Keep channels: ['405'] for corr_illumination.\n",
      "-- loading illumination correction profile from file:\n",
      "\t 405 illumination_correction_405_2048x2048.npy\n",
      "-- corrected illumination for channel 405 in 8.008s.\n",
      "- Finished illumination correction in 8.098s.\n"
     ]
    },
    {
     "name": "stderr",
     "output_type": "stream",
     "text": [
      "\r",
      " 76%|████████████████████████████████████████████████████████████▉                   | 128/168 [33:40<10:20, 15.52s/it]"
     ]
    },
    {
     "name": "stdout",
     "output_type": "stream",
     "text": [
      "Initialize DaxProcesser for file:\\\\10.245.74.158\\Chromatin_NAS_0\\20220304-P_brain_M1_nonclear_adaptors\\H0M1\\Conv_zscan_128.dax\n",
      "-- all used channels: ['750', '647', '561', '488', '405']\n",
      "-- single image size: [  50 2048 2048]\n",
      "- Loaded images for channels:['405'] in 5.578s.\n",
      "- Correct illumination for channels: ['405']\n",
      "-- Keep channels: ['405'] for corr_illumination.\n",
      "-- loading illumination correction profile from file:\n",
      "\t 405 illumination_correction_405_2048x2048.npy\n",
      "-- corrected illumination for channel 405 in 7.849s.\n",
      "- Finished illumination correction in 7.870s.\n"
     ]
    },
    {
     "name": "stderr",
     "output_type": "stream",
     "text": [
      "\r",
      " 77%|█████████████████████████████████████████████████████████████▍                  | 129/168 [33:55<09:54, 15.24s/it]"
     ]
    },
    {
     "name": "stdout",
     "output_type": "stream",
     "text": [
      "Initialize DaxProcesser for file:\\\\10.245.74.158\\Chromatin_NAS_0\\20220304-P_brain_M1_nonclear_adaptors\\H0M1\\Conv_zscan_129.dax\n",
      "-- all used channels: ['750', '647', '561', '488', '405']\n",
      "-- single image size: [  50 2048 2048]\n",
      "- Loaded images for channels:['405'] in 6.054s.\n",
      "- Correct illumination for channels: ['405']\n",
      "-- Keep channels: ['405'] for corr_illumination.\n",
      "-- loading illumination correction profile from file:\n",
      "\t 405 illumination_correction_405_2048x2048.npy\n",
      "-- corrected illumination for channel 405 in 7.806s.\n",
      "- Finished illumination correction in 7.954s.\n"
     ]
    },
    {
     "name": "stderr",
     "output_type": "stream",
     "text": [
      "\r",
      " 77%|█████████████████████████████████████████████████████████████▉                  | 130/168 [34:10<09:35, 15.14s/it]"
     ]
    },
    {
     "name": "stdout",
     "output_type": "stream",
     "text": [
      "Initialize DaxProcesser for file:\\\\10.245.74.158\\Chromatin_NAS_0\\20220304-P_brain_M1_nonclear_adaptors\\H0M1\\Conv_zscan_130.dax\n",
      "-- all used channels: ['750', '647', '561', '488', '405']\n",
      "-- single image size: [  50 2048 2048]\n",
      "- Loaded images for channels:['405'] in 6.704s.\n",
      "- Correct illumination for channels: ['405']\n",
      "-- Keep channels: ['405'] for corr_illumination.\n",
      "-- loading illumination correction profile from file:\n",
      "\t 405 illumination_correction_405_2048x2048.npy\n",
      "-- corrected illumination for channel 405 in 7.878s.\n",
      "- Finished illumination correction in 7.972s.\n"
     ]
    },
    {
     "name": "stderr",
     "output_type": "stream",
     "text": [
      "\r",
      " 78%|██████████████████████████████████████████████████████████████▍                 | 131/168 [34:26<09:27, 15.34s/it]"
     ]
    },
    {
     "name": "stdout",
     "output_type": "stream",
     "text": [
      "Initialize DaxProcesser for file:\\\\10.245.74.158\\Chromatin_NAS_0\\20220304-P_brain_M1_nonclear_adaptors\\H0M1\\Conv_zscan_131.dax\n",
      "-- all used channels: ['750', '647', '561', '488', '405']\n",
      "-- single image size: [  50 2048 2048]\n",
      "- Loaded images for channels:['405'] in 7.246s.\n",
      "- Correct illumination for channels: ['405']\n",
      "-- Keep channels: ['405'] for corr_illumination.\n",
      "-- loading illumination correction profile from file:\n",
      "\t 405 illumination_correction_405_2048x2048.npy\n",
      "-- corrected illumination for channel 405 in 7.813s.\n",
      "- Finished illumination correction in 7.907s.\n"
     ]
    },
    {
     "name": "stderr",
     "output_type": "stream",
     "text": [
      "\r",
      " 79%|██████████████████████████████████████████████████████████████▊                 | 132/168 [34:42<09:19, 15.54s/it]"
     ]
    },
    {
     "name": "stdout",
     "output_type": "stream",
     "text": [
      "Initialize DaxProcesser for file:\\\\10.245.74.158\\Chromatin_NAS_0\\20220304-P_brain_M1_nonclear_adaptors\\H0M1\\Conv_zscan_132.dax\n",
      "-- all used channels: ['750', '647', '561', '488', '405']\n",
      "-- single image size: [  50 2048 2048]\n",
      "- Loaded images for channels:['405'] in 7.180s.\n",
      "- Correct illumination for channels: ['405']\n",
      "-- Keep channels: ['405'] for corr_illumination.\n",
      "-- loading illumination correction profile from file:\n",
      "\t 405 illumination_correction_405_2048x2048.npy\n",
      "-- corrected illumination for channel 405 in 7.949s.\n",
      "- Finished illumination correction in 8.049s.\n"
     ]
    },
    {
     "name": "stderr",
     "output_type": "stream",
     "text": [
      "\r",
      " 79%|███████████████████████████████████████████████████████████████▎                | 133/168 [34:58<09:10, 15.74s/it]"
     ]
    },
    {
     "name": "stdout",
     "output_type": "stream",
     "text": [
      "Initialize DaxProcesser for file:\\\\10.245.74.158\\Chromatin_NAS_0\\20220304-P_brain_M1_nonclear_adaptors\\H0M1\\Conv_zscan_133.dax\n",
      "-- all used channels: ['750', '647', '561', '488', '405']\n",
      "-- single image size: [  50 2048 2048]\n",
      "- Loaded images for channels:['405'] in 7.306s.\n",
      "- Correct illumination for channels: ['405']\n",
      "-- Keep channels: ['405'] for corr_illumination.\n",
      "-- loading illumination correction profile from file:\n",
      "\t 405 illumination_correction_405_2048x2048.npy\n",
      "-- corrected illumination for channel 405 in 7.975s.\n",
      "- Finished illumination correction in 8.104s.\n"
     ]
    },
    {
     "name": "stderr",
     "output_type": "stream",
     "text": [
      "\r",
      " 80%|███████████████████████████████████████████████████████████████▊                | 134/168 [35:14<09:00, 15.90s/it]"
     ]
    },
    {
     "name": "stdout",
     "output_type": "stream",
     "text": [
      "Initialize DaxProcesser for file:\\\\10.245.74.158\\Chromatin_NAS_0\\20220304-P_brain_M1_nonclear_adaptors\\H0M1\\Conv_zscan_134.dax\n",
      "-- all used channels: ['750', '647', '561', '488', '405']\n",
      "-- single image size: [  50 2048 2048]\n",
      "- Loaded images for channels:['405'] in 6.792s.\n",
      "- Correct illumination for channels: ['405']\n",
      "-- Keep channels: ['405'] for corr_illumination.\n",
      "-- loading illumination correction profile from file:\n",
      "\t 405 illumination_correction_405_2048x2048.npy\n",
      "-- corrected illumination for channel 405 in 7.913s.\n",
      "- Finished illumination correction in 8.003s.\n"
     ]
    },
    {
     "name": "stderr",
     "output_type": "stream",
     "text": [
      "\r",
      " 80%|████████████████████████████████████████████████████████████████▎               | 135/168 [35:30<08:44, 15.88s/it]"
     ]
    },
    {
     "name": "stdout",
     "output_type": "stream",
     "text": [
      "Initialize DaxProcesser for file:\\\\10.245.74.158\\Chromatin_NAS_0\\20220304-P_brain_M1_nonclear_adaptors\\H0M1\\Conv_zscan_135.dax\n",
      "-- all used channels: ['750', '647', '561', '488', '405']\n",
      "-- single image size: [  50 2048 2048]\n",
      "- Loaded images for channels:['405'] in 6.648s.\n",
      "- Correct illumination for channels: ['405']\n",
      "-- Keep channels: ['405'] for corr_illumination.\n",
      "-- loading illumination correction profile from file:\n",
      "\t 405 illumination_correction_405_2048x2048.npy\n",
      "-- corrected illumination for channel 405 in 7.960s.\n",
      "- Finished illumination correction in 8.057s.\n"
     ]
    },
    {
     "name": "stderr",
     "output_type": "stream",
     "text": [
      "\r",
      " 81%|████████████████████████████████████████████████████████████████▊               | 136/168 [35:46<08:26, 15.82s/it]"
     ]
    },
    {
     "name": "stdout",
     "output_type": "stream",
     "text": [
      "Initialize DaxProcesser for file:\\\\10.245.74.158\\Chromatin_NAS_0\\20220304-P_brain_M1_nonclear_adaptors\\H0M1\\Conv_zscan_136.dax\n",
      "-- all used channels: ['750', '647', '561', '488', '405']\n",
      "-- single image size: [  50 2048 2048]\n",
      "- Loaded images for channels:['405'] in 6.736s.\n",
      "- Correct illumination for channels: ['405']\n",
      "-- Keep channels: ['405'] for corr_illumination.\n",
      "-- loading illumination correction profile from file:\n",
      "\t 405 illumination_correction_405_2048x2048.npy\n",
      "-- corrected illumination for channel 405 in 7.883s.\n",
      "- Finished illumination correction in 7.986s.\n"
     ]
    },
    {
     "name": "stderr",
     "output_type": "stream",
     "text": [
      "\r",
      " 82%|█████████████████████████████████████████████████████████████████▏              | 137/168 [36:01<08:08, 15.76s/it]"
     ]
    },
    {
     "name": "stdout",
     "output_type": "stream",
     "text": [
      "Initialize DaxProcesser for file:\\\\10.245.74.158\\Chromatin_NAS_0\\20220304-P_brain_M1_nonclear_adaptors\\H0M1\\Conv_zscan_137.dax\n",
      "-- all used channels: ['750', '647', '561', '488', '405']\n",
      "-- single image size: [  50 2048 2048]\n",
      "- Loaded images for channels:['405'] in 6.851s.\n",
      "- Correct illumination for channels: ['405']\n",
      "-- Keep channels: ['405'] for corr_illumination.\n",
      "-- loading illumination correction profile from file:\n",
      "\t 405 illumination_correction_405_2048x2048.npy\n",
      "-- corrected illumination for channel 405 in 7.996s.\n",
      "- Finished illumination correction in 8.135s.\n"
     ]
    },
    {
     "name": "stderr",
     "output_type": "stream",
     "text": [
      "\r",
      " 82%|█████████████████████████████████████████████████████████████████▋              | 138/168 [36:17<07:54, 15.83s/it]"
     ]
    },
    {
     "name": "stdout",
     "output_type": "stream",
     "text": [
      "Initialize DaxProcesser for file:\\\\10.245.74.158\\Chromatin_NAS_0\\20220304-P_brain_M1_nonclear_adaptors\\H0M1\\Conv_zscan_138.dax\n",
      "-- all used channels: ['750', '647', '561', '488', '405']\n",
      "-- single image size: [  50 2048 2048]\n",
      "- Loaded images for channels:['405'] in 7.143s.\n",
      "- Correct illumination for channels: ['405']\n",
      "-- Keep channels: ['405'] for corr_illumination.\n",
      "-- loading illumination correction profile from file:\n",
      "\t 405 illumination_correction_405_2048x2048.npy\n",
      "-- corrected illumination for channel 405 in 7.675s.\n",
      "- Finished illumination correction in 7.769s.\n"
     ]
    },
    {
     "name": "stderr",
     "output_type": "stream",
     "text": [
      "\r",
      " 83%|██████████████████████████████████████████████████████████████████▏             | 139/168 [36:33<07:39, 15.86s/it]"
     ]
    },
    {
     "name": "stdout",
     "output_type": "stream",
     "text": [
      "Initialize DaxProcesser for file:\\\\10.245.74.158\\Chromatin_NAS_0\\20220304-P_brain_M1_nonclear_adaptors\\H0M1\\Conv_zscan_139.dax\n",
      "-- all used channels: ['750', '647', '561', '488', '405']\n",
      "-- single image size: [  50 2048 2048]\n",
      "- Loaded images for channels:['405'] in 6.428s.\n",
      "- Correct illumination for channels: ['405']\n",
      "-- Keep channels: ['405'] for corr_illumination.\n",
      "-- loading illumination correction profile from file:\n",
      "\t 405 illumination_correction_405_2048x2048.npy\n",
      "-- corrected illumination for channel 405 in 8.000s.\n",
      "- Finished illumination correction in 8.098s.\n"
     ]
    },
    {
     "name": "stderr",
     "output_type": "stream",
     "text": [
      "\r",
      " 83%|██████████████████████████████████████████████████████████████████▋             | 140/168 [36:49<07:20, 15.72s/it]"
     ]
    },
    {
     "name": "stdout",
     "output_type": "stream",
     "text": [
      "Initialize DaxProcesser for file:\\\\10.245.74.158\\Chromatin_NAS_0\\20220304-P_brain_M1_nonclear_adaptors\\H0M1\\Conv_zscan_140.dax\n",
      "-- all used channels: ['750', '647', '561', '488', '405']\n",
      "-- single image size: [  50 2048 2048]\n",
      "- Loaded images for channels:['405'] in 6.752s.\n",
      "- Correct illumination for channels: ['405']\n",
      "-- Keep channels: ['405'] for corr_illumination.\n",
      "-- loading illumination correction profile from file:\n",
      "\t 405 illumination_correction_405_2048x2048.npy\n",
      "-- corrected illumination for channel 405 in 7.867s.\n",
      "- Finished illumination correction in 7.963s.\n"
     ]
    },
    {
     "name": "stderr",
     "output_type": "stream",
     "text": [
      "\r",
      " 84%|███████████████████████████████████████████████████████████████████▏            | 141/168 [37:04<07:03, 15.70s/it]"
     ]
    },
    {
     "name": "stdout",
     "output_type": "stream",
     "text": [
      "Initialize DaxProcesser for file:\\\\10.245.74.158\\Chromatin_NAS_0\\20220304-P_brain_M1_nonclear_adaptors\\H0M1\\Conv_zscan_141.dax\n",
      "-- all used channels: ['750', '647', '561', '488', '405']\n",
      "-- single image size: [  50 2048 2048]\n",
      "- Loaded images for channels:['405'] in 6.271s.\n",
      "- Correct illumination for channels: ['405']\n",
      "-- Keep channels: ['405'] for corr_illumination.\n",
      "-- loading illumination correction profile from file:\n",
      "\t 405 illumination_correction_405_2048x2048.npy\n",
      "-- corrected illumination for channel 405 in 7.967s.\n",
      "- Finished illumination correction in 8.092s.\n"
     ]
    },
    {
     "name": "stderr",
     "output_type": "stream",
     "text": [
      "\r",
      " 85%|███████████████████████████████████████████████████████████████████▌            | 142/168 [37:20<06:45, 15.61s/it]"
     ]
    },
    {
     "name": "stdout",
     "output_type": "stream",
     "text": [
      "Initialize DaxProcesser for file:\\\\10.245.74.158\\Chromatin_NAS_0\\20220304-P_brain_M1_nonclear_adaptors\\H0M1\\Conv_zscan_142.dax\n",
      "-- all used channels: ['750', '647', '561', '488', '405']\n",
      "-- single image size: [  50 2048 2048]\n",
      "- Loaded images for channels:['405'] in 6.837s.\n",
      "- Correct illumination for channels: ['405']\n",
      "-- Keep channels: ['405'] for corr_illumination.\n",
      "-- loading illumination correction profile from file:\n",
      "\t 405 illumination_correction_405_2048x2048.npy\n",
      "-- corrected illumination for channel 405 in 7.890s.\n",
      "- Finished illumination correction in 7.983s.\n"
     ]
    },
    {
     "name": "stderr",
     "output_type": "stream",
     "text": [
      "\r",
      " 85%|████████████████████████████████████████████████████████████████████            | 143/168 [37:35<06:31, 15.65s/it]"
     ]
    },
    {
     "name": "stdout",
     "output_type": "stream",
     "text": [
      "Initialize DaxProcesser for file:\\\\10.245.74.158\\Chromatin_NAS_0\\20220304-P_brain_M1_nonclear_adaptors\\H0M1\\Conv_zscan_143.dax\n",
      "-- all used channels: ['750', '647', '561', '488', '405']\n",
      "-- single image size: [  50 2048 2048]\n",
      "- Loaded images for channels:['405'] in 5.957s.\n",
      "- Correct illumination for channels: ['405']\n",
      "-- Keep channels: ['405'] for corr_illumination.\n",
      "-- loading illumination correction profile from file:\n",
      "\t 405 illumination_correction_405_2048x2048.npy\n",
      "-- corrected illumination for channel 405 in 8.027s.\n",
      "- Finished illumination correction in 8.115s.\n"
     ]
    },
    {
     "name": "stderr",
     "output_type": "stream",
     "text": [
      "\r",
      " 86%|████████████████████████████████████████████████████████████████████▌           | 144/168 [37:50<06:10, 15.44s/it]"
     ]
    },
    {
     "name": "stdout",
     "output_type": "stream",
     "text": [
      "Initialize DaxProcesser for file:\\\\10.245.74.158\\Chromatin_NAS_0\\20220304-P_brain_M1_nonclear_adaptors\\H0M1\\Conv_zscan_144.dax\n",
      "-- all used channels: ['750', '647', '561', '488', '405']\n",
      "-- single image size: [  50 2048 2048]\n",
      "- Loaded images for channels:['405'] in 6.291s.\n",
      "- Correct illumination for channels: ['405']\n",
      "-- Keep channels: ['405'] for corr_illumination.\n",
      "-- loading illumination correction profile from file:\n",
      "\t 405 illumination_correction_405_2048x2048.npy\n",
      "-- corrected illumination for channel 405 in 7.983s.\n",
      "- Finished illumination correction in 8.076s.\n"
     ]
    },
    {
     "name": "stderr",
     "output_type": "stream",
     "text": [
      "\r",
      " 86%|█████████████████████████████████████████████████████████████████████           | 145/168 [38:06<05:54, 15.40s/it]"
     ]
    },
    {
     "name": "stdout",
     "output_type": "stream",
     "text": [
      "Initialize DaxProcesser for file:\\\\10.245.74.158\\Chromatin_NAS_0\\20220304-P_brain_M1_nonclear_adaptors\\H0M1\\Conv_zscan_145.dax\n",
      "-- all used channels: ['750', '647', '561', '488', '405']\n",
      "-- single image size: [  50 2048 2048]\n",
      "- Loaded images for channels:['405'] in 7.059s.\n",
      "- Correct illumination for channels: ['405']\n",
      "-- Keep channels: ['405'] for corr_illumination.\n",
      "-- loading illumination correction profile from file:\n",
      "\t 405 illumination_correction_405_2048x2048.npy\n",
      "-- corrected illumination for channel 405 in 7.902s.\n",
      "- Finished illumination correction in 8.090s.\n"
     ]
    },
    {
     "name": "stderr",
     "output_type": "stream",
     "text": [
      "\r",
      " 87%|█████████████████████████████████████████████████████████████████████▌          | 146/168 [38:22<05:43, 15.60s/it]"
     ]
    },
    {
     "name": "stdout",
     "output_type": "stream",
     "text": [
      "Initialize DaxProcesser for file:\\\\10.245.74.158\\Chromatin_NAS_0\\20220304-P_brain_M1_nonclear_adaptors\\H0M1\\Conv_zscan_146.dax\n",
      "-- all used channels: ['750', '647', '561', '488', '405']\n",
      "-- single image size: [  50 2048 2048]\n",
      "- Loaded images for channels:['405'] in 6.654s.\n",
      "- Correct illumination for channels: ['405']\n",
      "-- Keep channels: ['405'] for corr_illumination.\n",
      "-- loading illumination correction profile from file:\n",
      "\t 405 illumination_correction_405_2048x2048.npy\n",
      "-- corrected illumination for channel 405 in 8.071s.\n",
      "- Finished illumination correction in 8.176s.\n"
     ]
    },
    {
     "name": "stderr",
     "output_type": "stream",
     "text": [
      "\r",
      " 88%|██████████████████████████████████████████████████████████████████████          | 147/168 [38:38<05:29, 15.69s/it]"
     ]
    },
    {
     "name": "stdout",
     "output_type": "stream",
     "text": [
      "Initialize DaxProcesser for file:\\\\10.245.74.158\\Chromatin_NAS_0\\20220304-P_brain_M1_nonclear_adaptors\\H0M1\\Conv_zscan_147.dax\n",
      "-- all used channels: ['750', '647', '561', '488', '405']\n",
      "-- single image size: [  50 2048 2048]\n",
      "- Loaded images for channels:['405'] in 6.071s.\n",
      "- Correct illumination for channels: ['405']\n",
      "-- Keep channels: ['405'] for corr_illumination.\n",
      "-- loading illumination correction profile from file:\n",
      "\t 405 illumination_correction_405_2048x2048.npy\n",
      "-- corrected illumination for channel 405 in 8.004s.\n",
      "- Finished illumination correction in 8.094s.\n"
     ]
    },
    {
     "name": "stderr",
     "output_type": "stream",
     "text": [
      "\r",
      " 88%|██████████████████████████████████████████████████████████████████████▍         | 148/168 [38:53<05:10, 15.54s/it]"
     ]
    },
    {
     "name": "stdout",
     "output_type": "stream",
     "text": [
      "Initialize DaxProcesser for file:\\\\10.245.74.158\\Chromatin_NAS_0\\20220304-P_brain_M1_nonclear_adaptors\\H0M1\\Conv_zscan_148.dax\n",
      "-- all used channels: ['750', '647', '561', '488', '405']\n",
      "-- single image size: [  50 2048 2048]\n",
      "- Loaded images for channels:['405'] in 6.853s.\n",
      "- Correct illumination for channels: ['405']\n",
      "-- Keep channels: ['405'] for corr_illumination.\n",
      "-- loading illumination correction profile from file:\n",
      "\t 405 illumination_correction_405_2048x2048.npy\n",
      "-- corrected illumination for channel 405 in 7.886s.\n",
      "- Finished illumination correction in 7.975s.\n"
     ]
    },
    {
     "name": "stderr",
     "output_type": "stream",
     "text": [
      "\r",
      " 89%|██████████████████████████████████████████████████████████████████████▉         | 149/168 [39:09<04:56, 15.61s/it]"
     ]
    },
    {
     "name": "stdout",
     "output_type": "stream",
     "text": [
      "Initialize DaxProcesser for file:\\\\10.245.74.158\\Chromatin_NAS_0\\20220304-P_brain_M1_nonclear_adaptors\\H0M1\\Conv_zscan_149.dax\n",
      "-- all used channels: ['750', '647', '561', '488', '405']\n",
      "-- single image size: [  50 2048 2048]\n",
      "- Loaded images for channels:['405'] in 7.182s.\n",
      "- Correct illumination for channels: ['405']\n",
      "-- Keep channels: ['405'] for corr_illumination.\n",
      "-- loading illumination correction profile from file:\n",
      "\t 405 illumination_correction_405_2048x2048.npy\n",
      "-- corrected illumination for channel 405 in 7.910s.\n",
      "- Finished illumination correction in 8.026s.\n"
     ]
    },
    {
     "name": "stderr",
     "output_type": "stream",
     "text": [
      "\r",
      " 89%|███████████████████████████████████████████████████████████████████████▍        | 150/168 [39:25<04:44, 15.79s/it]"
     ]
    },
    {
     "name": "stdout",
     "output_type": "stream",
     "text": [
      "Initialize DaxProcesser for file:\\\\10.245.74.158\\Chromatin_NAS_0\\20220304-P_brain_M1_nonclear_adaptors\\H0M1\\Conv_zscan_150.dax\n",
      "-- all used channels: ['750', '647', '561', '488', '405']\n",
      "-- single image size: [  50 2048 2048]\n",
      "- Loaded images for channels:['405'] in 6.734s.\n",
      "- Correct illumination for channels: ['405']\n",
      "-- Keep channels: ['405'] for corr_illumination.\n",
      "-- loading illumination correction profile from file:\n",
      "\t 405 illumination_correction_405_2048x2048.npy\n",
      "-- corrected illumination for channel 405 in 7.952s.\n",
      "- Finished illumination correction in 8.070s.\n"
     ]
    },
    {
     "name": "stderr",
     "output_type": "stream",
     "text": [
      "\r",
      " 90%|███████████████████████████████████████████████████████████████████████▉        | 151/168 [39:41<04:28, 15.79s/it]"
     ]
    },
    {
     "name": "stdout",
     "output_type": "stream",
     "text": [
      "Initialize DaxProcesser for file:\\\\10.245.74.158\\Chromatin_NAS_0\\20220304-P_brain_M1_nonclear_adaptors\\H0M1\\Conv_zscan_151.dax\n",
      "-- all used channels: ['750', '647', '561', '488', '405']\n",
      "-- single image size: [  50 2048 2048]\n",
      "- Loaded images for channels:['405'] in 6.491s.\n",
      "- Correct illumination for channels: ['405']\n",
      "-- Keep channels: ['405'] for corr_illumination.\n",
      "-- loading illumination correction profile from file:\n",
      "\t 405 illumination_correction_405_2048x2048.npy\n",
      "-- corrected illumination for channel 405 in 7.765s.\n",
      "- Finished illumination correction in 7.860s.\n"
     ]
    },
    {
     "name": "stderr",
     "output_type": "stream",
     "text": [
      "\r",
      " 90%|████████████████████████████████████████████████████████████████████████▍       | 152/168 [39:56<04:09, 15.62s/it]"
     ]
    },
    {
     "name": "stdout",
     "output_type": "stream",
     "text": [
      "Initialize DaxProcesser for file:\\\\10.245.74.158\\Chromatin_NAS_0\\20220304-P_brain_M1_nonclear_adaptors\\H0M1\\Conv_zscan_152.dax\n",
      "-- all used channels: ['750', '647', '561', '488', '405']\n",
      "-- single image size: [  50 2048 2048]\n",
      "- Loaded images for channels:['405'] in 6.745s.\n",
      "- Correct illumination for channels: ['405']\n",
      "-- Keep channels: ['405'] for corr_illumination.\n",
      "-- loading illumination correction profile from file:\n",
      "\t 405 illumination_correction_405_2048x2048.npy\n",
      "-- corrected illumination for channel 405 in 7.845s.\n",
      "- Finished illumination correction in 7.971s.\n"
     ]
    },
    {
     "name": "stderr",
     "output_type": "stream",
     "text": [
      "\r",
      " 91%|████████████████████████████████████████████████████████████████████████▊       | 153/168 [40:12<03:54, 15.64s/it]"
     ]
    },
    {
     "name": "stdout",
     "output_type": "stream",
     "text": [
      "Initialize DaxProcesser for file:\\\\10.245.74.158\\Chromatin_NAS_0\\20220304-P_brain_M1_nonclear_adaptors\\H0M1\\Conv_zscan_153.dax\n",
      "-- all used channels: ['750', '647', '561', '488', '405']\n",
      "-- single image size: [  50 2048 2048]\n",
      "- Loaded images for channels:['405'] in 7.439s.\n",
      "- Correct illumination for channels: ['405']\n",
      "-- Keep channels: ['405'] for corr_illumination.\n",
      "-- loading illumination correction profile from file:\n",
      "\t 405 illumination_correction_405_2048x2048.npy\n",
      "-- corrected illumination for channel 405 in 7.809s.\n",
      "- Finished illumination correction in 7.912s.\n"
     ]
    },
    {
     "name": "stderr",
     "output_type": "stream",
     "text": [
      "\r",
      " 92%|█████████████████████████████████████████████████████████████████████████▎      | 154/168 [40:28<03:41, 15.84s/it]"
     ]
    },
    {
     "name": "stdout",
     "output_type": "stream",
     "text": [
      "Initialize DaxProcesser for file:\\\\10.245.74.158\\Chromatin_NAS_0\\20220304-P_brain_M1_nonclear_adaptors\\H0M1\\Conv_zscan_154.dax\n",
      "-- all used channels: ['750', '647', '561', '488', '405']\n",
      "-- single image size: [  50 2048 2048]\n",
      "- Loaded images for channels:['405'] in 7.625s.\n",
      "- Correct illumination for channels: ['405']\n",
      "-- Keep channels: ['405'] for corr_illumination.\n",
      "-- loading illumination correction profile from file:\n",
      "\t 405 illumination_correction_405_2048x2048.npy\n",
      "-- corrected illumination for channel 405 in 7.905s.\n",
      "- Finished illumination correction in 7.993s.\n"
     ]
    },
    {
     "name": "stderr",
     "output_type": "stream",
     "text": [
      "\r",
      " 92%|█████████████████████████████████████████████████████████████████████████▊      | 155/168 [40:44<03:28, 16.03s/it]"
     ]
    },
    {
     "name": "stdout",
     "output_type": "stream",
     "text": [
      "Initialize DaxProcesser for file:\\\\10.245.74.158\\Chromatin_NAS_0\\20220304-P_brain_M1_nonclear_adaptors\\H0M1\\Conv_zscan_155.dax\n",
      "-- all used channels: ['750', '647', '561', '488', '405']\n",
      "-- single image size: [  50 2048 2048]\n",
      "- Loaded images for channels:['405'] in 6.791s.\n",
      "- Correct illumination for channels: ['405']\n",
      "-- Keep channels: ['405'] for corr_illumination.\n",
      "-- loading illumination correction profile from file:\n",
      "\t 405 illumination_correction_405_2048x2048.npy\n",
      "-- corrected illumination for channel 405 in 7.894s.\n",
      "- Finished illumination correction in 7.992s.\n"
     ]
    },
    {
     "name": "stderr",
     "output_type": "stream",
     "text": [
      "\r",
      " 93%|██████████████████████████████████████████████████████████████████████████▎     | 156/168 [41:00<03:11, 15.99s/it]"
     ]
    },
    {
     "name": "stdout",
     "output_type": "stream",
     "text": [
      "Initialize DaxProcesser for file:\\\\10.245.74.158\\Chromatin_NAS_0\\20220304-P_brain_M1_nonclear_adaptors\\H0M1\\Conv_zscan_156.dax\n",
      "-- all used channels: ['750', '647', '561', '488', '405']\n",
      "-- single image size: [  50 2048 2048]\n",
      "- Loaded images for channels:['405'] in 6.299s.\n",
      "- Correct illumination for channels: ['405']\n",
      "-- Keep channels: ['405'] for corr_illumination.\n",
      "-- loading illumination correction profile from file:\n",
      "\t 405 illumination_correction_405_2048x2048.npy\n",
      "-- corrected illumination for channel 405 in 8.081s.\n",
      "- Finished illumination correction in 8.194s.\n"
     ]
    },
    {
     "name": "stderr",
     "output_type": "stream",
     "text": [
      "\r",
      " 93%|██████████████████████████████████████████████████████████████████████████▊     | 157/168 [41:16<02:54, 15.85s/it]"
     ]
    },
    {
     "name": "stdout",
     "output_type": "stream",
     "text": [
      "Initialize DaxProcesser for file:\\\\10.245.74.158\\Chromatin_NAS_0\\20220304-P_brain_M1_nonclear_adaptors\\H0M1\\Conv_zscan_157.dax\n",
      "-- all used channels: ['750', '647', '561', '488', '405']\n",
      "-- single image size: [  50 2048 2048]\n",
      "- Loaded images for channels:['405'] in 6.423s.\n",
      "- Correct illumination for channels: ['405']\n",
      "-- Keep channels: ['405'] for corr_illumination.\n",
      "-- loading illumination correction profile from file:\n",
      "\t 405 illumination_correction_405_2048x2048.npy\n",
      "-- corrected illumination for channel 405 in 7.960s.\n",
      "- Finished illumination correction in 8.063s.\n"
     ]
    },
    {
     "name": "stderr",
     "output_type": "stream",
     "text": [
      "\r",
      " 94%|███████████████████████████████████████████████████████████████████████████▏    | 158/168 [41:31<02:37, 15.73s/it]"
     ]
    },
    {
     "name": "stdout",
     "output_type": "stream",
     "text": [
      "Initialize DaxProcesser for file:\\\\10.245.74.158\\Chromatin_NAS_0\\20220304-P_brain_M1_nonclear_adaptors\\H0M1\\Conv_zscan_158.dax\n",
      "-- all used channels: ['750', '647', '561', '488', '405']\n",
      "-- single image size: [  50 2048 2048]\n",
      "- Loaded images for channels:['405'] in 5.916s.\n",
      "- Correct illumination for channels: ['405']\n",
      "-- Keep channels: ['405'] for corr_illumination.\n",
      "-- loading illumination correction profile from file:\n",
      "\t 405 illumination_correction_405_2048x2048.npy\n",
      "-- corrected illumination for channel 405 in 8.098s.\n",
      "- Finished illumination correction in 8.187s.\n"
     ]
    },
    {
     "name": "stderr",
     "output_type": "stream",
     "text": [
      "\r",
      " 95%|███████████████████████████████████████████████████████████████████████████▋    | 159/168 [41:46<02:19, 15.54s/it]"
     ]
    },
    {
     "name": "stdout",
     "output_type": "stream",
     "text": [
      "Initialize DaxProcesser for file:\\\\10.245.74.158\\Chromatin_NAS_0\\20220304-P_brain_M1_nonclear_adaptors\\H0M1\\Conv_zscan_159.dax\n",
      "-- all used channels: ['750', '647', '561', '488', '405']\n",
      "-- single image size: [  50 2048 2048]\n",
      "- Loaded images for channels:['405'] in 6.290s.\n",
      "- Correct illumination for channels: ['405']\n",
      "-- Keep channels: ['405'] for corr_illumination.\n",
      "-- loading illumination correction profile from file:\n",
      "\t 405 illumination_correction_405_2048x2048.npy\n",
      "-- corrected illumination for channel 405 in 7.946s.\n",
      "- Finished illumination correction in 8.038s.\n"
     ]
    },
    {
     "name": "stderr",
     "output_type": "stream",
     "text": [
      "\r",
      " 95%|████████████████████████████████████████████████████████████████████████████▏   | 160/168 [42:02<02:03, 15.49s/it]"
     ]
    },
    {
     "name": "stdout",
     "output_type": "stream",
     "text": [
      "Initialize DaxProcesser for file:\\\\10.245.74.158\\Chromatin_NAS_0\\20220304-P_brain_M1_nonclear_adaptors\\H0M1\\Conv_zscan_160.dax\n",
      "-- all used channels: ['750', '647', '561', '488', '405']\n",
      "-- single image size: [  50 2048 2048]\n",
      "- Loaded images for channels:['405'] in 6.113s.\n",
      "- Correct illumination for channels: ['405']\n",
      "-- Keep channels: ['405'] for corr_illumination.\n",
      "-- loading illumination correction profile from file:\n",
      "\t 405 illumination_correction_405_2048x2048.npy\n",
      "-- corrected illumination for channel 405 in 8.047s.\n",
      "- Finished illumination correction in 8.160s.\n"
     ]
    },
    {
     "name": "stderr",
     "output_type": "stream",
     "text": [
      "\r",
      " 96%|████████████████████████████████████████████████████████████████████████████▋   | 161/168 [42:17<01:47, 15.39s/it]"
     ]
    },
    {
     "name": "stdout",
     "output_type": "stream",
     "text": [
      "Initialize DaxProcesser for file:\\\\10.245.74.158\\Chromatin_NAS_0\\20220304-P_brain_M1_nonclear_adaptors\\H0M1\\Conv_zscan_161.dax\n",
      "-- all used channels: ['750', '647', '561', '488', '405']\n",
      "-- single image size: [  50 2048 2048]\n",
      "- Loaded images for channels:['405'] in 6.228s.\n",
      "- Correct illumination for channels: ['405']\n",
      "-- Keep channels: ['405'] for corr_illumination.\n",
      "-- loading illumination correction profile from file:\n",
      "\t 405 illumination_correction_405_2048x2048.npy\n",
      "-- corrected illumination for channel 405 in 8.008s.\n",
      "- Finished illumination correction in 8.097s.\n"
     ]
    },
    {
     "name": "stderr",
     "output_type": "stream",
     "text": [
      "\r",
      " 96%|█████████████████████████████████████████████████████████████████████████████▏  | 162/168 [42:32<01:32, 15.39s/it]"
     ]
    },
    {
     "name": "stdout",
     "output_type": "stream",
     "text": [
      "Initialize DaxProcesser for file:\\\\10.245.74.158\\Chromatin_NAS_0\\20220304-P_brain_M1_nonclear_adaptors\\H0M1\\Conv_zscan_162.dax\n",
      "-- all used channels: ['750', '647', '561', '488', '405']\n",
      "-- single image size: [  50 2048 2048]\n",
      "- Loaded images for channels:['405'] in 6.909s.\n",
      "- Correct illumination for channels: ['405']\n",
      "-- Keep channels: ['405'] for corr_illumination.\n",
      "-- loading illumination correction profile from file:\n",
      "\t 405 illumination_correction_405_2048x2048.npy\n",
      "-- corrected illumination for channel 405 in 7.852s.\n",
      "- Finished illumination correction in 7.947s.\n"
     ]
    },
    {
     "name": "stderr",
     "output_type": "stream",
     "text": [
      "\r",
      " 97%|█████████████████████████████████████████████████████████████████████████████▌  | 163/168 [42:48<01:17, 15.54s/it]"
     ]
    },
    {
     "name": "stdout",
     "output_type": "stream",
     "text": [
      "Initialize DaxProcesser for file:\\\\10.245.74.158\\Chromatin_NAS_0\\20220304-P_brain_M1_nonclear_adaptors\\H0M1\\Conv_zscan_163.dax\n",
      "-- all used channels: ['750', '647', '561', '488', '405']\n",
      "-- single image size: [  50 2048 2048]\n",
      "- Loaded images for channels:['405'] in 5.420s.\n",
      "- Correct illumination for channels: ['405']\n",
      "-- Keep channels: ['405'] for corr_illumination.\n",
      "-- loading illumination correction profile from file:\n",
      "\t 405 illumination_correction_405_2048x2048.npy\n",
      "-- corrected illumination for channel 405 in 7.707s.\n",
      "- Finished illumination correction in 7.800s.\n"
     ]
    },
    {
     "name": "stderr",
     "output_type": "stream",
     "text": [
      "\r",
      " 98%|██████████████████████████████████████████████████████████████████████████████  | 164/168 [43:02<01:00, 15.13s/it]"
     ]
    },
    {
     "name": "stdout",
     "output_type": "stream",
     "text": [
      "Initialize DaxProcesser for file:\\\\10.245.74.158\\Chromatin_NAS_0\\20220304-P_brain_M1_nonclear_adaptors\\H0M1\\Conv_zscan_164.dax\n",
      "-- all used channels: ['750', '647', '561', '488', '405']\n",
      "-- single image size: [  50 2048 2048]\n",
      "- Loaded images for channels:['405'] in 5.901s.\n",
      "- Correct illumination for channels: ['405']\n",
      "-- Keep channels: ['405'] for corr_illumination.\n",
      "-- loading illumination correction profile from file:\n",
      "\t 405 illumination_correction_405_2048x2048.npy\n",
      "-- corrected illumination for channel 405 in 7.799s.\n",
      "- Finished illumination correction in 7.911s.\n"
     ]
    },
    {
     "name": "stderr",
     "output_type": "stream",
     "text": [
      "\r",
      " 98%|██████████████████████████████████████████████████████████████████████████████▌ | 165/168 [43:17<00:45, 15.04s/it]"
     ]
    },
    {
     "name": "stdout",
     "output_type": "stream",
     "text": [
      "Initialize DaxProcesser for file:\\\\10.245.74.158\\Chromatin_NAS_0\\20220304-P_brain_M1_nonclear_adaptors\\H0M1\\Conv_zscan_165.dax\n",
      "-- all used channels: ['750', '647', '561', '488', '405']\n",
      "-- single image size: [  50 2048 2048]\n",
      "- Loaded images for channels:['405'] in 6.693s.\n",
      "- Correct illumination for channels: ['405']\n",
      "-- Keep channels: ['405'] for corr_illumination.\n",
      "-- loading illumination correction profile from file:\n",
      "\t 405 illumination_correction_405_2048x2048.npy\n",
      "-- corrected illumination for channel 405 in 8.077s.\n",
      "- Finished illumination correction in 8.175s.\n"
     ]
    },
    {
     "name": "stderr",
     "output_type": "stream",
     "text": [
      "\r",
      " 99%|███████████████████████████████████████████████████████████████████████████████ | 166/168 [43:33<00:30, 15.29s/it]"
     ]
    },
    {
     "name": "stdout",
     "output_type": "stream",
     "text": [
      "Initialize DaxProcesser for file:\\\\10.245.74.158\\Chromatin_NAS_0\\20220304-P_brain_M1_nonclear_adaptors\\H0M1\\Conv_zscan_166.dax\n",
      "-- all used channels: ['750', '647', '561', '488', '405']\n",
      "-- single image size: [  50 2048 2048]\n",
      "- Loaded images for channels:['405'] in 6.865s.\n",
      "- Correct illumination for channels: ['405']\n",
      "-- Keep channels: ['405'] for corr_illumination.\n",
      "-- loading illumination correction profile from file:\n",
      "\t 405 illumination_correction_405_2048x2048.npy\n",
      "-- corrected illumination for channel 405 in 7.793s.\n",
      "- Finished illumination correction in 7.894s.\n"
     ]
    },
    {
     "name": "stderr",
     "output_type": "stream",
     "text": [
      "\r",
      " 99%|███████████████████████████████████████████████████████████████████████████████▌| 167/168 [43:49<00:15, 15.42s/it]"
     ]
    },
    {
     "name": "stdout",
     "output_type": "stream",
     "text": [
      "Initialize DaxProcesser for file:\\\\10.245.74.158\\Chromatin_NAS_0\\20220304-P_brain_M1_nonclear_adaptors\\H0M1\\Conv_zscan_167.dax\n",
      "-- all used channels: ['750', '647', '561', '488', '405']\n",
      "-- single image size: [  50 2048 2048]\n",
      "- Loaded images for channels:['405'] in 6.953s.\n",
      "- Correct illumination for channels: ['405']\n",
      "-- Keep channels: ['405'] for corr_illumination.\n",
      "-- loading illumination correction profile from file:\n",
      "\t 405 illumination_correction_405_2048x2048.npy\n",
      "-- corrected illumination for channel 405 in 7.774s.\n",
      "- Finished illumination correction in 7.891s.\n"
     ]
    },
    {
     "name": "stderr",
     "output_type": "stream",
     "text": [
      "100%|████████████████████████████████████████████████████████████████████████████████| 168/168 [44:05<00:00, 15.75s/it]\n"
     ]
    }
   ],
   "source": [
    "overwrite_dapi = True\n",
    "correction_folder = r'\\\\10.245.74.158\\Chromatin_NAS_0\\Corrections\\20210621-Corrections_lumencor_from_60_to_50'\n",
    "\n",
    "for _fov_id in tqdm(save_fov_ids):\n",
    "    _dapi_savefile = os.path.join(merfish_dapi_folder, rna_fovs[_fov_id].replace('.dax', '_Dapi.npy'))\n",
    "    if overwrite_dapi or not os.path.exists(_dapi_savefile):\n",
    "        # load \n",
    "        _dapi_filename = os.path.join(ref_fd, rna_fovs[_fov_id])\n",
    "        _ref_cls = ia.classes.preprocess.DaxProcesser(_dapi_filename, \n",
    "                                                      CorrectionFolder=correction_folder, DriftChannel=488, DapiChannel=405)\n",
    "        _ref_cls._load_image(sel_channels=[405])\n",
    "        _ref_cls._corr_illumination(correction_channels=[405])\n",
    "        _dapi_im = _ref_cls.im_405\n",
    "        # save\n",
    "        np.save(_dapi_savefile.split('.npy')[0], _dapi_im)"
   ]
  },
  {
   "cell_type": "markdown",
   "id": "d8dcb667",
   "metadata": {},
   "source": [
    "## 1.3 Prepare args"
   ]
  },
  {
   "cell_type": "code",
   "execution_count": 18,
   "id": "973aee7b",
   "metadata": {},
   "outputs": [],
   "source": [
    "import multiprocessing as mp\n",
    "# savefile for segmentations\n",
    "#_total_seg_save_file = os.path.join(segmentation_folder, 'full_segmentation.hdf5')\n",
    "# required parameters\n",
    "rna_microscope_file = r'\\\\mendel\\pu_documents\\Merfish_analysis\\Merfish_Analysis_Scripts\\merlin_parameters\\microscope\\storm6_microscope.json'\n",
    "dna_microscope_file = r'\\\\mendel\\pu_documents\\Merfish_analysis\\Merfish_Analysis_Scripts\\merlin_parameters\\microscope\\storm6_microscope.json'\n",
    "Zcoords = np.arange(0,12.5,0.25) # z-coordinates of all z-planes in this experiment\n",
    "seg_align_params = {}\n",
    "overwrite_segmentation = False\n",
    "plot_segmentation = True"
   ]
  },
  {
   "cell_type": "code",
   "execution_count": 19,
   "id": "6659260f",
   "metadata": {},
   "outputs": [
    {
     "name": "stdout",
     "output_type": "stream",
     "text": [
      "168\n",
      "Wall time: 386 ms\n"
     ]
    }
   ],
   "source": [
    "%%time\n",
    "# initiate locks\n",
    "_manager = mp.Manager()\n",
    "# savefile lock\n",
    "#_segmentation_savefile_lock = _manager.RLock()\n",
    "_segmentation_savefile_lock = None # do not use lock if saved in multiple files\n",
    "_seg_align_args = []\n",
    "# prepare kwargs\n",
    "for _fov_id, _save_filename in zip(save_fov_ids, save_filenames):\n",
    "    # segmentation filename\n",
    "    _segmentation_savefile = os.path.join(segmentation_folder, \n",
    "        os.path.basename(_save_filename).replace('.hdf5', '_Segmentation.hdf5') )\n",
    "    _rna_feature_filename = os.path.join(merfish_segmentation_folder, f\"feature_data_{_fov_id}.hdf5\")\n",
    "    _rna_dapi_filename = os.path.join(merfish_dapi_folder, \n",
    "                                      os.path.basename(_save_filename).replace('.hdf5', '_Dapi.npy'))\n",
    "    _args = (_fov_id, Zcoords, _rna_feature_filename, _rna_dapi_filename,\n",
    "             _save_filename, rna_microscope_file, dna_microscope_file, R, \n",
    "             _segmentation_savefile, True, _segmentation_savefile_lock, \n",
    "             seg_align_params, plot_segmentation, overwrite_segmentation, False, False, True,\n",
    "             )\n",
    "    _seg_align_args.append(_args)\n",
    "print(len(_seg_align_args))"
   ]
  },
  {
   "cell_type": "markdown",
   "id": "a1822f24",
   "metadata": {},
   "source": [
    "## 1.4 test run and plot"
   ]
  },
  {
   "cell_type": "code",
   "execution_count": 20,
   "id": "138a6b19",
   "metadata": {},
   "outputs": [
    {
     "name": "stdout",
     "output_type": "stream",
     "text": [
      "- reconstruct 50 layers\n",
      "-- start calculating drift with rotation between images\n",
      "-- start aligning given source image to given reference image.\n",
      "-- drift 0: [ 0.  76.8 23. ] in 1.550s.\n",
      "-- drift 1: [-0.1 71.  26. ] in 1.508s.\n",
      "-- drift 2: [ 0.1 64.7 18.9] in 1.536s.\n",
      "-- drift 3: [ 0.  72.3 26. ] in 1.572s.\n",
      "-- drift 4: [ 0.  70.7 27.4] in 1.532s.\n",
      "-- drift 5: [ 0.  75.5 24.5] in 1.560s.\n",
      "-- drift 6: [ 0.  69.8 23.5] in 1.494s.\n",
      "-- drift 7: [ 0.  69.5 20.2] in 1.567s.\n",
      "-- return a sub-optimal drift\n",
      "--- drift: [-3.000e-02  7.133e+01  2.647e+01] pixels\n",
      "- generate rotation matrix\n",
      "- rotate segmentation label with rotation matrix\n"
     ]
    }
   ],
   "source": [
    "import ImageAnalysis3.segmentation_tools.cell\n",
    "sel_fov = 0\n",
    "_seg_cls = ia.segmentation_tools.cell.Align_Segmentation(\n",
    "    _seg_align_args[sel_fov][2],_seg_align_args[sel_fov][3],_seg_align_args[sel_fov][4],\n",
    "    rna_microscope_file, dna_microscope_file, R, debug=True, \n",
    ")\n",
    "\n",
    "dna_mask, _full_rna_mask, _rna_dapi, _rot_dna_dapi, _dna_dapi = _seg_cls._generate_dna_mask(_seg_align_args[sel_fov][1]) "
   ]
  },
  {
   "cell_type": "code",
   "execution_count": 21,
   "id": "62b532c6",
   "metadata": {},
   "outputs": [
    {
     "data": {
      "application/javascript": [
       "/* Put everything inside the global mpl namespace */\n",
       "/* global mpl */\n",
       "window.mpl = {};\n",
       "\n",
       "mpl.get_websocket_type = function () {\n",
       "    if (typeof WebSocket !== 'undefined') {\n",
       "        return WebSocket;\n",
       "    } else if (typeof MozWebSocket !== 'undefined') {\n",
       "        return MozWebSocket;\n",
       "    } else {\n",
       "        alert(\n",
       "            'Your browser does not have WebSocket support. ' +\n",
       "                'Please try Chrome, Safari or Firefox ≥ 6. ' +\n",
       "                'Firefox 4 and 5 are also supported but you ' +\n",
       "                'have to enable WebSockets in about:config.'\n",
       "        );\n",
       "    }\n",
       "};\n",
       "\n",
       "mpl.figure = function (figure_id, websocket, ondownload, parent_element) {\n",
       "    this.id = figure_id;\n",
       "\n",
       "    this.ws = websocket;\n",
       "\n",
       "    this.supports_binary = this.ws.binaryType !== undefined;\n",
       "\n",
       "    if (!this.supports_binary) {\n",
       "        var warnings = document.getElementById('mpl-warnings');\n",
       "        if (warnings) {\n",
       "            warnings.style.display = 'block';\n",
       "            warnings.textContent =\n",
       "                'This browser does not support binary websocket messages. ' +\n",
       "                'Performance may be slow.';\n",
       "        }\n",
       "    }\n",
       "\n",
       "    this.imageObj = new Image();\n",
       "\n",
       "    this.context = undefined;\n",
       "    this.message = undefined;\n",
       "    this.canvas = undefined;\n",
       "    this.rubberband_canvas = undefined;\n",
       "    this.rubberband_context = undefined;\n",
       "    this.format_dropdown = undefined;\n",
       "\n",
       "    this.image_mode = 'full';\n",
       "\n",
       "    this.root = document.createElement('div');\n",
       "    this.root.setAttribute('style', 'display: inline-block');\n",
       "    this._root_extra_style(this.root);\n",
       "\n",
       "    parent_element.appendChild(this.root);\n",
       "\n",
       "    this._init_header(this);\n",
       "    this._init_canvas(this);\n",
       "    this._init_toolbar(this);\n",
       "\n",
       "    var fig = this;\n",
       "\n",
       "    this.waiting = false;\n",
       "\n",
       "    this.ws.onopen = function () {\n",
       "        fig.send_message('supports_binary', { value: fig.supports_binary });\n",
       "        fig.send_message('send_image_mode', {});\n",
       "        if (fig.ratio !== 1) {\n",
       "            fig.send_message('set_dpi_ratio', { dpi_ratio: fig.ratio });\n",
       "        }\n",
       "        fig.send_message('refresh', {});\n",
       "    };\n",
       "\n",
       "    this.imageObj.onload = function () {\n",
       "        if (fig.image_mode === 'full') {\n",
       "            // Full images could contain transparency (where diff images\n",
       "            // almost always do), so we need to clear the canvas so that\n",
       "            // there is no ghosting.\n",
       "            fig.context.clearRect(0, 0, fig.canvas.width, fig.canvas.height);\n",
       "        }\n",
       "        fig.context.drawImage(fig.imageObj, 0, 0);\n",
       "    };\n",
       "\n",
       "    this.imageObj.onunload = function () {\n",
       "        fig.ws.close();\n",
       "    };\n",
       "\n",
       "    this.ws.onmessage = this._make_on_message_function(this);\n",
       "\n",
       "    this.ondownload = ondownload;\n",
       "};\n",
       "\n",
       "mpl.figure.prototype._init_header = function () {\n",
       "    var titlebar = document.createElement('div');\n",
       "    titlebar.classList =\n",
       "        'ui-dialog-titlebar ui-widget-header ui-corner-all ui-helper-clearfix';\n",
       "    var titletext = document.createElement('div');\n",
       "    titletext.classList = 'ui-dialog-title';\n",
       "    titletext.setAttribute(\n",
       "        'style',\n",
       "        'width: 100%; text-align: center; padding: 3px;'\n",
       "    );\n",
       "    titlebar.appendChild(titletext);\n",
       "    this.root.appendChild(titlebar);\n",
       "    this.header = titletext;\n",
       "};\n",
       "\n",
       "mpl.figure.prototype._canvas_extra_style = function (_canvas_div) {};\n",
       "\n",
       "mpl.figure.prototype._root_extra_style = function (_canvas_div) {};\n",
       "\n",
       "mpl.figure.prototype._init_canvas = function () {\n",
       "    var fig = this;\n",
       "\n",
       "    var canvas_div = (this.canvas_div = document.createElement('div'));\n",
       "    canvas_div.setAttribute(\n",
       "        'style',\n",
       "        'border: 1px solid #ddd;' +\n",
       "            'box-sizing: content-box;' +\n",
       "            'clear: both;' +\n",
       "            'min-height: 1px;' +\n",
       "            'min-width: 1px;' +\n",
       "            'outline: 0;' +\n",
       "            'overflow: hidden;' +\n",
       "            'position: relative;' +\n",
       "            'resize: both;'\n",
       "    );\n",
       "\n",
       "    function on_keyboard_event_closure(name) {\n",
       "        return function (event) {\n",
       "            return fig.key_event(event, name);\n",
       "        };\n",
       "    }\n",
       "\n",
       "    canvas_div.addEventListener(\n",
       "        'keydown',\n",
       "        on_keyboard_event_closure('key_press')\n",
       "    );\n",
       "    canvas_div.addEventListener(\n",
       "        'keyup',\n",
       "        on_keyboard_event_closure('key_release')\n",
       "    );\n",
       "\n",
       "    this._canvas_extra_style(canvas_div);\n",
       "    this.root.appendChild(canvas_div);\n",
       "\n",
       "    var canvas = (this.canvas = document.createElement('canvas'));\n",
       "    canvas.classList.add('mpl-canvas');\n",
       "    canvas.setAttribute('style', 'box-sizing: content-box;');\n",
       "\n",
       "    this.context = canvas.getContext('2d');\n",
       "\n",
       "    var backingStore =\n",
       "        this.context.backingStorePixelRatio ||\n",
       "        this.context.webkitBackingStorePixelRatio ||\n",
       "        this.context.mozBackingStorePixelRatio ||\n",
       "        this.context.msBackingStorePixelRatio ||\n",
       "        this.context.oBackingStorePixelRatio ||\n",
       "        this.context.backingStorePixelRatio ||\n",
       "        1;\n",
       "\n",
       "    this.ratio = (window.devicePixelRatio || 1) / backingStore;\n",
       "\n",
       "    var rubberband_canvas = (this.rubberband_canvas = document.createElement(\n",
       "        'canvas'\n",
       "    ));\n",
       "    rubberband_canvas.setAttribute(\n",
       "        'style',\n",
       "        'box-sizing: content-box; position: absolute; left: 0; top: 0; z-index: 1;'\n",
       "    );\n",
       "\n",
       "    // Apply a ponyfill if ResizeObserver is not implemented by browser.\n",
       "    if (this.ResizeObserver === undefined) {\n",
       "        if (window.ResizeObserver !== undefined) {\n",
       "            this.ResizeObserver = window.ResizeObserver;\n",
       "        } else {\n",
       "            var obs = _JSXTOOLS_RESIZE_OBSERVER({});\n",
       "            this.ResizeObserver = obs.ResizeObserver;\n",
       "        }\n",
       "    }\n",
       "\n",
       "    this.resizeObserverInstance = new this.ResizeObserver(function (entries) {\n",
       "        var nentries = entries.length;\n",
       "        for (var i = 0; i < nentries; i++) {\n",
       "            var entry = entries[i];\n",
       "            var width, height;\n",
       "            if (entry.contentBoxSize) {\n",
       "                if (entry.contentBoxSize instanceof Array) {\n",
       "                    // Chrome 84 implements new version of spec.\n",
       "                    width = entry.contentBoxSize[0].inlineSize;\n",
       "                    height = entry.contentBoxSize[0].blockSize;\n",
       "                } else {\n",
       "                    // Firefox implements old version of spec.\n",
       "                    width = entry.contentBoxSize.inlineSize;\n",
       "                    height = entry.contentBoxSize.blockSize;\n",
       "                }\n",
       "            } else {\n",
       "                // Chrome <84 implements even older version of spec.\n",
       "                width = entry.contentRect.width;\n",
       "                height = entry.contentRect.height;\n",
       "            }\n",
       "\n",
       "            // Keep the size of the canvas and rubber band canvas in sync with\n",
       "            // the canvas container.\n",
       "            if (entry.devicePixelContentBoxSize) {\n",
       "                // Chrome 84 implements new version of spec.\n",
       "                canvas.setAttribute(\n",
       "                    'width',\n",
       "                    entry.devicePixelContentBoxSize[0].inlineSize\n",
       "                );\n",
       "                canvas.setAttribute(\n",
       "                    'height',\n",
       "                    entry.devicePixelContentBoxSize[0].blockSize\n",
       "                );\n",
       "            } else {\n",
       "                canvas.setAttribute('width', width * fig.ratio);\n",
       "                canvas.setAttribute('height', height * fig.ratio);\n",
       "            }\n",
       "            canvas.setAttribute(\n",
       "                'style',\n",
       "                'width: ' + width + 'px; height: ' + height + 'px;'\n",
       "            );\n",
       "\n",
       "            rubberband_canvas.setAttribute('width', width);\n",
       "            rubberband_canvas.setAttribute('height', height);\n",
       "\n",
       "            // And update the size in Python. We ignore the initial 0/0 size\n",
       "            // that occurs as the element is placed into the DOM, which should\n",
       "            // otherwise not happen due to the minimum size styling.\n",
       "            if (fig.ws.readyState == 1 && width != 0 && height != 0) {\n",
       "                fig.request_resize(width, height);\n",
       "            }\n",
       "        }\n",
       "    });\n",
       "    this.resizeObserverInstance.observe(canvas_div);\n",
       "\n",
       "    function on_mouse_event_closure(name) {\n",
       "        return function (event) {\n",
       "            return fig.mouse_event(event, name);\n",
       "        };\n",
       "    }\n",
       "\n",
       "    rubberband_canvas.addEventListener(\n",
       "        'mousedown',\n",
       "        on_mouse_event_closure('button_press')\n",
       "    );\n",
       "    rubberband_canvas.addEventListener(\n",
       "        'mouseup',\n",
       "        on_mouse_event_closure('button_release')\n",
       "    );\n",
       "    rubberband_canvas.addEventListener(\n",
       "        'dblclick',\n",
       "        on_mouse_event_closure('dblclick')\n",
       "    );\n",
       "    // Throttle sequential mouse events to 1 every 20ms.\n",
       "    rubberband_canvas.addEventListener(\n",
       "        'mousemove',\n",
       "        on_mouse_event_closure('motion_notify')\n",
       "    );\n",
       "\n",
       "    rubberband_canvas.addEventListener(\n",
       "        'mouseenter',\n",
       "        on_mouse_event_closure('figure_enter')\n",
       "    );\n",
       "    rubberband_canvas.addEventListener(\n",
       "        'mouseleave',\n",
       "        on_mouse_event_closure('figure_leave')\n",
       "    );\n",
       "\n",
       "    canvas_div.addEventListener('wheel', function (event) {\n",
       "        if (event.deltaY < 0) {\n",
       "            event.step = 1;\n",
       "        } else {\n",
       "            event.step = -1;\n",
       "        }\n",
       "        on_mouse_event_closure('scroll')(event);\n",
       "    });\n",
       "\n",
       "    canvas_div.appendChild(canvas);\n",
       "    canvas_div.appendChild(rubberband_canvas);\n",
       "\n",
       "    this.rubberband_context = rubberband_canvas.getContext('2d');\n",
       "    this.rubberband_context.strokeStyle = '#000000';\n",
       "\n",
       "    this._resize_canvas = function (width, height, forward) {\n",
       "        if (forward) {\n",
       "            canvas_div.style.width = width + 'px';\n",
       "            canvas_div.style.height = height + 'px';\n",
       "        }\n",
       "    };\n",
       "\n",
       "    // Disable right mouse context menu.\n",
       "    this.rubberband_canvas.addEventListener('contextmenu', function (_e) {\n",
       "        event.preventDefault();\n",
       "        return false;\n",
       "    });\n",
       "\n",
       "    function set_focus() {\n",
       "        canvas.focus();\n",
       "        canvas_div.focus();\n",
       "    }\n",
       "\n",
       "    window.setTimeout(set_focus, 100);\n",
       "};\n",
       "\n",
       "mpl.figure.prototype._init_toolbar = function () {\n",
       "    var fig = this;\n",
       "\n",
       "    var toolbar = document.createElement('div');\n",
       "    toolbar.classList = 'mpl-toolbar';\n",
       "    this.root.appendChild(toolbar);\n",
       "\n",
       "    function on_click_closure(name) {\n",
       "        return function (_event) {\n",
       "            return fig.toolbar_button_onclick(name);\n",
       "        };\n",
       "    }\n",
       "\n",
       "    function on_mouseover_closure(tooltip) {\n",
       "        return function (event) {\n",
       "            if (!event.currentTarget.disabled) {\n",
       "                return fig.toolbar_button_onmouseover(tooltip);\n",
       "            }\n",
       "        };\n",
       "    }\n",
       "\n",
       "    fig.buttons = {};\n",
       "    var buttonGroup = document.createElement('div');\n",
       "    buttonGroup.classList = 'mpl-button-group';\n",
       "    for (var toolbar_ind in mpl.toolbar_items) {\n",
       "        var name = mpl.toolbar_items[toolbar_ind][0];\n",
       "        var tooltip = mpl.toolbar_items[toolbar_ind][1];\n",
       "        var image = mpl.toolbar_items[toolbar_ind][2];\n",
       "        var method_name = mpl.toolbar_items[toolbar_ind][3];\n",
       "\n",
       "        if (!name) {\n",
       "            /* Instead of a spacer, we start a new button group. */\n",
       "            if (buttonGroup.hasChildNodes()) {\n",
       "                toolbar.appendChild(buttonGroup);\n",
       "            }\n",
       "            buttonGroup = document.createElement('div');\n",
       "            buttonGroup.classList = 'mpl-button-group';\n",
       "            continue;\n",
       "        }\n",
       "\n",
       "        var button = (fig.buttons[name] = document.createElement('button'));\n",
       "        button.classList = 'mpl-widget';\n",
       "        button.setAttribute('role', 'button');\n",
       "        button.setAttribute('aria-disabled', 'false');\n",
       "        button.addEventListener('click', on_click_closure(method_name));\n",
       "        button.addEventListener('mouseover', on_mouseover_closure(tooltip));\n",
       "\n",
       "        var icon_img = document.createElement('img');\n",
       "        icon_img.src = '_images/' + image + '.png';\n",
       "        icon_img.srcset = '_images/' + image + '_large.png 2x';\n",
       "        icon_img.alt = tooltip;\n",
       "        button.appendChild(icon_img);\n",
       "\n",
       "        buttonGroup.appendChild(button);\n",
       "    }\n",
       "\n",
       "    if (buttonGroup.hasChildNodes()) {\n",
       "        toolbar.appendChild(buttonGroup);\n",
       "    }\n",
       "\n",
       "    var fmt_picker = document.createElement('select');\n",
       "    fmt_picker.classList = 'mpl-widget';\n",
       "    toolbar.appendChild(fmt_picker);\n",
       "    this.format_dropdown = fmt_picker;\n",
       "\n",
       "    for (var ind in mpl.extensions) {\n",
       "        var fmt = mpl.extensions[ind];\n",
       "        var option = document.createElement('option');\n",
       "        option.selected = fmt === mpl.default_extension;\n",
       "        option.innerHTML = fmt;\n",
       "        fmt_picker.appendChild(option);\n",
       "    }\n",
       "\n",
       "    var status_bar = document.createElement('span');\n",
       "    status_bar.classList = 'mpl-message';\n",
       "    toolbar.appendChild(status_bar);\n",
       "    this.message = status_bar;\n",
       "};\n",
       "\n",
       "mpl.figure.prototype.request_resize = function (x_pixels, y_pixels) {\n",
       "    // Request matplotlib to resize the figure. Matplotlib will then trigger a resize in the client,\n",
       "    // which will in turn request a refresh of the image.\n",
       "    this.send_message('resize', { width: x_pixels, height: y_pixels });\n",
       "};\n",
       "\n",
       "mpl.figure.prototype.send_message = function (type, properties) {\n",
       "    properties['type'] = type;\n",
       "    properties['figure_id'] = this.id;\n",
       "    this.ws.send(JSON.stringify(properties));\n",
       "};\n",
       "\n",
       "mpl.figure.prototype.send_draw_message = function () {\n",
       "    if (!this.waiting) {\n",
       "        this.waiting = true;\n",
       "        this.ws.send(JSON.stringify({ type: 'draw', figure_id: this.id }));\n",
       "    }\n",
       "};\n",
       "\n",
       "mpl.figure.prototype.handle_save = function (fig, _msg) {\n",
       "    var format_dropdown = fig.format_dropdown;\n",
       "    var format = format_dropdown.options[format_dropdown.selectedIndex].value;\n",
       "    fig.ondownload(fig, format);\n",
       "};\n",
       "\n",
       "mpl.figure.prototype.handle_resize = function (fig, msg) {\n",
       "    var size = msg['size'];\n",
       "    if (size[0] !== fig.canvas.width || size[1] !== fig.canvas.height) {\n",
       "        fig._resize_canvas(size[0], size[1], msg['forward']);\n",
       "        fig.send_message('refresh', {});\n",
       "    }\n",
       "};\n",
       "\n",
       "mpl.figure.prototype.handle_rubberband = function (fig, msg) {\n",
       "    var x0 = msg['x0'] / fig.ratio;\n",
       "    var y0 = (fig.canvas.height - msg['y0']) / fig.ratio;\n",
       "    var x1 = msg['x1'] / fig.ratio;\n",
       "    var y1 = (fig.canvas.height - msg['y1']) / fig.ratio;\n",
       "    x0 = Math.floor(x0) + 0.5;\n",
       "    y0 = Math.floor(y0) + 0.5;\n",
       "    x1 = Math.floor(x1) + 0.5;\n",
       "    y1 = Math.floor(y1) + 0.5;\n",
       "    var min_x = Math.min(x0, x1);\n",
       "    var min_y = Math.min(y0, y1);\n",
       "    var width = Math.abs(x1 - x0);\n",
       "    var height = Math.abs(y1 - y0);\n",
       "\n",
       "    fig.rubberband_context.clearRect(\n",
       "        0,\n",
       "        0,\n",
       "        fig.canvas.width / fig.ratio,\n",
       "        fig.canvas.height / fig.ratio\n",
       "    );\n",
       "\n",
       "    fig.rubberband_context.strokeRect(min_x, min_y, width, height);\n",
       "};\n",
       "\n",
       "mpl.figure.prototype.handle_figure_label = function (fig, msg) {\n",
       "    // Updates the figure title.\n",
       "    fig.header.textContent = msg['label'];\n",
       "};\n",
       "\n",
       "mpl.figure.prototype.handle_cursor = function (fig, msg) {\n",
       "    var cursor = msg['cursor'];\n",
       "    switch (cursor) {\n",
       "        case 0:\n",
       "            cursor = 'pointer';\n",
       "            break;\n",
       "        case 1:\n",
       "            cursor = 'default';\n",
       "            break;\n",
       "        case 2:\n",
       "            cursor = 'crosshair';\n",
       "            break;\n",
       "        case 3:\n",
       "            cursor = 'move';\n",
       "            break;\n",
       "    }\n",
       "    fig.rubberband_canvas.style.cursor = cursor;\n",
       "};\n",
       "\n",
       "mpl.figure.prototype.handle_message = function (fig, msg) {\n",
       "    fig.message.textContent = msg['message'];\n",
       "};\n",
       "\n",
       "mpl.figure.prototype.handle_draw = function (fig, _msg) {\n",
       "    // Request the server to send over a new figure.\n",
       "    fig.send_draw_message();\n",
       "};\n",
       "\n",
       "mpl.figure.prototype.handle_image_mode = function (fig, msg) {\n",
       "    fig.image_mode = msg['mode'];\n",
       "};\n",
       "\n",
       "mpl.figure.prototype.handle_history_buttons = function (fig, msg) {\n",
       "    for (var key in msg) {\n",
       "        if (!(key in fig.buttons)) {\n",
       "            continue;\n",
       "        }\n",
       "        fig.buttons[key].disabled = !msg[key];\n",
       "        fig.buttons[key].setAttribute('aria-disabled', !msg[key]);\n",
       "    }\n",
       "};\n",
       "\n",
       "mpl.figure.prototype.handle_navigate_mode = function (fig, msg) {\n",
       "    if (msg['mode'] === 'PAN') {\n",
       "        fig.buttons['Pan'].classList.add('active');\n",
       "        fig.buttons['Zoom'].classList.remove('active');\n",
       "    } else if (msg['mode'] === 'ZOOM') {\n",
       "        fig.buttons['Pan'].classList.remove('active');\n",
       "        fig.buttons['Zoom'].classList.add('active');\n",
       "    } else {\n",
       "        fig.buttons['Pan'].classList.remove('active');\n",
       "        fig.buttons['Zoom'].classList.remove('active');\n",
       "    }\n",
       "};\n",
       "\n",
       "mpl.figure.prototype.updated_canvas_event = function () {\n",
       "    // Called whenever the canvas gets updated.\n",
       "    this.send_message('ack', {});\n",
       "};\n",
       "\n",
       "// A function to construct a web socket function for onmessage handling.\n",
       "// Called in the figure constructor.\n",
       "mpl.figure.prototype._make_on_message_function = function (fig) {\n",
       "    return function socket_on_message(evt) {\n",
       "        if (evt.data instanceof Blob) {\n",
       "            var img = evt.data;\n",
       "            if (img.type !== 'image/png') {\n",
       "                /* FIXME: We get \"Resource interpreted as Image but\n",
       "                 * transferred with MIME type text/plain:\" errors on\n",
       "                 * Chrome.  But how to set the MIME type?  It doesn't seem\n",
       "                 * to be part of the websocket stream */\n",
       "                img.type = 'image/png';\n",
       "            }\n",
       "\n",
       "            /* Free the memory for the previous frames */\n",
       "            if (fig.imageObj.src) {\n",
       "                (window.URL || window.webkitURL).revokeObjectURL(\n",
       "                    fig.imageObj.src\n",
       "                );\n",
       "            }\n",
       "\n",
       "            fig.imageObj.src = (window.URL || window.webkitURL).createObjectURL(\n",
       "                img\n",
       "            );\n",
       "            fig.updated_canvas_event();\n",
       "            fig.waiting = false;\n",
       "            return;\n",
       "        } else if (\n",
       "            typeof evt.data === 'string' &&\n",
       "            evt.data.slice(0, 21) === 'data:image/png;base64'\n",
       "        ) {\n",
       "            fig.imageObj.src = evt.data;\n",
       "            fig.updated_canvas_event();\n",
       "            fig.waiting = false;\n",
       "            return;\n",
       "        }\n",
       "\n",
       "        var msg = JSON.parse(evt.data);\n",
       "        var msg_type = msg['type'];\n",
       "\n",
       "        // Call the  \"handle_{type}\" callback, which takes\n",
       "        // the figure and JSON message as its only arguments.\n",
       "        try {\n",
       "            var callback = fig['handle_' + msg_type];\n",
       "        } catch (e) {\n",
       "            console.log(\n",
       "                \"No handler for the '\" + msg_type + \"' message type: \",\n",
       "                msg\n",
       "            );\n",
       "            return;\n",
       "        }\n",
       "\n",
       "        if (callback) {\n",
       "            try {\n",
       "                // console.log(\"Handling '\" + msg_type + \"' message: \", msg);\n",
       "                callback(fig, msg);\n",
       "            } catch (e) {\n",
       "                console.log(\n",
       "                    \"Exception inside the 'handler_\" + msg_type + \"' callback:\",\n",
       "                    e,\n",
       "                    e.stack,\n",
       "                    msg\n",
       "                );\n",
       "            }\n",
       "        }\n",
       "    };\n",
       "};\n",
       "\n",
       "// from http://stackoverflow.com/questions/1114465/getting-mouse-location-in-canvas\n",
       "mpl.findpos = function (e) {\n",
       "    //this section is from http://www.quirksmode.org/js/events_properties.html\n",
       "    var targ;\n",
       "    if (!e) {\n",
       "        e = window.event;\n",
       "    }\n",
       "    if (e.target) {\n",
       "        targ = e.target;\n",
       "    } else if (e.srcElement) {\n",
       "        targ = e.srcElement;\n",
       "    }\n",
       "    if (targ.nodeType === 3) {\n",
       "        // defeat Safari bug\n",
       "        targ = targ.parentNode;\n",
       "    }\n",
       "\n",
       "    // pageX,Y are the mouse positions relative to the document\n",
       "    var boundingRect = targ.getBoundingClientRect();\n",
       "    var x = e.pageX - (boundingRect.left + document.body.scrollLeft);\n",
       "    var y = e.pageY - (boundingRect.top + document.body.scrollTop);\n",
       "\n",
       "    return { x: x, y: y };\n",
       "};\n",
       "\n",
       "/*\n",
       " * return a copy of an object with only non-object keys\n",
       " * we need this to avoid circular references\n",
       " * http://stackoverflow.com/a/24161582/3208463\n",
       " */\n",
       "function simpleKeys(original) {\n",
       "    return Object.keys(original).reduce(function (obj, key) {\n",
       "        if (typeof original[key] !== 'object') {\n",
       "            obj[key] = original[key];\n",
       "        }\n",
       "        return obj;\n",
       "    }, {});\n",
       "}\n",
       "\n",
       "mpl.figure.prototype.mouse_event = function (event, name) {\n",
       "    var canvas_pos = mpl.findpos(event);\n",
       "\n",
       "    if (name === 'button_press') {\n",
       "        this.canvas.focus();\n",
       "        this.canvas_div.focus();\n",
       "    }\n",
       "\n",
       "    var x = canvas_pos.x * this.ratio;\n",
       "    var y = canvas_pos.y * this.ratio;\n",
       "\n",
       "    this.send_message(name, {\n",
       "        x: x,\n",
       "        y: y,\n",
       "        button: event.button,\n",
       "        step: event.step,\n",
       "        guiEvent: simpleKeys(event),\n",
       "    });\n",
       "\n",
       "    /* This prevents the web browser from automatically changing to\n",
       "     * the text insertion cursor when the button is pressed.  We want\n",
       "     * to control all of the cursor setting manually through the\n",
       "     * 'cursor' event from matplotlib */\n",
       "    event.preventDefault();\n",
       "    return false;\n",
       "};\n",
       "\n",
       "mpl.figure.prototype._key_event_extra = function (_event, _name) {\n",
       "    // Handle any extra behaviour associated with a key event\n",
       "};\n",
       "\n",
       "mpl.figure.prototype.key_event = function (event, name) {\n",
       "    // Prevent repeat events\n",
       "    if (name === 'key_press') {\n",
       "        if (event.key === this._key) {\n",
       "            return;\n",
       "        } else {\n",
       "            this._key = event.key;\n",
       "        }\n",
       "    }\n",
       "    if (name === 'key_release') {\n",
       "        this._key = null;\n",
       "    }\n",
       "\n",
       "    var value = '';\n",
       "    if (event.ctrlKey && event.key !== 'Control') {\n",
       "        value += 'ctrl+';\n",
       "    }\n",
       "    else if (event.altKey && event.key !== 'Alt') {\n",
       "        value += 'alt+';\n",
       "    }\n",
       "    else if (event.shiftKey && event.key !== 'Shift') {\n",
       "        value += 'shift+';\n",
       "    }\n",
       "\n",
       "    value += 'k' + event.key;\n",
       "\n",
       "    this._key_event_extra(event, name);\n",
       "\n",
       "    this.send_message(name, { key: value, guiEvent: simpleKeys(event) });\n",
       "    return false;\n",
       "};\n",
       "\n",
       "mpl.figure.prototype.toolbar_button_onclick = function (name) {\n",
       "    if (name === 'download') {\n",
       "        this.handle_save(this, null);\n",
       "    } else {\n",
       "        this.send_message('toolbar_button', { name: name });\n",
       "    }\n",
       "};\n",
       "\n",
       "mpl.figure.prototype.toolbar_button_onmouseover = function (tooltip) {\n",
       "    this.message.textContent = tooltip;\n",
       "};\n",
       "\n",
       "///////////////// REMAINING CONTENT GENERATED BY embed_js.py /////////////////\n",
       "// prettier-ignore\n",
       "var _JSXTOOLS_RESIZE_OBSERVER=function(A){var t,i=new WeakMap,n=new WeakMap,a=new WeakMap,r=new WeakMap,o=new Set;function s(e){if(!(this instanceof s))throw new TypeError(\"Constructor requires 'new' operator\");i.set(this,e)}function h(){throw new TypeError(\"Function is not a constructor\")}function c(e,t,i,n){e=0 in arguments?Number(arguments[0]):0,t=1 in arguments?Number(arguments[1]):0,i=2 in arguments?Number(arguments[2]):0,n=3 in arguments?Number(arguments[3]):0,this.right=(this.x=this.left=e)+(this.width=i),this.bottom=(this.y=this.top=t)+(this.height=n),Object.freeze(this)}function d(){t=requestAnimationFrame(d);var s=new WeakMap,p=new Set;o.forEach((function(t){r.get(t).forEach((function(i){var r=t instanceof window.SVGElement,o=a.get(t),d=r?0:parseFloat(o.paddingTop),f=r?0:parseFloat(o.paddingRight),l=r?0:parseFloat(o.paddingBottom),u=r?0:parseFloat(o.paddingLeft),g=r?0:parseFloat(o.borderTopWidth),m=r?0:parseFloat(o.borderRightWidth),w=r?0:parseFloat(o.borderBottomWidth),b=u+f,F=d+l,v=(r?0:parseFloat(o.borderLeftWidth))+m,W=g+w,y=r?0:t.offsetHeight-W-t.clientHeight,E=r?0:t.offsetWidth-v-t.clientWidth,R=b+v,z=F+W,M=r?t.width:parseFloat(o.width)-R-E,O=r?t.height:parseFloat(o.height)-z-y;if(n.has(t)){var k=n.get(t);if(k[0]===M&&k[1]===O)return}n.set(t,[M,O]);var S=Object.create(h.prototype);S.target=t,S.contentRect=new c(u,d,M,O),s.has(i)||(s.set(i,[]),p.add(i)),s.get(i).push(S)}))})),p.forEach((function(e){i.get(e).call(e,s.get(e),e)}))}return s.prototype.observe=function(i){if(i instanceof window.Element){r.has(i)||(r.set(i,new Set),o.add(i),a.set(i,window.getComputedStyle(i)));var n=r.get(i);n.has(this)||n.add(this),cancelAnimationFrame(t),t=requestAnimationFrame(d)}},s.prototype.unobserve=function(i){if(i instanceof window.Element&&r.has(i)){var n=r.get(i);n.has(this)&&(n.delete(this),n.size||(r.delete(i),o.delete(i))),n.size||r.delete(i),o.size||cancelAnimationFrame(t)}},A.DOMRectReadOnly=c,A.ResizeObserver=s,A.ResizeObserverEntry=h,A}; // eslint-disable-line\n",
       "mpl.toolbar_items = [[\"Home\", \"Reset original view\", \"fa fa-home icon-home\", \"home\"], [\"Back\", \"Back to previous view\", \"fa fa-arrow-left icon-arrow-left\", \"back\"], [\"Forward\", \"Forward to next view\", \"fa fa-arrow-right icon-arrow-right\", \"forward\"], [\"\", \"\", \"\", \"\"], [\"Pan\", \"Left button pans, Right button zooms\\nx/y fixes axis, CTRL fixes aspect\", \"fa fa-arrows icon-move\", \"pan\"], [\"Zoom\", \"Zoom to rectangle\\nx/y fixes axis, CTRL fixes aspect\", \"fa fa-square-o icon-check-empty\", \"zoom\"], [\"\", \"\", \"\", \"\"], [\"Download\", \"Download plot\", \"fa fa-floppy-o icon-save\", \"download\"]];\n",
       "\n",
       "mpl.extensions = [\"eps\", \"jpeg\", \"pgf\", \"pdf\", \"png\", \"ps\", \"raw\", \"svg\", \"tif\"];\n",
       "\n",
       "mpl.default_extension = \"png\";/* global mpl */\n",
       "\n",
       "var comm_websocket_adapter = function (comm) {\n",
       "    // Create a \"websocket\"-like object which calls the given IPython comm\n",
       "    // object with the appropriate methods. Currently this is a non binary\n",
       "    // socket, so there is still some room for performance tuning.\n",
       "    var ws = {};\n",
       "\n",
       "    ws.binaryType = comm.kernel.ws.binaryType;\n",
       "    ws.readyState = comm.kernel.ws.readyState;\n",
       "    function updateReadyState(_event) {\n",
       "        if (comm.kernel.ws) {\n",
       "            ws.readyState = comm.kernel.ws.readyState;\n",
       "        } else {\n",
       "            ws.readyState = 3; // Closed state.\n",
       "        }\n",
       "    }\n",
       "    comm.kernel.ws.addEventListener('open', updateReadyState);\n",
       "    comm.kernel.ws.addEventListener('close', updateReadyState);\n",
       "    comm.kernel.ws.addEventListener('error', updateReadyState);\n",
       "\n",
       "    ws.close = function () {\n",
       "        comm.close();\n",
       "    };\n",
       "    ws.send = function (m) {\n",
       "        //console.log('sending', m);\n",
       "        comm.send(m);\n",
       "    };\n",
       "    // Register the callback with on_msg.\n",
       "    comm.on_msg(function (msg) {\n",
       "        //console.log('receiving', msg['content']['data'], msg);\n",
       "        var data = msg['content']['data'];\n",
       "        if (data['blob'] !== undefined) {\n",
       "            data = {\n",
       "                data: new Blob(msg['buffers'], { type: data['blob'] }),\n",
       "            };\n",
       "        }\n",
       "        // Pass the mpl event to the overridden (by mpl) onmessage function.\n",
       "        ws.onmessage(data);\n",
       "    });\n",
       "    return ws;\n",
       "};\n",
       "\n",
       "mpl.mpl_figure_comm = function (comm, msg) {\n",
       "    // This is the function which gets called when the mpl process\n",
       "    // starts-up an IPython Comm through the \"matplotlib\" channel.\n",
       "\n",
       "    var id = msg.content.data.id;\n",
       "    // Get hold of the div created by the display call when the Comm\n",
       "    // socket was opened in Python.\n",
       "    var element = document.getElementById(id);\n",
       "    var ws_proxy = comm_websocket_adapter(comm);\n",
       "\n",
       "    function ondownload(figure, _format) {\n",
       "        window.open(figure.canvas.toDataURL());\n",
       "    }\n",
       "\n",
       "    var fig = new mpl.figure(id, ws_proxy, ondownload, element);\n",
       "\n",
       "    // Call onopen now - mpl needs it, as it is assuming we've passed it a real\n",
       "    // web socket which is closed, not our websocket->open comm proxy.\n",
       "    ws_proxy.onopen();\n",
       "\n",
       "    fig.parent_element = element;\n",
       "    fig.cell_info = mpl.find_output_cell(\"<div id='\" + id + \"'></div>\");\n",
       "    if (!fig.cell_info) {\n",
       "        console.error('Failed to find cell for figure', id, fig);\n",
       "        return;\n",
       "    }\n",
       "    fig.cell_info[0].output_area.element.on(\n",
       "        'cleared',\n",
       "        { fig: fig },\n",
       "        fig._remove_fig_handler\n",
       "    );\n",
       "};\n",
       "\n",
       "mpl.figure.prototype.handle_close = function (fig, msg) {\n",
       "    var width = fig.canvas.width / fig.ratio;\n",
       "    fig.cell_info[0].output_area.element.off(\n",
       "        'cleared',\n",
       "        fig._remove_fig_handler\n",
       "    );\n",
       "    fig.resizeObserverInstance.unobserve(fig.canvas_div);\n",
       "\n",
       "    // Update the output cell to use the data from the current canvas.\n",
       "    fig.push_to_output();\n",
       "    var dataURL = fig.canvas.toDataURL();\n",
       "    // Re-enable the keyboard manager in IPython - without this line, in FF,\n",
       "    // the notebook keyboard shortcuts fail.\n",
       "    IPython.keyboard_manager.enable();\n",
       "    fig.parent_element.innerHTML =\n",
       "        '<img src=\"' + dataURL + '\" width=\"' + width + '\">';\n",
       "    fig.close_ws(fig, msg);\n",
       "};\n",
       "\n",
       "mpl.figure.prototype.close_ws = function (fig, msg) {\n",
       "    fig.send_message('closing', msg);\n",
       "    // fig.ws.close()\n",
       "};\n",
       "\n",
       "mpl.figure.prototype.push_to_output = function (_remove_interactive) {\n",
       "    // Turn the data on the canvas into data in the output cell.\n",
       "    var width = this.canvas.width / this.ratio;\n",
       "    var dataURL = this.canvas.toDataURL();\n",
       "    this.cell_info[1]['text/html'] =\n",
       "        '<img src=\"' + dataURL + '\" width=\"' + width + '\">';\n",
       "};\n",
       "\n",
       "mpl.figure.prototype.updated_canvas_event = function () {\n",
       "    // Tell IPython that the notebook contents must change.\n",
       "    IPython.notebook.set_dirty(true);\n",
       "    this.send_message('ack', {});\n",
       "    var fig = this;\n",
       "    // Wait a second, then push the new image to the DOM so\n",
       "    // that it is saved nicely (might be nice to debounce this).\n",
       "    setTimeout(function () {\n",
       "        fig.push_to_output();\n",
       "    }, 1000);\n",
       "};\n",
       "\n",
       "mpl.figure.prototype._init_toolbar = function () {\n",
       "    var fig = this;\n",
       "\n",
       "    var toolbar = document.createElement('div');\n",
       "    toolbar.classList = 'btn-toolbar';\n",
       "    this.root.appendChild(toolbar);\n",
       "\n",
       "    function on_click_closure(name) {\n",
       "        return function (_event) {\n",
       "            return fig.toolbar_button_onclick(name);\n",
       "        };\n",
       "    }\n",
       "\n",
       "    function on_mouseover_closure(tooltip) {\n",
       "        return function (event) {\n",
       "            if (!event.currentTarget.disabled) {\n",
       "                return fig.toolbar_button_onmouseover(tooltip);\n",
       "            }\n",
       "        };\n",
       "    }\n",
       "\n",
       "    fig.buttons = {};\n",
       "    var buttonGroup = document.createElement('div');\n",
       "    buttonGroup.classList = 'btn-group';\n",
       "    var button;\n",
       "    for (var toolbar_ind in mpl.toolbar_items) {\n",
       "        var name = mpl.toolbar_items[toolbar_ind][0];\n",
       "        var tooltip = mpl.toolbar_items[toolbar_ind][1];\n",
       "        var image = mpl.toolbar_items[toolbar_ind][2];\n",
       "        var method_name = mpl.toolbar_items[toolbar_ind][3];\n",
       "\n",
       "        if (!name) {\n",
       "            /* Instead of a spacer, we start a new button group. */\n",
       "            if (buttonGroup.hasChildNodes()) {\n",
       "                toolbar.appendChild(buttonGroup);\n",
       "            }\n",
       "            buttonGroup = document.createElement('div');\n",
       "            buttonGroup.classList = 'btn-group';\n",
       "            continue;\n",
       "        }\n",
       "\n",
       "        button = fig.buttons[name] = document.createElement('button');\n",
       "        button.classList = 'btn btn-default';\n",
       "        button.href = '#';\n",
       "        button.title = name;\n",
       "        button.innerHTML = '<i class=\"fa ' + image + ' fa-lg\"></i>';\n",
       "        button.addEventListener('click', on_click_closure(method_name));\n",
       "        button.addEventListener('mouseover', on_mouseover_closure(tooltip));\n",
       "        buttonGroup.appendChild(button);\n",
       "    }\n",
       "\n",
       "    if (buttonGroup.hasChildNodes()) {\n",
       "        toolbar.appendChild(buttonGroup);\n",
       "    }\n",
       "\n",
       "    // Add the status bar.\n",
       "    var status_bar = document.createElement('span');\n",
       "    status_bar.classList = 'mpl-message pull-right';\n",
       "    toolbar.appendChild(status_bar);\n",
       "    this.message = status_bar;\n",
       "\n",
       "    // Add the close button to the window.\n",
       "    var buttongrp = document.createElement('div');\n",
       "    buttongrp.classList = 'btn-group inline pull-right';\n",
       "    button = document.createElement('button');\n",
       "    button.classList = 'btn btn-mini btn-primary';\n",
       "    button.href = '#';\n",
       "    button.title = 'Stop Interaction';\n",
       "    button.innerHTML = '<i class=\"fa fa-power-off icon-remove icon-large\"></i>';\n",
       "    button.addEventListener('click', function (_evt) {\n",
       "        fig.handle_close(fig, {});\n",
       "    });\n",
       "    button.addEventListener(\n",
       "        'mouseover',\n",
       "        on_mouseover_closure('Stop Interaction')\n",
       "    );\n",
       "    buttongrp.appendChild(button);\n",
       "    var titlebar = this.root.querySelector('.ui-dialog-titlebar');\n",
       "    titlebar.insertBefore(buttongrp, titlebar.firstChild);\n",
       "};\n",
       "\n",
       "mpl.figure.prototype._remove_fig_handler = function (event) {\n",
       "    var fig = event.data.fig;\n",
       "    if (event.target !== this) {\n",
       "        // Ignore bubbled events from children.\n",
       "        return;\n",
       "    }\n",
       "    fig.close_ws(fig, {});\n",
       "};\n",
       "\n",
       "mpl.figure.prototype._root_extra_style = function (el) {\n",
       "    el.style.boxSizing = 'content-box'; // override notebook setting of border-box.\n",
       "};\n",
       "\n",
       "mpl.figure.prototype._canvas_extra_style = function (el) {\n",
       "    // this is important to make the div 'focusable\n",
       "    el.setAttribute('tabindex', 0);\n",
       "    // reach out to IPython and tell the keyboard manager to turn it's self\n",
       "    // off when our div gets focus\n",
       "\n",
       "    // location in version 3\n",
       "    if (IPython.notebook.keyboard_manager) {\n",
       "        IPython.notebook.keyboard_manager.register_events(el);\n",
       "    } else {\n",
       "        // location in version 2\n",
       "        IPython.keyboard_manager.register_events(el);\n",
       "    }\n",
       "};\n",
       "\n",
       "mpl.figure.prototype._key_event_extra = function (event, _name) {\n",
       "    var manager = IPython.notebook.keyboard_manager;\n",
       "    if (!manager) {\n",
       "        manager = IPython.keyboard_manager;\n",
       "    }\n",
       "\n",
       "    // Check for shift+enter\n",
       "    if (event.shiftKey && event.which === 13) {\n",
       "        this.canvas_div.blur();\n",
       "        // select the cell after this one\n",
       "        var index = IPython.notebook.find_cell_index(this.cell_info[0]);\n",
       "        IPython.notebook.select(index + 1);\n",
       "    }\n",
       "};\n",
       "\n",
       "mpl.figure.prototype.handle_save = function (fig, _msg) {\n",
       "    fig.ondownload(fig, null);\n",
       "};\n",
       "\n",
       "mpl.find_output_cell = function (html_output) {\n",
       "    // Return the cell and output element which can be found *uniquely* in the notebook.\n",
       "    // Note - this is a bit hacky, but it is done because the \"notebook_saving.Notebook\"\n",
       "    // IPython event is triggered only after the cells have been serialised, which for\n",
       "    // our purposes (turning an active figure into a static one), is too late.\n",
       "    var cells = IPython.notebook.get_cells();\n",
       "    var ncells = cells.length;\n",
       "    for (var i = 0; i < ncells; i++) {\n",
       "        var cell = cells[i];\n",
       "        if (cell.cell_type === 'code') {\n",
       "            for (var j = 0; j < cell.output_area.outputs.length; j++) {\n",
       "                var data = cell.output_area.outputs[j];\n",
       "                if (data.data) {\n",
       "                    // IPython >= 3 moved mimebundle to data attribute of output\n",
       "                    data = data.data;\n",
       "                }\n",
       "                if (data['text/html'] === html_output) {\n",
       "                    return [cell, data, j];\n",
       "                }\n",
       "            }\n",
       "        }\n",
       "    }\n",
       "};\n",
       "\n",
       "// Register the function which deals with the matplotlib target/channel.\n",
       "// The kernel may be null if the page has been refreshed.\n",
       "if (IPython.notebook.kernel !== null) {\n",
       "    IPython.notebook.kernel.comm_manager.register_target(\n",
       "        'matplotlib',\n",
       "        mpl.mpl_figure_comm\n",
       "    );\n",
       "}\n"
      ],
      "text/plain": [
       "<IPython.core.display.Javascript object>"
      ]
     },
     "metadata": {},
     "output_type": "display_data"
    },
    {
     "data": {
      "text/html": [
       "<img src=\"data:image/png;base64,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\" width=\"399.9999913302337\">"
      ],
      "text/plain": [
       "<IPython.core.display.HTML object>"
      ]
     },
     "metadata": {},
     "output_type": "display_data"
    },
    {
     "data": {
      "text/plain": [
       "<ImageAnalysis3.visual_tools.imshow_mark_3d_v2 at 0x1a4e09f83d0>"
      ]
     },
     "execution_count": 21,
     "metadata": {},
     "output_type": "execute_result"
    }
   ],
   "source": [
    "%matplotlib notebook\n",
    "visual_tools.imshow_mark_3d_v2([_dna_dapi, dna_mask])"
   ]
  },
  {
   "cell_type": "code",
   "execution_count": 21,
   "id": "d3adc389",
   "metadata": {},
   "outputs": [
    {
     "data": {
      "application/javascript": [
       "/* Put everything inside the global mpl namespace */\n",
       "/* global mpl */\n",
       "window.mpl = {};\n",
       "\n",
       "mpl.get_websocket_type = function () {\n",
       "    if (typeof WebSocket !== 'undefined') {\n",
       "        return WebSocket;\n",
       "    } else if (typeof MozWebSocket !== 'undefined') {\n",
       "        return MozWebSocket;\n",
       "    } else {\n",
       "        alert(\n",
       "            'Your browser does not have WebSocket support. ' +\n",
       "                'Please try Chrome, Safari or Firefox ≥ 6. ' +\n",
       "                'Firefox 4 and 5 are also supported but you ' +\n",
       "                'have to enable WebSockets in about:config.'\n",
       "        );\n",
       "    }\n",
       "};\n",
       "\n",
       "mpl.figure = function (figure_id, websocket, ondownload, parent_element) {\n",
       "    this.id = figure_id;\n",
       "\n",
       "    this.ws = websocket;\n",
       "\n",
       "    this.supports_binary = this.ws.binaryType !== undefined;\n",
       "\n",
       "    if (!this.supports_binary) {\n",
       "        var warnings = document.getElementById('mpl-warnings');\n",
       "        if (warnings) {\n",
       "            warnings.style.display = 'block';\n",
       "            warnings.textContent =\n",
       "                'This browser does not support binary websocket messages. ' +\n",
       "                'Performance may be slow.';\n",
       "        }\n",
       "    }\n",
       "\n",
       "    this.imageObj = new Image();\n",
       "\n",
       "    this.context = undefined;\n",
       "    this.message = undefined;\n",
       "    this.canvas = undefined;\n",
       "    this.rubberband_canvas = undefined;\n",
       "    this.rubberband_context = undefined;\n",
       "    this.format_dropdown = undefined;\n",
       "\n",
       "    this.image_mode = 'full';\n",
       "\n",
       "    this.root = document.createElement('div');\n",
       "    this.root.setAttribute('style', 'display: inline-block');\n",
       "    this._root_extra_style(this.root);\n",
       "\n",
       "    parent_element.appendChild(this.root);\n",
       "\n",
       "    this._init_header(this);\n",
       "    this._init_canvas(this);\n",
       "    this._init_toolbar(this);\n",
       "\n",
       "    var fig = this;\n",
       "\n",
       "    this.waiting = false;\n",
       "\n",
       "    this.ws.onopen = function () {\n",
       "        fig.send_message('supports_binary', { value: fig.supports_binary });\n",
       "        fig.send_message('send_image_mode', {});\n",
       "        if (fig.ratio !== 1) {\n",
       "            fig.send_message('set_dpi_ratio', { dpi_ratio: fig.ratio });\n",
       "        }\n",
       "        fig.send_message('refresh', {});\n",
       "    };\n",
       "\n",
       "    this.imageObj.onload = function () {\n",
       "        if (fig.image_mode === 'full') {\n",
       "            // Full images could contain transparency (where diff images\n",
       "            // almost always do), so we need to clear the canvas so that\n",
       "            // there is no ghosting.\n",
       "            fig.context.clearRect(0, 0, fig.canvas.width, fig.canvas.height);\n",
       "        }\n",
       "        fig.context.drawImage(fig.imageObj, 0, 0);\n",
       "    };\n",
       "\n",
       "    this.imageObj.onunload = function () {\n",
       "        fig.ws.close();\n",
       "    };\n",
       "\n",
       "    this.ws.onmessage = this._make_on_message_function(this);\n",
       "\n",
       "    this.ondownload = ondownload;\n",
       "};\n",
       "\n",
       "mpl.figure.prototype._init_header = function () {\n",
       "    var titlebar = document.createElement('div');\n",
       "    titlebar.classList =\n",
       "        'ui-dialog-titlebar ui-widget-header ui-corner-all ui-helper-clearfix';\n",
       "    var titletext = document.createElement('div');\n",
       "    titletext.classList = 'ui-dialog-title';\n",
       "    titletext.setAttribute(\n",
       "        'style',\n",
       "        'width: 100%; text-align: center; padding: 3px;'\n",
       "    );\n",
       "    titlebar.appendChild(titletext);\n",
       "    this.root.appendChild(titlebar);\n",
       "    this.header = titletext;\n",
       "};\n",
       "\n",
       "mpl.figure.prototype._canvas_extra_style = function (_canvas_div) {};\n",
       "\n",
       "mpl.figure.prototype._root_extra_style = function (_canvas_div) {};\n",
       "\n",
       "mpl.figure.prototype._init_canvas = function () {\n",
       "    var fig = this;\n",
       "\n",
       "    var canvas_div = (this.canvas_div = document.createElement('div'));\n",
       "    canvas_div.setAttribute(\n",
       "        'style',\n",
       "        'border: 1px solid #ddd;' +\n",
       "            'box-sizing: content-box;' +\n",
       "            'clear: both;' +\n",
       "            'min-height: 1px;' +\n",
       "            'min-width: 1px;' +\n",
       "            'outline: 0;' +\n",
       "            'overflow: hidden;' +\n",
       "            'position: relative;' +\n",
       "            'resize: both;'\n",
       "    );\n",
       "\n",
       "    function on_keyboard_event_closure(name) {\n",
       "        return function (event) {\n",
       "            return fig.key_event(event, name);\n",
       "        };\n",
       "    }\n",
       "\n",
       "    canvas_div.addEventListener(\n",
       "        'keydown',\n",
       "        on_keyboard_event_closure('key_press')\n",
       "    );\n",
       "    canvas_div.addEventListener(\n",
       "        'keyup',\n",
       "        on_keyboard_event_closure('key_release')\n",
       "    );\n",
       "\n",
       "    this._canvas_extra_style(canvas_div);\n",
       "    this.root.appendChild(canvas_div);\n",
       "\n",
       "    var canvas = (this.canvas = document.createElement('canvas'));\n",
       "    canvas.classList.add('mpl-canvas');\n",
       "    canvas.setAttribute('style', 'box-sizing: content-box;');\n",
       "\n",
       "    this.context = canvas.getContext('2d');\n",
       "\n",
       "    var backingStore =\n",
       "        this.context.backingStorePixelRatio ||\n",
       "        this.context.webkitBackingStorePixelRatio ||\n",
       "        this.context.mozBackingStorePixelRatio ||\n",
       "        this.context.msBackingStorePixelRatio ||\n",
       "        this.context.oBackingStorePixelRatio ||\n",
       "        this.context.backingStorePixelRatio ||\n",
       "        1;\n",
       "\n",
       "    this.ratio = (window.devicePixelRatio || 1) / backingStore;\n",
       "\n",
       "    var rubberband_canvas = (this.rubberband_canvas = document.createElement(\n",
       "        'canvas'\n",
       "    ));\n",
       "    rubberband_canvas.setAttribute(\n",
       "        'style',\n",
       "        'box-sizing: content-box; position: absolute; left: 0; top: 0; z-index: 1;'\n",
       "    );\n",
       "\n",
       "    // Apply a ponyfill if ResizeObserver is not implemented by browser.\n",
       "    if (this.ResizeObserver === undefined) {\n",
       "        if (window.ResizeObserver !== undefined) {\n",
       "            this.ResizeObserver = window.ResizeObserver;\n",
       "        } else {\n",
       "            var obs = _JSXTOOLS_RESIZE_OBSERVER({});\n",
       "            this.ResizeObserver = obs.ResizeObserver;\n",
       "        }\n",
       "    }\n",
       "\n",
       "    this.resizeObserverInstance = new this.ResizeObserver(function (entries) {\n",
       "        var nentries = entries.length;\n",
       "        for (var i = 0; i < nentries; i++) {\n",
       "            var entry = entries[i];\n",
       "            var width, height;\n",
       "            if (entry.contentBoxSize) {\n",
       "                if (entry.contentBoxSize instanceof Array) {\n",
       "                    // Chrome 84 implements new version of spec.\n",
       "                    width = entry.contentBoxSize[0].inlineSize;\n",
       "                    height = entry.contentBoxSize[0].blockSize;\n",
       "                } else {\n",
       "                    // Firefox implements old version of spec.\n",
       "                    width = entry.contentBoxSize.inlineSize;\n",
       "                    height = entry.contentBoxSize.blockSize;\n",
       "                }\n",
       "            } else {\n",
       "                // Chrome <84 implements even older version of spec.\n",
       "                width = entry.contentRect.width;\n",
       "                height = entry.contentRect.height;\n",
       "            }\n",
       "\n",
       "            // Keep the size of the canvas and rubber band canvas in sync with\n",
       "            // the canvas container.\n",
       "            if (entry.devicePixelContentBoxSize) {\n",
       "                // Chrome 84 implements new version of spec.\n",
       "                canvas.setAttribute(\n",
       "                    'width',\n",
       "                    entry.devicePixelContentBoxSize[0].inlineSize\n",
       "                );\n",
       "                canvas.setAttribute(\n",
       "                    'height',\n",
       "                    entry.devicePixelContentBoxSize[0].blockSize\n",
       "                );\n",
       "            } else {\n",
       "                canvas.setAttribute('width', width * fig.ratio);\n",
       "                canvas.setAttribute('height', height * fig.ratio);\n",
       "            }\n",
       "            canvas.setAttribute(\n",
       "                'style',\n",
       "                'width: ' + width + 'px; height: ' + height + 'px;'\n",
       "            );\n",
       "\n",
       "            rubberband_canvas.setAttribute('width', width);\n",
       "            rubberband_canvas.setAttribute('height', height);\n",
       "\n",
       "            // And update the size in Python. We ignore the initial 0/0 size\n",
       "            // that occurs as the element is placed into the DOM, which should\n",
       "            // otherwise not happen due to the minimum size styling.\n",
       "            if (fig.ws.readyState == 1 && width != 0 && height != 0) {\n",
       "                fig.request_resize(width, height);\n",
       "            }\n",
       "        }\n",
       "    });\n",
       "    this.resizeObserverInstance.observe(canvas_div);\n",
       "\n",
       "    function on_mouse_event_closure(name) {\n",
       "        return function (event) {\n",
       "            return fig.mouse_event(event, name);\n",
       "        };\n",
       "    }\n",
       "\n",
       "    rubberband_canvas.addEventListener(\n",
       "        'mousedown',\n",
       "        on_mouse_event_closure('button_press')\n",
       "    );\n",
       "    rubberband_canvas.addEventListener(\n",
       "        'mouseup',\n",
       "        on_mouse_event_closure('button_release')\n",
       "    );\n",
       "    rubberband_canvas.addEventListener(\n",
       "        'dblclick',\n",
       "        on_mouse_event_closure('dblclick')\n",
       "    );\n",
       "    // Throttle sequential mouse events to 1 every 20ms.\n",
       "    rubberband_canvas.addEventListener(\n",
       "        'mousemove',\n",
       "        on_mouse_event_closure('motion_notify')\n",
       "    );\n",
       "\n",
       "    rubberband_canvas.addEventListener(\n",
       "        'mouseenter',\n",
       "        on_mouse_event_closure('figure_enter')\n",
       "    );\n",
       "    rubberband_canvas.addEventListener(\n",
       "        'mouseleave',\n",
       "        on_mouse_event_closure('figure_leave')\n",
       "    );\n",
       "\n",
       "    canvas_div.addEventListener('wheel', function (event) {\n",
       "        if (event.deltaY < 0) {\n",
       "            event.step = 1;\n",
       "        } else {\n",
       "            event.step = -1;\n",
       "        }\n",
       "        on_mouse_event_closure('scroll')(event);\n",
       "    });\n",
       "\n",
       "    canvas_div.appendChild(canvas);\n",
       "    canvas_div.appendChild(rubberband_canvas);\n",
       "\n",
       "    this.rubberband_context = rubberband_canvas.getContext('2d');\n",
       "    this.rubberband_context.strokeStyle = '#000000';\n",
       "\n",
       "    this._resize_canvas = function (width, height, forward) {\n",
       "        if (forward) {\n",
       "            canvas_div.style.width = width + 'px';\n",
       "            canvas_div.style.height = height + 'px';\n",
       "        }\n",
       "    };\n",
       "\n",
       "    // Disable right mouse context menu.\n",
       "    this.rubberband_canvas.addEventListener('contextmenu', function (_e) {\n",
       "        event.preventDefault();\n",
       "        return false;\n",
       "    });\n",
       "\n",
       "    function set_focus() {\n",
       "        canvas.focus();\n",
       "        canvas_div.focus();\n",
       "    }\n",
       "\n",
       "    window.setTimeout(set_focus, 100);\n",
       "};\n",
       "\n",
       "mpl.figure.prototype._init_toolbar = function () {\n",
       "    var fig = this;\n",
       "\n",
       "    var toolbar = document.createElement('div');\n",
       "    toolbar.classList = 'mpl-toolbar';\n",
       "    this.root.appendChild(toolbar);\n",
       "\n",
       "    function on_click_closure(name) {\n",
       "        return function (_event) {\n",
       "            return fig.toolbar_button_onclick(name);\n",
       "        };\n",
       "    }\n",
       "\n",
       "    function on_mouseover_closure(tooltip) {\n",
       "        return function (event) {\n",
       "            if (!event.currentTarget.disabled) {\n",
       "                return fig.toolbar_button_onmouseover(tooltip);\n",
       "            }\n",
       "        };\n",
       "    }\n",
       "\n",
       "    fig.buttons = {};\n",
       "    var buttonGroup = document.createElement('div');\n",
       "    buttonGroup.classList = 'mpl-button-group';\n",
       "    for (var toolbar_ind in mpl.toolbar_items) {\n",
       "        var name = mpl.toolbar_items[toolbar_ind][0];\n",
       "        var tooltip = mpl.toolbar_items[toolbar_ind][1];\n",
       "        var image = mpl.toolbar_items[toolbar_ind][2];\n",
       "        var method_name = mpl.toolbar_items[toolbar_ind][3];\n",
       "\n",
       "        if (!name) {\n",
       "            /* Instead of a spacer, we start a new button group. */\n",
       "            if (buttonGroup.hasChildNodes()) {\n",
       "                toolbar.appendChild(buttonGroup);\n",
       "            }\n",
       "            buttonGroup = document.createElement('div');\n",
       "            buttonGroup.classList = 'mpl-button-group';\n",
       "            continue;\n",
       "        }\n",
       "\n",
       "        var button = (fig.buttons[name] = document.createElement('button'));\n",
       "        button.classList = 'mpl-widget';\n",
       "        button.setAttribute('role', 'button');\n",
       "        button.setAttribute('aria-disabled', 'false');\n",
       "        button.addEventListener('click', on_click_closure(method_name));\n",
       "        button.addEventListener('mouseover', on_mouseover_closure(tooltip));\n",
       "\n",
       "        var icon_img = document.createElement('img');\n",
       "        icon_img.src = '_images/' + image + '.png';\n",
       "        icon_img.srcset = '_images/' + image + '_large.png 2x';\n",
       "        icon_img.alt = tooltip;\n",
       "        button.appendChild(icon_img);\n",
       "\n",
       "        buttonGroup.appendChild(button);\n",
       "    }\n",
       "\n",
       "    if (buttonGroup.hasChildNodes()) {\n",
       "        toolbar.appendChild(buttonGroup);\n",
       "    }\n",
       "\n",
       "    var fmt_picker = document.createElement('select');\n",
       "    fmt_picker.classList = 'mpl-widget';\n",
       "    toolbar.appendChild(fmt_picker);\n",
       "    this.format_dropdown = fmt_picker;\n",
       "\n",
       "    for (var ind in mpl.extensions) {\n",
       "        var fmt = mpl.extensions[ind];\n",
       "        var option = document.createElement('option');\n",
       "        option.selected = fmt === mpl.default_extension;\n",
       "        option.innerHTML = fmt;\n",
       "        fmt_picker.appendChild(option);\n",
       "    }\n",
       "\n",
       "    var status_bar = document.createElement('span');\n",
       "    status_bar.classList = 'mpl-message';\n",
       "    toolbar.appendChild(status_bar);\n",
       "    this.message = status_bar;\n",
       "};\n",
       "\n",
       "mpl.figure.prototype.request_resize = function (x_pixels, y_pixels) {\n",
       "    // Request matplotlib to resize the figure. Matplotlib will then trigger a resize in the client,\n",
       "    // which will in turn request a refresh of the image.\n",
       "    this.send_message('resize', { width: x_pixels, height: y_pixels });\n",
       "};\n",
       "\n",
       "mpl.figure.prototype.send_message = function (type, properties) {\n",
       "    properties['type'] = type;\n",
       "    properties['figure_id'] = this.id;\n",
       "    this.ws.send(JSON.stringify(properties));\n",
       "};\n",
       "\n",
       "mpl.figure.prototype.send_draw_message = function () {\n",
       "    if (!this.waiting) {\n",
       "        this.waiting = true;\n",
       "        this.ws.send(JSON.stringify({ type: 'draw', figure_id: this.id }));\n",
       "    }\n",
       "};\n",
       "\n",
       "mpl.figure.prototype.handle_save = function (fig, _msg) {\n",
       "    var format_dropdown = fig.format_dropdown;\n",
       "    var format = format_dropdown.options[format_dropdown.selectedIndex].value;\n",
       "    fig.ondownload(fig, format);\n",
       "};\n",
       "\n",
       "mpl.figure.prototype.handle_resize = function (fig, msg) {\n",
       "    var size = msg['size'];\n",
       "    if (size[0] !== fig.canvas.width || size[1] !== fig.canvas.height) {\n",
       "        fig._resize_canvas(size[0], size[1], msg['forward']);\n",
       "        fig.send_message('refresh', {});\n",
       "    }\n",
       "};\n",
       "\n",
       "mpl.figure.prototype.handle_rubberband = function (fig, msg) {\n",
       "    var x0 = msg['x0'] / fig.ratio;\n",
       "    var y0 = (fig.canvas.height - msg['y0']) / fig.ratio;\n",
       "    var x1 = msg['x1'] / fig.ratio;\n",
       "    var y1 = (fig.canvas.height - msg['y1']) / fig.ratio;\n",
       "    x0 = Math.floor(x0) + 0.5;\n",
       "    y0 = Math.floor(y0) + 0.5;\n",
       "    x1 = Math.floor(x1) + 0.5;\n",
       "    y1 = Math.floor(y1) + 0.5;\n",
       "    var min_x = Math.min(x0, x1);\n",
       "    var min_y = Math.min(y0, y1);\n",
       "    var width = Math.abs(x1 - x0);\n",
       "    var height = Math.abs(y1 - y0);\n",
       "\n",
       "    fig.rubberband_context.clearRect(\n",
       "        0,\n",
       "        0,\n",
       "        fig.canvas.width / fig.ratio,\n",
       "        fig.canvas.height / fig.ratio\n",
       "    );\n",
       "\n",
       "    fig.rubberband_context.strokeRect(min_x, min_y, width, height);\n",
       "};\n",
       "\n",
       "mpl.figure.prototype.handle_figure_label = function (fig, msg) {\n",
       "    // Updates the figure title.\n",
       "    fig.header.textContent = msg['label'];\n",
       "};\n",
       "\n",
       "mpl.figure.prototype.handle_cursor = function (fig, msg) {\n",
       "    var cursor = msg['cursor'];\n",
       "    switch (cursor) {\n",
       "        case 0:\n",
       "            cursor = 'pointer';\n",
       "            break;\n",
       "        case 1:\n",
       "            cursor = 'default';\n",
       "            break;\n",
       "        case 2:\n",
       "            cursor = 'crosshair';\n",
       "            break;\n",
       "        case 3:\n",
       "            cursor = 'move';\n",
       "            break;\n",
       "    }\n",
       "    fig.rubberband_canvas.style.cursor = cursor;\n",
       "};\n",
       "\n",
       "mpl.figure.prototype.handle_message = function (fig, msg) {\n",
       "    fig.message.textContent = msg['message'];\n",
       "};\n",
       "\n",
       "mpl.figure.prototype.handle_draw = function (fig, _msg) {\n",
       "    // Request the server to send over a new figure.\n",
       "    fig.send_draw_message();\n",
       "};\n",
       "\n",
       "mpl.figure.prototype.handle_image_mode = function (fig, msg) {\n",
       "    fig.image_mode = msg['mode'];\n",
       "};\n",
       "\n",
       "mpl.figure.prototype.handle_history_buttons = function (fig, msg) {\n",
       "    for (var key in msg) {\n",
       "        if (!(key in fig.buttons)) {\n",
       "            continue;\n",
       "        }\n",
       "        fig.buttons[key].disabled = !msg[key];\n",
       "        fig.buttons[key].setAttribute('aria-disabled', !msg[key]);\n",
       "    }\n",
       "};\n",
       "\n",
       "mpl.figure.prototype.handle_navigate_mode = function (fig, msg) {\n",
       "    if (msg['mode'] === 'PAN') {\n",
       "        fig.buttons['Pan'].classList.add('active');\n",
       "        fig.buttons['Zoom'].classList.remove('active');\n",
       "    } else if (msg['mode'] === 'ZOOM') {\n",
       "        fig.buttons['Pan'].classList.remove('active');\n",
       "        fig.buttons['Zoom'].classList.add('active');\n",
       "    } else {\n",
       "        fig.buttons['Pan'].classList.remove('active');\n",
       "        fig.buttons['Zoom'].classList.remove('active');\n",
       "    }\n",
       "};\n",
       "\n",
       "mpl.figure.prototype.updated_canvas_event = function () {\n",
       "    // Called whenever the canvas gets updated.\n",
       "    this.send_message('ack', {});\n",
       "};\n",
       "\n",
       "// A function to construct a web socket function for onmessage handling.\n",
       "// Called in the figure constructor.\n",
       "mpl.figure.prototype._make_on_message_function = function (fig) {\n",
       "    return function socket_on_message(evt) {\n",
       "        if (evt.data instanceof Blob) {\n",
       "            var img = evt.data;\n",
       "            if (img.type !== 'image/png') {\n",
       "                /* FIXME: We get \"Resource interpreted as Image but\n",
       "                 * transferred with MIME type text/plain:\" errors on\n",
       "                 * Chrome.  But how to set the MIME type?  It doesn't seem\n",
       "                 * to be part of the websocket stream */\n",
       "                img.type = 'image/png';\n",
       "            }\n",
       "\n",
       "            /* Free the memory for the previous frames */\n",
       "            if (fig.imageObj.src) {\n",
       "                (window.URL || window.webkitURL).revokeObjectURL(\n",
       "                    fig.imageObj.src\n",
       "                );\n",
       "            }\n",
       "\n",
       "            fig.imageObj.src = (window.URL || window.webkitURL).createObjectURL(\n",
       "                img\n",
       "            );\n",
       "            fig.updated_canvas_event();\n",
       "            fig.waiting = false;\n",
       "            return;\n",
       "        } else if (\n",
       "            typeof evt.data === 'string' &&\n",
       "            evt.data.slice(0, 21) === 'data:image/png;base64'\n",
       "        ) {\n",
       "            fig.imageObj.src = evt.data;\n",
       "            fig.updated_canvas_event();\n",
       "            fig.waiting = false;\n",
       "            return;\n",
       "        }\n",
       "\n",
       "        var msg = JSON.parse(evt.data);\n",
       "        var msg_type = msg['type'];\n",
       "\n",
       "        // Call the  \"handle_{type}\" callback, which takes\n",
       "        // the figure and JSON message as its only arguments.\n",
       "        try {\n",
       "            var callback = fig['handle_' + msg_type];\n",
       "        } catch (e) {\n",
       "            console.log(\n",
       "                \"No handler for the '\" + msg_type + \"' message type: \",\n",
       "                msg\n",
       "            );\n",
       "            return;\n",
       "        }\n",
       "\n",
       "        if (callback) {\n",
       "            try {\n",
       "                // console.log(\"Handling '\" + msg_type + \"' message: \", msg);\n",
       "                callback(fig, msg);\n",
       "            } catch (e) {\n",
       "                console.log(\n",
       "                    \"Exception inside the 'handler_\" + msg_type + \"' callback:\",\n",
       "                    e,\n",
       "                    e.stack,\n",
       "                    msg\n",
       "                );\n",
       "            }\n",
       "        }\n",
       "    };\n",
       "};\n",
       "\n",
       "// from http://stackoverflow.com/questions/1114465/getting-mouse-location-in-canvas\n",
       "mpl.findpos = function (e) {\n",
       "    //this section is from http://www.quirksmode.org/js/events_properties.html\n",
       "    var targ;\n",
       "    if (!e) {\n",
       "        e = window.event;\n",
       "    }\n",
       "    if (e.target) {\n",
       "        targ = e.target;\n",
       "    } else if (e.srcElement) {\n",
       "        targ = e.srcElement;\n",
       "    }\n",
       "    if (targ.nodeType === 3) {\n",
       "        // defeat Safari bug\n",
       "        targ = targ.parentNode;\n",
       "    }\n",
       "\n",
       "    // pageX,Y are the mouse positions relative to the document\n",
       "    var boundingRect = targ.getBoundingClientRect();\n",
       "    var x = e.pageX - (boundingRect.left + document.body.scrollLeft);\n",
       "    var y = e.pageY - (boundingRect.top + document.body.scrollTop);\n",
       "\n",
       "    return { x: x, y: y };\n",
       "};\n",
       "\n",
       "/*\n",
       " * return a copy of an object with only non-object keys\n",
       " * we need this to avoid circular references\n",
       " * http://stackoverflow.com/a/24161582/3208463\n",
       " */\n",
       "function simpleKeys(original) {\n",
       "    return Object.keys(original).reduce(function (obj, key) {\n",
       "        if (typeof original[key] !== 'object') {\n",
       "            obj[key] = original[key];\n",
       "        }\n",
       "        return obj;\n",
       "    }, {});\n",
       "}\n",
       "\n",
       "mpl.figure.prototype.mouse_event = function (event, name) {\n",
       "    var canvas_pos = mpl.findpos(event);\n",
       "\n",
       "    if (name === 'button_press') {\n",
       "        this.canvas.focus();\n",
       "        this.canvas_div.focus();\n",
       "    }\n",
       "\n",
       "    var x = canvas_pos.x * this.ratio;\n",
       "    var y = canvas_pos.y * this.ratio;\n",
       "\n",
       "    this.send_message(name, {\n",
       "        x: x,\n",
       "        y: y,\n",
       "        button: event.button,\n",
       "        step: event.step,\n",
       "        guiEvent: simpleKeys(event),\n",
       "    });\n",
       "\n",
       "    /* This prevents the web browser from automatically changing to\n",
       "     * the text insertion cursor when the button is pressed.  We want\n",
       "     * to control all of the cursor setting manually through the\n",
       "     * 'cursor' event from matplotlib */\n",
       "    event.preventDefault();\n",
       "    return false;\n",
       "};\n",
       "\n",
       "mpl.figure.prototype._key_event_extra = function (_event, _name) {\n",
       "    // Handle any extra behaviour associated with a key event\n",
       "};\n",
       "\n",
       "mpl.figure.prototype.key_event = function (event, name) {\n",
       "    // Prevent repeat events\n",
       "    if (name === 'key_press') {\n",
       "        if (event.key === this._key) {\n",
       "            return;\n",
       "        } else {\n",
       "            this._key = event.key;\n",
       "        }\n",
       "    }\n",
       "    if (name === 'key_release') {\n",
       "        this._key = null;\n",
       "    }\n",
       "\n",
       "    var value = '';\n",
       "    if (event.ctrlKey && event.key !== 'Control') {\n",
       "        value += 'ctrl+';\n",
       "    }\n",
       "    else if (event.altKey && event.key !== 'Alt') {\n",
       "        value += 'alt+';\n",
       "    }\n",
       "    else if (event.shiftKey && event.key !== 'Shift') {\n",
       "        value += 'shift+';\n",
       "    }\n",
       "\n",
       "    value += 'k' + event.key;\n",
       "\n",
       "    this._key_event_extra(event, name);\n",
       "\n",
       "    this.send_message(name, { key: value, guiEvent: simpleKeys(event) });\n",
       "    return false;\n",
       "};\n",
       "\n",
       "mpl.figure.prototype.toolbar_button_onclick = function (name) {\n",
       "    if (name === 'download') {\n",
       "        this.handle_save(this, null);\n",
       "    } else {\n",
       "        this.send_message('toolbar_button', { name: name });\n",
       "    }\n",
       "};\n",
       "\n",
       "mpl.figure.prototype.toolbar_button_onmouseover = function (tooltip) {\n",
       "    this.message.textContent = tooltip;\n",
       "};\n",
       "\n",
       "///////////////// REMAINING CONTENT GENERATED BY embed_js.py /////////////////\n",
       "// prettier-ignore\n",
       "var _JSXTOOLS_RESIZE_OBSERVER=function(A){var t,i=new WeakMap,n=new WeakMap,a=new WeakMap,r=new WeakMap,o=new Set;function s(e){if(!(this instanceof s))throw new TypeError(\"Constructor requires 'new' operator\");i.set(this,e)}function h(){throw new TypeError(\"Function is not a constructor\")}function c(e,t,i,n){e=0 in arguments?Number(arguments[0]):0,t=1 in arguments?Number(arguments[1]):0,i=2 in arguments?Number(arguments[2]):0,n=3 in arguments?Number(arguments[3]):0,this.right=(this.x=this.left=e)+(this.width=i),this.bottom=(this.y=this.top=t)+(this.height=n),Object.freeze(this)}function d(){t=requestAnimationFrame(d);var s=new WeakMap,p=new Set;o.forEach((function(t){r.get(t).forEach((function(i){var r=t instanceof window.SVGElement,o=a.get(t),d=r?0:parseFloat(o.paddingTop),f=r?0:parseFloat(o.paddingRight),l=r?0:parseFloat(o.paddingBottom),u=r?0:parseFloat(o.paddingLeft),g=r?0:parseFloat(o.borderTopWidth),m=r?0:parseFloat(o.borderRightWidth),w=r?0:parseFloat(o.borderBottomWidth),b=u+f,F=d+l,v=(r?0:parseFloat(o.borderLeftWidth))+m,W=g+w,y=r?0:t.offsetHeight-W-t.clientHeight,E=r?0:t.offsetWidth-v-t.clientWidth,R=b+v,z=F+W,M=r?t.width:parseFloat(o.width)-R-E,O=r?t.height:parseFloat(o.height)-z-y;if(n.has(t)){var k=n.get(t);if(k[0]===M&&k[1]===O)return}n.set(t,[M,O]);var S=Object.create(h.prototype);S.target=t,S.contentRect=new c(u,d,M,O),s.has(i)||(s.set(i,[]),p.add(i)),s.get(i).push(S)}))})),p.forEach((function(e){i.get(e).call(e,s.get(e),e)}))}return s.prototype.observe=function(i){if(i instanceof window.Element){r.has(i)||(r.set(i,new Set),o.add(i),a.set(i,window.getComputedStyle(i)));var n=r.get(i);n.has(this)||n.add(this),cancelAnimationFrame(t),t=requestAnimationFrame(d)}},s.prototype.unobserve=function(i){if(i instanceof window.Element&&r.has(i)){var n=r.get(i);n.has(this)&&(n.delete(this),n.size||(r.delete(i),o.delete(i))),n.size||r.delete(i),o.size||cancelAnimationFrame(t)}},A.DOMRectReadOnly=c,A.ResizeObserver=s,A.ResizeObserverEntry=h,A}; // eslint-disable-line\n",
       "mpl.toolbar_items = [[\"Home\", \"Reset original view\", \"fa fa-home icon-home\", \"home\"], [\"Back\", \"Back to previous view\", \"fa fa-arrow-left icon-arrow-left\", \"back\"], [\"Forward\", \"Forward to next view\", \"fa fa-arrow-right icon-arrow-right\", \"forward\"], [\"\", \"\", \"\", \"\"], [\"Pan\", \"Left button pans, Right button zooms\\nx/y fixes axis, CTRL fixes aspect\", \"fa fa-arrows icon-move\", \"pan\"], [\"Zoom\", \"Zoom to rectangle\\nx/y fixes axis, CTRL fixes aspect\", \"fa fa-square-o icon-check-empty\", \"zoom\"], [\"\", \"\", \"\", \"\"], [\"Download\", \"Download plot\", \"fa fa-floppy-o icon-save\", \"download\"]];\n",
       "\n",
       "mpl.extensions = [\"eps\", \"jpeg\", \"pgf\", \"pdf\", \"png\", \"ps\", \"raw\", \"svg\", \"tif\"];\n",
       "\n",
       "mpl.default_extension = \"png\";/* global mpl */\n",
       "\n",
       "var comm_websocket_adapter = function (comm) {\n",
       "    // Create a \"websocket\"-like object which calls the given IPython comm\n",
       "    // object with the appropriate methods. Currently this is a non binary\n",
       "    // socket, so there is still some room for performance tuning.\n",
       "    var ws = {};\n",
       "\n",
       "    ws.binaryType = comm.kernel.ws.binaryType;\n",
       "    ws.readyState = comm.kernel.ws.readyState;\n",
       "    function updateReadyState(_event) {\n",
       "        if (comm.kernel.ws) {\n",
       "            ws.readyState = comm.kernel.ws.readyState;\n",
       "        } else {\n",
       "            ws.readyState = 3; // Closed state.\n",
       "        }\n",
       "    }\n",
       "    comm.kernel.ws.addEventListener('open', updateReadyState);\n",
       "    comm.kernel.ws.addEventListener('close', updateReadyState);\n",
       "    comm.kernel.ws.addEventListener('error', updateReadyState);\n",
       "\n",
       "    ws.close = function () {\n",
       "        comm.close();\n",
       "    };\n",
       "    ws.send = function (m) {\n",
       "        //console.log('sending', m);\n",
       "        comm.send(m);\n",
       "    };\n",
       "    // Register the callback with on_msg.\n",
       "    comm.on_msg(function (msg) {\n",
       "        //console.log('receiving', msg['content']['data'], msg);\n",
       "        var data = msg['content']['data'];\n",
       "        if (data['blob'] !== undefined) {\n",
       "            data = {\n",
       "                data: new Blob(msg['buffers'], { type: data['blob'] }),\n",
       "            };\n",
       "        }\n",
       "        // Pass the mpl event to the overridden (by mpl) onmessage function.\n",
       "        ws.onmessage(data);\n",
       "    });\n",
       "    return ws;\n",
       "};\n",
       "\n",
       "mpl.mpl_figure_comm = function (comm, msg) {\n",
       "    // This is the function which gets called when the mpl process\n",
       "    // starts-up an IPython Comm through the \"matplotlib\" channel.\n",
       "\n",
       "    var id = msg.content.data.id;\n",
       "    // Get hold of the div created by the display call when the Comm\n",
       "    // socket was opened in Python.\n",
       "    var element = document.getElementById(id);\n",
       "    var ws_proxy = comm_websocket_adapter(comm);\n",
       "\n",
       "    function ondownload(figure, _format) {\n",
       "        window.open(figure.canvas.toDataURL());\n",
       "    }\n",
       "\n",
       "    var fig = new mpl.figure(id, ws_proxy, ondownload, element);\n",
       "\n",
       "    // Call onopen now - mpl needs it, as it is assuming we've passed it a real\n",
       "    // web socket which is closed, not our websocket->open comm proxy.\n",
       "    ws_proxy.onopen();\n",
       "\n",
       "    fig.parent_element = element;\n",
       "    fig.cell_info = mpl.find_output_cell(\"<div id='\" + id + \"'></div>\");\n",
       "    if (!fig.cell_info) {\n",
       "        console.error('Failed to find cell for figure', id, fig);\n",
       "        return;\n",
       "    }\n",
       "    fig.cell_info[0].output_area.element.on(\n",
       "        'cleared',\n",
       "        { fig: fig },\n",
       "        fig._remove_fig_handler\n",
       "    );\n",
       "};\n",
       "\n",
       "mpl.figure.prototype.handle_close = function (fig, msg) {\n",
       "    var width = fig.canvas.width / fig.ratio;\n",
       "    fig.cell_info[0].output_area.element.off(\n",
       "        'cleared',\n",
       "        fig._remove_fig_handler\n",
       "    );\n",
       "    fig.resizeObserverInstance.unobserve(fig.canvas_div);\n",
       "\n",
       "    // Update the output cell to use the data from the current canvas.\n",
       "    fig.push_to_output();\n",
       "    var dataURL = fig.canvas.toDataURL();\n",
       "    // Re-enable the keyboard manager in IPython - without this line, in FF,\n",
       "    // the notebook keyboard shortcuts fail.\n",
       "    IPython.keyboard_manager.enable();\n",
       "    fig.parent_element.innerHTML =\n",
       "        '<img src=\"' + dataURL + '\" width=\"' + width + '\">';\n",
       "    fig.close_ws(fig, msg);\n",
       "};\n",
       "\n",
       "mpl.figure.prototype.close_ws = function (fig, msg) {\n",
       "    fig.send_message('closing', msg);\n",
       "    // fig.ws.close()\n",
       "};\n",
       "\n",
       "mpl.figure.prototype.push_to_output = function (_remove_interactive) {\n",
       "    // Turn the data on the canvas into data in the output cell.\n",
       "    var width = this.canvas.width / this.ratio;\n",
       "    var dataURL = this.canvas.toDataURL();\n",
       "    this.cell_info[1]['text/html'] =\n",
       "        '<img src=\"' + dataURL + '\" width=\"' + width + '\">';\n",
       "};\n",
       "\n",
       "mpl.figure.prototype.updated_canvas_event = function () {\n",
       "    // Tell IPython that the notebook contents must change.\n",
       "    IPython.notebook.set_dirty(true);\n",
       "    this.send_message('ack', {});\n",
       "    var fig = this;\n",
       "    // Wait a second, then push the new image to the DOM so\n",
       "    // that it is saved nicely (might be nice to debounce this).\n",
       "    setTimeout(function () {\n",
       "        fig.push_to_output();\n",
       "    }, 1000);\n",
       "};\n",
       "\n",
       "mpl.figure.prototype._init_toolbar = function () {\n",
       "    var fig = this;\n",
       "\n",
       "    var toolbar = document.createElement('div');\n",
       "    toolbar.classList = 'btn-toolbar';\n",
       "    this.root.appendChild(toolbar);\n",
       "\n",
       "    function on_click_closure(name) {\n",
       "        return function (_event) {\n",
       "            return fig.toolbar_button_onclick(name);\n",
       "        };\n",
       "    }\n",
       "\n",
       "    function on_mouseover_closure(tooltip) {\n",
       "        return function (event) {\n",
       "            if (!event.currentTarget.disabled) {\n",
       "                return fig.toolbar_button_onmouseover(tooltip);\n",
       "            }\n",
       "        };\n",
       "    }\n",
       "\n",
       "    fig.buttons = {};\n",
       "    var buttonGroup = document.createElement('div');\n",
       "    buttonGroup.classList = 'btn-group';\n",
       "    var button;\n",
       "    for (var toolbar_ind in mpl.toolbar_items) {\n",
       "        var name = mpl.toolbar_items[toolbar_ind][0];\n",
       "        var tooltip = mpl.toolbar_items[toolbar_ind][1];\n",
       "        var image = mpl.toolbar_items[toolbar_ind][2];\n",
       "        var method_name = mpl.toolbar_items[toolbar_ind][3];\n",
       "\n",
       "        if (!name) {\n",
       "            /* Instead of a spacer, we start a new button group. */\n",
       "            if (buttonGroup.hasChildNodes()) {\n",
       "                toolbar.appendChild(buttonGroup);\n",
       "            }\n",
       "            buttonGroup = document.createElement('div');\n",
       "            buttonGroup.classList = 'btn-group';\n",
       "            continue;\n",
       "        }\n",
       "\n",
       "        button = fig.buttons[name] = document.createElement('button');\n",
       "        button.classList = 'btn btn-default';\n",
       "        button.href = '#';\n",
       "        button.title = name;\n",
       "        button.innerHTML = '<i class=\"fa ' + image + ' fa-lg\"></i>';\n",
       "        button.addEventListener('click', on_click_closure(method_name));\n",
       "        button.addEventListener('mouseover', on_mouseover_closure(tooltip));\n",
       "        buttonGroup.appendChild(button);\n",
       "    }\n",
       "\n",
       "    if (buttonGroup.hasChildNodes()) {\n",
       "        toolbar.appendChild(buttonGroup);\n",
       "    }\n",
       "\n",
       "    // Add the status bar.\n",
       "    var status_bar = document.createElement('span');\n",
       "    status_bar.classList = 'mpl-message pull-right';\n",
       "    toolbar.appendChild(status_bar);\n",
       "    this.message = status_bar;\n",
       "\n",
       "    // Add the close button to the window.\n",
       "    var buttongrp = document.createElement('div');\n",
       "    buttongrp.classList = 'btn-group inline pull-right';\n",
       "    button = document.createElement('button');\n",
       "    button.classList = 'btn btn-mini btn-primary';\n",
       "    button.href = '#';\n",
       "    button.title = 'Stop Interaction';\n",
       "    button.innerHTML = '<i class=\"fa fa-power-off icon-remove icon-large\"></i>';\n",
       "    button.addEventListener('click', function (_evt) {\n",
       "        fig.handle_close(fig, {});\n",
       "    });\n",
       "    button.addEventListener(\n",
       "        'mouseover',\n",
       "        on_mouseover_closure('Stop Interaction')\n",
       "    );\n",
       "    buttongrp.appendChild(button);\n",
       "    var titlebar = this.root.querySelector('.ui-dialog-titlebar');\n",
       "    titlebar.insertBefore(buttongrp, titlebar.firstChild);\n",
       "};\n",
       "\n",
       "mpl.figure.prototype._remove_fig_handler = function (event) {\n",
       "    var fig = event.data.fig;\n",
       "    if (event.target !== this) {\n",
       "        // Ignore bubbled events from children.\n",
       "        return;\n",
       "    }\n",
       "    fig.close_ws(fig, {});\n",
       "};\n",
       "\n",
       "mpl.figure.prototype._root_extra_style = function (el) {\n",
       "    el.style.boxSizing = 'content-box'; // override notebook setting of border-box.\n",
       "};\n",
       "\n",
       "mpl.figure.prototype._canvas_extra_style = function (el) {\n",
       "    // this is important to make the div 'focusable\n",
       "    el.setAttribute('tabindex', 0);\n",
       "    // reach out to IPython and tell the keyboard manager to turn it's self\n",
       "    // off when our div gets focus\n",
       "\n",
       "    // location in version 3\n",
       "    if (IPython.notebook.keyboard_manager) {\n",
       "        IPython.notebook.keyboard_manager.register_events(el);\n",
       "    } else {\n",
       "        // location in version 2\n",
       "        IPython.keyboard_manager.register_events(el);\n",
       "    }\n",
       "};\n",
       "\n",
       "mpl.figure.prototype._key_event_extra = function (event, _name) {\n",
       "    var manager = IPython.notebook.keyboard_manager;\n",
       "    if (!manager) {\n",
       "        manager = IPython.keyboard_manager;\n",
       "    }\n",
       "\n",
       "    // Check for shift+enter\n",
       "    if (event.shiftKey && event.which === 13) {\n",
       "        this.canvas_div.blur();\n",
       "        // select the cell after this one\n",
       "        var index = IPython.notebook.find_cell_index(this.cell_info[0]);\n",
       "        IPython.notebook.select(index + 1);\n",
       "    }\n",
       "};\n",
       "\n",
       "mpl.figure.prototype.handle_save = function (fig, _msg) {\n",
       "    fig.ondownload(fig, null);\n",
       "};\n",
       "\n",
       "mpl.find_output_cell = function (html_output) {\n",
       "    // Return the cell and output element which can be found *uniquely* in the notebook.\n",
       "    // Note - this is a bit hacky, but it is done because the \"notebook_saving.Notebook\"\n",
       "    // IPython event is triggered only after the cells have been serialised, which for\n",
       "    // our purposes (turning an active figure into a static one), is too late.\n",
       "    var cells = IPython.notebook.get_cells();\n",
       "    var ncells = cells.length;\n",
       "    for (var i = 0; i < ncells; i++) {\n",
       "        var cell = cells[i];\n",
       "        if (cell.cell_type === 'code') {\n",
       "            for (var j = 0; j < cell.output_area.outputs.length; j++) {\n",
       "                var data = cell.output_area.outputs[j];\n",
       "                if (data.data) {\n",
       "                    // IPython >= 3 moved mimebundle to data attribute of output\n",
       "                    data = data.data;\n",
       "                }\n",
       "                if (data['text/html'] === html_output) {\n",
       "                    return [cell, data, j];\n",
       "                }\n",
       "            }\n",
       "        }\n",
       "    }\n",
       "};\n",
       "\n",
       "// Register the function which deals with the matplotlib target/channel.\n",
       "// The kernel may be null if the page has been refreshed.\n",
       "if (IPython.notebook.kernel !== null) {\n",
       "    IPython.notebook.kernel.comm_manager.register_target(\n",
       "        'matplotlib',\n",
       "        mpl.mpl_figure_comm\n",
       "    );\n",
       "}\n"
      ],
      "text/plain": [
       "<IPython.core.display.Javascript object>"
      ]
     },
     "metadata": {},
     "output_type": "display_data"
    },
    {
     "data": {
      "text/html": [
       "<img src=\"data:image/png;base64,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\" width=\"399.9999913302337\">"
      ],
      "text/plain": [
       "<IPython.core.display.HTML object>"
      ]
     },
     "metadata": {},
     "output_type": "display_data"
    }
   ],
   "source": [
    "%matplotlib notebook\n",
    "plt.style.use('dark_background')\n",
    "_vis = ia.visual_tools.imshow_mark_3d_v2([_dna_dapi, _rna_dapi, _rot_dna_dapi], \n",
    "                                         #min_max_default=[10000,50000], \n",
    "                                         image_names=['DNA DAPI', 'RNA DAPI', 'Rotated DNA DAPI'])\n",
    "#_vis.f.savefig(os.path.join(segmentation_folder, 'test_dna_dapi.png'), transparent=True)"
   ]
  },
  {
   "cell_type": "markdown",
   "id": "b784a1c6",
   "metadata": {},
   "source": [
    "## 1.5 batch run translation"
   ]
  },
  {
   "cell_type": "code",
   "execution_count": 22,
   "id": "c61a28c9",
   "metadata": {},
   "outputs": [
    {
     "name": "stdout",
     "output_type": "stream",
     "text": [
      "- Start multiprocessing segmentation alignment finish in 2477.306s. \n",
      "Wall time: 41min 17s\n"
     ]
    }
   ],
   "source": [
    "%%time\n",
    "from ImageAnalysis3.segmentation_tools.cell import _batch_align_segmentation\n",
    "# Multiprocessing\n",
    "print(f\"- Start multiprocessing segmentation alignment\", end=' ')\n",
    "_start_time = time.time()\n",
    "with mp.Pool(12) as _seg_pool: # 6 cores recommended because of RAM comsumption\n",
    "    # start multiprocessing\n",
    "    _seg_pool.starmap(_batch_align_segmentation, _seg_align_args, chunksize=1)\n",
    "    # close multiprocessing\n",
    "    _seg_pool.close()\n",
    "    _seg_pool.join()\n",
    "    _seg_pool.terminate()\n",
    "print(f\"finish in {time.time()-_start_time:.3f}s. \")"
   ]
  },
  {
   "cell_type": "markdown",
   "id": "14b41b6b",
   "metadata": {},
   "source": [
    "### 1.5.2 non-parallel version"
   ]
  },
  {
   "cell_type": "code",
   "execution_count": 73,
   "id": "19fae294",
   "metadata": {},
   "outputs": [
    {
     "data": {
      "text/plain": [
       "<module 'ImageAnalysis3.segmentation_tools.cell' from 'E:\\\\Users\\\\puzheng\\\\Documents\\\\ImageAnalysis3\\\\segmentation_tools\\\\cell.py'>"
      ]
     },
     "execution_count": 73,
     "metadata": {},
     "output_type": "execute_result"
    }
   ],
   "source": [
    "reload(ia.segmentation_tools.cell)"
   ]
  },
  {
   "cell_type": "code",
   "execution_count": null,
   "id": "cafc27b8",
   "metadata": {},
   "outputs": [],
   "source": [
    "%matplotlib inline\n",
    "reload(ia.segmentation_tools.cell)\n",
    "reload(correction_tools.alignment)\n",
    "from ImageAnalysis3.segmentation_tools.cell import _batch_align_segmentation\n",
    "for _args in _seg_align_args:\n",
    "    _outputs = _batch_align_segmentation(*_args)"
   ]
  },
  {
   "cell_type": "code",
   "execution_count": null,
   "id": "f99da0a0",
   "metadata": {},
   "outputs": [],
   "source": []
  }
 ],
 "metadata": {
  "kernelspec": {
   "display_name": "ia3_postanalysis",
   "language": "python",
   "name": "ia3_postanalysis"
  },
  "language_info": {
   "codemirror_mode": {
    "name": "ipython",
    "version": 3
   },
   "file_extension": ".py",
   "mimetype": "text/x-python",
   "name": "python",
   "nbconvert_exporter": "python",
   "pygments_lexer": "ipython3",
   "version": "3.9.7"
  }
 },
 "nbformat": 4,
 "nbformat_minor": 5
}
