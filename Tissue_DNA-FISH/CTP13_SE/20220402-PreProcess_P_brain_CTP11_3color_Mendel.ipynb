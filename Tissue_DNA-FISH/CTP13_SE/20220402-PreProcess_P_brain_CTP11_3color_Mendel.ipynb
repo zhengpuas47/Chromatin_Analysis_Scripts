{
 "cells": [
  {
   "cell_type": "markdown",
   "metadata": {},
   "source": [
    "# Analysis of DNA-MERFISH for CTP11\n",
    "\n",
    "by Pu Zheng\n",
    "\n",
    "2022.03.16\n",
    "\n",
    "analysis for dataset:\n",
    "\n",
    "\\\\10.245.74.158\\Chromatin_NAS_4\\20220316-P_brain_CTP11-12-13_from_0304\n",
    "\n",
    "This data is DNA of uncleared MERFISH RNA:\n",
    "    \\\\10.245.74.158\\Chromatin_NAS_0\\20220303-P_brain_M1_nonclear_adaptor\n"
   ]
  },
  {
   "cell_type": "code",
   "execution_count": 1,
   "metadata": {},
   "outputs": [
    {
     "name": "stdout",
     "output_type": "stream",
     "text": [
      "56380\n"
     ]
    }
   ],
   "source": [
    "%run \"..\\..\\Startup_py3.py\"\n",
    "sys.path.append(r\"..\\..\\..\\..\\Documents\")\n",
    "\n",
    "import ImageAnalysis3 as ia\n",
    "%matplotlib notebook\n",
    "\n",
    "from ImageAnalysis3 import *\n",
    "print(os.getpid())\n",
    "\n",
    "import h5py\n",
    "from ImageAnalysis3.classes import _allowed_kwds\n",
    "import ast"
   ]
  },
  {
   "cell_type": "markdown",
   "metadata": {},
   "source": [
    "# 0. fov parameters"
   ]
  },
  {
   "cell_type": "code",
   "execution_count": 5,
   "metadata": {},
   "outputs": [
    {
     "data": {
      "text/plain": [
       "<module 'ImageAnalysis3.spot_tools.fitting' from 'E:\\\\Users\\\\puzheng\\\\Documents\\\\ImageAnalysis3\\\\spot_tools\\\\fitting.py'>"
      ]
     },
     "execution_count": 5,
     "metadata": {},
     "output_type": "execute_result"
    }
   ],
   "source": [
    "reload(ia)\n",
    "reload(classes)\n",
    "reload(classes.batch_functions)\n",
    "reload(classes.field_of_view)\n",
    "reload(io_tools.load)\n",
    "reload(get_img_info)\n",
    "reload(visual_tools)\n",
    "reload(ia.correction_tools)\n",
    "reload(ia.correction_tools.alignment)\n",
    "reload(ia.spot_tools.matching)\n",
    "reload(ia.segmentation_tools.chromosome)\n",
    "reload(ia.spot_tools.fitting)"
   ]
  },
  {
   "cell_type": "code",
   "execution_count": 6,
   "metadata": {},
   "outputs": [],
   "source": [
    "fov_param = {'data_folder':r'\\\\10.245.74.158\\Chromatin_NAS_4\\20220402-P_brain_CTP11-13_from_0329',\n",
    "             'save_folder':r'F:\\Pu_Temp\\20220402-P_brain_CTP11-13_from_0329_warp',\n",
    "             'experiment_type': 'DNA',\n",
    "             'num_threads': 44,\n",
    "             'correction_folder':r'\\\\10.245.74.158\\Chromatin_NAS_0\\Corrections\\20210621-Corrections_lumencor_from_60_to_50',\n",
    "             'shared_parameters':{\n",
    "                     'single_im_size':[50,2048,2048],\n",
    "                     'distance_zxy': [250, 108, 108],\n",
    "                     'corr_channels':['750','647','561'],\n",
    "                     'num_empty_frames': 0, \n",
    "                     'num_buffer_frames':0,\n",
    "                     'corr_hot_pixel':True,\n",
    "                     'corr_Z_shift':False,\n",
    "                     'corr_bleed':True,\n",
    "                     'min_num_seeds':5,\n",
    "                     'max_num_seeds': 20000,\n",
    "                     'spot_seeding_th': 800,\n",
    "                     'normalize_intensity_local':False,\n",
    "                     'normalize_intensity_background':False,\n",
    "                     'corr_gaussian_highpass':False,\n",
    "                 }, \n",
    "             }"
   ]
  },
  {
   "cell_type": "markdown",
   "metadata": {},
   "source": [
    "# 1. Process Fov"
   ]
  },
  {
   "cell_type": "code",
   "execution_count": null,
   "metadata": {
    "scrolled": true
   },
   "outputs": [],
   "source": [
    "_overwrite = False\n",
    "\n",
    "_save_images = False\n",
    "\n",
    "_fit_spots = True\n",
    "\n",
    "#sel_fov_ids = np.arange(0,80)\n",
    "sel_fov_ids = np.arange(80,160) # batch1+2 in mendel\n",
    "# fov80 has permission error\n",
    "\n",
    "\n",
    "for _fov_id in sel_fov_ids:\n",
    "    if 'bad_fovs_ids' in locals() and  _fov_id in bad_fovs_ids:\n",
    "        continue\n",
    "    \n",
    "    fov = classes.field_of_view.Field_of_View(fov_param, _fov_id=_fov_id,\n",
    "                                              _color_info_kwargs={\n",
    "                                                  '_color_filename':'Color_Usage',\n",
    "                                              }, \n",
    "                                              _prioritize_saved_attrs=False,\n",
    "                                              _save_info_to_file=False, # whether overwrite\n",
    "                                              )\n",
    "    # 2. Process image into candidate spots\n",
    "    fov.parallel = True\n",
    "    setattr(fov, \"combo_ref_id\", 0)\n",
    "    fov._process_image_to_spots('combo', \n",
    "                                _load_common_reference=True, _load_with_multiple=False,\n",
    "                                _save_images=_save_images,\n",
    "                                _warp_images=False, _fit_spots=True,\n",
    "                                _overwrite_drift=False, _overwrite_image=_overwrite,\n",
    "                                _overwrite_spot=_overwrite)\n",
    "    # 3. unique\n",
    "    setattr(fov, \"unique_ref_id\", 0)\n",
    "    fov._process_image_to_spots('unique', \n",
    "                                _load_common_reference=True, _load_with_multiple=False,\n",
    "                                _save_images=_save_images,\n",
    "                                _warp_images=False, _fit_spots=True,\n",
    "                                _overwrite_drift=False, _overwrite_image=_overwrite,\n",
    "                                _overwrite_spot=_overwrite)\n",
    "    # 4. Process DAPI image\n",
    "    fov._load_dapi_image()"
   ]
  },
  {
   "cell_type": "code",
   "execution_count": null,
   "metadata": {},
   "outputs": [],
   "source": []
  },
  {
   "cell_type": "code",
   "execution_count": null,
   "metadata": {},
   "outputs": [],
   "source": []
  }
 ],
 "metadata": {
  "kernelspec": {
   "display_name": "ia3_postanalysis",
   "language": "python",
   "name": "ia3_postanalysis"
  },
  "language_info": {
   "codemirror_mode": {
    "name": "ipython",
    "version": 3
   },
   "file_extension": ".py",
   "mimetype": "text/x-python",
   "name": "python",
   "nbconvert_exporter": "python",
   "pygments_lexer": "ipython3",
   "version": "3.9.11"
  }
 },
 "nbformat": 4,
 "nbformat_minor": 4
}
