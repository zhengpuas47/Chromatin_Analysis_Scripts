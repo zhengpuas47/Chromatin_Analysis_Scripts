{
 "cells": [
  {
   "cell_type": "markdown",
   "id": "f6e94084",
   "metadata": {},
   "source": [
    "# Clean workflow to interpret data from Blair\n",
    "\n",
    "by Pu Zheng\n",
    "\n",
    "2022.09.20"
   ]
  },
  {
   "cell_type": "code",
   "execution_count": 1,
   "id": "2dcde051",
   "metadata": {},
   "outputs": [
    {
     "name": "stdout",
     "output_type": "stream",
     "text": [
      "30320\n"
     ]
    }
   ],
   "source": [
    "%run \"..\\..\\Startup_py3.py\"\n",
    "sys.path.append(r\"..\\..\\..\\..\\Documents\")\n",
    "\n",
    "import ImageAnalysis3 as ia\n",
    "%matplotlib notebook\n",
    "\n",
    "from ImageAnalysis3 import *\n",
    "print(os.getpid())\n",
    "\n",
    "import h5py\n",
    "from ImageAnalysis3.classes import _allowed_kwds\n",
    "import ast"
   ]
  },
  {
   "cell_type": "markdown",
   "id": "48452108",
   "metadata": {},
   "source": [
    "## 0.1 Folders"
   ]
  },
  {
   "cell_type": "code",
   "execution_count": 17,
   "id": "e1121ebd",
   "metadata": {},
   "outputs": [
    {
     "name": "stdout",
     "output_type": "stream",
     "text": [
      "\\\\10.245.74.158\\Chromatin_NAS_8\\Analyzed_data\\MouseBrain_PostAnalysis_0920\n",
      "\\\\10.245.74.158\\Chromatin_NAS_8\\Analyzed_data\\MouseBrain_PostAnalysis_0920\\Figures_0920\n"
     ]
    }
   ],
   "source": [
    "postanalysis_folder = r'\\\\10.245.74.158\\Chromatin_NAS_8\\Analyzed_data\\MouseBrain_PostAnalysis_0920'\n",
    "print(postanalysis_folder)\n",
    "dark_mode = False\n",
    "if dark_mode:\n",
    "    figure_folder = os.path.join(postanalysis_folder, 'Figures_0920_dark')\n",
    "    plt.style.use('dark_background')\n",
    "else:\n",
    "    figure_folder = os.path.join(postanalysis_folder, 'Figures_0920')\n",
    "print(figure_folder)"
   ]
  },
  {
   "cell_type": "code",
   "execution_count": 5,
   "id": "9622b796",
   "metadata": {},
   "outputs": [
    {
     "name": "stdout",
     "output_type": "stream",
     "text": [
      "create postanalysis_folder: \\\\10.245.74.158\\Chromatin_NAS_8\\Analyzed_data\\MouseBrain_PostAnalysis_0920\n",
      "create figure_folder: \\\\10.245.74.158\\Chromatin_NAS_8\\Analyzed_data\\MouseBrain_PostAnalysis_0920\\Figures_0920\n"
     ]
    }
   ],
   "source": [
    "# specifically for the first jupyter:\n",
    "if not os.path.exists(postanalysis_folder):\n",
    "    print(f\"create postanalysis_folder: {postanalysis_folder}\")\n",
    "    os.makedirs(postanalysis_folder)\n",
    "else:\n",
    "    print(f\"use postanalysis_folder: {postanalysis_folder}\")\n",
    "\n",
    "if not os.path.exists(figure_folder):\n",
    "    print(f\"create figure_folder: {figure_folder}\")\n",
    "    os.makedirs(figure_folder)\n",
    "else:\n",
    "    print(f\"use figure_folder: {figure_folder}\")"
   ]
  },
  {
   "cell_type": "markdown",
   "id": "aedbb306",
   "metadata": {},
   "source": [
    "## 0.2 Plotting Parameters"
   ]
  },
  {
   "cell_type": "code",
   "execution_count": 6,
   "id": "19a95aa7",
   "metadata": {},
   "outputs": [],
   "source": [
    "# Required plotting setting\n",
    "import matplotlib\n",
    "matplotlib.rcParams['pdf.fonttype'] = 42\n",
    "import matplotlib.pyplot as plt\n",
    "plt.rc('font', family='serif')\n",
    "plt.rc('font', serif='Arial')\n",
    "\n",
    "from ImageAnalysis3.figure_tools import _double_col_width, _single_col_width, _font_size, _ticklabel_size,_ticklabel_width\n",
    "\n",
    "import seaborn as sns\n",
    "sns.set_context(\"paper\", rc={\"font.size\":_font_size,\"axes.titlesize\":_font_size+1,\"axes.labelsize\":_font_size})   "
   ]
  },
  {
   "cell_type": "markdown",
   "id": "2650a995",
   "metadata": {},
   "source": [
    "# 1. Load Data"
   ]
  },
  {
   "cell_type": "code",
   "execution_count": 7,
   "id": "c6645d46",
   "metadata": {},
   "outputs": [
    {
     "name": "stdout",
     "output_type": "stream",
     "text": [
      "['\\\\\\\\10.245.74.158\\\\Chromatin_NAS_8\\\\Exported_data\\\\0814-Sample_Result_Blair\\\\0316_SE_bulk_spalign.h5', '\\\\\\\\10.245.74.158\\\\Chromatin_NAS_8\\\\Exported_data\\\\0814-Sample_Result_Blair\\\\0402_SE_bulk_spalign.h5', '\\\\\\\\10.245.74.158\\\\Chromatin_NAS_8\\\\Exported_data\\\\0814-Sample_Result_Blair\\\\0713_SE_bulk_spalign.h5']\n"
     ]
    }
   ],
   "source": [
    "# load blair's data\n",
    "import pandas as pd\n",
    "data_folder = r'\\\\10.245.74.158\\Chromatin_NAS_8\\Exported_data\\0814-Sample_Result_Blair'\n",
    "#data_df = pd.read_hdf(os.path.join(data_folder, f'0713_SE_{fov_id}_spalign.h5'))\n",
    "sel_data_files = [os.path.join(data_folder, _fl) for _fl in os.listdir(data_folder) if '.h5' in _fl]\n",
    "print(sel_data_files)\n",
    "data_df_list = [pd.read_hdf(_fl) for _fl in sel_data_files]\n",
    "\n",
    "#data_df = pd.concat(data_df_list)\n",
    "\n",
    "#data_df['x_hat'] = 2048 - data_df['x_hat']"
   ]
  },
  {
   "cell_type": "markdown",
   "id": "49ee89fd",
   "metadata": {},
   "source": [
    "## 1.2 load positions"
   ]
  },
  {
   "cell_type": "code",
   "execution_count": 23,
   "id": "b70c7d64",
   "metadata": {},
   "outputs": [],
   "source": [
    "# positions\n",
    "# modify with global coordinates\n",
    "position_filenames = [\n",
    "    r'\\\\10.245.74.158\\Chromatin_NAS_4\\20220316-P_brain_CTP11-12-13_from_0304\\Alignment\\adjusted_translated_positions_all.txt',\n",
    "    r'\\\\10.245.74.158\\Chromatin_NAS_4\\20220402-P_brain_CTP11-13_from_0329\\Alignment\\adjusted_translated_positions_all.txt',\n",
    "    r'\\\\10.245.74.158\\Chromatin_NAS_7\\20220713-P_brain_CTP11-13_from_0418\\Alignment\\adjusted_translated_positions_all.txt',\n",
    "]\n",
    "positions_list = [np.loadtxt(_fl, delimiter=',') for _fl in position_filenames]"
   ]
  },
  {
   "cell_type": "markdown",
   "id": "41654171",
   "metadata": {},
   "source": [
    "## 1.3 load MERFISH"
   ]
  },
  {
   "cell_type": "code",
   "execution_count": 24,
   "id": "02b3e5db",
   "metadata": {},
   "outputs": [
    {
     "name": "stdout",
     "output_type": "stream",
     "text": [
      "['20220304' '20220329' '20220415' '20220418']\n"
     ]
    },
    {
     "data": {
      "text/plain": [
       "AnnData object with n_obs × n_vars = 62732 × 242\n",
       "    obs: 'fov', 'volume', 'center_x', 'center_y', 'min_x', 'max_x', 'min_y', 'max_y', 'experiment', 'n_genes_by_counts', 'total_counts', 'doublet_score', 'predicted_doublet', 'leiden', 'leiden_subclass', 'subclass_prediction_label', 'leiden_subclass_sub', 'subclass_manual_label', 'subclass_manual_label_predict', 'subclass_label_new', 'class_label_new', 'neuron_identity'\n",
       "    var: 'n_cells_by_counts', 'mean_counts', 'pct_dropout_by_counts', 'total_counts'\n",
       "    uns: 'dendrogram_subclass_label_new', 'experiment_colors', 'leiden', 'leiden_colors', 'leiden_subclass_colors', 'leiden_subclass_sub_colors', 'neighbors', 'pca', 'scrublet', 'subclass_label_new_colors', 'subclass_manual_label_colors', 'subclass_prediction_label_colors', 'umap'\n",
       "    obsm: 'X_pca', 'X_umap'\n",
       "    obsp: 'connectivities', 'distances'"
      ]
     },
     "execution_count": 24,
     "metadata": {},
     "output_type": "execute_result"
    }
   ],
   "source": [
    "import seaborn as sns\n",
    "import anndata\n",
    "import scanpy as sc\n",
    "\n",
    "save_folder = r'\\\\crick\\SSD_0\\Shiwei\\RNA_MERFISH_analysis\\Merged_nonclear'\n",
    "merged_adata = sc.read(os.path.join(save_folder,'new_labeled_data.h5ad'))\n",
    "adata_ori = merged_adata.raw.to_adata()\n",
    "\n",
    "print(np.unique(adata_ori.obs['experiment']))\n",
    "\n",
    "adata_ori"
   ]
  },
  {
   "cell_type": "markdown",
   "id": "d8aa9d59",
   "metadata": {},
   "source": [
    "## 1.4 load fov-cell-exp_2_uid"
   ]
  },
  {
   "cell_type": "code",
   "execution_count": 26,
   "id": "47a2a89c",
   "metadata": {},
   "outputs": [
    {
     "data": {
      "text/plain": [
       "73889"
      ]
     },
     "execution_count": 26,
     "metadata": {},
     "output_type": "execute_result"
    }
   ],
   "source": [
    "ExpFovCell_2_uid = {}\n",
    "\n",
    "from ImageAnalysis3.segmentation_tools.cell import Align_Segmentation\n",
    "segLabel_folders = [\n",
    "    r'\\\\10.245.74.158\\Chromatin_NAS_8\\Analyzed_data\\20220316-P_brain_CTP11-12-13_from_0304\\Analysis_0706\\Segmentation',\n",
    "    r'\\\\10.245.74.158\\Chromatin_NAS_8\\Analyzed_data\\20220402-P_brain_CTP11-13_from_0329_warp\\Analysis_0709\\Segmentation',\n",
    "    r'\\\\mendel\\Mendel_SSD1\\Pu_Temp\\20220713-P_brain_CTP11-13_from_0418\\Analysis_0709\\Segmentation',\n",
    "]\n",
    "exp_names = ['20220304', '20220329', '20220418', ]\n",
    "for _exp, _seg_fd in zip(exp_names, segLabel_folders):\n",
    "    _seg_fls = [os.path.join(_seg_fd, _fl) for _fl in os.listdir(_seg_fd) if '_Segmentation.hdf5' in _fl]\n",
    "    for _fl in _seg_fls:\n",
    "        # load segmentation label matrix and uids\n",
    "        with h5py.File(_fl, 'r') as _f:\n",
    "            for _fov_id in _f.keys():\n",
    "                _fov_group = _f[list(_f.keys())[0]]\n",
    "                _uid_group = _fov_group['cell_2_uid']\n",
    "                for _cell_id in _uid_group.keys():\n",
    "                    ExpFovCell_2_uid[(_exp, _fov_id, _cell_id)] = _uid_group[_cell_id][:][0].decode()\n",
    "\n",
    "len(ExpFovCell_2_uid)"
   ]
  },
  {
   "cell_type": "markdown",
   "id": "40b36300",
   "metadata": {},
   "source": [
    "## 1.5 load codebook"
   ]
  },
  {
   "cell_type": "code",
   "execution_count": 30,
   "id": "437e6050",
   "metadata": {},
   "outputs": [],
   "source": [
    "codebook = pd.read_csv(r'\\\\10.245.74.158\\Chromatin_NAS_8\\Exported_data\\20220713-Export\\merged_codebook.csv')"
   ]
  },
  {
   "cell_type": "markdown",
   "id": "7d0a99b2",
   "metadata": {},
   "source": [
    "# Process"
   ]
  },
  {
   "cell_type": "code",
   "execution_count": 29,
   "id": "1fdc9283",
   "metadata": {},
   "outputs": [
    {
     "name": "stderr",
     "output_type": "stream",
     "text": [
      "100%|████████████████████████████████████████████████████████████████████████████████| 163/163 [02:37<00:00,  1.04it/s]\n",
      "100%|████████████████████████████████████████████████████████████████████████████████| 159/159 [02:18<00:00,  1.15it/s]\n",
      "100%|████████████████████████████████████████████████████████████████████████████████| 174/174 [02:38<00:00,  1.10it/s]\n"
     ]
    },
    {
     "name": "stdout",
     "output_type": "stream",
     "text": [
      "Saving: \\\\10.245.74.158\\Chromatin_NAS_8\\Analyzed_data\\MouseBrain_PostAnalysis_0920\\CellDfList_3rep.pkl\n",
      "35181\n"
     ]
    }
   ],
   "source": [
    "# save \n",
    "from tqdm import tqdm\n",
    "cellDf_filename = os.path.join(postanalysis_folder, 'CellDfList_3rep.pkl')\n",
    "\n",
    "pixel_size = 108\n",
    "cellType_labelName = 'subclass_label_new'\n",
    "\n",
    "if os.path.exists(cellDf_filename):\n",
    "    cell_dfs = pickle.load(open(cellDf_filename, 'rb'))\n",
    "    \n",
    "else:\n",
    "    \n",
    "    missed_cell = []\n",
    "    cell_dfs = []\n",
    "    for _exp, _positions, _df in zip(exp_names, positions_list, data_df_list):\n",
    "        _fovs = np.unique(_df['FOV'])\n",
    "        for _fov in tqdm(_fovs):\n",
    "            _fov_df = _df[_df['FOV']==_fov].copy()\n",
    "            # convert to micron\n",
    "            _fov_df[['z_um','x_um','y_um']] = _fov_df[['z_hat','x_hat','y_hat']] * pixel_size / 1000\n",
    "            # convert to global\n",
    "            _fov_df[['x_um','y_um']] = _fov_df[['x_um','y_um']] + np.flipud(_positions[_fov])\n",
    "            # loop through cells to re-assign cell type\n",
    "            #_fov_df['replicate'] = '2022'+np.unique(_fov_df['replicate'])[0]\n",
    "            _fov_df['rna_experiment'] = _exp\n",
    "            # apppend\n",
    "            #fov_dfs.append(_fov_df)\n",
    "\n",
    "            # load cell\n",
    "            for _cell_name in np.unique(_fov_df['orig_cellID']):\n",
    "\n",
    "                _cell_df = _fov_df[_fov_df['orig_cellID']==_cell_name].copy()\n",
    "                #_exp = np.unique(_cell_df['replicate'])[0]\n",
    "                _fov = str(np.unique(_cell_df['FOV'])[0])\n",
    "                _cell = _cell_name.split('Cell-')[1]\n",
    "                _uid = ExpFovCell_2_uid[(_exp,_fov,_cell)]\n",
    "\n",
    "                if not _uid in adata_ori.obs.index:\n",
    "                    continue\n",
    "\n",
    "                _cell_df['uid'] = _uid\n",
    "                _cell_df['fov_id'] = _fov\n",
    "                _cell_df['cell_id'] = _cell\n",
    "                _cell_df['subclass'] = adata_ori.obs.loc[adata_ori.obs.index==_uid, cellType_labelName].values[0]\n",
    "                cell_dfs.append(_cell_df)\n",
    "    # save\n",
    "    print(f\"Saving: {cellDf_filename}\")\n",
    "    pickle.dump(cell_dfs, open(cellDf_filename, 'wb'))\n",
    "    \n",
    "print(len(cell_dfs))"
   ]
  },
  {
   "cell_type": "code",
   "execution_count": 22,
   "id": "4bc83b2d",
   "metadata": {},
   "outputs": [
    {
     "data": {
      "text/html": [
       "<div>\n",
       "<style scoped>\n",
       "    .dataframe tbody tr th:only-of-type {\n",
       "        vertical-align: middle;\n",
       "    }\n",
       "\n",
       "    .dataframe tbody tr th {\n",
       "        vertical-align: top;\n",
       "    }\n",
       "\n",
       "    .dataframe thead th {\n",
       "        text-align: right;\n",
       "    }\n",
       "</style>\n",
       "<table border=\"1\" class=\"dataframe\">\n",
       "  <thead>\n",
       "    <tr style=\"text-align: right;\">\n",
       "      <th></th>\n",
       "      <th>FOV</th>\n",
       "      <th>replicate</th>\n",
       "      <th>finalcellID</th>\n",
       "      <th>celltype</th>\n",
       "      <th>chr</th>\n",
       "      <th>start</th>\n",
       "      <th>end</th>\n",
       "      <th>hyb</th>\n",
       "      <th>x_hat</th>\n",
       "      <th>y_hat</th>\n",
       "      <th>...</th>\n",
       "      <th>uindex</th>\n",
       "      <th>rowID</th>\n",
       "      <th>Score</th>\n",
       "      <th>fiberidx</th>\n",
       "      <th>numfiber</th>\n",
       "      <th>orig_cellID</th>\n",
       "      <th>z_um</th>\n",
       "      <th>x_um</th>\n",
       "      <th>y_um</th>\n",
       "      <th>rna_experiment</th>\n",
       "    </tr>\n",
       "  </thead>\n",
       "  <tbody>\n",
       "    <tr>\n",
       "      <th>3</th>\n",
       "      <td>1</td>\n",
       "      <td>0316</td>\n",
       "      <td>51</td>\n",
       "      <td>Micro</td>\n",
       "      <td>chr2</td>\n",
       "      <td>8748765</td>\n",
       "      <td>8759968</td>\n",
       "      <td>5</td>\n",
       "      <td>1532.213600</td>\n",
       "      <td>601.509681</td>\n",
       "      <td>...</td>\n",
       "      <td>79</td>\n",
       "      <td>181982</td>\n",
       "      <td>4355.280491</td>\n",
       "      <td>1</td>\n",
       "      <td>1</td>\n",
       "      <td>Cell-148</td>\n",
       "      <td>10.297020</td>\n",
       "      <td>167.319069</td>\n",
       "      <td>403.613046</td>\n",
       "      <td>20220418</td>\n",
       "    </tr>\n",
       "    <tr>\n",
       "      <th>5</th>\n",
       "      <td>1</td>\n",
       "      <td>0316</td>\n",
       "      <td>51</td>\n",
       "      <td>Micro</td>\n",
       "      <td>chr2</td>\n",
       "      <td>11345065</td>\n",
       "      <td>11361468</td>\n",
       "      <td>7</td>\n",
       "      <td>1525.858800</td>\n",
       "      <td>605.023748</td>\n",
       "      <td>...</td>\n",
       "      <td>1095</td>\n",
       "      <td>181984</td>\n",
       "      <td>4355.280491</td>\n",
       "      <td>1</td>\n",
       "      <td>1</td>\n",
       "      <td>Cell-148</td>\n",
       "      <td>10.941555</td>\n",
       "      <td>166.632750</td>\n",
       "      <td>403.992565</td>\n",
       "      <td>20220418</td>\n",
       "    </tr>\n",
       "    <tr>\n",
       "      <th>7</th>\n",
       "      <td>1</td>\n",
       "      <td>0316</td>\n",
       "      <td>51</td>\n",
       "      <td>Micro</td>\n",
       "      <td>chr2</td>\n",
       "      <td>16580141</td>\n",
       "      <td>16598642</td>\n",
       "      <td>11</td>\n",
       "      <td>1533.077600</td>\n",
       "      <td>593.271464</td>\n",
       "      <td>...</td>\n",
       "      <td>1097</td>\n",
       "      <td>181986</td>\n",
       "      <td>4355.280491</td>\n",
       "      <td>1</td>\n",
       "      <td>1</td>\n",
       "      <td>Cell-148</td>\n",
       "      <td>10.414455</td>\n",
       "      <td>167.412381</td>\n",
       "      <td>402.723318</td>\n",
       "      <td>20220418</td>\n",
       "    </tr>\n",
       "    <tr>\n",
       "      <th>14</th>\n",
       "      <td>1</td>\n",
       "      <td>0316</td>\n",
       "      <td>51</td>\n",
       "      <td>Micro</td>\n",
       "      <td>chr2</td>\n",
       "      <td>19938554</td>\n",
       "      <td>19950067</td>\n",
       "      <td>14</td>\n",
       "      <td>1530.020250</td>\n",
       "      <td>591.382596</td>\n",
       "      <td>...</td>\n",
       "      <td>1099</td>\n",
       "      <td>181993</td>\n",
       "      <td>4355.280491</td>\n",
       "      <td>1</td>\n",
       "      <td>1</td>\n",
       "      <td>Cell-148</td>\n",
       "      <td>10.391650</td>\n",
       "      <td>167.082187</td>\n",
       "      <td>402.519320</td>\n",
       "      <td>20220418</td>\n",
       "    </tr>\n",
       "    <tr>\n",
       "      <th>16</th>\n",
       "      <td>1</td>\n",
       "      <td>0316</td>\n",
       "      <td>51</td>\n",
       "      <td>Micro</td>\n",
       "      <td>chr2</td>\n",
       "      <td>21273895</td>\n",
       "      <td>21283391</td>\n",
       "      <td>16</td>\n",
       "      <td>1528.527800</td>\n",
       "      <td>596.813201</td>\n",
       "      <td>...</td>\n",
       "      <td>1100</td>\n",
       "      <td>181995</td>\n",
       "      <td>4355.280491</td>\n",
       "      <td>1</td>\n",
       "      <td>1</td>\n",
       "      <td>Cell-148</td>\n",
       "      <td>10.371780</td>\n",
       "      <td>166.921002</td>\n",
       "      <td>403.105826</td>\n",
       "      <td>20220418</td>\n",
       "    </tr>\n",
       "    <tr>\n",
       "      <th>...</th>\n",
       "      <td>...</td>\n",
       "      <td>...</td>\n",
       "      <td>...</td>\n",
       "      <td>...</td>\n",
       "      <td>...</td>\n",
       "      <td>...</td>\n",
       "      <td>...</td>\n",
       "      <td>...</td>\n",
       "      <td>...</td>\n",
       "      <td>...</td>\n",
       "      <td>...</td>\n",
       "      <td>...</td>\n",
       "      <td>...</td>\n",
       "      <td>...</td>\n",
       "      <td>...</td>\n",
       "      <td>...</td>\n",
       "      <td>...</td>\n",
       "      <td>...</td>\n",
       "      <td>...</td>\n",
       "      <td>...</td>\n",
       "      <td>...</td>\n",
       "    </tr>\n",
       "    <tr>\n",
       "      <th>126</th>\n",
       "      <td>1</td>\n",
       "      <td>0316</td>\n",
       "      <td>51</td>\n",
       "      <td>Micro</td>\n",
       "      <td>chr15</td>\n",
       "      <td>96249522</td>\n",
       "      <td>96259954</td>\n",
       "      <td>71</td>\n",
       "      <td>1535.725000</td>\n",
       "      <td>600.327068</td>\n",
       "      <td>...</td>\n",
       "      <td>795</td>\n",
       "      <td>181755</td>\n",
       "      <td>2833.452317</td>\n",
       "      <td>2</td>\n",
       "      <td>2</td>\n",
       "      <td>Cell-148</td>\n",
       "      <td>11.819582</td>\n",
       "      <td>167.698300</td>\n",
       "      <td>403.485323</td>\n",
       "      <td>20220418</td>\n",
       "    </tr>\n",
       "    <tr>\n",
       "      <th>132</th>\n",
       "      <td>1</td>\n",
       "      <td>0316</td>\n",
       "      <td>51</td>\n",
       "      <td>Micro</td>\n",
       "      <td>chr15</td>\n",
       "      <td>98747656</td>\n",
       "      <td>98759982</td>\n",
       "      <td>73</td>\n",
       "      <td>1537.322000</td>\n",
       "      <td>603.101264</td>\n",
       "      <td>...</td>\n",
       "      <td>796</td>\n",
       "      <td>181761</td>\n",
       "      <td>2833.452317</td>\n",
       "      <td>2</td>\n",
       "      <td>2</td>\n",
       "      <td>Cell-148</td>\n",
       "      <td>11.546704</td>\n",
       "      <td>167.870776</td>\n",
       "      <td>403.784937</td>\n",
       "      <td>20220418</td>\n",
       "    </tr>\n",
       "    <tr>\n",
       "      <th>136</th>\n",
       "      <td>1</td>\n",
       "      <td>0316</td>\n",
       "      <td>51</td>\n",
       "      <td>Micro</td>\n",
       "      <td>chr15</td>\n",
       "      <td>101851871</td>\n",
       "      <td>101860220</td>\n",
       "      <td>75</td>\n",
       "      <td>1537.428200</td>\n",
       "      <td>598.738051</td>\n",
       "      <td>...</td>\n",
       "      <td>1835</td>\n",
       "      <td>181765</td>\n",
       "      <td>2833.452317</td>\n",
       "      <td>2</td>\n",
       "      <td>2</td>\n",
       "      <td>Cell-148</td>\n",
       "      <td>11.247579</td>\n",
       "      <td>167.882246</td>\n",
       "      <td>403.313709</td>\n",
       "      <td>20220418</td>\n",
       "    </tr>\n",
       "    <tr>\n",
       "      <th>138</th>\n",
       "      <td>1</td>\n",
       "      <td>0316</td>\n",
       "      <td>51</td>\n",
       "      <td>Micro</td>\n",
       "      <td>chr15</td>\n",
       "      <td>103529162</td>\n",
       "      <td>103537591</td>\n",
       "      <td>76</td>\n",
       "      <td>1567.197467</td>\n",
       "      <td>607.741048</td>\n",
       "      <td>...</td>\n",
       "      <td>1836</td>\n",
       "      <td>181767</td>\n",
       "      <td>2833.452317</td>\n",
       "      <td>2</td>\n",
       "      <td>2</td>\n",
       "      <td>Cell-148</td>\n",
       "      <td>9.264577</td>\n",
       "      <td>171.097326</td>\n",
       "      <td>404.286033</td>\n",
       "      <td>20220418</td>\n",
       "    </tr>\n",
       "    <tr>\n",
       "      <th>142</th>\n",
       "      <td>1</td>\n",
       "      <td>0316</td>\n",
       "      <td>51</td>\n",
       "      <td>Micro</td>\n",
       "      <td>chr15</td>\n",
       "      <td>103742236</td>\n",
       "      <td>103759885</td>\n",
       "      <td>77</td>\n",
       "      <td>1579.988367</td>\n",
       "      <td>607.520028</td>\n",
       "      <td>...</td>\n",
       "      <td>798</td>\n",
       "      <td>181771</td>\n",
       "      <td>2833.452317</td>\n",
       "      <td>2</td>\n",
       "      <td>2</td>\n",
       "      <td>Cell-148</td>\n",
       "      <td>8.739792</td>\n",
       "      <td>172.478744</td>\n",
       "      <td>404.262163</td>\n",
       "      <td>20220418</td>\n",
       "    </tr>\n",
       "  </tbody>\n",
       "</table>\n",
       "<p>306 rows × 28 columns</p>\n",
       "</div>"
      ],
      "text/plain": [
       "     FOV replicate  finalcellID celltype    chr      start        end  hyb  \\\n",
       "3      1      0316           51    Micro   chr2    8748765    8759968    5   \n",
       "5      1      0316           51    Micro   chr2   11345065   11361468    7   \n",
       "7      1      0316           51    Micro   chr2   16580141   16598642   11   \n",
       "14     1      0316           51    Micro   chr2   19938554   19950067   14   \n",
       "16     1      0316           51    Micro   chr2   21273895   21283391   16   \n",
       "..   ...       ...          ...      ...    ...        ...        ...  ...   \n",
       "126    1      0316           51    Micro  chr15   96249522   96259954   71   \n",
       "132    1      0316           51    Micro  chr15   98747656   98759982   73   \n",
       "136    1      0316           51    Micro  chr15  101851871  101860220   75   \n",
       "138    1      0316           51    Micro  chr15  103529162  103537591   76   \n",
       "142    1      0316           51    Micro  chr15  103742236  103759885   77   \n",
       "\n",
       "           x_hat       y_hat  ...  uindex   rowID        Score  fiberidx  \\\n",
       "3    1532.213600  601.509681  ...      79  181982  4355.280491         1   \n",
       "5    1525.858800  605.023748  ...    1095  181984  4355.280491         1   \n",
       "7    1533.077600  593.271464  ...    1097  181986  4355.280491         1   \n",
       "14   1530.020250  591.382596  ...    1099  181993  4355.280491         1   \n",
       "16   1528.527800  596.813201  ...    1100  181995  4355.280491         1   \n",
       "..           ...         ...  ...     ...     ...          ...       ...   \n",
       "126  1535.725000  600.327068  ...     795  181755  2833.452317         2   \n",
       "132  1537.322000  603.101264  ...     796  181761  2833.452317         2   \n",
       "136  1537.428200  598.738051  ...    1835  181765  2833.452317         2   \n",
       "138  1567.197467  607.741048  ...    1836  181767  2833.452317         2   \n",
       "142  1579.988367  607.520028  ...     798  181771  2833.452317         2   \n",
       "\n",
       "     numfiber  orig_cellID       z_um        x_um        y_um  rna_experiment  \n",
       "3           1     Cell-148  10.297020  167.319069  403.613046        20220418  \n",
       "5           1     Cell-148  10.941555  166.632750  403.992565        20220418  \n",
       "7           1     Cell-148  10.414455  167.412381  402.723318        20220418  \n",
       "14          1     Cell-148  10.391650  167.082187  402.519320        20220418  \n",
       "16          1     Cell-148  10.371780  166.921002  403.105826        20220418  \n",
       "..        ...          ...        ...         ...         ...             ...  \n",
       "126         2     Cell-148  11.819582  167.698300  403.485323        20220418  \n",
       "132         2     Cell-148  11.546704  167.870776  403.784937        20220418  \n",
       "136         2     Cell-148  11.247579  167.882246  403.313709        20220418  \n",
       "138         2     Cell-148   9.264577  171.097326  404.286033        20220418  \n",
       "142         2     Cell-148   8.739792  172.478744  404.262163        20220418  \n",
       "\n",
       "[306 rows x 28 columns]"
      ]
     },
     "execution_count": 22,
     "metadata": {},
     "output_type": "execute_result"
    }
   ],
   "source": [
    "_cell_df"
   ]
  },
  {
   "cell_type": "markdown",
   "id": "ed7f9ad9",
   "metadata": {},
   "source": [
    "## Convert to chr_2_zxys and save"
   ]
  },
  {
   "cell_type": "code",
   "execution_count": 31,
   "id": "6a5315ec",
   "metadata": {},
   "outputs": [],
   "source": [
    "sel_cols = ['rna_experiment', 'uid', 'fov_id', 'cell_id', 'subclass',\n",
    "            'chr', 'hyb', 'fiberidx', 'numfiber',\n",
    "            'center_intensity', 'z_um', 'x_um', 'y_um', \n",
    "            ]\n",
    "sel_merged_df = pd.concat([_df[sel_cols] for _df in cell_dfs])\n"
   ]
  },
  {
   "cell_type": "code",
   "execution_count": 32,
   "id": "834a3e21",
   "metadata": {},
   "outputs": [],
   "source": [
    "sel_merged_filename = os.path.join(postanalysis_folder, 'selected_all_cells.csv')\n",
    "if not os.path.exists(sel_merged_filename):\n",
    "    sel_merged_df.to_csv(sel_merged_filename, index=False)"
   ]
  },
  {
   "cell_type": "markdown",
   "id": "95e3d811",
   "metadata": {},
   "source": [
    "# convert into chr_2_zxys_list "
   ]
  },
  {
   "cell_type": "code",
   "execution_count": 33,
   "id": "17baff8d",
   "metadata": {},
   "outputs": [
    {
     "name": "stdout",
     "output_type": "stream",
     "text": [
      "35181\n"
     ]
    }
   ],
   "source": [
    "import multiprocessing as mp\n",
    "from ImageAnalysis3.io_tools.aligner import spAligner_2_chr2homologList\n",
    "print(len(cell_dfs))"
   ]
  },
  {
   "cell_type": "code",
   "execution_count": 34,
   "id": "5a1c2094",
   "metadata": {},
   "outputs": [
    {
     "name": "stdout",
     "output_type": "stream",
     "text": [
      "Wall time: 0 ns\n"
     ]
    },
    {
     "data": {
      "text/plain": [
       "35181"
      ]
     },
     "execution_count": 34,
     "metadata": {},
     "output_type": "execute_result"
    }
   ],
   "source": [
    "%time\n",
    "num_threads = 32\n",
    "with mp.Pool(num_threads) as aligner_pool:\n",
    "    align_results = aligner_pool.starmap(spAligner_2_chr2homologList, [(_cell_df, codebook) for _cell_df in cell_dfs])\n",
    "    aligner_pool.close()\n",
    "    aligner_pool.join()\n",
    "    aligner_pool.terminate()\n",
    "len(align_results)\n",
    "chr2ZxysList = [_r[0] for _r in align_results]\n",
    "cellInfoList = [_r[1] for _r in align_results]"
   ]
  },
  {
   "cell_type": "raw",
   "id": "7e55d1dd",
   "metadata": {},
   "source": [
    "# sequential version\n",
    "chr2ZxysList = []\n",
    "cellInfoList = []\n",
    "\n",
    "for _cell_df in tqdm(cell_dfs):\n",
    "    _sel_cell_df = _cell_df[sel_cols]\n",
    "    chr_2_zxys, info_dict = spAligner_2_chr2homologList(_sel_cell_df, codebook)\n",
    "    chr2ZxysList.append(chr_2_zxys)\n",
    "    cellInfoList.append(info_dict)"
   ]
  },
  {
   "cell_type": "code",
   "execution_count": 36,
   "id": "b17bd10e",
   "metadata": {},
   "outputs": [
    {
     "name": "stdout",
     "output_type": "stream",
     "text": [
      "Saving: \\\\10.245.74.158\\Chromatin_NAS_8\\Analyzed_data\\MouseBrain_PostAnalysis_0920\\all_chr2Zxys.pkl\n",
      "Saving: \\\\10.245.74.158\\Chromatin_NAS_8\\Analyzed_data\\MouseBrain_PostAnalysis_0920\\all_cellInfo.pkl\n"
     ]
    }
   ],
   "source": [
    "chr2Zxys_filename = os.path.join(postanalysis_folder, 'all_chr2Zxys.pkl')\n",
    "if not os.path.exists(chr2Zxys_filename):\n",
    "    print(f\"Saving: {chr2Zxys_filename}\")\n",
    "    pickle.dump(chr2ZxysList, open(chr2Zxys_filename, 'wb'))\n",
    "    \n",
    "cellInfo_filename = os.path.join(postanalysis_folder, 'all_cellInfo.pkl')\n",
    "if not os.path.exists(cellInfo_filename):\n",
    "    print(f\"Saving: {cellInfo_filename}\")\n",
    "    pickle.dump(cellInfoList, open(cellInfo_filename, 'wb'))"
   ]
  },
  {
   "cell_type": "code",
   "execution_count": 37,
   "id": "fba9770f",
   "metadata": {},
   "outputs": [
    {
     "data": {
      "text/plain": [
       "{'rna_experiment': '20220304',\n",
       " 'fov_id': '0',\n",
       " 'cell_id': '12',\n",
       " 'subclass': 'Oligo',\n",
       " 'uid': '259202492748634617304623818845147108919'}"
      ]
     },
     "execution_count": 37,
     "metadata": {},
     "output_type": "execute_result"
    }
   ],
   "source": [
    "cellInfoList[0]"
   ]
  },
  {
   "cell_type": "markdown",
   "id": "a9ca5e09",
   "metadata": {},
   "source": [
    "## partition by subclass"
   ]
  },
  {
   "cell_type": "code",
   "execution_count": 38,
   "id": "4fea36df",
   "metadata": {},
   "outputs": [],
   "source": [
    "subclass_2_chr2ZxysList = {}\n",
    "subclass_2_cellInfoList = {}\n",
    "for _info, _chr2Zxys in zip(cellInfoList, chr2ZxysList):\n",
    "    _cls = _info['subclass']\n",
    "    if _cls not in subclass_2_chr2ZxysList:\n",
    "        subclass_2_chr2ZxysList[_cls] = [_chr2Zxys]\n",
    "        subclass_2_cellInfoList[_cls] = [_info]\n",
    "    else:\n",
    "        subclass_2_chr2ZxysList[_cls].append(_chr2Zxys)\n",
    "        subclass_2_cellInfoList[_cls].append(_info)"
   ]
  },
  {
   "cell_type": "code",
   "execution_count": 39,
   "id": "181183ed",
   "metadata": {},
   "outputs": [
    {
     "name": "stdout",
     "output_type": "stream",
     "text": [
      "Oligo 4765\n",
      "other 311\n",
      "Micro 1523\n",
      "Peri 738\n",
      "Endo 2891\n",
      "Astro 3822\n",
      "OPC 1568\n",
      "L6 CT 4234\n",
      "L5/6 NP 596\n",
      "L5 ET 1202\n",
      "Pvalb 993\n",
      "L6 IT 1837\n",
      "Lamp5 339\n",
      "Sst 746\n",
      "SMC 434\n",
      "L5 IT 2014\n",
      "L2/3 IT 3095\n",
      "Vip 357\n",
      "VLMC 444\n",
      "L4/5 IT 2398\n",
      "L6b 741\n",
      "Sncg 133\n"
     ]
    }
   ],
   "source": [
    "for _cls in subclass_2_chr2ZxysList:\n",
    "    print(_cls, len(subclass_2_chr2ZxysList[_cls]))"
   ]
  },
  {
   "cell_type": "code",
   "execution_count": 40,
   "id": "108f8085",
   "metadata": {},
   "outputs": [
    {
     "name": "stdout",
     "output_type": "stream",
     "text": [
      "Saving: \\\\10.245.74.158\\Chromatin_NAS_8\\Analyzed_data\\MouseBrain_PostAnalysis_0920\\subclass_2_chr2Zxys.pkl\n",
      "Saving: \\\\10.245.74.158\\Chromatin_NAS_8\\Analyzed_data\\MouseBrain_PostAnalysis_0920\\subclass_2_cellInfo.pkl\n"
     ]
    }
   ],
   "source": [
    "subclass_2_chr2Zxys_filename = os.path.join(postanalysis_folder, 'subclass_2_chr2Zxys.pkl')\n",
    "if not os.path.exists(subclass_2_chr2Zxys_filename):\n",
    "    print(f\"Saving: {subclass_2_chr2Zxys_filename}\")\n",
    "    pickle.dump(subclass_2_chr2ZxysList, open(subclass_2_chr2Zxys_filename, 'wb'))\n",
    "    \n",
    "subclass_2_cellInfo_filename = os.path.join(postanalysis_folder, 'subclass_2_cellInfo.pkl')\n",
    "if not os.path.exists(subclass_2_cellInfo_filename):\n",
    "    print(f\"Saving: {subclass_2_cellInfo_filename}\")\n",
    "    pickle.dump(subclass_2_cellInfoList, open(subclass_2_cellInfo_filename, 'wb'))"
   ]
  },
  {
   "cell_type": "markdown",
   "id": "9c534035",
   "metadata": {},
   "source": [
    "### subclass to median"
   ]
  },
  {
   "cell_type": "code",
   "execution_count": 41,
   "id": "ef1477a1",
   "metadata": {
    "scrolled": true
   },
   "outputs": [
    {
     "name": "stdout",
     "output_type": "stream",
     "text": [
      "\\\\10.245.74.158\\Chromatin_NAS_8\\Analyzed_data\\MouseBrain_PostAnalysis_0920\\subclass_2_medianDict.pkl\n",
      "-- preparing chr_2_zxys from 4765 cells in 3.219s.\n",
      "-- summarize 231 inter-chr distances with 44 threads in 773.563s.\n",
      "-- preparing chr_2_zxys from 311 cells in 0.031s.\n",
      "-- summarize 231 inter-chr distances with 44 threads in 63.182s.\n",
      "-- preparing chr_2_zxys from 1523 cells in 0.199s.\n",
      "-- summarize 231 inter-chr distances with 44 threads in 214.205s.\n",
      "-- preparing chr_2_zxys from 738 cells in 0.798s.\n",
      "-- summarize 231 inter-chr distances with 44 threads in 148.343s.\n",
      "-- preparing chr_2_zxys from 2891 cells in 1.468s.\n",
      "-- summarize 231 inter-chr distances with 44 threads in 306.252s.\n",
      "-- preparing chr_2_zxys from 3822 cells in 2.686s.\n",
      "-- summarize 231 inter-chr distances with 44 threads in 346.031s.\n",
      "-- preparing chr_2_zxys from 1568 cells in 0.187s.\n",
      "-- summarize 231 inter-chr distances with 44 threads in 196.203s.\n",
      "-- preparing chr_2_zxys from 4234 cells in 2.891s.\n",
      "-- summarize 231 inter-chr distances with 44 threads in 488.078s.\n",
      "-- preparing chr_2_zxys from 596 cells in 0.812s.\n",
      "-- summarize 231 inter-chr distances with 44 threads in 100.125s.\n",
      "-- preparing chr_2_zxys from 1202 cells in 0.140s.\n",
      "-- summarize 231 inter-chr distances with 44 threads in 112.859s.\n",
      "-- preparing chr_2_zxys from 993 cells in 0.139s.\n",
      "-- summarize 231 inter-chr distances with 44 threads in 123.203s.\n",
      "-- preparing chr_2_zxys from 1837 cells in 0.970s.\n",
      "-- summarize 231 inter-chr distances with 44 threads in 181.452s.\n",
      "-- preparing chr_2_zxys from 339 cells in 0.073s.\n",
      "-- summarize 231 inter-chr distances with 44 threads in 70.879s.\n",
      "-- preparing chr_2_zxys from 746 cells in 0.828s.\n",
      "-- summarize 231 inter-chr distances with 44 threads in 101.120s.\n",
      "-- preparing chr_2_zxys from 434 cells in 0.063s.\n",
      "-- summarize 231 inter-chr distances with 44 threads in 86.047s.\n",
      "-- preparing chr_2_zxys from 2014 cells in 0.306s.\n",
      "-- summarize 231 inter-chr distances with 44 threads in 159.210s.\n",
      "-- preparing chr_2_zxys from 3095 cells in 0.672s.\n",
      "-- summarize 231 inter-chr distances with 44 threads in 209.922s.\n",
      "-- preparing chr_2_zxys from 357 cells in 0.047s.\n",
      "-- summarize 231 inter-chr distances with 44 threads in 75.923s.\n",
      "-- preparing chr_2_zxys from 444 cells in 0.062s.\n",
      "-- summarize 231 inter-chr distances with 44 threads in 75.609s.\n",
      "-- preparing chr_2_zxys from 2398 cells in 1.156s.\n",
      "-- summarize 231 inter-chr distances with 44 threads in 208.766s.\n",
      "-- preparing chr_2_zxys from 741 cells in 0.094s.\n",
      "-- summarize 231 inter-chr distances with 44 threads in 104.469s.\n",
      "-- preparing chr_2_zxys from 133 cells in 0.031s.\n",
      "-- summarize 231 inter-chr distances with 44 threads in 43.234s.\n",
      "Saving to: \\\\10.245.74.158\\Chromatin_NAS_8\\Analyzed_data\\MouseBrain_PostAnalysis_0920\\subclass_2_medianDict.pkl\n"
     ]
    }
   ],
   "source": [
    "subclass_2_median_filename = os.path.join(postanalysis_folder, 'subclass_2_medianDict.pkl')\n",
    "print(subclass_2_median_filename)\n",
    "\n",
    "if os.path.exists(subclass_2_median_filename):\n",
    "    print(\"Loading\")\n",
    "    subclass_2_medianDict = np.load(subclass_2_median_filename, allow_pickle=True)\n",
    "else:\n",
    "    from ImageAnalysis3.structure_tools.distance import Chr2ZxysList_2_summaryDist_by_key,Chr2ZxysList_2_summaryDict\n",
    "    # calculate prob\n",
    "    subclass_2_medianDict = {}\n",
    "    for _subclass in subclass_2_chr2ZxysList:\n",
    "        subclass_2_medianDict[_subclass] = Chr2ZxysList_2_summaryDict(\n",
    "            subclass_2_chr2ZxysList[_subclass], \n",
    "            total_codebook=codebook, \n",
    "            num_threads=num_threads, verbose=True)\n",
    "    \n",
    "    print(f\"Saving to: {subclass_2_median_filename}\")\n",
    "    pickle.dump(subclass_2_medianDict, open(subclass_2_median_filename, 'wb'))"
   ]
  },
  {
   "cell_type": "markdown",
   "id": "fa96f986",
   "metadata": {},
   "source": [
    "## partition by major class"
   ]
  },
  {
   "cell_type": "code",
   "execution_count": 42,
   "id": "aa1cfe97",
   "metadata": {},
   "outputs": [],
   "source": [
    "class_2_subclass = {\n",
    "    'Gluta':['L6b', 'L6 CT', 'L6 IT', 'L5 IT', 'L2/3 IT', 'L5/6 NP', 'L5 ET', ],\n",
    "    'GABA':['Sncg', 'Sst', 'Vip', 'Pvalb', 'Lamp5', 'L4/5 IT', ],\n",
    "    'Astro':['Astro', ],\n",
    "    'Endo':['Endo', ],\n",
    "    'Micro':['Micro', ],\n",
    "    'Oligo':['Oligo', 'OPC', ],\n",
    "}\n",
    "subclass_2_class = {}\n",
    "for _cls in class_2_subclass:\n",
    "    for _subcls in class_2_subclass[_cls]:\n",
    "        subclass_2_class[_subcls] = _cls"
   ]
  },
  {
   "cell_type": "code",
   "execution_count": 44,
   "id": "30a9abdd",
   "metadata": {},
   "outputs": [
    {
     "name": "stdout",
     "output_type": "stream",
     "text": [
      "Gluta 13719\n",
      "GABA 4966\n",
      "Astro 3822\n",
      "Endo 2891\n",
      "Micro 1523\n",
      "Oligo 6333\n",
      "Writing to file: \\\\10.245.74.158\\Chromatin_NAS_8\\Analyzed_data\\MouseBrain_PostAnalysis_0920\\class_2_chr2Zxys.pkl\n",
      "Writing to file: \\\\10.245.74.158\\Chromatin_NAS_8\\Analyzed_data\\MouseBrain_PostAnalysis_0920\\class_2_cellInfo.pkl\n"
     ]
    }
   ],
   "source": [
    "# save if not exists\n",
    "class_2_chr2ZxysList_filename = os.path.join(postanalysis_folder, 'class_2_chr2Zxys.pkl')\n",
    "class_2_cellInfoList_filename = os.path.join(postanalysis_folder, 'class_2_cellInfo.pkl')\n",
    "\n",
    "if not os.path.exists(class_2_chr2ZxysList_filename):\n",
    "    # calculate\n",
    "    class_2_chr2ZxysList = {_cls:[] for _cls in class_2_subclass.keys()}\n",
    "    class_2_cellInfoList = {_cls:[] for _cls in class_2_subclass.keys()}\n",
    "\n",
    "    for _subcls, _chr2ZxysList in subclass_2_chr2ZxysList.items():\n",
    "        _cellInfoList = subclass_2_cellInfoList[_subcls]\n",
    "        if _subcls in subclass_2_class:\n",
    "            class_2_chr2ZxysList[subclass_2_class[_subcls]].extend(_chr2ZxysList)\n",
    "            class_2_cellInfoList[subclass_2_class[_subcls]].extend(_cellInfoList)\n",
    "    # plot stats\n",
    "    for _cls in class_2_chr2ZxysList:\n",
    "        print(_cls, len(class_2_chr2ZxysList[_cls]))\n",
    "    # save\n",
    "    print(f\"Writing to file: {class_2_chr2ZxysList_filename}\")\n",
    "    pickle.dump(class_2_chr2ZxysList, open(class_2_chr2ZxysList_filename, 'wb'))\n",
    "    print(f\"Writing to file: {class_2_cellInfoList_filename}\")\n",
    "    pickle.dump(class_2_cellInfoList, open(class_2_cellInfoList_filename, 'wb'))\n",
    "else:\n",
    "    print(\"Loading\")\n",
    "    class_2_chr2ZxysList = pickle.load(open(class_2_chr2ZxysList_filename, 'rb'))\n",
    "    class_2_cellInfoList = pickle.load(open(class_2_cellInfoList_filename, 'rb'))"
   ]
  },
  {
   "cell_type": "markdown",
   "id": "2d2a9ed7",
   "metadata": {},
   "source": [
    "### class to median"
   ]
  },
  {
   "cell_type": "code",
   "execution_count": 45,
   "id": "f78c8bd5",
   "metadata": {},
   "outputs": [
    {
     "name": "stdout",
     "output_type": "stream",
     "text": [
      "\\\\10.245.74.158\\Chromatin_NAS_8\\Analyzed_data\\MouseBrain_PostAnalysis_0920\\class_2_medianDict.pkl\n",
      "-- preparing chr_2_zxys from 13719 cells in 13.284s.\n",
      "-- summarize 231 inter-chr distances with 32 threads in 1152.696s.\n",
      "-- preparing chr_2_zxys from 4966 cells in 1.857s.\n",
      "-- summarize 231 inter-chr distances with 32 threads in 430.333s.\n",
      "-- preparing chr_2_zxys from 3822 cells in 2.096s.\n",
      "-- summarize 231 inter-chr distances with 32 threads in 297.629s.\n",
      "-- preparing chr_2_zxys from 2891 cells in 1.539s.\n",
      "-- summarize 231 inter-chr distances with 32 threads in 256.843s.\n",
      "-- preparing chr_2_zxys from 1523 cells in 1.018s.\n",
      "-- summarize 231 inter-chr distances with 32 threads in 174.712s.\n",
      "-- preparing chr_2_zxys from 6333 cells in 4.469s.\n",
      "-- summarize 231 inter-chr distances with 32 threads in 828.681s.\n",
      "Saving to: \\\\10.245.74.158\\Chromatin_NAS_8\\Analyzed_data\\MouseBrain_PostAnalysis_0920\\class_2_medianDict.pkl\n"
     ]
    }
   ],
   "source": [
    "class_2_median_filename = os.path.join(postanalysis_folder, 'class_2_medianDict.pkl')\n",
    "print(class_2_median_filename)\n",
    "\n",
    "if os.path.exists(class_2_median_filename):\n",
    "    print(\"Loading\")\n",
    "    class_2_medianDict = np.load(class_2_median_filename, allow_pickle=True)\n",
    "else:\n",
    "    from ImageAnalysis3.structure_tools.distance import Chr2ZxysList_2_summaryDist_by_key,Chr2ZxysList_2_summaryDict\n",
    "    # calculate prob\n",
    "    class_2_medianDict = {}\n",
    "    for _class in class_2_chr2ZxysList:\n",
    "        class_2_medianDict[_class] = Chr2ZxysList_2_summaryDict(\n",
    "            class_2_chr2ZxysList[_class], \n",
    "            total_codebook=codebook, \n",
    "            num_threads=num_threads, verbose=True)\n",
    "    \n",
    "    print(f\"Saving to: {class_2_median_filename}\")\n",
    "    pickle.dump(class_2_medianDict, open(class_2_median_filename, 'wb'))"
   ]
  },
  {
   "cell_type": "code",
   "execution_count": null,
   "id": "fd05c10c",
   "metadata": {},
   "outputs": [],
   "source": []
  }
 ],
 "metadata": {
  "kernelspec": {
   "display_name": "ia3_postanalysis",
   "language": "python",
   "name": "ia3_postanalysis"
  },
  "language_info": {
   "codemirror_mode": {
    "name": "ipython",
    "version": 3
   },
   "file_extension": ".py",
   "mimetype": "text/x-python",
   "name": "python",
   "nbconvert_exporter": "python",
   "pygments_lexer": "ipython3",
   "version": "3.9.7"
  }
 },
 "nbformat": 4,
 "nbformat_minor": 5
}
