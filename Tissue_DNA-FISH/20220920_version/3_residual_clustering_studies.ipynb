{
 "cells": [
  {
   "cell_type": "markdown",
   "id": "e18dcfd8",
   "metadata": {},
   "source": [
    "# Workflow to study cell-type dependent structures\n",
    "\n",
    "by Pu Zheng\n",
    "\n",
    "2022.10.19"
   ]
  },
  {
   "cell_type": "code",
   "execution_count": 1,
   "id": "db0e888d",
   "metadata": {},
   "outputs": [
    {
     "name": "stdout",
     "output_type": "stream",
     "text": [
      "22472\n"
     ]
    }
   ],
   "source": [
    "%run \"..\\..\\Startup_py3.py\"\n",
    "sys.path.append(r\"..\\..\\..\\..\\Documents\")\n",
    "\n",
    "import ImageAnalysis3 as ia\n",
    "%matplotlib notebook\n",
    "\n",
    "from ImageAnalysis3 import *\n",
    "print(os.getpid())\n",
    "\n",
    "import h5py\n",
    "from ImageAnalysis3.classes import _allowed_kwds\n",
    "import ast"
   ]
  },
  {
   "cell_type": "code",
   "execution_count": 2,
   "id": "8f18f505",
   "metadata": {},
   "outputs": [],
   "source": [
    "# Required plotting setting\n",
    "%matplotlib inline\n",
    "import matplotlib\n",
    "matplotlib.rcParams['pdf.fonttype'] = 42\n",
    "import matplotlib.pyplot as plt\n",
    "plt.rc('font', family='serif')\n",
    "plt.rc('font', serif='Arial')\n",
    "\n",
    "from ImageAnalysis3.figure_tools import _single_col_width, _double_col_width, _font_size, _ticklabel_size,_ticklabel_width\n",
    "\n",
    "from matplotlib import cm\n",
    "#from matplotlib.colors import LogNorm\n",
    "from mpl_toolkits.axes_grid1 import make_axes_locatable\n",
    "\n",
    "import seaborn as sns\n",
    "sns.set_context(\"paper\", rc={\"font.size\":_font_size,\"axes.titlesize\":_font_size+1,\"axes.labelsize\":_font_size})   "
   ]
  },
  {
   "cell_type": "markdown",
   "id": "240b280e",
   "metadata": {},
   "source": [
    "## 0.1 Folders"
   ]
  },
  {
   "cell_type": "code",
   "execution_count": 3,
   "id": "d6a1b3ba",
   "metadata": {},
   "outputs": [
    {
     "name": "stdout",
     "output_type": "stream",
     "text": [
      "use postanalysis_folder: \\\\10.245.74.158\\Chromatin_NAS_8\\Analyzed_data\\MouseBrain_PostAnalysis_0920\n",
      "\\\\10.245.74.158\\Chromatin_NAS_8\\Analyzed_data\\MouseBrain_PostAnalysis_0920\\Figures_0920\n",
      "use figure_folder: \\\\10.245.74.158\\Chromatin_NAS_8\\Analyzed_data\\MouseBrain_PostAnalysis_0920\\Figures_0920\n"
     ]
    }
   ],
   "source": [
    "postanalysis_folder = r'\\\\10.245.74.158\\Chromatin_NAS_8\\Analyzed_data\\MouseBrain_PostAnalysis_0920'\n",
    "# specifically for the first jupyter:\n",
    "if not os.path.exists(postanalysis_folder):\n",
    "    print(f\"create postanalysis_folder: {postanalysis_folder}\")\n",
    "    os.makedirs(postanalysis_folder)\n",
    "else:\n",
    "    print(f\"use postanalysis_folder: {postanalysis_folder}\")\n",
    "\n",
    "# figure folder    \n",
    "dark_mode = False\n",
    "if dark_mode:\n",
    "    figure_folder = os.path.join(postanalysis_folder, 'Figures_0920_dark')\n",
    "    plt.style.use('dark_background')\n",
    "else:\n",
    "    figure_folder = os.path.join(postanalysis_folder, 'Figures_0920')\n",
    "print(figure_folder)\n",
    "\n",
    "if not os.path.exists(figure_folder):\n",
    "    print(f\"create figure_folder: {figure_folder}\")\n",
    "    os.makedirs(figure_folder)\n",
    "else:\n",
    "    print(f\"use figure_folder: {figure_folder}\")"
   ]
  },
  {
   "cell_type": "code",
   "execution_count": 5,
   "id": "cf9458fe",
   "metadata": {},
   "outputs": [
    {
     "name": "stdout",
     "output_type": "stream",
     "text": [
      "Use: \\\\10.245.74.158\\Chromatin_NAS_8\\Analyzed_data\\MouseBrain_PostAnalysis_0920\\Figures_0920\\Median_distmap\n",
      "Create: \\\\10.245.74.158\\Chromatin_NAS_8\\Analyzed_data\\MouseBrain_PostAnalysis_0920\\Figures_0920\\residual_analysis\n"
     ]
    }
   ],
   "source": [
    "median_figure_folder = os.path.join(figure_folder, 'Median_distmap')\n",
    "\n",
    "if not os.path.exists(median_figure_folder):\n",
    "    print(f\"Create: {median_figure_folder}\")\n",
    "    os.makedirs(median_figure_folder)\n",
    "else:\n",
    "    print(f\"Use: {median_figure_folder}\")\n",
    "\n",
    "residual_figure_folder = os.path.join(figure_folder, 'residual_analysis')\n",
    "\n",
    "if not os.path.exists(residual_figure_folder):\n",
    "    print(f\"Create: {residual_figure_folder}\")\n",
    "    os.makedirs(residual_figure_folder)\n",
    "else:\n",
    "    print(f\"Use: {residual_figure_folder}\")"
   ]
  },
  {
   "cell_type": "code",
   "execution_count": null,
   "id": "c622ac6c",
   "metadata": {},
   "outputs": [],
   "source": []
  }
 ],
 "metadata": {
  "kernelspec": {
   "display_name": "ia3_postanalysis",
   "language": "python",
   "name": "ia3_postanalysis"
  },
  "language_info": {
   "codemirror_mode": {
    "name": "ipython",
    "version": 3
   },
   "file_extension": ".py",
   "mimetype": "text/x-python",
   "name": "python",
   "nbconvert_exporter": "python",
   "pygments_lexer": "ipython3",
   "version": "3.9.7"
  }
 },
 "nbformat": 4,
 "nbformat_minor": 5
}
