{
 "cells": [
  {
   "cell_type": "markdown",
   "id": "d668ffa9",
   "metadata": {},
   "source": [
    "# Generate Hi-C matrices from GSE99363\n",
    "\n",
    "by Shiwei Liu and Pu Zheng\n",
    "\n",
    "2022.05.03\n",
    "\n",
    "Data from: https://www.ncbi.nlm.nih.gov/geo/query/acc.cgi?acc=GSE99363\n",
    "\n",
    "Citation: https://www.nature.com/articles/ng.3906"
   ]
  },
  {
   "cell_type": "code",
   "execution_count": 1,
   "id": "4df93d68",
   "metadata": {},
   "outputs": [
    {
     "name": "stdout",
     "output_type": "stream",
     "text": [
      "9688\n"
     ]
    }
   ],
   "source": [
    "%run \"..\\..\\Startup_py3.py\"\n",
    "sys.path.append(r\"..\\..\\..\\..\\Documents\")\n",
    "\n",
    "import ImageAnalysis3 as ia\n",
    "%matplotlib notebook\n",
    "\n",
    "from ImageAnalysis3 import *\n",
    "print(os.getpid())\n",
    "\n",
    "import h5py\n",
    "from ImageAnalysis3.classes import _allowed_kwds\n",
    "import ast"
   ]
  },
  {
   "cell_type": "markdown",
   "id": "3abd69ae",
   "metadata": {},
   "source": [
    "# 0. load Hi-C data"
   ]
  },
  {
   "cell_type": "markdown",
   "id": "aa5d0627",
   "metadata": {},
   "source": [
    "## 0.1 load HiC raw counts"
   ]
  },
  {
   "cell_type": "code",
   "execution_count": 3,
   "id": "41e5a09b",
   "metadata": {},
   "outputs": [],
   "source": [
    "hic_raw_folder = r'\\\\10.245.74.212\\Chromatin_NAS_3\\HiC_cortex'\n",
    "hic_raw_fl = os.path.join(hic_raw_folder, 'hic_raw_map.npy')"
   ]
  },
  {
   "cell_type": "markdown",
   "id": "33d7b1ee",
   "metadata": {},
   "source": [
    "## 0.2 load HiC raw regions"
   ]
  },
  {
   "cell_type": "code",
   "execution_count": 4,
   "id": "1fe3dafa",
   "metadata": {},
   "outputs": [
    {
     "name": "stdout",
     "output_type": "stream",
     "text": [
      "(250885, 4)\n",
      "Wall time: 2.81 s\n"
     ]
    }
   ],
   "source": [
    "%%time\n",
    "# If load hic raw map (# n-by-3 array as bin-i; bin-j; contact count)\n",
    "hic_raw_contacts = np.load(hic_raw_fl) # array as bin-i; bin-j; contact count\n",
    "\n",
    "# If load hic region annotation (# n-by-4 array as chr;start;end;bin-name)\n",
    "hic_reg_savename = os.path.join(hic_raw_folder, \"hic_reg_annotation.npy\")\n",
    "hic_raw_regs = np.load(hic_reg_savename)\n",
    "\n",
    "print(hic_raw_regs.shape)  # array as chr;start;end;bin-name"
   ]
  },
  {
   "cell_type": "markdown",
   "id": "8edb3043",
   "metadata": {},
   "source": [
    "* This raw regions have bug in sorting, therefore add extra layer of filtering"
   ]
  },
  {
   "cell_type": "code",
   "execution_count": 5,
   "id": "3a782c69",
   "metadata": {},
   "outputs": [],
   "source": [
    "hic_sel_regs = []\n",
    "curr_reg = 0\n",
    "curr_start = -1\n",
    "for _reg_info in hic_raw_regs:\n",
    "    #print(_reg_info[-1], curr_reg)\n",
    "    if _reg_info[-1] != curr_reg and _reg_info[1] > curr_start:\n",
    "        hic_sel_regs.append(_reg_info)\n",
    "        curr_reg = _reg_info[-1]\n",
    "        curr_start = _reg_info[1]\n",
    "    elif _reg_info[-1] != curr_reg and hic_sel_regs[-1][0] != _reg_info[0]:\n",
    "        hic_sel_regs.append(_reg_info)\n",
    "        curr_reg = _reg_info[-1]\n",
    "        curr_start = _reg_info[1]\n",
    "    else:\n",
    "        continue\n",
    "hic_sel_regs = np.array(hic_sel_regs)\n",
    "# Convert into pandas.DataFrame\n",
    "import pandas as pd\n",
    "hic_reg_df = pd.DataFrame(hic_sel_regs.astype(np.int32),columns=['chr','start','end','name'])"
   ]
  },
  {
   "cell_type": "code",
   "execution_count": 7,
   "id": "959e5737",
   "metadata": {},
   "outputs": [
    {
     "name": "stdout",
     "output_type": "stream",
     "text": [
      "1\n",
      "(9774, 9774)\n"
     ]
    },
    {
     "name": "stderr",
     "output_type": "stream",
     "text": [
      "100%|██████████████████████████████████████████████████████████████████| 37155393/37155393 [1:07:47<00:00, 9134.55it/s]\n"
     ]
    },
    {
     "name": "stdout",
     "output_type": "stream",
     "text": [
      "2\n",
      "(9106, 9106)\n"
     ]
    },
    {
     "name": "stderr",
     "output_type": "stream",
     "text": [
      "100%|█████████████████████████████████████████████████████████████████| 37155393/37155393 [1:00:38<00:00, 10212.39it/s]\n"
     ]
    },
    {
     "name": "stdout",
     "output_type": "stream",
     "text": [
      "3\n",
      "(8002, 8002)\n"
     ]
    },
    {
     "name": "stderr",
     "output_type": "stream",
     "text": [
      "100%|███████████████████████████████████████████████████████████████████| 37155393/37155393 [43:11<00:00, 14337.38it/s]\n"
     ]
    },
    {
     "name": "stdout",
     "output_type": "stream",
     "text": [
      "4\n",
      "(7826, 7826)\n"
     ]
    },
    {
     "name": "stderr",
     "output_type": "stream",
     "text": [
      "100%|███████████████████████████████████████████████████████████████████| 37155393/37155393 [42:14<00:00, 14657.23it/s]\n"
     ]
    },
    {
     "name": "stdout",
     "output_type": "stream",
     "text": [
      "5\n",
      "(7592, 7592)\n"
     ]
    },
    {
     "name": "stderr",
     "output_type": "stream",
     "text": [
      "100%|███████████████████████████████████████████████████████████████████| 37155393/37155393 [38:56<00:00, 15898.87it/s]\n"
     ]
    },
    {
     "name": "stdout",
     "output_type": "stream",
     "text": [
      "6\n",
      "(7487, 7487)\n"
     ]
    },
    {
     "name": "stderr",
     "output_type": "stream",
     "text": [
      "100%|███████████████████████████████████████████████████████████████████| 37155393/37155393 [39:06<00:00, 15833.15it/s]\n"
     ]
    },
    {
     "name": "stdout",
     "output_type": "stream",
     "text": [
      "7\n",
      "(7273, 7273)\n"
     ]
    },
    {
     "name": "stderr",
     "output_type": "stream",
     "text": [
      "100%|███████████████████████████████████████████████████████████████████| 37155393/37155393 [44:39<00:00, 13866.98it/s]\n"
     ]
    },
    {
     "name": "stdout",
     "output_type": "stream",
     "text": [
      "8\n",
      "(6471, 6471)\n"
     ]
    },
    {
     "name": "stderr",
     "output_type": "stream",
     "text": [
      "100%|███████████████████████████████████████████████████████████████████| 37155393/37155393 [28:54<00:00, 21416.22it/s]\n"
     ]
    },
    {
     "name": "stdout",
     "output_type": "stream",
     "text": [
      "9\n",
      "(6230, 6230)\n"
     ]
    },
    {
     "name": "stderr",
     "output_type": "stream",
     "text": [
      "100%|███████████████████████████████████████████████████████████████████| 37155393/37155393 [27:42<00:00, 22347.26it/s]\n"
     ]
    },
    {
     "name": "stdout",
     "output_type": "stream",
     "text": [
      "10\n",
      "(6535, 6535)\n"
     ]
    },
    {
     "name": "stderr",
     "output_type": "stream",
     "text": [
      "100%|███████████████████████████████████████████████████████████████████| 37155393/37155393 [28:42<00:00, 21573.27it/s]\n"
     ]
    },
    {
     "name": "stdout",
     "output_type": "stream",
     "text": [
      "11\n",
      "(6105, 6105)\n"
     ]
    },
    {
     "name": "stderr",
     "output_type": "stream",
     "text": [
      "100%|███████████████████████████████████████████████████████████████████| 37155393/37155393 [25:42<00:00, 24094.11it/s]\n"
     ]
    },
    {
     "name": "stdout",
     "output_type": "stream",
     "text": [
      "12\n",
      "(6007, 6007)\n"
     ]
    },
    {
     "name": "stderr",
     "output_type": "stream",
     "text": [
      "100%|███████████████████████████████████████████████████████████████████| 37155393/37155393 [23:58<00:00, 25834.09it/s]\n"
     ]
    },
    {
     "name": "stdout",
     "output_type": "stream",
     "text": [
      "13\n",
      "(6022, 6022)\n"
     ]
    },
    {
     "name": "stderr",
     "output_type": "stream",
     "text": [
      "100%|███████████████████████████████████████████████████████████████████| 37155393/37155393 [23:56<00:00, 25863.52it/s]\n"
     ]
    },
    {
     "name": "stdout",
     "output_type": "stream",
     "text": [
      "14\n",
      "(6246, 6246)\n"
     ]
    },
    {
     "name": "stderr",
     "output_type": "stream",
     "text": [
      "100%|███████████████████████████████████████████████████████████████████| 37155393/37155393 [24:29<00:00, 25290.14it/s]\n"
     ]
    },
    {
     "name": "stdout",
     "output_type": "stream",
     "text": [
      "15\n",
      "(5203, 5203)\n"
     ]
    },
    {
     "name": "stderr",
     "output_type": "stream",
     "text": [
      "100%|███████████████████████████████████████████████████████████████████| 37155393/37155393 [17:37<00:00, 35144.46it/s]\n"
     ]
    },
    {
     "name": "stdout",
     "output_type": "stream",
     "text": [
      "16\n",
      "(4911, 4911)\n"
     ]
    },
    {
     "name": "stderr",
     "output_type": "stream",
     "text": [
      "100%|███████████████████████████████████████████████████████████████████| 37155393/37155393 [15:26<00:00, 40112.91it/s]\n"
     ]
    },
    {
     "name": "stdout",
     "output_type": "stream",
     "text": [
      "17\n",
      "(4750, 4750)\n"
     ]
    },
    {
     "name": "stderr",
     "output_type": "stream",
     "text": [
      "100%|███████████████████████████████████████████████████████████████████| 37155393/37155393 [16:25<00:00, 37686.74it/s]\n"
     ]
    },
    {
     "name": "stdout",
     "output_type": "stream",
     "text": [
      "18\n",
      "(4536, 4536)\n"
     ]
    },
    {
     "name": "stderr",
     "output_type": "stream",
     "text": [
      "100%|███████████████████████████████████████████████████████████████████| 37155393/37155393 [13:07<00:00, 47190.93it/s]\n"
     ]
    },
    {
     "name": "stdout",
     "output_type": "stream",
     "text": [
      "19\n",
      "(3072, 3072)\n"
     ]
    },
    {
     "name": "stderr",
     "output_type": "stream",
     "text": [
      "100%|███████████████████████████████████████████████████████████████████| 37155393/37155393 [06:41<00:00, 92652.90it/s]\n"
     ]
    },
    {
     "name": "stdout",
     "output_type": "stream",
     "text": [
      "20\n",
      "(4588, 4588)\n"
     ]
    },
    {
     "name": "stderr",
     "output_type": "stream",
     "text": [
      "100%|██████████████████████████████████████████████████████████████████| 37155393/37155393 [01:18<00:00, 474714.04it/s]\n"
     ]
    }
   ],
   "source": [
    "from tqdm import tqdm\n",
    "chr_2_contact = {}\n",
    "chr_2_regDf = {}\n",
    "for _chr in np.unique(hic_reg_df['chr']):\n",
    "    # select specific chr\n",
    "    print(_chr)\n",
    "    _chr_reg_df = hic_reg_df.loc[hic_reg_df['chr']==_chr].sort_values('start')\n",
    "    _chr_contacts = np.zeros([len(_chr_reg_df),len(_chr_reg_df)], dtype=np.int32)\n",
    "    print(_chr_contacts.shape)\n",
    "    _chr_reg_lst = list(_chr_reg_df['name'].values)\n",
    "    _chr_reg_min, _chr_reg_max = np.min(_chr_reg_lst), np.max(_chr_reg_lst)\n",
    "    # loop through contacts\n",
    "    for _bi, _bj, _ct in tqdm(hic_raw_contacts):\n",
    "        if _bi >= _chr_reg_min and _bi <= _chr_reg_max and _bj >= _chr_reg_min and _bj <= _chr_reg_max:\n",
    "            _bi, _bj = int(_bi),int(_bj)\n",
    "            if _bi in _chr_reg_lst and _bj in _chr_reg_lst:\n",
    "                _chr_contacts[_chr_reg_lst.index(_bi), _chr_reg_lst.index(_bj)] += _ct\n",
    "    chr_2_contact[_chr] = _chr_contacts\n",
    "    chr_2_regDf[_chr] = _chr_reg_df"
   ]
  },
  {
   "cell_type": "code",
   "execution_count": null,
   "id": "db105da8",
   "metadata": {},
   "outputs": [],
   "source": []
  },
  {
   "cell_type": "code",
   "execution_count": null,
   "id": "37495e43",
   "metadata": {},
   "outputs": [],
   "source": [
    "# Save regions"
   ]
  },
  {
   "cell_type": "code",
   "execution_count": null,
   "id": "f73df1f1",
   "metadata": {},
   "outputs": [],
   "source": [
    "hic_reg_df.to_csv(os.path.join(hic_raw_folder, 'filtered_regions.csv'), \n",
    "                  index=False)"
   ]
  }
 ],
 "metadata": {
  "kernelspec": {
   "display_name": "ia3_postanalysis",
   "language": "python",
   "name": "ia3_postanalysis"
  },
  "language_info": {
   "codemirror_mode": {
    "name": "ipython",
    "version": 3
   },
   "file_extension": ".py",
   "mimetype": "text/x-python",
   "name": "python",
   "nbconvert_exporter": "python",
   "pygments_lexer": "ipython3",
   "version": "3.9.7"
  }
 },
 "nbformat": 4,
 "nbformat_minor": 5
}
