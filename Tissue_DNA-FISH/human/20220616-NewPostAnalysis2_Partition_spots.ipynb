{
 "cells": [
  {
   "cell_type": "markdown",
   "id": "adae19b9",
   "metadata": {},
   "source": [
    "# Analysis of sequential DNA-MERFISH for SI14\n",
    "\n",
    "by Pu Zheng\n",
    "\n",
    "2022.05.30\n",
    "\n",
    "analysis for dataset:\n",
    "\n",
    "\\\\10.245.74.158\\Chromatin_NAS_7\\20220616-hSTG0308_SI14_from_0601\n"
   ]
  },
  {
   "cell_type": "code",
   "execution_count": 1,
   "id": "91426c50",
   "metadata": {},
   "outputs": [
    {
     "name": "stdout",
     "output_type": "stream",
     "text": [
      "9596\n"
     ]
    }
   ],
   "source": [
    "%run \"..\\..\\Startup_py3.py\"\n",
    "sys.path.append(r\"..\\..\\..\\..\\Documents\")\n",
    "\n",
    "import ImageAnalysis3 as ia\n",
    "%matplotlib notebook\n",
    "\n",
    "from ImageAnalysis3 import *\n",
    "print(os.getpid())\n",
    "\n",
    "import h5py\n",
    "from ImageAnalysis3.classes import _allowed_kwds\n",
    "import ast"
   ]
  },
  {
   "cell_type": "markdown",
   "id": "8426ec67",
   "metadata": {},
   "source": [
    "## 0.1 Folders"
   ]
  },
  {
   "cell_type": "code",
   "execution_count": 5,
   "id": "b50c6f14",
   "metadata": {},
   "outputs": [
    {
     "name": "stdout",
     "output_type": "stream",
     "text": [
      "204 fovs detected\n",
      "Use segmentation_folder: \\\\mendel\\Mendel_SSD1\\Pu_Temp\\20220616-hSTG0308_SI14_from_0601\\Segmentation\n",
      "Use cand_spot_folder: \\\\mendel\\Mendel_SSD1\\Pu_Temp\\20220616-hSTG0308_SI14_from_0601\\CandSpots\n",
      "Use decoder_folder: \\\\mendel\\Mendel_SSD1\\Pu_Temp\\20220616-hSTG0308_SI14_from_0601\\Decoder\n"
     ]
    }
   ],
   "source": [
    "save_folder = r'\\\\mendel\\Mendel_SSD1\\Pu_Temp\\20220616-hSTG0308_SI14_from_0601'\n",
    "save_filenames = [os.path.join(save_folder, _fl) for _fl in os.listdir(save_folder)\n",
    "                  if _fl.split(os.extsep)[-1]=='hdf5']\n",
    "# extract fov_id\n",
    "save_fov_ids = [int(os.path.basename(_fl).split('.hdf5')[0].split('_')[-1]) for _fl in save_filenames]\n",
    "\n",
    "debug = False\n",
    "\n",
    "print(f\"{len(save_filenames)} fovs detected\")\n",
    "\n",
    "segmentation_folder = os.path.join(save_folder, 'Segmentation')\n",
    "if not os.path.exists(segmentation_folder):\n",
    "    os.makedirs(segmentation_folder)\n",
    "    print(f\"Creating segmentation_folder: {segmentation_folder}\")\n",
    "else:\n",
    "    print(f\"Use segmentation_folder: {segmentation_folder}\")\n",
    "\n",
    "cand_spot_folder = os.path.join(save_folder, 'CandSpots')\n",
    "if not os.path.exists(cand_spot_folder):\n",
    "    os.makedirs(cand_spot_folder)\n",
    "    print(f\"Creating cand_spot_folder: {cand_spot_folder}\")\n",
    "else:\n",
    "    print(f\"Use cand_spot_folder: {cand_spot_folder}\")\n",
    "\n",
    "decoder_folder = cand_spot_folder.replace('CandSpots', 'Decoder')\n",
    "if debug:\n",
    "    _version = 0\n",
    "    while os.path.exists(os.path.join(decoder_folder, f'v{_version}')):\n",
    "        _version += 1\n",
    "    decoder_folder = os.path.join(decoder_folder, f'v{_version}')\n",
    "if not os.path.exists(decoder_folder):\n",
    "    os.makedirs(decoder_folder)\n",
    "    print(f\"Creating decoder_folder: {decoder_folder}\")\n",
    "else:\n",
    "    print(f\"Use decoder_folder: {decoder_folder}\")"
   ]
  },
  {
   "cell_type": "code",
   "execution_count": 6,
   "id": "6075b97a",
   "metadata": {},
   "outputs": [],
   "source": [
    "pixel_sizes = np.array([250,108,108])\n",
    "single_im_size = np.array([50,2048,2048])"
   ]
  },
  {
   "cell_type": "raw",
   "id": "764182f5",
   "metadata": {},
   "source": [
    "save_filenames = save_filenames[:160]\n",
    "save_fov_ids = save_fov_ids[:160]"
   ]
  },
  {
   "cell_type": "markdown",
   "id": "dff976f3",
   "metadata": {},
   "source": [
    "# 1. Partition DNA-MERFISH spots"
   ]
  },
  {
   "cell_type": "code",
   "execution_count": 7,
   "id": "8c3705ff",
   "metadata": {},
   "outputs": [],
   "source": [
    "from ImageAnalysis3.classes.partition_spots import Spots_Partition\n",
    "from ImageAnalysis3.classes.preprocess import Spots3D\n",
    "from ImageAnalysis3.figure_tools import plot_partition\n",
    "import pandas as pd"
   ]
  },
  {
   "cell_type": "code",
   "execution_count": 8,
   "id": "477c95dd",
   "metadata": {},
   "outputs": [],
   "source": [
    "from ImageAnalysis3.segmentation_tools.cell import Align_Segmentation\n",
    "import ImageAnalysis3.io_tools.spots "
   ]
  },
  {
   "cell_type": "code",
   "execution_count": 9,
   "id": "a3c55bfc",
   "metadata": {},
   "outputs": [],
   "source": [
    "search_radius = 3\n",
    "overwrite_cand_spots = False\n",
    "add_relabel_spots = False\n",
    "data_type = 'combo' # 'combo'\n",
    "#_total_seg_save_file defined in 2.3\n",
    "if not os.path.exists(os.path.join(cand_spot_folder, data_type)):\n",
    "    print(os.path.join(cand_spot_folder, data_type))\n",
    "    os.makedirs(os.path.join(cand_spot_folder, data_type))\n",
    "# load microscope.json\n",
    "dna_microscope_file = r'\\\\mendel\\pu_documents\\Merfish_analysis\\Merfish_Analysis_Scripts\\merlin_parameters\\microscope\\storm6_microscope.json'"
   ]
  },
  {
   "cell_type": "code",
   "execution_count": 10,
   "id": "2bf1ea60",
   "metadata": {
    "scrolled": true
   },
   "outputs": [
    {
     "name": "stdout",
     "output_type": "stream",
     "text": [
      "-- loading segmentation info from fov:161 into file: \\\\mendel\\Mendel_SSD1\\Pu_Temp\\20220616-hSTG0308_SI14_from_0601\\Segmentation\\Conv_zscan_161_Segmentation.hdf5\n",
      "-- loading segmentation info from fov:162 into file: \\\\mendel\\Mendel_SSD1\\Pu_Temp\\20220616-hSTG0308_SI14_from_0601\\Segmentation\\Conv_zscan_162_Segmentation.hdf5\n",
      "-- loading segmentation info from fov:163 into file: \\\\mendel\\Mendel_SSD1\\Pu_Temp\\20220616-hSTG0308_SI14_from_0601\\Segmentation\\Conv_zscan_163_Segmentation.hdf5\n",
      "-- loading segmentation info from fov:164 into file: \\\\mendel\\Mendel_SSD1\\Pu_Temp\\20220616-hSTG0308_SI14_from_0601\\Segmentation\\Conv_zscan_164_Segmentation.hdf5\n",
      "-- loading segmentation info from fov:165 into file: \\\\mendel\\Mendel_SSD1\\Pu_Temp\\20220616-hSTG0308_SI14_from_0601\\Segmentation\\Conv_zscan_165_Segmentation.hdf5\n",
      "-- loading segmentation info from fov:166 into file: \\\\mendel\\Mendel_SSD1\\Pu_Temp\\20220616-hSTG0308_SI14_from_0601\\Segmentation\\Conv_zscan_166_Segmentation.hdf5\n",
      "-- loading segmentation info from fov:167 into file: \\\\mendel\\Mendel_SSD1\\Pu_Temp\\20220616-hSTG0308_SI14_from_0601\\Segmentation\\Conv_zscan_167_Segmentation.hdf5\n",
      "-- loading segmentation info from fov:168 into file: \\\\mendel\\Mendel_SSD1\\Pu_Temp\\20220616-hSTG0308_SI14_from_0601\\Segmentation\\Conv_zscan_168_Segmentation.hdf5\n",
      "-- loading segmentation info from fov:169 into file: \\\\mendel\\Mendel_SSD1\\Pu_Temp\\20220616-hSTG0308_SI14_from_0601\\Segmentation\\Conv_zscan_169_Segmentation.hdf5\n",
      "-- loading segmentation info from fov:170 into file: \\\\mendel\\Mendel_SSD1\\Pu_Temp\\20220616-hSTG0308_SI14_from_0601\\Segmentation\\Conv_zscan_170_Segmentation.hdf5\n",
      "-- loading segmentation info from fov:171 into file: \\\\mendel\\Mendel_SSD1\\Pu_Temp\\20220616-hSTG0308_SI14_from_0601\\Segmentation\\Conv_zscan_171_Segmentation.hdf5\n",
      "-- loading segmentation info from fov:172 into file: \\\\mendel\\Mendel_SSD1\\Pu_Temp\\20220616-hSTG0308_SI14_from_0601\\Segmentation\\Conv_zscan_172_Segmentation.hdf5\n",
      "-- loading segmentation info from fov:173 into file: \\\\mendel\\Mendel_SSD1\\Pu_Temp\\20220616-hSTG0308_SI14_from_0601\\Segmentation\\Conv_zscan_173_Segmentation.hdf5\n",
      "-- loading segmentation info from fov:174 into file: \\\\mendel\\Mendel_SSD1\\Pu_Temp\\20220616-hSTG0308_SI14_from_0601\\Segmentation\\Conv_zscan_174_Segmentation.hdf5\n",
      "-- loading segmentation info from fov:175 into file: \\\\mendel\\Mendel_SSD1\\Pu_Temp\\20220616-hSTG0308_SI14_from_0601\\Segmentation\\Conv_zscan_175_Segmentation.hdf5\n",
      "-- loading segmentation info from fov:176 into file: \\\\mendel\\Mendel_SSD1\\Pu_Temp\\20220616-hSTG0308_SI14_from_0601\\Segmentation\\Conv_zscan_176_Segmentation.hdf5\n",
      "-- loading segmentation info from fov:177 into file: \\\\mendel\\Mendel_SSD1\\Pu_Temp\\20220616-hSTG0308_SI14_from_0601\\Segmentation\\Conv_zscan_177_Segmentation.hdf5\n",
      "-- loading segmentation info from fov:178 into file: \\\\mendel\\Mendel_SSD1\\Pu_Temp\\20220616-hSTG0308_SI14_from_0601\\Segmentation\\Conv_zscan_178_Segmentation.hdf5\n",
      "-- loading segmentation info from fov:179 into file: \\\\mendel\\Mendel_SSD1\\Pu_Temp\\20220616-hSTG0308_SI14_from_0601\\Segmentation\\Conv_zscan_179_Segmentation.hdf5\n",
      "-- loading segmentation info from fov:180 into file: \\\\mendel\\Mendel_SSD1\\Pu_Temp\\20220616-hSTG0308_SI14_from_0601\\Segmentation\\Conv_zscan_180_Segmentation.hdf5\n",
      "-- loading segmentation info from fov:181 into file: \\\\mendel\\Mendel_SSD1\\Pu_Temp\\20220616-hSTG0308_SI14_from_0601\\Segmentation\\Conv_zscan_181_Segmentation.hdf5\n",
      "-- loading segmentation info from fov:182 into file: \\\\mendel\\Mendel_SSD1\\Pu_Temp\\20220616-hSTG0308_SI14_from_0601\\Segmentation\\Conv_zscan_182_Segmentation.hdf5\n",
      "-- loading segmentation info from fov:183 into file: \\\\mendel\\Mendel_SSD1\\Pu_Temp\\20220616-hSTG0308_SI14_from_0601\\Segmentation\\Conv_zscan_183_Segmentation.hdf5\n",
      "-- loading segmentation info from fov:184 into file: \\\\mendel\\Mendel_SSD1\\Pu_Temp\\20220616-hSTG0308_SI14_from_0601\\Segmentation\\Conv_zscan_184_Segmentation.hdf5\n",
      "-- loading segmentation info from fov:185 into file: \\\\mendel\\Mendel_SSD1\\Pu_Temp\\20220616-hSTG0308_SI14_from_0601\\Segmentation\\Conv_zscan_185_Segmentation.hdf5\n",
      "-- loading segmentation info from fov:186 into file: \\\\mendel\\Mendel_SSD1\\Pu_Temp\\20220616-hSTG0308_SI14_from_0601\\Segmentation\\Conv_zscan_186_Segmentation.hdf5\n",
      "-- loading segmentation info from fov:187 into file: \\\\mendel\\Mendel_SSD1\\Pu_Temp\\20220616-hSTG0308_SI14_from_0601\\Segmentation\\Conv_zscan_187_Segmentation.hdf5\n",
      "-- loading segmentation info from fov:188 into file: \\\\mendel\\Mendel_SSD1\\Pu_Temp\\20220616-hSTG0308_SI14_from_0601\\Segmentation\\Conv_zscan_188_Segmentation.hdf5\n",
      "-- loading segmentation info from fov:189 into file: \\\\mendel\\Mendel_SSD1\\Pu_Temp\\20220616-hSTG0308_SI14_from_0601\\Segmentation\\Conv_zscan_189_Segmentation.hdf5\n",
      "-- loading segmentation info from fov:190 into file: \\\\mendel\\Mendel_SSD1\\Pu_Temp\\20220616-hSTG0308_SI14_from_0601\\Segmentation\\Conv_zscan_190_Segmentation.hdf5\n",
      "-- loading segmentation info from fov:191 into file: \\\\mendel\\Mendel_SSD1\\Pu_Temp\\20220616-hSTG0308_SI14_from_0601\\Segmentation\\Conv_zscan_191_Segmentation.hdf5\n",
      "-- loading segmentation info from fov:192 into file: \\\\mendel\\Mendel_SSD1\\Pu_Temp\\20220616-hSTG0308_SI14_from_0601\\Segmentation\\Conv_zscan_192_Segmentation.hdf5\n",
      "-- loading segmentation info from fov:193 into file: \\\\mendel\\Mendel_SSD1\\Pu_Temp\\20220616-hSTG0308_SI14_from_0601\\Segmentation\\Conv_zscan_193_Segmentation.hdf5\n",
      "-- loading segmentation info from fov:194 into file: \\\\mendel\\Mendel_SSD1\\Pu_Temp\\20220616-hSTG0308_SI14_from_0601\\Segmentation\\Conv_zscan_194_Segmentation.hdf5\n",
      "-- loading segmentation info from fov:195 into file: \\\\mendel\\Mendel_SSD1\\Pu_Temp\\20220616-hSTG0308_SI14_from_0601\\Segmentation\\Conv_zscan_195_Segmentation.hdf5\n",
      "-- loading segmentation info from fov:196 into file: \\\\mendel\\Mendel_SSD1\\Pu_Temp\\20220616-hSTG0308_SI14_from_0601\\Segmentation\\Conv_zscan_196_Segmentation.hdf5\n",
      "-- loading segmentation info from fov:197 into file: \\\\mendel\\Mendel_SSD1\\Pu_Temp\\20220616-hSTG0308_SI14_from_0601\\Segmentation\\Conv_zscan_197_Segmentation.hdf5\n",
      "-- loading segmentation info from fov:198 into file: \\\\mendel\\Mendel_SSD1\\Pu_Temp\\20220616-hSTG0308_SI14_from_0601\\Segmentation\\Conv_zscan_198_Segmentation.hdf5\n",
      "-- loading segmentation info from fov:199 into file: \\\\mendel\\Mendel_SSD1\\Pu_Temp\\20220616-hSTG0308_SI14_from_0601\\Segmentation\\Conv_zscan_199_Segmentation.hdf5\n",
      "-- loading segmentation info from fov:200 into file: \\\\mendel\\Mendel_SSD1\\Pu_Temp\\20220616-hSTG0308_SI14_from_0601\\Segmentation\\Conv_zscan_200_Segmentation.hdf5\n",
      "-- loading segmentation info from fov:201 into file: \\\\mendel\\Mendel_SSD1\\Pu_Temp\\20220616-hSTG0308_SI14_from_0601\\Segmentation\\Conv_zscan_201_Segmentation.hdf5\n",
      "-- loading segmentation info from fov:202 into file: \\\\mendel\\Mendel_SSD1\\Pu_Temp\\20220616-hSTG0308_SI14_from_0601\\Segmentation\\Conv_zscan_202_Segmentation.hdf5\n",
      "-- loading segmentation info from fov:203 into file: \\\\mendel\\Mendel_SSD1\\Pu_Temp\\20220616-hSTG0308_SI14_from_0601\\Segmentation\\Conv_zscan_203_Segmentation.hdf5\n",
      "-- loading segmentation info from fov:204 into file: \\\\mendel\\Mendel_SSD1\\Pu_Temp\\20220616-hSTG0308_SI14_from_0601\\Segmentation\\Conv_zscan_204_Segmentation.hdf5\n",
      "44\n",
      "Wall time: 2min 32s\n"
     ]
    }
   ],
   "source": [
    "%%time\n",
    "_partition_args = []\n",
    "\n",
    "for _fov_id, _save_filename in zip(save_fov_ids, save_filenames):\n",
    "\n",
    "    _segmentation_savefile = os.path.join(segmentation_folder, \n",
    "        os.path.basename(_save_filename).replace('.hdf5', '_Segmentation.hdf5') )\n",
    "    # savename\n",
    "    _cand_spot_filename = os.path.join(cand_spot_folder, data_type, \n",
    "                                      os.path.basename(_save_filename).replace('.hdf5', f'_CandSpots.csv') )\n",
    "    if os.path.isfile(_cand_spot_filename) and not overwrite_cand_spots:\n",
    "        continue\n",
    "    # load segmentation label matrix and uids\n",
    "    _align_seg = Align_Segmentation('', '', _save_filename, '', dna_microscope_file, np.array([]))\n",
    "    _align_seg._load(_segmentation_savefile)\n",
    "    seg_label, fovcell_2_uid = _align_seg.dna_mask, _align_seg.fovcell_2_uid\n",
    "    # load spots\n",
    "    spots_list, combo_bits = ia.io_tools.spots.load_preprocess_spots(\n",
    "        _save_filename, data_type, None, pixel_sizes=pixel_sizes,\n",
    "    )\n",
    "    # add relabeled spots if specified.\n",
    "    if add_relabel_spots:\n",
    "        relabel_spots_list, relabel_bits = ia.io_tools.spots.load_preprocess_spots(\n",
    "            _save_filename, f'relabeled_{data_type}', None, pixel_sizes=pixel_sizes,\n",
    "        )\n",
    "        for _rspots, _rbit in zip(relabel_spots_list, relabel_bits):\n",
    "            _ind = list(combo_bits).index(_rbit)\n",
    "            _old_spots = spots_list[_ind]\n",
    "            # merge\n",
    "            _merged_spots = ia.io_tools.spots.merge_RelabelSpots(\n",
    "                _old_spots, _rspots, pixel_sizes=pixel_sizes,\n",
    "            )\n",
    "            # replace\n",
    "            spots_list[_ind] = _merged_spots\n",
    "    # \n",
    "    _all_spots = ia.io_tools.spots.merge_Spots3DList(spots_list, pixel_sizes=pixel_sizes)\n",
    "    # partition args\n",
    "    _args = (\n",
    "        _fov_id, \n",
    "        np.array(_all_spots), _all_spots.bits, _all_spots.channels,\n",
    "        seg_label, fovcell_2_uid,\n",
    "        dna_microscope_file,\n",
    "        search_radius, pixel_sizes,\n",
    "        True, \n",
    "        True, _cand_spot_filename,\n",
    "        True, 60, \n",
    "        False, True,\n",
    "    )\n",
    "    _partition_args.append(_args)\n",
    "    \n",
    "print(len(_partition_args))"
   ]
  },
  {
   "cell_type": "markdown",
   "id": "125400f1",
   "metadata": {},
   "source": [
    "## 1.1 parallel process"
   ]
  },
  {
   "cell_type": "code",
   "execution_count": 11,
   "id": "dff12ec4",
   "metadata": {
    "scrolled": true
   },
   "outputs": [
    {
     "name": "stdout",
     "output_type": "stream",
     "text": [
      "- Start multiprocessing spot partitioning finish in 197.356s. \n",
      "Wall time: 3min 17s\n"
     ]
    }
   ],
   "source": [
    "%%time\n",
    "import multiprocessing as mp\n",
    "# Multiprocessing\n",
    "print(f\"- Start multiprocessing spot partitioning\", end=' ')\n",
    "_start_time = time.time()\n",
    "with mp.Pool(12) as _partition_pool:\n",
    "    # start multiprocessing\n",
    "    _partition_pool.starmap(ia.classes.partition_spots.batch_partition_DNA_spots, \n",
    "                            _partition_args, chunksize=1)\n",
    "    # close multiprocessing\n",
    "    _partition_pool.close()\n",
    "    _partition_pool.join()\n",
    "    _partition_pool.terminate()\n",
    "print(f\"finish in {time.time()-_start_time:.3f}s. \")"
   ]
  },
  {
   "cell_type": "markdown",
   "id": "a2791af5",
   "metadata": {},
   "source": [
    "### 1.1.2 sequential version"
   ]
  },
  {
   "cell_type": "code",
   "execution_count": null,
   "id": "ba0bb4e3",
   "metadata": {},
   "outputs": [],
   "source": [
    "# sequential\n",
    "for _args in _partition_args:\n",
    "    ia.classes.partition_spots.batch_partition_DNA_spots(*_args)"
   ]
  },
  {
   "cell_type": "markdown",
   "id": "9a889c8b",
   "metadata": {},
   "source": [
    "# 2. Partition sequential genes"
   ]
  },
  {
   "cell_type": "code",
   "execution_count": 32,
   "id": "721d4858",
   "metadata": {},
   "outputs": [],
   "source": [
    "search_radius = 3\n",
    "overwrite_cand_spots = False\n",
    "add_relabel_spots = False\n",
    "data_type = 'unique'\n",
    "expect_spot_num = 4\n",
    "\n",
    "#_total_seg_save_file defined in 2.3\n",
    "if not os.path.exists(os.path.join(cand_spot_folder,data_type)):\n",
    "    print(os.path.join(cand_spot_folder,data_type))\n",
    "    os.makedirs(os.path.join(cand_spot_folder,data_type))\n",
    "# load microscope.json\n",
    "dna_microscope_file = r'\\\\mendel\\pu_documents\\Merfish_analysis\\Merfish_Analysis_Scripts\\merlin_parameters\\microscope\\storm6_microscope.json'"
   ]
  },
  {
   "cell_type": "code",
   "execution_count": null,
   "id": "91aaa1f4",
   "metadata": {
    "scrolled": true
   },
   "outputs": [],
   "source": [
    "%%time\n",
    "_partition_args = []\n",
    "\n",
    "for _fov_id, _save_filename in zip(save_fov_ids, save_filenames):\n",
    "\n",
    "    _segmentation_savefile = os.path.join(segmentation_folder, \n",
    "        os.path.basename(_save_filename).replace('.hdf5', '_Segmentation.hdf5') )\n",
    "    # savename\n",
    "    _cand_spot_filename = os.path.join(cand_spot_folder, data_type, \n",
    "                                      os.path.basename(_save_filename).replace('.hdf5', f'_CandSpots.csv') )\n",
    "    if os.path.isfile(_cand_spot_filename) and not overwrite_cand_spots:\n",
    "        continue\n",
    "    # load segmentation label matrix and uids\n",
    "    _align_seg = Align_Segmentation('', '', _save_filename, '', dna_microscope_file, np.array([]))\n",
    "    _align_seg._load(_segmentation_savefile)\n",
    "    seg_label, fovcell_2_uid = _align_seg.dna_mask, _align_seg.fovcell_2_uid\n",
    "    # load spots\n",
    "    spots_list, combo_bits = ia.io_tools.spots.load_preprocess_spots(\n",
    "        _save_filename, data_type, None, pixel_sizes=pixel_sizes,\n",
    "    )\n",
    "    # add relabeled spots if specified.\n",
    "    if add_relabel_spots:\n",
    "        relabel_spots_list, relabel_bits = ia.io_tools.spots.load_preprocess_spots(\n",
    "            _save_filename, f'relabeled_{data_type}', None, pixel_sizes=pixel_sizes,\n",
    "        )\n",
    "        for _rspots, _rbit in zip(relabel_spots_list, relabel_bits):\n",
    "            _ind = list(combo_bits).index(_rbit)\n",
    "            _old_spots = spots_list[_ind]\n",
    "            # merge\n",
    "            _merged_spots = ia.io_tools.spots.merge_RelabelSpots(\n",
    "                _old_spots, _rspots, pixel_sizes=pixel_sizes,\n",
    "            )\n",
    "            # replace\n",
    "            spots_list[_ind] = _merged_spots\n",
    "    # \n",
    "    _all_spots = ia.io_tools.spots.merge_Spots3DList(spots_list, pixel_sizes=pixel_sizes)\n",
    "    # partition args\n",
    "    _args = (\n",
    "        _fov_id, \n",
    "        np.array(_all_spots), _all_spots.bits, _all_spots.channels,\n",
    "        seg_label, fovcell_2_uid,\n",
    "        dna_microscope_file,\n",
    "        search_radius, pixel_sizes,\n",
    "        True, \n",
    "        True, _cand_spot_filename,\n",
    "        True, expect_spot_num, \n",
    "        False, True,\n",
    "    )\n",
    "    _partition_args.append(_args)\n",
    "    \n",
    "print(len(_partition_args))"
   ]
  },
  {
   "cell_type": "code",
   "execution_count": null,
   "id": "5ee7ed14",
   "metadata": {},
   "outputs": [],
   "source": [
    "%%time\n",
    "import multiprocessing as mp\n",
    "# Multiprocessing\n",
    "print(f\"- Start multiprocessing spot partitioning\", end=' ')\n",
    "_start_time = time.time()\n",
    "with mp.Pool(12) as _partition_pool:\n",
    "    # start multiprocessing\n",
    "    _partition_pool.starmap(ia.classes.partition_spots.batch_partition_DNA_spots, \n",
    "                            _partition_args, chunksize=1)\n",
    "    # close multiprocessing\n",
    "    _partition_pool.close()\n",
    "    _partition_pool.join()\n",
    "    _partition_pool.terminate()\n",
    "print(f\"finish in {time.time()-_start_time:.3f}s. \")"
   ]
  },
  {
   "cell_type": "markdown",
   "id": "0330dc05",
   "metadata": {},
   "source": [
    "### 1.2.2 sequential version"
   ]
  },
  {
   "cell_type": "code",
   "execution_count": null,
   "id": "eace98b3",
   "metadata": {},
   "outputs": [],
   "source": [
    "# sequential\n",
    "for _args in _partition_args:\n",
    "    ia.classes.partition_spots.batch_partition_DNA_spots(*_args)\n",
    "    break"
   ]
  },
  {
   "cell_type": "code",
   "execution_count": null,
   "id": "a5432657",
   "metadata": {},
   "outputs": [],
   "source": []
  },
  {
   "cell_type": "code",
   "execution_count": null,
   "id": "774bc4f7",
   "metadata": {},
   "outputs": [],
   "source": []
  }
 ],
 "metadata": {
  "kernelspec": {
   "display_name": "ia3_postanalysis",
   "language": "python",
   "name": "ia3_postanalysis"
  },
  "language_info": {
   "codemirror_mode": {
    "name": "ipython",
    "version": 3
   },
   "file_extension": ".py",
   "mimetype": "text/x-python",
   "name": "python",
   "nbconvert_exporter": "python",
   "pygments_lexer": "ipython3",
   "version": "3.9.7"
  }
 },
 "nbformat": 4,
 "nbformat_minor": 5
}
