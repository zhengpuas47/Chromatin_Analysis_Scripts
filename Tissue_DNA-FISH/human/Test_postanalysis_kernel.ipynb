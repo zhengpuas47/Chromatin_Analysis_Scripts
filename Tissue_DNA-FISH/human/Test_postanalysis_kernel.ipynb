{
 "cells": [
  {
   "cell_type": "code",
   "execution_count": 1,
   "id": "c6266965",
   "metadata": {},
   "outputs": [],
   "source": [
    "import os,glob,sys,time\n",
    "import shutil\n",
    "import numpy as np\n",
    "sys.path.append(r\"E:\\Users\\puzheng\\Documents\")\n",
    "import ImageAnalysis3 as ia3"
   ]
  },
  {
   "cell_type": "code",
   "execution_count": null,
   "id": "5b178a2f",
   "metadata": {},
   "outputs": [],
   "source": []
  }
 ],
 "metadata": {
  "kernelspec": {
   "display_name": "postanalysis",
   "language": "python",
   "name": "postanalysis"
  },
  "language_info": {
   "codemirror_mode": {
    "name": "ipython",
    "version": 3
   },
   "file_extension": ".py",
   "mimetype": "text/x-python",
   "name": "python",
   "nbconvert_exporter": "python",
   "pygments_lexer": "ipython3",
   "version": "3.9.12"
  }
 },
 "nbformat": 4,
 "nbformat_minor": 5
}
