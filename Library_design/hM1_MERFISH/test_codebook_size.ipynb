{
 "cells": [
  {
   "cell_type": "code",
   "execution_count": 1,
   "id": "88326319",
   "metadata": {},
   "outputs": [],
   "source": [
    "# Test the numbers of possible barcodes given the number of bits"
   ]
  },
  {
   "cell_type": "code",
   "execution_count": 2,
   "id": "2c886f01",
   "metadata": {},
   "outputs": [],
   "source": [
    "import matplotlib.pyplot as plt\n",
    "from MERFISH_probe_design.hamming_codes.generate_modified_hamming_code_stochastic import generate_modified_hamming_codes"
   ]
  },
  {
   "cell_type": "code",
   "execution_count": 3,
   "id": "1f7cb7b7",
   "metadata": {},
   "outputs": [
    {
     "name": "stdout",
     "output_type": "stream",
     "text": [
      "code_length = 4\n",
      "The best code set has 1 codes. The coverage variance is 0.0.\n",
      "-- Duration:  0.13600826263427734\n",
      "code_length = 5\n",
      "The best code set has 1 codes. The coverage variance is 0.16.\n",
      "-- Duration:  0.09154725074768066\n",
      "code_length = 6\n",
      "The best code set has 3 codes. The coverage variance is 0.0.\n",
      "-- Duration:  0.09515237808227539\n",
      "code_length = 7\n",
      "The best code set has 7 codes. The coverage variance is 0.0.\n",
      "-- Duration:  0.17664408683776855\n",
      "code_length = 8\n",
      "The best code set has 14 codes. The coverage variance is 0.0.\n",
      "-- Duration:  0.10425758361816406\n",
      "code_length = 9\n",
      "The best code set has 18 codes. The coverage variance is 0.0.\n",
      "-- Duration:  0.1148383617401123\n",
      "code_length = 10\n",
      "The best code set has 24 codes. The coverage variance is 0.24.\n",
      "-- Duration:  0.12900209426879883\n",
      "code_length = 11\n",
      "The best code set has 32 codes. The coverage variance is 0.4132231404958677.\n",
      "-- Duration:  0.1474151611328125\n",
      "code_length = 12\n",
      "The best code set has 41 codes. The coverage variance is 0.22222222222222224.\n",
      "-- Duration:  0.20957350730895996\n",
      "code_length = 13\n",
      "The best code set has 55 codes. The coverage variance is 0.07100591715976332.\n",
      "-- Duration:  0.25014734268188477\n",
      "code_length = 14\n",
      "The best code set has 77 codes. The coverage variance is 0.0.\n",
      "-- Duration:  0.3568882942199707\n",
      "code_length = 15\n",
      "The best code set has 105 codes. The coverage variance is 0.0.\n",
      "-- Duration:  0.49294400215148926\n",
      "code_length = 16\n",
      "The best code set has 140 codes. The coverage variance is 0.0.\n",
      "-- Duration:  0.7379369735717773\n",
      "code_length = 17\n",
      "The best code set has 130 codes. The coverage variance is 0.7128027681660899.\n",
      "-- Duration:  1.0630667209625244\n",
      "code_length = 18\n",
      "The best code set has 158 codes. The coverage variance is 0.7654320987654323.\n",
      "-- Duration:  1.523622751235962\n",
      "code_length = 19\n",
      "The best code set has 188 codes. The coverage variance is 0.9806094182825487.\n",
      "-- Duration:  2.2260777950286865\n",
      "code_length = 20\n",
      "The best code set has 219 codes. The coverage variance is 1.26.\n",
      "-- Duration:  3.0485711097717285\n",
      "code_length = 21\n",
      "The best code set has 261 codes. The coverage variance is 1.9183673469387752.\n",
      "-- Duration:  4.415357351303101\n",
      "code_length = 22\n",
      "The best code set has 295 codes. The coverage variance is 1.0495867768595044.\n",
      "-- Duration:  5.810070037841797\n",
      "code_length = 23\n",
      "The best code set has 347 codes. The coverage variance is 2.4877126654064274.\n",
      "-- Duration:  8.187739610671997\n",
      "code_length = 24\n",
      "The best code set has 394 codes. The coverage variance is 1.972222222222222.\n",
      "-- Duration:  10.835898160934448\n",
      "code_length = 25\n",
      "The best code set has 448 codes. The coverage variance is 2.2176.\n",
      "-- Duration:  14.506551027297974\n",
      "code_length = 26\n",
      "The best code set has 518 codes. The coverage variance is 1.136094674556213.\n",
      "-- Duration:  19.334665060043335\n",
      "code_length = 27\n",
      "The best code set has 606 codes. The coverage variance is 0.39506172839506176.\n",
      "-- Duration:  25.13841152191162\n",
      "code_length = 28\n",
      "The best code set has 707 codes. The coverage variance is 0.0.\n",
      "-- Duration:  32.89011240005493\n",
      "code_length = 29\n",
      "The best code set has 819 codes. The coverage variance is 0.03329369797859691.\n",
      "-- Duration:  42.56334400177002\n",
      "code_length = 30\n",
      "The best code set has 945 codes. The coverage variance is 0.0.\n",
      "-- Duration:  53.4123911857605\n",
      "code_length = 31\n",
      "The best code set has 1085 codes. The coverage variance is 0.0.\n",
      "-- Duration:  67.23372602462769\n",
      "code_length = 32\n",
      "The best code set has 1240 codes. The coverage variance is 0.0.\n",
      "-- Duration:  86.01482343673706\n",
      "code_length = 33\n",
      "The best code set has 1093 codes. The coverage variance is 4.85583103764922.\n",
      "-- Duration:  108.83543467521667\n",
      "code_length = 34\n",
      "The best code set has 1194 codes. The coverage variance is 3.1314878892733566.\n",
      "-- Duration:  134.70893383026123\n",
      "code_length = 35\n",
      "The best code set has 1314 codes. The coverage variance is 5.113469387755103.\n",
      "-- Duration:  162.95028853416443\n",
      "code_length = 36\n",
      "The best code set has 1433 codes. The coverage variance is 4.228395061728396.\n",
      "-- Duration:  264.963844537735\n",
      "code_length = 37\n",
      "The best code set has 1567 codes. The coverage variance is 5.808619430241052.\n",
      "-- Duration:  242.95978927612305\n",
      "code_length = 38\n",
      "The best code set has 1704 codes. The coverage variance is 4.232686980609418.\n",
      "-- Duration:  296.9048023223877\n",
      "code_length = 39\n",
      "The best code set has 1849 codes. The coverage variance is 6.332675871137412.\n",
      "-- Duration:  355.90347242355347\n",
      "code_length = 40\n",
      "The best code set has 1996 codes. The coverage variance is 5.639999999999999.\n",
      "-- Duration:  431.52912163734436\n",
      "code_length = 41\n",
      "The best code set has 2155 codes. The coverage variance is 5.550267697798929.\n",
      "-- Duration:  510.87654542922974\n",
      "code_length = 42\n",
      "The best code set has 2326 codes. The coverage variance is 5.678004535147393.\n",
      "-- Duration:  1053.9112236499786\n"
     ]
    }
   ],
   "source": [
    "code_lengths = list(range(4, 43))\n",
    "barcode_nums = []\n",
    "\n",
    "for code_length in code_lengths:\n",
    "    print(f'code_length = {code_length}')\n",
    "    code_list = generate_modified_hamming_codes(code_length, 4, 4, n_threads=36, verbose=False)\n",
    "    barcode_nums.append(len(code_list))"
   ]
  },
  {
   "cell_type": "code",
   "execution_count": 4,
   "id": "d90efa8d",
   "metadata": {},
   "outputs": [
    {
     "data": {
      "image/png": "[encoded data removed]",
      "text/plain": [
       "<Figure size 432x288 with 1 Axes>"
      ]
     },
     "metadata": {
      "needs_background": "light"
     },
     "output_type": "display_data"
    }
   ],
   "source": [
    "plt.scatter(code_lengths, barcode_nums)\n",
    "plt.show()"
   ]
  }
 ],
 "metadata": {
  "kernelspec": {
   "display_name": "Python 3",
   "language": "python",
   "name": "python3"
  },
  "language_info": {
   "codemirror_mode": {
    "name": "ipython",
    "version": 3
   },
   "file_extension": ".py",
   "mimetype": "text/x-python",
   "name": "python",
   "nbconvert_exporter": "python",
   "pygments_lexer": "ipython3",
   "version": "3.8.10"
  }
 },
 "nbformat": 4,
 "nbformat_minor": 5
}
