{
 "cells": [
  {
   "cell_type": "markdown",
   "metadata": {},
   "source": [
    "# Merge probes for CTP-10 Aire\n",
    "\n",
    "There are 3 different sources:\n",
    "1. Aire TSSs\n",
    "2. Aire intronic RNA\n",
    "3. selected promoter enhancer pairs (3, 10kb sequential)"
   ]
  },
  {
   "cell_type": "code",
   "execution_count": 5,
   "metadata": {
    "ExecuteTime": {
     "end_time": "2019-07-04T01:25:30.670956Z",
     "start_time": "2019-07-04T01:25:27.238400Z"
    }
   },
   "outputs": [
    {
     "name": "stdout",
     "output_type": "stream",
     "text": [
      "31000\n"
     ]
    }
   ],
   "source": [
    "%run \"..\\..\\Startup_py3.py\"\n",
    "sys.path.append(r\"..\\..\\..\\..\\Documents\")\n",
    "\n",
    "import ImageAnalysis3\n",
    "from ImageAnalysis3 import get_img_info, visual_tools, corrections#, library_tools\n",
    "\n",
    "#from ImageAnalysis3.library_tools import LibraryDesigner as ld\n",
    "#from ImageAnalysis3.library_tools import LibraryTools\n",
    "\n",
    "%matplotlib notebook\n",
    "print(os.getpid())\n",
    "\n",
    "# biopython for SeqRecord\n",
    "from Bio import SeqIO\n",
    "from Bio.Seq import Seq\n",
    "from Bio.SeqRecord import SeqRecord\n",
    "\n",
    "# blast\n",
    "from Bio.Blast.Applications import NcbiblastnCommandline\n",
    "from Bio.Blast import NCBIXML \n",
    "#import ImageAnalysis3.library_tools.quality_check as qc"
   ]
  },
  {
   "cell_type": "code",
   "execution_count": 6,
   "metadata": {
    "ExecuteTime": {
     "end_time": "2019-07-04T01:31:26.837387Z",
     "start_time": "2019-07-04T01:31:26.523156Z"
    }
   },
   "outputs": [],
   "source": [
    "# Library directories\n",
    "pool_folder = r'\\\\smirnov\\Chromatin_NAS_2\\Chromatin_Libraries\\CTP-11_brain'\n",
    "sub_fds = [os.path.join(pool_folder, _fd) for _fd in os.listdir(pool_folder) if os.path.isdir(os.path.join(pool_folder, _fd))]\n"
   ]
  },
  {
   "cell_type": "code",
   "execution_count": 7,
   "metadata": {},
   "outputs": [],
   "source": [
    "## Generate primer usage information\n",
    "# load full probes\n",
    "final_pool_filename = os.path.join(pool_folder, 'final_pool_probes.fasta')\n",
    "pool_records = []\n",
    "with open(os.path.join(pool_folder, final_pool_filename), 'r') as handle:\n",
    "    for record in SeqIO.parse(handle, \"fasta\"):\n",
    "        pool_records.append(record)"
   ]
  },
  {
   "cell_type": "code",
   "execution_count": 8,
   "metadata": {},
   "outputs": [
    {
     "name": "stdout",
     "output_type": "stream",
     "text": [
      "1000-mouse-genome_500 57936\n",
      "1000-mouse-genome_250_1 29037\n",
      "1000-mouse-genome_250_2 27746\n",
      "1000-mouse-genome-short_500 29845\n",
      "1000-mouse-genome-short_250_1 14988\n",
      "1000-mouse-genome-short_250_2 14339\n"
     ]
    }
   ],
   "source": [
    "sublibrary_probe_dict = {}\n",
    "for _record in pool_records:\n",
    "    _lib = _record.name.split('library_')[-1]\n",
    "    if _lib not in sublibrary_probe_dict:\n",
    "        sublibrary_probe_dict[_lib] = [_record]\n",
    "    else:\n",
    "        sublibrary_probe_dict[_lib].append(_record)\n",
    "for _lib, _pbs in sublibrary_probe_dict.items():\n",
    "    print(_lib, len(_pbs))"
   ]
  },
  {
   "cell_type": "code",
   "execution_count": 9,
   "metadata": {
    "scrolled": true
   },
   "outputs": [
    {
     "ename": "NameError",
     "evalue": "name 'library_tools' is not defined",
     "output_type": "error",
     "traceback": [
      "\u001b[1;31m---------------------------------------------------------------------------\u001b[0m",
      "\u001b[1;31mNameError\u001b[0m                                 Traceback (most recent call last)",
      "\u001b[1;32m~\\AppData\\Local\\Temp/ipykernel_31000/2694145312.py\u001b[0m in \u001b[0;36m<module>\u001b[1;34m\u001b[0m\n\u001b[0;32m      9\u001b[0m     \u001b[1;31m#_rev_prm = _pbs[0][-primer_len:].reverse_complement()\u001b[0m\u001b[1;33m\u001b[0m\u001b[1;33m\u001b[0m\u001b[0m\n\u001b[0;32m     10\u001b[0m     \u001b[0m_primer_names\u001b[0m \u001b[1;33m=\u001b[0m \u001b[0m_pbs\u001b[0m\u001b[1;33m[\u001b[0m\u001b[1;36m0\u001b[0m\u001b[1;33m]\u001b[0m\u001b[1;33m.\u001b[0m\u001b[0mname\u001b[0m\u001b[1;33m.\u001b[0m\u001b[0msplit\u001b[0m\u001b[1;33m(\u001b[0m\u001b[1;34m'_primers_['\u001b[0m\u001b[1;33m)\u001b[0m\u001b[1;33m[\u001b[0m\u001b[1;36m1\u001b[0m\u001b[1;33m]\u001b[0m\u001b[1;33m.\u001b[0m\u001b[0msplit\u001b[0m\u001b[1;33m(\u001b[0m\u001b[1;34m']'\u001b[0m\u001b[1;33m)\u001b[0m\u001b[1;33m[\u001b[0m\u001b[1;36m0\u001b[0m\u001b[1;33m]\u001b[0m\u001b[1;33m.\u001b[0m\u001b[0msplit\u001b[0m\u001b[1;33m(\u001b[0m\u001b[1;34m','\u001b[0m\u001b[1;33m)\u001b[0m\u001b[1;33m\u001b[0m\u001b[1;33m\u001b[0m\u001b[0m\n\u001b[1;32m---> 11\u001b[1;33m     _fwd_prm, _rev_prm = library_tools.assemble.load_primers([int(_n.split('_')[-1]) for _n in _primer_names], \n\u001b[0m\u001b[0;32m     12\u001b[0m                                                              _primer_folder=primer_folder)\n\u001b[0;32m     13\u001b[0m \u001b[1;33m\u001b[0m\u001b[0m\n",
      "\u001b[1;31mNameError\u001b[0m: name 'library_tools' is not defined"
     ]
    }
   ],
   "source": [
    "# find primers\n",
    "primer_len=20\n",
    "primer_folder = r'\\\\10.245.74.212\\Chromatin_NAS_2\\Chromatin_Libraries\\Primers'\n",
    "\n",
    "\n",
    "sublibrary_2_primers = {}\n",
    "for _lib, _pbs in sublibrary_probe_dict.items():\n",
    "    #_fwd_prm = _pbs[0][:primer_len]\n",
    "    #_rev_prm = _pbs[0][-primer_len:].reverse_complement()\n",
    "    _primer_names = _pbs[0].name.split('_primers_[')[1].split(']')[0].split(',')\n",
    "    _fwd_prm, _rev_prm = library_tools.assemble.load_primers([int(_n.split('_')[-1]) for _n in _primer_names], \n",
    "                                                             _primer_folder=primer_folder)\n",
    "    \n",
    "    #_fwd_prm.id, _rev_prm.id = _primer_names\n",
    "    #_fwd_prm.name, _rev_prm.name = '', ''\n",
    "    #_fwd_prm.description, _rev_prm.description = '', ''\n",
    "    sublibrary_2_primers[_lib] = (_fwd_prm, _rev_prm)"
   ]
  },
  {
   "cell_type": "code",
   "execution_count": 28,
   "metadata": {},
   "outputs": [],
   "source": [
    "import pandas as pd"
   ]
  },
  {
   "cell_type": "code",
   "execution_count": 51,
   "metadata": {},
   "outputs": [],
   "source": [
    "sublibrary_df = pd.DataFrame()\n",
    "sublibrary_df['Library'] = ['CTP11-mouse-genome'] * len(sublibrary_probe_dict)\n",
    "sublibrary_df['Sublibrary'] = list(sublibrary_probe_dict.keys())\n",
    "sublibrary_df['Forward primer name'] = [_v[0].id for _lib, _v in sublibrary_2_primers.items()]\n",
    "sublibrary_df['Forward primer seq'] = [str(_v[0].seq) for _lib, _v in sublibrary_2_primers.items()]\n",
    "sublibrary_df['Reverse primer name'] = [_v[1].id for _lib, _v in sublibrary_2_primers.items()]\n",
    "sublibrary_df['Reverse primer seq'] = [str(_v[1].seq) for _lib, _v in sublibrary_2_primers.items()]\n",
    "\n",
    "sublibrary_df['Forward number'] = [int(_v[0].id.split('_')[-1]) for _lib, _v in sublibrary_2_primers.items()]\n",
    "sublibrary_df['Reverse number'] = [int(_v[1].id.split('_')[-1]) for _lib, _v in sublibrary_2_primers.items()]\n",
    "\n",
    "sublibrary_df['Sublibrary size'] = [len(_pbs) for _lib, _pbs in sublibrary_probe_dict.items()]\n"
   ]
  },
  {
   "cell_type": "code",
   "execution_count": 52,
   "metadata": {},
   "outputs": [],
   "source": [
    "sublibrary_df.to_csv(os.path.join(pool_folder, 'sublibrary_info.csv'), index=False)"
   ]
  },
  {
   "cell_type": "code",
   "execution_count": 53,
   "metadata": {},
   "outputs": [
    {
     "data": {
      "text/html": [
       "<div>\n",
       "<style scoped>\n",
       "    .dataframe tbody tr th:only-of-type {\n",
       "        vertical-align: middle;\n",
       "    }\n",
       "\n",
       "    .dataframe tbody tr th {\n",
       "        vertical-align: top;\n",
       "    }\n",
       "\n",
       "    .dataframe thead th {\n",
       "        text-align: right;\n",
       "    }\n",
       "</style>\n",
       "<table border=\"1\" class=\"dataframe\">\n",
       "  <thead>\n",
       "    <tr style=\"text-align: right;\">\n",
       "      <th></th>\n",
       "      <th>Library</th>\n",
       "      <th>Sublibrary</th>\n",
       "      <th>Forward primer name</th>\n",
       "      <th>Forward primer seq</th>\n",
       "      <th>Reverse primer name</th>\n",
       "      <th>Reverse primer seq</th>\n",
       "      <th>Forward number</th>\n",
       "      <th>Reverse number</th>\n",
       "      <th>Sublibrary size</th>\n",
       "    </tr>\n",
       "  </thead>\n",
       "  <tbody>\n",
       "    <tr>\n",
       "      <th>0</th>\n",
       "      <td>CTP11-mouse-genome</td>\n",
       "      <td>1000-mouse-genome_500</td>\n",
       "      <td>W1A03_primer_2</td>\n",
       "      <td>CCCGCAATGGCTGACAACCG</td>\n",
       "      <td>W1A10_primer_9</td>\n",
       "      <td>TAATACGACTCACTATAGGGATTGCCGCATGGTTTCCG</td>\n",
       "      <td>2</td>\n",
       "      <td>9</td>\n",
       "      <td>57936</td>\n",
       "    </tr>\n",
       "    <tr>\n",
       "      <th>1</th>\n",
       "      <td>CTP11-mouse-genome</td>\n",
       "      <td>1000-mouse-genome_250_1</td>\n",
       "      <td>W1A07_primer_6</td>\n",
       "      <td>CGCAAACTGGTGCGGAAGGC</td>\n",
       "      <td>W1A12_primer_11</td>\n",
       "      <td>TAATACGACTCACTATAGGGCCATTGCCCGCGAGGTCGAG</td>\n",
       "      <td>6</td>\n",
       "      <td>11</td>\n",
       "      <td>29037</td>\n",
       "    </tr>\n",
       "    <tr>\n",
       "      <th>2</th>\n",
       "      <td>CTP11-mouse-genome</td>\n",
       "      <td>1000-mouse-genome_250_2</td>\n",
       "      <td>W1B05_primer_16</td>\n",
       "      <td>CGGGTTTCGTTGCGCACACC</td>\n",
       "      <td>W1B04_primer_15</td>\n",
       "      <td>TAATACGACTCACTATAGGGCTTGTGCATCGCGCCAAAGA</td>\n",
       "      <td>16</td>\n",
       "      <td>15</td>\n",
       "      <td>27746</td>\n",
       "    </tr>\n",
       "    <tr>\n",
       "      <th>3</th>\n",
       "      <td>CTP11-mouse-genome</td>\n",
       "      <td>1000-mouse-genome-short_500</td>\n",
       "      <td>W1A11_primer_10</td>\n",
       "      <td>TTGCTAGCGTGGGCCAATCG</td>\n",
       "      <td>W1B06_primer_17</td>\n",
       "      <td>TAATACGACTCACTATAGGGCCTGTGCGGAAATCGCGAGA</td>\n",
       "      <td>10</td>\n",
       "      <td>17</td>\n",
       "      <td>29845</td>\n",
       "    </tr>\n",
       "    <tr>\n",
       "      <th>4</th>\n",
       "      <td>CTP11-mouse-genome</td>\n",
       "      <td>1000-mouse-genome-short_250_1</td>\n",
       "      <td>W1A05_primer_4</td>\n",
       "      <td>CATTCAGCATTGCGCAACGG</td>\n",
       "      <td>W1A04_primer_3</td>\n",
       "      <td>TAATACGACTCACTATAGGGCGTTGTATGCCCTCCACGC</td>\n",
       "      <td>4</td>\n",
       "      <td>3</td>\n",
       "      <td>14988</td>\n",
       "    </tr>\n",
       "    <tr>\n",
       "      <th>5</th>\n",
       "      <td>CTP11-mouse-genome</td>\n",
       "      <td>1000-mouse-genome-short_250_2</td>\n",
       "      <td>W1A01_primer_0</td>\n",
       "      <td>CGGCTCGCAGCGTGTAAACG</td>\n",
       "      <td>W1A02_primer_1</td>\n",
       "      <td>TAATACGACTCACTATAGGGCATTTCAGGATCACCGGCGG</td>\n",
       "      <td>0</td>\n",
       "      <td>1</td>\n",
       "      <td>14339</td>\n",
       "    </tr>\n",
       "  </tbody>\n",
       "</table>\n",
       "</div>"
      ],
      "text/plain": [
       "              Library                     Sublibrary Forward primer name  \\\n",
       "0  CTP11-mouse-genome          1000-mouse-genome_500      W1A03_primer_2   \n",
       "1  CTP11-mouse-genome        1000-mouse-genome_250_1      W1A07_primer_6   \n",
       "2  CTP11-mouse-genome        1000-mouse-genome_250_2     W1B05_primer_16   \n",
       "3  CTP11-mouse-genome    1000-mouse-genome-short_500     W1A11_primer_10   \n",
       "4  CTP11-mouse-genome  1000-mouse-genome-short_250_1      W1A05_primer_4   \n",
       "5  CTP11-mouse-genome  1000-mouse-genome-short_250_2      W1A01_primer_0   \n",
       "\n",
       "     Forward primer seq Reverse primer name  \\\n",
       "0  CCCGCAATGGCTGACAACCG      W1A10_primer_9   \n",
       "1  CGCAAACTGGTGCGGAAGGC     W1A12_primer_11   \n",
       "2  CGGGTTTCGTTGCGCACACC     W1B04_primer_15   \n",
       "3  TTGCTAGCGTGGGCCAATCG     W1B06_primer_17   \n",
       "4  CATTCAGCATTGCGCAACGG      W1A04_primer_3   \n",
       "5  CGGCTCGCAGCGTGTAAACG      W1A02_primer_1   \n",
       "\n",
       "                         Reverse primer seq  Forward number  Reverse number  \\\n",
       "0    TAATACGACTCACTATAGGGATTGCCGCATGGTTTCCG               2               9   \n",
       "1  TAATACGACTCACTATAGGGCCATTGCCCGCGAGGTCGAG               6              11   \n",
       "2  TAATACGACTCACTATAGGGCTTGTGCATCGCGCCAAAGA              16              15   \n",
       "3  TAATACGACTCACTATAGGGCCTGTGCGGAAATCGCGAGA              10              17   \n",
       "4   TAATACGACTCACTATAGGGCGTTGTATGCCCTCCACGC               4               3   \n",
       "5  TAATACGACTCACTATAGGGCATTTCAGGATCACCGGCGG               0               1   \n",
       "\n",
       "   Sublibrary size  \n",
       "0            57936  \n",
       "1            29037  \n",
       "2            27746  \n",
       "3            29845  \n",
       "4            14988  \n",
       "5            14339  "
      ]
     },
     "execution_count": 53,
     "metadata": {},
     "output_type": "execute_result"
    }
   ],
   "source": [
    "(sublibrary_df)"
   ]
  },
  {
   "cell_type": "markdown",
   "metadata": {},
   "source": [
    "# Calculate dissolve volume\n",
    "\n",
    "for 2021.11.06 library synthesis"
   ]
  },
  {
   "cell_type": "code",
   "execution_count": 55,
   "metadata": {},
   "outputs": [
    {
     "name": "stdout",
     "output_type": "stream",
     "text": [
      "0.00143\n",
      "4.924751179529566e-08\n",
      "1.23539741156229e-12\n",
      "final in ul: 123.53974115622901\n"
     ]
    }
   ],
   "source": [
    "# 1000-mouse-genome_250_1\n",
    "vol = 11 * 1e3 # ul\n",
    "conc = 130 * 1e-9 # g/ul\n",
    "num_pb = 29037\n",
    "pb_len = 142-11\n",
    "final_conc = 10 # nM\n",
    "pb_mw = (pb_len * 303.7 + 79) # g/mol\n",
    "\n",
    "mass_total = vol * conc\n",
    "mass_per_pb = mass_total / num_pb\n",
    "mol_per_pb = mass_per_pb / pb_mw\n",
    "print(mass_total)\n",
    "print(mass_per_pb)\n",
    "print(mol_per_pb)\n",
    "target_conc = final_conc * 1e-9 * 1e-6 # mol/ul\n",
    "final_vol = mol_per_pb / target_conc\n",
    "print(\"final in ul:\", final_vol)"
   ]
  },
  {
   "cell_type": "code",
   "execution_count": 56,
   "metadata": {},
   "outputs": [
    {
     "name": "stdout",
     "output_type": "stream",
     "text": [
      "0.0013750000000000001\n",
      "4.955669285662799e-08\n",
      "1.2431533665120898e-12\n",
      "final in ul: 124.31533665120898\n"
     ]
    }
   ],
   "source": [
    "# 1000-mouse-genome_250_2\n",
    "vol = 11 * 1e3 # ul\n",
    "conc = 125 * 1e-9 # g/ul\n",
    "num_pb = 27746\n",
    "pb_len = 142-11\n",
    "final_conc = 10 # nM\n",
    "pb_mw = (pb_len * 303.7 + 79) # g/mol\n",
    "\n",
    "mass_total = vol * conc\n",
    "mass_per_pb = mass_total / num_pb\n",
    "mol_per_pb = mass_per_pb / pb_mw\n",
    "print(mass_total)\n",
    "print(mass_per_pb)\n",
    "print(mol_per_pb)\n",
    "target_conc = final_conc * 1e-9 * 1e-6 # mol/ul\n",
    "final_vol = mol_per_pb / target_conc\n",
    "print(\"final in ul:\", final_vol)"
   ]
  },
  {
   "cell_type": "code",
   "execution_count": 57,
   "metadata": {},
   "outputs": [
    {
     "name": "stdout",
     "output_type": "stream",
     "text": [
      "0.001276\n",
      "2.2024302678818007e-08\n",
      "5.524901772494276e-13\n",
      "final in ul: 55.24901772494276\n"
     ]
    }
   ],
   "source": [
    "# 1000-mouse-genome_500_1\n",
    "vol = 11 * 1e3 # ul\n",
    "conc = 116 * 1e-9 # g/ul\n",
    "num_pb = 57936\n",
    "pb_len = 142-11\n",
    "final_conc = 10 # nM\n",
    "pb_mw = (pb_len * 303.7 + 79) # g/mol\n",
    "\n",
    "mass_total = vol * conc\n",
    "mass_per_pb = mass_total / num_pb\n",
    "mol_per_pb = mass_per_pb / pb_mw\n",
    "print(mass_total)\n",
    "print(mass_per_pb)\n",
    "print(mol_per_pb)\n",
    "target_conc = final_conc * 1e-9 * 1e-6 # mol/ul\n",
    "final_vol = mol_per_pb / target_conc\n",
    "print(\"final in ul:\", final_vol)"
   ]
  },
  {
   "cell_type": "code",
   "execution_count": 58,
   "metadata": {},
   "outputs": [
    {
     "name": "stdout",
     "output_type": "stream",
     "text": [
      "0.00143\n",
      "2.4682408174537422e-08\n",
      "6.191700262278068e-13\n",
      "final in ul: 61.917002622780686\n"
     ]
    }
   ],
   "source": [
    "# 1000-mouse-genome_500_2\n",
    "vol = 11 * 1e3 # ul\n",
    "conc = 130 * 1e-9 # g/ul\n",
    "num_pb = 57936\n",
    "pb_len = 142-11\n",
    "final_conc = 10 # nM\n",
    "pb_mw = (pb_len * 303.7 + 79) # g/mol\n",
    "\n",
    "mass_total = vol * conc\n",
    "mass_per_pb = mass_total / num_pb\n",
    "mol_per_pb = mass_per_pb / pb_mw\n",
    "print(mass_total)\n",
    "print(mass_per_pb)\n",
    "print(mol_per_pb)\n",
    "target_conc = final_conc * 1e-9 * 1e-6 # mol/ul\n",
    "final_vol = mol_per_pb / target_conc\n",
    "print(\"final in ul:\", final_vol)"
   ]
  },
  {
   "cell_type": "markdown",
   "metadata": {},
   "source": [
    "## Second synthesis 20220507"
   ]
  },
  {
   "cell_type": "code",
   "execution_count": 10,
   "metadata": {},
   "outputs": [
    {
     "name": "stdout",
     "output_type": "stream",
     "text": [
      "0.0013340000000000001\n",
      "4.594138512931777e-08\n",
      "1.1061137820491326e-12\n",
      "final in ul: 110.61137820491327\n"
     ]
    }
   ],
   "source": [
    "# 1000-mouse-genome_250_1\n",
    "vol = 11.5 * 1e3 # ul\n",
    "conc = 116 * 1e-9 # g/ul\n",
    "num_pb = 29037\n",
    "pb_len = 142-5.5\n",
    "final_conc = 10 # nM\n",
    "pb_mw = (pb_len * 303.7 + 79) # g/mol\n",
    "\n",
    "mass_total = vol * conc\n",
    "mass_per_pb = mass_total / num_pb\n",
    "mol_per_pb = mass_per_pb / pb_mw\n",
    "print(mass_total)\n",
    "print(mass_per_pb)\n",
    "print(mol_per_pb)\n",
    "target_conc = final_conc * 1e-9 * 1e-6 # mol/ul\n",
    "final_vol = mol_per_pb / target_conc\n",
    "print(\"final in ul:\", final_vol)"
   ]
  },
  {
   "cell_type": "code",
   "execution_count": 11,
   "metadata": {},
   "outputs": [
    {
     "name": "stdout",
     "output_type": "stream",
     "text": [
      "0.001242\n",
      "4.476320911122324e-08\n",
      "1.077747272688872e-12\n",
      "final in ul: 107.7747272688872\n"
     ]
    }
   ],
   "source": [
    "# 1000-mouse-genome_250_2\n",
    "vol = 11.5 * 1e3 # ul\n",
    "conc = 108 * 1e-9 # g/ul\n",
    "num_pb = 27746\n",
    "pb_len = 142-5.5\n",
    "final_conc = 10 # nM\n",
    "pb_mw = (pb_len * 303.7 + 79) # g/mol\n",
    "\n",
    "mass_total = vol * conc\n",
    "mass_per_pb = mass_total / num_pb\n",
    "mol_per_pb = mass_per_pb / pb_mw\n",
    "print(mass_total)\n",
    "print(mass_per_pb)\n",
    "print(mol_per_pb)\n",
    "target_conc = final_conc * 1e-9 * 1e-6 # mol/ul\n",
    "final_vol = mol_per_pb / target_conc\n",
    "print(\"final in ul:\", final_vol)"
   ]
  },
  {
   "cell_type": "code",
   "execution_count": 12,
   "metadata": {},
   "outputs": [
    {
     "name": "stdout",
     "output_type": "stream",
     "text": [
      "0.0018952000000000003\n",
      "3.2711958022645686e-08\n",
      "7.875937459180044e-13\n",
      "final in ul: 78.75937459180044\n"
     ]
    }
   ],
   "source": [
    "# 1000-mouse-genome_500\n",
    "vol = 23 * 1e3 # ul\n",
    "conc = 82.4 * 1e-9 # g/ul\n",
    "num_pb = 57936\n",
    "pb_len = 142-11/2\n",
    "final_conc = 10 # nM\n",
    "pb_mw = (pb_len * 303.7 + 79) # g/mol\n",
    "\n",
    "mass_total = vol * conc\n",
    "mass_per_pb = mass_total / num_pb\n",
    "mol_per_pb = mass_per_pb / pb_mw\n",
    "print(mass_total)\n",
    "print(mass_per_pb)\n",
    "print(mol_per_pb)\n",
    "target_conc = final_conc * 1e-9 * 1e-6 # mol/ul\n",
    "final_vol = mol_per_pb / target_conc\n",
    "print(\"final in ul:\", final_vol)"
   ]
  },
  {
   "cell_type": "code",
   "execution_count": 13,
   "metadata": {},
   "outputs": [
    {
     "name": "stdout",
     "output_type": "stream",
     "text": [
      "0.0005750000000000001\n",
      "4.0089242139022525e-08\n",
      "1.4004094812910464e-12\n",
      "final in ul: 140.04094812910463\n"
     ]
    }
   ],
   "source": [
    "# LPCDH\n",
    "vol = 11.5 * 1e3 # ul\n",
    "conc = 50 * 1e-9 # g/ul\n",
    "num_pb = 14343\n",
    "pb_len = 94\n",
    "final_conc = 10 # nM\n",
    "pb_mw = (pb_len * 303.7 + 79) # g/mol\n",
    "\n",
    "mass_total = vol * conc\n",
    "mass_per_pb = mass_total / num_pb\n",
    "mol_per_pb = mass_per_pb / pb_mw\n",
    "print(mass_total)\n",
    "print(mass_per_pb)\n",
    "print(mol_per_pb)\n",
    "target_conc = final_conc * 1e-9 * 1e-6 # mol/ul\n",
    "final_vol = mol_per_pb / target_conc\n",
    "print(\"final in ul:\", final_vol)"
   ]
  },
  {
   "cell_type": "code",
   "execution_count": null,
   "metadata": {},
   "outputs": [],
   "source": []
  }
 ],
 "metadata": {
  "kernelspec": {
   "display_name": "ia3_postanalysis",
   "language": "python",
   "name": "ia3_postanalysis"
  },
  "language_info": {
   "codemirror_mode": {
    "name": "ipython",
    "version": 3
   },
   "file_extension": ".py",
   "mimetype": "text/x-python",
   "name": "python",
   "nbconvert_exporter": "python",
   "pygments_lexer": "ipython3",
   "version": "3.9.7"
  },
  "toc": {
   "base_numbering": 1,
   "nav_menu": {},
   "number_sections": true,
   "sideBar": true,
   "skip_h1_title": false,
   "title_cell": "Table of Contents",
   "title_sidebar": "Contents",
   "toc_cell": false,
   "toc_position": {},
   "toc_section_display": true,
   "toc_window_display": false
  },
  "varInspector": {
   "cols": {
    "lenName": 16,
    "lenType": 16,
    "lenVar": 40
   },
   "kernels_config": {
    "python": {
     "delete_cmd_postfix": "",
     "delete_cmd_prefix": "del ",
     "library": "var_list.py",
     "varRefreshCmd": "print(var_dic_list())"
    },
    "r": {
     "delete_cmd_postfix": ") ",
     "delete_cmd_prefix": "rm(",
     "library": "var_list.r",
     "varRefreshCmd": "cat(var_dic_list()) "
    }
   },
   "types_to_exclude": [
    "module",
    "function",
    "builtin_function_or_method",
    "instance",
    "_Feature"
   ],
   "window_display": false
  }
 },
 "nbformat": 4,
 "nbformat_minor": 2
}
