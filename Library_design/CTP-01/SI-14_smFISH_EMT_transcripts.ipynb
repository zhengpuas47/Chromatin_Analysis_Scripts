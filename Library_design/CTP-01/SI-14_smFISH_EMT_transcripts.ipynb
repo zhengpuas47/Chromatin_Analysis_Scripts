{
 "cells": [
  {
   "cell_type": "markdown",
   "metadata": {},
   "source": [
    "# SI-14 Single Molecule RNA FISH \n",
    "2018.4.2"
   ]
  },
  {
   "cell_type": "code",
   "execution_count": 11,
   "metadata": {},
   "outputs": [],
   "source": [
    "#minimum imports:\n",
    "import time,os,sys,glob\n",
    "import cPickle as pickle\n",
    "import numpy as np\n",
    "import khmer\n",
    "sys.path.append(r'/n/home13/pzheng/Documents/python-functions/python-functions-library')\n",
    "\n",
    "from LibraryConstruction import fastaread,fastawrite,fastacombine\n",
    "import LibraryDesigner as ld\n",
    "import LibraryConstruction as lc\n",
    "\n",
    "from Bio import SeqIO\n",
    "from Bio.Seq import Seq\n",
    "from Bio.Alphabet import IUPAC\n",
    "from Bio.SeqRecord import SeqRecord \n",
    "\n",
    "import csv\n",
    "import io"
   ]
  },
  {
   "cell_type": "markdown",
   "metadata": {},
   "source": [
    "## 1. Import data"
   ]
  },
  {
   "cell_type": "code",
   "execution_count": 72,
   "metadata": {},
   "outputs": [],
   "source": [
    "master_dir = r'/n/boslfs/LABS/zhuang_lab/User/pzheng/Libraries/SI-14/EMT_smFISH';\n",
    "# input filename\n",
    "input_filename = 'EMT_smFISH.txt';\n",
    "dic_list = []\n",
    "with open(master_dir+os.sep+input_filename, 'rU') as handle:\n",
    "    headers = handle.readline().split(\"\\n\")[0].split(\"\\t\")\n",
    "    for line in handle.readlines():\n",
    "        _dic = {}\n",
    "        for header,info in zip(headers,line.split(\"\\n\")[0].split(\"\\t\")):\n",
    "            _dic[header] = info\n",
    "        dic_list.append(_dic)"
   ]
  },
  {
   "cell_type": "markdown",
   "metadata": {},
   "source": [
    "## 2. Design barcode scheme"
   ]
  },
  {
   "cell_type": "code",
   "execution_count": 73,
   "metadata": {},
   "outputs": [],
   "source": [
    "# Get list of all genes\n",
    "genes = list(np.unique([v['Gene'] for v in dic_list]))\n",
    "barcode_scheme = {};\n",
    "for i,gene in enumerate(sorted(genes)):\n",
    "    barcode_scheme[gene] = {'bc_stv': i,\n",
    "                            'bc_ndb': i}"
   ]
  },
  {
   "cell_type": "markdown",
   "metadata": {},
   "source": [
    "## 3. Patch barcodes"
   ]
  },
  {
   "cell_type": "markdown",
   "metadata": {},
   "source": [
    "### 3.1 import barcodes"
   ]
  },
  {
   "cell_type": "code",
   "execution_count": 74,
   "metadata": {},
   "outputs": [
    {
     "name": "stdout",
     "output_type": "stream",
     "text": [
      "Barcodes loaded: Stv: 75, NDB: 1052\n"
     ]
    }
   ],
   "source": [
    "## Read all barcodes\n",
    "barcode_dir = r'/n/boslfs/LABS/zhuang_lab/User/pzheng/Barcodes';\n",
    "\n",
    "# read all Stv barcodes\n",
    "#stv_adaptor = [1,2,17,77,78,79,80,81,82,83,84] # barcodes saved for adaptors\n",
    "#stv_bad = [34,38,41] # barcodes performed badly\n",
    "#stv_mask = stv_adaptor + stv_bad \n",
    "stv_mask =[]\n",
    "with open(barcode_dir+os.sep+'top_Stvs.fasta', \"rU\") as handle:\n",
    "    stv_barcodes = [];\n",
    "    for record in SeqIO.parse(handle, \"fasta\"):\n",
    "        if int(record.id.split('_')[1]) not in stv_mask:\n",
    "            stv_barcodes.append(record);\n",
    "            \n",
    "# read all NDB barcodes\n",
    "ndb_mask = [];\n",
    "\n",
    "with open(barcode_dir+os.sep+'NDBs.fasta', \"rU\") as handle:\n",
    "    ndb_barcodes = [];\n",
    "    for record in SeqIO.parse(handle, \"fasta\"):\n",
    "        if int(record.id.split('_')[1]) not in ndb_mask:\n",
    "            ndb_barcodes.append(record);\n",
    "print \"Barcodes loaded: Stv: \"+str(len(stv_barcodes))+\", NDB: \"+str(len(ndb_barcodes));"
   ]
  },
  {
   "cell_type": "markdown",
   "metadata": {},
   "source": [
    "### 3.2 import primers"
   ]
  },
  {
   "cell_type": "code",
   "execution_count": 75,
   "metadata": {},
   "outputs": [
    {
     "name": "stdout",
     "output_type": "stream",
     "text": [
      "Primers loaded: forward: 11, reverse: 6\n",
      "- forward primer: ID: W1A05_primer_4\n",
      "Name: W1A05_primer_4\n",
      "Description: W1A05_primer_4\n",
      "Number of features: 0\n",
      "Seq('CATTCAGCATTGCGCAACGG', SingleLetterAlphabet())\n",
      "- reverse primer: ID: W1A04_primer_3\n",
      "Name: W1A04_primer_3\n",
      "Description: W1A04_primer_3\n",
      "Number of features: 0\n",
      "Seq('TAATACGACTCACTATAGGGCGTTGTATGCCCTCCACGC', SingleLetterAlphabet())\n"
     ]
    }
   ],
   "source": [
    "## Read all primers\n",
    "primer_dir = r'/n/boslfs/LABS/zhuang_lab/User/pzheng/Primers';\n",
    "fwd_primer_filename = 'forward_primers_keep.fasta';\n",
    "rev_primer_filename = 'reverse_primers_keep.fasta';\n",
    "\n",
    "# read all forward primers\n",
    "with open(primer_dir+os.sep+fwd_primer_filename, \"rU\") as handle:\n",
    "    fwd_primers = [];\n",
    "    for record in SeqIO.parse(handle, \"fasta\"):\n",
    "        fwd_primers.append(record);\n",
    "# read all forward primers\n",
    "with open(primer_dir+os.sep+rev_primer_filename, \"rU\") as handle:\n",
    "    rev_primers = [];\n",
    "    for record in SeqIO.parse(handle, \"fasta\"):\n",
    "        rev_primers.append(record);\n",
    "print \"Primers loaded: forward: \"+str(len(fwd_primers))+\", reverse: \"+str(len(rev_primers)); \n",
    "\n",
    "# primers\n",
    "fprimer = fwd_primers[2];\n",
    "print '- forward primer:', fprimer\n",
    "rprimer = rev_primers[1];\n",
    "print '- reverse primer:', rprimer"
   ]
  },
  {
   "cell_type": "code",
   "execution_count": 84,
   "metadata": {
    "collapsed": true
   },
   "outputs": [],
   "source": [
    "## Parameters used for patch barcodes & primers\n",
    "# barcodes\n",
    "barcode_source = {'bc_stv':'stv',\n",
    "                  'bc_ndb':'ndb'};\n",
    "barcode_starts = {'stv':1, 'ndb':301};\n",
    "\n",
    "_stv_barcodes, _ndb_barcodes = [],[];\n",
    "for record in stv_barcodes:\n",
    "    if not int(record.id.split('_')[1]) < barcode_starts['stv']:\n",
    "        _stv_barcodes.append(record)\n",
    "for record in ndb_barcodes:\n",
    "    if not int(record.id.split('_')[1]) < barcode_starts['ndb']:\n",
    "        _ndb_barcodes.append(record)\n",
    "\n",
    "barcode_len = 20"
   ]
  },
  {
   "cell_type": "markdown",
   "metadata": {},
   "source": [
    "### 3.3 start patching"
   ]
  },
  {
   "cell_type": "code",
   "execution_count": 89,
   "metadata": {},
   "outputs": [],
   "source": [
    "for i,dic in enumerate(dic_list):\n",
    "    dic['bc_stv'] = _stv_barcodes[barcode_scheme[dic['Gene']]['bc_stv']]\n",
    "    dic['bc_ndb'] = _ndb_barcodes[barcode_scheme[dic['Gene']]['bc_ndb']]\n",
    "    total_seq_list = [fprimer.seq, \\\n",
    "                      dic['bc_stv'].seq[-barcode_len:].reverse_complement(),\\\n",
    "                      dic['bc_ndb'].seq[-barcode_len:].reverse_complement(),\\\n",
    "                      Seq(dic['Target']),\\\n",
    "                      dic['bc_stv'].seq[-barcode_len:].reverse_complement(),\\\n",
    "                      dic['bc_ndb'].seq[-barcode_len:].reverse_complement(),\\\n",
    "                      rprimer.seq[-20:].reverse_complement()]\n",
    "    total_seq = Seq('');\n",
    "    for s in total_seq_list:\n",
    "        total_seq += s\n",
    "    dic['total_seq'] = total_seq;\n",
    "    name_list = ['']"
   ]
  },
  {
   "cell_type": "code",
   "execution_count": 104,
   "metadata": {},
   "outputs": [
    {
     "data": {
      "text/plain": [
       "{'AlphaCat': {'bc_ndb': 0, 'bc_stv': 0},\n",
       " 'AlphaVIntegrin': {'bc_ndb': 1, 'bc_stv': 1},\n",
       " 'BLACAT1': {'bc_ndb': 2, 'bc_stv': 2},\n",
       " 'BetaCAt': {'bc_ndb': 3, 'bc_stv': 3},\n",
       " 'CD133': {'bc_ndb': 4, 'bc_stv': 4},\n",
       " 'CD24': {'bc_ndb': 5, 'bc_stv': 5},\n",
       " 'CD44': {'bc_ndb': 6, 'bc_stv': 6},\n",
       " 'CDH1': {'bc_ndb': 7, 'bc_stv': 7},\n",
       " 'CDH2': {'bc_ndb': 8, 'bc_stv': 8},\n",
       " 'CDH3': {'bc_ndb': 9, 'bc_stv': 9},\n",
       " 'DDR2': {'bc_ndb': 10, 'bc_stv': 10},\n",
       " 'ERK2': {'bc_ndb': 11, 'bc_stv': 11},\n",
       " 'ESRP1': {'bc_ndb': 12, 'bc_stv': 12},\n",
       " 'ESRP2': {'bc_ndb': 13, 'bc_stv': 13},\n",
       " 'FN1': {'bc_ndb': 14, 'bc_stv': 14},\n",
       " 'GRHL2': {'bc_ndb': 15, 'bc_stv': 15},\n",
       " 'HOTAIR': {'bc_ndb': 16, 'bc_stv': 16},\n",
       " 'KRT14': {'bc_ndb': 17, 'bc_stv': 17},\n",
       " 'KRT18': {'bc_ndb': 18, 'bc_stv': 18},\n",
       " 'MALAT1': {'bc_ndb': 19, 'bc_stv': 19},\n",
       " 'MMP2': {'bc_ndb': 20, 'bc_stv': 20},\n",
       " 'MMP9': {'bc_ndb': 21, 'bc_stv': 21},\n",
       " 'NEAT1': {'bc_ndb': 22, 'bc_stv': 22},\n",
       " 'OCLN': {'bc_ndb': 23, 'bc_stv': 23},\n",
       " 'OVOL2': {'bc_ndb': 24, 'bc_stv': 24},\n",
       " 'RBFOX2': {'bc_ndb': 25, 'bc_stv': 25},\n",
       " 'SMAD4': {'bc_ndb': 26, 'bc_stv': 26},\n",
       " 'SNAI1': {'bc_ndb': 27, 'bc_stv': 27},\n",
       " 'SNAI2': {'bc_ndb': 28, 'bc_stv': 28},\n",
       " 'SNAI3': {'bc_ndb': 29, 'bc_stv': 29},\n",
       " 'SRSF1': {'bc_ndb': 30, 'bc_stv': 30},\n",
       " 'TCF3': {'bc_ndb': 31, 'bc_stv': 31},\n",
       " 'TWIST1': {'bc_ndb': 32, 'bc_stv': 32},\n",
       " 'VIM': {'bc_ndb': 33, 'bc_stv': 33},\n",
       " 'ZEB1': {'bc_ndb': 34, 'bc_stv': 34},\n",
       " 'ZEB2': {'bc_ndb': 35, 'bc_stv': 35},\n",
       " 'ZO1': {'bc_ndb': 36, 'bc_stv': 36}}"
      ]
     },
     "execution_count": 104,
     "metadata": {},
     "output_type": "execute_result"
    }
   ],
   "source": [
    "barcode_scheme"
   ]
  },
  {
   "cell_type": "code",
   "execution_count": 103,
   "metadata": {},
   "outputs": [
    {
     "data": {
      "text/plain": [
       "'4'"
      ]
     },
     "execution_count": 103,
     "metadata": {},
     "output_type": "execute_result"
    }
   ],
   "source": [
    "fprimer.id.split('_')[-1]"
   ]
  },
  {
   "cell_type": "code",
   "execution_count": 25,
   "metadata": {},
   "outputs": [
    {
     "data": {
      "text/plain": [
       "{'Final': 'CCGTTGCGCAATGCTGAATGgtcgcccgtgcttccgggacgtcgcccgtgcttccgggacCTCTGTACTACACCTGGGGTGTGTGTCTCCgtcgcccgtgcttccgggacgtcgcccgtgcttccgggacGCGTGGAGGGCATACAACGC',\n",
       " 'Fwd': 'CCGTTGCGCAATGCTGAATG',\n",
       " 'Original': 'AAGCGGGCGCACCCGCGCGC AAGCGGGCGCACCCGCGCGC CTCTGTACTACACCTGGGGTGTGTGTCTCC  AAGCGGGCGCACCCGCGCGC AAGCGGGCGCACCCGCGCGC',\n",
       " 'Readout': '',\n",
       " 'Reverse': 'GCGTGGAGGGCATACAACGC',\n",
       " 'Target': 'CTCTGTACTACACCTGGGGTGTGTGTCTCC',\n",
       " '\\xef\\xbb\\xbfGene': 'AlphaCat'}"
      ]
     },
     "execution_count": 25,
     "metadata": {},
     "output_type": "execute_result"
    }
   ],
   "source": [
    "## Create pb_record and pb_list by pb_file\n",
    "pb_records, reg_pb_dic = [],{}; # initialize\n",
    "# loop through all designed probes\n",
    "with open(master_dir+os.sep+pb_filename, 'rU') as handle:\n",
    "    lines = handle.readlines()\n",
    "    titles = lines[0].split(\"\\n\")[0].split(\"\\t\")\n",
    "    for line in lines[1:]:\n",
    "        seq, name = line.split(\"\\n\")[0].split(\"  \");\n",
    "        pb_records.append(SeqRecord(Seq(seq.upper(),alphabet=IUPAC.unambiguous_dna),id=name, name=name,description=''))\n",
    "        reg_id = int(name.split('reg_')[1].split(\"_\")[0])\n",
    "        pb_info = {'reg_index':reg_id, 'total_seq':seq, 'total_name':name};\n",
    "        if reg_id not in reg_pb_dic.keys():\n",
    "            reg_pb_dic[reg_id] = [pb_info]\n",
    "        else:\n",
    "            reg_pb_dic[reg_id].append(pb_info)\n",
    "pb_lists = reg_pb_dic.values()\n",
    "print \"- Total candidate sequences:\", len(pb_records)\n",
    "# save\n",
    "save_dir = 'final_probes'\n",
    "if not os.path.exists(master_dir+os.sep+save_dir):\n",
    "    os.makedirs(master_dir+os.sep+save_dir)\n",
    "print \"-- Save pb_lists\"\n",
    "pickle.dump(pb_lists, open(master_dir+os.sep+save_dir+os.sep+'list.pkl', 'w'));\n",
    "print \"-- Save pb_records\"\n",
    "with open(master_dir+os.sep+save_dir+os.sep+'candidate_probes.fasta', \"w\") as output_handle:\n",
    "    SeqIO.write(pb_records, output_handle, 'fasta');"
   ]
  },
  {
   "cell_type": "code",
   "execution_count": null,
   "metadata": {
    "collapsed": true
   },
   "outputs": [],
   "source": []
  }
 ],
 "metadata": {
  "kernelspec": {
   "display_name": "Python 2",
   "language": "python",
   "name": "python2"
  },
  "language_info": {
   "codemirror_mode": {
    "name": "ipython",
    "version": 2
   },
   "file_extension": ".py",
   "mimetype": "text/x-python",
   "name": "python",
   "nbconvert_exporter": "python",
   "pygments_lexer": "ipython2",
   "version": "2.7.13"
  }
 },
 "nbformat": 4,
 "nbformat_minor": 2
}
