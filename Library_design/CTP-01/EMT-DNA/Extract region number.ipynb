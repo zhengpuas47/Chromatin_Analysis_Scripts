{
 "cells": [
  {
   "cell_type": "code",
   "execution_count": 1,
   "metadata": {
    "collapsed": true
   },
   "outputs": [],
   "source": [
    "import glob, os, sys"
   ]
  },
  {
   "cell_type": "code",
   "execution_count": 7,
   "metadata": {},
   "outputs": [],
   "source": [
    "master_folder = r'/n/boslfs/LABS/zhuang_lab/User/pzheng/Libraries/SI-14/EMT/region_seqs-20000';\n",
    "gene_folders = sorted(glob.glob(master_folder+os.sep+r'*'));"
   ]
  },
  {
   "cell_type": "code",
   "execution_count": 13,
   "metadata": {},
   "outputs": [],
   "source": [
    "region_nums = {};\n",
    "for gene_fd in gene_folders:\n",
    "    region_nums[os.path.basename(gene_fd)] = len(glob.glob(gene_fd + os.sep + r'reg_*'))"
   ]
  },
  {
   "cell_type": "code",
   "execution_count": 14,
   "metadata": {},
   "outputs": [
    {
     "data": {
      "text/plain": [
       "{'ACE2': 18,\n",
       " 'CDH1-3': 22,\n",
       " 'CDH2': 25,\n",
       " 'CLDN1': 13,\n",
       " 'COL1A1': 13,\n",
       " 'DDR2': 20,\n",
       " 'FN1': 16,\n",
       " 'ITGA5': 14,\n",
       " 'KRT13': 13,\n",
       " 'KRT14': 13,\n",
       " 'KRT18': 13,\n",
       " 'LAMA1': 21,\n",
       " 'MALAT1-NEAT1': 17,\n",
       " 'MMP2': 18,\n",
       " 'MMP9': 13,\n",
       " 'VIM': 13,\n",
       " 'ZEB1': 23,\n",
       " 'ZO-1': 26,\n",
       " 'merged': 237}"
      ]
     },
     "execution_count": 14,
     "metadata": {},
     "output_type": "execute_result"
    }
   ],
   "source": [
    "region_nums"
   ]
  },
  {
   "cell_type": "code",
   "execution_count": null,
   "metadata": {
    "collapsed": true
   },
   "outputs": [],
   "source": []
  }
 ],
 "metadata": {
  "kernelspec": {
   "display_name": "Python 2",
   "language": "python",
   "name": "python2"
  },
  "language_info": {
   "codemirror_mode": {
    "name": "ipython",
    "version": 2
   },
   "file_extension": ".py",
   "mimetype": "text/x-python",
   "name": "python",
   "nbconvert_exporter": "python",
   "pygments_lexer": "ipython2",
   "version": "2.7.13"
  }
 },
 "nbformat": 4,
 "nbformat_minor": 2
}
