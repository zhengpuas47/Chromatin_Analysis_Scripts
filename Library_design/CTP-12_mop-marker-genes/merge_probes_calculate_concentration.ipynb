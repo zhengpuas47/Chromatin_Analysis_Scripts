{
 "cells": [
  {
   "cell_type": "markdown",
   "metadata": {},
   "source": [
    "# Merge probes for CTP-12 marker gene DNA RNA\n",
    "\n",
    "There are 2 different sources:\n",
    "1. TSS 150 probe library for cortex marker genes\n",
    "2. corresponding smFISH from Meng's M1 library used in paper: https://www.nature.com/articles/s41586-021-03705-x"
   ]
  },
  {
   "cell_type": "code",
   "execution_count": 1,
   "metadata": {
    "ExecuteTime": {
     "end_time": "2019-07-04T01:25:30.670956Z",
     "start_time": "2019-07-04T01:25:27.238400Z"
    }
   },
   "outputs": [
    {
     "name": "stdout",
     "output_type": "stream",
     "text": [
      "25904\n"
     ]
    }
   ],
   "source": [
    "%run \"..\\..\\Startup_py3.py\"\n",
    "sys.path.append(r\"..\\..\\..\\..\\Documents\")\n",
    "\n",
    "import ImageAnalysis3\n",
    "from ImageAnalysis3 import get_img_info, visual_tools, corrections, library_tools\n",
    "\n",
    "from ImageAnalysis3.library_tools import LibraryDesigner as ld\n",
    "from ImageAnalysis3.library_tools import LibraryTools\n",
    "\n",
    "%matplotlib notebook\n",
    "print(os.getpid())\n",
    "\n",
    "# biopython for SeqRecord\n",
    "from Bio import SeqIO\n",
    "from Bio.Seq import Seq\n",
    "from Bio.SeqRecord import SeqRecord\n",
    "\n",
    "# blast\n",
    "from Bio.Blast.Applications import NcbiblastnCommandline\n",
    "from Bio.Blast import NCBIXML \n",
    "import ImageAnalysis3.library_tools.quality_check as qc"
   ]
  },
  {
   "cell_type": "code",
   "execution_count": 2,
   "metadata": {
    "ExecuteTime": {
     "end_time": "2019-07-04T01:31:26.837387Z",
     "start_time": "2019-07-04T01:31:26.523156Z"
    }
   },
   "outputs": [],
   "source": [
    "# Library directories\n",
    "pool_folder = r'\\\\10.245.74.212\\Chromatin_NAS_2\\Chromatin_Libraries\\CTP-12_mop_markers'\n",
    "sub_fds = [os.path.join(pool_folder, _fd) for _fd in os.listdir(pool_folder) if os.path.isdir(os.path.join(pool_folder, _fd))]\n"
   ]
  },
  {
   "cell_type": "markdown",
   "metadata": {},
   "source": [
    "## scan probe files"
   ]
  },
  {
   "cell_type": "code",
   "execution_count": 3,
   "metadata": {},
   "outputs": [
    {
     "name": "stdout",
     "output_type": "stream",
     "text": [
      "['\\\\\\\\10.245.74.212\\\\Chromatin_NAS_2\\\\Chromatin_Libraries\\\\CTP-12_mop_markers\\\\smFISH_cell_class\\\\filtered_full_probes.fasta', '\\\\\\\\10.245.74.212\\\\Chromatin_NAS_2\\\\Chromatin_Libraries\\\\CTP-12_mop_markers\\\\marker_gene_TSS\\\\blast_full_probes.fasta']\n",
      "['smFISH-cell-class', 'marker-gene-TSS']\n"
     ]
    }
   ],
   "source": [
    "files = []\n",
    "library_names = []\n",
    "for _fd in sub_fds:\n",
    "    if 'blast_full_probes.fasta' in os.listdir(_fd):\n",
    "        files.append(os.path.join(_fd, 'blast_full_probes.fasta'))\n",
    "        library_names.append(os.path.basename(_fd).replace('_', '-'))\n",
    "    elif 'filtered_full_probes.fasta' in os.listdir(_fd):\n",
    "        files.append(os.path.join(_fd, 'filtered_full_probes.fasta'))\n",
    "        library_names.append(os.path.basename(_fd).replace('_', '-'))\n",
    "        \n",
    "print(files)\n",
    "print(library_names)"
   ]
  },
  {
   "cell_type": "markdown",
   "metadata": {},
   "source": [
    "## load sub-libraries"
   ]
  },
  {
   "cell_type": "code",
   "execution_count": 4,
   "metadata": {},
   "outputs": [
    {
     "name": "stdout",
     "output_type": "stream",
     "text": [
      "loading probes from file: \\\\10.245.74.212\\Chromatin_NAS_2\\Chromatin_Libraries\\CTP-12_mop_markers\\smFISH_cell_class\\filtered_full_probes.fasta\n",
      "loading probes from file: \\\\10.245.74.212\\Chromatin_NAS_2\\Chromatin_Libraries\\CTP-12_mop_markers\\marker_gene_TSS\\blast_full_probes.fasta\n"
     ]
    }
   ],
   "source": [
    "target_len = 120\n",
    "library_2_pbs = {}\n",
    "\n",
    "for _fl, _lib_name in zip(files, library_names):\n",
    "    print(f\"loading probes from file: {_fl}\")\n",
    "    _records = []\n",
    "    with open(_fl, 'r') as _handle:\n",
    "        for _record in SeqIO.parse(_handle, \"fasta\"):\n",
    "            # modify names\n",
    "            _record.id = _record.id + f\"_library_{_lib_name}\"\n",
    "            _record.name, _record.description = '',''\n",
    "            # modify seq if length doesn't match\n",
    "            if len(_record.seq) < target_len:\n",
    "                _seq = _record.seq + Seq('A'*(target_len - len(_record.seq)))\n",
    "                _record.seq = _seq\n",
    "        \n",
    "            _records.append(_record)\n",
    "        \n",
    "    library_2_pbs[_lib_name] = _records"
   ]
  },
  {
   "cell_type": "markdown",
   "metadata": {},
   "source": [
    "## merge and save"
   ]
  },
  {
   "cell_type": "code",
   "execution_count": 5,
   "metadata": {},
   "outputs": [
    {
     "name": "stdout",
     "output_type": "stream",
     "text": [
      "appending 2260 probes from library: smFISH-cell-class\n",
      "appending 3360 probes from library: marker-gene-TSS\n"
     ]
    }
   ],
   "source": [
    "# merge into one file and save\n",
    "final_pool_records = []\n",
    "for _lib_name, _records in library_2_pbs.items():\n",
    "    print(f\"appending {len(_records)} probes from library: {_lib_name}\")\n",
    "    final_pool_records.extend(_records)"
   ]
  },
  {
   "cell_type": "code",
   "execution_count": 6,
   "metadata": {},
   "outputs": [
    {
     "name": "stdout",
     "output_type": "stream",
     "text": [
      "number of probes saved: 5620\n"
     ]
    }
   ],
   "source": [
    "save_filename = os.path.join(pool_folder, 'merged_CTP12.fasta')\n",
    "print(f\"number of probes saved: {len(final_pool_records)}\")\n",
    "with open(save_filename, 'w') as _output_handle:\n",
    "    SeqIO.write(final_pool_records, _output_handle, \"fasta\")"
   ]
  },
  {
   "cell_type": "markdown",
   "metadata": {},
   "source": [
    "# load and summarize primers"
   ]
  },
  {
   "cell_type": "code",
   "execution_count": 4,
   "metadata": {},
   "outputs": [],
   "source": [
    "# split probes into\n",
    "\n",
    "save_filename = os.path.join(pool_folder, 'merged_CTP12.fasta')\n",
    "full_records = []\n",
    "with open(save_filename, 'r') as _handle:\n",
    "    for _record in SeqIO.parse(_handle, \"fasta\"):\n",
    "        full_records.append(_record)\n"
   ]
  },
  {
   "cell_type": "code",
   "execution_count": 6,
   "metadata": {},
   "outputs": [
    {
     "data": {
      "text/plain": [
       "SeqRecord(seq=Seq('CGCAAACTGGTGCGGAAGGCAAGTCCGCGCAGGAACGTGAAGCAGCTCACAGAA...TGG'), id='loc_11:78489091-78509091_gene_Vtn_pb_191_pos_13894_strand_+_readouts_[Stv_119_u,Stv_119_u]_primers_[W1A07_primer_6,W1A12_primer_11]_library_marker-gene-TSS', name='loc_11:78489091-78509091_gene_Vtn_pb_191_pos_13894_strand_+_readouts_[Stv_119_u,Stv_119_u]_primers_[W1A07_primer_6,W1A12_primer_11]_library_marker-gene-TSS', description='loc_11:78489091-78509091_gene_Vtn_pb_191_pos_13894_strand_+_readouts_[Stv_119_u,Stv_119_u]_primers_[W1A07_primer_6,W1A12_primer_11]_library_marker-gene-TSS', dbxrefs=[])"
      ]
     },
     "execution_count": 6,
     "metadata": {},
     "output_type": "execute_result"
    }
   ],
   "source": [
    "full_records[-1]"
   ]
  },
  {
   "cell_type": "code",
   "execution_count": 5,
   "metadata": {},
   "outputs": [
    {
     "data": {
      "text/plain": [
       "SeqRecord(seq=Seq('CCCGCAATGGCTGACAACCGAGAGATTAGAGATGAGTTGGATGGATCCCACACC...AAA'), id='CTP11_MO_RNA_W1A03_2_RS0708_gene_Aqp4__ENSMUST00000079081__190__30__0.43333__69.0522__1_RS0708_W1A10_9_library_smFISH-cell-class', name='CTP11_MO_RNA_W1A03_2_RS0708_gene_Aqp4__ENSMUST00000079081__190__30__0.43333__69.0522__1_RS0708_W1A10_9_library_smFISH-cell-class', description='CTP11_MO_RNA_W1A03_2_RS0708_gene_Aqp4__ENSMUST00000079081__190__30__0.43333__69.0522__1_RS0708_W1A10_9_library_smFISH-cell-class', dbxrefs=[])"
      ]
     },
     "execution_count": 5,
     "metadata": {},
     "output_type": "execute_result"
    }
   ],
   "source": [
    "full_records[0]"
   ]
  },
  {
   "cell_type": "markdown",
   "metadata": {},
   "source": [
    "# Calculate concentration"
   ]
  },
  {
   "cell_type": "code",
   "execution_count": 7,
   "metadata": {},
   "outputs": [
    {
     "name": "stdout",
     "output_type": "stream",
     "text": [
      "0.0008271\n",
      "3.659734513274336e-07\n",
      "1.1029176739630274e-11\n",
      "final in ul: 1102.9176739630275\n",
      "The history saving thread hit an unexpected error (OperationalError('database or disk is full')).History will not be written to the database.\n"
     ]
    }
   ],
   "source": [
    "# marker-gene RNA\n",
    "vol = 9 * 1e3 # ul\n",
    "conc = (93+92.4+90.3)/3 * 1e-9 # g/ul\n",
    "num_pb = 2260\n",
    "pb_len = 120-11\n",
    "final_conc = 10 # nM\n",
    "pb_mw = (pb_len * 303.7 + 79) # g/mol\n",
    "\n",
    "mass_total = vol * conc\n",
    "mass_per_pb = mass_total / num_pb\n",
    "mol_per_pb = mass_per_pb / pb_mw\n",
    "print(mass_total)\n",
    "print(mass_per_pb)\n",
    "print(mol_per_pb)\n",
    "target_conc = final_conc * 1e-9 * 1e-6 # mol/ul\n",
    "final_vol = mol_per_pb / target_conc\n",
    "print(\"final in ul:\", final_vol)"
   ]
  },
  {
   "cell_type": "code",
   "execution_count": 8,
   "metadata": {},
   "outputs": [
    {
     "name": "stdout",
     "output_type": "stream",
     "text": [
      "0.0015948000000000002\n",
      "4.746428571428572e-07\n",
      "1.1906643315669575e-11\n",
      "final in ul: 1190.6643315669576\n"
     ]
    }
   ],
   "source": [
    "# marker-gene DNA TSS\n",
    "vol = 9 * 1e3 # ul\n",
    "conc = (165.8+191.3+174.5)/3 * 1e-9 # g/ul\n",
    "num_pb = 3360\n",
    "pb_len = 142-11\n",
    "final_conc = 10 # nM\n",
    "pb_mw = (pb_len * 303.7 + 79) # g/mol\n",
    "\n",
    "mass_total = vol * conc\n",
    "mass_per_pb = mass_total / num_pb\n",
    "mol_per_pb = mass_per_pb / pb_mw\n",
    "print(mass_total)\n",
    "print(mass_per_pb)\n",
    "print(mol_per_pb)\n",
    "target_conc = final_conc * 1e-9 * 1e-6 # mol/ul\n",
    "final_vol = mol_per_pb / target_conc\n",
    "print(\"final in ul:\", final_vol)"
   ]
  }
 ],
 "metadata": {
  "kernelspec": {
   "display_name": "Python 3 (ipykernel)",
   "language": "python",
   "name": "python3"
  },
  "language_info": {
   "codemirror_mode": {
    "name": "ipython",
    "version": 3
   },
   "file_extension": ".py",
   "mimetype": "text/x-python",
   "name": "python",
   "nbconvert_exporter": "python",
   "pygments_lexer": "ipython3",
   "version": "3.9.13"
  },
  "toc": {
   "base_numbering": 1,
   "nav_menu": {},
   "number_sections": true,
   "sideBar": true,
   "skip_h1_title": false,
   "title_cell": "Table of Contents",
   "title_sidebar": "Contents",
   "toc_cell": false,
   "toc_position": {},
   "toc_section_display": true,
   "toc_window_display": false
  },
  "varInspector": {
   "cols": {
    "lenName": 16,
    "lenType": 16,
    "lenVar": 40
   },
   "kernels_config": {
    "python": {
     "delete_cmd_postfix": "",
     "delete_cmd_prefix": "del ",
     "library": "var_list.py",
     "varRefreshCmd": "print(var_dic_list())"
    },
    "r": {
     "delete_cmd_postfix": ") ",
     "delete_cmd_prefix": "rm(",
     "library": "var_list.r",
     "varRefreshCmd": "cat(var_dic_list()) "
    }
   },
   "types_to_exclude": [
    "module",
    "function",
    "builtin_function_or_method",
    "instance",
    "_Feature"
   ],
   "window_display": false
  }
 },
 "nbformat": 4,
 "nbformat_minor": 2
}
