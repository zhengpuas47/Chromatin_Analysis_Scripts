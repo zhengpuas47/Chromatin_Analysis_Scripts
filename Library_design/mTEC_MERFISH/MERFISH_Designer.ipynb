{
 "cells": [
  {
   "cell_type": "markdown",
   "id": "703647f1",
   "metadata": {},
   "source": [
    "Design MERFISH probes using the example inputs from Jeff Moffitt. The original MATLAB design pipeline can be found at https://github.com/ZhuangLab/MERFISH_analysis."
   ]
  },
  {
   "cell_type": "markdown",
   "id": "restricted-wrist",
   "metadata": {},
   "source": [
    "# Prepare inputs"
   ]
  },
  {
   "cell_type": "raw",
   "id": "db318bbe",
   "metadata": {},
   "source": [
    "%run \"..\\..\\Startup_py3.py\"\n",
    "sys.path.append(r\"..\\..\\..\\..\\Documents\")"
   ]
  },
  {
   "cell_type": "code",
   "execution_count": 3,
   "id": "b8192853",
   "metadata": {},
   "outputs": [],
   "source": [
    "# Define all the input files you need in this script\n",
    "import os\n",
    "ref_folder = r'\\\\10.245.74.212\\Chromatin_NAS_2\\Chromatin_Libraries\\mTEC_MERFISH\\MERFISH_designer'\n",
    "\n",
    "output_folder = os.path.join(ref_folder, 'outputs')\n",
    "if not os.path.exists(output_folder):\n",
    "    os.makedirs(output_folder)\n",
    "\n",
    "\n",
    "codebook_file = os.path.join(ref_folder, r'codebook.csv')\n",
    "transcripts_fasta_file = os.path.join(ref_folder, r'transcripts.fasta')\n",
    "fpkm_tracking_file = os.path.join(ref_folder, r'isoforms.fpkm_tracking')\n",
    "readout_fasta_file = os.path.join(ref_folder, r'readouts.fasta')\n",
    "forward_primer_file = r'\\\\10.245.74.212\\Chromatin_NAS_2\\Libraries\\Primers\\forward_primers.fasta'\n",
    "reverse_primer_file = r'\\\\10.245.74.212\\Chromatin_NAS_2\\Libraries\\Primers\\reverse_primers.fasta'\n",
    "ncRNA_file = os.path.join(ref_folder, r'Homo_sapiens.GRCh38.ncrna.fa')\n",
    "\n",
    "# Define the output files\n",
    "ottable_transcriptome_file = os.path.join(ref_folder, r'outputs\\ottable_transcriptome.pkl')\n",
    "selected_primers_file = os.path.join(ref_folder, r'outputs\\selected_primers.csv')\n",
    "probe_output_file = os.path.join(ref_folder, r'outputs\\designed_probes.csv')\n",
    "transcript_level_report_file = os.path.join(ref_folder, r'outputs\\transcript_level_report.csv')"
   ]
  },
  {
   "cell_type": "code",
   "execution_count": 4,
   "id": "quantitative-stationery",
   "metadata": {},
   "outputs": [
    {
     "name": "stdout",
     "output_type": "stream",
     "text": [
      "\\\\10.245.74.212\\Chromatin_NAS_2\\Chromatin_Libraries\\mTEC_MERFISH\\MERFISH_designer\\transcripts.fasta\n"
     ]
    }
   ],
   "source": [
    "print(transcripts_fasta_file)"
   ]
  },
  {
   "cell_type": "markdown",
   "id": "extreme-berlin",
   "metadata": {},
   "source": [
    "# Initialize data structures"
   ]
  },
  {
   "cell_type": "code",
   "execution_count": 5,
   "id": "4a201f27",
   "metadata": {},
   "outputs": [],
   "source": [
    "# Import the modules\n",
    "import os\n",
    "import sys\n",
    "\n",
    "from IPython.display import display\n",
    "import MERFISH_probe_design\n",
    "\n",
    "import MERFISH_probe_design.IO.file_io as fio\n",
    "import MERFISH_probe_design.probe_design.probe_dict as p_d\n",
    "import MERFISH_probe_design.probe_design.OTTable_dict as ot\n",
    "import MERFISH_probe_design.probe_design.readout_sequences as rs\n",
    "import MERFISH_probe_design.probe_design.probe_selection as ps\n",
    "import MERFISH_probe_design.probe_design.quality_check as qc\n",
    "from MERFISH_probe_design.probe_design import filters\n",
    "from MERFISH_probe_design.probe_design import plot\n",
    "from MERFISH_probe_design.probe_design import primer_design"
   ]
  },
  {
   "cell_type": "markdown",
   "id": "ecological-booking",
   "metadata": {},
   "source": [
    "## load transcriptome"
   ]
  },
  {
   "cell_type": "code",
   "execution_count": null,
   "id": "6fdd4763",
   "metadata": {},
   "outputs": [],
   "source": [
    "## load transcriptome"
   ]
  }
 ],
 "metadata": {
  "kernelspec": {
   "display_name": "postanalysis",
   "language": "python",
   "name": "postanalysis"
  },
  "language_info": {
   "codemirror_mode": {
    "name": "ipython",
    "version": 3
   },
   "file_extension": ".py",
   "mimetype": "text/x-python",
   "name": "python",
   "nbconvert_exporter": "python",
   "pygments_lexer": "ipython3",
   "version": "3.9.13"
  }
 },
 "nbformat": 4,
 "nbformat_minor": 5
}
