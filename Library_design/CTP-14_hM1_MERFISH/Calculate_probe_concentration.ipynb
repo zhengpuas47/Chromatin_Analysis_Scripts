{
 "cells": [
  {
   "cell_type": "markdown",
   "id": "80bebeaa",
   "metadata": {},
   "source": [
    "## Library amplification \n",
    "\n",
    "2022.09.30"
   ]
  },
  {
   "cell_type": "code",
   "execution_count": 5,
   "id": "61871da7",
   "metadata": {},
   "outputs": [
    {
     "name": "stdout",
     "output_type": "stream",
     "text": [
      "0.0019822\n",
      "7.877439097086993e-08\n",
      "2.1390564718226163e-12\n",
      "final in ul: 213.91\n"
     ]
    }
   ],
   "source": [
    "# hM1\n",
    "vol = 22 * 1e3 # ul\n",
    "conc = 90.1 * 1e-9 # g/ul\n",
    "num_pb = 25163\n",
    "pb_len = 133-12\n",
    "final_conc = 10 # nM\n",
    "pb_mw = (pb_len * 303.7 + 79) # g/mol\n",
    "\n",
    "mass_total = vol * conc\n",
    "mass_per_pb = mass_total / num_pb\n",
    "mol_per_pb = mass_per_pb / pb_mw\n",
    "print(mass_total)\n",
    "print(mass_per_pb)\n",
    "print(mol_per_pb)\n",
    "target_conc = final_conc * 1e-9 * 1e-6 # mol/ul\n",
    "final_vol = mol_per_pb / target_conc\n",
    "print(f\"final in ul: {final_vol:.2f}\")"
   ]
  },
  {
   "cell_type": "code",
   "execution_count": null,
   "id": "1bb19361",
   "metadata": {},
   "outputs": [],
   "source": []
  }
 ],
 "metadata": {
  "kernelspec": {
   "display_name": "Python 3",
   "language": "python",
   "name": "python3"
  },
  "language_info": {
   "codemirror_mode": {
    "name": "ipython",
    "version": 3
   },
   "file_extension": ".py",
   "mimetype": "text/x-python",
   "name": "python",
   "nbconvert_exporter": "python",
   "pygments_lexer": "ipython3",
   "version": "3.7.9"
  }
 },
 "nbformat": 4,
 "nbformat_minor": 5
}
