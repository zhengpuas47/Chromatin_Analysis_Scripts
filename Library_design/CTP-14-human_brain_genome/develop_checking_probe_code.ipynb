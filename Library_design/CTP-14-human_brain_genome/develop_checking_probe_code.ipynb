{
 "cells": [
  {
   "cell_type": "code",
   "execution_count": 1,
   "id": "0084a597",
   "metadata": {},
   "outputs": [
    {
     "name": "stdout",
     "output_type": "stream",
     "text": [
      "22548\n"
     ]
    }
   ],
   "source": [
    "%run \"..\\..\\Startup_py3.py\"\n",
    "sys.path.append(r\"..\\..\\..\\..\\Documents\")\n",
    "\n",
    "import ImageAnalysis3 as ia\n",
    "%matplotlib notebook\n",
    "\n",
    "from ImageAnalysis3 import *\n",
    "print(os.getpid())\n",
    "\n",
    "# library design specific tools\n",
    "from ImageAnalysis3.library_tools import LibraryDesigner as ld\n",
    "from ImageAnalysis3.library_tools import LibraryTools as lt\n",
    "# biopython imports\n",
    "from Bio import SeqIO\n",
    "from Bio.Seq import Seq\n",
    "from Bio.SeqRecord import SeqRecord\n",
    "from Bio.Blast.Applications import NcbiblastnCommandline\n",
    "from Bio.Blast import NCBIXML"
   ]
  },
  {
   "cell_type": "code",
   "execution_count": 4,
   "id": "a922d764",
   "metadata": {},
   "outputs": [],
   "source": [
    "from ImageAnalysis3 import library_tools\n",
    "pool_folder = r'\\\\10.245.74.212\\Chromatin_NAS_2\\Chromatin_Libraries\\CTP-15_human_brain'\n",
    "library_folder = os.path.join(pool_folder, f'human_genome_library')\n",
    "report_folder = os.path.join(library_folder, 'reports')\n",
    "\n",
    "probe_savefile = os.path.join(report_folder, f'merged_probes.pbr')\n"
   ]
  },
  {
   "cell_type": "code",
   "execution_count": 5,
   "id": "b3443b4c",
   "metadata": {},
   "outputs": [
    {
     "name": "stdout",
     "output_type": "stream",
     "text": [
      "- Loading from savefile: \\\\10.245.74.212\\Chromatin_NAS_2\\Chromatin_Libraries\\CTP-15_human_brain\\human_genome_library\\reports\\merged_probes.pbr.\n",
      "- loading cand_probes from file\n",
      "- loading kept_probes from file\n",
      "- 223012 filtered probes loaded\n",
      "- loading sequence_dic from file\n",
      "- loading map_dic from file\n",
      "- loading params_dic from file\n",
      "- loading check_dic from file\n",
      "- loading save_file from file\n"
     ]
    },
    {
     "data": {
      "text/plain": [
       "True"
      ]
     },
     "execution_count": 5,
     "metadata": {},
     "output_type": "execute_result"
    }
   ],
   "source": [
    "# Parse segemented list\n",
    "_pbde = library_tools.design.pb_reports_class()\n",
    "_pbde.load_from_file(probe_savefile)"
   ]
  },
  {
   "cell_type": "code",
   "execution_count": 6,
   "id": "ad08c748",
   "metadata": {},
   "outputs": [],
   "source": [
    "# save to csv\n",
    "cand_probe_dict = {_s:_v for _s,_v in _pbde.cand_probes.items() if _v['reg_index']==0}"
   ]
  },
  {
   "cell_type": "code",
   "execution_count": 8,
   "id": "276dafcd",
   "metadata": {},
   "outputs": [],
   "source": [
    "    check_dic={('genome','self_sequences'): 25,\n",
    "               'rep_genome': 0,\n",
    "               'transcriptome': 25, # 14\n",
    "               #'ref_merfish': 14,\n",
    "               'gc':[0.25,0.75],'tm': 37+0.62*50+5,\n",
    "               }"
   ]
  },
  {
   "cell_type": "code",
   "execution_count": 10,
   "id": "5ea422ee",
   "metadata": {},
   "outputs": [],
   "source": [
    "from ImageAnalysis3.library_tools.LibraryTools import fastaread"
   ]
  },
  {
   "cell_type": "code",
   "execution_count": 12,
   "id": "32d8564d",
   "metadata": {},
   "outputs": [],
   "source": [
    "names, seqs = fastaread(r'\\\\10.245.74.212\\Chromatin_NAS_2\\Chromatin_Libraries\\CTP-15_human_brain\\human_genome_library\\sequences\\all_reg_1.fasta')"
   ]
  },
  {
   "cell_type": "code",
   "execution_count": 23,
   "id": "fd5c7a08",
   "metadata": {},
   "outputs": [
    {
     "name": "stdout",
     "output_type": "stream",
     "text": [
      "-- checking 37596 candidate probes in region: 1:1240000-1260000_:+\n",
      "- 11908 probes pass quality checks. \n"
     ]
    }
   ],
   "source": [
    "kept_cand_probes = check_region_probes(names[0], seqs[0], cand_probe_dict, check_dic,)"
   ]
  },
  {
   "cell_type": "code",
   "execution_count": null,
   "id": "d64b0874",
   "metadata": {},
   "outputs": [],
   "source": [
    "# optimize coverage:\n"
   ]
  },
  {
   "cell_type": "code",
   "execution_count": null,
   "id": "cc96180b",
   "metadata": {},
   "outputs": [],
   "source": []
  },
  {
   "cell_type": "code",
   "execution_count": 24,
   "id": "2e020e0a",
   "metadata": {},
   "outputs": [],
   "source": [
    "def check_region_probes(\n",
    "    _reg_name, _reg_seq,\n",
    "    _cand_probe_dict, _check_dic, \n",
    "    buffer_len=0, \n",
    "    pick_probe_by_hit=True, verbose=True):\n",
    "    \n",
    "    _filtered_probe_dict = {}\n",
    "    \n",
    "    if verbose:\n",
    "        print(f\"-- checking {len(_cand_probe_dict)} candidate probes in region: {_reg_name}\")\n",
    "    # loop through probes\n",
    "    for _pb, _info in _cand_probe_dict.items():\n",
    "        # 0. remove edge probes\n",
    "        _edge_size = int(max(buffer_len, 0))\n",
    "        if _info['pb_index'] < _edge_size or _info['pb_index'] > len(_reg_seq)-len(_pb)+1-_edge_size:\n",
    "            continue\n",
    "        _check_gc, _check_tm = True, True\n",
    "        _check_mask = True\n",
    "        _check_map = True\n",
    "        # 1. discard if GC or Tm doesn't pass the threshold:\n",
    "        if 'gc' in  _check_dic:\n",
    "            if isinstance(_check_dic['gc'], list) or isinstance(_check_dic['gc'], tuple):\n",
    "                if _info['gc'] > np.max(_check_dic['gc']) or _info['gc'] < np.min(_check_dic['gc']):\n",
    "                    _check_gc = False\n",
    "            else:\n",
    "                if _info['gc'] < _check_dic['gc']:\n",
    "                    _check_gc = False\n",
    "        if 'tm' in _check_dic:\n",
    "            if isinstance(_check_dic['tm'], list) or isinstance(_check_dic['tm'], tuple):\n",
    "                if _info['tm'] > np.max(_check_dic['tm']) or _info['tm'] < np.min(_check_dic['tm']):\n",
    "                    _check_tm = False\n",
    "            else:\n",
    "                if _info['tm'] < _check_dic['tm']:\n",
    "                    _check_tm = False\n",
    "        if not _check_gc or not _check_tm:\n",
    "            continue\n",
    "        # 2. masking privided sequences\n",
    "        _mask_check = True\n",
    "        if 'masks' in _check_dic:\n",
    "            # get existence\n",
    "            _mask_exists = [find_sub_sequence(_pb, _str) for _str in _check_dic['masks']]\n",
    "            # skip this probe if masked\n",
    "            if np.sum(_mask_exists) > 0:\n",
    "                _check_mask = False\n",
    "        if not _check_mask:\n",
    "            continue\n",
    "        # 3. calculate map values\n",
    "        _map_score_dict = {}\n",
    "        for _check_key, _thres in _check_dic.items(): # loop through \n",
    "            if _check_key not in ['gc', 'tm', 'masks']:\n",
    "                if isinstance(_check_key, str):\n",
    "                    _check_map_key = f\"map_{_check_key}\"\n",
    "                    _pb_map_value = _info[_check_map_key]\n",
    "\n",
    "                    if _pb_map_value > _thres:\n",
    "                        _check_map = False\n",
    "                        break \n",
    "                    else:\n",
    "                        # zero hit with non-zero threshold\n",
    "                        if _pb_map_value <= 0 and _thres > 0:\n",
    "                            _map_score_dict[_check_key] = _thres / 0.5 #\n",
    "                        # if both zero hits and zero threshold ,skip\n",
    "                        elif _pb_map_value <= 0 and _thres <= 0: \n",
    "                            _map_score_dict[_check_key] = np.nan \n",
    "                        # have hits with positive threshold\n",
    "                        else:    \n",
    "                            _map_score_dict[_check_key] =  _thres / _pb_map_value\n",
    "\n",
    "                elif isinstance(_check_key, list) or isinstance(_check_key, tuple):\n",
    "                    _tar_map_key, _ref_map_key = f\"map_{_check_key[0]}\", f\"map_{_check_key[1]}\"\n",
    "                    _pb_map_value = _info[_tar_map_key] - _info[_ref_map_key]\n",
    "\n",
    "                    if _pb_map_value > _thres:\n",
    "                        _check_map = False\n",
    "                        break \n",
    "                    else:\n",
    "                        # zero hit with non-zero threshold\n",
    "                        if _pb_map_value <= 0 and _thres > 0:\n",
    "                            _map_score_dict[_check_key] = _thres / 0.5 #\n",
    "                        # if both zero hits and zero threshold ,skip\n",
    "                        elif _pb_map_value <= 0 and _thres <= 0: \n",
    "                            _map_score_dict[_check_key] = np.nan \n",
    "                        # have hits with positive threshold\n",
    "                        else:    \n",
    "                            _map_score_dict[_check_key] =  _thres / _pb_map_value\n",
    "        if not _check_map:\n",
    "            continue\n",
    "        else:\n",
    "            pass\n",
    "        # if everything passed, store it temporarily\n",
    "        if _check_gc and _check_tm and _check_mask and _check_map:\n",
    "            _filtered_probe_dict[_pb] = _info\n",
    "    if verbose:\n",
    "        print(f\"- {len(_filtered_probe_dict)} probes passed quality checks. \")\n",
    "        # 4. \n",
    "    return _filtered_probe_dict"
   ]
  },
  {
   "cell_type": "code",
   "execution_count": null,
   "id": "0bcfdf48",
   "metadata": {},
   "outputs": [],
   "source": []
  }
 ],
 "metadata": {
  "kernelspec": {
   "display_name": "postanalysis",
   "language": "python",
   "name": "postanalysis"
  },
  "language_info": {
   "codemirror_mode": {
    "name": "ipython",
    "version": 3
   },
   "file_extension": ".py",
   "mimetype": "text/x-python",
   "name": "python",
   "nbconvert_exporter": "python",
   "pygments_lexer": "ipython3",
   "version": "3.9.13"
  }
 },
 "nbformat": 4,
 "nbformat_minor": 5
}
