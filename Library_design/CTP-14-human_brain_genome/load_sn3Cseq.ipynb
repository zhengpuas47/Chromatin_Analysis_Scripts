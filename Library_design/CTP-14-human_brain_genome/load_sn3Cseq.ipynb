{
 "cells": [
  {
   "cell_type": "code",
   "execution_count": 32,
   "id": "54ab6c54",
   "metadata": {},
   "outputs": [],
   "source": [
    "import h5py\n",
    "import os\n",
    "import numpy as np"
   ]
  },
  {
   "cell_type": "code",
   "execution_count": 37,
   "id": "c4358ca0",
   "metadata": {},
   "outputs": [],
   "source": [
    "ref_folder = r'\\\\10.245.74.158\\Chromatin_NAS_0\\Hi-C\\sn3Cseq\\2019_human_cortex\\Interaction\\Human_single_cell_10kb_cool'"
   ]
  },
  {
   "cell_type": "code",
   "execution_count": 38,
   "id": "b38af7d5",
   "metadata": {},
   "outputs": [],
   "source": [
    "matched_files = [os.path.join(ref_folder, _fl) for _fl in os.listdir(ref_folder) if '.cool' in _fl]"
   ]
  },
  {
   "cell_type": "code",
   "execution_count": 39,
   "id": "4fbbd9c6",
   "metadata": {},
   "outputs": [
    {
     "data": {
      "text/plain": [
       "'\\\\\\\\10.245.74.158\\\\Chromatin_NAS_0\\\\Hi-C\\\\sn3Cseq\\\\2019_human_cortex\\\\Interaction\\\\Human_single_cell_10kb_cool\\\\181218_21yr_2_A10_AD001_L23_10kb_contacts.cool'"
      ]
     },
     "execution_count": 39,
     "metadata": {},
     "output_type": "execute_result"
    }
   ],
   "source": [
    "matched_files[0]"
   ]
  },
  {
   "cell_type": "code",
   "execution_count": 43,
   "id": "c45b55e0",
   "metadata": {},
   "outputs": [
    {
     "name": "stdout",
     "output_type": "stream",
     "text": [
      "<KeysViewHDF5 ['bins', 'chroms', 'indexes', 'pixels']>\n",
      "<KeysViewHDF5 ['bin1_id', 'bin2_id', 'count']>\n",
      "(298057,)\n"
     ]
    }
   ],
   "source": [
    "with h5py.File(matched_files[0]) as _f:\n",
    "    print(_f.keys())\n",
    "    print(_f['pixels'].keys())\n",
    "    print(_f['pixels']['count'][:].shape)"
   ]
  },
  {
   "cell_type": "code",
   "execution_count": 44,
   "id": "eb630a73",
   "metadata": {},
   "outputs": [],
   "source": [
    "cluster_ref_folder = r'\\\\10.245.74.158\\Chromatin_NAS_0\\Hi-C\\sn3Cseq\\2019_human_cortex\\Interaction\\Human_cluster_mcool'"
   ]
  },
  {
   "cell_type": "code",
   "execution_count": 45,
   "id": "cf5c48f5",
   "metadata": {},
   "outputs": [],
   "source": [
    "matched_cluster_files = [os.path.join(cluster_ref_folder, _fl) for _fl in os.listdir(cluster_ref_folder) if '.mcool' in _fl]"
   ]
  },
  {
   "cell_type": "code",
   "execution_count": null,
   "id": "2a5035b1",
   "metadata": {},
   "outputs": [],
   "source": []
  },
  {
   "cell_type": "code",
   "execution_count": 60,
   "id": "8e32d1c9",
   "metadata": {},
   "outputs": [
    {
     "name": "stdout",
     "output_type": "stream",
     "text": [
      "\\\\10.245.74.158\\Chromatin_NAS_0\\Hi-C\\sn3Cseq\\2019_human_cortex\\Interaction\\Human_cluster_mcool\\Astro_all_brain.txt_1kb_contacts.mcool\n",
      "<KeysViewHDF5 ['bin1_id', 'bin2_id', 'count']>\n"
     ]
    }
   ],
   "source": [
    "_fl = matched_cluster_files[0]\n",
    "sel_resolution = 100000\n",
    "\n",
    "print(_fl)\n",
    "with h5py.File(_fl) as _f:\n",
    "    print(_f['resolutions'][str(sel_resolution)]['pixels'].keys())\n",
    "    _starts = _f['resolutions'][str(sel_resolution)]['bins']['start'][:]\n",
    "    _ends = _f['resolutions'][str(sel_resolution)]['bins']['end'][:]\n",
    "    _chroms = _f['resolutions'][str(sel_resolution)]['bins']['chrom'][:]\n",
    "    _weights = _f['resolutions'][str(sel_resolution)]['bins']['weight'][:]\n",
    "    chrom_lens = _f['resolutions'][str(sel_resolution)]['chroms']['length'][:]\n",
    "    chrom_names = _f['resolutions'][str(sel_resolution)]['chroms']['name'][:]\n",
    "    indexes = _f['resolutions'][str(sel_resolution)]['indexes']['bin1_offset'][:]#, 'chrom_offset'][:]\n",
    "    bin1_ids = _f['resolutions'][str(sel_resolution)]['pixels']['bin1_id'][:]\n",
    "    bin2_ids = _f['resolutions'][str(sel_resolution)]['pixels']['bin2_id'][:]\n",
    "    counts = _f['resolutions'][str(sel_resolution)]['pixels']['count'][:]\n",
    "    #pixels = _f['resolutions'][str(sel_resolution)]['pixels'][:]\n",
    "    "
   ]
  },
  {
   "cell_type": "code",
   "execution_count": 98,
   "id": "e0f5c03e",
   "metadata": {},
   "outputs": [
    {
     "data": {
      "text/plain": [
       "array([b'chr1', b'chr2', b'chr3', b'chr4', b'chr5', b'chr6', b'chr7',\n",
       "       b'chr8', b'chr9', b'chr10', b'chr11', b'chr12', b'chr13', b'chr14',\n",
       "       b'chr15', b'chr16', b'chr17', b'chr18', b'chr19', b'chr20',\n",
       "       b'chr21', b'chr22', b'chrX', b'chrY', b'chrM'], dtype='|S5')"
      ]
     },
     "execution_count": 98,
     "metadata": {},
     "output_type": "execute_result"
    }
   ],
   "source": [
    "chrom_names"
   ]
  },
  {
   "cell_type": "code",
   "execution_count": 107,
   "id": "c4fd28bf",
   "metadata": {},
   "outputs": [],
   "source": [
    "chr_2_num_bins = {_chr.decode():int(np.ceil(_len/sel_resolution)) for _chr, _len in zip(chrom_names, chrom_lens) }"
   ]
  },
  {
   "cell_type": "code",
   "execution_count": 110,
   "id": "85c600e4",
   "metadata": {
    "scrolled": true
   },
   "outputs": [
    {
     "data": {
      "text/plain": [
       "2493"
      ]
     },
     "execution_count": 110,
     "metadata": {},
     "output_type": "execute_result"
    }
   ],
   "source": []
  },
  {
   "cell_type": "code",
   "execution_count": null,
   "id": "ae7b5832",
   "metadata": {},
   "outputs": [],
   "source": []
  },
  {
   "cell_type": "code",
   "execution_count": 101,
   "id": "23d47928",
   "metadata": {},
   "outputs": [
    {
     "data": {
      "text/plain": [
       "30971.0"
      ]
     },
     "execution_count": 101,
     "metadata": {},
     "output_type": "execute_result"
    }
   ],
   "source": [
    "np.ceil(chrom_lens/sel_resolution).sum()"
   ]
  },
  {
   "cell_type": "code",
   "execution_count": 102,
   "id": "370f7da7",
   "metadata": {},
   "outputs": [
    {
     "data": {
      "text/plain": [
       "30971"
      ]
     },
     "execution_count": 102,
     "metadata": {},
     "output_type": "execute_result"
    }
   ],
   "source": [
    "len(_starts)"
   ]
  },
  {
   "cell_type": "code",
   "execution_count": null,
   "id": "0305553f",
   "metadata": {},
   "outputs": [],
   "source": []
  },
  {
   "cell_type": "code",
   "execution_count": 119,
   "id": "2ede575b",
   "metadata": {},
   "outputs": [],
   "source": [
    "from tqdm import tqdm"
   ]
  },
  {
   "cell_type": "code",
   "execution_count": 65,
   "id": "1ded74cb",
   "metadata": {},
   "outputs": [],
   "source": [
    "from scipy.sparse import coo_array\n",
    "sps_count_array = coo_array((counts, (bin1_ids, bin2_ids)), shape=(len(_starts),len(_starts)) )"
   ]
  },
  {
   "cell_type": "code",
   "execution_count": 80,
   "id": "20e8d197",
   "metadata": {},
   "outputs": [],
   "source": []
  },
  {
   "cell_type": "code",
   "execution_count": 92,
   "id": "b14d4d70",
   "metadata": {},
   "outputs": [
    {
     "name": "stdout",
     "output_type": "stream",
     "text": [
      "2.78 s ± 4.35 ms per loop (mean ± std. dev. of 7 runs, 1 loop each)\n"
     ]
    }
   ],
   "source": [
    "%%timeit\n",
    "sps_count_array.getrow(1).getcol(1).toarray()"
   ]
  },
  {
   "cell_type": "code",
   "execution_count": 64,
   "id": "d5675c6e",
   "metadata": {},
   "outputs": [
    {
     "data": {
      "text/plain": [
       "array([100000, 100000, 100000, ..., 100000, 100000,  16571])"
      ]
     },
     "execution_count": 64,
     "metadata": {},
     "output_type": "execute_result"
    }
   ],
   "source": [
    "_ends[bin1_ids] - _starts[bin1_ids]\n",
    "\n"
   ]
  },
  {
   "cell_type": "code",
   "execution_count": 118,
   "id": "eb3aab6b",
   "metadata": {},
   "outputs": [],
   "source": [
    "# fit default model\n",
    "fit_distances, fit_counts = [], []\n",
    "for _diag in np.arange(1, max(list(chr_2_num_bins.values()))):\n",
    "    #print(_diag)\n",
    "    _diag_vector = sps_count_array.diagonal(_diag)\n",
    "    # start diff\n",
    "    _start_vector = _starts[_diag:] - _starts[:-_diag]\n",
    "    _kept_flags = _start_vector == sel_resolution * _diag\n",
    "    _mean_count = np.mean(_diag_vector[_kept_flags])\n",
    "    \n",
    "    #\n",
    "    fit_distances.append(sel_resolution * _diag)\n",
    "    fit_counts.append(_mean_count)\n",
    "    #\n",
    "    "
   ]
  },
  {
   "cell_type": "code",
   "execution_count": 122,
   "id": "b0d4f814",
   "metadata": {},
   "outputs": [
    {
     "data": {
      "image/png": "[encoded data removed]",
      "text/plain": [
       "<Figure size 640x480 with 1 Axes>"
      ]
     },
     "metadata": {},
     "output_type": "display_data"
    }
   ],
   "source": [
    "plt.figure()\n",
    "plt.plot(fit_distances, fit_counts)\n",
    "plt.yscale('log')\n",
    "plt.xscale('log')"
   ]
  },
  {
   "cell_type": "code",
   "execution_count": 116,
   "id": "c2f031d4",
   "metadata": {},
   "outputs": [
    {
     "data": {
      "text/plain": [
       "445.3660570025205"
      ]
     },
     "execution_count": 116,
     "metadata": {},
     "output_type": "execute_result"
    }
   ],
   "source": [
    "_mean_count"
   ]
  },
  {
   "cell_type": "code",
   "execution_count": 114,
   "id": "bfb179dd",
   "metadata": {},
   "outputs": [
    {
     "data": {
      "text/plain": [
       "0.9992250565062964"
      ]
     },
     "execution_count": 114,
     "metadata": {},
     "output_type": "execute_result"
    }
   ],
   "source": [
    "np.mean(_kept_flags)"
   ]
  },
  {
   "cell_type": "code",
   "execution_count": null,
   "id": "ba3ca608",
   "metadata": {},
   "outputs": [],
   "source": []
  },
  {
   "cell_type": "code",
   "execution_count": 96,
   "id": "37fd97e7",
   "metadata": {},
   "outputs": [
    {
     "data": {
      "text/plain": [
       "[<matplotlib.lines.Line2D at 0x2903f0dbe20>]"
      ]
     },
     "execution_count": 96,
     "metadata": {},
     "output_type": "execute_result"
    },
    {
     "data": {
      "image/png": "[encoded data removed]",
      "text/plain": [
       "<Figure size 640x480 with 1 Axes>"
      ]
     },
     "metadata": {},
     "output_type": "display_data"
    }
   ],
   "source": [
    "import matplotlib.pyplot as plt\n",
    "plt.figure()\n",
    "plt.plot(_starts[1:] - _starts[:-1])"
   ]
  },
  {
   "cell_type": "code",
   "execution_count": null,
   "id": "2d6df745",
   "metadata": {},
   "outputs": [],
   "source": []
  },
  {
   "cell_type": "code",
   "execution_count": 93,
   "id": "3130b277",
   "metadata": {},
   "outputs": [
    {
     "data": {
      "text/plain": [
       "array([0, 1, 0, ..., 0, 0, 0])"
      ]
     },
     "execution_count": 93,
     "metadata": {},
     "output_type": "execute_result"
    }
   ],
   "source": []
  },
  {
   "cell_type": "code",
   "execution_count": 25,
   "id": "7076ce8f",
   "metadata": {},
   "outputs": [],
   "source": [
    "import pandas as pd"
   ]
  },
  {
   "cell_type": "code",
   "execution_count": 26,
   "id": "681dd38e",
   "metadata": {},
   "outputs": [],
   "source": [
    "methylation_folder = r'\\\\10.245.74.158\\Chromatin_NAS_0\\Hi-C\\sn3Cseq\\2019_human_cortex\\Methylation\\Combined_cluster_allc'"
   ]
  },
  {
   "cell_type": "code",
   "execution_count": 29,
   "id": "4a684097",
   "metadata": {},
   "outputs": [],
   "source": [
    "astro_df = pd.read_csv(os.path.join(methylation_folder, 'allc_Astro.tsv'), delimiter='\\t', low_memory=False)"
   ]
  },
  {
   "cell_type": "code",
   "execution_count": 34,
   "id": "5e0d2c7f",
   "metadata": {},
   "outputs": [
    {
     "data": {
      "text/plain": [
       "array(['1', '10', '11', '12', '13', '14', '15', '16', '17', '18', '19',\n",
       "       '2', '20', '21', '22', '3', '4', '5', '6', '7', '8', '9', 'X'],\n",
       "      dtype=object)"
      ]
     },
     "execution_count": 34,
     "metadata": {},
     "output_type": "execute_result"
    }
   ],
   "source": [
    "np.unique(astro_df['7'])"
   ]
  },
  {
   "cell_type": "code",
   "execution_count": 35,
   "id": "eed1376e",
   "metadata": {},
   "outputs": [
    {
     "data": {
      "text/html": [
       "<div>\n",
       "<style scoped>\n",
       "    .dataframe tbody tr th:only-of-type {\n",
       "        vertical-align: middle;\n",
       "    }\n",
       "\n",
       "    .dataframe tbody tr th {\n",
       "        vertical-align: top;\n",
       "    }\n",
       "\n",
       "    .dataframe thead th {\n",
       "        text-align: right;\n",
       "    }\n",
       "</style>\n",
       "<table border=\"1\" class=\"dataframe\">\n",
       "  <thead>\n",
       "    <tr style=\"text-align: right;\">\n",
       "      <th></th>\n",
       "      <th>7</th>\n",
       "      <th>10005</th>\n",
       "      <th>+</th>\n",
       "      <th>CCC</th>\n",
       "      <th>0</th>\n",
       "      <th>2</th>\n",
       "      <th>1</th>\n",
       "    </tr>\n",
       "  </thead>\n",
       "  <tbody>\n",
       "    <tr>\n",
       "      <th>0</th>\n",
       "      <td>7</td>\n",
       "      <td>10006</td>\n",
       "      <td>+</td>\n",
       "      <td>CCT</td>\n",
       "      <td>0</td>\n",
       "      <td>2</td>\n",
       "      <td>1</td>\n",
       "    </tr>\n",
       "    <tr>\n",
       "      <th>1</th>\n",
       "      <td>7</td>\n",
       "      <td>10007</td>\n",
       "      <td>+</td>\n",
       "      <td>CTA</td>\n",
       "      <td>0</td>\n",
       "      <td>2</td>\n",
       "      <td>1</td>\n",
       "    </tr>\n",
       "    <tr>\n",
       "      <th>2</th>\n",
       "      <td>7</td>\n",
       "      <td>10011</td>\n",
       "      <td>+</td>\n",
       "      <td>CCC</td>\n",
       "      <td>0</td>\n",
       "      <td>2</td>\n",
       "      <td>1</td>\n",
       "    </tr>\n",
       "    <tr>\n",
       "      <th>3</th>\n",
       "      <td>7</td>\n",
       "      <td>10012</td>\n",
       "      <td>+</td>\n",
       "      <td>CCT</td>\n",
       "      <td>0</td>\n",
       "      <td>2</td>\n",
       "      <td>1</td>\n",
       "    </tr>\n",
       "    <tr>\n",
       "      <th>4</th>\n",
       "      <td>7</td>\n",
       "      <td>10013</td>\n",
       "      <td>+</td>\n",
       "      <td>CTA</td>\n",
       "      <td>0</td>\n",
       "      <td>2</td>\n",
       "      <td>1</td>\n",
       "    </tr>\n",
       "    <tr>\n",
       "      <th>...</th>\n",
       "      <td>...</td>\n",
       "      <td>...</td>\n",
       "      <td>...</td>\n",
       "      <td>...</td>\n",
       "      <td>...</td>\n",
       "      <td>...</td>\n",
       "      <td>...</td>\n",
       "    </tr>\n",
       "    <tr>\n",
       "      <th>1130412791</th>\n",
       "      <td>21</td>\n",
       "      <td>48119876</td>\n",
       "      <td>-</td>\n",
       "      <td>CCT</td>\n",
       "      <td>0</td>\n",
       "      <td>1</td>\n",
       "      <td>1</td>\n",
       "    </tr>\n",
       "    <tr>\n",
       "      <th>1130412792</th>\n",
       "      <td>21</td>\n",
       "      <td>48119877</td>\n",
       "      <td>-</td>\n",
       "      <td>CCC</td>\n",
       "      <td>0</td>\n",
       "      <td>1</td>\n",
       "      <td>1</td>\n",
       "    </tr>\n",
       "    <tr>\n",
       "      <th>1130412793</th>\n",
       "      <td>21</td>\n",
       "      <td>48119881</td>\n",
       "      <td>-</td>\n",
       "      <td>CTA</td>\n",
       "      <td>0</td>\n",
       "      <td>1</td>\n",
       "      <td>1</td>\n",
       "    </tr>\n",
       "    <tr>\n",
       "      <th>1130412794</th>\n",
       "      <td>21</td>\n",
       "      <td>48119882</td>\n",
       "      <td>-</td>\n",
       "      <td>CCT</td>\n",
       "      <td>0</td>\n",
       "      <td>1</td>\n",
       "      <td>1</td>\n",
       "    </tr>\n",
       "    <tr>\n",
       "      <th>1130412795</th>\n",
       "      <td>21</td>\n",
       "      <td>48119883</td>\n",
       "      <td>-</td>\n",
       "      <td>CCC</td>\n",
       "      <td>0</td>\n",
       "      <td>1</td>\n",
       "      <td>1</td>\n",
       "    </tr>\n",
       "  </tbody>\n",
       "</table>\n",
       "<p>1130412796 rows × 7 columns</p>\n",
       "</div>"
      ],
      "text/plain": [
       "             7     10005  +  CCC  0  2  1\n",
       "0            7     10006  +  CCT  0  2  1\n",
       "1            7     10007  +  CTA  0  2  1\n",
       "2            7     10011  +  CCC  0  2  1\n",
       "3            7     10012  +  CCT  0  2  1\n",
       "4            7     10013  +  CTA  0  2  1\n",
       "...         ..       ... ..  ... .. .. ..\n",
       "1130412791  21  48119876  -  CCT  0  1  1\n",
       "1130412792  21  48119877  -  CCC  0  1  1\n",
       "1130412793  21  48119881  -  CTA  0  1  1\n",
       "1130412794  21  48119882  -  CCT  0  1  1\n",
       "1130412795  21  48119883  -  CCC  0  1  1\n",
       "\n",
       "[1130412796 rows x 7 columns]"
      ]
     },
     "execution_count": 35,
     "metadata": {},
     "output_type": "execute_result"
    }
   ],
   "source": [
    "astro_df"
   ]
  },
  {
   "cell_type": "code",
   "execution_count": null,
   "id": "971a355e",
   "metadata": {},
   "outputs": [],
   "source": []
  }
 ],
 "metadata": {
  "kernelspec": {
   "display_name": "postanalysis",
   "language": "python",
   "name": "postanalysis"
  },
  "language_info": {
   "codemirror_mode": {
    "name": "ipython",
    "version": 3
   },
   "file_extension": ".py",
   "mimetype": "text/x-python",
   "name": "python",
   "nbconvert_exporter": "python",
   "pygments_lexer": "ipython3",
   "version": "3.9.13"
  }
 },
 "nbformat": 4,
 "nbformat_minor": 5
}
