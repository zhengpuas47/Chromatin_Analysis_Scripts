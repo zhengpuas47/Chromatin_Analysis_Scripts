{
 "cells": [
  {
   "cell_type": "markdown",
   "id": "4846ea43",
   "metadata": {},
   "source": [
    "<a id='0.1'></a>\n",
    "## 0.1 load required packages"
   ]
  },
  {
   "cell_type": "code",
   "execution_count": 1,
   "id": "5289a0fa",
   "metadata": {},
   "outputs": [
    {
     "name": "stdout",
     "output_type": "stream",
     "text": [
      "23484\n"
     ]
    }
   ],
   "source": [
    "%run \"..\\..\\Startup_py3.py\"\n",
    "sys.path.append(r\"..\\..\\..\\..\\Documents\")\n",
    "\n",
    "import ImageAnalysis3 as ia\n",
    "%matplotlib notebook\n",
    "\n",
    "from ImageAnalysis3 import *\n",
    "print(os.getpid())\n",
    "\n",
    "# library design specific tools\n",
    "from ImageAnalysis3.library_tools import LibraryDesigner as ld\n",
    "from ImageAnalysis3.library_tools import LibraryTools as lt\n",
    "# biopython imports\n",
    "from Bio import SeqIO\n",
    "from Bio.Seq import Seq\n",
    "from Bio.SeqRecord import SeqRecord\n",
    "from Bio.Blast.Applications import NcbiblastnCommandline\n",
    "from Bio.Blast import NCBIXML"
   ]
  },
  {
   "cell_type": "code",
   "execution_count": 2,
   "id": "96afa537",
   "metadata": {},
   "outputs": [
    {
     "name": "stdout",
     "output_type": "stream",
     "text": [
      "Use pool_folder: \\\\10.245.74.212\\Chromatin_NAS_2\\Chromatin_Libraries\\CTP-14_human_brain\n"
     ]
    }
   ],
   "source": [
    "# Pool directories\n",
    "pool_folder = r'\\\\10.245.74.212\\Chromatin_NAS_2\\Chromatin_Libraries\\CTP-14_human_brain'\n",
    "if not os.path.exists(pool_folder):\n",
    "    print(f\"Create pool_folder: {pool_folder}\")\n",
    "    os.makedirs(pool_folder)\n",
    "else:\n",
    "    print(f\"Use pool_folder: {pool_folder}\")"
   ]
  },
  {
   "cell_type": "code",
   "execution_count": 3,
   "id": "418cc13f",
   "metadata": {},
   "outputs": [
    {
     "name": "stdout",
     "output_type": "stream",
     "text": [
      "Use summary_folder: \\\\10.245.74.212\\Chromatin_NAS_2\\Chromatin_Libraries\\CTP-14_human_brain\\Summary_files\n",
      "overwrite: False\n"
     ]
    }
   ],
   "source": [
    "summary_folder = os.path.join(pool_folder, 'Summary_files')\n",
    "if not os.path.exists(summary_folder):\n",
    "    print(f\"Create summary_folder: {summary_folder}\")\n",
    "    os.makedirs(summary_folder)\n",
    "else:\n",
    "    print(f\"Use summary_folder: {summary_folder}\")\n",
    "    \n",
    "# \n",
    "overwrite = False\n",
    "print(f\"overwrite: {overwrite}\")"
   ]
  },
  {
   "cell_type": "markdown",
   "id": "3a82df07",
   "metadata": {},
   "source": [
    "# Scan probe files"
   ]
  },
  {
   "cell_type": "code",
   "execution_count": 4,
   "id": "e4567f77",
   "metadata": {},
   "outputs": [
    {
     "name": "stdout",
     "output_type": "stream",
     "text": [
      "['\\\\\\\\10.245.74.212\\\\Chromatin_NAS_2\\\\Chromatin_Libraries\\\\CTP-14_human_brain\\\\human_genome_library\\\\blast_full_probes.fasta', '\\\\\\\\10.245.74.212\\\\Chromatin_NAS_2\\\\Chromatin_Libraries\\\\CTP-14_human_brain\\\\human_brain_promoter_enhancer_v2\\\\blast_full_probes.fasta', '\\\\\\\\10.245.74.212\\\\Chromatin_NAS_2\\\\Chromatin_Libraries\\\\CTP-14_human_brain\\\\mouse_brain_long_contacts\\\\blast_full_probes.fasta', '\\\\\\\\10.245.74.212\\\\Chromatin_NAS_2\\\\Chromatin_Libraries\\\\CTP-14_human_brain\\\\mouse_long_5kb\\\\blast_full_probes.fasta', '\\\\\\\\10.245.74.212\\\\Chromatin_NAS_2\\\\Chromatin_Libraries\\\\CTP-14_human_brain\\\\mouse_long_5kb\\\\Sequential\\\\blast_sequential_full_probes.fasta', '\\\\\\\\10.245.74.212\\\\Chromatin_NAS_2\\\\Chromatin_Libraries\\\\CTP-14_human_brain\\\\human_NRNX1_5kb\\\\blast_full_probes.fasta', '\\\\\\\\10.245.74.212\\\\Chromatin_NAS_2\\\\Chromatin_Libraries\\\\CTP-14_human_brain\\\\human_NRNX1_5kb\\\\Sequential\\\\blast_sequential_full_probes.fasta', '\\\\\\\\10.245.74.212\\\\Chromatin_NAS_2\\\\Chromatin_Libraries\\\\CTP-14_human_brain\\\\mouse_brain_relabel_chr7\\\\blast_full_probes.fasta', '\\\\\\\\10.245.74.212\\\\Chromatin_NAS_2\\\\Chromatin_Libraries\\\\CTP-14_human_brain\\\\mouse_long_5kb_sequential\\\\blast_full_probes.fasta', '\\\\\\\\10.245.74.212\\\\Chromatin_NAS_2\\\\Chromatin_Libraries\\\\CTP-14_human_brain\\\\mouse_TSS_integrate_CTP13\\\\blast_full_probes.fasta']\n",
      "['human-genome-library', 'human-brain-promoter-enhancer-v2', 'mouse-brain-long-contacts', 'mouse-long-5kb', 'mouse-long-5kb-internal-sequential', 'human-NRNX1-5kb', 'human-NRNX1-5kb-internal-sequential', 'mouse-brain-relabel-chr7', 'mouse-long-5kb-sequential', 'mouse-TSS-integrate-CTP13']\n"
     ]
    }
   ],
   "source": [
    "sub_fds = [os.path.join(pool_folder, _fd) for _fd in os.listdir(pool_folder) if os.path.isdir(os.path.join(pool_folder, _fd))]\n",
    "files = []\n",
    "library_names = []\n",
    "for _fd in sub_fds:\n",
    "    if 'blast_full_probes.fasta' in os.listdir(_fd):\n",
    "        files.append(os.path.join(_fd, 'blast_full_probes.fasta'))\n",
    "        library_names.append(os.path.basename(_fd).replace('_', '-'))\n",
    "    elif 'filtered_full_probes.fasta' in os.listdir(_fd):\n",
    "        files.append(os.path.join(_fd, 'filtered_full_probes.fasta'))\n",
    "        library_names.append(os.path.basename(_fd).replace('_', '-'))\n",
    "    # sequential controls\n",
    "    if 'Sequential' in os.listdir(_fd):\n",
    "        if 'blast_sequential_full_probes.fasta' in os.listdir(os.path.join(_fd, 'Sequential')):\n",
    "            files.append(os.path.join(_fd, 'Sequential', 'blast_sequential_full_probes.fasta'))\n",
    "            library_names.append(os.path.basename(_fd).replace('_', '-')+'-internal-sequential')\n",
    "            \n",
    "print(files)\n",
    "print(library_names)"
   ]
  },
  {
   "cell_type": "markdown",
   "id": "56d6ee09",
   "metadata": {},
   "source": [
    "## load sub-libraries"
   ]
  },
  {
   "cell_type": "code",
   "execution_count": 5,
   "id": "23c04f09",
   "metadata": {},
   "outputs": [
    {
     "name": "stdout",
     "output_type": "stream",
     "text": [
      "loading probes from file: \\\\10.245.74.212\\Chromatin_NAS_2\\Chromatin_Libraries\\CTP-14_human_brain\\human_genome_library\\blast_full_probes.fasta\n",
      "loading probes from file: \\\\10.245.74.212\\Chromatin_NAS_2\\Chromatin_Libraries\\CTP-14_human_brain\\human_brain_promoter_enhancer_v2\\blast_full_probes.fasta\n",
      "loading probes from file: \\\\10.245.74.212\\Chromatin_NAS_2\\Chromatin_Libraries\\CTP-14_human_brain\\mouse_brain_long_contacts\\blast_full_probes.fasta\n",
      "loading probes from file: \\\\10.245.74.212\\Chromatin_NAS_2\\Chromatin_Libraries\\CTP-14_human_brain\\mouse_long_5kb\\blast_full_probes.fasta\n",
      "loading probes from file: \\\\10.245.74.212\\Chromatin_NAS_2\\Chromatin_Libraries\\CTP-14_human_brain\\mouse_long_5kb\\Sequential\\blast_sequential_full_probes.fasta\n",
      "loading probes from file: \\\\10.245.74.212\\Chromatin_NAS_2\\Chromatin_Libraries\\CTP-14_human_brain\\human_NRNX1_5kb\\blast_full_probes.fasta\n",
      "loading probes from file: \\\\10.245.74.212\\Chromatin_NAS_2\\Chromatin_Libraries\\CTP-14_human_brain\\human_NRNX1_5kb\\Sequential\\blast_sequential_full_probes.fasta\n",
      "loading probes from file: \\\\10.245.74.212\\Chromatin_NAS_2\\Chromatin_Libraries\\CTP-14_human_brain\\mouse_brain_relabel_chr7\\blast_full_probes.fasta\n",
      "loading probes from file: \\\\10.245.74.212\\Chromatin_NAS_2\\Chromatin_Libraries\\CTP-14_human_brain\\mouse_long_5kb_sequential\\blast_full_probes.fasta\n",
      "loading probes from file: \\\\10.245.74.212\\Chromatin_NAS_2\\Chromatin_Libraries\\CTP-14_human_brain\\mouse_TSS_integrate_CTP13\\blast_full_probes.fasta\n"
     ]
    }
   ],
   "source": [
    "final_pb_len = 162\n",
    "library_2_pbs = {}\n",
    "\n",
    "for _fl, _lib_name in zip(files, library_names):\n",
    "    print(f\"loading probes from file: {_fl}\")\n",
    "    _records = []\n",
    "    with open(_fl, 'r') as _handle:\n",
    "        for _record in SeqIO.parse(_handle, \"fasta\"):\n",
    "            # modify names\n",
    "            _record.id = _record.id + f\"_library_{_lib_name}\"\n",
    "            _record.name, _record.description = '',''\n",
    "            # modify seq if length doesn't match\n",
    "            if len(_record.seq) < final_pb_len:\n",
    "                print(\"**\", _fl)\n",
    "                _seq = _record.seq + Seq('A'*(final_pb_len - len(_record.seq)))\n",
    "                _record.seq = _seq\n",
    "        \n",
    "            _records.append(_record)\n",
    "        \n",
    "    library_2_pbs[_lib_name] = _records"
   ]
  },
  {
   "cell_type": "markdown",
   "id": "2522aeb8",
   "metadata": {},
   "source": [
    "## check number of loci"
   ]
  },
  {
   "cell_type": "code",
   "execution_count": 20,
   "id": "e23a1111",
   "metadata": {},
   "outputs": [],
   "source": [
    "from ImageAnalysis3.library_tools.quality_check import split_probe_by_gene"
   ]
  },
  {
   "cell_type": "code",
   "execution_count": 22,
   "id": "5caa7cde",
   "metadata": {},
   "outputs": [],
   "source": [
    "library_2_num_loci = {}\n",
    "for _lib_name, _pbs in library_2_pbs.items():\n",
    "    gene_2_pbs = split_probe_by_gene(_pbs)\n",
    "    library_2_num_loci[_lib_name] = len(gene_2_pbs)"
   ]
  },
  {
   "cell_type": "code",
   "execution_count": 23,
   "id": "01ca8f7c",
   "metadata": {},
   "outputs": [
    {
     "data": {
      "text/plain": [
       "{'human-genome-library': 1352,\n",
       " 'human-brain-promoter-enhancer-v2': 1388,\n",
       " 'mouse-brain-long-contacts': 28,\n",
       " 'mouse-long-5kb': 1097,\n",
       " 'mouse-long-5kb-internal-sequential': 92,\n",
       " 'human-NRNX1-5kb': 668,\n",
       " 'human-NRNX1-5kb-internal-sequential': 24,\n",
       " 'mouse-brain-relabel-chr7': 96,\n",
       " 'mouse-long-5kb-sequential': 1097,\n",
       " 'mouse-TSS-integrate-CTP13': 28}"
      ]
     },
     "execution_count": 23,
     "metadata": {},
     "output_type": "execute_result"
    }
   ],
   "source": [
    "library_2_num_loci"
   ]
  },
  {
   "cell_type": "markdown",
   "id": "6eb6bec6",
   "metadata": {},
   "source": [
    "## check primers"
   ]
  },
  {
   "cell_type": "code",
   "execution_count": 25,
   "id": "6079f928",
   "metadata": {},
   "outputs": [
    {
     "name": "stdout",
     "output_type": "stream",
     "text": [
      "['human-genome-library', 'human-brain-promoter-enhancer-v2', 'mouse-brain-long-contacts', 'mouse-long-5kb', 'mouse-long-5kb-internal-sequential', 'human-NRNX1-5kb', 'human-NRNX1-5kb-internal-sequential', 'mouse-brain-relabel-chr7', 'mouse-long-5kb-sequential', 'mouse-TSS-integrate-CTP13']\n"
     ]
    }
   ],
   "source": [
    "print(library_names)\n",
    "fwd_primers, rev_primers = [], []\n",
    "num_probes = []\n",
    "num_loci = []\n",
    "for _lib_name in library_names:\n",
    "    _fp, _rp = library_2_pbs[_lib_name][0].id.split('primers_[')[1].split(']')[0].split(',')\n",
    "    fwd_primers.append(_fp)\n",
    "    rev_primers.append(_rp)\n",
    "    num_probes.append(len(library_2_pbs[_lib_name]))\n",
    "    num_loci.append(library_2_num_loci[_lib_name])"
   ]
  },
  {
   "cell_type": "code",
   "execution_count": 26,
   "id": "8768dcf8",
   "metadata": {},
   "outputs": [
    {
     "data": {
      "text/html": [
       "<div>\n",
       "<style scoped>\n",
       "    .dataframe tbody tr th:only-of-type {\n",
       "        vertical-align: middle;\n",
       "    }\n",
       "\n",
       "    .dataframe tbody tr th {\n",
       "        vertical-align: top;\n",
       "    }\n",
       "\n",
       "    .dataframe thead th {\n",
       "        text-align: right;\n",
       "    }\n",
       "</style>\n",
       "<table border=\"1\" class=\"dataframe\">\n",
       "  <thead>\n",
       "    <tr style=\"text-align: right;\">\n",
       "      <th></th>\n",
       "      <th>library</th>\n",
       "      <th>number_probes</th>\n",
       "      <th>number_loci</th>\n",
       "      <th>forward_primers</th>\n",
       "      <th>reverse_primers</th>\n",
       "    </tr>\n",
       "  </thead>\n",
       "  <tbody>\n",
       "    <tr>\n",
       "      <th>0</th>\n",
       "      <td>human-genome-library</td>\n",
       "      <td>159879</td>\n",
       "      <td>1352</td>\n",
       "      <td>W1A03_primer_2</td>\n",
       "      <td>W1A10_primer_9</td>\n",
       "    </tr>\n",
       "    <tr>\n",
       "      <th>1</th>\n",
       "      <td>human-brain-promoter-enhancer-v2</td>\n",
       "      <td>165445</td>\n",
       "      <td>1388</td>\n",
       "      <td>W1A07_primer_6</td>\n",
       "      <td>W1A12_primer_11</td>\n",
       "    </tr>\n",
       "    <tr>\n",
       "      <th>2</th>\n",
       "      <td>mouse-brain-long-contacts</td>\n",
       "      <td>3244</td>\n",
       "      <td>28</td>\n",
       "      <td>W1B05_primer_16</td>\n",
       "      <td>W1B04_primer_15</td>\n",
       "    </tr>\n",
       "    <tr>\n",
       "      <th>3</th>\n",
       "      <td>mouse-long-5kb</td>\n",
       "      <td>58492</td>\n",
       "      <td>1097</td>\n",
       "      <td>W1B09_primer_20</td>\n",
       "      <td>W1B10_primer_21</td>\n",
       "    </tr>\n",
       "    <tr>\n",
       "      <th>4</th>\n",
       "      <td>mouse-long-5kb-internal-sequential</td>\n",
       "      <td>1731</td>\n",
       "      <td>92</td>\n",
       "      <td>W1B09_primer_20</td>\n",
       "      <td>W1B10_primer_21</td>\n",
       "    </tr>\n",
       "    <tr>\n",
       "      <th>5</th>\n",
       "      <td>human-NRNX1-5kb</td>\n",
       "      <td>31808</td>\n",
       "      <td>668</td>\n",
       "      <td>W1A01_primer_0</td>\n",
       "      <td>W1A02_primer_1</td>\n",
       "    </tr>\n",
       "    <tr>\n",
       "      <th>6</th>\n",
       "      <td>human-NRNX1-5kb-internal-sequential</td>\n",
       "      <td>335</td>\n",
       "      <td>24</td>\n",
       "      <td>W1A01_primer_0</td>\n",
       "      <td>W1A02_primer_1</td>\n",
       "    </tr>\n",
       "    <tr>\n",
       "      <th>7</th>\n",
       "      <td>mouse-brain-relabel-chr7</td>\n",
       "      <td>7608</td>\n",
       "      <td>96</td>\n",
       "      <td>W1A05_primer_4</td>\n",
       "      <td>W1A04_primer_3</td>\n",
       "    </tr>\n",
       "    <tr>\n",
       "      <th>8</th>\n",
       "      <td>mouse-long-5kb-sequential</td>\n",
       "      <td>50852</td>\n",
       "      <td>1097</td>\n",
       "      <td>W1A09_primer_8</td>\n",
       "      <td>W1A08_primer_7</td>\n",
       "    </tr>\n",
       "    <tr>\n",
       "      <th>9</th>\n",
       "      <td>mouse-TSS-integrate-CTP13</td>\n",
       "      <td>3360</td>\n",
       "      <td>28</td>\n",
       "      <td>W1B07_primer_18</td>\n",
       "      <td>W1A06_primer_5</td>\n",
       "    </tr>\n",
       "  </tbody>\n",
       "</table>\n",
       "</div>"
      ],
      "text/plain": [
       "                               library  number_probes  number_loci  \\\n",
       "0                 human-genome-library         159879         1352   \n",
       "1     human-brain-promoter-enhancer-v2         165445         1388   \n",
       "2            mouse-brain-long-contacts           3244           28   \n",
       "3                       mouse-long-5kb          58492         1097   \n",
       "4   mouse-long-5kb-internal-sequential           1731           92   \n",
       "5                      human-NRNX1-5kb          31808          668   \n",
       "6  human-NRNX1-5kb-internal-sequential            335           24   \n",
       "7             mouse-brain-relabel-chr7           7608           96   \n",
       "8            mouse-long-5kb-sequential          50852         1097   \n",
       "9            mouse-TSS-integrate-CTP13           3360           28   \n",
       "\n",
       "   forward_primers  reverse_primers  \n",
       "0   W1A03_primer_2   W1A10_primer_9  \n",
       "1   W1A07_primer_6  W1A12_primer_11  \n",
       "2  W1B05_primer_16  W1B04_primer_15  \n",
       "3  W1B09_primer_20  W1B10_primer_21  \n",
       "4  W1B09_primer_20  W1B10_primer_21  \n",
       "5   W1A01_primer_0   W1A02_primer_1  \n",
       "6   W1A01_primer_0   W1A02_primer_1  \n",
       "7   W1A05_primer_4   W1A04_primer_3  \n",
       "8   W1A09_primer_8   W1A08_primer_7  \n",
       "9  W1B07_primer_18   W1A06_primer_5  "
      ]
     },
     "execution_count": 26,
     "metadata": {},
     "output_type": "execute_result"
    }
   ],
   "source": [
    "import pandas as pd\n",
    "primer_summary_df = pd.DataFrame({\n",
    "    'library':library_names,\n",
    "    'number_probes': num_probes,\n",
    "    'number_loci': num_loci,\n",
    "    'forward_primers': fwd_primers,\n",
    "    'reverse_primers': rev_primers,\n",
    "    }\n",
    ")\n",
    "primer_summary_df"
   ]
  },
  {
   "cell_type": "code",
   "execution_count": 29,
   "id": "7f4b489e",
   "metadata": {},
   "outputs": [
    {
     "name": "stdout",
     "output_type": "stream",
     "text": [
      "primer_summary_filename: \\\\10.245.74.212\\Chromatin_NAS_2\\Chromatin_Libraries\\CTP-14_human_brain\\Summary_files\\Primer_summary.csv\n",
      "save\n"
     ]
    }
   ],
   "source": [
    "# save this primer\n",
    "primer_summary_filename = os.path.join(summary_folder, 'Primer_summary.csv')\n",
    "print(f\"primer_summary_filename: {primer_summary_filename}\")\n",
    "if overwrite or not os.path.exists(primer_summary_filename):\n",
    "    print(\"save\")\n",
    "    primer_summary_df.to_csv(primer_summary_filename, index=False)"
   ]
  },
  {
   "cell_type": "markdown",
   "id": "97f29d80",
   "metadata": {},
   "source": [
    "## merge and save"
   ]
  },
  {
   "cell_type": "code",
   "execution_count": 9,
   "id": "9275baaf",
   "metadata": {},
   "outputs": [
    {
     "name": "stdout",
     "output_type": "stream",
     "text": [
      "appending 159879 probes from library: human-genome-library\n",
      "appending 165445 probes from library: human-brain-promoter-enhancer-v2\n",
      "appending 3244 probes from library: mouse-brain-long-contacts\n",
      "appending 58492 probes from library: mouse-long-5kb\n",
      "appending 1731 probes from library: mouse-long-5kb-internal-sequential\n",
      "appending 31808 probes from library: human-NRNX1-5kb\n",
      "appending 335 probes from library: human-NRNX1-5kb-internal-sequential\n",
      "appending 7608 probes from library: mouse-brain-relabel-chr7\n",
      "appending 50852 probes from library: mouse-long-5kb-sequential\n",
      "appending 3360 probes from library: mouse-TSS-integrate-CTP13\n"
     ]
    }
   ],
   "source": [
    "# merge into one file and save\n",
    "final_pool_records = []\n",
    "for _lib_name, _records in library_2_pbs.items():\n",
    "    print(f\"appending {len(_records)} probes from library: {_lib_name}\")\n",
    "    final_pool_records.extend(_records)"
   ]
  },
  {
   "cell_type": "code",
   "execution_count": 10,
   "id": "9fd24519",
   "metadata": {},
   "outputs": [
    {
     "name": "stdout",
     "output_type": "stream",
     "text": [
      "number of probes saved: 482754\n",
      "save_filename: \\\\10.245.74.212\\Chromatin_NAS_2\\Chromatin_Libraries\\CTP-14_human_brain\\Summary_files\\merged_CTP14_DNA.fasta\n",
      "save\n"
     ]
    }
   ],
   "source": [
    "save_filename = os.path.join(summary_folder, 'merged_CTP14_DNA.fasta')\n",
    "print(f\"number of probes saved: {len(final_pool_records)}\")\n",
    "print(f\"save_filename: {save_filename}\")\n",
    "\n",
    "if overwrite or not os.path.exists(save_filename):\n",
    "    print(\"save\")\n",
    "    with open(save_filename, 'w') as _output_handle:\n",
    "        SeqIO.write(final_pool_records, _output_handle, \"fasta\")"
   ]
  },
  {
   "cell_type": "markdown",
   "id": "a81c9262",
   "metadata": {},
   "source": [
    "### Convert into dataframe"
   ]
  },
  {
   "cell_type": "code",
   "execution_count": 11,
   "id": "0bcd6671",
   "metadata": {},
   "outputs": [
    {
     "data": {
      "text/html": [
       "<div>\n",
       "<style scoped>\n",
       "    .dataframe tbody tr th:only-of-type {\n",
       "        vertical-align: middle;\n",
       "    }\n",
       "\n",
       "    .dataframe tbody tr th {\n",
       "        vertical-align: top;\n",
       "    }\n",
       "\n",
       "    .dataframe thead th {\n",
       "        text-align: right;\n",
       "    }\n",
       "</style>\n",
       "<table border=\"1\" class=\"dataframe\">\n",
       "  <thead>\n",
       "    <tr style=\"text-align: right;\">\n",
       "      <th></th>\n",
       "      <th>SequenceName</th>\n",
       "      <th>Sequence</th>\n",
       "      <th>Replication</th>\n",
       "    </tr>\n",
       "  </thead>\n",
       "  <tbody>\n",
       "    <tr>\n",
       "      <th>0</th>\n",
       "      <td>loc_1:1235001-1265000_gene_0_pb_123_pos_8469_s...</td>\n",
       "      <td>CCCGCAATGGCTGACAACCGGTTTGCTCTGCGGACGCGGTGTTTGC...</td>\n",
       "      <td>1</td>\n",
       "    </tr>\n",
       "    <tr>\n",
       "      <th>1</th>\n",
       "      <td>loc_1:1235001-1265000_gene_0_pb_124_pos_8513_s...</td>\n",
       "      <td>CCCGCAATGGCTGACAACCGGAATCTATCGAAGAGGCATCGAATCT...</td>\n",
       "      <td>1</td>\n",
       "    </tr>\n",
       "    <tr>\n",
       "      <th>2</th>\n",
       "      <td>loc_1:1235001-1265000_gene_0_pb_125_pos_8629_s...</td>\n",
       "      <td>CCCGCAATGGCTGACAACCGGTGCACGCCGTCGAGATACCGTGCAC...</td>\n",
       "      <td>1</td>\n",
       "    </tr>\n",
       "    <tr>\n",
       "      <th>3</th>\n",
       "      <td>loc_1:1235001-1265000_gene_0_pb_126_pos_8680_s...</td>\n",
       "      <td>CCCGCAATGGCTGACAACCGGTTTGCTCTGCGGACGCGGTGTTTGC...</td>\n",
       "      <td>1</td>\n",
       "    </tr>\n",
       "    <tr>\n",
       "      <th>4</th>\n",
       "      <td>loc_1:1235001-1265000_gene_0_pb_127_pos_8736_s...</td>\n",
       "      <td>CCCGCAATGGCTGACAACCGGAATCTATCGAAGAGGCATCGAATCT...</td>\n",
       "      <td>1</td>\n",
       "    </tr>\n",
       "    <tr>\n",
       "      <th>...</th>\n",
       "      <td>...</td>\n",
       "      <td>...</td>\n",
       "      <td>...</td>\n",
       "    </tr>\n",
       "    <tr>\n",
       "      <th>482749</th>\n",
       "      <td>loc_11:78489091-78509091_gene_Vtn_pb_187_pos_1...</td>\n",
       "      <td>CACGTGGCCTCTCGCACATCTACGGATCCTACGAATACGATACGGA...</td>\n",
       "      <td>1</td>\n",
       "    </tr>\n",
       "    <tr>\n",
       "      <th>482750</th>\n",
       "      <td>loc_11:78489091-78509091_gene_Vtn_pb_188_pos_1...</td>\n",
       "      <td>CACGTGGCCTCTCGCACATCCCATTTCGTGCGAAGCGATACCATTT...</td>\n",
       "      <td>1</td>\n",
       "    </tr>\n",
       "    <tr>\n",
       "      <th>482751</th>\n",
       "      <td>loc_11:78489091-78509091_gene_Vtn_pb_189_pos_1...</td>\n",
       "      <td>CACGTGGCCTCTCGCACATCATAACGACTTGCGGATGCCAATAACG...</td>\n",
       "      <td>1</td>\n",
       "    </tr>\n",
       "    <tr>\n",
       "      <th>482752</th>\n",
       "      <td>loc_11:78489091-78509091_gene_Vtn_pb_190_pos_1...</td>\n",
       "      <td>CACGTGGCCTCTCGCACATCTACGGATCCTACGAATACGATACGGA...</td>\n",
       "      <td>1</td>\n",
       "    </tr>\n",
       "    <tr>\n",
       "      <th>482753</th>\n",
       "      <td>loc_11:78489091-78509091_gene_Vtn_pb_191_pos_1...</td>\n",
       "      <td>CACGTGGCCTCTCGCACATCCCATTTCGTGCGAAGCGATACCATTT...</td>\n",
       "      <td>1</td>\n",
       "    </tr>\n",
       "  </tbody>\n",
       "</table>\n",
       "<p>482754 rows × 3 columns</p>\n",
       "</div>"
      ],
      "text/plain": [
       "                                             SequenceName  \\\n",
       "0       loc_1:1235001-1265000_gene_0_pb_123_pos_8469_s...   \n",
       "1       loc_1:1235001-1265000_gene_0_pb_124_pos_8513_s...   \n",
       "2       loc_1:1235001-1265000_gene_0_pb_125_pos_8629_s...   \n",
       "3       loc_1:1235001-1265000_gene_0_pb_126_pos_8680_s...   \n",
       "4       loc_1:1235001-1265000_gene_0_pb_127_pos_8736_s...   \n",
       "...                                                   ...   \n",
       "482749  loc_11:78489091-78509091_gene_Vtn_pb_187_pos_1...   \n",
       "482750  loc_11:78489091-78509091_gene_Vtn_pb_188_pos_1...   \n",
       "482751  loc_11:78489091-78509091_gene_Vtn_pb_189_pos_1...   \n",
       "482752  loc_11:78489091-78509091_gene_Vtn_pb_190_pos_1...   \n",
       "482753  loc_11:78489091-78509091_gene_Vtn_pb_191_pos_1...   \n",
       "\n",
       "                                                 Sequence  Replication  \n",
       "0       CCCGCAATGGCTGACAACCGGTTTGCTCTGCGGACGCGGTGTTTGC...            1  \n",
       "1       CCCGCAATGGCTGACAACCGGAATCTATCGAAGAGGCATCGAATCT...            1  \n",
       "2       CCCGCAATGGCTGACAACCGGTGCACGCCGTCGAGATACCGTGCAC...            1  \n",
       "3       CCCGCAATGGCTGACAACCGGTTTGCTCTGCGGACGCGGTGTTTGC...            1  \n",
       "4       CCCGCAATGGCTGACAACCGGAATCTATCGAAGAGGCATCGAATCT...            1  \n",
       "...                                                   ...          ...  \n",
       "482749  CACGTGGCCTCTCGCACATCTACGGATCCTACGAATACGATACGGA...            1  \n",
       "482750  CACGTGGCCTCTCGCACATCCCATTTCGTGCGAAGCGATACCATTT...            1  \n",
       "482751  CACGTGGCCTCTCGCACATCATAACGACTTGCGGATGCCAATAACG...            1  \n",
       "482752  CACGTGGCCTCTCGCACATCTACGGATCCTACGAATACGATACGGA...            1  \n",
       "482753  CACGTGGCCTCTCGCACATCCCATTTCGTGCGAAGCGATACCATTT...            1  \n",
       "\n",
       "[482754 rows x 3 columns]"
      ]
     },
     "execution_count": 11,
     "metadata": {},
     "output_type": "execute_result"
    }
   ],
   "source": [
    "## Save csv version to fit SureDesign in Agilent\n",
    "import pandas as pd\n",
    "\n",
    "library_dict = {\n",
    "    'SequenceName': [],\n",
    "    'Sequence': [],\n",
    "    'Replication': [],\n",
    "}\n",
    "for _record in final_pool_records:\n",
    "    library_dict['SequenceName'].append(_record.id)\n",
    "    library_dict['Sequence'].append(str(_record.seq))\n",
    "    library_dict['Replication'].append(1)\n",
    "# \n",
    "library_df = pd.DataFrame(library_dict)\n",
    "library_df"
   ]
  },
  {
   "cell_type": "code",
   "execution_count": 12,
   "id": "a180c3eb",
   "metadata": {},
   "outputs": [
    {
     "name": "stdout",
     "output_type": "stream",
     "text": [
      "library_csv_filename: \\\\10.245.74.212\\Chromatin_NAS_2\\Chromatin_Libraries\\CTP-14_human_brain\\Summary_files\\merged_CTP14_full.csv\n",
      "save\n"
     ]
    }
   ],
   "source": [
    "library_csv_filename = os.path.join(summary_folder, 'merged_CTP14_full.csv')\n",
    "print(f\"library_csv_filename: {library_csv_filename}\")\n",
    "if overwrite or not os.path.exists(library_csv_filename):\n",
    "    print(\"save\")\n",
    "    library_df.to_csv(library_csv_filename, index=False,)"
   ]
  },
  {
   "cell_type": "code",
   "execution_count": 13,
   "id": "e4176420",
   "metadata": {},
   "outputs": [
    {
     "name": "stdout",
     "output_type": "stream",
     "text": [
      "library_txt_filename: \\\\10.245.74.212\\Chromatin_NAS_2\\Chromatin_Libraries\\CTP-14_human_brain\\Summary_files\\merged_CTP14_DNA.txt\n",
      "save\n"
     ]
    }
   ],
   "source": [
    "library_txt_filename = os.path.join(summary_folder, 'merged_CTP14_DNA.txt')\n",
    "print(f\"library_txt_filename: {library_txt_filename}\")\n",
    "if overwrite or not os.path.exists(library_txt_filename):\n",
    "    print(\"save\")\n",
    "    library_df.to_csv(library_txt_filename, index=False, sep='\\t')"
   ]
  },
  {
   "cell_type": "code",
   "execution_count": 14,
   "id": "2481b688",
   "metadata": {},
   "outputs": [
    {
     "data": {
      "text/plain": [
       "0         CCCGCAATGGCTGACAACCGGTTTGCTCTGCGGACGCGGTGTTTGC...\n",
       "1         CCCGCAATGGCTGACAACCGGAATCTATCGAAGAGGCATCGAATCT...\n",
       "2         CCCGCAATGGCTGACAACCGGTGCACGCCGTCGAGATACCGTGCAC...\n",
       "3         CCCGCAATGGCTGACAACCGGTTTGCTCTGCGGACGCGGTGTTTGC...\n",
       "4         CCCGCAATGGCTGACAACCGGAATCTATCGAAGAGGCATCGAATCT...\n",
       "                                ...                        \n",
       "482749    CACGTGGCCTCTCGCACATCTACGGATCCTACGAATACGATACGGA...\n",
       "482750    CACGTGGCCTCTCGCACATCCCATTTCGTGCGAAGCGATACCATTT...\n",
       "482751    CACGTGGCCTCTCGCACATCATAACGACTTGCGGATGCCAATAACG...\n",
       "482752    CACGTGGCCTCTCGCACATCTACGGATCCTACGAATACGATACGGA...\n",
       "482753    CACGTGGCCTCTCGCACATCCCATTTCGTGCGAAGCGATACCATTT...\n",
       "Name: Sequence, Length: 482754, dtype: object"
      ]
     },
     "execution_count": 14,
     "metadata": {},
     "output_type": "execute_result"
    }
   ],
   "source": [
    "library_sequence_df = library_df.loc[:,'Sequence'].copy()\n",
    "\n",
    "library_sequence_filename = os.path.join(summary_folder, 'merged_CTP14_sequence.csv')\n",
    "library_sequence_df"
   ]
  },
  {
   "cell_type": "code",
   "execution_count": 15,
   "id": "a665e487",
   "metadata": {},
   "outputs": [
    {
     "name": "stdout",
     "output_type": "stream",
     "text": [
      "library_sequence_filename: \\\\10.245.74.212\\Chromatin_NAS_2\\Chromatin_Libraries\\CTP-14_human_brain\\Summary_files\\merged_CTP14_sequence.csv\n",
      "save\n"
     ]
    }
   ],
   "source": [
    "library_sequence_filename = os.path.join(summary_folder, 'merged_CTP14_sequence.csv')\n",
    "print(f\"library_sequence_filename: {library_sequence_filename}\")\n",
    "if overwrite or not os.path.exists(library_sequence_filename):\n",
    "    print(\"save\")\n",
    "    library_sequence_df.to_csv(library_sequence_filename, index=False, sep='\\t')"
   ]
  },
  {
   "cell_type": "markdown",
   "id": "fcec36d4",
   "metadata": {},
   "source": [
    "# split library_sequence_df"
   ]
  },
  {
   "cell_type": "markdown",
   "id": "f3afc62a",
   "metadata": {},
   "source": [
    "## load from here"
   ]
  },
  {
   "cell_type": "code",
   "execution_count": 16,
   "id": "80b35795",
   "metadata": {},
   "outputs": [
    {
     "name": "stdout",
     "output_type": "stream",
     "text": [
      "\\\\10.245.74.212\\Chromatin_NAS_2\\Chromatin_Libraries\\CTP-14_human_brain\\Summary_files\\merged_CTP14_full.csv\n"
     ]
    }
   ],
   "source": [
    "import pandas as pd\n",
    "library_csv_filename = os.path.join(summary_folder, 'merged_CTP14_full.csv')\n",
    "print(library_csv_filename)\n",
    "library_df = pd.read_csv(library_csv_filename)"
   ]
  },
  {
   "cell_type": "code",
   "execution_count": null,
   "id": "c5463442",
   "metadata": {},
   "outputs": [],
   "source": []
  },
  {
   "cell_type": "code",
   "execution_count": 17,
   "id": "1a6059a3",
   "metadata": {},
   "outputs": [
    {
     "name": "stdout",
     "output_type": "stream",
     "text": [
      "\\\\10.245.74.212\\Chromatin_NAS_2\\Chromatin_Libraries\\CTP-14_human_brain\\Summary_files\\merged_CTP14_sequence_part1.csv\n",
      "244000\n"
     ]
    }
   ],
   "source": [
    "# part 1 sequence\n",
    "limit = 244000\n",
    "library_sequence_part1_filename = os.path.join(summary_folder, 'merged_CTP14_sequence_part1.csv')\n",
    "print(library_sequence_part1_filename)\n",
    "library_df_part1 = library_df[:limit]\n",
    "print(len(library_df_part1))\n",
    "library_df_part1.loc[:,'Sequence'].copy().to_csv(library_sequence_part1_filename, index=False, sep='\\t')"
   ]
  },
  {
   "cell_type": "code",
   "execution_count": 18,
   "id": "df92a54d",
   "metadata": {},
   "outputs": [
    {
     "name": "stdout",
     "output_type": "stream",
     "text": [
      "\\\\10.245.74.212\\Chromatin_NAS_2\\Chromatin_Libraries\\CTP-14_human_brain\\Summary_files\\merged_CTP14_sequence_part2.csv\n",
      "238754\n"
     ]
    }
   ],
   "source": [
    "# part 1 sequence\n",
    "library_sequence_part2_filename = os.path.join(summary_folder, 'merged_CTP14_sequence_part2.csv')\n",
    "print(library_sequence_part2_filename)\n",
    "library_df_part2 = library_df[limit:]\n",
    "print(len(library_df_part2))\n",
    "library_df_part2.loc[:,'Sequence'].copy().to_csv(library_sequence_part2_filename, index=False, sep='\\t')"
   ]
  },
  {
   "cell_type": "code",
   "execution_count": null,
   "id": "3062bc99",
   "metadata": {},
   "outputs": [],
   "source": []
  },
  {
   "cell_type": "code",
   "execution_count": null,
   "id": "bb61563b",
   "metadata": {},
   "outputs": [],
   "source": []
  },
  {
   "cell_type": "markdown",
   "id": "db031df4",
   "metadata": {},
   "source": [
    "# Check OligoPools"
   ]
  },
  {
   "cell_type": "code",
   "execution_count": 12,
   "id": "ef99f7e5",
   "metadata": {},
   "outputs": [
    {
     "data": {
      "text/plain": [
       "{'CCCGCAATGGCTGACAACCG': 159879, 'CGCAAACTGGTGCGGAAGGC': 84121}"
      ]
     },
     "execution_count": 12,
     "metadata": {},
     "output_type": "execute_result"
    }
   ],
   "source": [
    "import pandas as pd\n",
    "library_sequence_part1_filename = os.path.join(summary_folder, 'merged_CTP14_sequence_part1.csv')\n",
    "lib_df_part1 = pd.read_csv(library_sequence_part1_filename)\n",
    "\n",
    "# extract primer to pb_num:\n",
    "primerSeq_2_part1PbNum = {}\n",
    "primer_len = 20\n",
    "for _seq in lib_df_part1['Sequence']:\n",
    "    _pm_seq = _seq[:primer_len]\n",
    "    if _pm_seq not in primerSeq_2_part1PbNum:\n",
    "        primerSeq_2_part1PbNum[_pm_seq] = 1\n",
    "    else:\n",
    "        primerSeq_2_part1PbNum[_pm_seq] += 1\n",
    "        \n",
    "primerSeq_2_part1PbNum"
   ]
  },
  {
   "cell_type": "code",
   "execution_count": 11,
   "id": "8ed719e5",
   "metadata": {},
   "outputs": [
    {
     "data": {
      "text/plain": [
       "{'CGCAAACTGGTGCGGAAGGC': 81324,\n",
       " 'CGGGTTTCGTTGCGCACACC': 3244,\n",
       " 'TAGGCGTGTCGGCCAACCAG': 60223,\n",
       " 'CGGCTCGCAGCGTGTAAACG': 32143,\n",
       " 'CATTCAGCATTGCGCAACGG': 7608,\n",
       " 'TTGTTGAGGCGGCGGAAGTC': 50852,\n",
       " 'CACGTGGCCTCTCGCACATC': 3360}"
      ]
     },
     "execution_count": 11,
     "metadata": {},
     "output_type": "execute_result"
    }
   ],
   "source": [
    "library_sequence_part2_filename = os.path.join(summary_folder, 'merged_CTP14_sequence_part2.csv')\n",
    "lib_df_part2 = pd.read_csv(library_sequence_part2_filename)\n",
    "\n",
    "# extract primer to pb_num:\n",
    "primerSeq_2_part2PbNum = {}\n",
    "primer_len = 20\n",
    "for _seq in lib_df_part2['Sequence']:\n",
    "    _pm_seq = _seq[:primer_len]\n",
    "    if _pm_seq not in primerSeq_2_part2PbNum:\n",
    "        primerSeq_2_part2PbNum[_pm_seq] = 1\n",
    "    else:\n",
    "        primerSeq_2_part2PbNum[_pm_seq] += 1\n",
    "        \n",
    "primerSeq_2_part2PbNum"
   ]
  },
  {
   "cell_type": "code",
   "execution_count": 10,
   "id": "55884322",
   "metadata": {},
   "outputs": [
    {
     "data": {
      "text/plain": [
       "{'CCCGCAATGGCTGACAACCG': 159879, 'CGCAAACTGGTGCGGAAGGC': 84121}"
      ]
     },
     "execution_count": 10,
     "metadata": {},
     "output_type": "execute_result"
    }
   ],
   "source": []
  },
  {
   "cell_type": "code",
   "execution_count": null,
   "id": "8e2142fe",
   "metadata": {},
   "outputs": [],
   "source": []
  },
  {
   "cell_type": "code",
   "execution_count": null,
   "id": "5154d493",
   "metadata": {},
   "outputs": [],
   "source": []
  },
  {
   "cell_type": "markdown",
   "id": "754b4a78",
   "metadata": {},
   "source": [
    "### check probe lengths for all sub-libraries"
   ]
  },
  {
   "cell_type": "code",
   "execution_count": 19,
   "id": "9af7d8ab",
   "metadata": {
    "scrolled": true
   },
   "outputs": [
    {
     "name": "stdout",
     "output_type": "stream",
     "text": [
      "[162]\n"
     ]
    }
   ],
   "source": [
    "probe_lengths = [len(_r) for _r in final_pool_records]\n",
    "print(np.unique(probe_lengths))"
   ]
  },
  {
   "cell_type": "markdown",
   "id": "c1df412b",
   "metadata": {},
   "source": [
    "### check readout usage"
   ]
  },
  {
   "cell_type": "code",
   "execution_count": null,
   "id": "912f91fd",
   "metadata": {},
   "outputs": [],
   "source": [
    "# for each library, check all the used readouts\n",
    "from ImageAnalysis3.library_tools.quality_check import check_read"
   ]
  }
 ],
 "metadata": {
  "kernelspec": {
   "display_name": "postanalysis",
   "language": "python",
   "name": "postanalysis"
  },
  "language_info": {
   "codemirror_mode": {
    "name": "ipython",
    "version": 3
   },
   "file_extension": ".py",
   "mimetype": "text/x-python",
   "name": "python",
   "nbconvert_exporter": "python",
   "pygments_lexer": "ipython3",
   "version": "3.9.13"
  }
 },
 "nbformat": 4,
 "nbformat_minor": 5
}
