{
 "cells": [
  {
   "cell_type": "markdown",
   "id": "9000d26b",
   "metadata": {},
   "source": [
    "# Design MERFISH type Hamming code\n",
    "\n",
    "for more than 99 bits\n",
    "\n",
    "by Pu Zheng\n",
    "\n",
    "2022.11.10"
   ]
  },
  {
   "cell_type": "code",
   "execution_count": 1,
   "id": "895b7eea",
   "metadata": {},
   "outputs": [
    {
     "name": "stdout",
     "output_type": "stream",
     "text": [
      "15856\n"
     ]
    }
   ],
   "source": [
    "%run \"..\\..\\Startup_py3.py\"\n",
    "sys.path.append(r\"..\\..\\..\\..\\Documents\")\n",
    "\n",
    "import ImageAnalysis3 as ia\n",
    "\n",
    "print(os.getpid())"
   ]
  },
  {
   "cell_type": "code",
   "execution_count": 2,
   "id": "a06d32c8",
   "metadata": {},
   "outputs": [],
   "source": [
    "# biopython imports\n",
    "from Bio import SeqIO\n",
    "from Bio.Seq import Seq\n",
    "from Bio.SeqRecord import SeqRecord"
   ]
  },
  {
   "cell_type": "code",
   "execution_count": 13,
   "id": "746ef99f",
   "metadata": {},
   "outputs": [],
   "source": [
    "import itertools\n",
    "import random\n"
   ]
  },
  {
   "cell_type": "markdown",
   "id": "70a970c2",
   "metadata": {},
   "source": [
    "## load base code (longest availabe online)\n",
    "\n",
    "https://ljcr.dmgordon.org/cover/table.html"
   ]
  },
  {
   "cell_type": "code",
   "execution_count": 5,
   "id": "8833eee4",
   "metadata": {},
   "outputs": [],
   "source": [
    "code_folder = r'\\\\10.245.74.212\\Chromatin_NAS_2\\Chromatin_Libraries\\Hamming_Code'\n",
    "# encoding:\n",
    "n_bits = 99\n",
    "on_bits = 3\n",
    "\n",
    "encoding_file = os.path.join(code_folder, f'covering_v_{n_bits}_k_{on_bits}_t_2.txt')"
   ]
  },
  {
   "cell_type": "code",
   "execution_count": 6,
   "id": "9012c4b0",
   "metadata": {},
   "outputs": [],
   "source": [
    "encoding_bits = []\n",
    "\n",
    "with open(encoding_file, 'r') as _handle:\n",
    "    # start reading\n",
    "    _lines = _handle.read().split('\\n')\n",
    "    for _line in _lines:\n",
    "        _bits = [int(_i)-1 for _i in _line.split(' ') if len(_i) > 0]\n",
    "        encoding_bits.append(_bits)\n",
    "\n",
    "encoding_bits = np.array(encoding_bits, dtype=np.int32)"
   ]
  },
  {
   "cell_type": "code",
   "execution_count": 23,
   "id": "a5af4a2d",
   "metadata": {},
   "outputs": [],
   "source": [
    "def convert_matrix_to_bits(matrix):\n",
    "    return np.array([np.where(_r>0)[0] for _r in matrix], dtype=np.int32)\n",
    "\n",
    "def convert_bits_to_matrix(bits):\n",
    "    _matrix = np.ones([len(bits), np.max(bits)+1], dtype=np.int32) * -1\n",
    "    for _i, _b in enumerate(bits):\n",
    "        _matrix[_i, _b] = 1\n",
    "    return _matrix\n",
    "    \n",
    "def expand_matrix(mat, hamming_dist=3, num_bits=None, on_bits=None, verbose=True):\n",
    "    #import itertools\n",
    "    #import random\n",
    "    if num_bits is None:\n",
    "        num_bits = int(len(mat[0]))\n",
    "    if on_bits is None:\n",
    "        on_bits = int(np.sum(mat[0]>0))\n",
    "    if verbose:\n",
    "        print(f\"previous num of bits: {num_bits}, on bits: {on_bits}\")\n",
    "        _start_time = time.time()\n",
    "    # initialize with appending existing solutions\n",
    "    _new_matrix = [np.append(_c, -1) for _c in mat]\n",
    "    # generate new solutions, which has 1 in the last bit\n",
    "    _combs = list(itertools.combinations(range(num_bits), on_bits-1))\n",
    "    random.shuffle(_combs)\n",
    "    #print(len(_combs), _combs)\n",
    "    for _b in _combs:\n",
    "        # generate new binary code\n",
    "        _new_c = np.ones(num_bits, dtype=np.int32) * -1\n",
    "        _new_c[np.array(_b)] = 1\n",
    "        _new_c = np.append(_new_c, 1)\n",
    "        # intersect, calculate 2x_hemming distances\n",
    "        _2xh_dists = (num_bits+1) - np.array(_new_matrix) @ _new_c \n",
    "        #print(_new_matrix, _new_c, np.min(_2xh_dists))\n",
    "        # check whether this passed threshold\n",
    "        if np.min(_2xh_dists) >= 2 * hamming_dist:\n",
    "            _new_matrix.append(_new_c)\n",
    "            \n",
    "            #print(_b, len(_new_matrix), _2xh_dists)\n",
    "    if verbose:\n",
    "        print(f\"{len(_new_matrix)} selected for {num_bits+1} bits in {time.time()-_start_time:.3f}s.\")\n",
    "    return np.array(_new_matrix)\n",
    "        "
   ]
  },
  {
   "cell_type": "code",
   "execution_count": 15,
   "id": "7d511482",
   "metadata": {},
   "outputs": [],
   "source": [
    "\n"
   ]
  },
  {
   "cell_type": "code",
   "execution_count": null,
   "id": "c95de48c",
   "metadata": {},
   "outputs": [],
   "source": []
  },
  {
   "cell_type": "code",
   "execution_count": 46,
   "id": "a6a2791a",
   "metadata": {},
   "outputs": [
    {
     "name": "stdout",
     "output_type": "stream",
     "text": [
      "previous num of bits: 109, on bits: 3\n"
     ]
    },
    {
     "name": "stderr",
     "output_type": "stream",
     "text": [
      "C:\\Users\\puzheng_new\\AppData\\Local\\Temp\\2\\ipykernel_15856\\2586398165.py:28: DeprecationWarning: `np.int` is a deprecated alias for the builtin `int`. To silence this warning, use `int` by itself. Doing this will not modify any behavior and is safe. When replacing `np.int`, you may wish to use e.g. `np.int64` or `np.int32` to specify the precision. If you wish to review your current use, check the release note link for additional information.\n",
      "Deprecated in NumPy 1.20; for more details and guidance: https://numpy.org/devdocs/release/1.20.0-notes.html#deprecations\n",
      "  _new_c = np.ones(num_bits, dtype=np.int) * -1\n"
     ]
    },
    {
     "name": "stdout",
     "output_type": "stream",
     "text": [
      "1737 selected for 110 bits in 6.433s.\n",
      "previous num of bits: 110, on bits: 3\n",
      "1771 selected for 111 bits in 6.674s.\n",
      "previous num of bits: 111, on bits: 3\n",
      "1806 selected for 112 bits in 6.954s.\n",
      "previous num of bits: 112, on bits: 3\n",
      "1841 selected for 113 bits in 7.222s.\n",
      "previous num of bits: 113, on bits: 3\n",
      "1875 selected for 114 bits in 7.512s.\n",
      "previous num of bits: 114, on bits: 3\n",
      "1912 selected for 115 bits in 7.837s.\n",
      "previous num of bits: 115, on bits: 3\n",
      "1950 selected for 116 bits in 8.123s.\n",
      "previous num of bits: 116, on bits: 3\n",
      "1988 selected for 117 bits in 8.471s.\n",
      "previous num of bits: 117, on bits: 3\n",
      "2025 selected for 118 bits in 8.807s.\n",
      "previous num of bits: 118, on bits: 3\n",
      "2061 selected for 119 bits in 9.117s.\n",
      "previous num of bits: 119, on bits: 3\n",
      "2098 selected for 120 bits in 9.461s.\n",
      "previous num of bits: 120, on bits: 3\n",
      "2136 selected for 121 bits in 9.835s.\n",
      "previous num of bits: 121, on bits: 3\n",
      "2175 selected for 122 bits in 14.618s.\n",
      "previous num of bits: 122, on bits: 3\n",
      "2214 selected for 123 bits in 15.243s.\n",
      "previous num of bits: 123, on bits: 3\n",
      "2254 selected for 124 bits in 15.799s.\n",
      "previous num of bits: 124, on bits: 3\n",
      "2293 selected for 125 bits in 16.448s.\n",
      "previous num of bits: 125, on bits: 3\n",
      "2333 selected for 126 bits in 17.142s.\n",
      "previous num of bits: 126, on bits: 3\n",
      "2373 selected for 127 bits in 17.746s.\n",
      "previous num of bits: 127, on bits: 3\n",
      "2414 selected for 128 bits in 18.535s.\n",
      "previous num of bits: 128, on bits: 3\n",
      "2453 selected for 129 bits in 19.119s.\n"
     ]
    }
   ],
   "source": [
    "final_n_bits = 128\n",
    "\n",
    "# initialize with current 99 bit case\n",
    "#encoding_matrix_dict = {np.max(encoding_bits)+1: convert_bits_to_matrix(encoding_bits)}\n",
    "ncoding_matrix_dict = {3: np.ones([1,3], dtype=np.int32)} # init from the beginning\n",
    "\n",
    "\n",
    "for _i in range(np.max(list(encoding_matrix_dict.keys())), final_n_bits+1):\n",
    "    encoding_matrix_dict[_i+1] = expand_matrix(encoding_matrix_dict[_i], hamming_dist=4, on_bits=3)"
   ]
  },
  {
   "cell_type": "code",
   "execution_count": 51,
   "id": "f588dd84",
   "metadata": {},
   "outputs": [
    {
     "data": {
      "text/plain": [
       "[<matplotlib.lines.Line2D at 0x1dd2b609fa0>]"
      ]
     },
     "execution_count": 51,
     "metadata": {},
     "output_type": "execute_result"
    },
    {
     "data": {
      "image/png": "[encoded data removed]",
      "text/plain": [
       "<Figure size 640x480 with 1 Axes>"
      ]
     },
     "metadata": {},
     "output_type": "display_data"
    }
   ],
   "source": [
    "# 15,30,62,127\n",
    "bid = final_n_bits\n",
    "\n",
    "plt.figure()\n",
    "plt.plot((encoding_matrix_dict[bid][:].sum(0)+len(encoding_matrix_dict[bid])))"
   ]
  },
  {
   "cell_type": "code",
   "execution_count": 42,
   "id": "26a0ad25",
   "metadata": {},
   "outputs": [
    {
     "name": "stdout",
     "output_type": "stream",
     "text": [
      "Use encoding_folder: \\\\10.245.74.212\\Chromatin_NAS_2\\Chromatin_Libraries\\CTP-14_human_brain\\human_brain_promoter_enhancer_v2\\Encoding_design\n",
      "Encoding: \\\\10.245.74.212\\Chromatin_NAS_2\\Chromatin_Libraries\\CTP-14_human_brain\\human_brain_promoter_enhancer_v2\\Encoding_design\\encoding_bits_total-108_on-3.pkl\n"
     ]
    }
   ],
   "source": [
    "# Library directories\n",
    "pool_folder = r'\\\\10.245.74.212\\Chromatin_NAS_2\\Chromatin_Libraries\\CTP-14_human_brain'\n",
    "# folder for sub-pool\n",
    "library_folder = os.path.join(pool_folder, f'human_brain_promoter_enhancer_v2')\n",
    "# save encoding for now\n",
    "encoding_folder = os.path.join(library_folder, 'Encoding_design')\n",
    "if not os.path.exists(encoding_folder):\n",
    "    print(f\"Create encoding_folder: {encoding_folder}\")\n",
    "    os.makedirs(encoding_folder)\n",
    "else:\n",
    "    print(f\"Use encoding_folder: {encoding_folder}\")\n"
   ]
  },
  {
   "cell_type": "code",
   "execution_count": 52,
   "id": "b9e66bd9",
   "metadata": {},
   "outputs": [],
   "source": [
    "final_n_bits = 114\n"
   ]
  },
  {
   "cell_type": "code",
   "execution_count": 53,
   "id": "2380f99a",
   "metadata": {},
   "outputs": [
    {
     "name": "stdout",
     "output_type": "stream",
     "text": [
      "Encoding: \\\\10.245.74.212\\Chromatin_NAS_2\\Chromatin_Libraries\\CTP-14_human_brain\\human_brain_promoter_enhancer_v2\\Encoding_design\\encoding_bits_total-114_on-3.pkl\n",
      "Saving encoding file\n"
     ]
    }
   ],
   "source": [
    "# save\n",
    "overwrite_encoding = False \n",
    "\n",
    "# savefile\n",
    "encoding_filename = os.path.join(encoding_folder, f'encoding_bits_total-{final_n_bits}_on-{on_bits}.pkl')\n",
    "print(f\"Encoding: {encoding_filename}\")\n",
    "\n",
    "final_bits = convert_matrix_to_bits( encoding_matrix_dict[final_n_bits])\n",
    "\n",
    "if not os.path.exists(encoding_filename) or overwrite_encoding:\n",
    "    print(\"Saving encoding file\")\n",
    "    pickle.dump(final_bits, open(encoding_filename, 'wb'))"
   ]
  },
  {
   "cell_type": "code",
   "execution_count": null,
   "id": "6429bef5",
   "metadata": {},
   "outputs": [],
   "source": []
  }
 ],
 "metadata": {
  "kernelspec": {
   "display_name": "postanalysis",
   "language": "python",
   "name": "postanalysis"
  },
  "language_info": {
   "codemirror_mode": {
    "name": "ipython",
    "version": 3
   },
   "file_extension": ".py",
   "mimetype": "text/x-python",
   "name": "python",
   "nbconvert_exporter": "python",
   "pygments_lexer": "ipython3",
   "version": "3.9.13"
  }
 },
 "nbformat": 4,
 "nbformat_minor": 5
}
