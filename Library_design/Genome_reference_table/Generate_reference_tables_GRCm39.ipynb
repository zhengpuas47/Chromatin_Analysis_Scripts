{
 "cells": [
  {
   "cell_type": "markdown",
   "metadata": {},
   "source": [
    "<a id='0.1'></a>\n",
    "## 0.1 load required packages\n",
    "\n",
    "[back to top](#top)"
   ]
  },
  {
   "cell_type": "code",
   "execution_count": 1,
   "metadata": {},
   "outputs": [
    {
     "name": "stdout",
     "output_type": "stream",
     "text": [
      "27300\n"
     ]
    }
   ],
   "source": [
    "%run \"..\\..\\Startup_py3.py\"\n",
    "sys.path.append(r\"..\\..\\..\\..\\Documents\")\n",
    "\n",
    "import ImageAnalysis3 as ia\n",
    "%matplotlib notebook\n",
    "\n",
    "from ImageAnalysis3 import *\n",
    "print(os.getpid())\n",
    "\n",
    "# library design specific tools\n",
    "from ImageAnalysis3.library_tools import LibraryDesigner as ld\n",
    "from ImageAnalysis3.library_tools import LibraryTools as lt\n",
    "# biopython imports\n",
    "from Bio import SeqIO\n",
    "from Bio.Seq import Seq\n",
    "from Bio.SeqRecord import SeqRecord\n",
    "from Bio.Blast.Applications import NcbiblastnCommandline\n",
    "from Bio.Blast import NCBIXML"
   ]
  },
  {
   "cell_type": "markdown",
   "metadata": {},
   "source": [
    "<a id='0.2'></a>\n",
    "## 0.2 required parameters for Genome\n",
    "\n",
    "[back to top](#top)"
   ]
  },
  {
   "cell_type": "code",
   "execution_count": 2,
   "metadata": {},
   "outputs": [],
   "source": [
    "# NEW mouse genome\n",
    "genome_assembly = 'GRCm39'\n",
    "reference_folder = os.path.join(r'\\\\10.245.74.212\\Chromatin_NAS_2\\Chromatin_Libraries\\Genomes\\mouse', f'{genome_assembly}_ensembl')\n",
    "genome_folder = os.path.join(reference_folder, 'Genome')"
   ]
  },
  {
   "cell_type": "code",
   "execution_count": 3,
   "metadata": {},
   "outputs": [],
   "source": [
    "class OTTable (dict):\n",
    "    '''A python dictionary based implementation of the off-target table.'''\n",
    "    def __missing__ (self, key):\n",
    "        return 0\n",
    "\n",
    "    def add_seq(self, seq, weight):\n",
    "        '''Add a sequence to the OTTable with a given weight.'''\n",
    "        self[seq] = self[seq] + weight\n",
    "\n",
    "    def save_pkl(self, file_name):\n",
    "        '''Save the OTTable as a pickle file.'''\n",
    "        with open(file_name, 'wb') as f:\n",
    "            pickle.dump(self, f, pickle.HIGHEST_PROTOCOL)\n",
    "        print(f'Wrote the OTTable to {file_name}.')\n",
    "    \n",
    "    @staticmethod\n",
    "    def load_pkl(file_name):\n",
    "        '''Load a OTTable from a pickle file.'''\n",
    "        with open(file_name, 'rb') as f:\n",
    "            ottable = pickle.load(f)\n",
    "        print(f'Load the OTTable from {file_name}.')\n",
    "        return ottable"
   ]
  },
  {
   "cell_type": "code",
   "execution_count": null,
   "metadata": {},
   "outputs": [],
   "source": []
  },
  {
   "cell_type": "code",
   "execution_count": 70,
   "metadata": {},
   "outputs": [],
   "source": [
    "from seqint import seq2Int,seq2Int_rc\n",
    "from tqdm import tqdm\n",
    "import pickle\n",
    "Default_Num_Threads=12\n",
    "\n",
    "class countTable(dict):\n",
    "    '''A python dictionary based implementation of the off-target table.'''\n",
    "    def __init__(self, word_len=17, save_file=None, verbose=True):\n",
    "        # internalize parameters\n",
    "        self.word_len = word_len\n",
    "        self.save_file = save_file\n",
    "        self.verbose = verbose\n",
    "        super().__init__()\n",
    "        return\n",
    "    def __missing__ (self, key):\n",
    "        return 0\n",
    "    # function to append sequence\n",
    "    def add_seq(self, seq, weight):\n",
    "        '''Add a sequence to the OTTable with a given weight.'''\n",
    "        self[seq] = self[seq] + weight\n",
    "    # function \n",
    "    def save_pkl(self, file_name=None):\n",
    "        '''Save the OTTable as a pickle file.'''\n",
    "        if file_name is None:\n",
    "            file_name = self.save_file\n",
    "        with open(file_name, 'wb') as f:\n",
    "            pickle.dump(self, f, pickle.HIGHEST_PROTOCOL)\n",
    "        print(f'Wrote the OTTable to {file_name}.')\n",
    "    def load_sequences(\n",
    "        self, sequences:list, word_len:int=0, weights:list=[],\n",
    "        ):\n",
    "        if self.verbose:\n",
    "            print(f\"Loading {len(sequences)} sequences into count_table.\")\n",
    "        if word_len <= 0 or word_len is None:\n",
    "            word_len = self.word_len\n",
    "            if self.verbose:\n",
    "                print(f\"- Use reference word length: {word_len}\")\n",
    "        else:\n",
    "            if self.verbose:\n",
    "                print(f\"- Use given word length: {word_len}\")\n",
    "        # weights, if applicable\n",
    "        # Use uniform weights if no weights are given\n",
    "        if len(weights) == 0:\n",
    "            weights = [1] * len(sequences)\n",
    "        assert(len(weights) == len(sequences))\n",
    "        # load\n",
    "        for _seq, _w in zip(sequences, weights):\n",
    "            # Find all K-mers and add to the OTTable\n",
    "            for j in tqdm(range(len(_seq) - word_len + 1)): \n",
    "                self.add_seq(seq2Int(_seq[j:j+word_len].encode()), _w)\n",
    "        \n",
    "    @staticmethod\n",
    "    def load_pkl(file_name):\n",
    "        '''Load a OTTable from a pickle file.'''\n",
    "        if file_name is None:\n",
    "            file_name = self.save_file\n",
    "        with open(file_name, 'rb') as f:\n",
    "            ottable = pickle.load(f)\n",
    "        print(f'Load the OTTable from {file_name}.')\n",
    "        return ottable\n"
   ]
  },
  {
   "cell_type": "code",
   "execution_count": 37,
   "metadata": {
    "scrolled": true
   },
   "outputs": [
    {
     "name": "stdout",
     "output_type": "stream",
     "text": [
      "-- load sequence: 1, size=195154279\n",
      "-- load sequence: 10, size=130530862\n",
      "-- load sequence: 11, size=121973369\n",
      "-- load sequence: 12, size=120092757\n",
      "-- load sequence: 13, size=120883175\n",
      "-- load sequence: 14, size=125139656\n",
      "-- load sequence: 15, size=104073951\n",
      "-- load sequence: 16, size=98008968\n",
      "-- load sequence: 17, size=95294699\n",
      "-- load sequence: 18, size=90720763\n",
      "-- load sequence: 19, size=61420004\n",
      "-- load sequence: 2, size=181755017\n",
      "-- load sequence: 3, size=159745316\n",
      "-- load sequence: 4, size=156860686\n",
      "-- load sequence: 5, size=151758149\n",
      "-- load sequence: 6, size=149588044\n",
      "-- load sequence: 7, size=144995196\n",
      "-- load sequence: 8, size=130127694\n",
      "-- load sequence: 9, size=124359700\n",
      "-- load sequence: MT, size=16299\n",
      "-- load sequence: X, size=169476592\n",
      "-- load sequence: Y, size=91455967\n",
      "-- load sequence: JH584299.1, size=953012\n",
      "-- load sequence: GL456233.2, size=559103\n",
      "-- load sequence: JH584301.1, size=259875\n",
      "-- load sequence: GL456211.1, size=241735\n",
      "-- load sequence: GL456221.1, size=206961\n",
      "-- load sequence: JH584297.1, size=205776\n",
      "-- load sequence: JH584296.1, size=199368\n",
      "-- load sequence: GL456354.1, size=195993\n",
      "-- load sequence: JH584298.1, size=184189\n",
      "-- load sequence: JH584300.1, size=182347\n",
      "-- load sequence: GL456219.1, size=175968\n",
      "-- load sequence: GL456210.1, size=169725\n",
      "-- load sequence: JH584303.1, size=158099\n",
      "-- load sequence: JH584302.1, size=155838\n",
      "-- load sequence: GL456212.1, size=153618\n",
      "-- load sequence: JH584304.1, size=114452\n",
      "-- load sequence: GL456379.1, size=72385\n",
      "-- load sequence: GL456366.1, size=47073\n",
      "-- load sequence: GL456367.1, size=42057\n",
      "-- load sequence: GL456239.1, size=40056\n",
      "-- load sequence: GL456383.1, size=38659\n",
      "-- load sequence: GL456385.1, size=35240\n",
      "-- load sequence: GL456360.1, size=31704\n",
      "-- load sequence: GL456378.1, size=31602\n",
      "-- load sequence: MU069435.1, size=31129\n",
      "-- load sequence: GL456389.1, size=28772\n",
      "-- load sequence: GL456372.1, size=28664\n",
      "-- load sequence: GL456370.1, size=26764\n",
      "-- load sequence: GL456381.1, size=25871\n",
      "-- load sequence: GL456387.1, size=24685\n",
      "-- load sequence: GL456390.1, size=24668\n",
      "-- load sequence: GL456394.1, size=24323\n",
      "-- load sequence: GL456392.1, size=23629\n",
      "-- load sequence: GL456382.1, size=23158\n",
      "-- load sequence: GL456359.1, size=22974\n",
      "-- load sequence: GL456396.1, size=21240\n",
      "-- load sequence: GL456368.1, size=20208\n",
      "-- load sequence: MU069434.1, size=8412\n",
      "-- load sequence: JH584295.1, size=1976\n",
      "- 61 sequences loaded.\n"
     ]
    }
   ],
   "source": [
    "# load all ref sequences\n",
    "from ImageAnalysis3 import library_tools\n",
    "seq_rd = library_tools.sequences.sequence_reader(genome_folder, auto_load_ref=True)\n",
    "genome_seqs = [str(_r.seq) for _r in seq_rd.ref_seq_dict.values()]"
   ]
  },
  {
   "cell_type": "code",
   "execution_count": 71,
   "metadata": {
    "scrolled": true
   },
   "outputs": [
    {
     "name": "stderr",
     "output_type": "stream",
     "text": [
      "  0%|                                                                  | 107692/195154263 [00:00<03:01, 1076120.54it/s]"
     ]
    },
    {
     "name": "stdout",
     "output_type": "stream",
     "text": [
      "Loading 61 sequences into count_table.\n",
      "- Use reference word length: 17\n"
     ]
    },
    {
     "name": "stderr",
     "output_type": "stream",
     "text": [
      "100%|████████████████████████████████████████████████████████████████| 195154263/195154263 [05:17<00:00, 614407.75it/s]\n",
      "100%|████████████████████████████████████████████████████████████████| 130530846/130530846 [03:52<00:00, 561567.07it/s]\n",
      "100%|████████████████████████████████████████████████████████████████| 121973353/121973353 [03:01<00:00, 672372.63it/s]\n",
      "100%|████████████████████████████████████████████████████████████████| 120092741/120092741 [03:47<00:00, 527345.10it/s]\n",
      "100%|████████████████████████████████████████████████████████████████| 120883159/120883159 [03:02<00:00, 664044.45it/s]\n",
      "100%|████████████████████████████████████████████████████████████████| 125139640/125139640 [03:11<00:00, 654124.23it/s]\n",
      "100%|████████████████████████████████████████████████████████████████| 104073935/104073935 [02:44<00:00, 632676.92it/s]\n",
      "100%|██████████████████████████████████████████████████████████████████| 98008952/98008952 [02:37<00:00, 622379.93it/s]\n",
      "100%|██████████████████████████████████████████████████████████████████| 95294683/95294683 [04:33<00:00, 348911.74it/s]\n",
      "100%|██████████████████████████████████████████████████████████████████| 90720747/90720747 [02:30<00:00, 603095.46it/s]\n",
      "100%|██████████████████████████████████████████████████████████████████| 61419988/61419988 [01:42<00:00, 601713.18it/s]\n",
      "100%|████████████████████████████████████████████████████████████████| 181755001/181755001 [05:13<00:00, 579522.49it/s]\n",
      "100%|████████████████████████████████████████████████████████████████| 159745300/159745300 [04:40<00:00, 568641.38it/s]\n",
      "100%|████████████████████████████████████████████████████████████████| 156860670/156860670 [04:37<00:00, 565316.77it/s]\n",
      "100%|████████████████████████████████████████████████████████████████| 151758133/151758133 [04:34<00:00, 552336.00it/s]\n",
      "100%|████████████████████████████████████████████████████████████████| 149588028/149588028 [04:36<00:00, 540047.36it/s]\n",
      "100%|████████████████████████████████████████████████████████████████| 144995180/144995180 [04:30<00:00, 535999.03it/s]\n",
      "100%|████████████████████████████████████████████████████████████████| 130127678/130127678 [17:27<00:00, 124216.19it/s]\n",
      "100%|████████████████████████████████████████████████████████████████| 124359684/124359684 [03:23<00:00, 610912.52it/s]\n",
      "100%|████████████████████████████████████████████████████████████████████████| 16283/16283 [00:00<00:00, 581097.87it/s]\n",
      "100%|████████████████████████████████████████████████████████████████| 169476576/169476576 [04:31<00:00, 624862.31it/s]\n",
      "100%|██████████████████████████████████████████████████████████████████| 91455951/91455951 [02:28<00:00, 615745.69it/s]\n",
      "100%|██████████████████████████████████████████████████████████████████████| 952996/952996 [00:01<00:00, 625269.24it/s]\n",
      "100%|██████████████████████████████████████████████████████████████████████| 559087/559087 [00:00<00:00, 642149.11it/s]\n",
      "100%|██████████████████████████████████████████████████████████████████████| 259859/259859 [00:00<00:00, 580906.23it/s]\n",
      "100%|██████████████████████████████████████████████████████████████████████| 241719/241719 [00:00<00:00, 665395.37it/s]\n",
      "100%|██████████████████████████████████████████████████████████████████████| 206945/206945 [00:00<00:00, 682478.31it/s]\n",
      "100%|██████████████████████████████████████████████████████████████████████| 205760/205760 [00:00<00:00, 601189.39it/s]\n",
      "100%|██████████████████████████████████████████████████████████████████████| 199352/199352 [00:00<00:00, 600008.82it/s]\n",
      "100%|██████████████████████████████████████████████████████████████████████| 195977/195977 [00:00<00:00, 581101.00it/s]\n",
      "100%|██████████████████████████████████████████████████████████████████████| 184173/184173 [00:00<00:00, 586100.52it/s]\n",
      "100%|██████████████████████████████████████████████████████████████████████| 182331/182331 [00:00<00:00, 562330.20it/s]\n",
      "100%|██████████████████████████████████████████████████████████████████████| 175952/175952 [00:00<00:00, 590002.35it/s]\n",
      "100%|██████████████████████████████████████████████████████████████████████| 169709/169709 [00:00<00:00, 659853.60it/s]\n",
      "100%|██████████████████████████████████████████████████████████████████████| 158083/158083 [00:00<00:00, 562154.38it/s]\n",
      "100%|██████████████████████████████████████████████████████████████████████| 155822/155822 [00:00<00:00, 566202.12it/s]\n",
      "100%|██████████████████████████████████████████████████████████████████████| 153602/153602 [00:00<00:00, 667336.66it/s]\n",
      "100%|██████████████████████████████████████████████████████████████████████| 114436/114436 [00:00<00:00, 672652.65it/s]\n",
      "100%|████████████████████████████████████████████████████████████████████████| 72369/72369 [00:00<00:00, 573928.51it/s]\n",
      "100%|████████████████████████████████████████████████████████████████████████| 47057/47057 [00:00<00:00, 653082.62it/s]\n",
      "100%|████████████████████████████████████████████████████████████████████████| 42041/42041 [00:00<00:00, 600132.51it/s]\n",
      "100%|████████████████████████████████████████████████████████████████████████| 40040/40040 [00:00<00:00, 588383.44it/s]\n",
      "100%|████████████████████████████████████████████████████████████████████████| 38643/38643 [00:00<00:00, 689545.76it/s]\n",
      "100%|████████████████████████████████████████████████████████████████████████| 35224/35224 [00:00<00:00, 567703.00it/s]\n",
      "100%|████████████████████████████████████████████████████████████████████████| 31688/31688 [00:00<00:00, 620867.50it/s]\n",
      "100%|████████████████████████████████████████████████████████████████████████| 31586/31586 [00:00<00:00, 573859.86it/s]\n",
      "100%|████████████████████████████████████████████████████████████████████████| 31113/31113 [00:00<00:00, 634480.35it/s]\n",
      "100%|████████████████████████████████████████████████████████████████████████| 28756/28756 [00:00<00:00, 653065.52it/s]\n",
      "100%|████████████████████████████████████████████████████████████████████████| 28648/28648 [00:00<00:00, 698205.77it/s]\n",
      "100%|████████████████████████████████████████████████████████████████████████| 26748/26748 [00:00<00:00, 668198.81it/s]\n",
      "100%|████████████████████████████████████████████████████████████████████████| 25855/25855 [00:00<00:00, 679893.73it/s]\n",
      "100%|████████████████████████████████████████████████████████████████████████| 24669/24669 [00:00<00:00, 746984.36it/s]\n",
      "100%|████████████████████████████████████████████████████████████████████████| 24652/24652 [00:00<00:00, 794617.26it/s]\n",
      "100%|████████████████████████████████████████████████████████████████████████| 24307/24307 [00:00<00:00, 622795.17it/s]\n",
      "100%|████████████████████████████████████████████████████████████████████████| 23613/23613 [00:00<00:00, 637717.64it/s]\n",
      "100%|████████████████████████████████████████████████████████████████████████| 23142/23142 [00:00<00:00, 564014.17it/s]\n",
      "100%|████████████████████████████████████████████████████████████████████████| 22958/22958 [00:00<00:00, 559533.00it/s]\n",
      "100%|████████████████████████████████████████████████████████████████████████| 21224/21224 [00:00<00:00, 642668.78it/s]\n",
      "100%|████████████████████████████████████████████████████████████████████████| 20192/20192 [00:00<00:00, 611423.94it/s]\n",
      "100%|██████████████████████████████████████████████████████████████████████████| 8396/8396 [00:00<00:00, 645383.97it/s]\n",
      "100%|██████████████████████████████████████████████████████████████████████████| 1960/1960 [00:00<00:00, 489626.91it/s]\n"
     ]
    }
   ],
   "source": [
    "genome_table = countTable()\n",
    "#test_ct.load_sequences(['AAAAAAAAAAAAAAAAAAAAAAAAAAAAAAAAAAAACCCCCCCCCCCCCCCCCCCCCTTTTTTTTTTTTGGGGGGGGGGGGGGGG'])\n",
    "genome_table.load_sequences(genome_seqs)"
   ]
  },
  {
   "cell_type": "code",
   "execution_count": 72,
   "metadata": {},
   "outputs": [
    {
     "name": "stdout",
     "output_type": "stream",
     "text": [
      "The history saving thread hit an unexpected error (OperationalError('database or disk is full')).History will not be written to the database.\n"
     ]
    }
   ],
   "source": [
    "genome_table = test_ct"
   ]
  },
  {
   "cell_type": "code",
   "execution_count": 73,
   "metadata": {},
   "outputs": [
    {
     "name": "stdout",
     "output_type": "stream",
     "text": [
      "Save genome table to file: I:\\References\\GRCm39_genome_table.pkl\n",
      "Wrote the OTTable to I:\\References\\GRCm39_genome_table.pkl.\n"
     ]
    }
   ],
   "source": [
    "genome_savefile = os.path.join(r'I:\\References', f\"{genome_assembly}_genome_table.pkl\")\n",
    "\n",
    "if os.path.isfile(genome_savefile):\n",
    "    print(f\"genome table file already exist, skip.\")\n",
    "else:\n",
    "    print(f\"Save genome table to file: {genome_savefile}\")\n",
    "    genome_table.save_pkl(genome_savefile)"
   ]
  },
  {
   "cell_type": "code",
   "execution_count": 75,
   "metadata": {},
   "outputs": [
    {
     "data": {
      "text/plain": [
       "'ATATTTTATAAGAAATA'"
      ]
     },
     "execution_count": 75,
     "metadata": {},
     "output_type": "execute_result"
    }
   ],
   "source": [
    "test_seq = genome_seqs[1][10000000:10000017]\n",
    "test_seq"
   ]
  },
  {
   "cell_type": "code",
   "execution_count": 76,
   "metadata": {},
   "outputs": [
    {
     "name": "stdout",
     "output_type": "stream",
     "text": [
      "423 ns ± 1.03 ns per loop (mean ± std. dev. of 7 runs, 1000000 loops each)\n"
     ]
    }
   ],
   "source": [
    "%%timeit\n",
    "_ref_table[seq2Int(test_seq.encode())]"
   ]
  },
  {
   "cell_type": "code",
   "execution_count": null,
   "metadata": {},
   "outputs": [],
   "source": []
  }
 ],
 "metadata": {
  "kernelspec": {
   "display_name": "ia3_postanalysis",
   "language": "python",
   "name": "ia3_postanalysis"
  },
  "language_info": {
   "codemirror_mode": {
    "name": "ipython",
    "version": 3
   },
   "file_extension": ".py",
   "mimetype": "text/x-python",
   "name": "python",
   "nbconvert_exporter": "python",
   "pygments_lexer": "ipython3",
   "version": "3.9.12"
  }
 },
 "nbformat": 4,
 "nbformat_minor": 4
}
