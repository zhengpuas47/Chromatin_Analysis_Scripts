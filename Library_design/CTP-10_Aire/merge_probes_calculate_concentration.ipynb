{
 "cells": [
  {
   "cell_type": "markdown",
   "metadata": {},
   "source": [
    "# Merge probes for CTP-10 Aire\n",
    "\n",
    "There are 3 different sources:\n",
    "1. Aire TSSs\n",
    "2. Aire intronic RNA\n",
    "3. selected promoter enhancer pairs (3, 10kb sequential)"
   ]
  },
  {
   "cell_type": "code",
   "execution_count": 3,
   "metadata": {
    "ExecuteTime": {
     "end_time": "2019-07-04T01:25:30.670956Z",
     "start_time": "2019-07-04T01:25:27.238400Z"
    }
   },
   "outputs": [
    {
     "name": "stdout",
     "output_type": "stream",
     "text": [
      "39292\n"
     ]
    }
   ],
   "source": [
    "%run \"..\\..\\Startup_py3.py\"\n",
    "sys.path.append(r\"..\\..\\..\\..\\Documents\")\n",
    "\n",
    "import ImageAnalysis3\n",
    "from ImageAnalysis3 import get_img_info, visual_tools, corrections, library_tools\n",
    "\n",
    "from ImageAnalysis3.library_tools import LibraryDesigner as ld\n",
    "from ImageAnalysis3.library_tools import LibraryTools\n",
    "\n",
    "%matplotlib notebook\n",
    "print(os.getpid())\n",
    "\n",
    "# biopython for SeqRecord\n",
    "from Bio import SeqIO\n",
    "from Bio.Seq import Seq\n",
    "from Bio.SeqRecord import SeqRecord\n",
    "\n",
    "# blast\n",
    "from Bio.Blast.Applications import NcbiblastnCommandline\n",
    "from Bio.Blast import NCBIXML \n",
    "import ImageAnalysis3.library_tools.quality_check as qc"
   ]
  },
  {
   "cell_type": "code",
   "execution_count": 50,
   "metadata": {
    "ExecuteTime": {
     "end_time": "2019-07-04T01:31:26.837387Z",
     "start_time": "2019-07-04T01:31:26.523156Z"
    }
   },
   "outputs": [],
   "source": [
    "# Library directories\n",
    "pool_folder = r'\\\\10.245.74.212\\Chromatin_NAS_2\\Libraries\\CTP-10_Aire'\n",
    "sub_fds = [os.path.join(pool_folder, _fd) for _fd in os.listdir(pool_folder) if os.path.isdir(os.path.join(pool_folder, _fd))]\n"
   ]
  },
  {
   "cell_type": "code",
   "execution_count": 51,
   "metadata": {},
   "outputs": [
    {
     "data": {
      "text/plain": [
       "['Encoding_design',\n",
       " 'Genes_intronic_RNA',\n",
       " 'Genes_TSS_DNA',\n",
       " 'Gene_list',\n",
       " 'Promoter_enhancer_pairs',\n",
       " 'SuperEnhancers']"
      ]
     },
     "execution_count": 51,
     "metadata": {},
     "output_type": "execute_result"
    }
   ],
   "source": [
    "library_names"
   ]
  },
  {
   "cell_type": "code",
   "execution_count": 77,
   "metadata": {},
   "outputs": [
    {
     "name": "stdout",
     "output_type": "stream",
     "text": [
      "['\\\\\\\\10.245.74.212\\\\Chromatin_NAS_2\\\\Libraries\\\\CTP-10_Aire\\\\Genes_intronic_RNA\\\\blast_full_probes.fasta', '\\\\\\\\10.245.74.212\\\\Chromatin_NAS_2\\\\Libraries\\\\CTP-10_Aire\\\\Genes_TSS_DNA\\\\blast_full_probes.fasta', '\\\\\\\\10.245.74.212\\\\Chromatin_NAS_2\\\\Libraries\\\\CTP-10_Aire\\\\Promoter_enhancer_pairs\\\\blast_full_probes.fasta']\n",
      "['Genes-intronic-RNA', 'Genes-TSS-DNA', 'Promoter-enhancer-pairs']\n"
     ]
    }
   ],
   "source": [
    "files = []\n",
    "library_names = []\n",
    "for _fd in sub_fds:\n",
    "    if 'blast_full_probes.fasta' in os.listdir(_fd):\n",
    "        files.append(os.path.join(_fd, 'blast_full_probes.fasta'))\n",
    "        library_names.append(os.path.basename(_fd).replace('_', '-'))\n",
    "print(files)\n",
    "print(library_names)"
   ]
  },
  {
   "cell_type": "code",
   "execution_count": 78,
   "metadata": {},
   "outputs": [
    {
     "name": "stdout",
     "output_type": "stream",
     "text": [
      "- Picked primer: ID: W1A03_primer_2\n",
      "Name: W1A03_primer_2\n",
      "Description: W1A03_primer_2\n",
      "Number of features: 0\n",
      "Seq('CCCGCAATGGCTGACAACCG')\n",
      "- Picked primer: ID: W1A10_primer_9\n",
      "Name: W1A10_primer_9\n",
      "Description: W1A10_primer_9\n",
      "Number of features: 0\n",
      "Seq('TAATACGACTCACTATAGGGATTGCCGCATGGTTTCCG')\n"
     ]
    }
   ],
   "source": [
    "primers = library_tools.assemble.load_primers([2,9], _primer_folder=primer_folder)"
   ]
  },
  {
   "cell_type": "code",
   "execution_count": 79,
   "metadata": {
    "ExecuteTime": {
     "end_time": "2019-07-04T01:30:34.926834Z",
     "start_time": "2019-07-04T01:30:34.378426Z"
    }
   },
   "outputs": [
    {
     "name": "stdout",
     "output_type": "stream",
     "text": [
      "- num probes in \\\\10.245.74.212\\Chromatin_NAS_2\\Libraries\\CTP-10_Aire\\Genes_intronic_RNA\\blast_full_probes.fasta: 14704\n",
      "- num probes in \\\\10.245.74.212\\Chromatin_NAS_2\\Libraries\\CTP-10_Aire\\Genes_TSS_DNA\\blast_full_probes.fasta: 54485\n",
      "- num probes in \\\\10.245.74.212\\Chromatin_NAS_2\\Libraries\\CTP-10_Aire\\Promoter_enhancer_pairs\\blast_full_probes.fasta: 26147\n",
      "95336\n"
     ]
    }
   ],
   "source": [
    "primer_len=20\n",
    "\n",
    "all_records = []\n",
    "for _fl, _lib_name in zip(files, library_names):\n",
    "    with open(_fl, 'r') as _handle:\n",
    "        ct = 0\n",
    "        for _record in SeqIO.parse(_handle, \"fasta\"):\n",
    "            _record.id = _lib_name +\"_\"+ _record.id\n",
    "            if len(_record.seq) < 150:\n",
    "                _record.seq = _record.seq + primers[1].seq[len(_record.seq)-150+20:20].reverse_complement()\n",
    "            all_records.append(_record)\n",
    "            ct += 1\n",
    "    print(f\"- num probes in {_fl}: {ct}\")\n",
    "print(len(all_records))"
   ]
  },
  {
   "cell_type": "code",
   "execution_count": 44,
   "metadata": {},
   "outputs": [
    {
     "name": "stdout",
     "output_type": "stream",
     "text": [
      "0.0013112999999999998\n",
      "8.914950030593513e-08\n",
      "1.953576287547336e-12\n",
      "final in ul: 195.3576287547336\n"
     ]
    }
   ],
   "source": [
    "# RNA\n",
    "vol = 9e3 # ul\n",
    "conc = 145.7e-9 # g/ul\n",
    "num_pb = 14709\n",
    "pb_len = 150\n",
    "pb_mw = (pb_len * 303.7 + 79) # g/mol\n",
    "\n",
    "mass_total = vol * conc\n",
    "mass_per_pb = mass_total / num_pb\n",
    "mol_per_pb = mass_per_pb / pb_mw\n",
    "print(mass_total)\n",
    "print(mass_per_pb)\n",
    "print(mol_per_pb)\n",
    "target_conc = 1e-8 * 1e-6 # mol/ul\n",
    "final_vol = mol_per_pb / target_conc\n",
    "print(\"final in ul:\", final_vol)"
   ]
  },
  {
   "cell_type": "code",
   "execution_count": 46,
   "metadata": {},
   "outputs": [
    {
     "name": "stdout",
     "output_type": "stream",
     "text": [
      "0.0014858999999999999\n",
      "2.727172616316417e-08\n",
      "6.402264517023305e-13\n",
      "final in ul: 64.02264517023305\n"
     ]
    }
   ],
   "source": [
    "# DNA TSS\n",
    "vol = 9e3 # ul\n",
    "conc = 165.1e-9 # g/ul\n",
    "num_pb = 54485\n",
    "pb_len = 140\n",
    "pb_mw = (pb_len * 303.7 + 79) # g/mol\n",
    "\n",
    "mass_total = vol * conc\n",
    "mass_per_pb = mass_total / num_pb\n",
    "mol_per_pb = mass_per_pb / pb_mw\n",
    "print(mass_total)\n",
    "print(mass_per_pb)\n",
    "print(mol_per_pb)\n",
    "target_conc = 1e-8 * 1e-6 # mol/ul\n",
    "final_vol = mol_per_pb / target_conc\n",
    "print(\"final in ul:\", final_vol)"
   ]
  },
  {
   "cell_type": "code",
   "execution_count": 47,
   "metadata": {},
   "outputs": [
    {
     "name": "stdout",
     "output_type": "stream",
     "text": [
      "0.0015282\n",
      "5.8446475695108425e-08\n",
      "1.3720796228633102e-12\n",
      "final in ul: 137.20796228633102\n"
     ]
    }
   ],
   "source": [
    "# DNA TSS\n",
    "vol = 9e3 # ul\n",
    "conc = 169.8e-9 # g/ul\n",
    "num_pb = 26147\n",
    "pb_len = 140\n",
    "pb_mw = (pb_len * 303.7 + 79) # g/mol\n",
    "\n",
    "mass_total = vol * conc\n",
    "mass_per_pb = mass_total / num_pb\n",
    "mol_per_pb = mass_per_pb / pb_mw\n",
    "print(mass_total)\n",
    "print(mass_per_pb)\n",
    "print(mol_per_pb)\n",
    "target_conc = 1e-8 * 1e-6 # mol/ul\n",
    "final_vol = mol_per_pb / target_conc\n",
    "print(\"final in ul:\", final_vol)"
   ]
  },
  {
   "cell_type": "code",
   "execution_count": 32,
   "metadata": {},
   "outputs": [
    {
     "name": "stdout",
     "output_type": "stream",
     "text": [
      "8.914950030593513e-08\n"
     ]
    }
   ],
   "source": []
  },
  {
   "cell_type": "code",
   "execution_count": 38,
   "metadata": {},
   "outputs": [],
   "source": []
  },
  {
   "cell_type": "code",
   "execution_count": 41,
   "metadata": {},
   "outputs": [
    {
     "name": "stdout",
     "output_type": "stream",
     "text": [
      "195.3576287547336\n"
     ]
    }
   ],
   "source": [
    "final_vol = mol_per_pb / target_conc\n",
    "print(final_vol)"
   ]
  },
  {
   "cell_type": "code",
   "execution_count": 82,
   "metadata": {},
   "outputs": [
    {
     "data": {
      "text/plain": [
       "Seq('CACTATAGGGCCATTGCCCGCGAGGTCGAG')"
      ]
     },
     "execution_count": 82,
     "metadata": {},
     "output_type": "execute_result"
    }
   ],
   "source": [
    "all_records[20000].seq[-30:].reverse_complement()"
   ]
  },
  {
   "cell_type": "code",
   "execution_count": 83,
   "metadata": {},
   "outputs": [
    {
     "data": {
      "text/plain": [
       "150"
      ]
     },
     "execution_count": 83,
     "metadata": {},
     "output_type": "execute_result"
    }
   ],
   "source": [
    "len(all_records[-1].seq)"
   ]
  },
  {
   "cell_type": "code",
   "execution_count": 45,
   "metadata": {},
   "outputs": [],
   "source": [
    "# check primers\n",
    "import ImageAnalysis3.library_tools.quality_check as check\n",
    "reload(check)\n",
    "# \n",
    "primer_len=20\n",
    "fwd_primers = []\n",
    "for _r in all_records:\n",
    "    if _r.seq[:primer_len] not in fwd_primers:\n",
    "        fwd_primers.append(_r.seq[:primer_len])\n",
    "rev_primers = []\n",
    "for _r in all_records:\n",
    "    if _r.seq[-primer_len:].reverse_complement() not in rev_primers:\n",
    "        rev_primers.append(_r.seq[-primer_len:].reverse_complement())\n"
   ]
  },
  {
   "cell_type": "code",
   "execution_count": 46,
   "metadata": {},
   "outputs": [
    {
     "name": "stdout",
     "output_type": "stream",
     "text": [
      "- Picked primer: ID: W1A03_primer_2\n",
      "Name: W1A03_primer_2\n",
      "Description: W1A03_primer_2\n",
      "Number of features: 0\n",
      "Seq('CCCGCAATGGCTGACAACCG')\n",
      "- Picked primer: ID: W1A10_primer_9\n",
      "Name: W1A10_primer_9\n",
      "Description: W1A10_primer_9\n",
      "Number of features: 0\n",
      "Seq('TAATACGACTCACTATAGGGATTGCCGCATGGTTTCCG')\n",
      "- Picked primer: ID: W1A07_primer_6\n",
      "Name: W1A07_primer_6\n",
      "Description: W1A07_primer_6\n",
      "Number of features: 0\n",
      "Seq('CGCAAACTGGTGCGGAAGGC')\n",
      "- Picked primer: ID: W1A12_primer_11\n",
      "Name: W1A12_primer_11\n",
      "Description: W1A12_primer_11\n",
      "Number of features: 0\n",
      "Seq('TAATACGACTCACTATAGGGCCATTGCCCGCGAGGTCGAG')\n",
      "- Picked primer: ID: W1B05_primer_16\n",
      "Name: W1B05_primer_16\n",
      "Description: W1B05_primer_16\n",
      "Number of features: 0\n",
      "Seq('CGGGTTTCGTTGCGCACACC')\n",
      "- Picked primer: ID: W1B04_primer_15\n",
      "Name: W1B04_primer_15\n",
      "Description: W1B04_primer_15\n",
      "Number of features: 0\n",
      "Seq('TAATACGACTCACTATAGGGCTTGTGCATCGCGCCAAAGA')\n"
     ]
    }
   ],
   "source": [
    "primer_folder = r'\\\\10.245.74.212\\Chromatin_NAS_2\\Libraries\\Primers'\n",
    "primer_set1 = library_tools.assemble.load_primers([2,9], _primer_folder=primer_folder)\n",
    "primer_set2 = library_tools.assemble.load_primers([6,11], _primer_folder=primer_folder)\n",
    "primer_set3 = library_tools.assemble.load_primers([16,15], _primer_folder=primer_folder)\n"
   ]
  },
  {
   "cell_type": "code",
   "execution_count": 47,
   "metadata": {},
   "outputs": [
    {
     "name": "stdout",
     "output_type": "stream",
     "text": [
      "CCCGCAATGGCTGACAACCG\n",
      "CGCAAACTGGTGCGGAAGGC\n",
      "CGGGTTTCGTTGCGCACACC\n",
      "CCCGCAATGGCTGACAACCG\n",
      "CGCAAACTGGTGCGGAAGGC\n",
      "CGGGTTTCGTTGCGCACACC\n"
     ]
    }
   ],
   "source": [
    "for _fp in fwd_primers:\n",
    "    print(_fp)\n",
    "    \n",
    "print(primer_set1[0].seq)\n",
    "print(primer_set2[0].seq)\n",
    "print(primer_set3[0].seq)"
   ]
  },
  {
   "cell_type": "code",
   "execution_count": 48,
   "metadata": {},
   "outputs": [
    {
     "name": "stdout",
     "output_type": "stream",
     "text": [
      "GGATTGCCGCATGGTTTCCG\n",
      "CCATTGCCCGCGAGGTCGAG\n",
      "CTTGTGCATCGCGCCAAAGA\n",
      "GGATTGCCGCATGGTTTCCG\n",
      "CCATTGCCCGCGAGGTCGAG\n",
      "CTTGTGCATCGCGCCAAAGA\n"
     ]
    }
   ],
   "source": [
    "for _fp in rev_primers:\n",
    "    print(_fp)\n",
    "    \n",
    "print(primer_set1[1].seq[-primer_len:])\n",
    "print(primer_set2[1].seq[-primer_len:])\n",
    "print(primer_set3[1].seq[-primer_len:])"
   ]
  },
  {
   "cell_type": "code",
   "execution_count": 54,
   "metadata": {},
   "outputs": [
    {
     "name": "stdout",
     "output_type": "stream",
     "text": [
      "GGATTGCCGCATGGTTTCCG\n",
      "CCATTGCCCGCGAGGTCGAG\n",
      "CTTGTGCATCGCGCCAAAGA\n",
      "TAATACGACTCACTATAGGG\n",
      "TAATACGACTCACTATAGGG\n",
      "TAATACGACTCACTATAGGG\n"
     ]
    }
   ],
   "source": [
    "for _fp in rev_primers:\n",
    "    print(_fp)\n",
    "    \n",
    "print(primer_set1[1].seq[:20])\n",
    "print(primer_set2[1].seq[:20])\n",
    "print(primer_set3[1].seq[:20])"
   ]
  },
  {
   "cell_type": "code",
   "execution_count": 84,
   "metadata": {
    "ExecuteTime": {
     "end_time": "2019-07-04T01:34:30.240989Z",
     "start_time": "2019-07-04T01:31:58.735146Z"
    }
   },
   "outputs": [
    {
     "name": "stdout",
     "output_type": "stream",
     "text": [
      "number of probes saved: 95336\n"
     ]
    }
   ],
   "source": [
    "save_filename = os.path.join(pool_folder, 'merged_Aire_209gene.fasta')\n",
    "print(f\"number of probes saved: {len(all_records)}\")\n",
    "with open(save_filename, 'w') as _output_handle:\n",
    "    SeqIO.write(all_records, _output_handle, \"fasta\")"
   ]
  },
  {
   "cell_type": "code",
   "execution_count": null,
   "metadata": {},
   "outputs": [],
   "source": []
  }
 ],
 "metadata": {
  "kernelspec": {
   "display_name": "Python 3",
   "language": "python",
   "name": "python3"
  },
  "language_info": {
   "codemirror_mode": {
    "name": "ipython",
    "version": 3
   },
   "file_extension": ".py",
   "mimetype": "text/x-python",
   "name": "python",
   "nbconvert_exporter": "python",
   "pygments_lexer": "ipython3",
   "version": "3.7.9"
  },
  "toc": {
   "base_numbering": 1,
   "nav_menu": {},
   "number_sections": true,
   "sideBar": true,
   "skip_h1_title": false,
   "title_cell": "Table of Contents",
   "title_sidebar": "Contents",
   "toc_cell": false,
   "toc_position": {},
   "toc_section_display": true,
   "toc_window_display": false
  },
  "varInspector": {
   "cols": {
    "lenName": 16,
    "lenType": 16,
    "lenVar": 40
   },
   "kernels_config": {
    "python": {
     "delete_cmd_postfix": "",
     "delete_cmd_prefix": "del ",
     "library": "var_list.py",
     "varRefreshCmd": "print(var_dic_list())"
    },
    "r": {
     "delete_cmd_postfix": ") ",
     "delete_cmd_prefix": "rm(",
     "library": "var_list.r",
     "varRefreshCmd": "cat(var_dic_list()) "
    }
   },
   "types_to_exclude": [
    "module",
    "function",
    "builtin_function_or_method",
    "instance",
    "_Feature"
   ],
   "window_display": false
  }
 },
 "nbformat": 4,
 "nbformat_minor": 2
}
