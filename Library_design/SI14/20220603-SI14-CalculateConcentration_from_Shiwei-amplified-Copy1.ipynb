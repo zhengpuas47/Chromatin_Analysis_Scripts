{
 "cells": [
  {
   "cell_type": "markdown",
   "id": "d6561d27",
   "metadata": {},
   "source": [
    "# Calculate concentrations from Bogdan's stock"
   ]
  },
  {
   "cell_type": "code",
   "execution_count": 1,
   "id": "000433d1",
   "metadata": {},
   "outputs": [],
   "source": [
    "%run \"..\\..\\Startup_py3.py\"\n",
    "sys.path.append(r\"..\\..\\..\\..\\Documents\")\n",
    "\n",
    "import ImageAnalysis3"
   ]
  },
  {
   "cell_type": "markdown",
   "id": "71d92f0d",
   "metadata": {},
   "source": [
    "## SI14"
   ]
  },
  {
   "cell_type": "code",
   "execution_count": 30,
   "metadata": {},
   "outputs": [
    {
     "name": "stdout",
     "output_type": "stream",
     "text": [
      "num probes: 417492\n",
      "final volume: 74.44 ul\n",
      "final concentration: 834.98 uM\n"
     ]
    }
   ],
   "source": [
    "vol = 10.6 *1e3 # ul\n",
    "conc = (92+99) * 1e-9 # g/ul\n",
    "num_pb = 417492\n",
    "pb_len = 120-13\n",
    "pb_mw = (pb_len * 303.7 + 79) # g/mol\n",
    "\n",
    "mass_total = vol * conc\n",
    "mass_per_pb = mass_total / num_pb\n",
    "mol_per_pb = mass_per_pb / pb_mw\n",
    "print(f\"num probes: {num_pb}\")\n",
    "target_conc = 2 * 1e-9 * 1e-6 # mol/ul\n",
    "final_vol = mol_per_pb / target_conc\n",
    "print(f\"final volume: {final_vol:.2f} ul\")\n",
    "final_conc = target_conc * num_pb * 1e6 * 1e6\n",
    "print(f\"final concentration: {final_conc:.2f} uM\")"
   ]
  },
  {
   "cell_type": "markdown",
   "id": "d046cb72",
   "metadata": {},
   "source": [
    "## SI14 Individual_bad"
   ]
  },
  {
   "cell_type": "code",
   "execution_count": 29,
   "metadata": {},
   "outputs": [
    {
     "name": "stdout",
     "output_type": "stream",
     "text": [
      "num probes: 54565\n",
      "final volume: 84.62 ul\n",
      "final concentration: 873.04 uM\n"
     ]
    }
   ],
   "source": [
    "vol = 10.6 *1e3 # ul\n",
    "conc = 172 * 1e-9 # g/ul\n",
    "num_pb = 54565\n",
    "pb_len = 90-9\n",
    "pb_mw = (pb_len * 303.7 + 79) # g/mol\n",
    "\n",
    "mass_total = vol * conc\n",
    "mass_per_pb = mass_total / num_pb\n",
    "mol_per_pb = mass_per_pb / pb_mw\n",
    "print(f\"num probes: {num_pb}\")\n",
    "target_conc = 16 * 1e-9 * 1e-6 # mol/ul\n",
    "final_vol = mol_per_pb / target_conc\n",
    "print(f\"final volume: {final_vol:.2f} ul\")\n",
    "final_conc = target_conc * num_pb * 1e6 * 1e6\n",
    "print(f\"final concentration: {final_conc:.2f} uM\")"
   ]
  },
  {
   "cell_type": "markdown",
   "metadata": {},
   "source": [
    "## cosmos synthesis"
   ]
  },
  {
   "cell_type": "code",
   "execution_count": 1,
   "metadata": {},
   "outputs": [
    {
     "name": "stdout",
     "output_type": "stream",
     "text": [
      "num probes: 54565\n",
      "final volume: 46.04 ul\n",
      "final concentration: 873.04 uM\n"
     ]
    }
   ],
   "source": [
    "vol = 15.5 *1e3 # ul\n",
    "conc = 64 * 1e-9 # g/ul\n",
    "num_pb = 54565\n",
    "pb_len = 90-9\n",
    "pb_mw = (pb_len * 303.7 + 79) # g/mol\n",
    "\n",
    "mass_total = vol * conc\n",
    "mass_per_pb = mass_total / num_pb\n",
    "mol_per_pb = mass_per_pb / pb_mw\n",
    "print(f\"num probes: {num_pb}\")\n",
    "target_conc = 16 * 1e-9 * 1e-6 # mol/ul\n",
    "final_vol = mol_per_pb / target_conc\n",
    "print(f\"final volume: {final_vol:.2f} ul\")\n",
    "final_conc = target_conc * num_pb * 1e6 * 1e6\n",
    "print(f\"final concentration: {final_conc:.2f} uM\")"
   ]
  },
  {
   "cell_type": "code",
   "execution_count": null,
   "metadata": {},
   "outputs": [],
   "source": []
  },
  {
   "cell_type": "markdown",
   "id": "007bc68e",
   "metadata": {},
   "source": [
    "# SI14 Region_bad"
   ]
  },
  {
   "cell_type": "code",
   "execution_count": null,
   "metadata": {},
   "outputs": [],
   "source": [
    "vol = 15.5 *1e3 # ul\n",
    "conc = 172 * 1e-9 # g/ul\n",
    "num_pb = 10292\n",
    "pb_len = 90-9\n",
    "pb_mw = (pb_len * 303.7 + 79) # g/mol\n",
    "\n",
    "mass_total = vol * conc\n",
    "mass_per_pb = mass_total / num_pb\n",
    "mol_per_pb = mass_per_pb / pb_mw\n",
    "print(f\"num probes: {num_pb}\")\n",
    "target_conc = 16 * 1e-9 * 1e-6 # mol/ul\n",
    "final_vol = mol_per_pb / target_conc\n",
    "print(f\"final volume: {final_vol:.2f} ul\")\n",
    "final_conc = target_conc * num_pb * 1e6 * 1e6\n",
    "print(f\"final concentration: {final_conc:.2f} uM\")"
   ]
  },
  {
   "cell_type": "code",
   "execution_count": 21,
   "id": "8a589d5b",
   "metadata": {},
   "outputs": [
    {
     "data": {
      "text/plain": [
       "8.144466050808315"
      ]
     },
     "execution_count": 21,
     "metadata": {},
     "output_type": "execute_result"
    }
   ],
   "source": [
    "# current conc\n",
    "curr_conc = 433 * 1e-9 # g/ul\n",
    "# lib info\n",
    "num_pb = 10292\n",
    "pb_len = 90\n",
    "pb_mw = (pb_len * 303.7 + 79) # g/mol\n",
    "# target info\n",
    "tar_vol = 5 # ul\n",
    "tar_conc = 2.5 * 1e-9 / 1e6 # mol/ul\n",
    "tar_mol = tar_vol * tar_conc\n",
    "# total weight\n",
    "total_w = tar_mol * num_pb * pb_mw\n",
    "# vol\n",
    "total_w / curr_conc"
   ]
  },
  {
   "cell_type": "code",
   "execution_count": null,
   "id": "c5e662b4",
   "metadata": {},
   "outputs": [],
   "source": []
  },
  {
   "cell_type": "code",
   "execution_count": null,
   "id": "8f8574c7",
   "metadata": {},
   "outputs": [],
   "source": []
  },
  {
   "cell_type": "code",
   "execution_count": 20,
   "id": "3600fd1e",
   "metadata": {},
   "outputs": [
    {
     "data": {
      "text/plain": [
       "10292.0"
      ]
     },
     "execution_count": 20,
     "metadata": {},
     "output_type": "execute_result"
    }
   ],
   "source": [
    "(129714-109130)/2"
   ]
  },
  {
   "cell_type": "code",
   "execution_count": 3,
   "id": "48fd8e2a",
   "metadata": {},
   "outputs": [
    {
     "data": {
      "text/plain": [
       "<module 'numpy' from 'E:\\\\Users\\\\puzheng\\\\anaconda3\\\\envs\\\\ia3_postanalysis\\\\lib\\\\site-packages\\\\numpy\\\\__init__.py'>"
      ]
     },
     "execution_count": 3,
     "metadata": {},
     "output_type": "execute_result"
    }
   ],
   "source": [
    "vol = 9e3 # ul\n",
    "conc = 145.7e-9 # g/ul\n",
    "num_pb = 14709\n",
    "pb_len = 150\n",
    "pb_mw = (pb_len * 303.7 + 79) # g/mol\n",
    "\n",
    "mass_total = vol * conc\n",
    "mass_per_pb = mass_total / num_pb\n",
    "mol_per_pb = mass_per_pb / pb_mw\n",
    "print(mass_total)\n",
    "print(mass_per_pb)\n",
    "print(mol_per_pb)\n",
    "target_conc = 1e-8 * 1e-6 # mol/ul\n",
    "final_vol = mol_per_pb / target_conc\n",
    "print(\"final in ul:\", final_vol)"
   ]
  },
  {
   "cell_type": "code",
   "execution_count": null,
   "id": "57a00dbc",
   "metadata": {},
   "outputs": [],
   "source": []
  }
 ],
 "metadata": {
  "kernelspec": {
   "display_name": "ia3_postanalysis",
   "language": "python",
   "name": "ia3_postanalysis"
  },
  "language_info": {
   "codemirror_mode": {
    "name": "ipython",
    "version": 3
   },
   "file_extension": ".py",
   "mimetype": "text/x-python",
   "name": "python",
   "nbconvert_exporter": "python",
   "pygments_lexer": "ipython3",
   "version": "3.9.11"
  }
 },
 "nbformat": 4,
 "nbformat_minor": 5
}
