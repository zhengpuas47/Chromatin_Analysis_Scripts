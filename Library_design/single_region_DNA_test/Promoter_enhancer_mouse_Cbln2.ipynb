{
 "cells": [
  {
   "cell_type": "markdown",
   "metadata": {},
   "source": [
    "# Design CTP-15 high-resolution tracing of Cerebellin2\n",
    "\n",
    "by Pu Zheng\n",
    "\n",
    "2021.10.23\n",
    "\n",
    "Design loci for Cbln2 and its known enhancers\n"
   ]
  },
  {
   "cell_type": "markdown",
   "metadata": {},
   "source": [
    "<a id='top'></a>\n",
    "# Table of Contents\n",
    "\n",
    "> 0. [Minimum required packages and settings](#0)\n",
    ">>\n",
    ">> 0.1: [load required packages](#0.1)\n",
    ">>\n",
    ">> 0.2: [required parameters for library](#0.2)\n",
    ">\n",
    ">1. [Extract region sequences](#1)\n",
    ">>\n",
    ">>1.1 [load gene list](#1.1)\n",
    ">>\n",
    ">>1.2 [load gene TSS sequences](#1.2)\n",
    ">\n",
    ">2. [Design a sequential tracing encoding scheme](#2)\n",
    ">>\n",
    ">>2.1 [generate gene_2_readout](#2.1)\n",
    ">\n",
    ">3. [Design targeting sequences](#3)\n",
    ">>\n",
    ">>3.1 [Construct count table with all the 17-mers in the genome](#3.1)\n",
    ">>\n",
    ">>3.2 [Design probes targeting sequences by pb_designer](#3.2)\n",
    ">>\n",
    ">>3.3 [Summarize into pb_dict](#3.3)\n",
    ">\n",
    ">4. [Assemble probes](#4)\n",
    ">>\n",
    ">>4.1 [Load region_2_readouts](#4.1)\n",
    ">>\n",
    ">>4.2 [Load primers and readouts](#4.2)\n",
    ">>\n",
    ">>4.3 [Assemble probes](#4.3)\n",
    ">\n",
    ">5. [Check probe quality](#5)\n",
    ">>\n",
    ">>5.1 [Basic quality_checks](#5.1)\n",
    ">>\n",
    ">>5.2 [Blast screening](#5.2)\n",
    ">>\n",
    ">>5.3 [Reload saved probes and check length](#5.3)\n"
   ]
  },
  {
   "cell_type": "markdown",
   "metadata": {},
   "source": [
    "<a id='0'></a>\n",
    "# 0. Minimum required packages and parameters\n",
    "\n",
    "\n",
    "[back to top](#top)"
   ]
  },
  {
   "cell_type": "markdown",
   "metadata": {},
   "source": [
    "<a id='0.1'></a>\n",
    "## 0.1 load required packages\n",
    "\n",
    "[back to top](#top)"
   ]
  },
  {
   "cell_type": "code",
   "execution_count": 3,
   "metadata": {},
   "outputs": [
    {
     "name": "stdout",
     "output_type": "stream",
     "text": [
      "34976\n"
     ]
    }
   ],
   "source": [
    "%run \"..\\..\\Startup_py3.py\"\n",
    "sys.path.append(r\"..\\..\\..\\..\\Documents\")\n",
    "\n",
    "import ImageAnalysis3 as ia\n",
    "%matplotlib notebook\n",
    "\n",
    "from ImageAnalysis3 import *\n",
    "print(os.getpid())\n",
    "\n",
    "# library design specific tools\n",
    "from ImageAnalysis3.library_tools import LibraryDesigner as ld\n",
    "from ImageAnalysis3.library_tools import LibraryTools as lt\n",
    "# biopython imports\n",
    "from Bio import SeqIO\n",
    "from Bio.Seq import Seq\n",
    "from Bio.SeqRecord import SeqRecord\n",
    "from Bio.Blast.Applications import NcbiblastnCommandline\n",
    "from Bio.Blast import NCBIXML"
   ]
  },
  {
   "cell_type": "markdown",
   "metadata": {},
   "source": [
    "<a id='0.2'></a>\n",
    "## 0.2 required parameters for library\n",
    "\n",
    "[back to top](#top)"
   ]
  },
  {
   "cell_type": "code",
   "execution_count": 54,
   "metadata": {},
   "outputs": [],
   "source": [
    "## Some folders\n",
    "# NEW mouse genome\n",
    "genome_assembly = 'GRCm39'\n",
    "reference_folder = os.path.join(r'\\\\10.245.74.212\\Chromatin_NAS_2\\Chromatin_Libraries\\Genomes\\mouse', f'{genome_assembly}_ensembl')\n",
    "genome_folder = os.path.join(reference_folder, 'Genome')\n",
    "# Library directories\n",
    "pool_folder = r'\\\\10.245.74.212\\Chromatin_NAS_2\\Chromatin_Libraries\\CTP-15_MeCP2_genes'"
   ]
  },
  {
   "cell_type": "code",
   "execution_count": 6,
   "metadata": {},
   "outputs": [
    {
     "name": "stdout",
     "output_type": "stream",
     "text": [
      "resolution: 1000, flanking size: 5000\n",
      "create library folder: \\\\10.245.74.212\\Chromatin_NAS_2\\Chromatin_Libraries\\CTP-15_MeCP2_genes\\Cbln2\n",
      "create sequence folder: \\\\10.245.74.212\\Chromatin_NAS_2\\Chromatin_Libraries\\CTP-15_MeCP2_genes\\Cbln2\\sequences\n",
      "create report folder: \\\\10.245.74.212\\Chromatin_NAS_2\\Chromatin_Libraries\\CTP-15_MeCP2_genes\\Cbln2\\reports\n",
      "-- library_folder: \\\\10.245.74.212\\Chromatin_NAS_2\\Chromatin_Libraries\\CTP-15_MeCP2_genes\\Cbln2\n",
      "-- sequence_folder: \\\\10.245.74.212\\Chromatin_NAS_2\\Chromatin_Libraries\\CTP-15_MeCP2_genes\\Cbln2\\sequences\n",
      "-- report_folder: \\\\10.245.74.212\\Chromatin_NAS_2\\Chromatin_Libraries\\CTP-15_MeCP2_genes\\Cbln2\\reports\n"
     ]
    }
   ],
   "source": [
    "resolution = 1000\n",
    "flanking = 5000\n",
    "\n",
    "print(f\"resolution: {resolution}, flanking size: {flanking}\")\n",
    "# folder for sub-pool\n",
    "library_folder = os.path.join(pool_folder, f'Cbln2')\n",
    "if not os.path.exists(library_folder):\n",
    "    print(f\"create library folder: {library_folder}\")\n",
    "    os.makedirs(library_folder)\n",
    "# folder for fasta sequences\n",
    "sequence_folder = os.path.join(library_folder, 'sequences')\n",
    "if not os.path.exists(sequence_folder):\n",
    "    print(f\"create sequence folder: {sequence_folder}\")\n",
    "    os.makedirs(sequence_folder)\n",
    "# folder to save result probes\n",
    "report_folder = os.path.join(library_folder, 'reports')\n",
    "if not os.path.exists(report_folder):\n",
    "    print(f\"create report folder: {report_folder}\")\n",
    "    os.makedirs(report_folder)\n",
    "    \n",
    "print(f\"-- library_folder: {library_folder}\")\n",
    "print(f\"-- sequence_folder: {sequence_folder}\")\n",
    "print(f\"-- report_folder: {report_folder}\")"
   ]
  },
  {
   "cell_type": "markdown",
   "metadata": {},
   "source": [
    "<a id='1'></a>\n",
    "# 1 Extract region sequences\n",
    "\n",
    "In CTP12, I have a code to extract region_dict from TSS of genes, and the information came from .gff3 files in the Ensembl archive.\n",
    "\n",
    "Here, I directly generate this region_dict by manual input from a paper:\n",
    "\n",
    "https://www.nature.com/articles/s41586-021-03952-y#Sec7\n",
    ":\n",
    "\n",
    "I blasted the primer sequences in supplementary table 2\n",
    "\n",
    "[back to top](#top)"
   ]
  },
  {
   "cell_type": "raw",
   "metadata": {},
   "source": [
    "## E1: 18:86694187-86694423  \n",
    "## E2: 18:86742014-86742297  \n",
    "## promoter: 18:86728002-86732599\n",
    "## gene: 18:86729235-86736408"
   ]
  },
  {
   "cell_type": "code",
   "execution_count": 11,
   "metadata": {},
   "outputs": [
    {
     "data": {
      "text/plain": [
       "-283"
      ]
     },
     "execution_count": 11,
     "metadata": {},
     "output_type": "execute_result"
    }
   ],
   "source": []
  },
  {
   "cell_type": "markdown",
   "metadata": {},
   "source": [
    "# gene\n",
    "Chromosome 18: 86,729,235-86,736,408 forward strand.\n",
    "\n",
    "GRCm39:CM001011.3"
   ]
  },
  {
   "cell_type": "code",
   "execution_count": 50,
   "metadata": {},
   "outputs": [
    {
     "name": "stdout",
     "output_type": "stream",
     "text": [
      "region_dicts_file:\\\\10.245.74.212\\Chromatin_NAS_2\\Chromatin_Libraries\\CTP-15_MeCP2_genes\\Cbln2\\sequences\\region_dicts.pkl already exists, skip.\n"
     ]
    }
   ],
   "source": [
    "region_dicts = [\n",
    "    {'Gene':'Cbln2_E1','Name':'Cbln2_E1','Chr':18,'Start':86694187,'End':86694423,'Region':'18:86694187-86694423','Strand':'+'},\n",
    "    {'Gene':'Cbln2_E2','Name':'Cbln2_E2','Chr':18,'Start':86742014,'End':86742297,'Region':'18:86742014-86742297','Strand':'+'},\n",
    "    {'Gene':'Cbln2','Name':'Cbln2','Chr':18,'Start':86728002,'End':86736408,'Region':'18:86728002-86736408','Strand':'+'},\n",
    "]\n",
    "region_dicts_file = os.path.join(sequence_folder, 'region_dicts.pkl')\n",
    "if os.path.exists(region_dicts_file):\n",
    "    print(f\"region_dicts_file:{region_dicts_file} already exists, skip.\")\n",
    "else:\n",
    "    print(f\"saving region_dicts to file: {region_dicts_file}\")\n",
    "    pickle.dump(region_dicts, open(region_dicts_file, 'wb'))"
   ]
  },
  {
   "cell_type": "code",
   "execution_count": 33,
   "metadata": {
    "scrolled": true
   },
   "outputs": [
    {
     "name": "stdout",
     "output_type": "stream",
     "text": [
      "-- load sequence: 1, size=195154279\n",
      "-- load sequence: 10, size=130530862\n",
      "-- load sequence: 11, size=121973369\n",
      "-- load sequence: 12, size=120092757\n",
      "-- load sequence: 13, size=120883175\n",
      "-- load sequence: 14, size=125139656\n",
      "-- load sequence: 15, size=104073951\n",
      "-- load sequence: 16, size=98008968\n",
      "-- load sequence: 17, size=95294699\n",
      "-- load sequence: 18, size=90720763\n",
      "-- load sequence: 19, size=61420004\n",
      "-- load sequence: 2, size=181755017\n",
      "-- load sequence: 3, size=159745316\n",
      "-- load sequence: 4, size=156860686\n",
      "-- load sequence: 5, size=151758149\n",
      "-- load sequence: 6, size=149588044\n",
      "-- load sequence: 7, size=144995196\n",
      "-- load sequence: 8, size=130127694\n",
      "-- load sequence: 9, size=124359700\n",
      "-- load sequence: MT, size=16299\n",
      "-- load sequence: X, size=169476592\n",
      "-- load sequence: Y, size=91455967\n",
      "-- load sequence: JH584299.1, size=953012\n",
      "-- load sequence: GL456233.2, size=559103\n",
      "-- load sequence: JH584301.1, size=259875\n",
      "-- load sequence: GL456211.1, size=241735\n",
      "-- load sequence: GL456221.1, size=206961\n",
      "-- load sequence: JH584297.1, size=205776\n",
      "-- load sequence: JH584296.1, size=199368\n",
      "-- load sequence: GL456354.1, size=195993\n",
      "-- load sequence: JH584298.1, size=184189\n",
      "-- load sequence: JH584300.1, size=182347\n",
      "-- load sequence: GL456219.1, size=175968\n",
      "-- load sequence: GL456210.1, size=169725\n",
      "-- load sequence: JH584303.1, size=158099\n",
      "-- load sequence: JH584302.1, size=155838\n",
      "-- load sequence: GL456212.1, size=153618\n",
      "-- load sequence: JH584304.1, size=114452\n",
      "-- load sequence: GL456379.1, size=72385\n",
      "-- load sequence: GL456366.1, size=47073\n",
      "-- load sequence: GL456367.1, size=42057\n",
      "-- load sequence: GL456239.1, size=40056\n",
      "-- load sequence: GL456383.1, size=38659\n",
      "-- load sequence: GL456385.1, size=35240\n",
      "-- load sequence: GL456360.1, size=31704\n",
      "-- load sequence: GL456378.1, size=31602\n",
      "-- load sequence: MU069435.1, size=31129\n",
      "-- load sequence: GL456389.1, size=28772\n",
      "-- load sequence: GL456372.1, size=28664\n",
      "-- load sequence: GL456370.1, size=26764\n",
      "-- load sequence: GL456381.1, size=25871\n",
      "-- load sequence: GL456387.1, size=24685\n",
      "-- load sequence: GL456390.1, size=24668\n",
      "-- load sequence: GL456394.1, size=24323\n",
      "-- load sequence: GL456392.1, size=23629\n",
      "-- load sequence: GL456382.1, size=23158\n",
      "-- load sequence: GL456359.1, size=22974\n",
      "-- load sequence: GL456396.1, size=21240\n",
      "-- load sequence: GL456368.1, size=20208\n",
      "-- load sequence: MU069434.1, size=8412\n",
      "-- load sequence: JH584295.1, size=1976\n",
      "- 61 sequences loaded.\n"
     ]
    }
   ],
   "source": [
    "reload(library_tools.references)\n",
    "reload(library_tools.sequences)\n",
    "# load all ref sequences\n",
    "seq_rd = library_tools.sequences.sequence_reader(genome_folder, \n",
    "                                                 flanking=flanking, resolution=resolution,\n",
    "                                                 auto_load_ref=True)\n",
    "# Load sequences\n",
    "for _dict in region_dicts:\n",
    "    seq_rd.find_sequence_for_region(_dict, )\n",
    "# save sequences\n",
    "seq_rd.save_sequences(sequence_folder)"
   ]
  },
  {
   "cell_type": "markdown",
   "metadata": {},
   "source": [
    "<a id='2'></a>\n",
    "# 2 Design a sequential tracing encoding scheme\n",
    "\n",
    "for sorted gene, assign 2 of identical unique readouts for this gene\n",
    "\n",
    "[back to top](#top)"
   ]
  },
  {
   "cell_type": "markdown",
   "metadata": {},
   "source": [
    "<a id='2.1'></a>\n",
    "## 2.1 generate region_2_readout\n",
    "\n",
    "[back to top](#top)"
   ]
  },
  {
   "cell_type": "code",
   "execution_count": null,
   "metadata": {},
   "outputs": [],
   "source": []
  },
  {
   "cell_type": "code",
   "execution_count": null,
   "metadata": {},
   "outputs": [],
   "source": []
  },
  {
   "cell_type": "markdown",
   "metadata": {},
   "source": [
    "<a id='3'></a>\n",
    "# 3 Design targeting sequences\n",
    "\n",
    "[back to top](#top)"
   ]
  },
  {
   "cell_type": "markdown",
   "metadata": {},
   "source": [
    "<a id='3.1'></a>\n",
    "## 3.1 Construct count table with all the 17-mers in the genome\n",
    "\n",
    "Create new count tables if you don't have pre-built 17-mer\n",
    "\n",
    "This library requires mm10 (GRCm38) genome\n",
    "\n",
    "[back to top](#top)"
   ]
  },
  {
   "cell_type": "code",
   "execution_count": 53,
   "metadata": {},
   "outputs": [],
   "source": [
    "reload(library_tools.design)\n",
    "overwrite_table = False\n",
    "library_type = 'DNA'"
   ]
  },
  {
   "cell_type": "markdown",
   "metadata": {},
   "source": [
    "### 3.1.1 construct map for whole genome"
   ]
  },
  {
   "cell_type": "code",
   "execution_count": 57,
   "metadata": {
    "scrolled": true
   },
   "outputs": [
    {
     "name": "stdout",
     "output_type": "stream",
     "text": [
      "23\n",
      "- Start multi-processing comsume 61 sequences 24 threads, finish in 494.486s\n",
      "- Total sequences loaded: 2728221475\n",
      "Time to compute unique and clip: 741.4039568901062\n",
      "Time to update matrix: 28.07893443107605\n",
      "- start saving to file: \\\\10.245.74.212\\Chromatin_NAS_2\\Chromatin_Libraries\\Genomes\\mouse\\GRCm39_ensembl\\GRCm39_genome_17w.npy\n"
     ]
    },
    {
     "ename": "KeyboardInterrupt",
     "evalue": "",
     "output_type": "error",
     "traceback": [
      "\u001b[1;31m---------------------------------------------------------------------------\u001b[0m",
      "\u001b[1;31mKeyboardInterrupt\u001b[0m                         Traceback (most recent call last)",
      "\u001b[1;32m<ipython-input-57-e7267778e8b4>\u001b[0m in \u001b[0;36m<module>\u001b[1;34m\u001b[0m\n\u001b[0;32m     18\u001b[0m     \u001b[0mct\u001b[0m\u001b[1;33m.\u001b[0m\u001b[0mcomplete\u001b[0m\u001b[1;33m(\u001b[0m\u001b[0mverbose\u001b[0m\u001b[1;33m=\u001b[0m\u001b[1;32mTrue\u001b[0m\u001b[1;33m)\u001b[0m\u001b[1;33m\u001b[0m\u001b[1;33m\u001b[0m\u001b[0m\n\u001b[0;32m     19\u001b[0m \u001b[1;33m\u001b[0m\u001b[0m\n\u001b[1;32m---> 20\u001b[1;33m     \u001b[0mct\u001b[0m\u001b[1;33m.\u001b[0m\u001b[0msave\u001b[0m\u001b[1;33m(\u001b[0m\u001b[1;33m)\u001b[0m\u001b[1;33m\u001b[0m\u001b[1;33m\u001b[0m\u001b[0m\n\u001b[0m\u001b[0;32m     21\u001b[0m \u001b[1;33m\u001b[0m\u001b[0m\n\u001b[0;32m     22\u001b[0m     \u001b[1;31m# clear RAM if contructed countable\u001b[0m\u001b[1;33m\u001b[0m\u001b[1;33m\u001b[0m\u001b[1;33m\u001b[0m\u001b[0m\n",
      "\u001b[1;32mE:\\Users\\puzheng\\Documents\\ImageAnalysis3\\library_tools\\design.py\u001b[0m in \u001b[0;36msave\u001b[1;34m(self)\u001b[0m\n\u001b[0;32m     91\u001b[0m                 \u001b[0mss\u001b[0m\u001b[1;33m.\u001b[0m\u001b[0msave_npz\u001b[0m\u001b[1;33m(\u001b[0m\u001b[0mself\u001b[0m\u001b[1;33m.\u001b[0m\u001b[0msave_file\u001b[0m\u001b[1;33m.\u001b[0m\u001b[0msplit\u001b[0m\u001b[1;33m(\u001b[0m\u001b[0mos\u001b[0m\u001b[1;33m.\u001b[0m\u001b[0mpath\u001b[0m\u001b[1;33m.\u001b[0m\u001b[0mextsep\u001b[0m\u001b[1;33m)\u001b[0m\u001b[1;33m[\u001b[0m\u001b[1;36m0\u001b[0m\u001b[1;33m]\u001b[0m\u001b[1;33m,\u001b[0m \u001b[0mself\u001b[0m\u001b[1;33m.\u001b[0m\u001b[0mmatrix\u001b[0m\u001b[1;33m)\u001b[0m\u001b[1;33m\u001b[0m\u001b[1;33m\u001b[0m\u001b[0m\n\u001b[0;32m     92\u001b[0m             \u001b[1;32melse\u001b[0m\u001b[1;33m:\u001b[0m\u001b[1;33m\u001b[0m\u001b[1;33m\u001b[0m\u001b[0m\n\u001b[1;32m---> 93\u001b[1;33m                 \u001b[0mself\u001b[0m\u001b[1;33m.\u001b[0m\u001b[0mmatrix\u001b[0m\u001b[1;33m.\u001b[0m\u001b[0mtofile\u001b[0m\u001b[1;33m(\u001b[0m\u001b[0mself\u001b[0m\u001b[1;33m.\u001b[0m\u001b[0msave_file\u001b[0m\u001b[1;33m)\u001b[0m\u001b[1;33m\u001b[0m\u001b[1;33m\u001b[0m\u001b[0m\n\u001b[0m\u001b[0;32m     94\u001b[0m     \u001b[1;32mdef\u001b[0m \u001b[0mload\u001b[0m\u001b[1;33m(\u001b[0m\u001b[0mself\u001b[0m\u001b[1;33m)\u001b[0m\u001b[1;33m:\u001b[0m\u001b[1;33m\u001b[0m\u001b[1;33m\u001b[0m\u001b[0m\n\u001b[0;32m     95\u001b[0m         \u001b[1;32mif\u001b[0m \u001b[0mself\u001b[0m\u001b[1;33m.\u001b[0m\u001b[0msave_file\u001b[0m \u001b[1;32mis\u001b[0m \u001b[1;32mnot\u001b[0m \u001b[1;32mNone\u001b[0m\u001b[1;33m:\u001b[0m\u001b[1;33m\u001b[0m\u001b[1;33m\u001b[0m\u001b[0m\n",
      "\u001b[1;31mKeyboardInterrupt\u001b[0m: "
     ]
    }
   ],
   "source": [
    "genome_table_file = os.path.join(reference_folder, f'{genome_assembly}_genome_17w.npy')\n",
    "\n",
    "if not os.path.exists(genome_table_file) or overwrite_table:\n",
    "    # genome\n",
    "    _genome_filenames = [os.path.join(genome_folder, _fl) \n",
    "         for _fl in os.listdir(genome_folder) \n",
    "         if _fl.split(os.extsep)[-1]=='fasta' or _fl.split(os.extsep)[-1]=='fa']\n",
    "    print(len(_genome_filenames))\n",
    "\n",
    "    ct = library_tools.design.countTable(word=17,save_file=genome_table_file, \n",
    "                       sparse=False)\n",
    "    ct.verbose=True\n",
    "    \n",
    "    ct.read(_genome_filenames) # read sequences from fasta files\n",
    "\n",
    "    ct.consume_loaded(num_threads=32) # convert sequences into integers\n",
    "\n",
    "    ct.complete(verbose=True)\n",
    "\n",
    "    ct.save()\n",
    "\n",
    "    # clear RAM if contructed countable \n",
    "    del(ct)"
   ]
  },
  {
   "cell_type": "code",
   "execution_count": 58,
   "metadata": {},
   "outputs": [
    {
     "name": "stdout",
     "output_type": "stream",
     "text": [
      "- start saving to file: \\\\10.245.74.212\\Chromatin_NAS_2\\Chromatin_Libraries\\Genomes\\mouse\\GRCm39_ensembl\\GRCm39_genome_17w.npy\n"
     ]
    }
   ],
   "source": [
    "    ct.save()"
   ]
  },
  {
   "cell_type": "markdown",
   "metadata": {},
   "source": [
    "### 3.1.2 construct map for transcriptome\n",
    "\n",
    "skip for this library"
   ]
  },
  {
   "cell_type": "markdown",
   "metadata": {},
   "source": [
    "### 3.1.3 construct map for repeats from RepBase\n",
    "\n",
    "directly copy from previous library"
   ]
  },
  {
   "cell_type": "markdown",
   "metadata": {},
   "source": [
    "### 3.1.4 construct map for previous library to avoid conflict"
   ]
  },
  {
   "cell_type": "code",
   "execution_count": 61,
   "metadata": {},
   "outputs": [
    {
     "name": "stdout",
     "output_type": "stream",
     "text": [
      "- Start multi-processing comsume 173891 sequences 24 threads, finish in 100.184s\n",
      "- Total sequences loaded: 21910266\n",
      "Time to compute unique and clip: 5.280938148498535\n",
      "Time to update matrix: 7.0782787799835205\n",
      "- start saving to file: \\\\10.245.74.212\\Chromatin_NAS_2\\Chromatin_Libraries\\Genomes\\mouse\\GRCm39_ensembl\\ctp11_genome_17w.npy\n"
     ]
    }
   ],
   "source": [
    "from tqdm import tqdm\n",
    "# mouse genome\n",
    "ctp11_folder = r'\\\\10.245.74.212\\Chromatin_NAS_2\\Chromatin_Libraries\\CTP-11_brain\\mouse_genome_1000'\n",
    "\n",
    "ctp11_table_file = os.path.join(reference_folder, 'ctp11_genome_17w.npy')\n",
    "\n",
    "if not os.path.exists(ctp11_table_file) or overwrite_table:\n",
    "    # ctp11\n",
    "    _ctp11_filenames = [os.path.join(ctp11_folder, _fl) \n",
    "         for _fl in os.listdir(ctp11_folder) \n",
    "         if _fl.split(os.extsep)[-1]=='fasta' or _fl.split(os.extsep)[-1]=='fa']\n",
    "    # only keep the final_pool_probes\n",
    "    _ctp11_filenames = [_fl for _fl in _ctp11_filenames if 'final_pool_probes' in _fl]\n",
    "    \n",
    "    ct = library_tools.design.countTable(word=17,save_file=ctp11_table_file, \n",
    "                       sparse=False)\n",
    "    ct.verbose=True\n",
    "\n",
    "    ct.read(_ctp11_filenames) # read sequences from fasta files\n",
    "\n",
    "    ct.consume_loaded(num_threads=24) # convert sequences into integers\n",
    "\n",
    "    ct.complete(verbose=True)\n",
    "\n",
    "    ct.save()\n",
    "    \n",
    "    # clear RAM if contructed countable \n",
    "    del(ct)"
   ]
  },
  {
   "cell_type": "code",
   "execution_count": null,
   "metadata": {},
   "outputs": [],
   "source": [
    "from tqdm import tqdm\n",
    "# mouse genome\n",
    "ctp11_folder = r'\\\\10.245.74.212\\Chromatin_NAS_2\\Chromatin_Libraries\\CTP-11_brain\\mouse_genome_1000'\n",
    "\n",
    "ctp11_table_file = os.path.join(reference_folder, 'ctp11_genome_17w.npy')\n",
    "\n",
    "if not os.path.exists(ctp11_table_file) or overwrite_table:\n",
    "    # ctp11\n",
    "    _ctp11_filenames = [os.path.join(ctp11_folder, _fl) \n",
    "         for _fl in os.listdir(ctp11_folder) \n",
    "         if _fl.split(os.extsep)[-1]=='fasta' or _fl.split(os.extsep)[-1]=='fa']\n",
    "    # only keep the final_pool_probes\n",
    "    _ctp11_filenames = [_fl for _fl in _ctp11_filenames if 'final_pool_probes' in _fl]\n",
    "    \n",
    "    ct = library_tools.design.countTable(word=17,save_file=ctp11_table_file, \n",
    "                       sparse=False)\n",
    "    ct.verbose=True\n",
    "\n",
    "    ct.read(_ctp11_filenames) # read sequences from fasta files\n",
    "\n",
    "    ct.consume_loaded(num_threads=24) # convert sequences into integers\n",
    "\n",
    "    ct.complete(verbose=True)\n",
    "\n",
    "    ct.save()\n",
    "    \n",
    "    # clear RAM if contructed countable \n",
    "    del(ct)"
   ]
  },
  {
   "cell_type": "code",
   "execution_count": 65,
   "metadata": {},
   "outputs": [],
   "source": [
    "test_ct = ld.countTable(sparse=False, save_file=ctp11_table_file)\n",
    "test_ct.load()"
   ]
  },
  {
   "cell_type": "code",
   "execution_count": 93,
   "metadata": {},
   "outputs": [
    {
     "name": "stdout",
     "output_type": "stream",
     "text": [
      "10 µs ± 177 ns per loop (mean ± std. dev. of 7 runs, 100000 loops each)\n"
     ]
    }
   ],
   "source": [
    "%%timeit\n",
    "test_ct.get('ATCGATCGATCGATCGA')"
   ]
  },
  {
   "cell_type": "markdown",
   "metadata": {},
   "source": [
    "### 3.1.5 construct map for isoforms for this library (only for RNA library)"
   ]
  },
  {
   "cell_type": "code",
   "execution_count": 68,
   "metadata": {},
   "outputs": [],
   "source": [
    "from tqdm import tqdm\n",
    "# isoform\n",
    "# RNA specific: get isoform files\n",
    "if library_type is 'RNA':\n",
    "    isoform_folder = os.path.join(sequence_folder, 'isoforms')\n",
    "\n",
    "    isoform_table_file = os.path.join(isoform_folder, 'library_isoform_17w.npy')\n",
    "\n",
    "    if not os.path.exists(isoform_table_file) or overwrite_table:\n",
    "        # isoform\n",
    "        isoform_files = [os.path.join(isoform_folder, _fl) \n",
    "                         for _fl in os.listdir(isoform_folder) \n",
    "                         if _fl.split(os.extsep)[-1] == 'fasta' or _fl.split(os.extsep)[-1] == 'fa']\n",
    "        print(len(isoform_files))\n",
    "\n",
    "        ct = library_tools.design.countTable(word=17,save_file=isoform_table_file, \n",
    "                           sparse=False)\n",
    "        ct.verbose=True\n",
    "\n",
    "        ct.read(isoform_files) # read sequences from fasta files\n",
    "\n",
    "        ct.consume_loaded(num_threads=24) # convert sequences into integers\n",
    "\n",
    "        ct.complete(verbose=True)\n",
    "\n",
    "        ct.save()\n",
    "\n",
    "        # clear RAM if contructed countable \n",
    "        del(ct)"
   ]
  },
  {
   "cell_type": "markdown",
   "metadata": {},
   "source": [
    "<a id='3.2'></a>\n",
    "## 3.2 Design probes targeting sequences by pb_designer\n",
    "\n",
    "[back to top](#top)"
   ]
  },
  {
   "cell_type": "code",
   "execution_count": 69,
   "metadata": {},
   "outputs": [
    {
     "name": "stdout",
     "output_type": "stream",
     "text": [
      "41 regions loaded to design probes.\n",
      "target save filename: \\\\10.245.74.212\\Chromatin_NAS_2\\Chromatin_Libraries\\CTP-15_MeCP2_genes\\Cbln2\\reports\\merged_probes.pbr\n"
     ]
    }
   ],
   "source": [
    "# requires pre_defined genome_folder and library_folder\n",
    "# Indices\n",
    "genome_index = os.path.join(reference_folder, f'{genome_assembly}_genome_17w.npy')\n",
    "\n",
    "repeat_index = os.path.join(reference_folder, 'Repbase_v2603_repeat_17w.npy')\n",
    "\n",
    "ref_library_index = os.path.join(reference_folder, 'ctp11_genome_17w.npy')\n",
    "\n",
    "if library_type is 'RNA':\n",
    "    isoform_folder = os.path.join(sequence_folder, 'isoforms')\n",
    "    isoform_index = os.path.join(isoform_folder, 'library_isoform_17w.npy')\n",
    "\n",
    "# get input files \n",
    "input_files = glob.glob(os.path.join(sequence_folder, '*.fasta'))\n",
    "\n",
    "print(f\"{len(input_files)} regions loaded to design probes.\")\n",
    "\n",
    "if not os.path.exists(report_folder):\n",
    "    os.makedirs(report_folder)\n",
    "    \n",
    "# filename to save probe reports\n",
    "save_file = os.path.join(report_folder, f'merged_probes.pbr')\n",
    "print(f\"target save filename: {save_file}\")"
   ]
  },
  {
   "cell_type": "markdown",
   "metadata": {},
   "source": [
    "### 3.2.1 create pb_designer class"
   ]
  },
  {
   "cell_type": "code",
   "execution_count": 103,
   "metadata": {},
   "outputs": [],
   "source": [
    "use_ref_library = True\n",
    "\n",
    "sequence_dict = {\n",
    "    'file':input_files,\n",
    "}\n",
    "map_dict = {\n",
    "    'genome': {'file':genome_index,'rev_com':False,'two_stranded':True},\n",
    "    #'transcriptome':{'file':transcriptome_index,'rev_com':True,'two_stranded':False},\n",
    "    'rep_genome':{'file':repeat_index,'rev_com':False,'two_stranded':True},\n",
    "}\n",
    "\n",
    "params_dict = {\n",
    "    'word_size':17,\n",
    "    #'pb_len':40,\n",
    "    'buffer_len':-2, # distance between probes\n",
    "    'max_count':2**16-1,\n",
    "    'check_on_go': False, # whether automatically check probes\n",
    "    'auto': False, # whether automatically convert reference maps\n",
    "    }\n",
    "\n",
    "check_dict={\n",
    "    'rep_genome': 0,\n",
    "    'gc':[0.1,0.8],\n",
    "    'masks': ['GGGGG', # Quartet-repeats\n",
    "              'AAAAAA','TTTTTT','CCCCCC',\n",
    "              'GAATTC','CTTAAG', # EcoRI sites\n",
    "              'GGTACC','CCATGG', # KpnI sites\n",
    "              ],\n",
    "           }\n",
    "\n",
    "if library_type == 'DNA':\n",
    "    sequence_dict['rev_com'] = False\n",
    "    sequence_dict['two_stranded'] =True # Allow design on both DNA strands\n",
    "    \n",
    "    map_dict['self_sequences'] = {'file':input_files,'force_list':True,'rev_com':False,'two_stranded':True}\n",
    "    \n",
    "    params_dict['pb_len'] = 42\n",
    "    \n",
    "    check_dict['tm'] = 46+0.62*50-5 # 47C incubation + 50% formamide - 5C for the melting curve\n",
    "    check_dict[('genome','self_sequences')] = int( (params_dict['pb_len'] - params_dict['word_size'] + 1) * 1.8 )\n",
    "    #check_dict['transcriptome'] = int( (params_dict['pb_len'] - params_dict['word_size'] + 1) * 0.8 )\n",
    "    \n",
    "    \n",
    "elif library_type == 'RNA':\n",
    "    sequence_dict['rev_com'] = True\n",
    "    sequence_dict['two_stranded'] =False\n",
    "    \n",
    "    map_dict['isoforms'] = {'file':isoform_index,'force_list':True,'rev_com':True,'two_stranded':False}\n",
    "    \n",
    "    params_dict['pb_len'] = 30\n",
    "    \n",
    "    check_dict['tm'] = 37+0.62*30-5\n",
    "    check_dict[('transcriptome','isoforms')] = int( (params_dict['pb_len'] - params_dict['word_size'] + 1) * 0.8 )\n",
    "    check_dict['genome'] = int( (params_dict['pb_len'] - params_dict['word_size'] + 1) * 1.8 )\n",
    "    \n",
    "# add ref library if applicable\n",
    "if use_ref_library:\n",
    "    \n",
    "    map_dict['ref_library'] = {'file':ref_library_index,'rev_com':True,'two_stranded':True}\n",
    "    \n",
    "    check_dict['ref_library'] = int( (params_dict['pb_len'] - params_dict['word_size'] + 1) * 0.8 )"
   ]
  },
  {
   "cell_type": "code",
   "execution_count": 104,
   "metadata": {},
   "outputs": [
    {
     "name": "stdout",
     "output_type": "stream",
     "text": [
      "\n",
      "Probe designer derived from Bogdan Bintu:\n",
      "https://github.com/BogdanBintu/ChromatinImaging/blob/master/LibraryDesign/LibraryDesigner.py\n",
      "by Pu Zheng, 2020.11\n",
      "\n",
      "Major changes:\n",
      "    1. allow design of two strands\n",
      "    2. separate reverse_complement (rev_com) and from two strands (two_stranded) as \n",
      "    two different inputs for map_dic and sequence_dic\n",
      "    3. replace 'local_genome' with 'self_sequences' to be more explicit, and only \n",
      "    exclude the counts for the corresponding self_sequence within each input. \n",
      "\n",
      "Key information:\n",
      "    - number of input_sequence(s): 41\n",
      "    - save_file location: \\\\10.245.74.212\\Chromatin_NAS_2\\Chromatin_Libraries\\CTP-15_MeCP2_genes\\Cbln2\\reports\\merged_probes.pbr\n",
      "\n",
      "- Loading from savefile: \\\\10.245.74.212\\Chromatin_NAS_2\\Chromatin_Libraries\\CTP-15_MeCP2_genes\\Cbln2\\reports\\merged_probes.pbr.\n",
      "- loading cand_probes from file\n",
      "- loading kept_probes from file\n",
      "- 0 filtered probes loaded\n"
     ]
    },
    {
     "data": {
      "text/plain": [
       "True"
      ]
     },
     "execution_count": 104,
     "metadata": {},
     "output_type": "execute_result"
    }
   ],
   "source": [
    "reload(library_tools)\n",
    "reload(library_tools.design)\n",
    "\n",
    "pb_designer = library_tools.design.pb_reports_class(\n",
    "    sequence_dic = sequence_dict,\n",
    "    map_dic = map_dict,\n",
    "    params_dic = params_dict,\n",
    "    check_dic = check_dict,\n",
    "    save_file=save_file,\n",
    ")\n",
    "print(pb_designer)\n",
    "pb_designer.load_from_file(load_probes_only=True)"
   ]
  },
  {
   "cell_type": "code",
   "execution_count": 102,
   "metadata": {
    "scrolled": true
   },
   "outputs": [
    {
     "name": "stdout",
     "output_type": "stream",
     "text": [
      "{'name': '18:86737014-86738014_:+_gene_Cbln2_E2_reg_1_pb_947', 'reg_index': 11, 'reg_name': '18:86737014-86738014_:+_gene_Cbln2_E2_reg_1', 'pb_index': 947, 'strand': '+', 'gc': 0.28571428571428575, 'tm': 68.95544328940525, 'map_genome': 129, 'map_rep_genome': 0, 'map_self_sequences': 26, 'map_ref_library': 0}\n",
      "{'name': '18:86737014-86738014_:+_gene_Cbln2_E2_reg_1_pb_947', 'reg_index': 11, 'reg_name': '18:86737014-86738014_:+_gene_Cbln2_E2_reg_1', 'pb_index': 947, 'strand': '-', 'gc': 0.28571428571428575, 'tm': 68.95544328940525, 'map_genome': 129, 'map_rep_genome': 0, 'map_self_sequences': 26, 'map_ref_library': 0}\n",
      "{'name': '18:86737014-86738014_:+_gene_Cbln2_E2_reg_1_pb_948', 'reg_index': 11, 'reg_name': '18:86737014-86738014_:+_gene_Cbln2_E2_reg_1', 'pb_index': 948, 'strand': '+', 'gc': 0.2619047619047619, 'tm': 68.67671295105993, 'map_genome': 132, 'map_rep_genome': 0, 'map_self_sequences': 26, 'map_ref_library': 0}\n",
      "{'name': '18:86737014-86738014_:+_gene_Cbln2_E2_reg_1_pb_948', 'reg_index': 11, 'reg_name': '18:86737014-86738014_:+_gene_Cbln2_E2_reg_1', 'pb_index': 948, 'strand': '-', 'gc': 0.2619047619047619, 'tm': 68.67671295105993, 'map_genome': 132, 'map_rep_genome': 0, 'map_self_sequences': 26, 'map_ref_library': 0}\n",
      "{'name': '18:86737014-86738014_:+_gene_Cbln2_E2_reg_1_pb_949', 'reg_index': 11, 'reg_name': '18:86737014-86738014_:+_gene_Cbln2_E2_reg_1', 'pb_index': 949, 'strand': '+', 'gc': 0.2619047619047619, 'tm': 68.18710672030392, 'map_genome': 136, 'map_rep_genome': 0, 'map_self_sequences': 26, 'map_ref_library': 0}\n",
      "{'name': '18:86737014-86738014_:+_gene_Cbln2_E2_reg_1_pb_949', 'reg_index': 11, 'reg_name': '18:86737014-86738014_:+_gene_Cbln2_E2_reg_1', 'pb_index': 949, 'strand': '-', 'gc': 0.2619047619047619, 'tm': 68.18710672030386, 'map_genome': 136, 'map_rep_genome': 0, 'map_self_sequences': 26, 'map_ref_library': 0}\n",
      "{'name': '18:86737014-86738014_:+_gene_Cbln2_E2_reg_1_pb_950', 'reg_index': 11, 'reg_name': '18:86737014-86738014_:+_gene_Cbln2_E2_reg_1', 'pb_index': 950, 'strand': '+', 'gc': 0.2380952380952381, 'tm': 68.03982815641143, 'map_genome': 141, 'map_rep_genome': 0, 'map_self_sequences': 26, 'map_ref_library': 0}\n",
      "{'name': '18:86737014-86738014_:+_gene_Cbln2_E2_reg_1_pb_950', 'reg_index': 11, 'reg_name': '18:86737014-86738014_:+_gene_Cbln2_E2_reg_1', 'pb_index': 950, 'strand': '-', 'gc': 0.2380952380952381, 'tm': 68.03982815641132, 'map_genome': 141, 'map_rep_genome': 0, 'map_self_sequences': 26, 'map_ref_library': 0}\n",
      "{'name': '18:86737014-86738014_:+_gene_Cbln2_E2_reg_1_pb_951', 'reg_index': 11, 'reg_name': '18:86737014-86738014_:+_gene_Cbln2_E2_reg_1', 'pb_index': 951, 'strand': '+', 'gc': 0.2619047619047619, 'tm': 68.197316872545, 'map_genome': 144, 'map_rep_genome': 0, 'map_self_sequences': 26, 'map_ref_library': 0}\n",
      "{'name': '18:86737014-86738014_:+_gene_Cbln2_E2_reg_1_pb_951', 'reg_index': 11, 'reg_name': '18:86737014-86738014_:+_gene_Cbln2_E2_reg_1', 'pb_index': 951, 'strand': '-', 'gc': 0.2619047619047619, 'tm': 68.19731687254489, 'map_genome': 144, 'map_rep_genome': 0, 'map_self_sequences': 26, 'map_ref_library': 0}\n",
      "{'name': '18:86737014-86738014_:+_gene_Cbln2_E2_reg_1_pb_952', 'reg_index': 11, 'reg_name': '18:86737014-86738014_:+_gene_Cbln2_E2_reg_1', 'pb_index': 952, 'strand': '+', 'gc': 0.2619047619047619, 'tm': 68.67671295105998, 'map_genome': 146, 'map_rep_genome': 0, 'map_self_sequences': 26, 'map_ref_library': 0}\n",
      "{'name': '18:86737014-86738014_:+_gene_Cbln2_E2_reg_1_pb_952', 'reg_index': 11, 'reg_name': '18:86737014-86738014_:+_gene_Cbln2_E2_reg_1', 'pb_index': 952, 'strand': '-', 'gc': 0.2619047619047619, 'tm': 68.67671295105993, 'map_genome': 146, 'map_rep_genome': 0, 'map_self_sequences': 26, 'map_ref_library': 0}\n",
      "{'name': '18:86737014-86738014_:+_gene_Cbln2_E2_reg_1_pb_953', 'reg_index': 11, 'reg_name': '18:86737014-86738014_:+_gene_Cbln2_E2_reg_1', 'pb_index': 953, 'strand': '+', 'gc': 0.2619047619047619, 'tm': 68.57780790815121, 'map_genome': 148, 'map_rep_genome': 0, 'map_self_sequences': 26, 'map_ref_library': 0}\n",
      "{'name': '18:86737014-86738014_:+_gene_Cbln2_E2_reg_1_pb_953', 'reg_index': 11, 'reg_name': '18:86737014-86738014_:+_gene_Cbln2_E2_reg_1', 'pb_index': 953, 'strand': '-', 'gc': 0.2619047619047619, 'tm': 68.57780790815104, 'map_genome': 148, 'map_rep_genome': 0, 'map_self_sequences': 26, 'map_ref_library': 0}\n",
      "{'name': '18:86737014-86738014_:+_gene_Cbln2_E2_reg_1_pb_954', 'reg_index': 11, 'reg_name': '18:86737014-86738014_:+_gene_Cbln2_E2_reg_1', 'pb_index': 954, 'strand': '+', 'gc': 0.2619047619047619, 'tm': 67.98968480435133, 'map_genome': 150, 'map_rep_genome': 0, 'map_self_sequences': 26, 'map_ref_library': 0}\n",
      "{'name': '18:86737014-86738014_:+_gene_Cbln2_E2_reg_1_pb_954', 'reg_index': 11, 'reg_name': '18:86737014-86738014_:+_gene_Cbln2_E2_reg_1', 'pb_index': 954, 'strand': '-', 'gc': 0.2619047619047619, 'tm': 67.9896848043511, 'map_genome': 150, 'map_rep_genome': 0, 'map_self_sequences': 26, 'map_ref_library': 0}\n",
      "{'name': '18:86737014-86738014_:+_gene_Cbln2_E2_reg_1_pb_955', 'reg_index': 11, 'reg_name': '18:86737014-86738014_:+_gene_Cbln2_E2_reg_1', 'pb_index': 955, 'strand': '+', 'gc': 0.2380952380952381, 'tm': 67.59893844402478, 'map_genome': 152, 'map_rep_genome': 0, 'map_self_sequences': 26, 'map_ref_library': 0}\n",
      "{'name': '18:86737014-86738014_:+_gene_Cbln2_E2_reg_1_pb_955', 'reg_index': 11, 'reg_name': '18:86737014-86738014_:+_gene_Cbln2_E2_reg_1', 'pb_index': 955, 'strand': '-', 'gc': 0.2380952380952381, 'tm': 67.59893844402461, 'map_genome': 152, 'map_rep_genome': 0, 'map_self_sequences': 26, 'map_ref_library': 0}\n",
      "{'name': '18:86737014-86738014_:+_gene_Cbln2_E2_reg_1_pb_956', 'reg_index': 11, 'reg_name': '18:86737014-86738014_:+_gene_Cbln2_E2_reg_1', 'pb_index': 956, 'strand': '+', 'gc': 0.2380952380952381, 'tm': 66.88569154937738, 'map_genome': 154, 'map_rep_genome': 0, 'map_self_sequences': 26, 'map_ref_library': 0}\n",
      "{'name': '18:86737014-86738014_:+_gene_Cbln2_E2_reg_1_pb_956', 'reg_index': 11, 'reg_name': '18:86737014-86738014_:+_gene_Cbln2_E2_reg_1', 'pb_index': 956, 'strand': '-', 'gc': 0.2380952380952381, 'tm': 66.88569154937727, 'map_genome': 154, 'map_rep_genome': 0, 'map_self_sequences': 26, 'map_ref_library': 0}\n",
      "{'name': '18:86737014-86738014_:+_gene_Cbln2_E2_reg_1_pb_957', 'reg_index': 11, 'reg_name': '18:86737014-86738014_:+_gene_Cbln2_E2_reg_1', 'pb_index': 957, 'strand': '+', 'gc': 0.2380952380952381, 'tm': 67.02671195670001, 'map_genome': 156, 'map_rep_genome': 0, 'map_self_sequences': 26, 'map_ref_library': 0}\n",
      "{'name': '18:86737014-86738014_:+_gene_Cbln2_E2_reg_1_pb_957', 'reg_index': 11, 'reg_name': '18:86737014-86738014_:+_gene_Cbln2_E2_reg_1', 'pb_index': 957, 'strand': '-', 'gc': 0.2380952380952381, 'tm': 67.02671195669984, 'map_genome': 156, 'map_rep_genome': 0, 'map_self_sequences': 26, 'map_ref_library': 0}\n",
      "{'name': '18:86737014-86738014_:+_gene_Cbln2_E2_reg_1_pb_958', 'reg_index': 11, 'reg_name': '18:86737014-86738014_:+_gene_Cbln2_E2_reg_1', 'pb_index': 958, 'strand': '+', 'gc': 0.2380952380952381, 'tm': 67.61090316133061, 'map_genome': 156, 'map_rep_genome': 0, 'map_self_sequences': 26, 'map_ref_library': 0}\n",
      "{'name': '18:86737014-86738014_:+_gene_Cbln2_E2_reg_1_pb_958', 'reg_index': 11, 'reg_name': '18:86737014-86738014_:+_gene_Cbln2_E2_reg_1', 'pb_index': 958, 'strand': '-', 'gc': 0.2380952380952381, 'tm': 67.6109031613305, 'map_genome': 156, 'map_rep_genome': 0, 'map_self_sequences': 26, 'map_ref_library': 0}\n"
     ]
    }
   ],
   "source": [
    "for _seq, _info in pb_designer.cand_probes.items():\n",
    "    if '18:86737014-86738014_:+_gene_Cbln2_E2_reg_1' in _info['reg_name']:\n",
    "        print(_info)"
   ]
  },
  {
   "cell_type": "markdown",
   "metadata": {},
   "source": [
    "### 3.2.2 calculate probe reports"
   ]
  },
  {
   "cell_type": "code",
   "execution_count": 105,
   "metadata": {},
   "outputs": [
    {
     "name": "stdout",
     "output_type": "stream",
     "text": [
      "-- setting attribute: map_genome\n",
      "--- finish map_genome in 103.653s.\n",
      "-- setting attribute: map_rep_genome\n",
      "--- finish map_rep_genome in 109.428s.\n",
      "-- setting attribute: map_ref_library\n",
      "--- finish map_ref_library in 105.725s.\n",
      "Time(s): 318.80660128593445\n",
      "- Designing targeting sequence for 41 regions\n",
      "-- designing region: 18:86689187-86690187_:+_gene_Cbln2_E1_reg_1 region: 0, input file: \\\\10.245.74.212\\Chromatin_NAS_2\\Chromatin_Libraries\\CTP-15_MeCP2_genes\\Cbln2\\sequences\\Cbln2_E1_reg_1.fasta\n",
      "-- setting attribute: map_self_sequences\n",
      "- Mapping no. of seqs: 1\n",
      "--- finish map_self_sequences in 0.203s.\n",
      "in 0.768s.\n",
      "-- designing region: 18:86690187-86691187_:+_gene_Cbln2_E1_reg_2 region: 1, input file: \\\\10.245.74.212\\Chromatin_NAS_2\\Chromatin_Libraries\\CTP-15_MeCP2_genes\\Cbln2\\sequences\\Cbln2_E1_reg_2.fasta\n",
      "-- setting attribute: map_self_sequences\n",
      "- Mapping no. of seqs: 1\n",
      "--- finish map_self_sequences in 0.566s.\n",
      "in 1.126s.\n",
      "-- designing region: 18:86691187-86692187_:+_gene_Cbln2_E1_reg_3 region: 2, input file: \\\\10.245.74.212\\Chromatin_NAS_2\\Chromatin_Libraries\\CTP-15_MeCP2_genes\\Cbln2\\sequences\\Cbln2_E1_reg_3.fasta\n",
      "-- setting attribute: map_self_sequences\n",
      "- Mapping no. of seqs: 1\n",
      "--- finish map_self_sequences in 0.568s.\n",
      "in 1.135s.\n",
      "-- designing region: 18:86692187-86693187_:+_gene_Cbln2_E1_reg_4 region: 3, input file: \\\\10.245.74.212\\Chromatin_NAS_2\\Chromatin_Libraries\\CTP-15_MeCP2_genes\\Cbln2\\sequences\\Cbln2_E1_reg_4.fasta\n",
      "-- setting attribute: map_self_sequences\n",
      "- Mapping no. of seqs: 1\n",
      "--- finish map_self_sequences in 0.569s.\n",
      "in 1.136s.\n",
      "-- designing region: 18:86693187-86694187_:+_gene_Cbln2_E1_reg_5 region: 4, input file: \\\\10.245.74.212\\Chromatin_NAS_2\\Chromatin_Libraries\\CTP-15_MeCP2_genes\\Cbln2\\sequences\\Cbln2_E1_reg_5.fasta\n",
      "-- setting attribute: map_self_sequences\n",
      "- Mapping no. of seqs: 1\n",
      "--- finish map_self_sequences in 0.576s.\n",
      "in 1.137s.\n",
      "-- designing region: 18:86694187-86695187_:+_gene_Cbln2_E1_reg_6 region: 5, input file: \\\\10.245.74.212\\Chromatin_NAS_2\\Chromatin_Libraries\\CTP-15_MeCP2_genes\\Cbln2\\sequences\\Cbln2_E1_reg_6.fasta\n",
      "-- setting attribute: map_self_sequences\n",
      "- Mapping no. of seqs: 1\n",
      "--- finish map_self_sequences in 0.569s.\n",
      "in 1.135s.\n",
      "-- designing region: 18:86695187-86696187_:+_gene_Cbln2_E1_reg_7 region: 6, input file: \\\\10.245.74.212\\Chromatin_NAS_2\\Chromatin_Libraries\\CTP-15_MeCP2_genes\\Cbln2\\sequences\\Cbln2_E1_reg_7.fasta\n",
      "-- setting attribute: map_self_sequences\n",
      "- Mapping no. of seqs: 1\n",
      "--- finish map_self_sequences in 0.571s.\n",
      "in 1.125s.\n",
      "-- designing region: 18:86696187-86697187_:+_gene_Cbln2_E1_reg_8 region: 7, input file: \\\\10.245.74.212\\Chromatin_NAS_2\\Chromatin_Libraries\\CTP-15_MeCP2_genes\\Cbln2\\sequences\\Cbln2_E1_reg_8.fasta\n",
      "-- setting attribute: map_self_sequences\n",
      "- Mapping no. of seqs: 1\n",
      "--- finish map_self_sequences in 0.559s.\n",
      "in 1.125s.\n",
      "-- designing region: 18:86697187-86698187_:+_gene_Cbln2_E1_reg_9 region: 8, input file: \\\\10.245.74.212\\Chromatin_NAS_2\\Chromatin_Libraries\\CTP-15_MeCP2_genes\\Cbln2\\sequences\\Cbln2_E1_reg_9.fasta\n",
      "-- setting attribute: map_self_sequences\n",
      "- Mapping no. of seqs: 1\n",
      "--- finish map_self_sequences in 0.555s.\n",
      "in 1.116s.\n",
      "-- designing region: 18:86698187-86699187_:+_gene_Cbln2_E1_reg_10 region: 9, input file: \\\\10.245.74.212\\Chromatin_NAS_2\\Chromatin_Libraries\\CTP-15_MeCP2_genes\\Cbln2\\sequences\\Cbln2_E1_reg_10.fasta\n",
      "-- setting attribute: map_self_sequences\n",
      "- Mapping no. of seqs: 1\n",
      "--- finish map_self_sequences in 0.571s.\n",
      "in 1.136s.\n",
      "-- designing region: 18:86699187-86700187_:+_gene_Cbln2_E1_reg_11 region: 10, input file: \\\\10.245.74.212\\Chromatin_NAS_2\\Chromatin_Libraries\\CTP-15_MeCP2_genes\\Cbln2\\sequences\\Cbln2_E1_reg_11.fasta\n",
      "-- setting attribute: map_self_sequences\n",
      "- Mapping no. of seqs: 1\n",
      "--- finish map_self_sequences in 0.558s.\n",
      "in 1.210s.\n",
      "-- designing region: 18:86737014-86738014_:+_gene_Cbln2_E2_reg_1 region: 11, input file: \\\\10.245.74.212\\Chromatin_NAS_2\\Chromatin_Libraries\\CTP-15_MeCP2_genes\\Cbln2\\sequences\\Cbln2_E2_reg_1.fasta\n",
      "-- setting attribute: map_self_sequences\n",
      "- Mapping no. of seqs: 1\n",
      "--- finish map_self_sequences in 0.591s.\n",
      "in 1.362s.\n",
      "-- designing region: 18:86738014-86739014_:+_gene_Cbln2_E2_reg_2 region: 12, input file: \\\\10.245.74.212\\Chromatin_NAS_2\\Chromatin_Libraries\\CTP-15_MeCP2_genes\\Cbln2\\sequences\\Cbln2_E2_reg_2.fasta\n",
      "-- setting attribute: map_self_sequences\n",
      "- Mapping no. of seqs: 1\n",
      "--- finish map_self_sequences in 0.599s.\n",
      "in 1.362s.\n",
      "-- designing region: 18:86739014-86740014_:+_gene_Cbln2_E2_reg_3 region: 13, input file: \\\\10.245.74.212\\Chromatin_NAS_2\\Chromatin_Libraries\\CTP-15_MeCP2_genes\\Cbln2\\sequences\\Cbln2_E2_reg_3.fasta\n",
      "-- setting attribute: map_self_sequences\n",
      "- Mapping no. of seqs: 1\n",
      "--- finish map_self_sequences in 0.591s.\n",
      "in 1.716s.\n",
      "-- designing region: 18:86740014-86741014_:+_gene_Cbln2_E2_reg_4 region: 14, input file: \\\\10.245.74.212\\Chromatin_NAS_2\\Chromatin_Libraries\\CTP-15_MeCP2_genes\\Cbln2\\sequences\\Cbln2_E2_reg_4.fasta\n",
      "-- setting attribute: map_self_sequences\n",
      "- Mapping no. of seqs: 1\n",
      "--- finish map_self_sequences in 2.292s.\n",
      "in 3.344s.\n",
      "-- designing region: 18:86741014-86742014_:+_gene_Cbln2_E2_reg_5 region: 15, input file: \\\\10.245.74.212\\Chromatin_NAS_2\\Chromatin_Libraries\\CTP-15_MeCP2_genes\\Cbln2\\sequences\\Cbln2_E2_reg_5.fasta\n",
      "-- setting attribute: map_self_sequences\n",
      "- Mapping no. of seqs: 1\n",
      "--- finish map_self_sequences in 1.940s.\n",
      "in 2.963s.\n",
      "-- designing region: 18:86742014-86743014_:+_gene_Cbln2_E2_reg_6 region: 16, input file: \\\\10.245.74.212\\Chromatin_NAS_2\\Chromatin_Libraries\\CTP-15_MeCP2_genes\\Cbln2\\sequences\\Cbln2_E2_reg_6.fasta\n",
      "-- setting attribute: map_self_sequences\n",
      "- Mapping no. of seqs: 1\n",
      "--- finish map_self_sequences in 2.273s.\n",
      "in 3.307s.\n",
      "-- designing region: 18:86743014-86744014_:+_gene_Cbln2_E2_reg_7 region: 17, input file: \\\\10.245.74.212\\Chromatin_NAS_2\\Chromatin_Libraries\\CTP-15_MeCP2_genes\\Cbln2\\sequences\\Cbln2_E2_reg_7.fasta\n",
      "-- setting attribute: map_self_sequences\n",
      "- Mapping no. of seqs: 1\n",
      "--- finish map_self_sequences in 46.632s.\n",
      "in 47.434s.\n",
      "-- designing region: 18:86744014-86745014_:+_gene_Cbln2_E2_reg_8 region: 18, input file: \\\\10.245.74.212\\Chromatin_NAS_2\\Chromatin_Libraries\\CTP-15_MeCP2_genes\\Cbln2\\sequences\\Cbln2_E2_reg_8.fasta\n",
      "-- setting attribute: map_self_sequences\n",
      "- Mapping no. of seqs: 1\n",
      "--- finish map_self_sequences in 0.535s.\n",
      "in 1.096s.\n",
      "-- designing region: 18:86745014-86746014_:+_gene_Cbln2_E2_reg_9 region: 19, input file: \\\\10.245.74.212\\Chromatin_NAS_2\\Chromatin_Libraries\\CTP-15_MeCP2_genes\\Cbln2\\sequences\\Cbln2_E2_reg_9.fasta\n",
      "-- setting attribute: map_self_sequences\n",
      "- Mapping no. of seqs: 1\n",
      "--- finish map_self_sequences in 0.535s.\n",
      "in 1.097s.\n",
      "-- designing region: 18:86746014-86747014_:+_gene_Cbln2_E2_reg_10 region: 20, input file: \\\\10.245.74.212\\Chromatin_NAS_2\\Chromatin_Libraries\\CTP-15_MeCP2_genes\\Cbln2\\sequences\\Cbln2_E2_reg_10.fasta\n",
      "-- setting attribute: map_self_sequences\n",
      "- Mapping no. of seqs: 1\n",
      "--- finish map_self_sequences in 0.530s.\n",
      "in 1.123s.\n",
      "-- designing region: 18:86747014-86748014_:+_gene_Cbln2_E2_reg_11 region: 21, input file: \\\\10.245.74.212\\Chromatin_NAS_2\\Chromatin_Libraries\\CTP-15_MeCP2_genes\\Cbln2\\sequences\\Cbln2_E2_reg_11.fasta\n",
      "-- setting attribute: map_self_sequences\n",
      "- Mapping no. of seqs: 1\n",
      "--- finish map_self_sequences in 0.533s.\n",
      "in 1.100s.\n",
      "-- designing region: 18:86723002-86724002_:+_gene_Cbln2_reg_1 region: 22, input file: \\\\10.245.74.212\\Chromatin_NAS_2\\Chromatin_Libraries\\CTP-15_MeCP2_genes\\Cbln2\\sequences\\Cbln2_reg_1.fasta\n",
      "-- setting attribute: map_self_sequences\n",
      "- Mapping no. of seqs: 1\n",
      "--- finish map_self_sequences in 0.534s.\n",
      "in 1.104s.\n",
      "-- designing region: 18:86724002-86725002_:+_gene_Cbln2_reg_2 region: 23, input file: \\\\10.245.74.212\\Chromatin_NAS_2\\Chromatin_Libraries\\CTP-15_MeCP2_genes\\Cbln2\\sequences\\Cbln2_reg_2.fasta\n",
      "-- setting attribute: map_self_sequences\n",
      "- Mapping no. of seqs: 1\n",
      "--- finish map_self_sequences in 0.534s.\n",
      "in 1.097s.\n",
      "-- designing region: 18:86725002-86726002_:+_gene_Cbln2_reg_3 region: 24, input file: \\\\10.245.74.212\\Chromatin_NAS_2\\Chromatin_Libraries\\CTP-15_MeCP2_genes\\Cbln2\\sequences\\Cbln2_reg_3.fasta\n",
      "-- setting attribute: map_self_sequences\n",
      "- Mapping no. of seqs: 1\n",
      "--- finish map_self_sequences in 0.618s.\n",
      "in 1.465s.\n",
      "-- designing region: 18:86726002-86727002_:+_gene_Cbln2_reg_4 region: 25, input file: \\\\10.245.74.212\\Chromatin_NAS_2\\Chromatin_Libraries\\CTP-15_MeCP2_genes\\Cbln2\\sequences\\Cbln2_reg_4.fasta\n",
      "-- setting attribute: map_self_sequences\n",
      "- Mapping no. of seqs: 1\n"
     ]
    },
    {
     "name": "stdout",
     "output_type": "stream",
     "text": [
      "--- finish map_self_sequences in 1.014s.\n",
      "in 1.892s.\n",
      "-- designing region: 18:86727002-86728002_:+_gene_Cbln2_reg_5 region: 26, input file: \\\\10.245.74.212\\Chromatin_NAS_2\\Chromatin_Libraries\\CTP-15_MeCP2_genes\\Cbln2\\sequences\\Cbln2_reg_5.fasta\n",
      "-- setting attribute: map_self_sequences\n",
      "- Mapping no. of seqs: 1\n",
      "--- finish map_self_sequences in 2.102s.\n",
      "in 3.055s.\n",
      "-- designing region: 18:86728002-86729002_:+_gene_Cbln2_reg_6 region: 27, input file: \\\\10.245.74.212\\Chromatin_NAS_2\\Chromatin_Libraries\\CTP-15_MeCP2_genes\\Cbln2\\sequences\\Cbln2_reg_6.fasta\n",
      "-- setting attribute: map_self_sequences\n",
      "- Mapping no. of seqs: 1\n",
      "--- finish map_self_sequences in 2.161s.\n",
      "in 3.105s.\n",
      "-- designing region: 18:86729002-86730002_:+_gene_Cbln2_reg_7 region: 28, input file: \\\\10.245.74.212\\Chromatin_NAS_2\\Chromatin_Libraries\\CTP-15_MeCP2_genes\\Cbln2\\sequences\\Cbln2_reg_7.fasta\n",
      "-- setting attribute: map_self_sequences\n",
      "- Mapping no. of seqs: 1\n",
      "--- finish map_self_sequences in 2.193s.\n",
      "in 3.135s.\n",
      "-- designing region: 18:86730002-86731002_:+_gene_Cbln2_reg_8 region: 29, input file: \\\\10.245.74.212\\Chromatin_NAS_2\\Chromatin_Libraries\\CTP-15_MeCP2_genes\\Cbln2\\sequences\\Cbln2_reg_8.fasta\n",
      "-- setting attribute: map_self_sequences\n",
      "- Mapping no. of seqs: 1\n",
      "--- finish map_self_sequences in 1.838s.\n",
      "in 2.750s.\n",
      "-- designing region: 18:86731002-86732002_:+_gene_Cbln2_reg_9 region: 30, input file: \\\\10.245.74.212\\Chromatin_NAS_2\\Chromatin_Libraries\\CTP-15_MeCP2_genes\\Cbln2\\sequences\\Cbln2_reg_9.fasta\n",
      "-- setting attribute: map_self_sequences\n",
      "- Mapping no. of seqs: 1\n",
      "--- finish map_self_sequences in 2.288s.\n",
      "in 3.202s.\n",
      "-- designing region: 18:86732002-86733002_:+_gene_Cbln2_reg_10 region: 31, input file: \\\\10.245.74.212\\Chromatin_NAS_2\\Chromatin_Libraries\\CTP-15_MeCP2_genes\\Cbln2\\sequences\\Cbln2_reg_10.fasta\n",
      "-- setting attribute: map_self_sequences\n",
      "- Mapping no. of seqs: 1\n",
      "--- finish map_self_sequences in 1.993s.\n",
      "in 2.932s.\n",
      "-- designing region: 18:86733002-86734002_:+_gene_Cbln2_reg_11 region: 32, input file: \\\\10.245.74.212\\Chromatin_NAS_2\\Chromatin_Libraries\\CTP-15_MeCP2_genes\\Cbln2\\sequences\\Cbln2_reg_11.fasta\n",
      "-- setting attribute: map_self_sequences\n",
      "- Mapping no. of seqs: 1\n",
      "--- finish map_self_sequences in 1.838s.\n",
      "in 2.662s.\n",
      "-- designing region: 18:86734002-86735002_:+_gene_Cbln2_reg_12 region: 33, input file: \\\\10.245.74.212\\Chromatin_NAS_2\\Chromatin_Libraries\\CTP-15_MeCP2_genes\\Cbln2\\sequences\\Cbln2_reg_12.fasta\n",
      "-- setting attribute: map_self_sequences\n",
      "- Mapping no. of seqs: 1\n",
      "--- finish map_self_sequences in 2.284s.\n",
      "in 3.186s.\n",
      "-- designing region: 18:86735002-86736002_:+_gene_Cbln2_reg_13 region: 34, input file: \\\\10.245.74.212\\Chromatin_NAS_2\\Chromatin_Libraries\\CTP-15_MeCP2_genes\\Cbln2\\sequences\\Cbln2_reg_13.fasta\n",
      "-- setting attribute: map_self_sequences\n",
      "- Mapping no. of seqs: 1\n",
      "--- finish map_self_sequences in 1.939s.\n",
      "in 2.863s.\n",
      "-- designing region: 18:86736002-86737002_:+_gene_Cbln2_reg_14 region: 35, input file: \\\\10.245.74.212\\Chromatin_NAS_2\\Chromatin_Libraries\\CTP-15_MeCP2_genes\\Cbln2\\sequences\\Cbln2_reg_14.fasta\n",
      "-- setting attribute: map_self_sequences\n",
      "- Mapping no. of seqs: 1\n",
      "--- finish map_self_sequences in 2.037s.\n",
      "in 2.950s.\n",
      "-- designing region: 18:86737002-86738002_:+_gene_Cbln2_reg_15 region: 36, input file: \\\\10.245.74.212\\Chromatin_NAS_2\\Chromatin_Libraries\\CTP-15_MeCP2_genes\\Cbln2\\sequences\\Cbln2_reg_15.fasta\n",
      "-- setting attribute: map_self_sequences\n",
      "- Mapping no. of seqs: 1\n",
      "--- finish map_self_sequences in 2.329s.\n",
      "in 3.241s.\n",
      "-- designing region: 18:86738002-86739002_:+_gene_Cbln2_reg_16 region: 37, input file: \\\\10.245.74.212\\Chromatin_NAS_2\\Chromatin_Libraries\\CTP-15_MeCP2_genes\\Cbln2\\sequences\\Cbln2_reg_16.fasta\n",
      "-- setting attribute: map_self_sequences\n",
      "- Mapping no. of seqs: 1\n",
      "--- finish map_self_sequences in 1.810s.\n",
      "in 2.738s.\n",
      "-- designing region: 18:86739002-86740002_:+_gene_Cbln2_reg_17 region: 38, input file: \\\\10.245.74.212\\Chromatin_NAS_2\\Chromatin_Libraries\\CTP-15_MeCP2_genes\\Cbln2\\sequences\\Cbln2_reg_17.fasta\n",
      "-- setting attribute: map_self_sequences\n",
      "- Mapping no. of seqs: 1\n",
      "--- finish map_self_sequences in 1.715s.\n",
      "in 2.624s.\n",
      "-- designing region: 18:86740002-86741002_:+_gene_Cbln2_reg_18 region: 39, input file: \\\\10.245.74.212\\Chromatin_NAS_2\\Chromatin_Libraries\\CTP-15_MeCP2_genes\\Cbln2\\sequences\\Cbln2_reg_18.fasta\n",
      "-- setting attribute: map_self_sequences\n",
      "- Mapping no. of seqs: 1\n",
      "--- finish map_self_sequences in 2.308s.\n",
      "in 3.238s.\n",
      "-- designing region: 18:86741002-86742002_:+_gene_Cbln2_reg_19 region: 40, input file: \\\\10.245.74.212\\Chromatin_NAS_2\\Chromatin_Libraries\\CTP-15_MeCP2_genes\\Cbln2\\sequences\\Cbln2_reg_19.fasta\n",
      "-- setting attribute: map_self_sequences\n",
      "- Mapping no. of seqs: 1\n",
      "--- finish map_self_sequences in 1.331s.\n",
      "in 1.896s.\n",
      "- Save reports into file: \\\\10.245.74.212\\Chromatin_NAS_2\\Chromatin_Libraries\\CTP-15_MeCP2_genes\\Cbln2\\reports\\merged_probes.pbr\n"
     ]
    }
   ],
   "source": [
    "reload(library_tools)\n",
    "reload(library_tools.design)\n",
    "overwrite_candidate_probes = True\n",
    "if len(pb_designer.cand_probes) == 0 or overwrite_candidate_probes:\n",
    "    pb_designer.computeOTmaps() # load the tables \n",
    "    pb_designer.compute_pb_report() # design candidate probes"
   ]
  },
  {
   "cell_type": "markdown",
   "metadata": {},
   "source": [
    "## 3.3 check probes"
   ]
  },
  {
   "cell_type": "code",
   "execution_count": 106,
   "metadata": {},
   "outputs": [
    {
     "name": "stdout",
     "output_type": "stream",
     "text": [
      "-- check region:0 18:86689187-86690187_:+_gene_Cbln2_E1_reg_1, 1918 candidate probes\n",
      "--- 810 probes passed check_dic selection.\n",
      "finish in 0.091s, 11 probes kept.\n",
      "-- check region:1 18:86690187-86691187_:+_gene_Cbln2_E1_reg_2, 1918 candidate probes\n",
      "--- 800 probes passed check_dic selection.\n",
      "finish in 0.082s, 13 probes kept.\n",
      "-- check region:2 18:86691187-86692187_:+_gene_Cbln2_E1_reg_3, 1918 candidate probes\n",
      "--- 122 probes passed check_dic selection.\n",
      "finish in 0.069s, 5 probes kept.\n",
      "-- check region:3 18:86692187-86693187_:+_gene_Cbln2_E1_reg_4, 1918 candidate probes\n",
      "--- 862 probes passed check_dic selection.\n",
      "finish in 0.102s, 12 probes kept.\n",
      "-- check region:4 18:86693187-86694187_:+_gene_Cbln2_E1_reg_5, 1918 candidate probes\n",
      "--- 996 probes passed check_dic selection.\n",
      "finish in 0.099s, 13 probes kept.\n",
      "-- check region:5 18:86694187-86695187_:+_gene_Cbln2_E1_reg_6, 1918 candidate probes\n",
      "--- 898 probes passed check_dic selection.\n",
      "finish in 0.093s, 14 probes kept.\n",
      "-- check region:6 18:86695187-86696187_:+_gene_Cbln2_E1_reg_7, 1890 candidate probes\n",
      "--- 490 probes passed check_dic selection.\n",
      "finish in 0.074s, 9 probes kept.\n",
      "-- check region:7 18:86696187-86697187_:+_gene_Cbln2_E1_reg_8, 1918 candidate probes\n",
      "--- 591 probes passed check_dic selection.\n",
      "finish in 0.074s, 12 probes kept.\n",
      "-- check region:8 18:86697187-86698187_:+_gene_Cbln2_E1_reg_9, 1918 candidate probes\n",
      "--- 497 probes passed check_dic selection.\n",
      "finish in 0.062s, 9 probes kept.\n",
      "-- check region:9 18:86698187-86699187_:+_gene_Cbln2_E1_reg_10, 1918 candidate probes\n",
      "--- 604 probes passed check_dic selection.\n",
      "finish in 0.078s, 12 probes kept.\n",
      "-- check region:10 18:86699187-86700187_:+_gene_Cbln2_E1_reg_11, 1918 candidate probes\n",
      "--- 392 probes passed check_dic selection.\n",
      "finish in 0.076s, 9 probes kept.\n",
      "-- check region:11 18:86737014-86738014_:+_gene_Cbln2_E2_reg_1, 24 candidate probes\n",
      "--- 0 probes passed check_dic selection.\n",
      "finish in 0.001s, 0 probes kept.\n",
      "-- check region:12 18:86738014-86739014_:+_gene_Cbln2_E2_reg_2, 24 candidate probes\n",
      "--- 2 probes passed check_dic selection.\n",
      "finish in 0.001s, 1 probes kept.\n",
      "-- check region:13 18:86739014-86740014_:+_gene_Cbln2_E2_reg_3, 24 candidate probes\n",
      "--- 0 probes passed check_dic selection.\n",
      "finish in 0.000s, 0 probes kept.\n",
      "-- check region:14 18:86740014-86741014_:+_gene_Cbln2_E2_reg_4, 24 candidate probes\n",
      "--- 0 probes passed check_dic selection.\n",
      "finish in 0.001s, 0 probes kept.\n",
      "-- check region:15 18:86741014-86742014_:+_gene_Cbln2_E2_reg_5, 24 candidate probes\n",
      "--- 0 probes passed check_dic selection.\n",
      "finish in 0.001s, 0 probes kept.\n",
      "-- check region:16 18:86742014-86743014_:+_gene_Cbln2_E2_reg_6, 1918 candidate probes\n",
      "--- 890 probes passed check_dic selection.\n",
      "finish in 0.097s, 12 probes kept.\n",
      "-- check region:17 18:86743014-86744014_:+_gene_Cbln2_E2_reg_7, 1894 candidate probes\n",
      "--- 735 probes passed check_dic selection.\n",
      "finish in 0.085s, 11 probes kept.\n",
      "-- check region:18 18:86744014-86745014_:+_gene_Cbln2_E2_reg_8, 1918 candidate probes\n",
      "--- 552 probes passed check_dic selection.\n",
      "finish in 0.078s, 10 probes kept.\n",
      "-- check region:19 18:86745014-86746014_:+_gene_Cbln2_E2_reg_9, 1918 candidate probes\n",
      "--- 954 probes passed check_dic selection.\n",
      "finish in 0.090s, 15 probes kept.\n",
      "-- check region:20 18:86746014-86747014_:+_gene_Cbln2_E2_reg_10, 1918 candidate probes\n",
      "--- 1088 probes passed check_dic selection.\n",
      "finish in 0.112s, 13 probes kept.\n",
      "-- check region:21 18:86747014-86748014_:+_gene_Cbln2_E2_reg_11, 1918 candidate probes\n",
      "--- 152 probes passed check_dic selection.\n",
      "finish in 0.066s, 5 probes kept.\n",
      "-- check region:22 18:86723002-86724002_:+_gene_Cbln2_reg_1, 1918 candidate probes\n",
      "--- 1340 probes passed check_dic selection.\n",
      "finish in 0.114s, 18 probes kept.\n",
      "-- check region:23 18:86724002-86725002_:+_gene_Cbln2_reg_2, 1918 candidate probes\n",
      "--- 296 probes passed check_dic selection.\n",
      "finish in 0.076s, 5 probes kept.\n",
      "-- check region:24 18:86725002-86726002_:+_gene_Cbln2_reg_3, 1918 candidate probes\n",
      "--- 394 probes passed check_dic selection.\n",
      "finish in 0.064s, 7 probes kept.\n",
      "-- check region:25 18:86726002-86727002_:+_gene_Cbln2_reg_4, 1918 candidate probes\n",
      "--- 688 probes passed check_dic selection.\n",
      "finish in 0.082s, 12 probes kept.\n",
      "-- check region:26 18:86727002-86728002_:+_gene_Cbln2_reg_5, 1918 candidate probes\n",
      "--- 976 probes passed check_dic selection.\n",
      "finish in 0.095s, 16 probes kept.\n",
      "-- check region:27 18:86728002-86729002_:+_gene_Cbln2_reg_6, 1918 candidate probes\n",
      "--- 1380 probes passed check_dic selection.\n",
      "finish in 0.125s, 20 probes kept.\n",
      "-- check region:28 18:86729002-86730002_:+_gene_Cbln2_reg_7, 1918 candidate probes\n",
      "--- 1516 probes passed check_dic selection.\n",
      "finish in 0.122s, 16 probes kept.\n",
      "-- check region:29 18:86730002-86731002_:+_gene_Cbln2_reg_8, 1918 candidate probes\n",
      "--- 1309 probes passed check_dic selection.\n",
      "finish in 0.121s, 17 probes kept.\n",
      "-- check region:30 18:86731002-86732002_:+_gene_Cbln2_reg_9, 1918 candidate probes\n",
      "--- 1390 probes passed check_dic selection.\n",
      "finish in 0.117s, 19 probes kept.\n",
      "-- check region:31 18:86732002-86733002_:+_gene_Cbln2_reg_10, 1918 candidate probes\n",
      "--- 1246 probes passed check_dic selection.\n",
      "finish in 0.111s, 18 probes kept.\n",
      "-- check region:32 18:86733002-86734002_:+_gene_Cbln2_reg_11, 1918 candidate probes\n",
      "--- 1436 probes passed check_dic selection.\n",
      "finish in 0.119s, 19 probes kept.\n",
      "-- check region:33 18:86734002-86735002_:+_gene_Cbln2_reg_12, 1918 candidate probes\n",
      "--- 1046 probes passed check_dic selection.\n",
      "finish in 0.106s, 15 probes kept.\n",
      "-- check region:34 18:86735002-86736002_:+_gene_Cbln2_reg_13, 1918 candidate probes\n",
      "--- 1049 probes passed check_dic selection.\n",
      "finish in 0.102s, 17 probes kept.\n",
      "-- check region:35 18:86736002-86737002_:+_gene_Cbln2_reg_14, 1918 candidate probes\n",
      "--- 1057 probes passed check_dic selection.\n",
      "finish in 0.103s, 14 probes kept.\n",
      "-- check region:36 18:86737002-86738002_:+_gene_Cbln2_reg_15, 1918 candidate probes\n",
      "--- 784 probes passed check_dic selection.\n",
      "finish in 0.079s, 14 probes kept.\n",
      "-- check region:37 18:86738002-86739002_:+_gene_Cbln2_reg_16, 1918 candidate probes\n",
      "--- 514 probes passed check_dic selection.\n",
      "finish in 0.067s, 12 probes kept.\n",
      "-- check region:38 18:86739002-86740002_:+_gene_Cbln2_reg_17, 1918 candidate probes\n",
      "--- 804 probes passed check_dic selection.\n",
      "finish in 0.081s, 13 probes kept.\n",
      "-- check region:39 18:86740002-86741002_:+_gene_Cbln2_reg_18, 1918 candidate probes\n",
      "--- 952 probes passed check_dic selection.\n",
      "finish in 0.098s, 13 probes kept.\n",
      "-- check region:40 18:86741002-86742002_:+_gene_Cbln2_reg_19, 1918 candidate probes\n",
      "--- 1302 probes passed check_dic selection.\n",
      "finish in 0.109s, 17 probes kept.\n"
     ]
    }
   ],
   "source": [
    "pbs, pb_scores = pb_designer.check_probes()"
   ]
  },
  {
   "cell_type": "code",
   "execution_count": null,
   "metadata": {},
   "outputs": [],
   "source": [
    "pb_designer.ca"
   ]
  }
 ],
 "metadata": {
  "kernelspec": {
   "display_name": "Python 3",
   "language": "python",
   "name": "python3"
  },
  "language_info": {
   "codemirror_mode": {
    "name": "ipython",
    "version": 3
   },
   "file_extension": ".py",
   "mimetype": "text/x-python",
   "name": "python",
   "nbconvert_exporter": "python",
   "pygments_lexer": "ipython3",
   "version": "3.7.9"
  }
 },
 "nbformat": 4,
 "nbformat_minor": 5
}
