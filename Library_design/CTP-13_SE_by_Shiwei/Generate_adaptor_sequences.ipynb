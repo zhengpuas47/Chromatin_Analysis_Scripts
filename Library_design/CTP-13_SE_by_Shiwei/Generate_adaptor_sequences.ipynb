{
 "cells": [
  {
   "cell_type": "markdown",
   "id": "1eade1f8",
   "metadata": {},
   "source": [
    "# create reference files for adding adaptors and analysis\n",
    "\n",
    "for library CTP-10 Aire (209 gene)\n",
    "\n",
    "by Pu Zheng\n",
    "\n",
    "2022.03.16"
   ]
  },
  {
   "cell_type": "code",
   "execution_count": 1,
   "id": "95ad5647",
   "metadata": {},
   "outputs": [
    {
     "name": "stdout",
     "output_type": "stream",
     "text": [
      "23696\n"
     ]
    }
   ],
   "source": [
    "%run \"..\\..\\Startup_py3.py\"\n",
    "sys.path.append(r\"..\\..\\..\\..\\Documents\")\n",
    "\n",
    "import ImageAnalysis3 as ia\n",
    "%matplotlib notebook\n",
    "\n",
    "from ImageAnalysis3 import *\n",
    "print(os.getpid())\n",
    "\n",
    "# other required parameters\n",
    "from ImageAnalysis3.classes import _allowed_kwds"
   ]
  },
  {
   "cell_type": "code",
   "execution_count": 2,
   "id": "a023024b",
   "metadata": {},
   "outputs": [],
   "source": [
    "pool_folder = r'\\\\10.245.74.212\\Chromatin_NAS_2\\Chromatin_Libraries\\CTP-13_brain-super-enhancers'\n",
    "library_folder = os.path.join(pool_folder, r'mop_SE_1000')"
   ]
  },
  {
   "cell_type": "code",
   "execution_count": 5,
   "id": "0dfb65a0",
   "metadata": {},
   "outputs": [
    {
     "ename": "OSError",
     "evalue": "input probe file: \\\\10.245.74.212\\Chromatin_NAS_2\\Chromatin_Libraries\\CTP-13_brain-super-enhancers\\final_pool_probes.fasta doesn't exist.",
     "output_type": "error",
     "traceback": [
      "\u001b[1;31m---------------------------------------------------------------------------\u001b[0m",
      "\u001b[1;31mOSError\u001b[0m                                   Traceback (most recent call last)",
      "\u001b[1;32m<ipython-input-5-9bb271349246>\u001b[0m in \u001b[0;36m<module>\u001b[1;34m()\u001b[0m\n\u001b[0;32m      1\u001b[0m \u001b[0mprobe_filename\u001b[0m \u001b[1;33m=\u001b[0m \u001b[0mos\u001b[0m\u001b[1;33m.\u001b[0m\u001b[0mpath\u001b[0m\u001b[1;33m.\u001b[0m\u001b[0mjoin\u001b[0m\u001b[1;33m(\u001b[0m\u001b[0mpool_folder\u001b[0m\u001b[1;33m,\u001b[0m \u001b[1;34m'final_pool_probes.fasta'\u001b[0m\u001b[1;33m)\u001b[0m\u001b[1;33m\u001b[0m\u001b[1;33m\u001b[0m\u001b[0m\n\u001b[0;32m      2\u001b[0m \u001b[1;32mif\u001b[0m \u001b[1;32mnot\u001b[0m \u001b[0mos\u001b[0m\u001b[1;33m.\u001b[0m\u001b[0mpath\u001b[0m\u001b[1;33m.\u001b[0m\u001b[0misfile\u001b[0m\u001b[1;33m(\u001b[0m\u001b[0mprobe_filename\u001b[0m\u001b[1;33m)\u001b[0m\u001b[1;33m:\u001b[0m\u001b[1;33m\u001b[0m\u001b[1;33m\u001b[0m\u001b[0m\n\u001b[1;32m----> 3\u001b[1;33m     \u001b[1;32mraise\u001b[0m \u001b[0mIOError\u001b[0m\u001b[1;33m(\u001b[0m\u001b[1;34mf\"input probe file: {probe_filename} doesn't exist.\"\u001b[0m\u001b[1;33m)\u001b[0m\u001b[1;33m\u001b[0m\u001b[1;33m\u001b[0m\u001b[0m\n\u001b[0m",
      "\u001b[1;31mOSError\u001b[0m: input probe file: \\\\10.245.74.212\\Chromatin_NAS_2\\Chromatin_Libraries\\CTP-13_brain-super-enhancers\\final_pool_probes.fasta doesn't exist."
     ]
    }
   ],
   "source": [
    "probe_filename = os.path.join(pool_folder, 'final_pool_probes.fasta')\n",
    "if not os.path.isfile(probe_filename):\n",
    "    raise IOError(f\"input probe file: {probe_filename} doesn't exist.\")"
   ]
  },
  {
   "cell_type": "code",
   "execution_count": 3,
   "id": "8424defe",
   "metadata": {},
   "outputs": [
    {
     "data": {
      "text/plain": [
       "['blast_combinatorial',\n",
       " 'blast_full_probes.fasta',\n",
       " 'blast_full_probes_comb_plus_seq.fasta',\n",
       " 'candidate_probes.fasta',\n",
       " 'chr_2_region_names.pkl',\n",
       " 'chr_2_region_names_test.pkl',\n",
       " 'chr_2_region_num.pkl',\n",
       " 'chr_2_region_num_old.pkl',\n",
       " 'chr_2_region_num_test.pkl',\n",
       " 'common_pb_dict.pkl',\n",
       " 'filtered_full_probes.fasta',\n",
       " 'merged_selected_SE_all_cell_types.xlsx',\n",
       " 'old',\n",
       " 'probes_with_check_agains_ctp11_backup',\n",
       " 'probes_wo_check_agains_ctp11',\n",
       " 'probe_table_17',\n",
       " 'readout_summary.pkl',\n",
       " 'readout_usage.pkl',\n",
       " 'region_2_readout.pkl',\n",
       " 'reports',\n",
       " 'selected_merged_SE_list.xlsx',\n",
       " 'Seleted_merged_super_enhancer_list.bed',\n",
       " 'sequences']"
      ]
     },
     "execution_count": 3,
     "metadata": {},
     "output_type": "execute_result"
    }
   ],
   "source": [
    "os.listdir(library_folder)"
   ]
  },
  {
   "cell_type": "code",
   "execution_count": 4,
   "id": "234e0b3f",
   "metadata": {},
   "outputs": [],
   "source": [
    "# load used readouts\n",
    "readout_usage_file = os.path.join(library_folder, 'readout_usage.pkl')\n",
    "readout_dict = pickle.load(open(readout_usage_file, 'rb'))"
   ]
  },
  {
   "cell_type": "code",
   "execution_count": 5,
   "id": "4ade1c03",
   "metadata": {
    "scrolled": true
   },
   "outputs": [
    {
     "data": {
      "text/plain": [
       "{'c': [SeqRecord(seq=Seq('CCCTAATCCCGACTTTGTGGGTACGTTGAT'), id='NDB_376', name='NDB_376', description='NDB_376', dbxrefs=[]),\n",
       "  SeqRecord(seq=Seq('TGCCACATCTAGGCGATACATGAGAGGCGT'), id='NDB_578', name='NDB_578', description='NDB_578', dbxrefs=[]),\n",
       "  SeqRecord(seq=Seq('AGCCAGCTCGTAGCGCCTGAATTAGCTATA'), id='NDB_400', name='NDB_400', description='NDB_400', dbxrefs=[]),\n",
       "  SeqRecord(seq=Seq('TCCGTTAAACGTCGGCTGCGTACTGGTACA'), id='NDB_533', name='NDB_533', description='NDB_533', dbxrefs=[]),\n",
       "  SeqRecord(seq=Seq('TCTCAAGGTTACCGGTTGTCTATATCGTCT'), id='NDB_568', name='NDB_568', description='NDB_568', dbxrefs=[]),\n",
       "  SeqRecord(seq=Seq('AGAGAGCGACTTGGGAACGCCTTCATATCC'), id='NDB_464', name='NDB_464', description='NDB_464', dbxrefs=[]),\n",
       "  SeqRecord(seq=Seq('GCCGTATCAGCGTGTACGGTCAAATACGAG'), id='NDB_466', name='NDB_466', description='NDB_466', dbxrefs=[]),\n",
       "  SeqRecord(seq=Seq('GGACAGGACTGTTCACCGGAATACTTCTGA'), id='NDB_431', name='NDB_431', description='NDB_431', dbxrefs=[]),\n",
       "  SeqRecord(seq=Seq('GCCGATCTTTAGCGGATTAATCGTACGACA'), id='NDB_511', name='NDB_511', description='NDB_511', dbxrefs=[]),\n",
       "  SeqRecord(seq=Seq('GTACATCGTAATCAATCCTCGTTGGCGTTC'), id='NDB_554', name='NDB_554', description='NDB_554', dbxrefs=[]),\n",
       "  SeqRecord(seq=Seq('GGTATCAGCTTTCACGAACGTCTCTATCTA'), id='NDB_487', name='NDB_487', description='NDB_487', dbxrefs=[]),\n",
       "  SeqRecord(seq=Seq('TTCTACGTCTAAATTCCGGAAGCTTGGGCA'), id='NDB_458', name='NDB_458', description='NDB_458', dbxrefs=[]),\n",
       "  SeqRecord(seq=Seq('ACGTTAACCCGTAAATTTAGTCTGCGGACC'), id='NDB_409', name='NDB_409', description='NDB_409', dbxrefs=[]),\n",
       "  SeqRecord(seq=Seq('GCGTTGCAAATACGCTGTTGGCGCTATACT'), id='NDB_443', name='NDB_443', description='NDB_443', dbxrefs=[]),\n",
       "  SeqRecord(seq=Seq('TCTTACTTCTCGCGGTTCACGGTATAAGCA'), id='NDB_571', name='NDB_571', description='NDB_571', dbxrefs=[]),\n",
       "  SeqRecord(seq=Seq('GTACACAAGATGTCCGATAGCTTGCGCATA'), id='NDB_455', name='NDB_455', description='NDB_455', dbxrefs=[]),\n",
       "  SeqRecord(seq=Seq('CCATTGTTTACGGGCGACTGCGGTATATCT'), id='NDB_448', name='NDB_448', description='NDB_448', dbxrefs=[]),\n",
       "  SeqRecord(seq=Seq('TCGGTGTATCACTCCGGACGCGAGGTATAA'), id='NDB_470', name='NDB_470', description='NDB_470', dbxrefs=[]),\n",
       "  SeqRecord(seq=Seq('GCCCAGGTAGCGTTTCCGACTGGGATAATC'), id='NDB_529', name='NDB_529', description='NDB_529', dbxrefs=[]),\n",
       "  SeqRecord(seq=Seq('AGCGTTTATACGATGGTCGTCCTCGTTTCG'), id='NDB_332', name='NDB_332', description='NDB_332', dbxrefs=[]),\n",
       "  SeqRecord(seq=Seq('ACGCTCGGGCATGTATGCGGGCTCATAATA'), id='NDB_508', name='NDB_508', description='NDB_508', dbxrefs=[]),\n",
       "  SeqRecord(seq=Seq('CACGATGCAATATCGAGTGAGGTGCACCGT'), id='NDB_536', name='NDB_536', description='NDB_536', dbxrefs=[]),\n",
       "  SeqRecord(seq=Seq('CGCTAATCGGATGCTATACGGTGTCGAGCA'), id='NDB_403', name='NDB_403', description='NDB_403', dbxrefs=[]),\n",
       "  SeqRecord(seq=Seq('TTGGACTAACGACCAACGCCTAACATGTAG'), id='NDB_461', name='NDB_461', description='NDB_461', dbxrefs=[]),\n",
       "  SeqRecord(seq=Seq('AGGAACGTAGATACCGCGGCGTAAGTACCC'), id='NDB_391', name='NDB_391', description='NDB_391', dbxrefs=[]),\n",
       "  SeqRecord(seq=Seq('TCCATACTTCGGCACTAGGATAACTTTAGG'), id='NDB_398', name='NDB_398', description='NDB_398', dbxrefs=[]),\n",
       "  SeqRecord(seq=Seq('CTTCTACCGTGTTGGTGCGCTCTGGATATT'), id='NDB_532', name='NDB_532', description='NDB_532', dbxrefs=[]),\n",
       "  SeqRecord(seq=Seq('AATGAGGCGGCGGTTCTACTTGTCCTAATC'), id='NDB_467', name='NDB_467', description='NDB_467', dbxrefs=[]),\n",
       "  SeqRecord(seq=Seq('TTAGACTAATGCACGTATGTCCCGTCCATT'), id='NDB_616', name='NDB_616', description='NDB_616', dbxrefs=[]),\n",
       "  SeqRecord(seq=Seq('ACCGATTATTTGGCACGTATCGACCGGTTT'), id='NDB_335', name='NDB_335', description='NDB_335', dbxrefs=[]),\n",
       "  SeqRecord(seq=Seq('ATGGAGTGAAAGTCGCCCTGCATAGGTACC'), id='NDB_388', name='NDB_388', description='NDB_388', dbxrefs=[]),\n",
       "  SeqRecord(seq=Seq('CAGCTGAGAGGAGTGCGCGTCATACCTTTG'), id='NDB_506', name='NDB_506', description='NDB_506', dbxrefs=[]),\n",
       "  SeqRecord(seq=Seq('CGCGTAAGCGAGTTTACCCTTGGCGATGAA'), id='NDB_427', name='NDB_427', description='NDB_427', dbxrefs=[]),\n",
       "  SeqRecord(seq=Seq('ACAGTTGAGCTAGTACGTCCCAGTAAGGTC'), id='NDB_347', name='NDB_347', description='NDB_347', dbxrefs=[]),\n",
       "  SeqRecord(seq=Seq('TGTTTCAAACTCGGCCGCGTTCAACATGTG'), id='NDB_619', name='NDB_619', description='NDB_619', dbxrefs=[]),\n",
       "  SeqRecord(seq=Seq('GTCGTTTGCCCATCGCCTTAAACGGTTAAT'), id='NDB_482', name='NDB_482', description='NDB_482', dbxrefs=[]),\n",
       "  SeqRecord(seq=Seq('CCCTAGTACTGTGCGTTATTAATTGCCGGA'), id='NDB_433', name='NDB_433', description='NDB_433', dbxrefs=[]),\n",
       "  SeqRecord(seq=Seq('GGGCTTTACGTGCCGTTCCATAGTTTACCG'), id='NDB_446', name='NDB_446', description='NDB_446', dbxrefs=[]),\n",
       "  SeqRecord(seq=Seq('ATACACGAAGGCACGCCGGATTTACTAGAG'), id='NDB_397', name='NDB_397', description='NDB_397', dbxrefs=[]),\n",
       "  SeqRecord(seq=Seq('CGACACGTTAATTTCCGATGATCCGTTTAC'), id='NDB_473', name='NDB_473', description='NDB_473', dbxrefs=[]),\n",
       "  SeqRecord(seq=Seq('CCGCAAGCGGATTGTCCGAGATGAGTATAC'), id='NDB_505', name='NDB_505', description='NDB_505', dbxrefs=[]),\n",
       "  SeqRecord(seq=Seq('GTACAAGCCCTGTCGCTTGATTAGACGTGC'), id='NDB_539', name='NDB_539', description='NDB_539', dbxrefs=[]),\n",
       "  SeqRecord(seq=Seq('ACCCTTTAGGGACTACGCTAGTGTTGTGCC'), id='NDB_385', name='NDB_385', description='NDB_385', dbxrefs=[]),\n",
       "  SeqRecord(seq=Seq('TGTTATTCCCAGCCGATCGCAGGAGTTAAC'), id='NDB_452', name='NDB_452', description='NDB_452', dbxrefs=[]),\n",
       "  SeqRecord(seq=Seq('GCGGTCACGACTTAATCTCGATGGAGCATG'), id='NDB_514', name='NDB_514', description='NDB_514', dbxrefs=[]),\n",
       "  SeqRecord(seq=Seq('AGGTTCGTCATGGCATCCGCAAGTCGTTAT'), id='NDB_356', name='NDB_356', description='NDB_356', dbxrefs=[]),\n",
       "  SeqRecord(seq=Seq('CTACTAATTATCGATTGAGCCGGCAAGTCG'), id='NDB_445', name='NDB_445', description='NDB_445', dbxrefs=[]),\n",
       "  SeqRecord(seq=Seq('CGGGTTGACCCATCGCAAGCAATATATTGT'), id='NDB_587', name='NDB_587', description='NDB_587', dbxrefs=[]),\n",
       "  SeqRecord(seq=Seq('GCCGAGACGTATCCCGGTCATAGATAAATC'), id='NDB_628', name='NDB_628', description='NDB_628', dbxrefs=[]),\n",
       "  SeqRecord(seq=Seq('CCTAACCGATCCGGGTGGAATAGATGTAAC'), id='NDB_551', name='NDB_551', description='NDB_551', dbxrefs=[]),\n",
       "  SeqRecord(seq=Seq('TGCGACTTAATTATCCCGGACACATGGATT'), id='NDB_421', name='NDB_421', description='NDB_421', dbxrefs=[]),\n",
       "  SeqRecord(seq=Seq('CGGCAGAATCGCACGGTTTACTTTAATCCA'), id='NDB_557', name='NDB_557', description='NDB_557', dbxrefs=[]),\n",
       "  SeqRecord(seq=Seq('ATCCAACAGTAGCGGCCGAGATTGTTCATA'), id='NDB_379', name='NDB_379', description='NDB_379', dbxrefs=[]),\n",
       "  SeqRecord(seq=Seq('CGGCAGTCTGTCGTATTCGTAGGATCCGTA'), id='NDB_491', name='NDB_491', description='NDB_491', dbxrefs=[]),\n",
       "  SeqRecord(seq=Seq('GTAAACTTTGTACGGTACCCTGCGCTTCAT'), id='NDB_418', name='NDB_418', description='NDB_418', dbxrefs=[]),\n",
       "  SeqRecord(seq=Seq('CCCTTTGTAGAACGTAAGCGGCAATACTTT'), id='NDB_401', name='NDB_401', description='NDB_401', dbxrefs=[]),\n",
       "  SeqRecord(seq=Seq('CGCATAAGCGACTTGCTGGTCGTACAGTTT'), id='NDB_526', name='NDB_526', description='NDB_526', dbxrefs=[]),\n",
       "  SeqRecord(seq=Seq('AGGTTGGGTGCGACATAGACGACCAGACTC'), id='NDB_611', name='NDB_611', description='NDB_611', dbxrefs=[]),\n",
       "  SeqRecord(seq=Seq('CTAGTTGTATATCGGACAGTCCCTCTTGAA'), id='NDB_472', name='NDB_472', description='NDB_472', dbxrefs=[]),\n",
       "  SeqRecord(seq=Seq('CAGATACCGTTTAATCTCGGCTGAGCGGAG'), id='NDB_341', name='NDB_341', description='NDB_341', dbxrefs=[]),\n",
       "  SeqRecord(seq=Seq('ACGCAATCGGCGGTTAATCGAAACGGGTCG'), id='NDB_622', name='NDB_622', description='NDB_622', dbxrefs=[]),\n",
       "  SeqRecord(seq=Seq('ACTATCGTATCAACTCCGAGCCTGATGAGG'), id='NDB_386', name='NDB_386', description='NDB_386', dbxrefs=[]),\n",
       "  SeqRecord(seq=Seq('AGCAACGCAGACCTGGCGCTATAGGAAGTC'), id='NDB_517', name='NDB_517', description='NDB_517', dbxrefs=[]),\n",
       "  SeqRecord(seq=Seq('CCTTAGGCATAGATAAGCTCGCTGGTCACA'), id='NDB_392', name='NDB_392', description='NDB_392', dbxrefs=[]),\n",
       "  SeqRecord(seq=Seq('TCCTTGATGTAACCGATAGGCGTCGTGACT'), id='NDB_544', name='NDB_544', description='NDB_544', dbxrefs=[]),\n",
       "  SeqRecord(seq=Seq('CATGACTACGCATCCAAGTTAAGCGCTTAT'), id='NDB_614', name='NDB_614', description='NDB_614', dbxrefs=[]),\n",
       "  SeqRecord(seq=Seq('CTTCATGCTAACGTTCGGGTCTAGGTGTCA'), id='NDB_625', name='NDB_625', description='NDB_625', dbxrefs=[]),\n",
       "  SeqRecord(seq=Seq('CGCATTGGCTTCGTACGCGCTTTATAGGCG'), id='NDB_395', name='NDB_395', description='NDB_395', dbxrefs=[]),\n",
       "  SeqRecord(seq=Seq('CCAATTATCGAAGTCGGTCGTTCTGACATA'), id='NDB_577', name='NDB_577', description='NDB_577', dbxrefs=[]),\n",
       "  SeqRecord(seq=Seq('CGACATGCGCAGATGGTATGGATTGCCCTA'), id='NDB_359', name='NDB_359', description='NDB_359', dbxrefs=[]),\n",
       "  SeqRecord(seq=Seq('TAACACGAAGATCCATAGGCGACCTTTACT'), id='NDB_556', name='NDB_556', description='NDB_556', dbxrefs=[]),\n",
       "  SeqRecord(seq=Seq('ACCGAGTAACGTGTGATGACGGTGTACCCG'), id='NDB_581', name='NDB_581', description='NDB_581', dbxrefs=[]),\n",
       "  SeqRecord(seq=Seq('CGGCTACGTTAGGTGCCTCGCTGCGTATAT'), id='NDB_481', name='NDB_481', description='NDB_481', dbxrefs=[]),\n",
       "  SeqRecord(seq=Seq('GCGTTGGACTTAAGTATTACGCCTGACGAC'), id='NDB_350', name='NDB_350', description='NDB_350', dbxrefs=[]),\n",
       "  SeqRecord(seq=Seq('GCCAATAGCTCGGTGAGGATCTCTACGAGA'), id='NDB_439', name='NDB_439', description='NDB_439', dbxrefs=[]),\n",
       "  SeqRecord(seq=Seq('TAACTGAGCTTATCGCTTCGCACGAAATGG'), id='NDB_371', name='NDB_371', description='NDB_371', dbxrefs=[]),\n",
       "  SeqRecord(seq=Seq('ACCGAAGATCGTAGTTAAGTACCGCCATTT'), id='NDB_493', name='NDB_493', description='NDB_493', dbxrefs=[]),\n",
       "  SeqRecord(seq=Seq('CTACAGGATACGAGCCGCCATGCGAATAGT'), id='NDB_476', name='NDB_476', description='NDB_476', dbxrefs=[]),\n",
       "  SeqRecord(seq=Seq('ATGTTCCAATGTACTGCCGGCTACATGCTG'), id='NDB_547', name='NDB_547', description='NDB_547', dbxrefs=[]),\n",
       "  SeqRecord(seq=Seq('CCACATAAGGTGCGTACTAGCTGACTATCT'), id='NDB_428', name='NDB_428', description='NDB_428', dbxrefs=[]),\n",
       "  SeqRecord(seq=Seq('TCCATTTAGCGTGCGATAGATCCTCTCGGT'), id='NDB_538', name='NDB_538', description='NDB_538', dbxrefs=[]),\n",
       "  SeqRecord(seq=Seq('GGCGTCATTGAACAACCGGTCTTGCCAGAG'), id='NDB_365', name='NDB_365', description='NDB_365', dbxrefs=[]),\n",
       "  SeqRecord(seq=Seq('TAGTTCGTTCGGTGTCCTTATGCTCGGACT'), id='NDB_589', name='NDB_589', description='NDB_589', dbxrefs=[]),\n",
       "  SeqRecord(seq=Seq('CACTTGTGTCCAATCCGTACGTTTGTGACT'), id='NDB_494', name='NDB_494', description='NDB_494', dbxrefs=[]),\n",
       "  SeqRecord(seq=Seq('ATTCAGGGTGATCGCTTGCATACTTACTTC'), id='NDB_601', name='NDB_601', description='NDB_601', dbxrefs=[]),\n",
       "  SeqRecord(seq=Seq('CGGGTTCAATTACGAATGGAGCTTCCTATC'), id='NDB_479', name='NDB_479', description='NDB_479', dbxrefs=[]),\n",
       "  SeqRecord(seq=Seq('CACCAAGTATAATGTACGTGGACTCGCATG'), id='NDB_562', name='NDB_562', description='NDB_562', dbxrefs=[]),\n",
       "  SeqRecord(seq=Seq('TAATTATTCCAAACGACTCGTGGCTAGCCA'), id='NDB_608', name='NDB_608', description='NDB_608', dbxrefs=[]),\n",
       "  SeqRecord(seq=Seq('ACCAAGCTAAATGCACGTCATCGTGTGTGG'), id='NDB_460', name='NDB_460', description='NDB_460', dbxrefs=[]),\n",
       "  SeqRecord(seq=Seq('AACCTGACTAGATAGGTCCGCGAGATGCGT'), id='NDB_563', name='NDB_563', description='NDB_563', dbxrefs=[]),\n",
       "  SeqRecord(seq=Seq('GTACAGCTTAGTTACGTTATCGGATTCTCC'), id='NDB_592', name='NDB_592', description='NDB_592', dbxrefs=[]),\n",
       "  SeqRecord(seq=Seq('TTGGACGCATCTGACGCTGAAGTGCCTAGT'), id='NDB_368', name='NDB_368', description='NDB_368', dbxrefs=[]),\n",
       "  SeqRecord(seq=Seq('ACACATCTTCTCGTGAGGCGGTATTTACAA'), id='NDB_436', name='NDB_436', description='NDB_436', dbxrefs=[]),\n",
       "  SeqRecord(seq=Seq('ATGCAGACTGGGTAAGCGGTACGTCCTGTC'), id='NDB_629', name='NDB_629', description='NDB_629', dbxrefs=[]),\n",
       "  SeqRecord(seq=Seq('TCTCATGTATAGGGCCGAGCGACTATCCTA'), id='NDB_604', name='NDB_604', description='NDB_604', dbxrefs=[])]}"
      ]
     },
     "execution_count": 5,
     "metadata": {},
     "output_type": "execute_result"
    }
   ],
   "source": [
    "readout_dict"
   ]
  },
  {
   "cell_type": "markdown",
   "id": "87bfe105",
   "metadata": {},
   "source": [
    "## bit_2_readout"
   ]
  },
  {
   "cell_type": "code",
   "execution_count": 8,
   "id": "b226aa0b",
   "metadata": {},
   "outputs": [],
   "source": [
    "import pandas as pd"
   ]
  },
  {
   "cell_type": "code",
   "execution_count": 9,
   "id": "254f145c",
   "metadata": {},
   "outputs": [],
   "source": [
    "save_folder = os.path.join(pool_folder, 'Summary_tables')\n",
    "dtype_dict = {_v:_k for _k,_v in ia.classes._allowed_kwds.items()}"
   ]
  },
  {
   "cell_type": "code",
   "execution_count": 12,
   "id": "51cc4288",
   "metadata": {},
   "outputs": [
    {
     "name": "stdout",
     "output_type": "stream",
     "text": [
      "\\\\10.245.74.212\\Chromatin_NAS_2\\Chromatin_Libraries\\CTP-13_brain-super-enhancers\\Summary_tables\\CTP13-mouse-SE_combo_readouts.csv\n"
     ]
    }
   ],
   "source": [
    "for _dtype, _records in readout_dict.items():\n",
    "    \n",
    "    bit_readout_df = pd.DataFrame([[_i+1, _r.id] for _i, _r in enumerate(_records)], columns=['Bit','ReadoutName'])\n",
    "    save_filename = os.path.join(save_folder, f'CTP13-mouse-SE_{dtype_dict[_dtype]}_readouts.csv')\n",
    "    print(save_filename)\n",
    "    bit_readout_df.to_csv(save_filename, index=False)"
   ]
  },
  {
   "cell_type": "code",
   "execution_count": 11,
   "id": "116e98e8",
   "metadata": {},
   "outputs": [
    {
     "data": {
      "text/html": [
       "<div>\n",
       "<style scoped>\n",
       "    .dataframe tbody tr th:only-of-type {\n",
       "        vertical-align: middle;\n",
       "    }\n",
       "\n",
       "    .dataframe tbody tr th {\n",
       "        vertical-align: top;\n",
       "    }\n",
       "\n",
       "    .dataframe thead th {\n",
       "        text-align: right;\n",
       "    }\n",
       "</style>\n",
       "<table border=\"1\" class=\"dataframe\">\n",
       "  <thead>\n",
       "    <tr style=\"text-align: right;\">\n",
       "      <th></th>\n",
       "      <th>Bit</th>\n",
       "      <th>ReadoutName</th>\n",
       "    </tr>\n",
       "  </thead>\n",
       "  <tbody>\n",
       "    <tr>\n",
       "      <th>0</th>\n",
       "      <td>1</td>\n",
       "      <td>NDB_376</td>\n",
       "    </tr>\n",
       "    <tr>\n",
       "      <th>1</th>\n",
       "      <td>2</td>\n",
       "      <td>NDB_578</td>\n",
       "    </tr>\n",
       "    <tr>\n",
       "      <th>2</th>\n",
       "      <td>3</td>\n",
       "      <td>NDB_400</td>\n",
       "    </tr>\n",
       "    <tr>\n",
       "      <th>3</th>\n",
       "      <td>4</td>\n",
       "      <td>NDB_533</td>\n",
       "    </tr>\n",
       "    <tr>\n",
       "      <th>4</th>\n",
       "      <td>5</td>\n",
       "      <td>NDB_568</td>\n",
       "    </tr>\n",
       "    <tr>\n",
       "      <th>...</th>\n",
       "      <td>...</td>\n",
       "      <td>...</td>\n",
       "    </tr>\n",
       "    <tr>\n",
       "      <th>90</th>\n",
       "      <td>91</td>\n",
       "      <td>NDB_592</td>\n",
       "    </tr>\n",
       "    <tr>\n",
       "      <th>91</th>\n",
       "      <td>92</td>\n",
       "      <td>NDB_368</td>\n",
       "    </tr>\n",
       "    <tr>\n",
       "      <th>92</th>\n",
       "      <td>93</td>\n",
       "      <td>NDB_436</td>\n",
       "    </tr>\n",
       "    <tr>\n",
       "      <th>93</th>\n",
       "      <td>94</td>\n",
       "      <td>NDB_629</td>\n",
       "    </tr>\n",
       "    <tr>\n",
       "      <th>94</th>\n",
       "      <td>95</td>\n",
       "      <td>NDB_604</td>\n",
       "    </tr>\n",
       "  </tbody>\n",
       "</table>\n",
       "<p>95 rows × 2 columns</p>\n",
       "</div>"
      ],
      "text/plain": [
       "    Bit ReadoutName\n",
       "0     1     NDB_376\n",
       "1     2     NDB_578\n",
       "2     3     NDB_400\n",
       "3     4     NDB_533\n",
       "4     5     NDB_568\n",
       "..  ...         ...\n",
       "90   91     NDB_592\n",
       "91   92     NDB_368\n",
       "92   93     NDB_436\n",
       "93   94     NDB_629\n",
       "94   95     NDB_604\n",
       "\n",
       "[95 rows x 2 columns]"
      ]
     },
     "execution_count": 11,
     "metadata": {},
     "output_type": "execute_result"
    }
   ],
   "source": [
    "bit_readout_df"
   ]
  },
  {
   "cell_type": "code",
   "execution_count": null,
   "id": "1f9977ff",
   "metadata": {},
   "outputs": [],
   "source": []
  }
 ],
 "metadata": {
  "kernelspec": {
   "display_name": "Python 3 (ipykernel)",
   "language": "python",
   "name": "python3"
  },
  "language_info": {
   "codemirror_mode": {
    "name": "ipython",
    "version": 3
   },
   "file_extension": ".py",
   "mimetype": "text/x-python",
   "name": "python",
   "nbconvert_exporter": "python",
   "pygments_lexer": "ipython3",
   "version": "3.9.7"
  }
 },
 "nbformat": 4,
 "nbformat_minor": 5
}
