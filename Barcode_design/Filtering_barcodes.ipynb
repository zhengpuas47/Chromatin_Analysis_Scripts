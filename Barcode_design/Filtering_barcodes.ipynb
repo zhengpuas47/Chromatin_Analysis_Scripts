{
 "cells": [
  {
   "cell_type": "markdown",
   "id": "7eb25fc0",
   "metadata": {},
   "source": [
    "# Filter readouts \n",
    "\n",
    "for CTP14 human library design\n",
    "\n",
    "by Pu Zheng\n",
    "\n",
    "2022.10.10"
   ]
  },
  {
   "cell_type": "code",
   "execution_count": 1,
   "id": "92a5862e",
   "metadata": {},
   "outputs": [
    {
     "name": "stdout",
     "output_type": "stream",
     "text": [
      "704\n"
     ]
    }
   ],
   "source": [
    "%run \"..\\Startup_py3.py\"\n",
    "sys.path.append(r\"..\\..\\..\\Documents\")\n",
    "\n",
    "import ImageAnalysis3 as ia\n",
    "%matplotlib notebook\n",
    "\n",
    "#from ImageAnalysis3 import *\n",
    "print(os.getpid())"
   ]
  },
  {
   "cell_type": "code",
   "execution_count": 2,
   "id": "4876aa4c",
   "metadata": {},
   "outputs": [],
   "source": [
    "# biopython imports\n",
    "from Bio import SeqIO\n",
    "from Bio.Seq import Seq\n",
    "from Bio.SeqRecord import SeqRecord"
   ]
  },
  {
   "cell_type": "code",
   "execution_count": 3,
   "id": "f7ac3979",
   "metadata": {},
   "outputs": [],
   "source": [
    "readout_folder = r'\\\\10.245.74.212\\Chromatin_NAS_2\\Chromatin_Libraries\\Readouts'"
   ]
  },
  {
   "cell_type": "code",
   "execution_count": 4,
   "id": "83c08915",
   "metadata": {},
   "outputs": [
    {
     "data": {
      "text/html": [
       "<div>\n",
       "<style scoped>\n",
       "    .dataframe tbody tr th:only-of-type {\n",
       "        vertical-align: middle;\n",
       "    }\n",
       "\n",
       "    .dataframe tbody tr th {\n",
       "        vertical-align: top;\n",
       "    }\n",
       "\n",
       "    .dataframe thead th {\n",
       "        text-align: right;\n",
       "    }\n",
       "</style>\n",
       "<table border=\"1\" class=\"dataframe\">\n",
       "  <thead>\n",
       "    <tr style=\"text-align: right;\">\n",
       "      <th></th>\n",
       "      <th>name</th>\n",
       "      <th>color</th>\n",
       "      <th>brightness</th>\n",
       "      <th>sequence</th>\n",
       "    </tr>\n",
       "  </thead>\n",
       "  <tbody>\n",
       "    <tr>\n",
       "      <th>0</th>\n",
       "      <td>NDB_784</td>\n",
       "      <td>750</td>\n",
       "      <td>5.975574</td>\n",
       "      <td>ATGCCACTCGGATATTTCTA</td>\n",
       "    </tr>\n",
       "    <tr>\n",
       "      <th>1</th>\n",
       "      <td>NDB_826</td>\n",
       "      <td>750</td>\n",
       "      <td>5.914067</td>\n",
       "      <td>GTCTAAGGACATCGACATAT</td>\n",
       "    </tr>\n",
       "    <tr>\n",
       "      <th>2</th>\n",
       "      <td>NDB_376</td>\n",
       "      <td>750</td>\n",
       "      <td>5.576824</td>\n",
       "      <td>ATCAACGTACCCACAAAGTC</td>\n",
       "    </tr>\n",
       "    <tr>\n",
       "      <th>3</th>\n",
       "      <td>NDB_865</td>\n",
       "      <td>750</td>\n",
       "      <td>5.548981</td>\n",
       "      <td>TCACATATCCGACCGGGATC</td>\n",
       "    </tr>\n",
       "    <tr>\n",
       "      <th>4</th>\n",
       "      <td>NDB_817</td>\n",
       "      <td>750</td>\n",
       "      <td>5.469553</td>\n",
       "      <td>AATGCTTAGTCAACGAGTTC</td>\n",
       "    </tr>\n",
       "    <tr>\n",
       "      <th>...</th>\n",
       "      <td>...</td>\n",
       "      <td>...</td>\n",
       "      <td>...</td>\n",
       "      <td>...</td>\n",
       "    </tr>\n",
       "    <tr>\n",
       "      <th>449</th>\n",
       "      <td>NDB_1071</td>\n",
       "      <td>561</td>\n",
       "      <td>3.042401</td>\n",
       "      <td>GGTTCTGCACCCGGTAGGTC</td>\n",
       "    </tr>\n",
       "    <tr>\n",
       "      <th>450</th>\n",
       "      <td>NDB_576</td>\n",
       "      <td>561</td>\n",
       "      <td>3.039261</td>\n",
       "      <td>CAGCCGATGACGGGAAACGC</td>\n",
       "    </tr>\n",
       "    <tr>\n",
       "      <th>451</th>\n",
       "      <td>NDB_870</td>\n",
       "      <td>561</td>\n",
       "      <td>3.037168</td>\n",
       "      <td>CTTAATATCTCGGCGGTCGT</td>\n",
       "    </tr>\n",
       "    <tr>\n",
       "      <th>452</th>\n",
       "      <td>NDB_468</td>\n",
       "      <td>561</td>\n",
       "      <td>3.025657</td>\n",
       "      <td>CGAGCTCATAGCCATACGAA</td>\n",
       "    </tr>\n",
       "    <tr>\n",
       "      <th>453</th>\n",
       "      <td>NDB_978</td>\n",
       "      <td>561</td>\n",
       "      <td>3.024198</td>\n",
       "      <td>ATAGTAAAGGCGATGCATTG</td>\n",
       "    </tr>\n",
       "  </tbody>\n",
       "</table>\n",
       "<p>454 rows × 4 columns</p>\n",
       "</div>"
      ],
      "text/plain": [
       "         name  color  brightness              sequence\n",
       "0     NDB_784    750    5.975574  ATGCCACTCGGATATTTCTA\n",
       "1     NDB_826    750    5.914067  GTCTAAGGACATCGACATAT\n",
       "2     NDB_376    750    5.576824  ATCAACGTACCCACAAAGTC\n",
       "3     NDB_865    750    5.548981  TCACATATCCGACCGGGATC\n",
       "4     NDB_817    750    5.469553  AATGCTTAGTCAACGAGTTC\n",
       "..        ...    ...         ...                   ...\n",
       "449  NDB_1071    561    3.042401  GGTTCTGCACCCGGTAGGTC\n",
       "450   NDB_576    561    3.039261  CAGCCGATGACGGGAAACGC\n",
       "451   NDB_870    561    3.037168  CTTAATATCTCGGCGGTCGT\n",
       "452   NDB_468    561    3.025657  CGAGCTCATAGCCATACGAA\n",
       "453   NDB_978    561    3.024198  ATAGTAAAGGCGATGCATTG\n",
       "\n",
       "[454 rows x 4 columns]"
      ]
     },
     "execution_count": 4,
     "metadata": {},
     "output_type": "execute_result"
    }
   ],
   "source": [
    "# load names\n",
    "sel_filename = os.path.join(readout_folder, r'20-mer_barcode_screen.xlsx')\n",
    "import pandas as pd\n",
    "sel_df = pd.read_excel(sel_filename, )\n",
    "sel_df"
   ]
  },
  {
   "cell_type": "code",
   "execution_count": 8,
   "id": "7c00ddce",
   "metadata": {},
   "outputs": [],
   "source": [
    "save_folder = os.path.join(readout_folder, r'selected_NDB_sets')"
   ]
  },
  {
   "cell_type": "code",
   "execution_count": 5,
   "id": "d5f90654",
   "metadata": {},
   "outputs": [],
   "source": [
    "# load readouts\n",
    "NDBs = []\n",
    "for _record in SeqIO.parse(os.path.join(readout_folder, 'updated_NDBs.fasta'), \"fasta\"):\n",
    "    NDBs.append(_record)\n"
   ]
  },
  {
   "cell_type": "code",
   "execution_count": 6,
   "id": "10414e1b",
   "metadata": {},
   "outputs": [],
   "source": [
    "# convert selected id names into seqRecords\n",
    "sel_rds = {_ch:[] for _ch in np.unique(sel_df['color'])}\n",
    "for _rd_name, _ch in zip(sel_df['name'], sel_df['color']):\n",
    "    _match = [_rd for _rd in NDBs if _rd.id == _rd_name]\n",
    "    if len(_match) == 1:\n",
    "        sel_rds[_ch].append(_match[0])"
   ]
  },
  {
   "cell_type": "code",
   "execution_count": 9,
   "id": "e758d42c",
   "metadata": {},
   "outputs": [
    {
     "name": "stdout",
     "output_type": "stream",
     "text": [
      "\\\\10.245.74.212\\Chromatin_NAS_2\\Chromatin_Libraries\\Readouts\\selected_NDB_sets\\highest_snr_561.fasta\n",
      "\\\\10.245.74.212\\Chromatin_NAS_2\\Chromatin_Libraries\\Readouts\\selected_NDB_sets\\highest_snr_647.fasta\n",
      "\\\\10.245.74.212\\Chromatin_NAS_2\\Chromatin_Libraries\\Readouts\\selected_NDB_sets\\highest_snr_750.fasta\n"
     ]
    }
   ],
   "source": [
    "# save to file\n",
    "for _ch, _rds in sel_rds.items():\n",
    "    _save_filename = os.path.join(save_folder, f\"highest_snr_{_ch}.fasta\")\n",
    "    if not os.path.exists(_save_filename):\n",
    "        print(_save_filename)\n",
    "        with open(_save_filename, 'w') as _output_handle:\n",
    "            SeqIO.write(_rds, _output_handle, \"fasta\")"
   ]
  },
  {
   "cell_type": "markdown",
   "id": "7a7f2467",
   "metadata": {},
   "source": [
    "## select after NDB_630"
   ]
  },
  {
   "cell_type": "code",
   "execution_count": 10,
   "id": "8f5d9eed",
   "metadata": {},
   "outputs": [],
   "source": [
    "split_th = 630\n",
    "\n",
    "ch_2_set1_rds = {_ch:[] for _ch in np.unique(sel_df['color'])}\n",
    "ch_2_set2_rds = {_ch:[] for _ch in np.unique(sel_df['color'])}\n",
    "# loop through NDBs\n",
    "for _ch, _rds in sel_rds.items():\n",
    "    for _rd in _rds:\n",
    "        _ndb_id = int(_rd.id.split('_')[-1])\n",
    "        if _ndb_id > split_th:\n",
    "            ch_2_set1_rds[_ch].append(_rd)\n",
    "        else:\n",
    "            ch_2_set2_rds[_ch].append(_rd)\n",
    "        "
   ]
  },
  {
   "cell_type": "code",
   "execution_count": 14,
   "id": "46622f38",
   "metadata": {},
   "outputs": [
    {
     "name": "stdout",
     "output_type": "stream",
     "text": [
      "\\\\10.245.74.212\\Chromatin_NAS_2\\Chromatin_Libraries\\Readouts\\selected_NDB_sets\\highest_snr_after_630_561.fasta\n",
      "\\\\10.245.74.212\\Chromatin_NAS_2\\Chromatin_Libraries\\Readouts\\selected_NDB_sets\\highest_snr_after_630_647.fasta\n",
      "\\\\10.245.74.212\\Chromatin_NAS_2\\Chromatin_Libraries\\Readouts\\selected_NDB_sets\\highest_snr_after_630_750.fasta\n"
     ]
    }
   ],
   "source": [
    "# save set 1\n",
    "for _ch, _rds in ch_2_set1_rds.items():\n",
    "    _save_filename = os.path.join(save_folder, f\"highest_snr_after_{split_th}_{_ch}.fasta\")\n",
    "    if not os.path.exists(_save_filename):\n",
    "        print(_save_filename)\n",
    "        with open(_save_filename, 'w') as _output_handle:\n",
    "            SeqIO.write(_rds, _output_handle, \"fasta\")"
   ]
  },
  {
   "cell_type": "code",
   "execution_count": 15,
   "id": "3ba84026",
   "metadata": {},
   "outputs": [
    {
     "name": "stdout",
     "output_type": "stream",
     "text": [
      "\\\\10.245.74.212\\Chromatin_NAS_2\\Chromatin_Libraries\\Readouts\\selected_NDB_sets\\highest_snr_before_630_561.fasta\n",
      "\\\\10.245.74.212\\Chromatin_NAS_2\\Chromatin_Libraries\\Readouts\\selected_NDB_sets\\highest_snr_before_630_647.fasta\n",
      "\\\\10.245.74.212\\Chromatin_NAS_2\\Chromatin_Libraries\\Readouts\\selected_NDB_sets\\highest_snr_before_630_750.fasta\n"
     ]
    }
   ],
   "source": [
    "# save set 1\n",
    "for _ch, _rds in ch_2_set2_rds.items():\n",
    "    _save_filename = os.path.join(save_folder, f\"highest_snr_before_{split_th}_{_ch}.fasta\")\n",
    "    if not os.path.exists(_save_filename):\n",
    "        print(_save_filename)\n",
    "        with open(_save_filename, 'w') as _output_handle:\n",
    "            SeqIO.write(_rds, _output_handle, \"fasta\")"
   ]
  },
  {
   "cell_type": "code",
   "execution_count": null,
   "id": "9f0f6182",
   "metadata": {},
   "outputs": [],
   "source": []
  }
 ],
 "metadata": {
  "kernelspec": {
   "display_name": "postanalysis",
   "language": "python",
   "name": "postanalysis"
  },
  "language_info": {
   "codemirror_mode": {
    "name": "ipython",
    "version": 3
   },
   "file_extension": ".py",
   "mimetype": "text/x-python",
   "name": "python",
   "nbconvert_exporter": "python",
   "pygments_lexer": "ipython3",
   "version": "3.9.13"
  }
 },
 "nbformat": 4,
 "nbformat_minor": 5
}
